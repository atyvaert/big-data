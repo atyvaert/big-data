{
 "cells": [
  {
   "cell_type": "markdown",
   "id": "a61d1ed3",
   "metadata": {},
   "source": [
    "# Data exploration\n"
   ]
  },
  {
   "cell_type": "markdown",
   "id": "5561bdac",
   "metadata": {},
   "source": [
    "In this first notebook, we will start by exploring the data. This should give us more insights in which features are important when building our model. According to the CRISP-DM model, understanding the data is the first step to extract business value out of it. Before this step, we will also look at the existing literature and define the goal of this study."
   ]
  },
  {
   "cell_type": "markdown",
   "id": "5a8e1964",
   "metadata": {},
   "source": []
  },
  {
   "cell_type": "code",
   "execution_count": null,
   "id": "8ca69ae1",
   "metadata": {},
   "outputs": [],
   "source": []
  },
  {
   "cell_type": "markdown",
   "id": "9fc79d14",
   "metadata": {},
   "source": [
    "## 1) Initialize pyspark and inspect the data"
   ]
  },
  {
   "cell_type": "markdown",
   "id": "38337d6c",
   "metadata": {},
   "source": [
    "#### initialize pyspark"
   ]
  },
  {
   "cell_type": "code",
   "execution_count": 1,
   "id": "ef942e13",
   "metadata": {},
   "outputs": [],
   "source": [
    "import findspark\n",
    "import findspark\n",
    "\n",
    "# initialize findspark with spark directory\n",
    "\n",
    "#ALWAYS HAVE TO BE CHANGED \n",
    "#path = \"/Users/konstantinlazarov/Desktop/Big_Data/PySpark/Week_5/spark\"\n",
    "path = \"/Users/Artur/spark\"\n",
    "findspark.init(path) \n",
    "\n",
    "# import pyspark\n",
    "import pyspark\n",
    "# create spark context\n",
    "sc = pyspark.SparkContext()\n",
    "# create spark session \n",
    "spark = pyspark.sql.SparkSession(sc)"
   ]
  },
  {
   "cell_type": "markdown",
   "id": "9b3a1780",
   "metadata": {},
   "source": []
  },
  {
   "cell_type": "markdown",
   "id": "70f77885",
   "metadata": {},
   "source": [
    "#### Import necessary packages"
   ]
  },
  {
   "cell_type": "code",
   "execution_count": 2,
   "id": "0e5289cc",
   "metadata": {},
   "outputs": [],
   "source": [
    "# select interesting features\n",
    "import pyspark.sql.functions as F\n",
    "import pandas as pd \n",
    "from pyspark.sql.functions import *\n",
    "from pyspark.sql.types import *\n",
    "from datetime import datetime\n",
    "\n",
    "import seaborn as sns\n",
    "import matplotlib.pyplot as plt\n",
    "import numpy as np \n",
    "\n",
    "# import packages\n",
    "import os \n",
    "import pickle\n",
    "\n",
    "import re\n",
    "from datetime import datetime\n",
    "\n",
    "import requests\n",
    "\n",
    "import pytz\n",
    "\n",
    "import pandas as pd\n",
    "import numpy as np\n",
    "\n",
    "import ast\n",
    "\n",
    "import pyspark.sql.functions as F\n",
    "from pyspark.sql.types import *\n",
    "from pyspark.sql.functions import *\n",
    "\n",
    "import matplotlib.pyplot as plt\n",
    "import seaborn as sns"
   ]
  },
  {
   "cell_type": "markdown",
   "id": "ee6eb443",
   "metadata": {},
   "source": [
    "#### Import the twitter data "
   ]
  },
  {
   "cell_type": "code",
   "execution_count": 3,
   "id": "bf95d260",
   "metadata": {},
   "outputs": [],
   "source": [
    "#set this path to your path, for some reason I have an error \n",
    "#reading in all the files\n",
    "import os \n",
    "path_json = \".././../Big_Data_Group_3/data/Topic_vegan/*.json\"\n",
    "\n"
   ]
  },
  {
   "cell_type": "markdown",
   "id": "9a6858bc",
   "metadata": {},
   "source": [
    "#### inspect the data"
   ]
  },
  {
   "cell_type": "code",
   "execution_count": 4,
   "id": "807de8f8",
   "metadata": {},
   "outputs": [],
   "source": [
    "# inspect the files\n",
    "twitter_all = spark.read.option(\"multiline\",\"true\").json(path_json)\n"
   ]
  },
  {
   "cell_type": "code",
   "execution_count": 5,
   "id": "529aa6ea",
   "metadata": {},
   "outputs": [
    {
     "data": {
      "text/plain": [
       "3428559"
      ]
     },
     "execution_count": 5,
     "metadata": {},
     "output_type": "execute_result"
    }
   ],
   "source": [
    "# inspect the number of rows\n",
    "nr_observations = twitter_all.count()\n",
    "nr_observations"
   ]
  },
  {
   "cell_type": "code",
   "execution_count": 6,
   "id": "0353d9e0",
   "metadata": {},
   "outputs": [
    {
     "name": "stdout",
     "output_type": "stream",
     "text": [
      "root\n",
      " |-- contributors: string (nullable = true)\n",
      " |-- coordinates: struct (nullable = true)\n",
      " |    |-- coordinates: array (nullable = true)\n",
      " |    |    |-- element: double (containsNull = true)\n",
      " |    |-- type: string (nullable = true)\n",
      " |-- created_at: string (nullable = true)\n",
      " |-- display_text_range: array (nullable = true)\n",
      " |    |-- element: long (containsNull = true)\n",
      " |-- entities: struct (nullable = true)\n",
      " |    |-- hashtags: array (nullable = true)\n",
      " |    |    |-- element: struct (containsNull = true)\n",
      " |    |    |    |-- indices: array (nullable = true)\n",
      " |    |    |    |    |-- element: long (containsNull = true)\n",
      " |    |    |    |-- text: string (nullable = true)\n",
      " |    |-- media: array (nullable = true)\n",
      " |    |    |-- element: struct (containsNull = true)\n",
      " |    |    |    |-- display_url: string (nullable = true)\n",
      " |    |    |    |-- expanded_url: string (nullable = true)\n",
      " |    |    |    |-- id: long (nullable = true)\n",
      " |    |    |    |-- id_str: string (nullable = true)\n",
      " |    |    |    |-- indices: array (nullable = true)\n",
      " |    |    |    |    |-- element: long (containsNull = true)\n",
      " |    |    |    |-- media_url: string (nullable = true)\n",
      " |    |    |    |-- media_url_https: string (nullable = true)\n",
      " |    |    |    |-- sizes: struct (nullable = true)\n",
      " |    |    |    |    |-- large: struct (nullable = true)\n",
      " |    |    |    |    |    |-- h: long (nullable = true)\n",
      " |    |    |    |    |    |-- resize: string (nullable = true)\n",
      " |    |    |    |    |    |-- w: long (nullable = true)\n",
      " |    |    |    |    |-- medium: struct (nullable = true)\n",
      " |    |    |    |    |    |-- h: long (nullable = true)\n",
      " |    |    |    |    |    |-- resize: string (nullable = true)\n",
      " |    |    |    |    |    |-- w: long (nullable = true)\n",
      " |    |    |    |    |-- small: struct (nullable = true)\n",
      " |    |    |    |    |    |-- h: long (nullable = true)\n",
      " |    |    |    |    |    |-- resize: string (nullable = true)\n",
      " |    |    |    |    |    |-- w: long (nullable = true)\n",
      " |    |    |    |    |-- thumb: struct (nullable = true)\n",
      " |    |    |    |    |    |-- h: long (nullable = true)\n",
      " |    |    |    |    |    |-- resize: string (nullable = true)\n",
      " |    |    |    |    |    |-- w: long (nullable = true)\n",
      " |    |    |    |-- source_status_id: long (nullable = true)\n",
      " |    |    |    |-- source_status_id_str: string (nullable = true)\n",
      " |    |    |    |-- source_user_id: long (nullable = true)\n",
      " |    |    |    |-- source_user_id_str: string (nullable = true)\n",
      " |    |    |    |-- type: string (nullable = true)\n",
      " |    |    |    |-- url: string (nullable = true)\n",
      " |    |-- symbols: array (nullable = true)\n",
      " |    |    |-- element: struct (containsNull = true)\n",
      " |    |    |    |-- indices: array (nullable = true)\n",
      " |    |    |    |    |-- element: long (containsNull = true)\n",
      " |    |    |    |-- text: string (nullable = true)\n",
      " |    |-- urls: array (nullable = true)\n",
      " |    |    |-- element: struct (containsNull = true)\n",
      " |    |    |    |-- display_url: string (nullable = true)\n",
      " |    |    |    |-- expanded_url: string (nullable = true)\n",
      " |    |    |    |-- indices: array (nullable = true)\n",
      " |    |    |    |    |-- element: long (containsNull = true)\n",
      " |    |    |    |-- url: string (nullable = true)\n",
      " |    |-- user_mentions: array (nullable = true)\n",
      " |    |    |-- element: struct (containsNull = true)\n",
      " |    |    |    |-- id: long (nullable = true)\n",
      " |    |    |    |-- id_str: string (nullable = true)\n",
      " |    |    |    |-- indices: array (nullable = true)\n",
      " |    |    |    |    |-- element: long (containsNull = true)\n",
      " |    |    |    |-- name: string (nullable = true)\n",
      " |    |    |    |-- screen_name: string (nullable = true)\n",
      " |-- extended_entities: struct (nullable = true)\n",
      " |    |-- media: array (nullable = true)\n",
      " |    |    |-- element: struct (containsNull = true)\n",
      " |    |    |    |-- additional_media_info: struct (nullable = true)\n",
      " |    |    |    |    |-- call_to_actions: struct (nullable = true)\n",
      " |    |    |    |    |    |-- visit_site: struct (nullable = true)\n",
      " |    |    |    |    |    |    |-- url: string (nullable = true)\n",
      " |    |    |    |    |    |-- watch_now: struct (nullable = true)\n",
      " |    |    |    |    |    |    |-- url: string (nullable = true)\n",
      " |    |    |    |    |-- description: string (nullable = true)\n",
      " |    |    |    |    |-- embeddable: boolean (nullable = true)\n",
      " |    |    |    |    |-- monetizable: boolean (nullable = true)\n",
      " |    |    |    |    |-- source_user: struct (nullable = true)\n",
      " |    |    |    |    |    |-- contributors_enabled: boolean (nullable = true)\n",
      " |    |    |    |    |    |-- created_at: string (nullable = true)\n",
      " |    |    |    |    |    |-- default_profile: boolean (nullable = true)\n",
      " |    |    |    |    |    |-- default_profile_image: boolean (nullable = true)\n",
      " |    |    |    |    |    |-- description: string (nullable = true)\n",
      " |    |    |    |    |    |-- entities: struct (nullable = true)\n",
      " |    |    |    |    |    |    |-- description: struct (nullable = true)\n",
      " |    |    |    |    |    |    |    |-- urls: array (nullable = true)\n",
      " |    |    |    |    |    |    |    |    |-- element: struct (containsNull = true)\n",
      " |    |    |    |    |    |    |    |    |    |-- display_url: string (nullable = true)\n",
      " |    |    |    |    |    |    |    |    |    |-- expanded_url: string (nullable = true)\n",
      " |    |    |    |    |    |    |    |    |    |-- indices: array (nullable = true)\n",
      " |    |    |    |    |    |    |    |    |    |    |-- element: long (containsNull = true)\n",
      " |    |    |    |    |    |    |    |    |    |-- url: string (nullable = true)\n",
      " |    |    |    |    |    |    |-- url: struct (nullable = true)\n",
      " |    |    |    |    |    |    |    |-- urls: array (nullable = true)\n",
      " |    |    |    |    |    |    |    |    |-- element: struct (containsNull = true)\n",
      " |    |    |    |    |    |    |    |    |    |-- display_url: string (nullable = true)\n",
      " |    |    |    |    |    |    |    |    |    |-- expanded_url: string (nullable = true)\n",
      " |    |    |    |    |    |    |    |    |    |-- indices: array (nullable = true)\n",
      " |    |    |    |    |    |    |    |    |    |    |-- element: long (containsNull = true)\n",
      " |    |    |    |    |    |    |    |    |    |-- url: string (nullable = true)\n",
      " |    |    |    |    |    |-- favourites_count: long (nullable = true)\n",
      " |    |    |    |    |    |-- follow_request_sent: boolean (nullable = true)\n",
      " |    |    |    |    |    |-- followers_count: long (nullable = true)\n",
      " |    |    |    |    |    |-- following: boolean (nullable = true)\n",
      " |    |    |    |    |    |-- friends_count: long (nullable = true)\n",
      " |    |    |    |    |    |-- geo_enabled: boolean (nullable = true)\n",
      " |    |    |    |    |    |-- has_extended_profile: boolean (nullable = true)\n",
      " |    |    |    |    |    |-- id: long (nullable = true)\n",
      " |    |    |    |    |    |-- id_str: string (nullable = true)\n",
      " |    |    |    |    |    |-- is_translation_enabled: boolean (nullable = true)\n",
      " |    |    |    |    |    |-- is_translator: boolean (nullable = true)\n",
      " |    |    |    |    |    |-- lang: string (nullable = true)\n",
      " |    |    |    |    |    |-- listed_count: long (nullable = true)\n",
      " |    |    |    |    |    |-- location: string (nullable = true)\n",
      " |    |    |    |    |    |-- name: string (nullable = true)\n",
      " |    |    |    |    |    |-- notifications: boolean (nullable = true)\n",
      " |    |    |    |    |    |-- profile_background_color: string (nullable = true)\n",
      " |    |    |    |    |    |-- profile_background_image_url: string (nullable = true)\n",
      " |    |    |    |    |    |-- profile_background_image_url_https: string (nullable = true)\n",
      " |    |    |    |    |    |-- profile_background_tile: boolean (nullable = true)\n",
      " |    |    |    |    |    |-- profile_banner_url: string (nullable = true)\n",
      " |    |    |    |    |    |-- profile_image_url: string (nullable = true)\n",
      " |    |    |    |    |    |-- profile_image_url_https: string (nullable = true)\n",
      " |    |    |    |    |    |-- profile_link_color: string (nullable = true)\n",
      " |    |    |    |    |    |-- profile_sidebar_border_color: string (nullable = true)\n",
      " |    |    |    |    |    |-- profile_sidebar_fill_color: string (nullable = true)\n",
      " |    |    |    |    |    |-- profile_text_color: string (nullable = true)\n",
      " |    |    |    |    |    |-- profile_use_background_image: boolean (nullable = true)\n",
      " |    |    |    |    |    |-- protected: boolean (nullable = true)\n",
      " |    |    |    |    |    |-- screen_name: string (nullable = true)\n",
      " |    |    |    |    |    |-- statuses_count: long (nullable = true)\n",
      " |    |    |    |    |    |-- time_zone: string (nullable = true)\n",
      " |    |    |    |    |    |-- translator_type: string (nullable = true)\n",
      " |    |    |    |    |    |-- url: string (nullable = true)\n",
      " |    |    |    |    |    |-- utc_offset: string (nullable = true)\n",
      " |    |    |    |    |    |-- verified: boolean (nullable = true)\n",
      " |    |    |    |    |    |-- withheld_in_countries: array (nullable = true)\n",
      " |    |    |    |    |    |    |-- element: string (containsNull = true)\n",
      " |    |    |    |    |-- title: string (nullable = true)\n",
      " |    |    |    |-- display_url: string (nullable = true)\n",
      " |    |    |    |-- expanded_url: string (nullable = true)\n",
      " |    |    |    |-- id: long (nullable = true)\n",
      " |    |    |    |-- id_str: string (nullable = true)\n",
      " |    |    |    |-- indices: array (nullable = true)\n",
      " |    |    |    |    |-- element: long (containsNull = true)\n",
      " |    |    |    |-- media_url: string (nullable = true)\n",
      " |    |    |    |-- media_url_https: string (nullable = true)\n",
      " |    |    |    |-- sizes: struct (nullable = true)\n",
      " |    |    |    |    |-- large: struct (nullable = true)\n",
      " |    |    |    |    |    |-- h: long (nullable = true)\n",
      " |    |    |    |    |    |-- resize: string (nullable = true)\n",
      " |    |    |    |    |    |-- w: long (nullable = true)\n",
      " |    |    |    |    |-- medium: struct (nullable = true)\n",
      " |    |    |    |    |    |-- h: long (nullable = true)\n",
      " |    |    |    |    |    |-- resize: string (nullable = true)\n",
      " |    |    |    |    |    |-- w: long (nullable = true)\n",
      " |    |    |    |    |-- small: struct (nullable = true)\n",
      " |    |    |    |    |    |-- h: long (nullable = true)\n",
      " |    |    |    |    |    |-- resize: string (nullable = true)\n",
      " |    |    |    |    |    |-- w: long (nullable = true)\n",
      " |    |    |    |    |-- thumb: struct (nullable = true)\n",
      " |    |    |    |    |    |-- h: long (nullable = true)\n",
      " |    |    |    |    |    |-- resize: string (nullable = true)\n",
      " |    |    |    |    |    |-- w: long (nullable = true)\n",
      " |    |    |    |-- source_status_id: long (nullable = true)\n",
      " |    |    |    |-- source_status_id_str: string (nullable = true)\n",
      " |    |    |    |-- source_user_id: long (nullable = true)\n",
      " |    |    |    |-- source_user_id_str: string (nullable = true)\n",
      " |    |    |    |-- type: string (nullable = true)\n",
      " |    |    |    |-- url: string (nullable = true)\n",
      " |    |    |    |-- video_info: struct (nullable = true)\n",
      " |    |    |    |    |-- aspect_ratio: array (nullable = true)\n",
      " |    |    |    |    |    |-- element: long (containsNull = true)\n",
      " |    |    |    |    |-- duration_millis: long (nullable = true)\n",
      " |    |    |    |    |-- variants: array (nullable = true)\n",
      " |    |    |    |    |    |-- element: struct (containsNull = true)\n",
      " |    |    |    |    |    |    |-- bitrate: long (nullable = true)\n",
      " |    |    |    |    |    |    |-- content_type: string (nullable = true)\n",
      " |    |    |    |    |    |    |-- url: string (nullable = true)\n",
      " |-- favorite_count: long (nullable = true)\n",
      " |-- favorited: boolean (nullable = true)\n",
      " |-- full_text: string (nullable = true)\n",
      " |-- geo: struct (nullable = true)\n",
      " |    |-- coordinates: array (nullable = true)\n",
      " |    |    |-- element: double (containsNull = true)\n",
      " |    |-- type: string (nullable = true)\n",
      " |-- id: long (nullable = true)\n",
      " |-- id_str: string (nullable = true)\n",
      " |-- in_reply_to_screen_name: string (nullable = true)\n",
      " |-- in_reply_to_status_id: long (nullable = true)\n",
      " |-- in_reply_to_status_id_str: string (nullable = true)\n",
      " |-- in_reply_to_user_id: long (nullable = true)\n",
      " |-- in_reply_to_user_id_str: string (nullable = true)\n",
      " |-- is_quote_status: boolean (nullable = true)\n",
      " |-- lang: string (nullable = true)\n",
      " |-- metadata: struct (nullable = true)\n",
      " |    |-- iso_language_code: string (nullable = true)\n",
      " |    |-- result_type: string (nullable = true)\n",
      " |-- place: struct (nullable = true)\n",
      " |    |-- bounding_box: struct (nullable = true)\n",
      " |    |    |-- coordinates: array (nullable = true)\n",
      " |    |    |    |-- element: array (containsNull = true)\n",
      " |    |    |    |    |-- element: array (containsNull = true)\n",
      " |    |    |    |    |    |-- element: double (containsNull = true)\n",
      " |    |    |-- type: string (nullable = true)\n",
      " |    |-- contained_within: array (nullable = true)\n",
      " |    |    |-- element: string (containsNull = true)\n",
      " |    |-- country: string (nullable = true)\n",
      " |    |-- country_code: string (nullable = true)\n",
      " |    |-- full_name: string (nullable = true)\n",
      " |    |-- id: string (nullable = true)\n",
      " |    |-- name: string (nullable = true)\n",
      " |    |-- place_type: string (nullable = true)\n",
      " |    |-- url: string (nullable = true)\n",
      " |-- possibly_sensitive: boolean (nullable = true)\n",
      " |-- quoted_status: struct (nullable = true)\n",
      " |    |-- contributors: string (nullable = true)\n",
      " |    |-- coordinates: struct (nullable = true)\n",
      " |    |    |-- coordinates: array (nullable = true)\n",
      " |    |    |    |-- element: double (containsNull = true)\n",
      " |    |    |-- type: string (nullable = true)\n",
      " |    |-- created_at: string (nullable = true)\n",
      " |    |-- display_text_range: array (nullable = true)\n",
      " |    |    |-- element: long (containsNull = true)\n",
      " |    |-- entities: struct (nullable = true)\n",
      " |    |    |-- hashtags: array (nullable = true)\n",
      " |    |    |    |-- element: struct (containsNull = true)\n",
      " |    |    |    |    |-- indices: array (nullable = true)\n",
      " |    |    |    |    |    |-- element: long (containsNull = true)\n",
      " |    |    |    |    |-- text: string (nullable = true)\n",
      " |    |    |-- media: array (nullable = true)\n",
      " |    |    |    |-- element: struct (containsNull = true)\n",
      " |    |    |    |    |-- display_url: string (nullable = true)\n",
      " |    |    |    |    |-- expanded_url: string (nullable = true)\n",
      " |    |    |    |    |-- id: long (nullable = true)\n",
      " |    |    |    |    |-- id_str: string (nullable = true)\n",
      " |    |    |    |    |-- indices: array (nullable = true)\n",
      " |    |    |    |    |    |-- element: long (containsNull = true)\n",
      " |    |    |    |    |-- media_url: string (nullable = true)\n",
      " |    |    |    |    |-- media_url_https: string (nullable = true)\n",
      " |    |    |    |    |-- sizes: struct (nullable = true)\n",
      " |    |    |    |    |    |-- large: struct (nullable = true)\n",
      " |    |    |    |    |    |    |-- h: long (nullable = true)\n",
      " |    |    |    |    |    |    |-- resize: string (nullable = true)\n",
      " |    |    |    |    |    |    |-- w: long (nullable = true)\n",
      " |    |    |    |    |    |-- medium: struct (nullable = true)\n",
      " |    |    |    |    |    |    |-- h: long (nullable = true)\n",
      " |    |    |    |    |    |    |-- resize: string (nullable = true)\n",
      " |    |    |    |    |    |    |-- w: long (nullable = true)\n",
      " |    |    |    |    |    |-- small: struct (nullable = true)\n",
      " |    |    |    |    |    |    |-- h: long (nullable = true)\n",
      " |    |    |    |    |    |    |-- resize: string (nullable = true)\n",
      " |    |    |    |    |    |    |-- w: long (nullable = true)\n",
      " |    |    |    |    |    |-- thumb: struct (nullable = true)\n",
      " |    |    |    |    |    |    |-- h: long (nullable = true)\n",
      " |    |    |    |    |    |    |-- resize: string (nullable = true)\n",
      " |    |    |    |    |    |    |-- w: long (nullable = true)\n",
      " |    |    |    |    |-- source_status_id: long (nullable = true)\n",
      " |    |    |    |    |-- source_status_id_str: string (nullable = true)\n",
      " |    |    |    |    |-- source_user_id: long (nullable = true)\n",
      " |    |    |    |    |-- source_user_id_str: string (nullable = true)\n",
      " |    |    |    |    |-- type: string (nullable = true)\n",
      " |    |    |    |    |-- url: string (nullable = true)\n",
      " |    |    |-- symbols: array (nullable = true)\n",
      " |    |    |    |-- element: struct (containsNull = true)\n",
      " |    |    |    |    |-- indices: array (nullable = true)\n",
      " |    |    |    |    |    |-- element: long (containsNull = true)\n",
      " |    |    |    |    |-- text: string (nullable = true)\n",
      " |    |    |-- urls: array (nullable = true)\n",
      " |    |    |    |-- element: struct (containsNull = true)\n",
      " |    |    |    |    |-- display_url: string (nullable = true)\n",
      " |    |    |    |    |-- expanded_url: string (nullable = true)\n",
      " |    |    |    |    |-- indices: array (nullable = true)\n",
      " |    |    |    |    |    |-- element: long (containsNull = true)\n",
      " |    |    |    |    |-- url: string (nullable = true)\n",
      " |    |    |-- user_mentions: array (nullable = true)\n",
      " |    |    |    |-- element: struct (containsNull = true)\n",
      " |    |    |    |    |-- id: long (nullable = true)\n",
      " |    |    |    |    |-- id_str: string (nullable = true)\n",
      " |    |    |    |    |-- indices: array (nullable = true)\n",
      " |    |    |    |    |    |-- element: long (containsNull = true)\n",
      " |    |    |    |    |-- name: string (nullable = true)\n",
      " |    |    |    |    |-- screen_name: string (nullable = true)\n",
      " |    |-- extended_entities: struct (nullable = true)\n",
      " |    |    |-- media: array (nullable = true)\n",
      " |    |    |    |-- element: struct (containsNull = true)\n",
      " |    |    |    |    |-- additional_media_info: struct (nullable = true)\n",
      " |    |    |    |    |    |-- call_to_actions: struct (nullable = true)\n",
      " |    |    |    |    |    |    |-- visit_site: struct (nullable = true)\n",
      " |    |    |    |    |    |    |    |-- url: string (nullable = true)\n",
      " |    |    |    |    |    |    |-- watch_now: struct (nullable = true)\n",
      " |    |    |    |    |    |    |    |-- url: string (nullable = true)\n",
      " |    |    |    |    |    |-- description: string (nullable = true)\n",
      " |    |    |    |    |    |-- embeddable: boolean (nullable = true)\n",
      " |    |    |    |    |    |-- monetizable: boolean (nullable = true)\n",
      " |    |    |    |    |    |-- source_user: struct (nullable = true)\n",
      " |    |    |    |    |    |    |-- contributors_enabled: boolean (nullable = true)\n",
      " |    |    |    |    |    |    |-- created_at: string (nullable = true)\n",
      " |    |    |    |    |    |    |-- default_profile: boolean (nullable = true)\n",
      " |    |    |    |    |    |    |-- default_profile_image: boolean (nullable = true)\n",
      " |    |    |    |    |    |    |-- description: string (nullable = true)\n",
      " |    |    |    |    |    |    |-- entities: struct (nullable = true)\n",
      " |    |    |    |    |    |    |    |-- description: struct (nullable = true)\n",
      " |    |    |    |    |    |    |    |    |-- urls: array (nullable = true)\n",
      " |    |    |    |    |    |    |    |    |    |-- element: struct (containsNull = true)\n",
      " |    |    |    |    |    |    |    |    |    |    |-- display_url: string (nullable = true)\n",
      " |    |    |    |    |    |    |    |    |    |    |-- expanded_url: string (nullable = true)\n",
      " |    |    |    |    |    |    |    |    |    |    |-- indices: array (nullable = true)\n",
      " |    |    |    |    |    |    |    |    |    |    |    |-- element: long (containsNull = true)\n",
      " |    |    |    |    |    |    |    |    |    |    |-- url: string (nullable = true)\n",
      " |    |    |    |    |    |    |    |-- url: struct (nullable = true)\n",
      " |    |    |    |    |    |    |    |    |-- urls: array (nullable = true)\n",
      " |    |    |    |    |    |    |    |    |    |-- element: struct (containsNull = true)\n",
      " |    |    |    |    |    |    |    |    |    |    |-- display_url: string (nullable = true)\n",
      " |    |    |    |    |    |    |    |    |    |    |-- expanded_url: string (nullable = true)\n",
      " |    |    |    |    |    |    |    |    |    |    |-- indices: array (nullable = true)\n",
      " |    |    |    |    |    |    |    |    |    |    |    |-- element: long (containsNull = true)\n",
      " |    |    |    |    |    |    |    |    |    |    |-- url: string (nullable = true)\n",
      " |    |    |    |    |    |    |-- favourites_count: long (nullable = true)\n",
      " |    |    |    |    |    |    |-- follow_request_sent: boolean (nullable = true)\n",
      " |    |    |    |    |    |    |-- followers_count: long (nullable = true)\n",
      " |    |    |    |    |    |    |-- following: boolean (nullable = true)\n",
      " |    |    |    |    |    |    |-- friends_count: long (nullable = true)\n",
      " |    |    |    |    |    |    |-- geo_enabled: boolean (nullable = true)\n",
      " |    |    |    |    |    |    |-- has_extended_profile: boolean (nullable = true)\n",
      " |    |    |    |    |    |    |-- id: long (nullable = true)\n",
      " |    |    |    |    |    |    |-- id_str: string (nullable = true)\n",
      " |    |    |    |    |    |    |-- is_translation_enabled: boolean (nullable = true)\n",
      " |    |    |    |    |    |    |-- is_translator: boolean (nullable = true)\n",
      " |    |    |    |    |    |    |-- lang: string (nullable = true)\n",
      " |    |    |    |    |    |    |-- listed_count: long (nullable = true)\n",
      " |    |    |    |    |    |    |-- location: string (nullable = true)\n",
      " |    |    |    |    |    |    |-- name: string (nullable = true)\n",
      " |    |    |    |    |    |    |-- notifications: boolean (nullable = true)\n",
      " |    |    |    |    |    |    |-- profile_background_color: string (nullable = true)\n",
      " |    |    |    |    |    |    |-- profile_background_image_url: string (nullable = true)\n",
      " |    |    |    |    |    |    |-- profile_background_image_url_https: string (nullable = true)\n",
      " |    |    |    |    |    |    |-- profile_background_tile: boolean (nullable = true)\n",
      " |    |    |    |    |    |    |-- profile_banner_url: string (nullable = true)\n",
      " |    |    |    |    |    |    |-- profile_image_url: string (nullable = true)\n",
      " |    |    |    |    |    |    |-- profile_image_url_https: string (nullable = true)\n",
      " |    |    |    |    |    |    |-- profile_link_color: string (nullable = true)\n",
      " |    |    |    |    |    |    |-- profile_sidebar_border_color: string (nullable = true)\n",
      " |    |    |    |    |    |    |-- profile_sidebar_fill_color: string (nullable = true)\n",
      " |    |    |    |    |    |    |-- profile_text_color: string (nullable = true)\n",
      " |    |    |    |    |    |    |-- profile_use_background_image: boolean (nullable = true)\n",
      " |    |    |    |    |    |    |-- protected: boolean (nullable = true)\n",
      " |    |    |    |    |    |    |-- screen_name: string (nullable = true)\n",
      " |    |    |    |    |    |    |-- statuses_count: long (nullable = true)\n",
      " |    |    |    |    |    |    |-- time_zone: string (nullable = true)\n",
      " |    |    |    |    |    |    |-- translator_type: string (nullable = true)\n",
      " |    |    |    |    |    |    |-- url: string (nullable = true)\n",
      " |    |    |    |    |    |    |-- utc_offset: string (nullable = true)\n",
      " |    |    |    |    |    |    |-- verified: boolean (nullable = true)\n",
      " |    |    |    |    |    |    |-- withheld_in_countries: array (nullable = true)\n",
      " |    |    |    |    |    |    |    |-- element: string (containsNull = true)\n",
      " |    |    |    |    |    |-- title: string (nullable = true)\n",
      " |    |    |    |    |-- display_url: string (nullable = true)\n",
      " |    |    |    |    |-- expanded_url: string (nullable = true)\n",
      " |    |    |    |    |-- id: long (nullable = true)\n",
      " |    |    |    |    |-- id_str: string (nullable = true)\n",
      " |    |    |    |    |-- indices: array (nullable = true)\n",
      " |    |    |    |    |    |-- element: long (containsNull = true)\n",
      " |    |    |    |    |-- media_url: string (nullable = true)\n",
      " |    |    |    |    |-- media_url_https: string (nullable = true)\n",
      " |    |    |    |    |-- sizes: struct (nullable = true)\n",
      " |    |    |    |    |    |-- large: struct (nullable = true)\n",
      " |    |    |    |    |    |    |-- h: long (nullable = true)\n",
      " |    |    |    |    |    |    |-- resize: string (nullable = true)\n",
      " |    |    |    |    |    |    |-- w: long (nullable = true)\n",
      " |    |    |    |    |    |-- medium: struct (nullable = true)\n",
      " |    |    |    |    |    |    |-- h: long (nullable = true)\n",
      " |    |    |    |    |    |    |-- resize: string (nullable = true)\n",
      " |    |    |    |    |    |    |-- w: long (nullable = true)\n",
      " |    |    |    |    |    |-- small: struct (nullable = true)\n",
      " |    |    |    |    |    |    |-- h: long (nullable = true)\n",
      " |    |    |    |    |    |    |-- resize: string (nullable = true)\n",
      " |    |    |    |    |    |    |-- w: long (nullable = true)\n",
      " |    |    |    |    |    |-- thumb: struct (nullable = true)\n",
      " |    |    |    |    |    |    |-- h: long (nullable = true)\n",
      " |    |    |    |    |    |    |-- resize: string (nullable = true)\n",
      " |    |    |    |    |    |    |-- w: long (nullable = true)\n",
      " |    |    |    |    |-- source_status_id: long (nullable = true)\n",
      " |    |    |    |    |-- source_status_id_str: string (nullable = true)\n",
      " |    |    |    |    |-- source_user_id: long (nullable = true)\n",
      " |    |    |    |    |-- source_user_id_str: string (nullable = true)\n",
      " |    |    |    |    |-- type: string (nullable = true)\n",
      " |    |    |    |    |-- url: string (nullable = true)\n",
      " |    |    |    |    |-- video_info: struct (nullable = true)\n",
      " |    |    |    |    |    |-- aspect_ratio: array (nullable = true)\n",
      " |    |    |    |    |    |    |-- element: long (containsNull = true)\n",
      " |    |    |    |    |    |-- duration_millis: long (nullable = true)\n",
      " |    |    |    |    |    |-- variants: array (nullable = true)\n",
      " |    |    |    |    |    |    |-- element: struct (containsNull = true)\n",
      " |    |    |    |    |    |    |    |-- bitrate: long (nullable = true)\n",
      " |    |    |    |    |    |    |    |-- content_type: string (nullable = true)\n",
      " |    |    |    |    |    |    |    |-- url: string (nullable = true)\n",
      " |    |-- favorite_count: long (nullable = true)\n",
      " |    |-- favorited: boolean (nullable = true)\n",
      " |    |-- full_text: string (nullable = true)\n",
      " |    |-- geo: struct (nullable = true)\n",
      " |    |    |-- coordinates: array (nullable = true)\n",
      " |    |    |    |-- element: double (containsNull = true)\n",
      " |    |    |-- type: string (nullable = true)\n",
      " |    |-- id: long (nullable = true)\n",
      " |    |-- id_str: string (nullable = true)\n",
      " |    |-- in_reply_to_screen_name: string (nullable = true)\n",
      " |    |-- in_reply_to_status_id: long (nullable = true)\n",
      " |    |-- in_reply_to_status_id_str: string (nullable = true)\n",
      " |    |-- in_reply_to_user_id: long (nullable = true)\n",
      " |    |-- in_reply_to_user_id_str: string (nullable = true)\n",
      " |    |-- is_quote_status: boolean (nullable = true)\n",
      " |    |-- lang: string (nullable = true)\n",
      " |    |-- metadata: struct (nullable = true)\n",
      " |    |    |-- iso_language_code: string (nullable = true)\n",
      " |    |    |-- result_type: string (nullable = true)\n",
      " |    |-- place: struct (nullable = true)\n",
      " |    |    |-- bounding_box: struct (nullable = true)\n",
      " |    |    |    |-- coordinates: array (nullable = true)\n",
      " |    |    |    |    |-- element: array (containsNull = true)\n",
      " |    |    |    |    |    |-- element: array (containsNull = true)\n",
      " |    |    |    |    |    |    |-- element: double (containsNull = true)\n",
      " |    |    |    |-- type: string (nullable = true)\n",
      " |    |    |-- contained_within: array (nullable = true)\n",
      " |    |    |    |-- element: string (containsNull = true)\n",
      " |    |    |-- country: string (nullable = true)\n",
      " |    |    |-- country_code: string (nullable = true)\n",
      " |    |    |-- full_name: string (nullable = true)\n",
      " |    |    |-- id: string (nullable = true)\n",
      " |    |    |-- name: string (nullable = true)\n",
      " |    |    |-- place_type: string (nullable = true)\n",
      " |    |    |-- url: string (nullable = true)\n",
      " |    |-- possibly_sensitive: boolean (nullable = true)\n",
      " |    |-- quoted_status_id: long (nullable = true)\n",
      " |    |-- quoted_status_id_str: string (nullable = true)\n",
      " |    |-- retweet_count: long (nullable = true)\n",
      " |    |-- retweeted: boolean (nullable = true)\n",
      " |    |-- scopes: struct (nullable = true)\n",
      " |    |    |-- followers: boolean (nullable = true)\n",
      " |    |-- source: string (nullable = true)\n",
      " |    |-- truncated: boolean (nullable = true)\n",
      " |    |-- user: struct (nullable = true)\n",
      " |    |    |-- contributors_enabled: boolean (nullable = true)\n",
      " |    |    |-- created_at: string (nullable = true)\n",
      " |    |    |-- default_profile: boolean (nullable = true)\n",
      " |    |    |-- default_profile_image: boolean (nullable = true)\n",
      " |    |    |-- description: string (nullable = true)\n",
      " |    |    |-- entities: struct (nullable = true)\n",
      " |    |    |    |-- description: struct (nullable = true)\n",
      " |    |    |    |    |-- urls: array (nullable = true)\n",
      " |    |    |    |    |    |-- element: struct (containsNull = true)\n",
      " |    |    |    |    |    |    |-- display_url: string (nullable = true)\n",
      " |    |    |    |    |    |    |-- expanded_url: string (nullable = true)\n",
      " |    |    |    |    |    |    |-- indices: array (nullable = true)\n",
      " |    |    |    |    |    |    |    |-- element: long (containsNull = true)\n",
      " |    |    |    |    |    |    |-- url: string (nullable = true)\n",
      " |    |    |    |-- url: struct (nullable = true)\n",
      " |    |    |    |    |-- urls: array (nullable = true)\n",
      " |    |    |    |    |    |-- element: struct (containsNull = true)\n",
      " |    |    |    |    |    |    |-- display_url: string (nullable = true)\n",
      " |    |    |    |    |    |    |-- expanded_url: string (nullable = true)\n",
      " |    |    |    |    |    |    |-- indices: array (nullable = true)\n",
      " |    |    |    |    |    |    |    |-- element: long (containsNull = true)\n",
      " |    |    |    |    |    |    |-- url: string (nullable = true)\n",
      " |    |    |-- favourites_count: long (nullable = true)\n",
      " |    |    |-- follow_request_sent: boolean (nullable = true)\n",
      " |    |    |-- followers_count: long (nullable = true)\n",
      " |    |    |-- following: boolean (nullable = true)\n",
      " |    |    |-- friends_count: long (nullable = true)\n",
      " |    |    |-- geo_enabled: boolean (nullable = true)\n",
      " |    |    |-- has_extended_profile: boolean (nullable = true)\n",
      " |    |    |-- id: long (nullable = true)\n",
      " |    |    |-- id_str: string (nullable = true)\n",
      " |    |    |-- is_translation_enabled: boolean (nullable = true)\n",
      " |    |    |-- is_translator: boolean (nullable = true)\n",
      " |    |    |-- lang: string (nullable = true)\n",
      " |    |    |-- listed_count: long (nullable = true)\n",
      " |    |    |-- location: string (nullable = true)\n",
      " |    |    |-- name: string (nullable = true)\n",
      " |    |    |-- notifications: boolean (nullable = true)\n",
      " |    |    |-- profile_background_color: string (nullable = true)\n",
      " |    |    |-- profile_background_image_url: string (nullable = true)\n",
      " |    |    |-- profile_background_image_url_https: string (nullable = true)\n",
      " |    |    |-- profile_background_tile: boolean (nullable = true)\n",
      " |    |    |-- profile_banner_url: string (nullable = true)\n",
      " |    |    |-- profile_image_url: string (nullable = true)\n",
      " |    |    |-- profile_image_url_https: string (nullable = true)\n",
      " |    |    |-- profile_link_color: string (nullable = true)\n",
      " |    |    |-- profile_sidebar_border_color: string (nullable = true)\n",
      " |    |    |-- profile_sidebar_fill_color: string (nullable = true)\n",
      " |    |    |-- profile_text_color: string (nullable = true)\n",
      " |    |    |-- profile_use_background_image: boolean (nullable = true)\n",
      " |    |    |-- protected: boolean (nullable = true)\n",
      " |    |    |-- screen_name: string (nullable = true)\n",
      " |    |    |-- statuses_count: long (nullable = true)\n",
      " |    |    |-- time_zone: string (nullable = true)\n",
      " |    |    |-- translator_type: string (nullable = true)\n",
      " |    |    |-- url: string (nullable = true)\n",
      " |    |    |-- utc_offset: string (nullable = true)\n",
      " |    |    |-- verified: boolean (nullable = true)\n",
      " |    |    |-- withheld_in_countries: array (nullable = true)\n",
      " |    |    |    |-- element: string (containsNull = true)\n",
      " |    |-- withheld_in_countries: array (nullable = true)\n",
      " |    |    |-- element: string (containsNull = true)\n",
      " |-- quoted_status_id: long (nullable = true)\n",
      " |-- quoted_status_id_str: string (nullable = true)\n",
      " |-- retweet_count: long (nullable = true)\n",
      " |-- retweeted: boolean (nullable = true)\n",
      " |-- retweeted_status: struct (nullable = true)\n",
      " |    |-- contributors: string (nullable = true)\n",
      " |    |-- coordinates: struct (nullable = true)\n",
      " |    |    |-- coordinates: array (nullable = true)\n",
      " |    |    |    |-- element: double (containsNull = true)\n",
      " |    |    |-- type: string (nullable = true)\n",
      " |    |-- created_at: string (nullable = true)\n",
      " |    |-- display_text_range: array (nullable = true)\n",
      " |    |    |-- element: long (containsNull = true)\n",
      " |    |-- entities: struct (nullable = true)\n",
      " |    |    |-- hashtags: array (nullable = true)\n",
      " |    |    |    |-- element: struct (containsNull = true)\n",
      " |    |    |    |    |-- indices: array (nullable = true)\n",
      " |    |    |    |    |    |-- element: long (containsNull = true)\n",
      " |    |    |    |    |-- text: string (nullable = true)\n",
      " |    |    |-- media: array (nullable = true)\n",
      " |    |    |    |-- element: struct (containsNull = true)\n",
      " |    |    |    |    |-- display_url: string (nullable = true)\n",
      " |    |    |    |    |-- expanded_url: string (nullable = true)\n",
      " |    |    |    |    |-- id: long (nullable = true)\n",
      " |    |    |    |    |-- id_str: string (nullable = true)\n",
      " |    |    |    |    |-- indices: array (nullable = true)\n",
      " |    |    |    |    |    |-- element: long (containsNull = true)\n",
      " |    |    |    |    |-- media_url: string (nullable = true)\n",
      " |    |    |    |    |-- media_url_https: string (nullable = true)\n",
      " |    |    |    |    |-- sizes: struct (nullable = true)\n",
      " |    |    |    |    |    |-- large: struct (nullable = true)\n",
      " |    |    |    |    |    |    |-- h: long (nullable = true)\n",
      " |    |    |    |    |    |    |-- resize: string (nullable = true)\n",
      " |    |    |    |    |    |    |-- w: long (nullable = true)\n",
      " |    |    |    |    |    |-- medium: struct (nullable = true)\n",
      " |    |    |    |    |    |    |-- h: long (nullable = true)\n",
      " |    |    |    |    |    |    |-- resize: string (nullable = true)\n",
      " |    |    |    |    |    |    |-- w: long (nullable = true)\n",
      " |    |    |    |    |    |-- small: struct (nullable = true)\n",
      " |    |    |    |    |    |    |-- h: long (nullable = true)\n",
      " |    |    |    |    |    |    |-- resize: string (nullable = true)\n",
      " |    |    |    |    |    |    |-- w: long (nullable = true)\n",
      " |    |    |    |    |    |-- thumb: struct (nullable = true)\n",
      " |    |    |    |    |    |    |-- h: long (nullable = true)\n",
      " |    |    |    |    |    |    |-- resize: string (nullable = true)\n",
      " |    |    |    |    |    |    |-- w: long (nullable = true)\n",
      " |    |    |    |    |-- source_status_id: long (nullable = true)\n",
      " |    |    |    |    |-- source_status_id_str: string (nullable = true)\n",
      " |    |    |    |    |-- source_user_id: long (nullable = true)\n",
      " |    |    |    |    |-- source_user_id_str: string (nullable = true)\n",
      " |    |    |    |    |-- type: string (nullable = true)\n",
      " |    |    |    |    |-- url: string (nullable = true)\n",
      " |    |    |-- symbols: array (nullable = true)\n",
      " |    |    |    |-- element: struct (containsNull = true)\n",
      " |    |    |    |    |-- indices: array (nullable = true)\n",
      " |    |    |    |    |    |-- element: long (containsNull = true)\n",
      " |    |    |    |    |-- text: string (nullable = true)\n",
      " |    |    |-- urls: array (nullable = true)\n",
      " |    |    |    |-- element: struct (containsNull = true)\n",
      " |    |    |    |    |-- display_url: string (nullable = true)\n",
      " |    |    |    |    |-- expanded_url: string (nullable = true)\n",
      " |    |    |    |    |-- indices: array (nullable = true)\n",
      " |    |    |    |    |    |-- element: long (containsNull = true)\n",
      " |    |    |    |    |-- url: string (nullable = true)\n",
      " |    |    |-- user_mentions: array (nullable = true)\n",
      " |    |    |    |-- element: struct (containsNull = true)\n",
      " |    |    |    |    |-- id: long (nullable = true)\n",
      " |    |    |    |    |-- id_str: string (nullable = true)\n",
      " |    |    |    |    |-- indices: array (nullable = true)\n",
      " |    |    |    |    |    |-- element: long (containsNull = true)\n",
      " |    |    |    |    |-- name: string (nullable = true)\n",
      " |    |    |    |    |-- screen_name: string (nullable = true)\n",
      " |    |-- extended_entities: struct (nullable = true)\n",
      " |    |    |-- media: array (nullable = true)\n",
      " |    |    |    |-- element: struct (containsNull = true)\n",
      " |    |    |    |    |-- additional_media_info: struct (nullable = true)\n",
      " |    |    |    |    |    |-- call_to_actions: struct (nullable = true)\n",
      " |    |    |    |    |    |    |-- visit_site: struct (nullable = true)\n",
      " |    |    |    |    |    |    |    |-- url: string (nullable = true)\n",
      " |    |    |    |    |    |    |-- watch_now: struct (nullable = true)\n",
      " |    |    |    |    |    |    |    |-- url: string (nullable = true)\n",
      " |    |    |    |    |    |-- description: string (nullable = true)\n",
      " |    |    |    |    |    |-- embeddable: boolean (nullable = true)\n",
      " |    |    |    |    |    |-- monetizable: boolean (nullable = true)\n",
      " |    |    |    |    |    |-- source_user: struct (nullable = true)\n",
      " |    |    |    |    |    |    |-- contributors_enabled: boolean (nullable = true)\n",
      " |    |    |    |    |    |    |-- created_at: string (nullable = true)\n",
      " |    |    |    |    |    |    |-- default_profile: boolean (nullable = true)\n",
      " |    |    |    |    |    |    |-- default_profile_image: boolean (nullable = true)\n",
      " |    |    |    |    |    |    |-- description: string (nullable = true)\n",
      " |    |    |    |    |    |    |-- entities: struct (nullable = true)\n",
      " |    |    |    |    |    |    |    |-- description: struct (nullable = true)\n",
      " |    |    |    |    |    |    |    |    |-- urls: array (nullable = true)\n",
      " |    |    |    |    |    |    |    |    |    |-- element: struct (containsNull = true)\n",
      " |    |    |    |    |    |    |    |    |    |    |-- display_url: string (nullable = true)\n",
      " |    |    |    |    |    |    |    |    |    |    |-- expanded_url: string (nullable = true)\n",
      " |    |    |    |    |    |    |    |    |    |    |-- indices: array (nullable = true)\n",
      " |    |    |    |    |    |    |    |    |    |    |    |-- element: long (containsNull = true)\n",
      " |    |    |    |    |    |    |    |    |    |    |-- url: string (nullable = true)\n",
      " |    |    |    |    |    |    |    |-- url: struct (nullable = true)\n",
      " |    |    |    |    |    |    |    |    |-- urls: array (nullable = true)\n",
      " |    |    |    |    |    |    |    |    |    |-- element: struct (containsNull = true)\n",
      " |    |    |    |    |    |    |    |    |    |    |-- display_url: string (nullable = true)\n",
      " |    |    |    |    |    |    |    |    |    |    |-- expanded_url: string (nullable = true)\n",
      " |    |    |    |    |    |    |    |    |    |    |-- indices: array (nullable = true)\n",
      " |    |    |    |    |    |    |    |    |    |    |    |-- element: long (containsNull = true)\n",
      " |    |    |    |    |    |    |    |    |    |    |-- url: string (nullable = true)\n",
      " |    |    |    |    |    |    |-- favourites_count: long (nullable = true)\n",
      " |    |    |    |    |    |    |-- follow_request_sent: boolean (nullable = true)\n",
      " |    |    |    |    |    |    |-- followers_count: long (nullable = true)\n",
      " |    |    |    |    |    |    |-- following: boolean (nullable = true)\n",
      " |    |    |    |    |    |    |-- friends_count: long (nullable = true)\n",
      " |    |    |    |    |    |    |-- geo_enabled: boolean (nullable = true)\n",
      " |    |    |    |    |    |    |-- has_extended_profile: boolean (nullable = true)\n",
      " |    |    |    |    |    |    |-- id: long (nullable = true)\n",
      " |    |    |    |    |    |    |-- id_str: string (nullable = true)\n",
      " |    |    |    |    |    |    |-- is_translation_enabled: boolean (nullable = true)\n",
      " |    |    |    |    |    |    |-- is_translator: boolean (nullable = true)\n",
      " |    |    |    |    |    |    |-- lang: string (nullable = true)\n",
      " |    |    |    |    |    |    |-- listed_count: long (nullable = true)\n",
      " |    |    |    |    |    |    |-- location: string (nullable = true)\n",
      " |    |    |    |    |    |    |-- name: string (nullable = true)\n",
      " |    |    |    |    |    |    |-- notifications: boolean (nullable = true)\n",
      " |    |    |    |    |    |    |-- profile_background_color: string (nullable = true)\n",
      " |    |    |    |    |    |    |-- profile_background_image_url: string (nullable = true)\n",
      " |    |    |    |    |    |    |-- profile_background_image_url_https: string (nullable = true)\n",
      " |    |    |    |    |    |    |-- profile_background_tile: boolean (nullable = true)\n",
      " |    |    |    |    |    |    |-- profile_banner_url: string (nullable = true)\n",
      " |    |    |    |    |    |    |-- profile_image_url: string (nullable = true)\n",
      " |    |    |    |    |    |    |-- profile_image_url_https: string (nullable = true)\n",
      " |    |    |    |    |    |    |-- profile_link_color: string (nullable = true)\n",
      " |    |    |    |    |    |    |-- profile_sidebar_border_color: string (nullable = true)\n",
      " |    |    |    |    |    |    |-- profile_sidebar_fill_color: string (nullable = true)\n",
      " |    |    |    |    |    |    |-- profile_text_color: string (nullable = true)\n",
      " |    |    |    |    |    |    |-- profile_use_background_image: boolean (nullable = true)\n",
      " |    |    |    |    |    |    |-- protected: boolean (nullable = true)\n",
      " |    |    |    |    |    |    |-- screen_name: string (nullable = true)\n",
      " |    |    |    |    |    |    |-- statuses_count: long (nullable = true)\n",
      " |    |    |    |    |    |    |-- time_zone: string (nullable = true)\n",
      " |    |    |    |    |    |    |-- translator_type: string (nullable = true)\n",
      " |    |    |    |    |    |    |-- url: string (nullable = true)\n",
      " |    |    |    |    |    |    |-- utc_offset: string (nullable = true)\n",
      " |    |    |    |    |    |    |-- verified: boolean (nullable = true)\n",
      " |    |    |    |    |    |    |-- withheld_in_countries: array (nullable = true)\n",
      " |    |    |    |    |    |    |    |-- element: string (containsNull = true)\n",
      " |    |    |    |    |    |-- title: string (nullable = true)\n",
      " |    |    |    |    |-- display_url: string (nullable = true)\n",
      " |    |    |    |    |-- expanded_url: string (nullable = true)\n",
      " |    |    |    |    |-- id: long (nullable = true)\n",
      " |    |    |    |    |-- id_str: string (nullable = true)\n",
      " |    |    |    |    |-- indices: array (nullable = true)\n",
      " |    |    |    |    |    |-- element: long (containsNull = true)\n",
      " |    |    |    |    |-- media_url: string (nullable = true)\n",
      " |    |    |    |    |-- media_url_https: string (nullable = true)\n",
      " |    |    |    |    |-- sizes: struct (nullable = true)\n",
      " |    |    |    |    |    |-- large: struct (nullable = true)\n",
      " |    |    |    |    |    |    |-- h: long (nullable = true)\n",
      " |    |    |    |    |    |    |-- resize: string (nullable = true)\n",
      " |    |    |    |    |    |    |-- w: long (nullable = true)\n",
      " |    |    |    |    |    |-- medium: struct (nullable = true)\n",
      " |    |    |    |    |    |    |-- h: long (nullable = true)\n",
      " |    |    |    |    |    |    |-- resize: string (nullable = true)\n",
      " |    |    |    |    |    |    |-- w: long (nullable = true)\n",
      " |    |    |    |    |    |-- small: struct (nullable = true)\n",
      " |    |    |    |    |    |    |-- h: long (nullable = true)\n",
      " |    |    |    |    |    |    |-- resize: string (nullable = true)\n",
      " |    |    |    |    |    |    |-- w: long (nullable = true)\n",
      " |    |    |    |    |    |-- thumb: struct (nullable = true)\n",
      " |    |    |    |    |    |    |-- h: long (nullable = true)\n",
      " |    |    |    |    |    |    |-- resize: string (nullable = true)\n",
      " |    |    |    |    |    |    |-- w: long (nullable = true)\n",
      " |    |    |    |    |-- source_status_id: long (nullable = true)\n",
      " |    |    |    |    |-- source_status_id_str: string (nullable = true)\n",
      " |    |    |    |    |-- source_user_id: long (nullable = true)\n",
      " |    |    |    |    |-- source_user_id_str: string (nullable = true)\n",
      " |    |    |    |    |-- type: string (nullable = true)\n",
      " |    |    |    |    |-- url: string (nullable = true)\n",
      " |    |    |    |    |-- video_info: struct (nullable = true)\n",
      " |    |    |    |    |    |-- aspect_ratio: array (nullable = true)\n",
      " |    |    |    |    |    |    |-- element: long (containsNull = true)\n",
      " |    |    |    |    |    |-- duration_millis: long (nullable = true)\n",
      " |    |    |    |    |    |-- variants: array (nullable = true)\n",
      " |    |    |    |    |    |    |-- element: struct (containsNull = true)\n",
      " |    |    |    |    |    |    |    |-- bitrate: long (nullable = true)\n",
      " |    |    |    |    |    |    |    |-- content_type: string (nullable = true)\n",
      " |    |    |    |    |    |    |    |-- url: string (nullable = true)\n",
      " |    |-- favorite_count: long (nullable = true)\n",
      " |    |-- favorited: boolean (nullable = true)\n",
      " |    |-- full_text: string (nullable = true)\n",
      " |    |-- geo: struct (nullable = true)\n",
      " |    |    |-- coordinates: array (nullable = true)\n",
      " |    |    |    |-- element: double (containsNull = true)\n",
      " |    |    |-- type: string (nullable = true)\n",
      " |    |-- id: long (nullable = true)\n",
      " |    |-- id_str: string (nullable = true)\n",
      " |    |-- in_reply_to_screen_name: string (nullable = true)\n",
      " |    |-- in_reply_to_status_id: long (nullable = true)\n",
      " |    |-- in_reply_to_status_id_str: string (nullable = true)\n",
      " |    |-- in_reply_to_user_id: long (nullable = true)\n",
      " |    |-- in_reply_to_user_id_str: string (nullable = true)\n",
      " |    |-- is_quote_status: boolean (nullable = true)\n",
      " |    |-- lang: string (nullable = true)\n",
      " |    |-- metadata: struct (nullable = true)\n",
      " |    |    |-- iso_language_code: string (nullable = true)\n",
      " |    |    |-- result_type: string (nullable = true)\n",
      " |    |-- place: struct (nullable = true)\n",
      " |    |    |-- bounding_box: struct (nullable = true)\n",
      " |    |    |    |-- coordinates: array (nullable = true)\n",
      " |    |    |    |    |-- element: array (containsNull = true)\n",
      " |    |    |    |    |    |-- element: array (containsNull = true)\n",
      " |    |    |    |    |    |    |-- element: double (containsNull = true)\n",
      " |    |    |    |-- type: string (nullable = true)\n",
      " |    |    |-- contained_within: array (nullable = true)\n",
      " |    |    |    |-- element: string (containsNull = true)\n",
      " |    |    |-- country: string (nullable = true)\n",
      " |    |    |-- country_code: string (nullable = true)\n",
      " |    |    |-- full_name: string (nullable = true)\n",
      " |    |    |-- id: string (nullable = true)\n",
      " |    |    |-- name: string (nullable = true)\n",
      " |    |    |-- place_type: string (nullable = true)\n",
      " |    |    |-- url: string (nullable = true)\n",
      " |    |-- possibly_sensitive: boolean (nullable = true)\n",
      " |    |-- quoted_status: struct (nullable = true)\n",
      " |    |    |-- contributors: string (nullable = true)\n",
      " |    |    |-- coordinates: struct (nullable = true)\n",
      " |    |    |    |-- coordinates: array (nullable = true)\n",
      " |    |    |    |    |-- element: double (containsNull = true)\n",
      " |    |    |    |-- type: string (nullable = true)\n",
      " |    |    |-- created_at: string (nullable = true)\n",
      " |    |    |-- display_text_range: array (nullable = true)\n",
      " |    |    |    |-- element: long (containsNull = true)\n",
      " |    |    |-- entities: struct (nullable = true)\n",
      " |    |    |    |-- hashtags: array (nullable = true)\n",
      " |    |    |    |    |-- element: struct (containsNull = true)\n",
      " |    |    |    |    |    |-- indices: array (nullable = true)\n",
      " |    |    |    |    |    |    |-- element: long (containsNull = true)\n",
      " |    |    |    |    |    |-- text: string (nullable = true)\n",
      " |    |    |    |-- media: array (nullable = true)\n",
      " |    |    |    |    |-- element: struct (containsNull = true)\n",
      " |    |    |    |    |    |-- display_url: string (nullable = true)\n",
      " |    |    |    |    |    |-- expanded_url: string (nullable = true)\n",
      " |    |    |    |    |    |-- id: long (nullable = true)\n",
      " |    |    |    |    |    |-- id_str: string (nullable = true)\n",
      " |    |    |    |    |    |-- indices: array (nullable = true)\n",
      " |    |    |    |    |    |    |-- element: long (containsNull = true)\n",
      " |    |    |    |    |    |-- media_url: string (nullable = true)\n",
      " |    |    |    |    |    |-- media_url_https: string (nullable = true)\n",
      " |    |    |    |    |    |-- sizes: struct (nullable = true)\n",
      " |    |    |    |    |    |    |-- large: struct (nullable = true)\n",
      " |    |    |    |    |    |    |    |-- h: long (nullable = true)\n",
      " |    |    |    |    |    |    |    |-- resize: string (nullable = true)\n",
      " |    |    |    |    |    |    |    |-- w: long (nullable = true)\n",
      " |    |    |    |    |    |    |-- medium: struct (nullable = true)\n",
      " |    |    |    |    |    |    |    |-- h: long (nullable = true)\n",
      " |    |    |    |    |    |    |    |-- resize: string (nullable = true)\n",
      " |    |    |    |    |    |    |    |-- w: long (nullable = true)\n",
      " |    |    |    |    |    |    |-- small: struct (nullable = true)\n",
      " |    |    |    |    |    |    |    |-- h: long (nullable = true)\n",
      " |    |    |    |    |    |    |    |-- resize: string (nullable = true)\n",
      " |    |    |    |    |    |    |    |-- w: long (nullable = true)\n",
      " |    |    |    |    |    |    |-- thumb: struct (nullable = true)\n",
      " |    |    |    |    |    |    |    |-- h: long (nullable = true)\n",
      " |    |    |    |    |    |    |    |-- resize: string (nullable = true)\n",
      " |    |    |    |    |    |    |    |-- w: long (nullable = true)\n",
      " |    |    |    |    |    |-- source_status_id: long (nullable = true)\n",
      " |    |    |    |    |    |-- source_status_id_str: string (nullable = true)\n",
      " |    |    |    |    |    |-- source_user_id: long (nullable = true)\n",
      " |    |    |    |    |    |-- source_user_id_str: string (nullable = true)\n",
      " |    |    |    |    |    |-- type: string (nullable = true)\n",
      " |    |    |    |    |    |-- url: string (nullable = true)\n",
      " |    |    |    |-- symbols: array (nullable = true)\n",
      " |    |    |    |    |-- element: struct (containsNull = true)\n",
      " |    |    |    |    |    |-- indices: array (nullable = true)\n",
      " |    |    |    |    |    |    |-- element: long (containsNull = true)\n",
      " |    |    |    |    |    |-- text: string (nullable = true)\n",
      " |    |    |    |-- urls: array (nullable = true)\n",
      " |    |    |    |    |-- element: struct (containsNull = true)\n",
      " |    |    |    |    |    |-- display_url: string (nullable = true)\n",
      " |    |    |    |    |    |-- expanded_url: string (nullable = true)\n",
      " |    |    |    |    |    |-- indices: array (nullable = true)\n",
      " |    |    |    |    |    |    |-- element: long (containsNull = true)\n",
      " |    |    |    |    |    |-- url: string (nullable = true)\n",
      " |    |    |    |-- user_mentions: array (nullable = true)\n",
      " |    |    |    |    |-- element: struct (containsNull = true)\n",
      " |    |    |    |    |    |-- id: long (nullable = true)\n",
      " |    |    |    |    |    |-- id_str: string (nullable = true)\n",
      " |    |    |    |    |    |-- indices: array (nullable = true)\n",
      " |    |    |    |    |    |    |-- element: long (containsNull = true)\n",
      " |    |    |    |    |    |-- name: string (nullable = true)\n",
      " |    |    |    |    |    |-- screen_name: string (nullable = true)\n",
      " |    |    |-- extended_entities: struct (nullable = true)\n",
      " |    |    |    |-- media: array (nullable = true)\n",
      " |    |    |    |    |-- element: struct (containsNull = true)\n",
      " |    |    |    |    |    |-- additional_media_info: struct (nullable = true)\n",
      " |    |    |    |    |    |    |-- call_to_actions: struct (nullable = true)\n",
      " |    |    |    |    |    |    |    |-- visit_site: struct (nullable = true)\n",
      " |    |    |    |    |    |    |    |    |-- url: string (nullable = true)\n",
      " |    |    |    |    |    |    |    |-- watch_now: struct (nullable = true)\n",
      " |    |    |    |    |    |    |    |    |-- url: string (nullable = true)\n",
      " |    |    |    |    |    |    |-- description: string (nullable = true)\n",
      " |    |    |    |    |    |    |-- embeddable: boolean (nullable = true)\n",
      " |    |    |    |    |    |    |-- monetizable: boolean (nullable = true)\n",
      " |    |    |    |    |    |    |-- source_user: struct (nullable = true)\n",
      " |    |    |    |    |    |    |    |-- contributors_enabled: boolean (nullable = true)\n",
      " |    |    |    |    |    |    |    |-- created_at: string (nullable = true)\n",
      " |    |    |    |    |    |    |    |-- default_profile: boolean (nullable = true)\n",
      " |    |    |    |    |    |    |    |-- default_profile_image: boolean (nullable = true)\n",
      " |    |    |    |    |    |    |    |-- description: string (nullable = true)\n",
      " |    |    |    |    |    |    |    |-- entities: struct (nullable = true)\n",
      " |    |    |    |    |    |    |    |    |-- description: struct (nullable = true)\n",
      " |    |    |    |    |    |    |    |    |    |-- urls: array (nullable = true)\n",
      " |    |    |    |    |    |    |    |    |    |    |-- element: struct (containsNull = true)\n",
      " |    |    |    |    |    |    |    |    |    |    |    |-- display_url: string (nullable = true)\n",
      " |    |    |    |    |    |    |    |    |    |    |    |-- expanded_url: string (nullable = true)\n",
      " |    |    |    |    |    |    |    |    |    |    |    |-- indices: array (nullable = true)\n",
      " |    |    |    |    |    |    |    |    |    |    |    |    |-- element: long (containsNull = true)\n",
      " |    |    |    |    |    |    |    |    |    |    |    |-- url: string (nullable = true)\n",
      " |    |    |    |    |    |    |    |    |-- url: struct (nullable = true)\n",
      " |    |    |    |    |    |    |    |    |    |-- urls: array (nullable = true)\n",
      " |    |    |    |    |    |    |    |    |    |    |-- element: struct (containsNull = true)\n",
      " |    |    |    |    |    |    |    |    |    |    |    |-- display_url: string (nullable = true)\n",
      " |    |    |    |    |    |    |    |    |    |    |    |-- expanded_url: string (nullable = true)\n",
      " |    |    |    |    |    |    |    |    |    |    |    |-- indices: array (nullable = true)\n",
      " |    |    |    |    |    |    |    |    |    |    |    |    |-- element: long (containsNull = true)\n",
      " |    |    |    |    |    |    |    |    |    |    |    |-- url: string (nullable = true)\n",
      " |    |    |    |    |    |    |    |-- favourites_count: long (nullable = true)\n",
      " |    |    |    |    |    |    |    |-- follow_request_sent: boolean (nullable = true)\n",
      " |    |    |    |    |    |    |    |-- followers_count: long (nullable = true)\n",
      " |    |    |    |    |    |    |    |-- following: boolean (nullable = true)\n",
      " |    |    |    |    |    |    |    |-- friends_count: long (nullable = true)\n",
      " |    |    |    |    |    |    |    |-- geo_enabled: boolean (nullable = true)\n",
      " |    |    |    |    |    |    |    |-- has_extended_profile: boolean (nullable = true)\n",
      " |    |    |    |    |    |    |    |-- id: long (nullable = true)\n",
      " |    |    |    |    |    |    |    |-- id_str: string (nullable = true)\n",
      " |    |    |    |    |    |    |    |-- is_translation_enabled: boolean (nullable = true)\n",
      " |    |    |    |    |    |    |    |-- is_translator: boolean (nullable = true)\n",
      " |    |    |    |    |    |    |    |-- lang: string (nullable = true)\n",
      " |    |    |    |    |    |    |    |-- listed_count: long (nullable = true)\n",
      " |    |    |    |    |    |    |    |-- location: string (nullable = true)\n",
      " |    |    |    |    |    |    |    |-- name: string (nullable = true)\n",
      " |    |    |    |    |    |    |    |-- notifications: boolean (nullable = true)\n",
      " |    |    |    |    |    |    |    |-- profile_background_color: string (nullable = true)\n",
      " |    |    |    |    |    |    |    |-- profile_background_image_url: string (nullable = true)\n",
      " |    |    |    |    |    |    |    |-- profile_background_image_url_https: string (nullable = true)\n",
      " |    |    |    |    |    |    |    |-- profile_background_tile: boolean (nullable = true)\n",
      " |    |    |    |    |    |    |    |-- profile_banner_url: string (nullable = true)\n",
      " |    |    |    |    |    |    |    |-- profile_image_url: string (nullable = true)\n",
      " |    |    |    |    |    |    |    |-- profile_image_url_https: string (nullable = true)\n",
      " |    |    |    |    |    |    |    |-- profile_link_color: string (nullable = true)\n",
      " |    |    |    |    |    |    |    |-- profile_sidebar_border_color: string (nullable = true)\n",
      " |    |    |    |    |    |    |    |-- profile_sidebar_fill_color: string (nullable = true)\n",
      " |    |    |    |    |    |    |    |-- profile_text_color: string (nullable = true)\n",
      " |    |    |    |    |    |    |    |-- profile_use_background_image: boolean (nullable = true)\n",
      " |    |    |    |    |    |    |    |-- protected: boolean (nullable = true)\n",
      " |    |    |    |    |    |    |    |-- screen_name: string (nullable = true)\n",
      " |    |    |    |    |    |    |    |-- statuses_count: long (nullable = true)\n",
      " |    |    |    |    |    |    |    |-- time_zone: string (nullable = true)\n",
      " |    |    |    |    |    |    |    |-- translator_type: string (nullable = true)\n",
      " |    |    |    |    |    |    |    |-- url: string (nullable = true)\n",
      " |    |    |    |    |    |    |    |-- utc_offset: string (nullable = true)\n",
      " |    |    |    |    |    |    |    |-- verified: boolean (nullable = true)\n",
      " |    |    |    |    |    |    |    |-- withheld_in_countries: array (nullable = true)\n",
      " |    |    |    |    |    |    |    |    |-- element: string (containsNull = true)\n",
      " |    |    |    |    |    |    |-- title: string (nullable = true)\n",
      " |    |    |    |    |    |-- display_url: string (nullable = true)\n",
      " |    |    |    |    |    |-- expanded_url: string (nullable = true)\n",
      " |    |    |    |    |    |-- id: long (nullable = true)\n",
      " |    |    |    |    |    |-- id_str: string (nullable = true)\n",
      " |    |    |    |    |    |-- indices: array (nullable = true)\n",
      " |    |    |    |    |    |    |-- element: long (containsNull = true)\n",
      " |    |    |    |    |    |-- media_url: string (nullable = true)\n",
      " |    |    |    |    |    |-- media_url_https: string (nullable = true)\n",
      " |    |    |    |    |    |-- sizes: struct (nullable = true)\n",
      " |    |    |    |    |    |    |-- large: struct (nullable = true)\n",
      " |    |    |    |    |    |    |    |-- h: long (nullable = true)\n",
      " |    |    |    |    |    |    |    |-- resize: string (nullable = true)\n",
      " |    |    |    |    |    |    |    |-- w: long (nullable = true)\n",
      " |    |    |    |    |    |    |-- medium: struct (nullable = true)\n",
      " |    |    |    |    |    |    |    |-- h: long (nullable = true)\n",
      " |    |    |    |    |    |    |    |-- resize: string (nullable = true)\n",
      " |    |    |    |    |    |    |    |-- w: long (nullable = true)\n",
      " |    |    |    |    |    |    |-- small: struct (nullable = true)\n",
      " |    |    |    |    |    |    |    |-- h: long (nullable = true)\n",
      " |    |    |    |    |    |    |    |-- resize: string (nullable = true)\n",
      " |    |    |    |    |    |    |    |-- w: long (nullable = true)\n",
      " |    |    |    |    |    |    |-- thumb: struct (nullable = true)\n",
      " |    |    |    |    |    |    |    |-- h: long (nullable = true)\n",
      " |    |    |    |    |    |    |    |-- resize: string (nullable = true)\n",
      " |    |    |    |    |    |    |    |-- w: long (nullable = true)\n",
      " |    |    |    |    |    |-- source_status_id: long (nullable = true)\n",
      " |    |    |    |    |    |-- source_status_id_str: string (nullable = true)\n",
      " |    |    |    |    |    |-- source_user_id: long (nullable = true)\n",
      " |    |    |    |    |    |-- source_user_id_str: string (nullable = true)\n",
      " |    |    |    |    |    |-- type: string (nullable = true)\n",
      " |    |    |    |    |    |-- url: string (nullable = true)\n",
      " |    |    |    |    |    |-- video_info: struct (nullable = true)\n",
      " |    |    |    |    |    |    |-- aspect_ratio: array (nullable = true)\n",
      " |    |    |    |    |    |    |    |-- element: long (containsNull = true)\n",
      " |    |    |    |    |    |    |-- duration_millis: long (nullable = true)\n",
      " |    |    |    |    |    |    |-- variants: array (nullable = true)\n",
      " |    |    |    |    |    |    |    |-- element: struct (containsNull = true)\n",
      " |    |    |    |    |    |    |    |    |-- bitrate: long (nullable = true)\n",
      " |    |    |    |    |    |    |    |    |-- content_type: string (nullable = true)\n",
      " |    |    |    |    |    |    |    |    |-- url: string (nullable = true)\n",
      " |    |    |-- favorite_count: long (nullable = true)\n",
      " |    |    |-- favorited: boolean (nullable = true)\n",
      " |    |    |-- full_text: string (nullable = true)\n",
      " |    |    |-- geo: struct (nullable = true)\n",
      " |    |    |    |-- coordinates: array (nullable = true)\n",
      " |    |    |    |    |-- element: double (containsNull = true)\n",
      " |    |    |    |-- type: string (nullable = true)\n",
      " |    |    |-- id: long (nullable = true)\n",
      " |    |    |-- id_str: string (nullable = true)\n",
      " |    |    |-- in_reply_to_screen_name: string (nullable = true)\n",
      " |    |    |-- in_reply_to_status_id: long (nullable = true)\n",
      " |    |    |-- in_reply_to_status_id_str: string (nullable = true)\n",
      " |    |    |-- in_reply_to_user_id: long (nullable = true)\n",
      " |    |    |-- in_reply_to_user_id_str: string (nullable = true)\n",
      " |    |    |-- is_quote_status: boolean (nullable = true)\n",
      " |    |    |-- lang: string (nullable = true)\n",
      " |    |    |-- metadata: struct (nullable = true)\n",
      " |    |    |    |-- iso_language_code: string (nullable = true)\n",
      " |    |    |    |-- result_type: string (nullable = true)\n",
      " |    |    |-- place: struct (nullable = true)\n",
      " |    |    |    |-- bounding_box: struct (nullable = true)\n",
      " |    |    |    |    |-- coordinates: array (nullable = true)\n",
      " |    |    |    |    |    |-- element: array (containsNull = true)\n",
      " |    |    |    |    |    |    |-- element: array (containsNull = true)\n",
      " |    |    |    |    |    |    |    |-- element: double (containsNull = true)\n",
      " |    |    |    |    |-- type: string (nullable = true)\n",
      " |    |    |    |-- contained_within: array (nullable = true)\n",
      " |    |    |    |    |-- element: string (containsNull = true)\n",
      " |    |    |    |-- country: string (nullable = true)\n",
      " |    |    |    |-- country_code: string (nullable = true)\n",
      " |    |    |    |-- full_name: string (nullable = true)\n",
      " |    |    |    |-- id: string (nullable = true)\n",
      " |    |    |    |-- name: string (nullable = true)\n",
      " |    |    |    |-- place_type: string (nullable = true)\n",
      " |    |    |    |-- url: string (nullable = true)\n",
      " |    |    |-- possibly_sensitive: boolean (nullable = true)\n",
      " |    |    |-- quoted_status_id: long (nullable = true)\n",
      " |    |    |-- quoted_status_id_str: string (nullable = true)\n",
      " |    |    |-- retweet_count: long (nullable = true)\n",
      " |    |    |-- retweeted: boolean (nullable = true)\n",
      " |    |    |-- scopes: struct (nullable = true)\n",
      " |    |    |    |-- followers: boolean (nullable = true)\n",
      " |    |    |-- source: string (nullable = true)\n",
      " |    |    |-- truncated: boolean (nullable = true)\n",
      " |    |    |-- user: struct (nullable = true)\n",
      " |    |    |    |-- contributors_enabled: boolean (nullable = true)\n",
      " |    |    |    |-- created_at: string (nullable = true)\n",
      " |    |    |    |-- default_profile: boolean (nullable = true)\n",
      " |    |    |    |-- default_profile_image: boolean (nullable = true)\n",
      " |    |    |    |-- description: string (nullable = true)\n",
      " |    |    |    |-- entities: struct (nullable = true)\n",
      " |    |    |    |    |-- description: struct (nullable = true)\n",
      " |    |    |    |    |    |-- urls: array (nullable = true)\n",
      " |    |    |    |    |    |    |-- element: struct (containsNull = true)\n",
      " |    |    |    |    |    |    |    |-- display_url: string (nullable = true)\n",
      " |    |    |    |    |    |    |    |-- expanded_url: string (nullable = true)\n",
      " |    |    |    |    |    |    |    |-- indices: array (nullable = true)\n",
      " |    |    |    |    |    |    |    |    |-- element: long (containsNull = true)\n",
      " |    |    |    |    |    |    |    |-- url: string (nullable = true)\n",
      " |    |    |    |    |-- url: struct (nullable = true)\n",
      " |    |    |    |    |    |-- urls: array (nullable = true)\n",
      " |    |    |    |    |    |    |-- element: struct (containsNull = true)\n",
      " |    |    |    |    |    |    |    |-- display_url: string (nullable = true)\n",
      " |    |    |    |    |    |    |    |-- expanded_url: string (nullable = true)\n",
      " |    |    |    |    |    |    |    |-- indices: array (nullable = true)\n",
      " |    |    |    |    |    |    |    |    |-- element: long (containsNull = true)\n",
      " |    |    |    |    |    |    |    |-- url: string (nullable = true)\n",
      " |    |    |    |-- favourites_count: long (nullable = true)\n",
      " |    |    |    |-- follow_request_sent: boolean (nullable = true)\n",
      " |    |    |    |-- followers_count: long (nullable = true)\n",
      " |    |    |    |-- following: boolean (nullable = true)\n",
      " |    |    |    |-- friends_count: long (nullable = true)\n",
      " |    |    |    |-- geo_enabled: boolean (nullable = true)\n",
      " |    |    |    |-- has_extended_profile: boolean (nullable = true)\n",
      " |    |    |    |-- id: long (nullable = true)\n",
      " |    |    |    |-- id_str: string (nullable = true)\n",
      " |    |    |    |-- is_translation_enabled: boolean (nullable = true)\n",
      " |    |    |    |-- is_translator: boolean (nullable = true)\n",
      " |    |    |    |-- lang: string (nullable = true)\n",
      " |    |    |    |-- listed_count: long (nullable = true)\n",
      " |    |    |    |-- location: string (nullable = true)\n",
      " |    |    |    |-- name: string (nullable = true)\n",
      " |    |    |    |-- notifications: boolean (nullable = true)\n",
      " |    |    |    |-- profile_background_color: string (nullable = true)\n",
      " |    |    |    |-- profile_background_image_url: string (nullable = true)\n",
      " |    |    |    |-- profile_background_image_url_https: string (nullable = true)\n",
      " |    |    |    |-- profile_background_tile: boolean (nullable = true)\n",
      " |    |    |    |-- profile_banner_url: string (nullable = true)\n",
      " |    |    |    |-- profile_image_url: string (nullable = true)\n",
      " |    |    |    |-- profile_image_url_https: string (nullable = true)\n",
      " |    |    |    |-- profile_link_color: string (nullable = true)\n",
      " |    |    |    |-- profile_sidebar_border_color: string (nullable = true)\n",
      " |    |    |    |-- profile_sidebar_fill_color: string (nullable = true)\n",
      " |    |    |    |-- profile_text_color: string (nullable = true)\n",
      " |    |    |    |-- profile_use_background_image: boolean (nullable = true)\n",
      " |    |    |    |-- protected: boolean (nullable = true)\n",
      " |    |    |    |-- screen_name: string (nullable = true)\n",
      " |    |    |    |-- statuses_count: long (nullable = true)\n",
      " |    |    |    |-- time_zone: string (nullable = true)\n",
      " |    |    |    |-- translator_type: string (nullable = true)\n",
      " |    |    |    |-- url: string (nullable = true)\n",
      " |    |    |    |-- utc_offset: string (nullable = true)\n",
      " |    |    |    |-- verified: boolean (nullable = true)\n",
      " |    |    |    |-- withheld_in_countries: array (nullable = true)\n",
      " |    |    |    |    |-- element: string (containsNull = true)\n",
      " |    |    |-- withheld_in_countries: array (nullable = true)\n",
      " |    |    |    |-- element: string (containsNull = true)\n",
      " |    |-- quoted_status_id: long (nullable = true)\n",
      " |    |-- quoted_status_id_str: string (nullable = true)\n",
      " |    |-- retweet_count: long (nullable = true)\n",
      " |    |-- retweeted: boolean (nullable = true)\n",
      " |    |-- scopes: struct (nullable = true)\n",
      " |    |    |-- followers: boolean (nullable = true)\n",
      " |    |-- source: string (nullable = true)\n",
      " |    |-- truncated: boolean (nullable = true)\n",
      " |    |-- user: struct (nullable = true)\n",
      " |    |    |-- contributors_enabled: boolean (nullable = true)\n",
      " |    |    |-- created_at: string (nullable = true)\n",
      " |    |    |-- default_profile: boolean (nullable = true)\n",
      " |    |    |-- default_profile_image: boolean (nullable = true)\n",
      " |    |    |-- description: string (nullable = true)\n",
      " |    |    |-- entities: struct (nullable = true)\n",
      " |    |    |    |-- description: struct (nullable = true)\n",
      " |    |    |    |    |-- urls: array (nullable = true)\n",
      " |    |    |    |    |    |-- element: struct (containsNull = true)\n",
      " |    |    |    |    |    |    |-- display_url: string (nullable = true)\n",
      " |    |    |    |    |    |    |-- expanded_url: string (nullable = true)\n",
      " |    |    |    |    |    |    |-- indices: array (nullable = true)\n",
      " |    |    |    |    |    |    |    |-- element: long (containsNull = true)\n",
      " |    |    |    |    |    |    |-- url: string (nullable = true)\n",
      " |    |    |    |-- url: struct (nullable = true)\n",
      " |    |    |    |    |-- urls: array (nullable = true)\n",
      " |    |    |    |    |    |-- element: struct (containsNull = true)\n",
      " |    |    |    |    |    |    |-- display_url: string (nullable = true)\n",
      " |    |    |    |    |    |    |-- expanded_url: string (nullable = true)\n",
      " |    |    |    |    |    |    |-- indices: array (nullable = true)\n",
      " |    |    |    |    |    |    |    |-- element: long (containsNull = true)\n",
      " |    |    |    |    |    |    |-- url: string (nullable = true)\n",
      " |    |    |-- favourites_count: long (nullable = true)\n",
      " |    |    |-- follow_request_sent: boolean (nullable = true)\n",
      " |    |    |-- followers_count: long (nullable = true)\n",
      " |    |    |-- following: boolean (nullable = true)\n",
      " |    |    |-- friends_count: long (nullable = true)\n",
      " |    |    |-- geo_enabled: boolean (nullable = true)\n",
      " |    |    |-- has_extended_profile: boolean (nullable = true)\n",
      " |    |    |-- id: long (nullable = true)\n",
      " |    |    |-- id_str: string (nullable = true)\n",
      " |    |    |-- is_translation_enabled: boolean (nullable = true)\n",
      " |    |    |-- is_translator: boolean (nullable = true)\n",
      " |    |    |-- lang: string (nullable = true)\n",
      " |    |    |-- listed_count: long (nullable = true)\n",
      " |    |    |-- location: string (nullable = true)\n",
      " |    |    |-- name: string (nullable = true)\n",
      " |    |    |-- notifications: boolean (nullable = true)\n",
      " |    |    |-- profile_background_color: string (nullable = true)\n",
      " |    |    |-- profile_background_image_url: string (nullable = true)\n",
      " |    |    |-- profile_background_image_url_https: string (nullable = true)\n",
      " |    |    |-- profile_background_tile: boolean (nullable = true)\n",
      " |    |    |-- profile_banner_url: string (nullable = true)\n",
      " |    |    |-- profile_image_url: string (nullable = true)\n",
      " |    |    |-- profile_image_url_https: string (nullable = true)\n",
      " |    |    |-- profile_link_color: string (nullable = true)\n",
      " |    |    |-- profile_sidebar_border_color: string (nullable = true)\n",
      " |    |    |-- profile_sidebar_fill_color: string (nullable = true)\n",
      " |    |    |-- profile_text_color: string (nullable = true)\n",
      " |    |    |-- profile_use_background_image: boolean (nullable = true)\n",
      " |    |    |-- protected: boolean (nullable = true)\n",
      " |    |    |-- screen_name: string (nullable = true)\n",
      " |    |    |-- statuses_count: long (nullable = true)\n",
      " |    |    |-- time_zone: string (nullable = true)\n",
      " |    |    |-- translator_type: string (nullable = true)\n",
      " |    |    |-- url: string (nullable = true)\n",
      " |    |    |-- utc_offset: string (nullable = true)\n",
      " |    |    |-- verified: boolean (nullable = true)\n",
      " |    |    |-- withheld_in_countries: array (nullable = true)\n",
      " |    |    |    |-- element: string (containsNull = true)\n",
      " |    |    |-- withheld_scope: string (nullable = true)\n",
      " |    |-- withheld_copyright: boolean (nullable = true)\n",
      " |    |-- withheld_in_countries: array (nullable = true)\n",
      " |    |    |-- element: string (containsNull = true)\n",
      " |    |-- withheld_scope: string (nullable = true)\n",
      " |-- source: string (nullable = true)\n",
      " |-- truncated: boolean (nullable = true)\n",
      " |-- user: struct (nullable = true)\n",
      " |    |-- contributors_enabled: boolean (nullable = true)\n",
      " |    |-- created_at: string (nullable = true)\n",
      " |    |-- default_profile: boolean (nullable = true)\n",
      " |    |-- default_profile_image: boolean (nullable = true)\n",
      " |    |-- description: string (nullable = true)\n",
      " |    |-- entities: struct (nullable = true)\n",
      " |    |    |-- description: struct (nullable = true)\n",
      " |    |    |    |-- urls: array (nullable = true)\n",
      " |    |    |    |    |-- element: struct (containsNull = true)\n",
      " |    |    |    |    |    |-- display_url: string (nullable = true)\n",
      " |    |    |    |    |    |-- expanded_url: string (nullable = true)\n",
      " |    |    |    |    |    |-- indices: array (nullable = true)\n",
      " |    |    |    |    |    |    |-- element: long (containsNull = true)\n",
      " |    |    |    |    |    |-- url: string (nullable = true)\n",
      " |    |    |-- url: struct (nullable = true)\n",
      " |    |    |    |-- urls: array (nullable = true)\n",
      " |    |    |    |    |-- element: struct (containsNull = true)\n",
      " |    |    |    |    |    |-- display_url: string (nullable = true)\n",
      " |    |    |    |    |    |-- expanded_url: string (nullable = true)\n",
      " |    |    |    |    |    |-- indices: array (nullable = true)\n",
      " |    |    |    |    |    |    |-- element: long (containsNull = true)\n",
      " |    |    |    |    |    |-- url: string (nullable = true)\n",
      " |    |-- favourites_count: long (nullable = true)\n",
      " |    |-- follow_request_sent: boolean (nullable = true)\n",
      " |    |-- followers_count: long (nullable = true)\n",
      " |    |-- following: boolean (nullable = true)\n",
      " |    |-- friends_count: long (nullable = true)\n",
      " |    |-- geo_enabled: boolean (nullable = true)\n",
      " |    |-- has_extended_profile: boolean (nullable = true)\n",
      " |    |-- id: long (nullable = true)\n",
      " |    |-- id_str: string (nullable = true)\n",
      " |    |-- is_translation_enabled: boolean (nullable = true)\n",
      " |    |-- is_translator: boolean (nullable = true)\n",
      " |    |-- lang: string (nullable = true)\n",
      " |    |-- listed_count: long (nullable = true)\n",
      " |    |-- location: string (nullable = true)\n",
      " |    |-- name: string (nullable = true)\n",
      " |    |-- notifications: boolean (nullable = true)\n",
      " |    |-- profile_background_color: string (nullable = true)\n",
      " |    |-- profile_background_image_url: string (nullable = true)\n",
      " |    |-- profile_background_image_url_https: string (nullable = true)\n",
      " |    |-- profile_background_tile: boolean (nullable = true)\n",
      " |    |-- profile_banner_url: string (nullable = true)\n",
      " |    |-- profile_image_url: string (nullable = true)\n",
      " |    |-- profile_image_url_https: string (nullable = true)\n",
      " |    |-- profile_link_color: string (nullable = true)\n",
      " |    |-- profile_sidebar_border_color: string (nullable = true)\n",
      " |    |-- profile_sidebar_fill_color: string (nullable = true)\n",
      " |    |-- profile_text_color: string (nullable = true)\n",
      " |    |-- profile_use_background_image: boolean (nullable = true)\n",
      " |    |-- protected: boolean (nullable = true)\n",
      " |    |-- screen_name: string (nullable = true)\n",
      " |    |-- statuses_count: long (nullable = true)\n",
      " |    |-- time_zone: string (nullable = true)\n",
      " |    |-- translator_type: string (nullable = true)\n",
      " |    |-- url: string (nullable = true)\n",
      " |    |-- utc_offset: string (nullable = true)\n",
      " |    |-- verified: boolean (nullable = true)\n",
      " |    |-- withheld_in_countries: array (nullable = true)\n",
      " |    |    |-- element: string (containsNull = true)\n",
      " |    |-- withheld_scope: string (nullable = true)\n",
      " |-- withheld_copyright: boolean (nullable = true)\n",
      " |-- withheld_in_countries: array (nullable = true)\n",
      " |    |-- element: string (containsNull = true)\n",
      " |-- withheld_scope: string (nullable = true)\n",
      "\n"
     ]
    }
   ],
   "source": [
    "# inspect the structure of the data\n",
    "twitter_all.printSchema()"
   ]
  },
  {
   "cell_type": "code",
   "execution_count": 7,
   "id": "58ed252d",
   "metadata": {},
   "outputs": [],
   "source": [
    "#"
   ]
  },
  {
   "cell_type": "markdown",
   "id": "e979e6e9",
   "metadata": {},
   "source": [
    "## 2) Define the goal of our analysis"
   ]
  },
  {
   "cell_type": "markdown",
   "id": "11b619de",
   "metadata": {},
   "source": [
    "### 2.1 Literature study"
   ]
  },
  {
   "cell_type": "code",
   "execution_count": null,
   "id": "bb63a215",
   "metadata": {},
   "outputs": [],
   "source": []
  },
  {
   "cell_type": "code",
   "execution_count": null,
   "id": "edc348af",
   "metadata": {},
   "outputs": [],
   "source": []
  },
  {
   "cell_type": "code",
   "execution_count": null,
   "id": "72ef61c0",
   "metadata": {},
   "outputs": [],
   "source": []
  },
  {
   "cell_type": "markdown",
   "id": "7bbcd6cd",
   "metadata": {},
   "source": [
    "## 2.2 The goal of our research"
   ]
  },
  {
   "cell_type": "code",
   "execution_count": null,
   "id": "ed0c0db3",
   "metadata": {},
   "outputs": [],
   "source": []
  },
  {
   "cell_type": "code",
   "execution_count": null,
   "id": "11635b1b",
   "metadata": {},
   "outputs": [],
   "source": []
  },
  {
   "cell_type": "code",
   "execution_count": null,
   "id": "36e1e27c",
   "metadata": {},
   "outputs": [],
   "source": []
  },
  {
   "cell_type": "markdown",
   "id": "4cbc0da1",
   "metadata": {},
   "source": [
    "## 3) Inspect the individual variables of the twitter data"
   ]
  },
  {
   "cell_type": "markdown",
   "id": "7a144cc6",
   "metadata": {},
   "source": [
    "We will now look at all the individual variables of the twitter data. This will give us more insights which features will be usefull for further analysis. We will start by analyzing the data about the tweets.\n",
    "\n",
    "we will start with analyzing the 'Tweet Object' data. However, we first want to clarify the structure of the 'Tweet Object' data:\n",
    "\n",
    "The Tweet object has a long list of ‘root-level’ attributes, including fundamental attributes such as id, created_at, and text. Tweet objects are also the ‘parent’ object to several child objects. Tweet child objects include user, entities, and extended_entities. Tweets that are geo-tagged will have a place child object.\n"
   ]
  },
  {
   "cell_type": "markdown",
   "id": "b2d0c7a2",
   "metadata": {},
   "source": [
    "Besides, we also want to look up the explanation of unclear variables in the data dictionary of the twitter developper platform:\n",
    "https://developer.twitter.com/en/docs/twitter-api/v1/data-dictionary/object-model/tweet\n"
   ]
  },
  {
   "cell_type": "markdown",
   "id": "815ce16a",
   "metadata": {},
   "source": [
    "Note: If a lot of null values were present, we increased the number in show() temporarily to 100 to gain more insights into the variable."
   ]
  },
  {
   "cell_type": "code",
   "execution_count": null,
   "id": "79d164d3",
   "metadata": {},
   "outputs": [],
   "source": []
  },
  {
   "cell_type": "markdown",
   "id": "7ce8c0bf",
   "metadata": {},
   "source": [
    "### Contributors"
   ]
  },
  {
   "cell_type": "markdown",
   "id": "c51488c9",
   "metadata": {},
   "source": [
    "As we see that contributors only exists out of null values, we will drop this value. It does not provide any value to our data."
   ]
  },
  {
   "cell_type": "code",
   "execution_count": 8,
   "id": "3a74d795",
   "metadata": {},
   "outputs": [
    {
     "name": "stdout",
     "output_type": "stream",
     "text": [
      "+------------+\n",
      "|contributors|\n",
      "+------------+\n",
      "|        null|\n",
      "|        null|\n",
      "|        null|\n",
      "|        null|\n",
      "|        null|\n",
      "+------------+\n",
      "only showing top 5 rows\n",
      "\n",
      "Percentage of null values: 100.0  %\n"
     ]
    }
   ],
   "source": [
    "# inspect the first rows of the variable\n",
    "twitter_all.select(F.col(\"contributors\")).show(5)\n",
    "\n",
    "# look at the perecentage of null values\n",
    "print(\"Percentage of null values:\", twitter_all.filter(F.col(\"contributors\").isNull()).count()\\\n",
    "        /nr_observations*100, \" %\")\n"
   ]
  },
  {
   "cell_type": "code",
   "execution_count": null,
   "id": "c902a9e6",
   "metadata": {},
   "outputs": [],
   "source": []
  },
  {
   "cell_type": "markdown",
   "id": "dc4e94f3",
   "metadata": {},
   "source": [
    "### Coordinates"
   ]
  },
  {
   "cell_type": "markdown",
   "id": "0a9931bd",
   "metadata": {},
   "source": [
    "Definition: Nullable. Represents the geographic location of this Tweet as reported by the user or client application. The inner coordinates array is formatted as geoJSON (longitude first, then latitude)\n",
    "\n",
    "As we see that coordinates only exists out of null values, we will drop this value. It does not provide any value to our data."
   ]
  },
  {
   "cell_type": "code",
   "execution_count": 9,
   "id": "03ecc394",
   "metadata": {},
   "outputs": [
    {
     "name": "stdout",
     "output_type": "stream",
     "text": [
      "+-----------+\n",
      "|coordinates|\n",
      "+-----------+\n",
      "|       null|\n",
      "|       null|\n",
      "|       null|\n",
      "|       null|\n",
      "|       null|\n",
      "+-----------+\n",
      "only showing top 5 rows\n",
      "\n",
      "Percentage of null values: 99.8574911500721  %\n"
     ]
    }
   ],
   "source": [
    "# inspect the first rows of the variable\n",
    "twitter_all.select(F.col(\"coordinates\")).show(5)\n",
    "\n",
    "# look at the perecentage of null values\n",
    "print(\"Percentage of null values:\", twitter_all.filter(F.col(\"coordinates\").isNull()).count()\\\n",
    "        /nr_observations*100, \" %\")"
   ]
  },
  {
   "cell_type": "markdown",
   "id": "5a9a1ad0",
   "metadata": {},
   "source": [
    "### Created at"
   ]
  },
  {
   "cell_type": "markdown",
   "id": "3568b3a6",
   "metadata": {},
   "source": [
    "Definition: It indicates when a tweet was created.\n",
    "\n",
    "This variable does not contain any null values. This variable will be used for our analysis as it contains usefull information."
   ]
  },
  {
   "cell_type": "code",
   "execution_count": null,
   "id": "344115e0",
   "metadata": {},
   "outputs": [],
   "source": []
  },
  {
   "cell_type": "code",
   "execution_count": 10,
   "id": "d2d6fe0e",
   "metadata": {},
   "outputs": [
    {
     "name": "stdout",
     "output_type": "stream",
     "text": [
      "+------------------------------+\n",
      "|created_at                    |\n",
      "+------------------------------+\n",
      "|Mon Apr 04 10:09:55 +0000 2022|\n",
      "|Mon Apr 04 10:09:54 +0000 2022|\n",
      "|Mon Apr 04 10:09:54 +0000 2022|\n",
      "|Mon Apr 04 10:09:52 +0000 2022|\n",
      "|Mon Apr 04 10:09:52 +0000 2022|\n",
      "+------------------------------+\n",
      "only showing top 5 rows\n",
      "\n",
      "Percentage of null values: 0.0  %\n"
     ]
    }
   ],
   "source": [
    "# inspect the first rows of the variable\n",
    "twitter_all.select(F.col(\"created_at\")).show(5, truncate = False)\n",
    "\n",
    "# look at the perecentage of null values\n",
    "print(\"Percentage of null values:\", twitter_all.filter(F.col(\"created_at\").isNull()).count()\\\n",
    "        /nr_observations*100, \" %\")"
   ]
  },
  {
   "cell_type": "markdown",
   "id": "e1ff0086",
   "metadata": {},
   "source": [
    "### Display text range"
   ]
  },
  {
   "cell_type": "markdown",
   "id": "8a9e3b88",
   "metadata": {},
   "source": [
    "This variable does not contain any null values. It indicates how many characters of the tweet were text and how long this text section was. This variable will be used for our analysis as it contains usefull information."
   ]
  },
  {
   "cell_type": "code",
   "execution_count": 11,
   "id": "3f5493ee",
   "metadata": {},
   "outputs": [
    {
     "name": "stdout",
     "output_type": "stream",
     "text": [
      "+------------------+\n",
      "|display_text_range|\n",
      "+------------------+\n",
      "|          [0, 139]|\n",
      "|          [0, 140]|\n",
      "|          [17, 87]|\n",
      "|          [0, 139]|\n",
      "|          [0, 139]|\n",
      "+------------------+\n",
      "only showing top 5 rows\n",
      "\n",
      "Percentage of null values: 0.0  %\n"
     ]
    }
   ],
   "source": [
    "# inspect the first rows of the variable\n",
    "twitter_all.select(F.col(\"display_text_range\")).show(5)\n",
    "\n",
    "# look at the perecentage of null values\n",
    "print(\"Percentage of null values:\", twitter_all.filter(F.col(\"display_text_range\").isNull()).count()\\\n",
    "        /nr_observations*100, \" %\")"
   ]
  },
  {
   "cell_type": "markdown",
   "id": "a76ff1fd",
   "metadata": {},
   "source": [
    "### Entities"
   ]
  },
  {
   "cell_type": "markdown",
   "id": "09929569",
   "metadata": {},
   "source": [
    "Entities provide metadata and additional contextual information about content posted on Twitter. The entities section provides arrays of common things included in Tweets: hashtags, user mentions, links, stock tickers (symbols), Twitter polls, and attached media. These arrays are convenient for developers when ingesting Tweets, since Twitter has essentially pre-processed, or pre-parsed, the text body. \n",
    "\n",
    "So, for entities we will look at its subvariables:\n",
    "\n",
    "1) Hashtags = Represents hashtags which have been parsed out of the Tweet text.\n",
    "2) Media = Represents media elements uploaded with the Tweet\n",
    "3) Urls = Represents URLs included in the text of a Tweet\n",
    "4) user_mentions = Represents other Twitter users mentioned in the text of the Tweet\n",
    "5) symbols = Represents symbols, i.e. $cashtags, included in the text of the Tweet\n",
    "\n",
    "Each of these variables again exists out of different components. Therefore, we will look at each of these variables individually and discuss the most interesting subcomponents. Variables that are not discussed will be dropped for our analysis as we do not think they have any value.\n"
   ]
  },
  {
   "cell_type": "markdown",
   "id": "1ac72448",
   "metadata": {},
   "source": [
    "#### 1) hashtags"
   ]
  },
  {
   "cell_type": "markdown",
   "id": "ee74af16",
   "metadata": {},
   "source": [
    "The entities section will contain a hashtags array containing an object for every hashtag included in the Tweet body, and include an empty array if no hashtags are present."
   ]
  },
  {
   "cell_type": "markdown",
   "id": "c806d26a",
   "metadata": {},
   "source": [
    "Within hashtags, only the variable text could provide any value. This is the name of the hashtag. We see that around 57% of our tweets have no hashtage present."
   ]
  },
  {
   "cell_type": "code",
   "execution_count": null,
   "id": "868aaeff",
   "metadata": {},
   "outputs": [],
   "source": []
  },
  {
   "cell_type": "code",
   "execution_count": 14,
   "id": "a2653451",
   "metadata": {},
   "outputs": [
    {
     "name": "stdout",
     "output_type": "stream",
     "text": [
      "+----+\n",
      "|text|\n",
      "+----+\n",
      "|  []|\n",
      "|  []|\n",
      "|  []|\n",
      "|  []|\n",
      "|  []|\n",
      "+----+\n",
      "only showing top 5 rows\n",
      "\n",
      "Percentage of null values: 57.50905847033696  %\n"
     ]
    }
   ],
   "source": [
    "# inspect the first rows of the variable\n",
    "twitter_all.select(F.col(\"entities.hashtags.text\")).show(5)\n",
    "\n",
    "# look at the perecentage of null values\n",
    "print(\"Percentage of null values:\", twitter_all.filter(F.col(\"entities.hashtags.text\")== F.array()).count()\\\n",
    "        /nr_observations*100, \" %\")\n",
    "\n"
   ]
  },
  {
   "cell_type": "markdown",
   "id": "85021c0b",
   "metadata": {},
   "source": [
    "#### 2) Media"
   ]
  },
  {
   "cell_type": "markdown",
   "id": "cf7c75c5",
   "metadata": {},
   "source": [
    "The entities section will contain a media array containing a single media object if any media object has been ‘attached’ to the Tweet. If no native media has been attached, there will be no media array in the entities. For the following reasons the extended_entities section should be used to process Tweet native media:\n",
    "+ Media type will always indicate ‘photo’ even in cases of a video and GIF being attached to Tweet.\n",
    "+ Even though up to four photos can be attached, only the first one will be listed in the entities section."
   ]
  },
  {
   "cell_type": "markdown",
   "id": "1e3c2789",
   "metadata": {},
   "source": [
    "NOG AANPASSEN: It could be interesting to see whether or not a media type was used in the tweet and the effect on the reach? I have no idea yet which subvariables to include as the media type is always photo and this was the most interesting one for a predictive model. Check op deze sites de rest: https://developer.twitter.com/en/docs/twitter-api/v1/data-dictionary/object-model/entities\n",
    "\n"
   ]
  },
  {
   "cell_type": "code",
   "execution_count": null,
   "id": "450e229a",
   "metadata": {},
   "outputs": [],
   "source": []
  },
  {
   "cell_type": "code",
   "execution_count": 27,
   "id": "b85e24f4",
   "metadata": {},
   "outputs": [
    {
     "name": "stdout",
     "output_type": "stream",
     "text": [
      "+-----+\n",
      "|media|\n",
      "+-----+\n",
      "| null|\n",
      "| null|\n",
      "| null|\n",
      "| null|\n",
      "| null|\n",
      "+-----+\n",
      "only showing top 5 rows\n",
      "\n",
      "Percentage of null values: 76.36076847445239  %\n"
     ]
    }
   ],
   "source": [
    "# inspect the first rows of the variable\n",
    "twitter_all.select(F.col(\"entities.media\")).show(5)\n",
    "\n",
    "# look at the perecentage of null values\n",
    "print(\"Percentage of null values:\", twitter_all.filter(F.col(\"entities.media\").isNull()).count()\\\n",
    "        /nr_observations*100, \" %\")"
   ]
  },
  {
   "cell_type": "markdown",
   "id": "91923a37",
   "metadata": {},
   "source": [
    "#### 3) Symbols                              "
   ]
  },
  {
   "cell_type": "markdown",
   "id": "c04f27f9",
   "metadata": {},
   "source": [
    "Definition: The entities section will contain a symbols array containing an object for every $cashtag included in the Tweet body, and include an empty array if no symbol is present."
   ]
  },
  {
   "cell_type": "markdown",
   "id": "c4b27e7a",
   "metadata": {},
   "source": [
    "It can be interesting to indicate whether or not symbols were included. However, we again see a lot of null values."
   ]
  },
  {
   "cell_type": "code",
   "execution_count": 54,
   "id": "5d260902",
   "metadata": {},
   "outputs": [
    {
     "name": "stdout",
     "output_type": "stream",
     "text": [
      "+-------+\n",
      "|symbols|\n",
      "+-------+\n",
      "|     []|\n",
      "|     []|\n",
      "|     []|\n",
      "|     []|\n",
      "|     []|\n",
      "+-------+\n",
      "only showing top 5 rows\n",
      "\n",
      "Percentage of null values: 99.68062384226143  %\n"
     ]
    }
   ],
   "source": [
    "# inspect the first rows of the variable\n",
    "twitter_all.select(F.col(\"entities.symbols\")).show(5)\n",
    "\n",
    "# look at the perecentage of null values\n",
    "print(\"Percentage of null values:\", twitter_all.filter(F.col(\"entities.symbols\")== F.array()).count()\\\n",
    "        /nr_observations*100, \" %\")"
   ]
  },
  {
   "cell_type": "code",
   "execution_count": null,
   "id": "8590dc88",
   "metadata": {},
   "outputs": [],
   "source": [
    "\n",
    "\n"
   ]
  },
  {
   "cell_type": "markdown",
   "id": "8e381d94",
   "metadata": {},
   "source": [
    "#### 4) URLS                          "
   ]
  },
  {
   "cell_type": "code",
   "execution_count": null,
   "id": "8bc19582",
   "metadata": {},
   "outputs": [],
   "source": []
  },
  {
   "cell_type": "markdown",
   "id": "38d74963",
   "metadata": {},
   "source": [
    "Definition: The entities section will contain a urls array containing an object for every link included in the Tweet body, and include an empty array if no links are present.\n",
    "\n",
    "Again, we could look if a url was included in the tweet or not. We see that in one 5th of the cases a url was used. I do not think it is usefull to include more specifics of this variable than just the presence of it?"
   ]
  },
  {
   "cell_type": "code",
   "execution_count": 31,
   "id": "089527e8",
   "metadata": {},
   "outputs": [
    {
     "name": "stdout",
     "output_type": "stream",
     "text": [
      "+----+\n",
      "|urls|\n",
      "+----+\n",
      "|  []|\n",
      "|  []|\n",
      "|  []|\n",
      "|  []|\n",
      "|  []|\n",
      "+----+\n",
      "only showing top 5 rows\n",
      "\n",
      "Percentage of null values: 78.05637878770644  %\n"
     ]
    }
   ],
   "source": [
    "# inspect the first rows of the variable\n",
    "twitter_all.select(F.col(\"entities.urls\")).show(5)\n",
    "\n",
    "# look at the perecentage of null values\n",
    "print(\"Percentage of null values:\", twitter_all.filter(F.col(\"entities.urls\")== F.array()).count()\\\n",
    "        /nr_observations*100, \" %\")"
   ]
  },
  {
   "cell_type": "markdown",
   "id": "214fa419",
   "metadata": {},
   "source": [
    "#### 5) User mentions"
   ]
  },
  {
   "cell_type": "markdown",
   "id": "bd7b4975",
   "metadata": {},
   "source": [
    "The entities section will contain a user_mentions array containing an object for every user mention included in the Tweet body, and include an empty array if no user mention is present"
   ]
  },
  {
   "cell_type": "markdown",
   "id": "975b037b",
   "metadata": {},
   "source": [
    "Again, we can look if another user is mentioned or not in the tweet"
   ]
  },
  {
   "cell_type": "code",
   "execution_count": 38,
   "id": "03979ff4",
   "metadata": {},
   "outputs": [
    {
     "name": "stdout",
     "output_type": "stream",
     "text": [
      "+--------------------------------------------------------------------------------+\n",
      "|user_mentions                                                                   |\n",
      "+--------------------------------------------------------------------------------+\n",
      "|[{4886284964, 4886284964, [3, 13], Ohmpawat ( คิดถึงBBS ), ohmpawatt}]          |\n",
      "|[{296107534, 296107534, [3, 17], TRIPLE.N, mynameisnanon}]                      |\n",
      "|[{755329842, 755329842, [0, 16], Trudie Bellamy 💕😻👀👩🏻‍🚀, trudiebakescake}]|\n",
      "|[{4886284964, 4886284964, [3, 13], Ohmpawat ( คิดถึงBBS ), ohmpawatt}]          |\n",
      "|[{4886284964, 4886284964, [3, 13], Ohmpawat ( คิดถึงBBS ), ohmpawatt}]          |\n",
      "+--------------------------------------------------------------------------------+\n",
      "only showing top 5 rows\n",
      "\n",
      "Percentage of null values: 26.13663641197366  %\n"
     ]
    }
   ],
   "source": [
    "# inspect the first rows of the variable\n",
    "twitter_all.select(F.col(\"entities.user_mentions\")).show(5, truncate = False)\n",
    "\n",
    "# look at the perecentage of null values\n",
    "print(\"Percentage of null values:\", twitter_all.filter(F.col(\"entities.user_mentions\")== F.array()).count()\\\n",
    "        /nr_observations*100, \" %\")"
   ]
  },
  {
   "cell_type": "code",
   "execution_count": 53,
   "id": "fd449187",
   "metadata": {},
   "outputs": [
    {
     "name": "stdout",
     "output_type": "stream",
     "text": [
      "+-------------------------+------+\n",
      "|name                     |count |\n",
      "+-------------------------+------+\n",
      "|[]                       |896110|\n",
      "|[E! News]                |28620 |\n",
      "|[🌱 Vegan Animal Lover ⓥ]|27466 |\n",
      "|[Angie KaranⓋ🌱🐾🌻🇺🇦] |27130 |\n",
      "|[ANIMAL ADVOCATE  Ⓥ]     |22022 |\n",
      "+-------------------------+------+\n",
      "only showing top 5 rows\n",
      "\n"
     ]
    }
   ],
   "source": [
    "# Maybe it is an idea to look at how many times a id name is referenced in tweets?\n",
    "# name = name of the referenced user\n",
    "# if you use id you get the id of the referenced user\n",
    "nr_times_referenced = twitter_all.groupBy('entities.user_mentions.name').count()\n",
    "nr_times_referenced.sort(col('count').desc()).show(5, truncate = False)\n",
    "                \n"
   ]
  },
  {
   "cell_type": "code",
   "execution_count": null,
   "id": "db1f180b",
   "metadata": {},
   "outputs": [],
   "source": []
  },
  {
   "cell_type": "markdown",
   "id": "c0a9cb7d",
   "metadata": {},
   "source": [
    "### Extended entities"
   ]
  },
  {
   "cell_type": "markdown",
   "id": "7edb10c1",
   "metadata": {},
   "source": [
    "Use this link for the definitions and extra information:\n",
    "https://developer.twitter.com/en/docs/twitter-api/v1/data-dictionary/object-model/extended-entities"
   ]
  },
  {
   "cell_type": "markdown",
   "id": "58fdfba9",
   "metadata": {},
   "source": [
    "Extra explanation: If a Tweet contains native media (shared with the Tweet user-interface as opposed via a link to elsewhere), there will also be a extended_entities section. When it comes to any native media (photo, video, or GIF), the extended_entities is the preferred metadata source for several reasons. Currently, up to four photos can be attached to a Tweet. The entities metadata will only contain the first photo (until 2014, only one photo could be included), while the extended_entities section will include all attached photos.\n",
    "\n",
    "With native media, another deficiency of the entities.media metadata is that the media type will always indicate ‘photo’, even in cases where the attached media is a video or animated GIF. The actual type of media is specified in the extended_entities.media[].type attribute and is set to either photo, video, or animated_gif. For these reasons, if you are working with native media, the extended_entities metadata is the way to go.\n",
    "\n",
    "We saw around 76.3% of our tweets did not have a media object (empty array for this part). As we look at the defintions provided by twitter, it would be more usefull to examine extended entities when analyzing media data. We see that the number of null values is the same for both variables, which is what we expected."
   ]
  },
  {
   "cell_type": "code",
   "execution_count": 64,
   "id": "576683fa",
   "metadata": {},
   "outputs": [
    {
     "name": "stdout",
     "output_type": "stream",
     "text": [
      "+-----+\n",
      "|media|\n",
      "+-----+\n",
      "|null |\n",
      "|null |\n",
      "|null |\n",
      "|null |\n",
      "|null |\n",
      "+-----+\n",
      "only showing top 5 rows\n",
      "\n",
      "Percentage of null values: 76.36076847445239  %\n"
     ]
    }
   ],
   "source": [
    "# inspect the first rows of the variable\n",
    "twitter_all.select(F.col(\"extended_entities.media\")).show(5, truncate = False)\n",
    "\n",
    "# look at the perecentage of null values\n",
    "print(\"Percentage of null values:\", twitter_all.filter(F.col(\"extended_entities.media\").isNull()).count()\\\n",
    "        /nr_observations*100, \" %\")"
   ]
  },
  {
   "cell_type": "markdown",
   "id": "7addbce3",
   "metadata": {},
   "source": [
    "It is strange that this variable consists out of null values an not empty arrays as mentioned in the structure. However, we will also inspect the media types."
   ]
  },
  {
   "cell_type": "markdown",
   "id": "47e99a54",
   "metadata": {},
   "source": [
    "Now, we will look at the types of the media as this will definitely be interesting to include in our model.\n",
    "\n",
    "We see that it are indeed not only photos as media type. Furthermore, the number of elements in the array also indicate how many media types were added. We can easily add this to the data\n"
   ]
  },
  {
   "cell_type": "code",
   "execution_count": 70,
   "id": "f878f25e",
   "metadata": {},
   "outputs": [
    {
     "name": "stdout",
     "output_type": "stream",
     "text": [
      "+----+\n",
      "|type|\n",
      "+----+\n",
      "|null|\n",
      "|null|\n",
      "|null|\n",
      "|null|\n",
      "|null|\n",
      "+----+\n",
      "only showing top 5 rows\n",
      "\n",
      "Percentage of null values: 76.36076847445239  %\n"
     ]
    }
   ],
   "source": [
    "# inspect the first rows of the variable\n",
    "twitter_all.select(F.col(\"extended_entities.media.type\")).show(5, truncate = False)\n",
    "\n",
    "# look at the perecentage of null values\n",
    "print(\"Percentage of null values:\", twitter_all.filter(F.col(\"extended_entities.media.type\").isNull()).count()\\\n",
    "        /nr_observations*100, \" %\")"
   ]
  },
  {
   "cell_type": "code",
   "execution_count": 79,
   "id": "550fcc56",
   "metadata": {},
   "outputs": [
    {
     "name": "stdout",
     "output_type": "stream",
     "text": [
      "+----------------------------------+\n",
      "|size(extended_entities.media.type)|\n",
      "+----------------------------------+\n",
      "|                                -1|\n",
      "|                                -1|\n",
      "|                                -1|\n",
      "|                                -1|\n",
      "|                                -1|\n",
      "+----------------------------------+\n",
      "only showing top 5 rows\n",
      "\n"
     ]
    }
   ],
   "source": [
    "# look at the number of media elements \n",
    "# problem: -1 als geen array, nog geen tijd hiervoor gehad\n",
    "twitter_all.select(size(F.col(\"extended_entities.media.type\"))).show(5)"
   ]
  },
  {
   "cell_type": "code",
   "execution_count": null,
   "id": "40824474",
   "metadata": {},
   "outputs": [],
   "source": []
  },
  {
   "cell_type": "markdown",
   "id": "d8f9ebaf",
   "metadata": {},
   "source": [
    "### favorite count"
   ]
  },
  {
   "cell_type": "markdown",
   "id": "8993ca01",
   "metadata": {},
   "source": [
    "Nullable. Indicates approximately how many times this Tweet has been liked by Twitter users.\n",
    "\n",
    "Interesting variable for an analysis. However, we notice that most tweets have no likes."
   ]
  },
  {
   "cell_type": "code",
   "execution_count": 85,
   "id": "00347fad",
   "metadata": {},
   "outputs": [
    {
     "name": "stdout",
     "output_type": "stream",
     "text": [
      "+--------------+\n",
      "|favorite_count|\n",
      "+--------------+\n",
      "|             0|\n",
      "|             0|\n",
      "|             0|\n",
      "|             0|\n",
      "|             0|\n",
      "+--------------+\n",
      "only showing top 5 rows\n",
      "\n",
      "Percentage of null values: 78.11229149038998  %\n"
     ]
    }
   ],
   "source": [
    "# inspect the first rows of the variable\n",
    "twitter_all.select(F.col(\"favorite_count\")).show(5)\n",
    "\n",
    "# look at the perecentage of null values\n",
    "print(\"Percentage of null values:\", twitter_all.filter(F.col(\"favorite_count\") ==0).count()\\\n",
    "        /nr_observations*100, \" %\")"
   ]
  },
  {
   "cell_type": "markdown",
   "id": "ae0b2d70",
   "metadata": {},
   "source": [
    "### favorited"
   ]
  },
  {
   "cell_type": "markdown",
   "id": "029254f7",
   "metadata": {},
   "source": [
    "Nullable. Indicates whether this Tweet has been liked by the authenticating user. \n",
    "\n",
    "We will not include this variable as it has only values of the boolean type False."
   ]
  },
  {
   "cell_type": "code",
   "execution_count": 87,
   "id": "a68f5999",
   "metadata": {},
   "outputs": [
    {
     "name": "stdout",
     "output_type": "stream",
     "text": [
      "+---------+\n",
      "|favorited|\n",
      "+---------+\n",
      "|    false|\n",
      "|    false|\n",
      "|    false|\n",
      "|    false|\n",
      "|    false|\n",
      "+---------+\n",
      "only showing top 5 rows\n",
      "\n",
      "Percentage of null values: 100.0  %\n"
     ]
    }
   ],
   "source": [
    "# inspect the first rows of the variable\n",
    "twitter_all.select(F.col(\"favorited\")).show(5)\n",
    "\n",
    "# look at the perecentage of null values\n",
    "print(\"Percentage of null values:\", twitter_all.filter(F.col(\"favorited\") == False).count()\\\n",
    "        /nr_observations*100, \" %\")"
   ]
  },
  {
   "cell_type": "markdown",
   "id": "ac439f73",
   "metadata": {},
   "source": [
    "### full_text"
   ]
  },
  {
   "cell_type": "markdown",
   "id": "350a7aab",
   "metadata": {},
   "source": [
    "This variable speaks for itself. However, it is usefull to notice that some tweets have no text. Some start with the value RT, which probably indicates a retweet."
   ]
  },
  {
   "cell_type": "code",
   "execution_count": 88,
   "id": "825eeece",
   "metadata": {},
   "outputs": [
    {
     "name": "stdout",
     "output_type": "stream",
     "text": [
      "+--------------------+\n",
      "|           full_text|\n",
      "+--------------------+\n",
      "|RT @ohmpawatt: เพ...|\n",
      "|RT @mynameisnanon...|\n",
      "|@trudiebakescake ...|\n",
      "|RT @ohmpawatt: เพ...|\n",
      "|RT @ohmpawatt: เพ...|\n",
      "+--------------------+\n",
      "only showing top 5 rows\n",
      "\n",
      "Percentage of null values: 2.9166772396216602e-05  %\n"
     ]
    }
   ],
   "source": [
    "# inspect the first rows of the variable\n",
    "twitter_all.select(F.col(\"full_text\")).show(5)\n",
    "\n",
    "# look at the perecentage of null values\n",
    "print(\"Percentage of null values:\", twitter_all.filter(F.col(\"full_text\") == False).count()\\\n",
    "        /nr_observations*100, \" %\")"
   ]
  },
  {
   "cell_type": "markdown",
   "id": "00172e94",
   "metadata": {},
   "source": [
    "### geo"
   ]
  },
  {
   "cell_type": "markdown",
   "id": "c3f14d45",
   "metadata": {},
   "source": [
    "Definition: Deprecated. Nullable. Use the coordinates field instead. This deprecated attribute has its coordinates formatted as [lat, long], while all other Tweet geo is formatted as [long, lat].\n",
    "\n",
    "As twitter indicates themselves not to use this variable, we will not use this variable. Besides, it also has an enormous amount of null variables."
   ]
  },
  {
   "cell_type": "code",
   "execution_count": 90,
   "id": "e33efbbc",
   "metadata": {},
   "outputs": [
    {
     "name": "stdout",
     "output_type": "stream",
     "text": [
      "+----+\n",
      "| geo|\n",
      "+----+\n",
      "|null|\n",
      "|null|\n",
      "|null|\n",
      "|null|\n",
      "|null|\n",
      "+----+\n",
      "only showing top 5 rows\n",
      "\n",
      "Percentage of null values: 99.8574911500721  %\n"
     ]
    }
   ],
   "source": [
    "# inspect the first rows of the variable\n",
    "twitter_all.select(F.col(\"geo\")).show(5)\n",
    "\n",
    "# look at the perecentage of null values\n",
    "print(\"Percentage of null values:\", twitter_all.filter(F.col(\"geo\").isNull()).count()\\\n",
    "        /nr_observations*100, \" %\")"
   ]
  },
  {
   "cell_type": "markdown",
   "id": "8bd45805",
   "metadata": {},
   "source": [
    "### id, id_str"
   ]
  },
  {
   "cell_type": "markdown",
   "id": "f4f83918",
   "metadata": {},
   "source": [
    "The integer representation of the unique identifier for this Tweet. This number is greater than 53 bits and some programming languages may have difficulty/silent defects in interpreting it. Using a signed 64 bit integer for storing this identifier is safe. Use id_str to fetch the identifier to be safe.\n",
    "\n",
    "So, we will use the id_str variable to identify tweets."
   ]
  },
  {
   "cell_type": "markdown",
   "id": "43ac4aa7",
   "metadata": {},
   "source": [
    "### in_reply_to_screen_name"
   ]
  },
  {
   "cell_type": "markdown",
   "id": "061b065c",
   "metadata": {},
   "source": [
    "Nullable. If the represented Tweet is a reply, this field will contain the screen name of the original Tweet’s author."
   ]
  },
  {
   "cell_type": "code",
   "execution_count": 96,
   "id": "5e9eb834",
   "metadata": {},
   "outputs": [
    {
     "name": "stdout",
     "output_type": "stream",
     "text": [
      "+-----------------------+\n",
      "|in_reply_to_screen_name|\n",
      "+-----------------------+\n",
      "|                   null|\n",
      "|                   null|\n",
      "|        trudiebakescake|\n",
      "|                   null|\n",
      "|                   null|\n",
      "+-----------------------+\n",
      "only showing top 5 rows\n",
      "\n",
      "Percentage of null values: 84.66705691808133  %\n"
     ]
    }
   ],
   "source": [
    "# inspect the first rows of the variable\n",
    "twitter_all.select(F.col(\"in_reply_to_screen_name\")).show(5)\n",
    "\n",
    "# look at the perecentage of null values\n",
    "print(\"Percentage of null values:\", twitter_all.filter(F.col(\"in_reply_to_screen_name\").isNull()).count()\\\n",
    "        /nr_observations*100, \" %\")"
   ]
  },
  {
   "cell_type": "markdown",
   "id": "4afeeb44",
   "metadata": {},
   "source": [
    "### in_reply_to_status_id, in_reply_to_status_id_str"
   ]
  },
  {
   "cell_type": "markdown",
   "id": "45ecaa79",
   "metadata": {},
   "source": [
    "Nullable. If the represented Tweet is a reply, this field will contain the string representation of the original Tweet’s ID. (the tweet itself)\n",
    "\n",
    "Before, we stated that we will use the string version of the id.\n",
    "\n",
    "We see that around 15% of our tweets are a reply to another tweet."
   ]
  },
  {
   "cell_type": "code",
   "execution_count": 15,
   "id": "e710f185",
   "metadata": {},
   "outputs": [
    {
     "name": "stdout",
     "output_type": "stream",
     "text": [
      "+-------------------------+\n",
      "|in_reply_to_status_id_str|\n",
      "+-------------------------+\n",
      "|                     null|\n",
      "|                     null|\n",
      "|      1510695567747338240|\n",
      "|                     null|\n",
      "|                     null|\n",
      "+-------------------------+\n",
      "only showing top 5 rows\n",
      "\n",
      "Percentage of null values: 85.11123769490331  %\n"
     ]
    }
   ],
   "source": [
    "# inspect the first rows of the variable\n",
    "twitter_all.select(F.col(\"in_reply_to_status_id_str\")).show(5)\n",
    "\n",
    "# look at the perecentage of null values\n",
    "print(\"Percentage of null values:\", twitter_all.filter(F.col(\"in_reply_to_status_id_str\").isNull()).count()\\\n",
    "        /nr_observations*100, \" %\")"
   ]
  },
  {
   "cell_type": "markdown",
   "id": "b6587518",
   "metadata": {},
   "source": [
    "### in_reply_to_user_id, in_reply_to_user_id_str"
   ]
  },
  {
   "cell_type": "markdown",
   "id": "594046bc",
   "metadata": {},
   "source": [
    "Nullable. If the represented Tweet is a reply, this field will contain the string representation of the original Tweet’s author ID. (the author of the tweet)\n",
    "\n",
    "Before, we stated that we will use the string version of the id."
   ]
  },
  {
   "cell_type": "code",
   "execution_count": 16,
   "id": "fc4b67f5",
   "metadata": {},
   "outputs": [
    {
     "name": "stdout",
     "output_type": "stream",
     "text": [
      "+-----------------------+\n",
      "|in_reply_to_user_id_str|\n",
      "+-----------------------+\n",
      "|                   null|\n",
      "|                   null|\n",
      "|              755329842|\n",
      "|                   null|\n",
      "|                   null|\n",
      "+-----------------------+\n",
      "only showing top 5 rows\n",
      "\n",
      "Percentage of null values: 84.66705691808133  %\n"
     ]
    }
   ],
   "source": [
    "# inspect the first rows of the variable\n",
    "twitter_all.select(F.col(\"in_reply_to_user_id_str\")).show(5)\n",
    "\n",
    "# look at the perecentage of null values\n",
    "print(\"Percentage of null values:\", twitter_all.filter(F.col(\"in_reply_to_user_id_str\").isNull()).count()\\\n",
    "        /nr_observations*100, \" %\")"
   ]
  },
  {
   "cell_type": "markdown",
   "id": "40812219",
   "metadata": {},
   "source": [
    "### is_quote_status"
   ]
  },
  {
   "cell_type": "markdown",
   "id": "e55e9d67",
   "metadata": {},
   "source": [
    "Indicates whether this is a Quoted Tweet. \n",
    "\n",
    "We can see that 5.1% of the tweets are quoted."
   ]
  },
  {
   "cell_type": "code",
   "execution_count": 100,
   "id": "9dc548bd",
   "metadata": {},
   "outputs": [
    {
     "name": "stdout",
     "output_type": "stream",
     "text": [
      "+---------------+\n",
      "|is_quote_status|\n",
      "+---------------+\n",
      "|           true|\n",
      "|           true|\n",
      "|          false|\n",
      "|           true|\n",
      "|           true|\n",
      "+---------------+\n",
      "only showing top 5 rows\n",
      "\n",
      "Percentage of quoted tweets: 5.110222691223922  %\n"
     ]
    }
   ],
   "source": [
    "# inspect the first rows of the variable\n",
    "twitter_all.select(F.col(\"is_quote_status\")).show(5)\n",
    "\n",
    "# look at the perecentage of null values\n",
    "print(\"Percentage of quoted tweets:\", twitter_all.filter(F.col(\"is_quote_status\") == True).count()\\\n",
    "        /nr_observations*100, \" %\")"
   ]
  },
  {
   "cell_type": "markdown",
   "id": "5950138d",
   "metadata": {},
   "source": [
    "### lang\n"
   ]
  },
  {
   "cell_type": "markdown",
   "id": "28438d7c",
   "metadata": {},
   "source": [
    "Nullable. When present, indicates a BCP 47 language identifier corresponding to the machine-detected language of the Tweet text, or und if no language could be detected."
   ]
  },
  {
   "cell_type": "code",
   "execution_count": 104,
   "id": "4b4e6ba9",
   "metadata": {},
   "outputs": [
    {
     "name": "stdout",
     "output_type": "stream",
     "text": [
      "+----+\n",
      "|lang|\n",
      "+----+\n",
      "|  th|\n",
      "|  th|\n",
      "|  en|\n",
      "|  th|\n",
      "|  th|\n",
      "+----+\n",
      "only showing top 5 rows\n",
      "\n",
      "Percentage of null values: 3.1184238042862904  %\n"
     ]
    }
   ],
   "source": [
    "# inspect the first rows of the variable\n",
    "twitter_all.select(F.col(\"lang\")).show(5)\n",
    "\n",
    "# look at the perecentage of null values\n",
    "print(\"Percentage of null values:\", twitter_all.filter(F.col(\"lang\") == 'und').count()\\\n",
    "        /nr_observations*100, \" %\")"
   ]
  },
  {
   "cell_type": "markdown",
   "id": "bb39b652",
   "metadata": {},
   "source": [
    "### metadata"
   ]
  },
  {
   "cell_type": "markdown",
   "id": "100311b0",
   "metadata": {},
   "source": [
    "This does not contain any valauble information so it will not be included in our analysis."
   ]
  },
  {
   "cell_type": "code",
   "execution_count": 102,
   "id": "cc0f5773",
   "metadata": {},
   "outputs": [
    {
     "name": "stdout",
     "output_type": "stream",
     "text": [
      "+------------+\n",
      "|    metadata|\n",
      "+------------+\n",
      "|{th, recent}|\n",
      "|{th, recent}|\n",
      "|{en, recent}|\n",
      "|{th, recent}|\n",
      "|{th, recent}|\n",
      "+------------+\n",
      "only showing top 5 rows\n",
      "\n"
     ]
    }
   ],
   "source": [
    "# inspect the first rows of the variable\n",
    "twitter_all.select(F.col(\"metadata\")).show(5)\n"
   ]
  },
  {
   "cell_type": "code",
   "execution_count": null,
   "id": "f70c9e82",
   "metadata": {},
   "outputs": [],
   "source": []
  },
  {
   "cell_type": "markdown",
   "id": "1cc5bfcc",
   "metadata": {},
   "source": [
    "### Place"
   ]
  },
  {
   "cell_type": "markdown",
   "id": "b9ae43a1",
   "metadata": {},
   "source": [
    "Nullable When present, indicates that the tweet is associated (but not necessarily originating from) a Place. This root level attribute also has some subvariables that we will explore so we have more information about the location of our tweets.\n",
    "\n",
    "However, it is clear from the start that also this attribute has a lot of null values."
   ]
  },
  {
   "cell_type": "code",
   "execution_count": 105,
   "id": "937a43b3",
   "metadata": {},
   "outputs": [
    {
     "name": "stdout",
     "output_type": "stream",
     "text": [
      "+-----+\n",
      "|place|\n",
      "+-----+\n",
      "| null|\n",
      "| null|\n",
      "| null|\n",
      "| null|\n",
      "| null|\n",
      "+-----+\n",
      "only showing top 5 rows\n",
      "\n",
      "Percentage of null values: 98.89901267558761  %\n"
     ]
    }
   ],
   "source": [
    "# inspect the first rows of the variable\n",
    "twitter_all.select(F.col(\"place\")).show(5)\n",
    "\n",
    "# look at the perecentage of null values\n",
    "print(\"Percentage of null values:\", twitter_all.filter(F.col(\"place\").isNull()).count()\\\n",
    "        /nr_observations*100, \" %\")"
   ]
  },
  {
   "cell_type": "markdown",
   "id": "5f54ee09",
   "metadata": {},
   "source": [
    "#### 1) coordinates"
   ]
  },
  {
   "cell_type": "markdown",
   "id": "b721b98f",
   "metadata": {},
   "source": [
    "A series of longitude and latitude points, defining a box which will contain the Place entity this bounding box is related to. Each point is an array in the form of [longitude, latitude]. Points are grouped into an array per bounding box."
   ]
  },
  {
   "cell_type": "code",
   "execution_count": 106,
   "id": "39561b1b",
   "metadata": {},
   "outputs": [
    {
     "name": "stdout",
     "output_type": "stream",
     "text": [
      "+-----------+\n",
      "|coordinates|\n",
      "+-----------+\n",
      "|       null|\n",
      "|       null|\n",
      "|       null|\n",
      "|       null|\n",
      "|       null|\n",
      "+-----------+\n",
      "only showing top 5 rows\n",
      "\n",
      "Percentage of null values: 98.89901267558761  %\n"
     ]
    }
   ],
   "source": [
    "# inspect the first rows of the variable\n",
    "twitter_all.select(F.col(\"place.bounding_box.coordinates\")).show(5)\n",
    "\n",
    "# look at the perecentage of null values\n",
    "print(\"Percentage of null values:\", twitter_all.filter(F.col(\"place.bounding_box.coordinates\").isNull()).count()\\\n",
    "        /nr_observations*100, \" %\")"
   ]
  },
  {
   "cell_type": "markdown",
   "id": "b798dde3",
   "metadata": {},
   "source": [
    "#### 2) country"
   ]
  },
  {
   "cell_type": "markdown",
   "id": "a2afdc6e",
   "metadata": {},
   "source": [
    "Name of the country containing this place. For example: United States."
   ]
  },
  {
   "cell_type": "code",
   "execution_count": 20,
   "id": "c1b8b9e8",
   "metadata": {},
   "outputs": [
    {
     "name": "stdout",
     "output_type": "stream",
     "text": [
      "+-------+\n",
      "|country|\n",
      "+-------+\n",
      "|   null|\n",
      "|   null|\n",
      "|   null|\n",
      "|   null|\n",
      "|   null|\n",
      "+-------+\n",
      "only showing top 5 rows\n",
      "\n",
      "Percentage of null values: 98.89901267558761  %\n",
      "+--------------+\n",
      "|       country|\n",
      "+--------------+\n",
      "|         Spain|\n",
      "|       Nigeria|\n",
      "|         Kenya|\n",
      "| United States|\n",
      "|United Kingdom|\n",
      "|United Kingdom|\n",
      "|         Japan|\n",
      "|  South Africa|\n",
      "|United Kingdom|\n",
      "|      Pakistan|\n",
      "+--------------+\n",
      "only showing top 10 rows\n",
      "\n"
     ]
    }
   ],
   "source": [
    "# inspect the first rows of the variable\n",
    "twitter_all.select(F.col(\"place.country\")).show(5)\n",
    "\n",
    "# look at the perecentage of null values\n",
    "print(\"Percentage of null values:\", twitter_all.filter(F.col(\"place.country\").isNull()).count()\\\n",
    "        /nr_observations*100, \" %\")\n",
    "\n",
    "# look at non null values\n",
    "twitter_all.select(F.col(\"place.country\")).filter(F.col(\"place.country\").isNotNull()).show(10)"
   ]
  },
  {
   "cell_type": "markdown",
   "id": "d454cb28",
   "metadata": {},
   "source": [
    "#### 3) place_type"
   ]
  },
  {
   "cell_type": "markdown",
   "id": "f522db62",
   "metadata": {},
   "source": [
    "The type of location represented by this place. For example: 'city'"
   ]
  },
  {
   "cell_type": "code",
   "execution_count": 19,
   "id": "4f4b3861",
   "metadata": {},
   "outputs": [
    {
     "name": "stdout",
     "output_type": "stream",
     "text": [
      "+----------+\n",
      "|place_type|\n",
      "+----------+\n",
      "|      null|\n",
      "|      null|\n",
      "|      null|\n",
      "|      null|\n",
      "|      null|\n",
      "+----------+\n",
      "only showing top 5 rows\n",
      "\n",
      "Percentage of null values: 98.89901267558761  %\n",
      "+----------+\n",
      "|place_type|\n",
      "+----------+\n",
      "|      city|\n",
      "|       poi|\n",
      "|      city|\n",
      "|      city|\n",
      "|      city|\n",
      "|      city|\n",
      "|      city|\n",
      "|      city|\n",
      "|      city|\n",
      "|      city|\n",
      "+----------+\n",
      "only showing top 10 rows\n",
      "\n"
     ]
    }
   ],
   "source": [
    "# inspect the first rows of the variable\n",
    "twitter_all.select(F.col(\"place.place_type\")).show(5)\n",
    "\n",
    "# look at the perecentage of null values\n",
    "print(\"Percentage of null values:\", twitter_all.filter(F.col(\"place.place_type\").isNull()).count()\\\n",
    "        /nr_observations*100, \" %\")\n",
    "\n",
    "# look at non null values\n",
    "twitter_all.select(F.col(\"place.place_type\")).filter(F.col(\"place.place_type\").isNotNull()).show(10)"
   ]
  },
  {
   "cell_type": "markdown",
   "id": "a7fea520",
   "metadata": {},
   "source": [
    "### possibly_sensitive"
   ]
  },
  {
   "cell_type": "markdown",
   "id": "61e622eb",
   "metadata": {},
   "source": [
    "Definition: This field indicates content may be recognized as sensitive. The Tweet author can select within their own account preferences and choose “Mark media you tweet as having material that may be sensitive” so each Tweet created after has this flag set.\n",
    "This may also be judged and labeled by an internal Twitter support agent.\n",
    "\n",
    "We see that only a small percentage of the tweets is indicated as sensitive. We suppose that the null values do not contain sensitive material as well. Otherwise, this would be indicated.\n"
   ]
  },
  {
   "cell_type": "code",
   "execution_count": 23,
   "id": "2d0b5de2",
   "metadata": {},
   "outputs": [
    {
     "name": "stdout",
     "output_type": "stream",
     "text": [
      "+------------------+\n",
      "|possibly_sensitive|\n",
      "+------------------+\n",
      "|              null|\n",
      "|              null|\n",
      "|              null|\n",
      "|              null|\n",
      "|              null|\n",
      "+------------------+\n",
      "only showing top 5 rows\n",
      "\n",
      "Percentage of null values: 61.12407574144123  %\n",
      "Percentage of False values: 37.76577856761397  %\n",
      "Percentage of True values: 1.1101456909447964  %\n"
     ]
    }
   ],
   "source": [
    "# inspect the first rows of the variable\n",
    "twitter_all.select(F.col(\"possibly_sensitive\")).show(5)\n",
    "\n",
    "# look at the perecentage of null values\n",
    "print(\"Percentage of null values:\", twitter_all.filter(F.col(\"possibly_sensitive\").isNull()).count()\\\n",
    "        /nr_observations*100, \" %\")\n",
    "\n",
    "print(\"Percentage of False values:\", twitter_all.filter(F.col(\"possibly_sensitive\") == False).count()\\\n",
    "        /nr_observations*100, \" %\")\n",
    "\n",
    "print(\"Percentage of True values:\", twitter_all.filter(F.col(\"possibly_sensitive\") == True).count()\\\n",
    "        /nr_observations*100, \" %\")"
   ]
  },
  {
   "cell_type": "markdown",
   "id": "dbf33c15",
   "metadata": {},
   "source": [
    "### quoted_status, quoted_status_id, quoted_status_id_str"
   ]
  },
  {
   "cell_type": "markdown",
   "id": "f41d2b53",
   "metadata": {},
   "source": [
    "Definition: This field only surfaces when the Tweet is a quote Tweet. This attribute contains the Tweet object of the original Tweet that was quoted. \n",
    "\n",
    "Before, we saw that around 5% of our tweets were a quoted tweet. So, quoted_status does only contain the Tweet object for about half of them. We think that the most interesting variable for our analysis will be 'is_quote_status' as 'qouted_status' does not contain much interesting information.\n",
    "\n",
    "Therefore, we did also not look at the ids of 'quoted_status'."
   ]
  },
  {
   "cell_type": "code",
   "execution_count": 25,
   "id": "5a010f68",
   "metadata": {},
   "outputs": [
    {
     "name": "stdout",
     "output_type": "stream",
     "text": [
      "+-------------+\n",
      "|quoted_status|\n",
      "+-------------+\n",
      "|         null|\n",
      "|         null|\n",
      "|         null|\n",
      "|         null|\n",
      "|         null|\n",
      "+-------------+\n",
      "only showing top 5 rows\n",
      "\n",
      "Percentage of null values: 97.8707089479866  %\n"
     ]
    }
   ],
   "source": [
    "# inspect the first rows of the variable\n",
    "twitter_all.select(F.col(\"quoted_status\")).show(5)\n",
    "\n",
    "# look at the perecentage of null values\n",
    "print(\"Percentage of null values:\", twitter_all.filter(F.col(\"quoted_status\").isNull()).count()\\\n",
    "        /nr_observations*100, \" %\")"
   ]
  },
  {
   "cell_type": "markdown",
   "id": "55df3a4a",
   "metadata": {},
   "source": [
    "### retweet_count"
   ]
  },
  {
   "cell_type": "markdown",
   "id": "d64edadb",
   "metadata": {},
   "source": [
    "Number of times this Tweet has been retweeted. This variable has no null values, although it is possible that a tweet is not retweeted."
   ]
  },
  {
   "cell_type": "code",
   "execution_count": 28,
   "id": "ea7250a7",
   "metadata": {},
   "outputs": [
    {
     "name": "stdout",
     "output_type": "stream",
     "text": [
      "+-------------+\n",
      "|retweet_count|\n",
      "+-------------+\n",
      "|         3582|\n",
      "|         3837|\n",
      "|            0|\n",
      "|         3582|\n",
      "|         3582|\n",
      "+-------------+\n",
      "only showing top 5 rows\n",
      "\n",
      "Percentage of null values: 0.0  %\n"
     ]
    }
   ],
   "source": [
    "# inspect the first rows of the variable\n",
    "twitter_all.select(F.col(\"retweet_count\")).show(5)\n",
    "\n",
    "# look at the perecentage of null values\n",
    "print(\"Percentage of null values:\", twitter_all.filter(F.col(\"retweet_count\").isNull()).count()\\\n",
    "        /nr_observations*100, \" %\")"
   ]
  },
  {
   "cell_type": "markdown",
   "id": "7c5718cf",
   "metadata": {},
   "source": [
    "### retweeted"
   ]
  },
  {
   "cell_type": "markdown",
   "id": "d4dc0671",
   "metadata": {},
   "source": [
    "Indicates whether this Tweet has been Retweeted by the authenticating user.\n",
    "\n",
    "We see that 100% of the values are False for this variable, hence it does not contain any information for our analysis."
   ]
  },
  {
   "cell_type": "code",
   "execution_count": 30,
   "id": "66767762",
   "metadata": {},
   "outputs": [
    {
     "name": "stdout",
     "output_type": "stream",
     "text": [
      "+---------+\n",
      "|retweeted|\n",
      "+---------+\n",
      "|    false|\n",
      "|    false|\n",
      "|    false|\n",
      "|    false|\n",
      "|    false|\n",
      "+---------+\n",
      "only showing top 5 rows\n",
      "\n",
      "Percentage of null values: 100.0  %\n"
     ]
    }
   ],
   "source": [
    "# inspect the first rows of the variable\n",
    "twitter_all.select(F.col(\"retweeted\")).show(5)\n",
    "\n",
    "# look at the perecentage of null values\n",
    "print(\"Percentage of null values:\", twitter_all.filter(F.col(\"retweeted\")== False).count()\\\n",
    "        /nr_observations*100, \" %\")"
   ]
  },
  {
   "cell_type": "markdown",
   "id": "e57c5e40",
   "metadata": {},
   "source": [
    "### retweeted_status"
   ]
  },
  {
   "cell_type": "markdown",
   "id": "c119be63",
   "metadata": {},
   "source": [
    "Definition: This attribute contains a representation of the original Tweet that was retweeted. Note that retweets of retweets do not show representations of the intermediary retweet, but only the original Tweet. "
   ]
  },
  {
   "cell_type": "code",
   "execution_count": 32,
   "id": "d5a4ac98",
   "metadata": {},
   "outputs": [
    {
     "name": "stdout",
     "output_type": "stream",
     "text": [
      "+--------------------+\n",
      "|    retweeted_status|\n",
      "+--------------------+\n",
      "|{null, null, Mon ...|\n",
      "|{null, null, Mon ...|\n",
      "|                null|\n",
      "|{null, null, Mon ...|\n",
      "|{null, null, Mon ...|\n",
      "+--------------------+\n",
      "only showing top 5 rows\n",
      "\n"
     ]
    }
   ],
   "source": [
    "# inspect the first rows of the variable\n",
    "twitter_all.select(F.col(\"retweeted_status\")).show(5)\n"
   ]
  },
  {
   "cell_type": "markdown",
   "id": "fef9a80f",
   "metadata": {},
   "source": [
    "### source"
   ]
  },
  {
   "cell_type": "markdown",
   "id": "43f42a94",
   "metadata": {},
   "source": [
    "Definition: Utility used to post the Tweet, as an HTML-formatted string. Tweets from the Twitter website have a source value of web.\n",
    "\n",
    "It could be interesting to include the source of the tweet in our analysis."
   ]
  },
  {
   "cell_type": "code",
   "execution_count": 35,
   "id": "09296103",
   "metadata": {},
   "outputs": [
    {
     "name": "stdout",
     "output_type": "stream",
     "text": [
      "+------------------------------------------------------------------------------------+\n",
      "|source                                                                              |\n",
      "+------------------------------------------------------------------------------------+\n",
      "|<a href=\"http://twitter.com/download/android\" rel=\"nofollow\">Twitter for Android</a>|\n",
      "|<a href=\"http://twitter.com/download/iphone\" rel=\"nofollow\">Twitter for iPhone</a>  |\n",
      "|<a href=\"https://mobile.twitter.com\" rel=\"nofollow\">Twitter Web App</a>             |\n",
      "|<a href=\"http://twitter.com/download/iphone\" rel=\"nofollow\">Twitter for iPhone</a>  |\n",
      "|<a href=\"http://twitter.com/download/iphone\" rel=\"nofollow\">Twitter for iPhone</a>  |\n",
      "|<a href=\"http://twitter.com/download/iphone\" rel=\"nofollow\">Twitter for iPhone</a>  |\n",
      "|<a href=\"http://twitter.com/download/android\" rel=\"nofollow\">Twitter for Android</a>|\n",
      "|<a href=\"http://twitter.com/download/iphone\" rel=\"nofollow\">Twitter for iPhone</a>  |\n",
      "|<a href=\"http://twitter.com/download/android\" rel=\"nofollow\">Twitter for Android</a>|\n",
      "|<a href=\"http://twitter.com/download/android\" rel=\"nofollow\">Twitter for Android</a>|\n",
      "+------------------------------------------------------------------------------------+\n",
      "only showing top 10 rows\n",
      "\n",
      "Percentage of null values: 0.0  %\n"
     ]
    }
   ],
   "source": [
    "# inspect the first rows of the variable\n",
    "twitter_all.select(F.col(\"source\")).show(5, truncate = False)\n",
    "\n",
    "# look at the perecentage of null values\n",
    "print(\"Percentage of null values:\", twitter_all.filter(F.col(\"source\").isNull()).count()\\\n",
    "        /nr_observations*100, \" %\")"
   ]
  },
  {
   "cell_type": "markdown",
   "id": "f5a83e9d",
   "metadata": {},
   "source": [
    "### truncated"
   ]
  },
  {
   "cell_type": "markdown",
   "id": "295585e2",
   "metadata": {},
   "source": [
    "Definition: Indicates whether the value of the text parameter was truncated, for example, as a result of a retweet exceeding the original Tweet text length limit of 140 characters. Truncated text will end in ellipsis, like this ... Since Twitter now rejects long Tweets vs truncating them, the large majority of Tweets will have this set to false.\n",
    "\n",
    "This variable does not contain any information as all its values are False."
   ]
  },
  {
   "cell_type": "code",
   "execution_count": 37,
   "id": "5e6d6d54",
   "metadata": {},
   "outputs": [
    {
     "name": "stdout",
     "output_type": "stream",
     "text": [
      "+---------+\n",
      "|truncated|\n",
      "+---------+\n",
      "|false    |\n",
      "|false    |\n",
      "|false    |\n",
      "|false    |\n",
      "|false    |\n",
      "+---------+\n",
      "only showing top 5 rows\n",
      "\n",
      "Percentage of null values: 100.0  %\n"
     ]
    }
   ],
   "source": [
    "# inspect the first rows of the variable\n",
    "twitter_all.select(F.col(\"truncated\")).show(5, truncate = False)\n",
    "\n",
    "# look at the perecentage of null values\n",
    "print(\"Percentage of null values:\", twitter_all.filter(F.col(\"truncated\")== False).count()\\\n",
    "        /nr_observations*100, \" %\")"
   ]
  },
  {
   "cell_type": "markdown",
   "id": "3b4f3f93",
   "metadata": {},
   "source": [
    "### User"
   ]
  },
  {
   "cell_type": "markdown",
   "id": "a48888d2",
   "metadata": {},
   "source": [
    "The User object contains Twitter User account metadata that describes the Twitter User referenced.\n",
    "\n",
    "This variable contains a lot of subvariables, of which we will discuss the most interesting ones."
   ]
  },
  {
   "cell_type": "markdown",
   "id": "e6929ed6",
   "metadata": {},
   "source": [
    "#### 1) created_at"
   ]
  },
  {
   "cell_type": "code",
   "execution_count": null,
   "id": "c7289ec1",
   "metadata": {},
   "outputs": [],
   "source": [
    "The UTC datetime that the user account was created on Twitter."
   ]
  },
  {
   "cell_type": "code",
   "execution_count": 39,
   "id": "586167e9",
   "metadata": {},
   "outputs": [
    {
     "name": "stdout",
     "output_type": "stream",
     "text": [
      "+------------------------------+\n",
      "|created_at                    |\n",
      "+------------------------------+\n",
      "|Tue Apr 23 22:35:59 +0000 2019|\n",
      "|Wed Dec 15 16:27:17 +0000 2021|\n",
      "|Thu May 31 15:53:03 +0000 2012|\n",
      "|Wed Jul 15 19:25:11 +0000 2020|\n",
      "|Wed Dec 15 16:27:17 +0000 2021|\n",
      "+------------------------------+\n",
      "only showing top 5 rows\n",
      "\n",
      "Percentage of null values: 0.0  %\n"
     ]
    }
   ],
   "source": [
    "# inspect the first rows of the variable\n",
    "twitter_all.select(F.col(\"user.created_at\")).show(5, truncate = False)\n",
    "\n",
    "# look at the perecentage of null values\n",
    "print(\"Percentage of null values:\", twitter_all.filter(F.col(\"user.created_at\").isNull()).count()\\\n",
    "        /nr_observations*100, \" %\")"
   ]
  },
  {
   "cell_type": "markdown",
   "id": "7130daf3",
   "metadata": {},
   "source": [
    "#### 2) Default_profile"
   ]
  },
  {
   "cell_type": "markdown",
   "id": "c6701e57",
   "metadata": {},
   "source": [
    "Definition: When true, indicates that the user has not altered the theme or background of their user profile.\n",
    "\n",
    "We see that around 72% of the users have not altered the theme or background of their user profile."
   ]
  },
  {
   "cell_type": "code",
   "execution_count": 40,
   "id": "48227377",
   "metadata": {},
   "outputs": [
    {
     "name": "stdout",
     "output_type": "stream",
     "text": [
      "+---------------+\n",
      "|default_profile|\n",
      "+---------------+\n",
      "|true           |\n",
      "|true           |\n",
      "|true           |\n",
      "|true           |\n",
      "|true           |\n",
      "+---------------+\n",
      "only showing top 5 rows\n",
      "\n",
      "Percentage of default values: 71.93430242851298  %\n"
     ]
    }
   ],
   "source": [
    "# inspect the first rows of the variable\n",
    "twitter_all.select(F.col(\"user.default_profile\")).show(5, truncate = False)\n",
    "\n",
    "# look at the perecentage of null values\n",
    "print(\"Percentage of default values:\", twitter_all.filter(F.col(\"user.default_profile\")== True).count()\\\n",
    "        /nr_observations*100, \" %\")"
   ]
  },
  {
   "cell_type": "markdown",
   "id": "fccdc58c",
   "metadata": {},
   "source": [
    "#### 3) default_profile_image"
   ]
  },
  {
   "cell_type": "markdown",
   "id": "9809670a",
   "metadata": {},
   "source": [
    "When true, indicates that the user has not uploaded their own profile image and a default image is used instead. \n",
    "\n",
    "We see that only 2.7% has not installed a profile image."
   ]
  },
  {
   "cell_type": "code",
   "execution_count": 41,
   "id": "f856b921",
   "metadata": {},
   "outputs": [
    {
     "name": "stdout",
     "output_type": "stream",
     "text": [
      "+---------------------+\n",
      "|default_profile_image|\n",
      "+---------------------+\n",
      "|false                |\n",
      "|false                |\n",
      "|false                |\n",
      "|false                |\n",
      "|false                |\n",
      "+---------------------+\n",
      "only showing top 5 rows\n",
      "\n",
      "Percentage of default values: 2.6965847751198098  %\n"
     ]
    }
   ],
   "source": [
    "# inspect the first rows of the variable\n",
    "twitter_all.select(F.col(\"user.default_profile_image\")).show(5, truncate = False)\n",
    "\n",
    "# look at the perecentage of null values\n",
    "print(\"Percentage of default values:\", twitter_all.filter(F.col(\"user.default_profile_image\")== True).count()\\\n",
    "        /nr_observations*100, \" %\")"
   ]
  },
  {
   "cell_type": "markdown",
   "id": "db779f47",
   "metadata": {},
   "source": [
    "#### 4) favourites_count"
   ]
  },
  {
   "cell_type": "markdown",
   "id": "c26fed35",
   "metadata": {},
   "source": [
    "The number of Tweets this user has liked in the account’s lifetime."
   ]
  },
  {
   "cell_type": "code",
   "execution_count": 43,
   "id": "7bde627a",
   "metadata": {},
   "outputs": [
    {
     "name": "stdout",
     "output_type": "stream",
     "text": [
      "+----------------+\n",
      "|favourites_count|\n",
      "+----------------+\n",
      "|63382           |\n",
      "|8726            |\n",
      "|3420            |\n",
      "|15655           |\n",
      "|8726            |\n",
      "+----------------+\n",
      "only showing top 5 rows\n",
      "\n",
      "Percentage of null values: 4.330857366024619  %\n"
     ]
    }
   ],
   "source": [
    "# inspect the first rows of the variable\n",
    "twitter_all.select(F.col(\"user.favourites_count\")).show(5, truncate = False)\n",
    "\n",
    "# look at the perecentage of null values\n",
    "print(\"Percentage of null values:\", twitter_all.filter(F.col(\"user.favourites_count\")== 0).count()\\\n",
    "        /nr_observations*100, \" %\")"
   ]
  },
  {
   "cell_type": "markdown",
   "id": "f5952e42",
   "metadata": {},
   "source": [
    "#### 5) statuses_count"
   ]
  },
  {
   "cell_type": "markdown",
   "id": "331e27db",
   "metadata": {},
   "source": [
    "The number of Tweets (including retweets) issued by the user. We see that every user has a least made one (re)tweet."
   ]
  },
  {
   "cell_type": "code",
   "execution_count": 44,
   "id": "55fbbad5",
   "metadata": {},
   "outputs": [
    {
     "name": "stdout",
     "output_type": "stream",
     "text": [
      "+--------------+\n",
      "|statuses_count|\n",
      "+--------------+\n",
      "|16666         |\n",
      "|45876         |\n",
      "|3519          |\n",
      "|9501          |\n",
      "|45876         |\n",
      "+--------------+\n",
      "only showing top 5 rows\n",
      "\n",
      "Percentage of null values: 0.0  %\n"
     ]
    }
   ],
   "source": [
    "# inspect the first rows of the variable\n",
    "twitter_all.select(F.col(\"user.statuses_count\")).show(5, truncate = False)\n",
    "\n",
    "# look at the perecentage of null values\n",
    "print(\"Percentage of null values:\", twitter_all.filter(F.col(\"user.statuses_count\")== 0).count()\\\n",
    "        /nr_observations*100, \" %\")"
   ]
  },
  {
   "cell_type": "markdown",
   "id": "50b8d97f",
   "metadata": {},
   "source": [
    "#### 6) followers_count"
   ]
  },
  {
   "cell_type": "code",
   "execution_count": 47,
   "id": "61f18cb2",
   "metadata": {},
   "outputs": [
    {
     "name": "stdout",
     "output_type": "stream",
     "text": [
      "+---------------+\n",
      "|followers_count|\n",
      "+---------------+\n",
      "|139            |\n",
      "|655            |\n",
      "|711            |\n",
      "|236            |\n",
      "|655            |\n",
      "+---------------+\n",
      "only showing top 5 rows\n",
      "\n",
      "Percentage of null values: 1.2709712739375347  %\n"
     ]
    }
   ],
   "source": [
    "# inspect the first rows of the variable\n",
    "twitter_all.select(F.col(\"user.followers_count\")).show(5, truncate = False)\n",
    "\n",
    "# look at the perecentage of null values\n",
    "print(\"Percentage of null values:\", twitter_all.filter(F.col(\"user.followers_count\")== 0).count()\\\n",
    "        /nr_observations*100, \" %\")"
   ]
  },
  {
   "cell_type": "markdown",
   "id": "22c5c007",
   "metadata": {},
   "source": [
    "#### 7) friends_count"
   ]
  },
  {
   "cell_type": "markdown",
   "id": "d13583db",
   "metadata": {},
   "source": [
    "The number of users this account is following (AKA their “followings”)."
   ]
  },
  {
   "cell_type": "code",
   "execution_count": 48,
   "id": "5f659e05",
   "metadata": {},
   "outputs": [
    {
     "name": "stdout",
     "output_type": "stream",
     "text": [
      "+-------------+\n",
      "|friends_count|\n",
      "+-------------+\n",
      "|346          |\n",
      "|194          |\n",
      "|429          |\n",
      "|187          |\n",
      "|194          |\n",
      "+-------------+\n",
      "only showing top 5 rows\n",
      "\n",
      "Percentage of null values: 2.4540338958728727  %\n"
     ]
    }
   ],
   "source": [
    "# inspect the first rows of the variable\n",
    "twitter_all.select(F.col(\"user.friends_count\")).show(5, truncate = False)\n",
    "\n",
    "# look at the perecentage of null values\n",
    "print(\"Percentage of null values:\", twitter_all.filter(F.col(\"user.friends_count\")== 0).count()\\\n",
    "        /nr_observations*100, \" %\")"
   ]
  },
  {
   "cell_type": "markdown",
   "id": "e7ef12bb",
   "metadata": {},
   "source": [
    "#### 8) verified"
   ]
  },
  {
   "cell_type": "markdown",
   "id": "2c64ffdc",
   "metadata": {},
   "source": [
    "When true, indicates that the user has a verified account."
   ]
  },
  {
   "cell_type": "code",
   "execution_count": 54,
   "id": "587c0d53",
   "metadata": {},
   "outputs": [
    {
     "name": "stdout",
     "output_type": "stream",
     "text": [
      "+--------+\n",
      "|verified|\n",
      "+--------+\n",
      "|false   |\n",
      "|false   |\n",
      "|false   |\n",
      "|false   |\n",
      "|false   |\n",
      "+--------+\n",
      "only showing top 5 rows\n",
      "\n",
      "Percentage of verified accounts: 1.1747792585748122  %\n"
     ]
    }
   ],
   "source": [
    "# inspect the first rows of the variable\n",
    "twitter_all.select(F.col(\"user.verified\")).show(5, truncate = False)\n",
    "\n",
    "# look at the perecentage of null values\n",
    "print(\"Percentage of verified accounts:\", twitter_all.filter(F.col(\"user.verified\") == True).count()\\\n",
    "        /nr_observations*100, \" %\")"
   ]
  },
  {
   "cell_type": "code",
   "execution_count": null,
   "id": "cf0f6556",
   "metadata": {},
   "outputs": [],
   "source": []
  },
  {
   "cell_type": "markdown",
   "id": "47dc8367",
   "metadata": {},
   "source": [
    "#### 9) listed_count"
   ]
  },
  {
   "cell_type": "markdown",
   "id": "19b9a6f8",
   "metadata": {},
   "source": [
    "The number of public lists that this user is a member of."
   ]
  },
  {
   "cell_type": "code",
   "execution_count": 57,
   "id": "3666b203",
   "metadata": {},
   "outputs": [
    {
     "name": "stdout",
     "output_type": "stream",
     "text": [
      "+------------+\n",
      "|listed_count|\n",
      "+------------+\n",
      "|9           |\n",
      "|3           |\n",
      "|1           |\n",
      "|4           |\n",
      "|3           |\n",
      "+------------+\n",
      "only showing top 5 rows\n",
      "\n",
      "Percentage of null values: 35.21254847882157  %\n"
     ]
    }
   ],
   "source": [
    "# inspect the first rows of the variable\n",
    "twitter_all.select(F.col(\"user.listed_count\")).show(5, truncate = False)\n",
    "\n",
    "# look at the perecentage of null values\n",
    "print(\"Percentage of null values:\", twitter_all.filter(F.col(\"user.listed_count\") == 0).count()\\\n",
    "        /nr_observations*100, \" %\")"
   ]
  },
  {
   "cell_type": "markdown",
   "id": "b4aa5275",
   "metadata": {},
   "source": [
    "### withheld_copyright"
   ]
  },
  {
   "cell_type": "markdown",
   "id": "576e8578",
   "metadata": {},
   "source": [
    "When present and set to “true”, it indicates that this piece of content has been withheld due to a DMCA complaint .\n",
    "\n",
    "The percentage of withheld tweets is almost zero in our dataset."
   ]
  },
  {
   "cell_type": "code",
   "execution_count": 58,
   "id": "ca7efd19",
   "metadata": {},
   "outputs": [
    {
     "name": "stdout",
     "output_type": "stream",
     "text": [
      "+------------------+\n",
      "|withheld_copyright|\n",
      "+------------------+\n",
      "|null              |\n",
      "|null              |\n",
      "|null              |\n",
      "|null              |\n",
      "|null              |\n",
      "+------------------+\n",
      "only showing top 5 rows\n",
      "\n",
      "Percentage of withheld tweets: 2.9166772396216602e-05  %\n"
     ]
    }
   ],
   "source": [
    "# inspect the first rows of the variable\n",
    "twitter_all.select(F.col(\"withheld_copyright\")).show(5, truncate = False)\n",
    "\n",
    "# look at the perecentage of null values\n",
    "print(\"Percentage of withheld tweets:\", twitter_all.filter(F.col(\"withheld_copyright\") == True).count()\\\n",
    "        /nr_observations*100, \" %\")"
   ]
  },
  {
   "cell_type": "code",
   "execution_count": null,
   "id": "fd142cfd",
   "metadata": {},
   "outputs": [],
   "source": []
  },
  {
   "cell_type": "code",
   "execution_count": null,
   "id": "68f03592",
   "metadata": {},
   "outputs": [],
   "source": []
  },
  {
   "cell_type": "code",
   "execution_count": null,
   "id": "73d28e6f",
   "metadata": {},
   "outputs": [],
   "source": []
  },
  {
   "cell_type": "code",
   "execution_count": null,
   "id": "2a7a453d",
   "metadata": {},
   "outputs": [],
   "source": []
  },
  {
   "cell_type": "code",
   "execution_count": null,
   "id": "f3b6160a",
   "metadata": {},
   "outputs": [],
   "source": []
  },
  {
   "cell_type": "code",
   "execution_count": null,
   "id": "bf80d041",
   "metadata": {},
   "outputs": [],
   "source": []
  },
  {
   "cell_type": "code",
   "execution_count": null,
   "id": "f4d990d9",
   "metadata": {},
   "outputs": [],
   "source": []
  },
  {
   "cell_type": "markdown",
   "id": "8d697d02",
   "metadata": {},
   "source": [
    "# # The volume of a brands tweet\n"
   ]
  },
  {
   "cell_type": "markdown",
   "id": "3dbc3545",
   "metadata": {},
   "source": [
    "\n"
   ]
  },
  {
   "cell_type": "code",
   "execution_count": 43,
   "id": "41a0e1ce",
   "metadata": {},
   "outputs": [],
   "source": [
    "# so first we look at the total number of tweets per brand. Therefore, I followed the same steps as Viktor did,\n",
    "# but I need to group the number of tweets per brand"
   ]
  },
  {
   "cell_type": "code",
   "execution_count": 10,
   "id": "e6fe8099",
   "metadata": {},
   "outputs": [],
   "source": [
    "# select interesting features \n",
    "twitter_sub = df_json.select(F.col(\"user.name\"),\n",
    "                                F.col(\"user.screen_name\"),\n",
    "                                F.col(\"created_at\"), \n",
    "                                F.col(\"full_text\"),\n",
    "                                F.col(\"user.followers_count\"))"
   ]
  },
  {
   "cell_type": "code",
   "execution_count": 11,
   "id": "798bb5d2",
   "metadata": {},
   "outputs": [],
   "source": [
    "# remove duplicates and retweets\n",
    "twitter_processed = twitter_sub.filter(~F.col(\"full_text\").startswith(\"RT\")) \\\n",
    "                               .drop_duplicates() \\\n",
    "                               .cache()"
   ]
  },
  {
   "cell_type": "code",
   "execution_count": 12,
   "id": "79edc758",
   "metadata": {},
   "outputs": [
    {
     "data": {
      "text/html": [
       "<div>\n",
       "<style scoped>\n",
       "    .dataframe tbody tr th:only-of-type {\n",
       "        vertical-align: middle;\n",
       "    }\n",
       "\n",
       "    .dataframe tbody tr th {\n",
       "        vertical-align: top;\n",
       "    }\n",
       "\n",
       "    .dataframe thead th {\n",
       "        text-align: right;\n",
       "    }\n",
       "</style>\n",
       "<table border=\"1\" class=\"dataframe\">\n",
       "  <thead>\n",
       "    <tr style=\"text-align: right;\">\n",
       "      <th></th>\n",
       "      <th>name</th>\n",
       "      <th>count_tweets</th>\n",
       "    </tr>\n",
       "  </thead>\n",
       "  <tbody>\n",
       "    <tr>\n",
       "      <th>0</th>\n",
       "      <td>coopgrafik</td>\n",
       "      <td>10</td>\n",
       "    </tr>\n",
       "    <tr>\n",
       "      <th>1</th>\n",
       "      <td>Foxborough Chuck 🏳️‍⚧️🏳️‍🌈💯</td>\n",
       "      <td>1</td>\n",
       "    </tr>\n",
       "    <tr>\n",
       "      <th>2</th>\n",
       "      <td>omnigreensa</td>\n",
       "      <td>23</td>\n",
       "    </tr>\n",
       "    <tr>\n",
       "      <th>3</th>\n",
       "      <td>veganfestargentina</td>\n",
       "      <td>62</td>\n",
       "    </tr>\n",
       "    <tr>\n",
       "      <th>4</th>\n",
       "      <td>634BAGEL（ムサシ・ベーグル）</td>\n",
       "      <td>106</td>\n",
       "    </tr>\n",
       "    <tr>\n",
       "      <th>5</th>\n",
       "      <td>Générations Vegan - JM</td>\n",
       "      <td>70</td>\n",
       "    </tr>\n",
       "    <tr>\n",
       "      <th>6</th>\n",
       "      <td>Brian Skellenger on Gab</td>\n",
       "      <td>3</td>\n",
       "    </tr>\n",
       "    <tr>\n",
       "      <th>7</th>\n",
       "      <td>K</td>\n",
       "      <td>131</td>\n",
       "    </tr>\n",
       "    <tr>\n",
       "      <th>8</th>\n",
       "      <td>MareⓋ1111🐾</td>\n",
       "      <td>2</td>\n",
       "    </tr>\n",
       "    <tr>\n",
       "      <th>9</th>\n",
       "      <td>レッドゆっくりーマ</td>\n",
       "      <td>594</td>\n",
       "    </tr>\n",
       "  </tbody>\n",
       "</table>\n",
       "</div>"
      ],
      "text/plain": [
       "                          name  count_tweets\n",
       "0                   coopgrafik            10\n",
       "1  Foxborough Chuck 🏳️‍⚧️🏳️‍🌈💯             1\n",
       "2                  omnigreensa            23\n",
       "3           veganfestargentina            62\n",
       "4           634BAGEL（ムサシ・ベーグル）           106\n",
       "5       Générations Vegan - JM            70\n",
       "6      Brian Skellenger on Gab             3\n",
       "7                            K           131\n",
       "8                   MareⓋ1111🐾             2\n",
       "9                    レッドゆっくりーマ           594"
      ]
     },
     "execution_count": 12,
     "metadata": {},
     "output_type": "execute_result"
    }
   ],
   "source": [
    "# calculate the number of tweets in our dataset per brand\n",
    "nr_tweets_brand = twitter_processed.groupBy('name').count()\\\n",
    "                    .withColumnRenamed('count', 'count_tweets')\n",
    "nr_tweets_brand.toPandas().head(10)"
   ]
  },
  {
   "cell_type": "code",
   "execution_count": null,
   "id": "e1f22e51",
   "metadata": {},
   "outputs": [],
   "source": []
  },
  {
   "cell_type": "code",
   "execution_count": 13,
   "id": "53253898",
   "metadata": {},
   "outputs": [],
   "source": [
    "## The language used in the tweets (words, sensitivity, emojis)"
   ]
  },
  {
   "cell_type": "code",
   "execution_count": 14,
   "id": "7376952d",
   "metadata": {},
   "outputs": [],
   "source": [
    "# select interesting features \n",
    "twitter_sub = df_json.select(F.col(\"user.name\"),\n",
    "                                F.col(\"user.screen_name\"),\n",
    "                                F.col(\"created_at\"), \n",
    "                                F.col(\"full_text\"),\n",
    "                                F.col(\"user.followers_count\"))"
   ]
  },
  {
   "cell_type": "code",
   "execution_count": 15,
   "id": "b4c876da",
   "metadata": {},
   "outputs": [
    {
     "name": "stdout",
     "output_type": "stream",
     "text": [
      "Requirement already satisfied: textblob in /Users/Artur/opt/anaconda3/lib/python3.8/site-packages (0.17.1)\r\n",
      "Requirement already satisfied: nltk>=3.1 in /Users/Artur/opt/anaconda3/lib/python3.8/site-packages (from textblob) (3.6.1)\r\n",
      "Requirement already satisfied: tqdm in /Users/Artur/opt/anaconda3/lib/python3.8/site-packages (from nltk>=3.1->textblob) (4.59.0)\r\n",
      "Requirement already satisfied: click in /Users/Artur/opt/anaconda3/lib/python3.8/site-packages (from nltk>=3.1->textblob) (7.1.2)\r\n",
      "Requirement already satisfied: joblib in /Users/Artur/opt/anaconda3/lib/python3.8/site-packages (from nltk>=3.1->textblob) (1.0.1)\r\n",
      "Requirement already satisfied: regex in /Users/Artur/opt/anaconda3/lib/python3.8/site-packages (from nltk>=3.1->textblob) (2021.4.4)\r\n"
     ]
    }
   ],
   "source": [
    "# 1) Import the necessary packages\n",
    "!pip install textblob\n",
    "from pyspark.sql import SparkSession\n",
    "from pyspark.sql.functions import *\n",
    "from pyspark.sql.types import *\n",
    "from pyspark.sql import functions as F\n",
    "from textblob import TextBlob"
   ]
  },
  {
   "cell_type": "code",
   "execution_count": 24,
   "id": "eeed6765",
   "metadata": {},
   "outputs": [],
   "source": []
  },
  {
   "cell_type": "code",
   "execution_count": 25,
   "id": "ec5438ef",
   "metadata": {},
   "outputs": [],
   "source": []
  },
  {
   "cell_type": "code",
   "execution_count": null,
   "id": "c89b56f4",
   "metadata": {},
   "outputs": [],
   "source": []
  },
  {
   "cell_type": "code",
   "execution_count": null,
   "id": "a9c65b13",
   "metadata": {},
   "outputs": [],
   "source": []
  },
  {
   "cell_type": "code",
   "execution_count": null,
   "id": "af3fb334",
   "metadata": {},
   "outputs": [],
   "source": [
    "##########@ 2de optie\n"
   ]
  },
  {
   "cell_type": "code",
   "execution_count": 16,
   "id": "0d858995",
   "metadata": {},
   "outputs": [],
   "source": [
    "def apply_blob(sentence):\n",
    "    temp = TextBlob(sentence).sentiment[0]\n",
    "    return temp"
   ]
  },
  {
   "cell_type": "code",
   "execution_count": 17,
   "id": "ae2b383b",
   "metadata": {},
   "outputs": [],
   "source": [
    "# register the function as a Spark UDF\n",
    "sentiment = udf(apply_blob)"
   ]
  },
  {
   "cell_type": "code",
   "execution_count": 18,
   "id": "34d36f65",
   "metadata": {},
   "outputs": [
    {
     "name": "stdout",
     "output_type": "stream",
     "text": [
      "+-------------------+---------------+--------------------+--------------------+---------------+---------+\n",
      "|               name|    screen_name|          created_at|           full_text|followers_count|sentiment|\n",
      "+-------------------+---------------+--------------------+--------------------+---------------+---------+\n",
      "|       Malaury Buis|         BMalau|Mon Apr 04 10:22:...|I inform you that...|           1933|      0.0|\n",
      "|    PS.Cafe Harding|      PSharding|Mon Oct 18 09:56:...|BREAKFAST - PS KA...|            261|      0.0|\n",
      "|FairWild Foundation|       fairwild|Mon Oct 18 09:31:...|Announcing the la...|            456|  0.23125|\n",
      "|             Riddhi|    _Riddhi1609|Sun Oct 17 09:58:...|1.5 hours and alr...|            205|   0.4375|\n",
      "|   kokorobotanicals|kokorobotanical|Mon Oct 18 10:57:...|Today is #worldch...|             23|      1.0|\n",
      "+-------------------+---------------+--------------------+--------------------+---------------+---------+\n",
      "only showing top 5 rows\n",
      "\n"
     ]
    }
   ],
   "source": [
    "# apply to the dataframe\n",
    "twitter_processed.withColumn(\"sentiment\", sentiment(twitter_processed['full_text'])).show(5)\n"
   ]
  },
  {
   "cell_type": "code",
   "execution_count": 19,
   "id": "00233229",
   "metadata": {},
   "outputs": [
    {
     "ename": "AttributeError",
     "evalue": "'DataFrame' object has no attribute 'plot'",
     "output_type": "error",
     "traceback": [
      "\u001b[0;31m---------------------------------------------------------------------------\u001b[0m",
      "\u001b[0;31mAttributeError\u001b[0m                            Traceback (most recent call last)",
      "\u001b[0;32m<ipython-input-19-894a103a282b>\u001b[0m in \u001b[0;36m<module>\u001b[0;34m\u001b[0m\n\u001b[1;32m      1\u001b[0m \u001b[0;31m# plot results\u001b[0m\u001b[0;34m\u001b[0m\u001b[0;34m\u001b[0m\u001b[0;34m\u001b[0m\u001b[0m\n\u001b[0;32m----> 2\u001b[0;31m \u001b[0mtwitter_processed\u001b[0m\u001b[0;34m.\u001b[0m\u001b[0mplot\u001b[0m\u001b[0;34m.\u001b[0m\u001b[0mbar\u001b[0m\u001b[0;34m(\u001b[0m\u001b[0;34m'sentiment'\u001b[0m\u001b[0;34m)\u001b[0m\u001b[0;34m\u001b[0m\u001b[0;34m\u001b[0m\u001b[0m\n\u001b[0m",
      "\u001b[0;32m~/spark/spark-3.3.1-bin-hadoop3/python/pyspark/sql/dataframe.py\u001b[0m in \u001b[0;36m__getattr__\u001b[0;34m(self, name)\u001b[0m\n\u001b[1;32m   1986\u001b[0m         \"\"\"\n\u001b[1;32m   1987\u001b[0m         \u001b[0;32mif\u001b[0m \u001b[0mname\u001b[0m \u001b[0;32mnot\u001b[0m \u001b[0;32min\u001b[0m \u001b[0mself\u001b[0m\u001b[0;34m.\u001b[0m\u001b[0mcolumns\u001b[0m\u001b[0;34m:\u001b[0m\u001b[0;34m\u001b[0m\u001b[0;34m\u001b[0m\u001b[0m\n\u001b[0;32m-> 1988\u001b[0;31m             raise AttributeError(\n\u001b[0m\u001b[1;32m   1989\u001b[0m                 \u001b[0;34m\"'%s' object has no attribute '%s'\"\u001b[0m \u001b[0;34m%\u001b[0m \u001b[0;34m(\u001b[0m\u001b[0mself\u001b[0m\u001b[0;34m.\u001b[0m\u001b[0m__class__\u001b[0m\u001b[0;34m.\u001b[0m\u001b[0m__name__\u001b[0m\u001b[0;34m,\u001b[0m \u001b[0mname\u001b[0m\u001b[0;34m)\u001b[0m\u001b[0;34m\u001b[0m\u001b[0;34m\u001b[0m\u001b[0m\n\u001b[1;32m   1990\u001b[0m             )\n",
      "\u001b[0;31mAttributeError\u001b[0m: 'DataFrame' object has no attribute 'plot'"
     ]
    }
   ],
   "source": [
    "# plot results\n",
    "twitter_processed.plot.bar('sentiment') "
   ]
  },
  {
   "cell_type": "code",
   "execution_count": null,
   "id": "bfd90849",
   "metadata": {},
   "outputs": [],
   "source": [
    "\n"
   ]
  },
  {
   "cell_type": "code",
   "execution_count": null,
   "id": "2f325344",
   "metadata": {},
   "outputs": [],
   "source": []
  },
  {
   "cell_type": "code",
   "execution_count": null,
   "id": "28e59454",
   "metadata": {},
   "outputs": [],
   "source": []
  },
  {
   "cell_type": "code",
   "execution_count": null,
   "id": "2f027105",
   "metadata": {},
   "outputs": [],
   "source": []
  }
 ],
 "metadata": {
  "kernelspec": {
   "display_name": "Python 3",
   "language": "python",
   "name": "python3"
  },
  "language_info": {
   "codemirror_mode": {
    "name": "ipython",
    "version": 3
   },
   "file_extension": ".py",
   "mimetype": "text/x-python",
   "name": "python",
   "nbconvert_exporter": "python",
   "pygments_lexer": "ipython3",
   "version": "3.8.8"
  }
 },
 "nbformat": 4,
 "nbformat_minor": 5
}
