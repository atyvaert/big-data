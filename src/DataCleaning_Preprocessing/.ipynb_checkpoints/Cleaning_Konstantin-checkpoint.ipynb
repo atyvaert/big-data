{
 "cells": [
  {
   "cell_type": "markdown",
   "id": "d6e9ec2f-dd80-4b6a-9c7b-f239ccd9ac0c",
   "metadata": {},
   "source": [
    "# Reading in the files and imports"
   ]
  },
  {
   "cell_type": "code",
   "execution_count": 1,
   "id": "d15a1795-9538-404d-90f1-5378932d6134",
   "metadata": {},
   "outputs": [],
   "source": [
    "import pyspark.sql.functions as F\n",
    "import pandas as pd \n",
    "from pyspark.sql.functions import *\n",
    "from pyspark.sql.types import *\n",
    "from datetime import datetime\n",
    "\n",
    "import seaborn as sns\n",
    "import matplotlib.pyplot as plt\n",
    "import numpy as np \n",
    "\n",
    "import os \n",
    "import pickle\n",
    "import re\n",
    "from datetime import datetime\n",
    "import requests\n",
    "import pytz\n",
    "import pandas as pd\n",
    "import numpy as np\n",
    "import ast\n"
   ]
  },
  {
   "cell_type": "code",
   "execution_count": 2,
   "id": "ba3be841-af34-4b6d-b83d-5c364a1bda54",
   "metadata": {},
   "outputs": [
    {
     "name": "stderr",
     "output_type": "stream",
     "text": [
      "Setting default log level to \"WARN\".\n",
      "To adjust logging level use sc.setLogLevel(newLevel). For SparkR, use setLogLevel(newLevel).\n"
     ]
    },
    {
     "name": "stdout",
     "output_type": "stream",
     "text": [
      "22/11/25 15:52:41 WARN NativeCodeLoader: Unable to load native-hadoop library for your platform... using builtin-java classes where applicable\n"
     ]
    },
    {
     "name": "stderr",
     "output_type": "stream",
     "text": [
      "                                                                                \r"
     ]
    },
    {
     "name": "stdout",
     "output_type": "stream",
     "text": [
      "22/11/25 15:53:29 WARN package: Truncated the string representation of a plan since it was too large. This behavior can be adjusted by setting 'spark.sql.debug.maxToStringFields'.\n"
     ]
    }
   ],
   "source": [
    "\n",
    "import pyspark\n",
    "# create spark context\n",
    "sc = pyspark.SparkContext()\n",
    "# create spark session \n",
    "spark = pyspark.sql.SparkSession(sc)\n",
    "\n",
    "path_json = \".././../data/Topic_vegan/*.json\" \n",
    "\n",
    "df_json = spark.read.option(\"multiline\",\"true\").json(path_json)"
   ]
  },
  {
   "cell_type": "code",
   "execution_count": 3,
   "id": "e51ae01c-2e05-4620-8cc9-b313ac0f1c44",
   "metadata": {},
   "outputs": [
    {
     "data": {
      "text/html": [
       "\n",
       "            <div>\n",
       "                <p><b>SparkSession - in-memory</b></p>\n",
       "                \n",
       "        <div>\n",
       "            <p><b>SparkContext</b></p>\n",
       "\n",
       "            <p><a href=\"http://192.168.1.45:4040\">Spark UI</a></p>\n",
       "\n",
       "            <dl>\n",
       "              <dt>Version</dt>\n",
       "                <dd><code>v3.3.1</code></dd>\n",
       "              <dt>Master</dt>\n",
       "                <dd><code>local[*]</code></dd>\n",
       "              <dt>AppName</dt>\n",
       "                <dd><code>pyspark-shell</code></dd>\n",
       "            </dl>\n",
       "        </div>\n",
       "        \n",
       "            </div>\n",
       "        "
      ],
      "text/plain": [
       "<pyspark.sql.session.SparkSession at 0x105ddd240>"
      ]
     },
     "execution_count": 3,
     "metadata": {},
     "output_type": "execute_result"
    }
   ],
   "source": [
    "spark"
   ]
  },
  {
   "cell_type": "markdown",
   "id": "075fb514-15ac-47a2-b692-67c761b13302",
   "metadata": {
    "tags": []
   },
   "source": [
    "## Selecting the correct columns, converting types and checking for doubles "
   ]
  },
  {
   "cell_type": "code",
   "execution_count": 3,
   "id": "344b4f0e-a251-47d5-a755-fc732d01af15",
   "metadata": {},
   "outputs": [
    {
     "name": "stderr",
     "output_type": "stream",
     "text": [
      "                                                                                \r"
     ]
    },
    {
     "data": {
      "text/plain": [
       "3428559"
      ]
     },
     "execution_count": 3,
     "metadata": {},
     "output_type": "execute_result"
    }
   ],
   "source": [
    "# twitter represents likes as hearts \n",
    "# the number of likes different topics receive over time \n",
    "# use favorites_count \n",
    "\n",
    "#plot aantal tweets over een topic over time \n",
    "\n",
    "df_json_sub = df_json.select(F.col(\"user.name\"),\n",
    "                                F.col(\"user.screen_name\"),\n",
    "                                F.col(\"created_at\"), \n",
    "                                F.col(\"full_text\"),\n",
    "                                F.col(\"entities.hashtags\"),\n",
    "                                F.col(\"lang\"),\n",
    "                                F.col(\"favorite_count\"),\n",
    "                                F.col(\"user.followers_count\"),\n",
    "                                F.col(\"user.friends_count\"),\n",
    "                                F.col(\"user.favourites_count\"),\n",
    "                                F.col(\"entities.urls\"),\n",
    "                                F.col(\"entities.symbols\"), \n",
    "                                )\n",
    "#date --> time stamp variable \n",
    "def getDate(date):\n",
    "    if date is not None:\n",
    "        return str(datetime.strptime(date,'%a %b %d %H:%M:%S +0000 %Y').replace(tzinfo=pytz.UTC).strftime(\"%Y-%m-%d %H:%M:%S\"))\n",
    "    else:\n",
    "        return None\n",
    "date_udf = F.udf(getDate, StringType())\n",
    "df_json_sub = df_json_sub.withColumn('post_created_at', F.to_utc_timestamp(date_udf(\"created_at\"), \"UTC\"))\n",
    "\n",
    "#extract year, month, day \n",
    "\n",
    "df_json_sub = df_json_sub.withColumn('year', year('post_created_at'))\n",
    "df_json_sub = df_json_sub.withColumn('month', month('post_created_at'))\n",
    "df_json_sub = df_json_sub.withColumn('day', dayofmonth('post_created_at')) #number from 1 to 31 \n",
    "\n",
    "df_json_sub.count()\n",
    "\n"
   ]
  },
  {
   "cell_type": "code",
   "execution_count": 4,
   "id": "c1dfab48-373e-4ff6-a8d7-ef897a6280bf",
   "metadata": {},
   "outputs": [
    {
     "name": "stdout",
     "output_type": "stream",
     "text": [
      "root\n",
      " |-- name: string (nullable = true)\n",
      " |-- screen_name: string (nullable = true)\n",
      " |-- created_at: string (nullable = true)\n",
      " |-- full_text: string (nullable = true)\n",
      " |-- hashtags: array (nullable = true)\n",
      " |    |-- element: struct (containsNull = true)\n",
      " |    |    |-- indices: array (nullable = true)\n",
      " |    |    |    |-- element: long (containsNull = true)\n",
      " |    |    |-- text: string (nullable = true)\n",
      " |-- lang: string (nullable = true)\n",
      " |-- favorite_count: long (nullable = true)\n",
      " |-- followers_count: long (nullable = true)\n",
      " |-- friends_count: long (nullable = true)\n",
      " |-- favourites_count: long (nullable = true)\n",
      " |-- urls: array (nullable = true)\n",
      " |    |-- element: struct (containsNull = true)\n",
      " |    |    |-- display_url: string (nullable = true)\n",
      " |    |    |-- expanded_url: string (nullable = true)\n",
      " |    |    |-- indices: array (nullable = true)\n",
      " |    |    |    |-- element: long (containsNull = true)\n",
      " |    |    |-- url: string (nullable = true)\n",
      " |-- symbols: array (nullable = true)\n",
      " |    |-- element: struct (containsNull = true)\n",
      " |    |    |-- indices: array (nullable = true)\n",
      " |    |    |    |-- element: long (containsNull = true)\n",
      " |    |    |-- text: string (nullable = true)\n",
      " |-- post_created_at: timestamp (nullable = true)\n",
      " |-- year: integer (nullable = true)\n",
      " |-- month: integer (nullable = true)\n",
      " |-- day: integer (nullable = true)\n",
      "\n"
     ]
    },
    {
     "name": "stderr",
     "output_type": "stream",
     "text": [
      "[Stage 6:========================>                               (89 + 8) / 200]\r"
     ]
    },
    {
     "name": "stdout",
     "output_type": "stream",
     "text": [
      "22/11/25 15:54:47 WARN MemoryStore: Not enough space to cache rdd_23_95 in memory! (computed 3.8 MiB so far)\n",
      "22/11/25 15:54:47 WARN BlockManager: Persisting block rdd_23_95 to disk instead.\n"
     ]
    },
    {
     "name": "stderr",
     "output_type": "stream",
     "text": [
      "[Stage 6:=========================>                              (91 + 8) / 200]\r"
     ]
    },
    {
     "name": "stdout",
     "output_type": "stream",
     "text": [
      "22/11/25 15:54:47 WARN MemoryStore: Not enough space to cache rdd_23_95 in memory! (computed 3.8 MiB so far)\n",
      "22/11/25 15:54:47 WARN MemoryStore: Not enough space to cache rdd_23_97 in memory! (computed 3.9 MiB so far)\n",
      "22/11/25 15:54:47 WARN BlockManager: Persisting block rdd_23_97 to disk instead.\n",
      "22/11/25 15:54:47 WARN MemoryStore: Not enough space to cache rdd_23_97 in memory! (computed 3.9 MiB so far)\n",
      "22/11/25 15:54:47 WARN MemoryStore: Not enough space to cache rdd_23_98 in memory! (computed 3.9 MiB so far)\n",
      "22/11/25 15:54:47 WARN BlockManager: Persisting block rdd_23_98 to disk instead.\n"
     ]
    },
    {
     "name": "stderr",
     "output_type": "stream",
     "text": [
      "[Stage 6:===========================>                            (98 + 8) / 200]\r"
     ]
    },
    {
     "name": "stdout",
     "output_type": "stream",
     "text": [
      "22/11/25 15:54:47 WARN MemoryStore: Not enough space to cache rdd_23_99 in memory! (computed 3.9 MiB so far)\n",
      "22/11/25 15:54:47 WARN BlockManager: Persisting block rdd_23_99 to disk instead.\n",
      "22/11/25 15:54:47 WARN MemoryStore: Failed to reserve initial memory threshold of 1024.0 KiB for computing block rdd_23_104 in memory.\n",
      "22/11/25 15:54:47 WARN MemoryStore: Not enough space to cache rdd_23_101 in memory! (computed 3.9 MiB so far)\n",
      "22/11/25 15:54:47 WARN MemoryStore: Not enough space to cache rdd_23_104 in memory! (computed 384.0 B so far)\n",
      "22/11/25 15:54:47 WARN BlockManager: Persisting block rdd_23_104 to disk instead.\n",
      "22/11/25 15:54:47 WARN BlockManager: Persisting block rdd_23_101 to disk instead.\n",
      "22/11/25 15:54:47 WARN MemoryStore: Not enough space to cache rdd_23_100 in memory! (computed 3.9 MiB so far)\n",
      "22/11/25 15:54:47 WARN BlockManager: Persisting block rdd_23_100 to disk instead.\n",
      "22/11/25 15:54:47 WARN MemoryStore: Not enough space to cache rdd_23_101 in memory! (computed 3.9 MiB so far)\n"
     ]
    },
    {
     "name": "stderr",
     "output_type": "stream",
     "text": [
      "[Stage 6:===========================>                            (99 + 8) / 200]\r"
     ]
    },
    {
     "name": "stdout",
     "output_type": "stream",
     "text": [
      "22/11/25 15:54:47 WARN MemoryStore: Not enough space to cache rdd_23_106 in memory! (computed 3.9 MiB so far)\n",
      "22/11/25 15:54:47 WARN BlockManager: Persisting block rdd_23_106 to disk instead.\n",
      "22/11/25 15:54:47 WARN MemoryStore: Not enough space to cache rdd_23_104 in memory! (computed 3.9 MiB so far)\n",
      "22/11/25 15:54:47 WARN MemoryStore: Not enough space to cache rdd_23_106 in memory! (computed 3.9 MiB so far)\n",
      "22/11/25 15:54:48 WARN MemoryStore: Not enough space to cache rdd_23_107 in memory! (computed 3.9 MiB so far)\n",
      "22/11/25 15:54:48 WARN BlockManager: Persisting block rdd_23_107 to disk instead.\n",
      "22/11/25 15:54:48 WARN MemoryStore: Not enough space to cache rdd_23_108 in memory! (computed 3.9 MiB so far)\n",
      "22/11/25 15:54:48 WARN BlockManager: Persisting block rdd_23_108 to disk instead.\n"
     ]
    },
    {
     "name": "stderr",
     "output_type": "stream",
     "text": [
      "[Stage 6:=============================>                         (109 + 8) / 200]\r"
     ]
    },
    {
     "name": "stdout",
     "output_type": "stream",
     "text": [
      "22/11/25 15:54:48 WARN MemoryStore: Not enough space to cache rdd_23_110 in memory! (computed 3.9 MiB so far)\n",
      "22/11/25 15:54:48 WARN BlockManager: Persisting block rdd_23_110 to disk instead.\n"
     ]
    },
    {
     "name": "stderr",
     "output_type": "stream",
     "text": [
      "[Stage 6:==============================>                        (112 + 8) / 200]\r"
     ]
    },
    {
     "name": "stdout",
     "output_type": "stream",
     "text": [
      "22/11/25 15:54:48 WARN MemoryStore: Not enough space to cache rdd_23_116 in memory! (computed 3.9 MiB so far)\n",
      "22/11/25 15:54:48 WARN BlockManager: Persisting block rdd_23_116 to disk instead.\n",
      "22/11/25 15:54:48 WARN MemoryStore: Not enough space to cache rdd_23_119 in memory! (computed 3.8 MiB so far)\n",
      "22/11/25 15:54:48 WARN BlockManager: Persisting block rdd_23_119 to disk instead.\n",
      "22/11/25 15:54:48 WARN MemoryStore: Not enough space to cache rdd_23_121 in memory! (computed 3.9 MiB so far)\n",
      "22/11/25 15:54:48 WARN BlockManager: Persisting block rdd_23_121 to disk instead.\n",
      "22/11/25 15:54:48 WARN MemoryStore: Not enough space to cache rdd_23_122 in memory! (computed 3.8 MiB so far)\n",
      "22/11/25 15:54:48 WARN BlockManager: Persisting block rdd_23_122 to disk instead.\n"
     ]
    },
    {
     "name": "stderr",
     "output_type": "stream",
     "text": [
      "[Stage 6:=================================>                     (120 + 8) / 200]\r"
     ]
    },
    {
     "name": "stdout",
     "output_type": "stream",
     "text": [
      "22/11/25 15:54:49 WARN MemoryStore: Not enough space to cache rdd_23_125 in memory! (computed 3.8 MiB so far)\n",
      "22/11/25 15:54:49 WARN BlockManager: Persisting block rdd_23_125 to disk instead.\n",
      "22/11/25 15:54:49 WARN MemoryStore: Failed to reserve initial memory threshold of 1024.0 KiB for computing block rdd_23_131 in memory.\n",
      "22/11/25 15:54:49 WARN MemoryStore: Not enough space to cache rdd_23_127 in memory! (computed 3.9 MiB so far)\n",
      "22/11/25 15:54:49 WARN BlockManager: Persisting block rdd_23_127 to disk instead.\n",
      "22/11/25 15:54:49 WARN MemoryStore: Not enough space to cache rdd_23_131 in memory! (computed 384.0 B so far)\n",
      "22/11/25 15:54:49 WARN BlockManager: Persisting block rdd_23_131 to disk instead.\n",
      "22/11/25 15:54:49 WARN MemoryStore: Not enough space to cache rdd_23_127 in memory! (computed 3.9 MiB so far)\n",
      "22/11/25 15:54:49 WARN MemoryStore: Not enough space to cache rdd_23_125 in memory! (computed 3.8 MiB so far)\n",
      "22/11/25 15:54:49 WARN MemoryStore: Not enough space to cache rdd_23_128 in memory! (computed 3.9 MiB so far)\n",
      "22/11/25 15:54:49 WARN BlockManager: Persisting block rdd_23_128 to disk instead.\n"
     ]
    },
    {
     "name": "stderr",
     "output_type": "stream",
     "text": [
      "[Stage 6:==================================>                    (126 + 8) / 200]\r"
     ]
    },
    {
     "name": "stdout",
     "output_type": "stream",
     "text": [
      "22/11/25 15:54:49 WARN MemoryStore: Not enough space to cache rdd_23_130 in memory! (computed 3.8 MiB so far)\n",
      "22/11/25 15:54:49 WARN BlockManager: Persisting block rdd_23_130 to disk instead.\n",
      "22/11/25 15:54:49 WARN MemoryStore: Failed to reserve initial memory threshold of 1024.0 KiB for computing block rdd_23_136 in memory.\n",
      "22/11/25 15:54:49 WARN MemoryStore: Not enough space to cache rdd_23_132 in memory! (computed 3.8 MiB so far)\n",
      "22/11/25 15:54:49 WARN BlockManager: Persisting block rdd_23_132 to disk instead.\n",
      "22/11/25 15:54:49 WARN MemoryStore: Not enough space to cache rdd_23_134 in memory! (computed 3.9 MiB so far)\n",
      "22/11/25 15:54:49 WARN BlockManager: Persisting block rdd_23_134 to disk instead.\n",
      "22/11/25 15:54:49 WARN MemoryStore: Not enough space to cache rdd_23_136 in memory! (computed 384.0 B so far)\n",
      "22/11/25 15:54:49 WARN BlockManager: Persisting block rdd_23_136 to disk instead.\n"
     ]
    },
    {
     "name": "stderr",
     "output_type": "stream",
     "text": [
      "[Stage 6:====================================>                  (131 + 8) / 200]\r"
     ]
    },
    {
     "name": "stdout",
     "output_type": "stream",
     "text": [
      "22/11/25 15:54:49 WARN MemoryStore: Failed to reserve initial memory threshold of 1024.0 KiB for computing block rdd_23_132 in memory.\n",
      "22/11/25 15:54:49 WARN MemoryStore: Not enough space to cache rdd_23_132 in memory! (computed 384.0 B so far)\n",
      "22/11/25 15:54:49 WARN MemoryStore: Not enough space to cache rdd_23_137 in memory! (computed 3.8 MiB so far)\n",
      "22/11/25 15:54:49 WARN BlockManager: Persisting block rdd_23_137 to disk instead.\n"
     ]
    },
    {
     "name": "stderr",
     "output_type": "stream",
     "text": [
      "[Stage 6:=====================================>                 (137 + 8) / 200]\r"
     ]
    },
    {
     "name": "stdout",
     "output_type": "stream",
     "text": [
      "22/11/25 15:54:49 WARN MemoryStore: Failed to reserve initial memory threshold of 1024.0 KiB for computing block rdd_23_145 in memory.\n",
      "22/11/25 15:54:49 WARN MemoryStore: Not enough space to cache rdd_23_140 in memory! (computed 3.9 MiB so far)\n",
      "22/11/25 15:54:49 WARN BlockManager: Persisting block rdd_23_140 to disk instead.\n",
      "22/11/25 15:54:49 WARN MemoryStore: Not enough space to cache rdd_23_145 in memory! (computed 384.0 B so far)\n",
      "22/11/25 15:54:49 WARN BlockManager: Persisting block rdd_23_145 to disk instead.\n",
      "22/11/25 15:54:49 WARN MemoryStore: Not enough space to cache rdd_23_140 in memory! (computed 3.9 MiB so far)\n",
      "22/11/25 15:54:50 WARN MemoryStore: Not enough space to cache rdd_23_141 in memory! (computed 3.9 MiB so far)\n",
      "22/11/25 15:54:50 WARN BlockManager: Persisting block rdd_23_141 to disk instead.\n"
     ]
    },
    {
     "name": "stderr",
     "output_type": "stream",
     "text": [
      "[Stage 6:======================================>                (140 + 8) / 200]\r"
     ]
    },
    {
     "name": "stdout",
     "output_type": "stream",
     "text": [
      "22/11/25 15:54:50 WARN MemoryStore: Not enough space to cache rdd_23_148 in memory! (computed 3.9 MiB so far)\n",
      "22/11/25 15:54:50 WARN BlockManager: Persisting block rdd_23_148 to disk instead.\n",
      "22/11/25 15:54:50 WARN MemoryStore: Failed to reserve initial memory threshold of 1024.0 KiB for computing block rdd_23_151 in memory.\n",
      "22/11/25 15:54:50 WARN MemoryStore: Not enough space to cache rdd_23_149 in memory! (computed 3.9 MiB so far)\n",
      "22/11/25 15:54:50 WARN BlockManager: Persisting block rdd_23_149 to disk instead.\n",
      "22/11/25 15:54:50 WARN MemoryStore: Not enough space to cache rdd_23_150 in memory! (computed 3.9 MiB so far)\n",
      "22/11/25 15:54:50 WARN BlockManager: Persisting block rdd_23_150 to disk instead.\n",
      "22/11/25 15:54:50 WARN MemoryStore: Not enough space to cache rdd_23_149 in memory! (computed 3.9 MiB so far)\n",
      "22/11/25 15:54:50 WARN MemoryStore: Not enough space to cache rdd_23_151 in memory! (computed 384.0 B so far)\n",
      "22/11/25 15:54:50 WARN BlockManager: Persisting block rdd_23_151 to disk instead.\n"
     ]
    },
    {
     "name": "stderr",
     "output_type": "stream",
     "text": [
      "[Stage 6:========================================>              (149 + 8) / 200]\r"
     ]
    },
    {
     "name": "stdout",
     "output_type": "stream",
     "text": [
      "22/11/25 15:54:50 WARN MemoryStore: Not enough space to cache rdd_23_150 in memory! (computed 3.9 MiB so far)\n",
      "22/11/25 15:54:50 WARN MemoryStore: Not enough space to cache rdd_23_153 in memory! (computed 3.9 MiB so far)\n",
      "22/11/25 15:54:50 WARN BlockManager: Persisting block rdd_23_153 to disk instead.\n",
      "22/11/25 15:54:50 WARN MemoryStore: Not enough space to cache rdd_23_151 in memory! (computed 3.9 MiB so far)\n",
      "22/11/25 15:54:50 WARN MemoryStore: Not enough space to cache rdd_23_153 in memory! (computed 3.9 MiB so far)\n"
     ]
    },
    {
     "name": "stderr",
     "output_type": "stream",
     "text": [
      "[Stage 6:=========================================>             (152 + 8) / 200]\r"
     ]
    },
    {
     "name": "stdout",
     "output_type": "stream",
     "text": [
      "22/11/25 15:54:50 WARN MemoryStore: Not enough space to cache rdd_23_158 in memory! (computed 3.9 MiB so far)\n",
      "22/11/25 15:54:50 WARN BlockManager: Persisting block rdd_23_158 to disk instead.\n"
     ]
    },
    {
     "name": "stderr",
     "output_type": "stream",
     "text": [
      "[Stage 6:============================================>          (160 + 8) / 200]\r"
     ]
    },
    {
     "name": "stdout",
     "output_type": "stream",
     "text": [
      "22/11/25 15:54:51 WARN MemoryStore: Not enough space to cache rdd_23_160 in memory! (computed 3.9 MiB so far)\n",
      "22/11/25 15:54:51 WARN BlockManager: Persisting block rdd_23_160 to disk instead.\n",
      "22/11/25 15:54:51 WARN MemoryStore: Not enough space to cache rdd_23_162 in memory! (computed 3.9 MiB so far)\n",
      "22/11/25 15:54:51 WARN BlockManager: Persisting block rdd_23_162 to disk instead.\n",
      "22/11/25 15:54:51 WARN MemoryStore: Not enough space to cache rdd_23_161 in memory! (computed 3.9 MiB so far)\n",
      "22/11/25 15:54:51 WARN BlockManager: Persisting block rdd_23_161 to disk instead.\n"
     ]
    },
    {
     "name": "stderr",
     "output_type": "stream",
     "text": [
      "[Stage 6:============================================>         (165 + 11) / 200]\r"
     ]
    },
    {
     "name": "stdout",
     "output_type": "stream",
     "text": [
      "22/11/25 15:54:51 WARN MemoryStore: Failed to reserve initial memory threshold of 1024.0 KiB for computing block rdd_23_172 in memory.\n",
      "22/11/25 15:54:51 WARN MemoryStore: Not enough space to cache rdd_23_172 in memory! (computed 384.0 B so far)\n",
      "22/11/25 15:54:51 WARN BlockManager: Persisting block rdd_23_172 to disk instead.\n",
      "22/11/25 15:54:51 WARN MemoryStore: Not enough space to cache rdd_23_168 in memory! (computed 3.9 MiB so far)\n",
      "22/11/25 15:54:51 WARN BlockManager: Persisting block rdd_23_168 to disk instead.\n"
     ]
    },
    {
     "name": "stderr",
     "output_type": "stream",
     "text": [
      "[Stage 6:================================================>      (175 + 8) / 200]\r"
     ]
    },
    {
     "name": "stdout",
     "output_type": "stream",
     "text": [
      "22/11/25 15:54:51 WARN MemoryStore: Not enough space to cache rdd_23_175 in memory! (computed 3.9 MiB so far)\n",
      "22/11/25 15:54:51 WARN BlockManager: Persisting block rdd_23_175 to disk instead.\n",
      "22/11/25 15:54:51 WARN MemoryStore: Not enough space to cache rdd_23_175 in memory! (computed 3.9 MiB so far)\n",
      "22/11/25 15:54:52 WARN MemoryStore: Not enough space to cache rdd_23_176 in memory! (computed 3.9 MiB so far)\n",
      "22/11/25 15:54:52 WARN BlockManager: Persisting block rdd_23_176 to disk instead.\n",
      "22/11/25 15:54:52 WARN MemoryStore: Not enough space to cache rdd_23_180 in memory! (computed 3.9 MiB so far)\n",
      "22/11/25 15:54:52 WARN BlockManager: Persisting block rdd_23_180 to disk instead.\n",
      "22/11/25 15:54:52 WARN MemoryStore: Not enough space to cache rdd_23_180 in memory! (computed 3.9 MiB so far)\n"
     ]
    },
    {
     "name": "stderr",
     "output_type": "stream",
     "text": [
      "[Stage 6:==================================================>    (184 + 8) / 200]\r"
     ]
    },
    {
     "name": "stdout",
     "output_type": "stream",
     "text": [
      "22/11/25 15:54:52 WARN MemoryStore: Not enough space to cache rdd_23_188 in memory! (computed 3.9 MiB so far)\n",
      "22/11/25 15:54:52 WARN BlockManager: Persisting block rdd_23_188 to disk instead.\n",
      "22/11/25 15:54:52 WARN MemoryStore: Not enough space to cache rdd_23_191 in memory! (computed 3.9 MiB so far)\n",
      "22/11/25 15:54:52 WARN BlockManager: Persisting block rdd_23_191 to disk instead.\n",
      "22/11/25 15:54:52 WARN MemoryStore: Not enough space to cache rdd_23_189 in memory! (computed 3.9 MiB so far)\n",
      "22/11/25 15:54:52 WARN BlockManager: Persisting block rdd_23_189 to disk instead.\n"
     ]
    },
    {
     "name": "stderr",
     "output_type": "stream",
     "text": [
      "[Stage 6:===================================================>   (188 + 8) / 200]\r"
     ]
    },
    {
     "name": "stdout",
     "output_type": "stream",
     "text": [
      "22/11/25 15:54:52 WARN MemoryStore: Not enough space to cache rdd_23_194 in memory! (computed 3.8 MiB so far)\n",
      "22/11/25 15:54:52 WARN BlockManager: Persisting block rdd_23_194 to disk instead.\n",
      "22/11/25 15:54:52 WARN MemoryStore: Not enough space to cache rdd_23_194 in memory! (computed 3.8 MiB so far)\n"
     ]
    },
    {
     "name": "stderr",
     "output_type": "stream",
     "text": [
      "                                                                                \r"
     ]
    },
    {
     "data": {
      "text/plain": [
       "1340938"
      ]
     },
     "execution_count": 4,
     "metadata": {},
     "output_type": "execute_result"
    }
   ],
   "source": [
    "#drop duplicates and retweets \n",
    "df_json_sub = df_json_sub.filter(~F.col(\"full_text\").startswith(\"RT\"))\\\n",
    "                        .drop_duplicates().cache()\n",
    "#sorting such when dropping later we only keep the most recent post \n",
    "df_json_sub = df_json_sub.sort(\"post_created_at\", ascending=False)\n",
    "#removing spam accounts \n",
    "df_json_sub = df_json_sub.drop_duplicates([\"full_text\", \"screen_name\"])\n",
    "                        \n",
    "df_json_sub.printSchema()\n",
    "df_json_sub.count() #1340938 "
   ]
  },
  {
   "cell_type": "code",
   "execution_count": null,
   "id": "4d14662d-55d1-400c-b52c-e06d568e34ef",
   "metadata": {},
   "outputs": [],
   "source": []
  },
  {
   "cell_type": "markdown",
   "id": "31c006eb-78a9-4bcf-b319-c71755ed1cec",
   "metadata": {},
   "source": [
    "# Feature Engineering "
   ]
  },
  {
   "cell_type": "code",
   "execution_count": 7,
   "id": "91d4cecc-aa3f-40f8-8a4b-1fa214d9f5db",
   "metadata": {},
   "outputs": [],
   "source": [
    "# define function to count hashtags\n",
    "def get_hashtags(tokenized_text):\n",
    "    counter = 0\n",
    "    for word in tokenized_text:\n",
    "        if \"#\" in word:\n",
    "            counter += 1\n",
    "    return(counter) \n",
    "# define function to count mentions\n",
    "def get_mentions(tokenized_text):\n",
    "    counter = 0\n",
    "    for word in tokenized_text:\n",
    "        if \"@\" in word:\n",
    "            counter += 1\n",
    "    return(counter)\n",
    "# define function to count exclamation marks\n",
    "def get_exclamation_marks(tokenized_text):\n",
    "    counter = 0\n",
    "    for word in tokenized_text:\n",
    "        if \"!\" in word:\n",
    "            counter += 1\n",
    "    return(counter)\n",
    "# define function to count number of emojis used\n",
    "import emojis\n",
    "def emoji_counter(text):\n",
    "    nr_emojis = emojis.count(text)\n",
    "    return(nr_emojis)\n",
    "# register functions as udf\n",
    "get_hashtags_UDF = F.udf(get_hashtags, IntegerType())\n",
    "get_mentions_UDF = F.udf(get_mentions, IntegerType())\n",
    "get_exclamation_marks_UDF = F.udf(get_exclamation_marks, IntegerType())\n",
    "emoji_counter_udf = F.udf(emoji_counter, IntegerType())\n"
   ]
  },
  {
   "cell_type": "code",
   "execution_count": null,
   "id": "85e72eba-6c0f-4039-90e7-f84785d90c62",
   "metadata": {},
   "outputs": [],
   "source": []
  }
 ],
 "metadata": {
  "kernelspec": {
   "display_name": "Python 3 (ipykernel)",
   "language": "python",
   "name": "python3"
  },
  "language_info": {
   "codemirror_mode": {
    "name": "ipython",
    "version": 3
   },
   "file_extension": ".py",
   "mimetype": "text/x-python",
   "name": "python",
   "nbconvert_exporter": "python",
   "pygments_lexer": "ipython3",
   "version": "3.10.8"
  }
 },
 "nbformat": 4,
 "nbformat_minor": 5
}
