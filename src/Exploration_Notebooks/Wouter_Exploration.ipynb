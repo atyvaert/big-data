{
 "cells": [
  {
   "cell_type": "code",
   "execution_count": 1,
   "id": "dd32da38",
   "metadata": {},
   "outputs": [],
   "source": [
    "# import packages\n",
    "import os \n",
    "import pickle\n",
    "\n",
    "import re\n",
    "from datetime import datetime\n",
    "\n",
    "import requests\n",
    "\n",
    "import pytz\n",
    "\n",
    "import pandas as pd\n",
    "import numpy as np\n",
    "\n",
    "import ast\n",
    "\n",
    "import pyspark.sql.functions as F\n",
    "from pyspark.sql.types import *\n",
    "from pyspark.sql.functions import *\n",
    "\n",
    "\n",
    "import matplotlib.pyplot as plt\n",
    "import seaborn as sns\n"
   ]
  },
  {
   "cell_type": "code",
   "execution_count": 2,
   "id": "87226276-9d83-48bc-9bc3-9219a428de2a",
   "metadata": {},
   "outputs": [
    {
     "name": "stdout",
     "output_type": "stream",
     "text": [
      "22/11/21 16:53:30 WARN Utils: Your hostname, MacBook-Pro-van-Wouter.local resolves to a loopback address: 127.0.0.1, but we couldn't find any external IP address!\n",
      "22/11/21 16:53:30 WARN Utils: Set SPARK_LOCAL_IP if you need to bind to another address\n"
     ]
    },
    {
     "name": "stderr",
     "output_type": "stream",
     "text": [
      "Setting default log level to \"WARN\".\n",
      "To adjust logging level use sc.setLogLevel(newLevel). For SparkR, use setLogLevel(newLevel).\n"
     ]
    },
    {
     "name": "stdout",
     "output_type": "stream",
     "text": [
      "22/11/21 16:53:31 WARN NativeCodeLoader: Unable to load native-hadoop library for your platform... using builtin-java classes where applicable\n"
     ]
    }
   ],
   "source": [
    "# import findspark\n",
    "import findspark\n",
    "\n",
    "# initialize findspark with spark directory\n",
    "\n",
    "#ALWAYS HAVE TO BE CHANGED \n",
    "findspark.init(\"/Users/wouterdewitte/spark/\")\n",
    "\n",
    "# import pyspark\n",
    "import pyspark\n",
    "# create spark context\n",
    "sc = pyspark.SparkContext()\n",
    "# create spark session \n",
    "spark = pyspark.sql.SparkSession(sc)"
   ]
  },
  {
   "cell_type": "code",
   "execution_count": 3,
   "id": "a5fd03ea-50af-4201-96b3-5ead4b26470d",
   "metadata": {},
   "outputs": [
    {
     "data": {
      "text/html": [
       "\n",
       "            <div>\n",
       "                <p><b>SparkSession - in-memory</b></p>\n",
       "                \n",
       "        <div>\n",
       "            <p><b>SparkContext</b></p>\n",
       "\n",
       "            <p><a href=\"http://localhost:4040\">Spark UI</a></p>\n",
       "\n",
       "            <dl>\n",
       "              <dt>Version</dt>\n",
       "                <dd><code>v3.3.1</code></dd>\n",
       "              <dt>Master</dt>\n",
       "                <dd><code>local[*]</code></dd>\n",
       "              <dt>AppName</dt>\n",
       "                <dd><code>pyspark-shell</code></dd>\n",
       "            </dl>\n",
       "        </div>\n",
       "        \n",
       "            </div>\n",
       "        "
      ],
      "text/plain": [
       "<pyspark.sql.session.SparkSession at 0x7fec68cc7e80>"
      ]
     },
     "execution_count": 3,
     "metadata": {},
     "output_type": "execute_result"
    }
   ],
   "source": [
    "spark"
   ]
  },
  {
   "cell_type": "code",
   "execution_count": 4,
   "id": "289cba5c-ff9a-4055-84a2-024b7a67f188",
   "metadata": {},
   "outputs": [],
   "source": [
    "#set this path to your path, for some reason I have an error \n",
    "#reading in all the files\n",
    "import os \n",
    "path_json = \".././../data/Topic_vegan/*.json\""
   ]
  },
  {
   "cell_type": "code",
   "execution_count": 5,
   "id": "0cd1fd47-245e-4ddb-a7df-e7c715ee78a3",
   "metadata": {},
   "outputs": [
    {
     "name": "stderr",
     "output_type": "stream",
     "text": [
      "                                                                                \r"
     ]
    },
    {
     "name": "stdout",
     "output_type": "stream",
     "text": [
      "22/11/21 16:54:29 WARN package: Truncated the string representation of a plan since it was too large. This behavior can be adjusted by setting 'spark.sql.debug.maxToStringFields'.\n"
     ]
    }
   ],
   "source": [
    "df_json = spark.read.json(path_json)"
   ]
  },
  {
   "cell_type": "code",
   "execution_count": 6,
   "id": "d6dc20a0-5ccc-4fb5-b1d9-f23610061c28",
   "metadata": {},
   "outputs": [
    {
     "data": {
      "text/html": [
       "<div>\n",
       "<style scoped>\n",
       "    .dataframe tbody tr th:only-of-type {\n",
       "        vertical-align: middle;\n",
       "    }\n",
       "\n",
       "    .dataframe tbody tr th {\n",
       "        vertical-align: top;\n",
       "    }\n",
       "\n",
       "    .dataframe thead th {\n",
       "        text-align: right;\n",
       "    }\n",
       "</style>\n",
       "<table border=\"1\" class=\"dataframe\">\n",
       "  <thead>\n",
       "    <tr style=\"text-align: right;\">\n",
       "      <th></th>\n",
       "      <th>name</th>\n",
       "      <th>screen_name</th>\n",
       "      <th>created_at</th>\n",
       "      <th>full_text</th>\n",
       "      <th>hashtags</th>\n",
       "      <th>lang</th>\n",
       "      <th>followers_count</th>\n",
       "      <th>friends_count</th>\n",
       "      <th>favourites_count</th>\n",
       "      <th>urls</th>\n",
       "      <th>symbols</th>\n",
       "      <th>retweet_count</th>\n",
       "      <th>favorite_count</th>\n",
       "    </tr>\n",
       "  </thead>\n",
       "  <tbody>\n",
       "    <tr>\n",
       "      <th>0</th>\n",
       "      <td>のり/Nori</td>\n",
       "      <td>nori_k_629</td>\n",
       "      <td>Mon Apr 04 10:09:55 +0000 2022</td>\n",
       "      <td>RT @ohmpawatt: เพื่อนๆคิดถึงผมมั้ยยย ถ้าคิดถึง...</td>\n",
       "      <td>[]</td>\n",
       "      <td>th</td>\n",
       "      <td>139</td>\n",
       "      <td>346</td>\n",
       "      <td>63382</td>\n",
       "      <td>[]</td>\n",
       "      <td>[]</td>\n",
       "      <td>3582</td>\n",
       "      <td>0</td>\n",
       "    </tr>\n",
       "    <tr>\n",
       "      <th>1</th>\n",
       "      <td>alice</td>\n",
       "      <td>myn4meizalize</td>\n",
       "      <td>Mon Apr 04 10:09:54 +0000 2022</td>\n",
       "      <td>RT @mynameisnanon: คิดถึงกันป่าว ถ้าคิดถึงต้อง...</td>\n",
       "      <td>[]</td>\n",
       "      <td>th</td>\n",
       "      <td>655</td>\n",
       "      <td>194</td>\n",
       "      <td>8726</td>\n",
       "      <td>[]</td>\n",
       "      <td>[]</td>\n",
       "      <td>3837</td>\n",
       "      <td>0</td>\n",
       "    </tr>\n",
       "    <tr>\n",
       "      <th>2</th>\n",
       "      <td>Karen Reed 🌸</td>\n",
       "      <td>kandk670</td>\n",
       "      <td>Mon Apr 04 10:09:54 +0000 2022</td>\n",
       "      <td>@trudiebakescake Organic coconut oil in a jar ...</td>\n",
       "      <td>[]</td>\n",
       "      <td>en</td>\n",
       "      <td>711</td>\n",
       "      <td>429</td>\n",
       "      <td>3420</td>\n",
       "      <td>[]</td>\n",
       "      <td>[]</td>\n",
       "      <td>0</td>\n",
       "      <td>0</td>\n",
       "    </tr>\n",
       "    <tr>\n",
       "      <th>3</th>\n",
       "      <td>ハル):)</td>\n",
       "      <td>patlnwza55</td>\n",
       "      <td>Mon Apr 04 10:09:52 +0000 2022</td>\n",
       "      <td>RT @ohmpawatt: เพื่อนๆคิดถึงผมมั้ยยย ถ้าคิดถึง...</td>\n",
       "      <td>[]</td>\n",
       "      <td>th</td>\n",
       "      <td>236</td>\n",
       "      <td>187</td>\n",
       "      <td>15655</td>\n",
       "      <td>[]</td>\n",
       "      <td>[]</td>\n",
       "      <td>3582</td>\n",
       "      <td>0</td>\n",
       "    </tr>\n",
       "    <tr>\n",
       "      <th>4</th>\n",
       "      <td>alice</td>\n",
       "      <td>myn4meizalize</td>\n",
       "      <td>Mon Apr 04 10:09:52 +0000 2022</td>\n",
       "      <td>RT @ohmpawatt: เพื่อนๆคิดถึงผมมั้ยยย ถ้าคิดถึง...</td>\n",
       "      <td>[]</td>\n",
       "      <td>th</td>\n",
       "      <td>655</td>\n",
       "      <td>194</td>\n",
       "      <td>8726</td>\n",
       "      <td>[]</td>\n",
       "      <td>[]</td>\n",
       "      <td>3582</td>\n",
       "      <td>0</td>\n",
       "    </tr>\n",
       "    <tr>\n",
       "      <th>5</th>\n",
       "      <td>ﾌｧﾙﾄﾞﾗっ子organic有機💙💻</td>\n",
       "      <td>organic_yusai</td>\n",
       "      <td>Mon Apr 04 10:09:52 +0000 2022</td>\n",
       "      <td>マジでピンチ助けて自転車ガガガガ</td>\n",
       "      <td>[]</td>\n",
       "      <td>ja</td>\n",
       "      <td>291</td>\n",
       "      <td>159</td>\n",
       "      <td>2886</td>\n",
       "      <td>[]</td>\n",
       "      <td>[]</td>\n",
       "      <td>0</td>\n",
       "      <td>1</td>\n",
       "    </tr>\n",
       "    <tr>\n",
       "      <th>6</th>\n",
       "      <td>のり/Nori</td>\n",
       "      <td>nori_k_629</td>\n",
       "      <td>Mon Apr 04 10:09:50 +0000 2022</td>\n",
       "      <td>RT @mynameisnanon: คิดถึงกันป่าว ถ้าคิดถึงต้อง...</td>\n",
       "      <td>[]</td>\n",
       "      <td>th</td>\n",
       "      <td>139</td>\n",
       "      <td>346</td>\n",
       "      <td>63382</td>\n",
       "      <td>[]</td>\n",
       "      <td>[]</td>\n",
       "      <td>3837</td>\n",
       "      <td>0</td>\n",
       "    </tr>\n",
       "    <tr>\n",
       "      <th>7</th>\n",
       "      <td>｡◕‿◕｡𝑱𝒆 𝒕'𝒂𝒊𝒎𝒆 🐶🧡✨</td>\n",
       "      <td>MyFnlovely97</td>\n",
       "      <td>Mon Apr 04 10:09:50 +0000 2022</td>\n",
       "      <td>RT @ohmpawatt: เพื่อนๆคิดถึงผมมั้ยยย ถ้าคิดถึง...</td>\n",
       "      <td>[]</td>\n",
       "      <td>th</td>\n",
       "      <td>245</td>\n",
       "      <td>213</td>\n",
       "      <td>31592</td>\n",
       "      <td>[]</td>\n",
       "      <td>[]</td>\n",
       "      <td>3582</td>\n",
       "      <td>0</td>\n",
       "    </tr>\n",
       "    <tr>\n",
       "      <th>8</th>\n",
       "      <td>Sang™</td>\n",
       "      <td>asan_gk</td>\n",
       "      <td>Mon Apr 04 10:09:50 +0000 2022</td>\n",
       "      <td>RT @NotechAna: Am I the only one who types in ...</td>\n",
       "      <td>[]</td>\n",
       "      <td>en</td>\n",
       "      <td>2065</td>\n",
       "      <td>1926</td>\n",
       "      <td>5901</td>\n",
       "      <td>[]</td>\n",
       "      <td>[]</td>\n",
       "      <td>374</td>\n",
       "      <td>0</td>\n",
       "    </tr>\n",
       "    <tr>\n",
       "      <th>9</th>\n",
       "      <td>Trysia ):)▪︎never let me go▪︎</td>\n",
       "      <td>Winnie_thephuu</td>\n",
       "      <td>Mon Apr 04 10:09:48 +0000 2022</td>\n",
       "      <td>RT @ohmpawatt: เพื่อนๆคิดถึงผมมั้ยยย ถ้าคิดถึง...</td>\n",
       "      <td>[]</td>\n",
       "      <td>th</td>\n",
       "      <td>379</td>\n",
       "      <td>460</td>\n",
       "      <td>18226</td>\n",
       "      <td>[]</td>\n",
       "      <td>[]</td>\n",
       "      <td>3582</td>\n",
       "      <td>0</td>\n",
       "    </tr>\n",
       "  </tbody>\n",
       "</table>\n",
       "</div>"
      ],
      "text/plain": [
       "                            name     screen_name  \\\n",
       "0                        のり/Nori      nori_k_629   \n",
       "1                          alice   myn4meizalize   \n",
       "2                   Karen Reed 🌸        kandk670   \n",
       "3                          ハル):)      patlnwza55   \n",
       "4                          alice   myn4meizalize   \n",
       "5            ﾌｧﾙﾄﾞﾗっ子organic有機💙💻   organic_yusai   \n",
       "6                        のり/Nori      nori_k_629   \n",
       "7             ｡◕‿◕｡𝑱𝒆 𝒕'𝒂𝒊𝒎𝒆 🐶🧡✨    MyFnlovely97   \n",
       "8                          Sang™         asan_gk   \n",
       "9  Trysia ):)▪︎never let me go▪︎  Winnie_thephuu   \n",
       "\n",
       "                       created_at  \\\n",
       "0  Mon Apr 04 10:09:55 +0000 2022   \n",
       "1  Mon Apr 04 10:09:54 +0000 2022   \n",
       "2  Mon Apr 04 10:09:54 +0000 2022   \n",
       "3  Mon Apr 04 10:09:52 +0000 2022   \n",
       "4  Mon Apr 04 10:09:52 +0000 2022   \n",
       "5  Mon Apr 04 10:09:52 +0000 2022   \n",
       "6  Mon Apr 04 10:09:50 +0000 2022   \n",
       "7  Mon Apr 04 10:09:50 +0000 2022   \n",
       "8  Mon Apr 04 10:09:50 +0000 2022   \n",
       "9  Mon Apr 04 10:09:48 +0000 2022   \n",
       "\n",
       "                                           full_text hashtags lang  \\\n",
       "0  RT @ohmpawatt: เพื่อนๆคิดถึงผมมั้ยยย ถ้าคิดถึง...       []   th   \n",
       "1  RT @mynameisnanon: คิดถึงกันป่าว ถ้าคิดถึงต้อง...       []   th   \n",
       "2  @trudiebakescake Organic coconut oil in a jar ...       []   en   \n",
       "3  RT @ohmpawatt: เพื่อนๆคิดถึงผมมั้ยยย ถ้าคิดถึง...       []   th   \n",
       "4  RT @ohmpawatt: เพื่อนๆคิดถึงผมมั้ยยย ถ้าคิดถึง...       []   th   \n",
       "5                                   マジでピンチ助けて自転車ガガガガ       []   ja   \n",
       "6  RT @mynameisnanon: คิดถึงกันป่าว ถ้าคิดถึงต้อง...       []   th   \n",
       "7  RT @ohmpawatt: เพื่อนๆคิดถึงผมมั้ยยย ถ้าคิดถึง...       []   th   \n",
       "8  RT @NotechAna: Am I the only one who types in ...       []   en   \n",
       "9  RT @ohmpawatt: เพื่อนๆคิดถึงผมมั้ยยย ถ้าคิดถึง...       []   th   \n",
       "\n",
       "   followers_count  friends_count  favourites_count urls symbols  \\\n",
       "0              139            346             63382   []      []   \n",
       "1              655            194              8726   []      []   \n",
       "2              711            429              3420   []      []   \n",
       "3              236            187             15655   []      []   \n",
       "4              655            194              8726   []      []   \n",
       "5              291            159              2886   []      []   \n",
       "6              139            346             63382   []      []   \n",
       "7              245            213             31592   []      []   \n",
       "8             2065           1926              5901   []      []   \n",
       "9              379            460             18226   []      []   \n",
       "\n",
       "   retweet_count  favorite_count  \n",
       "0           3582               0  \n",
       "1           3837               0  \n",
       "2              0               0  \n",
       "3           3582               0  \n",
       "4           3582               0  \n",
       "5              0               1  \n",
       "6           3837               0  \n",
       "7           3582               0  \n",
       "8            374               0  \n",
       "9           3582               0  "
      ]
     },
     "execution_count": 6,
     "metadata": {},
     "output_type": "execute_result"
    }
   ],
   "source": [
    "# select interesting features\n",
    "import pyspark.sql.functions as F\n",
    "\n",
    "df = df_json.select(F.col(\"user.name\"),\n",
    "                    F.col(\"user.screen_name\"),\n",
    "                    F.col(\"created_at\"), \n",
    "                    F.col(\"full_text\"),\n",
    "                    F.col(\"entities.hashtags\"),\n",
    "                    F.col(\"lang\"),\n",
    "                    F.col(\"user.followers_count\"),\n",
    "                    F.col(\"user.friends_count\"),\n",
    "                    F.col(\"user.favourites_count\"),\n",
    "                    F.col(\"entities.urls\"),\n",
    "                    F.col(\"entities.symbols\"),\n",
    "                    F.col(\"retweet_count\"),\n",
    "                    F.col(\"favorite_count\"))\n",
    "df.limit(10).toPandas()"
   ]
  },
  {
   "cell_type": "code",
   "execution_count": 7,
   "id": "a3dc3965",
   "metadata": {},
   "outputs": [],
   "source": [
    "# remove duplicates and retweets\n",
    "df = df.filter(~F.col(\"full_text\").startswith(\"RT\")) \\\n",
    "                               .drop_duplicates() \\\n",
    "                               .cache()"
   ]
  },
  {
   "cell_type": "code",
   "execution_count": 8,
   "id": "1cb69a21",
   "metadata": {},
   "outputs": [],
   "source": [
    "# https://developer.twitter.com/en/docs/twitter-ads-api/timezones\n",
    "# function to convert Twitter date string format\n",
    "def getDate(date):\n",
    "    if date is not None:\n",
    "        return str(datetime.strptime(date,'%a %b %d %H:%M:%S +0000 %Y').replace(tzinfo=pytz.UTC).strftime(\"%Y-%m-%d %H:%M:%S\"))\n",
    "    else:\n",
    "        return None\n",
    "\n",
    "# UDF declaration\n",
    "date_udf = F.udf(getDate, StringType())\n",
    "\n",
    "# apply udf\n",
    "df = df.withColumn('post_created_at', F.to_utc_timestamp(date_udf(\"created_at\"), \"UTC\"))"
   ]
  },
  {
   "cell_type": "code",
   "execution_count": 9,
   "id": "189ed624",
   "metadata": {},
   "outputs": [
    {
     "name": "stderr",
     "output_type": "stream",
     "text": [
      "[Stage 5:=========================>                              (90 + 8) / 200]\r"
     ]
    },
    {
     "name": "stdout",
     "output_type": "stream",
     "text": [
      "22/11/21 16:55:20 WARN MemoryStore: Not enough space to cache rdd_21_96 in memory! (computed 3.9 MiB so far)\n",
      "22/11/21 16:55:20 WARN BlockManager: Persisting block rdd_21_96 to disk instead.\n",
      "22/11/21 16:55:20 WARN MemoryStore: Not enough space to cache rdd_21_97 in memory! (computed 3.9 MiB so far)\n",
      "22/11/21 16:55:20 WARN BlockManager: Persisting block rdd_21_97 to disk instead.\n",
      "22/11/21 16:55:20 WARN MemoryStore: Not enough space to cache rdd_21_98 in memory! (computed 3.9 MiB so far)\n",
      "22/11/21 16:55:20 WARN BlockManager: Persisting block rdd_21_98 to disk instead.\n"
     ]
    },
    {
     "name": "stderr",
     "output_type": "stream",
     "text": [
      "[Stage 5:==========================>                             (93 + 8) / 200]\r"
     ]
    },
    {
     "name": "stdout",
     "output_type": "stream",
     "text": [
      "22/11/21 16:55:20 WARN MemoryStore: Not enough space to cache rdd_21_97 in memory! (computed 3.9 MiB so far)\n",
      "22/11/21 16:55:20 WARN MemoryStore: Not enough space to cache rdd_21_99 in memory! (computed 3.9 MiB so far)\n",
      "22/11/21 16:55:20 WARN BlockManager: Persisting block rdd_21_99 to disk instead.\n",
      "22/11/21 16:55:20 WARN MemoryStore: Failed to reserve initial memory threshold of 1024.0 KiB for computing block rdd_21_102 in memory.\n",
      "22/11/21 16:55:20 WARN MemoryStore: Not enough space to cache rdd_21_100 in memory! (computed 3.9 MiB so far)\n",
      "22/11/21 16:55:20 WARN BlockManager: Persisting block rdd_21_100 to disk instead.\n",
      "22/11/21 16:55:20 WARN MemoryStore: Not enough space to cache rdd_21_102 in memory! (computed 384.0 B so far)\n",
      "22/11/21 16:55:20 WARN BlockManager: Persisting block rdd_21_102 to disk instead.\n"
     ]
    },
    {
     "name": "stderr",
     "output_type": "stream",
     "text": [
      "[Stage 5:==========================>                             (95 + 8) / 200]\r"
     ]
    },
    {
     "name": "stdout",
     "output_type": "stream",
     "text": [
      "22/11/21 16:55:20 WARN MemoryStore: Not enough space to cache rdd_21_102 in memory! (computed 3.9 MiB so far)\n"
     ]
    },
    {
     "name": "stderr",
     "output_type": "stream",
     "text": [
      "[Stage 5:===========================>                           (101 + 8) / 200]\r"
     ]
    },
    {
     "name": "stdout",
     "output_type": "stream",
     "text": [
      "22/11/21 16:55:22 WARN MemoryStore: Not enough space to cache rdd_21_106 in memory! (computed 3.9 MiB so far)\n",
      "22/11/21 16:55:22 WARN BlockManager: Persisting block rdd_21_106 to disk instead.\n",
      "22/11/21 16:55:22 WARN MemoryStore: Not enough space to cache rdd_21_106 in memory! (computed 3.9 MiB so far)\n",
      "22/11/21 16:55:22 WARN MemoryStore: Not enough space to cache rdd_21_108 in memory! (computed 3.9 MiB so far)\n",
      "22/11/21 16:55:22 WARN BlockManager: Persisting block rdd_21_108 to disk instead.\n"
     ]
    },
    {
     "name": "stderr",
     "output_type": "stream",
     "text": [
      "[Stage 5:============================>                          (103 + 8) / 200]\r"
     ]
    },
    {
     "name": "stdout",
     "output_type": "stream",
     "text": [
      "22/11/21 16:55:22 WARN MemoryStore: Not enough space to cache rdd_21_109 in memory! (computed 3.9 MiB so far)\n",
      "22/11/21 16:55:22 WARN BlockManager: Persisting block rdd_21_109 to disk instead.\n",
      "22/11/21 16:55:22 WARN MemoryStore: Not enough space to cache rdd_21_109 in memory! (computed 3.9 MiB so far)\n"
     ]
    },
    {
     "name": "stderr",
     "output_type": "stream",
     "text": [
      "[Stage 5:=============================>                         (107 + 8) / 200]\r"
     ]
    },
    {
     "name": "stdout",
     "output_type": "stream",
     "text": [
      "22/11/21 16:55:24 WARN MemoryStore: Not enough space to cache rdd_21_114 in memory! (computed 3.9 MiB so far)\n",
      "22/11/21 16:55:24 WARN BlockManager: Persisting block rdd_21_114 to disk instead.\n",
      "22/11/21 16:55:24 WARN MemoryStore: Not enough space to cache rdd_21_114 in memory! (computed 3.9 MiB so far)\n",
      "22/11/21 16:55:24 WARN MemoryStore: Not enough space to cache rdd_21_116 in memory! (computed 3.9 MiB so far)\n",
      "22/11/21 16:55:24 WARN BlockManager: Persisting block rdd_21_116 to disk instead.\n",
      "22/11/21 16:55:24 WARN MemoryStore: Not enough space to cache rdd_21_117 in memory! (computed 3.9 MiB so far)\n"
     ]
    },
    {
     "name": "stderr",
     "output_type": "stream",
     "text": [
      "[Stage 5:==============================>                        (110 + 8) / 200]\r"
     ]
    },
    {
     "name": "stdout",
     "output_type": "stream",
     "text": [
      "22/11/21 16:55:24 WARN BlockManager: Persisting block rdd_21_117 to disk instead.\n"
     ]
    },
    {
     "name": "stderr",
     "output_type": "stream",
     "text": [
      "[Stage 5:===============================>                       (113 + 8) / 200]\r"
     ]
    },
    {
     "name": "stdout",
     "output_type": "stream",
     "text": [
      "22/11/21 16:55:25 WARN MemoryStore: Not enough space to cache rdd_21_121 in memory! (computed 3.9 MiB so far)\n",
      "22/11/21 16:55:25 WARN BlockManager: Persisting block rdd_21_121 to disk instead.\n"
     ]
    },
    {
     "name": "stderr",
     "output_type": "stream",
     "text": [
      "[Stage 5:================================>                      (119 + 8) / 200]\r"
     ]
    },
    {
     "name": "stdout",
     "output_type": "stream",
     "text": [
      "22/11/21 16:55:26 WARN MemoryStore: Not enough space to cache rdd_21_126 in memory! (computed 3.9 MiB so far)\n",
      "22/11/21 16:55:26 WARN BlockManager: Persisting block rdd_21_126 to disk instead.\n",
      "22/11/21 16:55:26 WARN MemoryStore: Not enough space to cache rdd_21_126 in memory! (computed 3.9 MiB so far)\n"
     ]
    },
    {
     "name": "stderr",
     "output_type": "stream",
     "text": [
      "[Stage 5:=================================>                     (123 + 8) / 200]\r"
     ]
    },
    {
     "name": "stdout",
     "output_type": "stream",
     "text": [
      "22/11/21 16:55:27 WARN MemoryStore: Not enough space to cache rdd_21_129 in memory! (computed 3.9 MiB so far)\n",
      "22/11/21 16:55:27 WARN BlockManager: Persisting block rdd_21_129 to disk instead.\n"
     ]
    },
    {
     "name": "stderr",
     "output_type": "stream",
     "text": [
      "[Stage 5:==================================>                    (125 + 8) / 200]\r"
     ]
    },
    {
     "name": "stdout",
     "output_type": "stream",
     "text": [
      "22/11/21 16:55:27 WARN MemoryStore: Not enough space to cache rdd_21_133 in memory! (computed 3.9 MiB so far)\n",
      "22/11/21 16:55:27 WARN BlockManager: Persisting block rdd_21_133 to disk instead.\n",
      "22/11/21 16:55:28 WARN MemoryStore: Not enough space to cache rdd_21_135 in memory! (computed 3.9 MiB so far)\n",
      "22/11/21 16:55:28 WARN BlockManager: Persisting block rdd_21_135 to disk instead.\n"
     ]
    },
    {
     "name": "stderr",
     "output_type": "stream",
     "text": [
      "[Stage 5:===================================>                   (128 + 8) / 200]\r"
     ]
    },
    {
     "name": "stdout",
     "output_type": "stream",
     "text": [
      "22/11/21 16:55:29 WARN MemoryStore: Not enough space to cache rdd_21_136 in memory! (computed 3.9 MiB so far)\n",
      "22/11/21 16:55:29 WARN BlockManager: Persisting block rdd_21_136 to disk instead.\n",
      "22/11/21 16:55:29 WARN MemoryStore: Failed to reserve initial memory threshold of 1024.0 KiB for computing block rdd_21_139 in memory.\n",
      "22/11/21 16:55:29 WARN MemoryStore: Not enough space to cache rdd_21_139 in memory! (computed 384.0 B so far)\n",
      "22/11/21 16:55:29 WARN BlockManager: Persisting block rdd_21_139 to disk instead.\n"
     ]
    },
    {
     "name": "stderr",
     "output_type": "stream",
     "text": [
      "[Stage 5:====================================>                  (133 + 8) / 200]\r"
     ]
    },
    {
     "name": "stdout",
     "output_type": "stream",
     "text": [
      "22/11/21 16:55:29 WARN MemoryStore: Not enough space to cache rdd_21_139 in memory! (computed 3.9 MiB so far)\n"
     ]
    },
    {
     "name": "stderr",
     "output_type": "stream",
     "text": [
      "[Stage 5:====================================>                  (134 + 8) / 200]\r"
     ]
    },
    {
     "name": "stdout",
     "output_type": "stream",
     "text": [
      "22/11/21 16:55:29 WARN MemoryStore: Failed to reserve initial memory threshold of 1024.0 KiB for computing block rdd_21_142 in memory.\n",
      "22/11/21 16:55:29 WARN MemoryStore: Not enough space to cache rdd_21_142 in memory! (computed 384.0 B so far)\n",
      "22/11/21 16:55:29 WARN BlockManager: Persisting block rdd_21_142 to disk instead.\n"
     ]
    },
    {
     "name": "stderr",
     "output_type": "stream",
     "text": [
      "[Stage 5:======================================>                (141 + 8) / 200]\r"
     ]
    },
    {
     "name": "stdout",
     "output_type": "stream",
     "text": [
      "22/11/21 16:55:31 WARN MemoryStore: Failed to reserve initial memory threshold of 1024.0 KiB for computing block rdd_21_147 in memory.\n",
      "22/11/21 16:55:31 WARN MemoryStore: Failed to reserve initial memory threshold of 1024.0 KiB for computing block rdd_21_148 in memory.\n",
      "22/11/21 16:55:31 WARN MemoryStore: Not enough space to cache rdd_21_147 in memory! (computed 384.0 B so far)\n",
      "22/11/21 16:55:31 WARN BlockManager: Persisting block rdd_21_147 to disk instead.\n",
      "22/11/21 16:55:31 WARN MemoryStore: Not enough space to cache rdd_21_144 in memory! (computed 3.9 MiB so far)\n",
      "22/11/21 16:55:31 WARN BlockManager: Persisting block rdd_21_144 to disk instead.\n",
      "22/11/21 16:55:31 WARN MemoryStore: Not enough space to cache rdd_21_148 in memory! (computed 384.0 B so far)\n",
      "22/11/21 16:55:31 WARN BlockManager: Persisting block rdd_21_148 to disk instead.\n"
     ]
    },
    {
     "name": "stderr",
     "output_type": "stream",
     "text": [
      "[Stage 5:=======================================>               (144 + 8) / 200]\r"
     ]
    },
    {
     "name": "stdout",
     "output_type": "stream",
     "text": [
      "22/11/21 16:55:31 WARN MemoryStore: Not enough space to cache rdd_21_150 in memory! (computed 3.9 MiB so far)\n",
      "22/11/21 16:55:31 WARN BlockManager: Persisting block rdd_21_150 to disk instead.\n",
      "22/11/21 16:55:31 WARN MemoryStore: Not enough space to cache rdd_21_151 in memory! (computed 3.9 MiB so far)\n",
      "22/11/21 16:55:31 WARN BlockManager: Persisting block rdd_21_151 to disk instead.\n"
     ]
    },
    {
     "name": "stderr",
     "output_type": "stream",
     "text": [
      "[Stage 5:========================================>              (146 + 8) / 200]\r"
     ]
    },
    {
     "name": "stdout",
     "output_type": "stream",
     "text": [
      "22/11/21 16:55:33 WARN MemoryStore: Not enough space to cache rdd_21_152 in memory! (computed 3.9 MiB so far)\n",
      "22/11/21 16:55:33 WARN BlockManager: Persisting block rdd_21_152 to disk instead.\n",
      "22/11/21 16:55:33 WARN MemoryStore: Not enough space to cache rdd_21_153 in memory! (computed 3.9 MiB so far)\n",
      "22/11/21 16:55:33 WARN BlockManager: Persisting block rdd_21_153 to disk instead.\n",
      "22/11/21 16:55:33 WARN MemoryStore: Not enough space to cache rdd_21_153 in memory! (computed 3.9 MiB so far)\n",
      "22/11/21 16:55:33 WARN MemoryStore: Not enough space to cache rdd_21_154 in memory! (computed 3.9 MiB so far)\n",
      "22/11/21 16:55:33 WARN BlockManager: Persisting block rdd_21_154 to disk instead.\n",
      "22/11/21 16:55:33 WARN MemoryStore: Not enough space to cache rdd_21_156 in memory! (computed 3.9 MiB so far)\n",
      "22/11/21 16:55:33 WARN BlockManager: Persisting block rdd_21_156 to disk instead.\n"
     ]
    },
    {
     "name": "stderr",
     "output_type": "stream",
     "text": [
      "[Stage 5:========================================>              (149 + 8) / 200]\r"
     ]
    },
    {
     "name": "stdout",
     "output_type": "stream",
     "text": [
      "22/11/21 16:55:33 WARN MemoryStore: Not enough space to cache rdd_21_156 in memory! (computed 3.9 MiB so far)\n",
      "22/11/21 16:55:33 WARN MemoryStore: Failed to reserve initial memory threshold of 1024.0 KiB for computing block rdd_21_158 in memory.\n",
      "22/11/21 16:55:33 WARN MemoryStore: Not enough space to cache rdd_21_158 in memory! (computed 384.0 B so far)\n",
      "22/11/21 16:55:33 WARN BlockManager: Persisting block rdd_21_158 to disk instead.\n",
      "22/11/21 16:55:33 WARN MemoryStore: Not enough space to cache rdd_21_157 in memory! (computed 3.9 MiB so far)\n",
      "22/11/21 16:55:33 WARN BlockManager: Persisting block rdd_21_157 to disk instead.\n"
     ]
    },
    {
     "name": "stderr",
     "output_type": "stream",
     "text": [
      "[Stage 5:=========================================>             (152 + 8) / 200]\r"
     ]
    },
    {
     "name": "stdout",
     "output_type": "stream",
     "text": [
      "22/11/21 16:55:34 WARN MemoryStore: Not enough space to cache rdd_21_160 in memory! (computed 3.9 MiB so far)\n",
      "22/11/21 16:55:34 WARN BlockManager: Persisting block rdd_21_160 to disk instead.\n",
      "22/11/21 16:55:34 WARN MemoryStore: Not enough space to cache rdd_21_161 in memory! (computed 3.9 MiB so far)\n",
      "22/11/21 16:55:34 WARN BlockManager: Persisting block rdd_21_161 to disk instead.\n",
      "22/11/21 16:55:34 WARN MemoryStore: Not enough space to cache rdd_21_161 in memory! (computed 3.9 MiB so far)\n",
      "22/11/21 16:55:34 WARN MemoryStore: Not enough space to cache rdd_21_163 in memory! (computed 3.9 MiB so far)\n",
      "22/11/21 16:55:34 WARN BlockManager: Persisting block rdd_21_163 to disk instead.\n"
     ]
    },
    {
     "name": "stderr",
     "output_type": "stream",
     "text": [
      "[Stage 5:===========================================>           (157 + 8) / 200]\r"
     ]
    },
    {
     "name": "stdout",
     "output_type": "stream",
     "text": [
      "22/11/21 16:55:34 WARN MemoryStore: Not enough space to cache rdd_21_164 in memory! (computed 3.9 MiB so far)\n",
      "22/11/21 16:55:34 WARN BlockManager: Persisting block rdd_21_164 to disk instead.\n",
      "22/11/21 16:55:35 WARN MemoryStore: Not enough space to cache rdd_21_164 in memory! (computed 3.9 MiB so far)\n"
     ]
    },
    {
     "name": "stderr",
     "output_type": "stream",
     "text": [
      "[Stage 5:============================================>          (163 + 8) / 200]\r"
     ]
    },
    {
     "name": "stdout",
     "output_type": "stream",
     "text": [
      "22/11/21 16:55:36 WARN MemoryStore: Not enough space to cache rdd_21_168 in memory! (computed 3.9 MiB so far)\n",
      "22/11/21 16:55:36 WARN BlockManager: Persisting block rdd_21_168 to disk instead.\n",
      "22/11/21 16:55:36 WARN MemoryStore: Not enough space to cache rdd_21_169 in memory! (computed 3.9 MiB so far)\n",
      "22/11/21 16:55:36 WARN BlockManager: Persisting block rdd_21_169 to disk instead.\n",
      "22/11/21 16:55:36 WARN MemoryStore: Not enough space to cache rdd_21_169 in memory! (computed 3.9 MiB so far)\n"
     ]
    },
    {
     "name": "stderr",
     "output_type": "stream",
     "text": [
      "[Stage 5:===============================================>       (172 + 8) / 200]\r"
     ]
    },
    {
     "name": "stdout",
     "output_type": "stream",
     "text": [
      "22/11/21 16:55:38 WARN MemoryStore: Not enough space to cache rdd_21_176 in memory! (computed 3.9 MiB so far)\n",
      "22/11/21 16:55:38 WARN BlockManager: Persisting block rdd_21_176 to disk instead.\n",
      "22/11/21 16:55:38 WARN MemoryStore: Not enough space to cache rdd_21_178 in memory! (computed 3.9 MiB so far)\n",
      "22/11/21 16:55:38 WARN BlockManager: Persisting block rdd_21_178 to disk instead.\n",
      "22/11/21 16:55:38 WARN MemoryStore: Not enough space to cache rdd_21_178 in memory! (computed 3.9 MiB so far)\n"
     ]
    },
    {
     "name": "stderr",
     "output_type": "stream",
     "text": [
      "[Stage 5:================================================>      (176 + 8) / 200]\r"
     ]
    },
    {
     "name": "stdout",
     "output_type": "stream",
     "text": [
      "22/11/21 16:55:39 WARN MemoryStore: Not enough space to cache rdd_21_182 in memory! (computed 3.9 MiB so far)\n",
      "22/11/21 16:55:39 WARN BlockManager: Persisting block rdd_21_182 to disk instead.\n",
      "22/11/21 16:55:39 WARN MemoryStore: Not enough space to cache rdd_21_183 in memory! (computed 3.9 MiB so far)\n",
      "22/11/21 16:55:39 WARN BlockManager: Persisting block rdd_21_183 to disk instead.\n",
      "22/11/21 16:55:39 WARN MemoryStore: Not enough space to cache rdd_21_183 in memory! (computed 3.9 MiB so far)\n"
     ]
    },
    {
     "name": "stderr",
     "output_type": "stream",
     "text": [
      "[Stage 5:=================================================>     (180 + 8) / 200]\r"
     ]
    },
    {
     "name": "stdout",
     "output_type": "stream",
     "text": [
      "22/11/21 16:55:40 WARN MemoryStore: Not enough space to cache rdd_21_187 in memory! (computed 3.9 MiB so far)\n",
      "22/11/21 16:55:40 WARN BlockManager: Persisting block rdd_21_187 to disk instead.\n",
      "22/11/21 16:55:40 WARN MemoryStore: Not enough space to cache rdd_21_188 in memory! (computed 3.9 MiB so far)\n",
      "22/11/21 16:55:40 WARN BlockManager: Persisting block rdd_21_188 to disk instead.\n",
      "22/11/21 16:55:40 WARN MemoryStore: Not enough space to cache rdd_21_188 in memory! (computed 3.9 MiB so far)\n"
     ]
    },
    {
     "name": "stderr",
     "output_type": "stream",
     "text": [
      "[Stage 5:==================================================>    (182 + 8) / 200]\r"
     ]
    },
    {
     "name": "stdout",
     "output_type": "stream",
     "text": [
      "22/11/21 16:55:40 WARN MemoryStore: Not enough space to cache rdd_21_189 in memory! (computed 3.9 MiB so far)\n",
      "22/11/21 16:55:40 WARN BlockManager: Persisting block rdd_21_189 to disk instead.\n",
      "22/11/21 16:55:40 WARN MemoryStore: Not enough space to cache rdd_21_190 in memory! (computed 3.9 MiB so far)\n",
      "22/11/21 16:55:40 WARN BlockManager: Persisting block rdd_21_190 to disk instead.\n",
      "22/11/21 16:55:40 WARN MemoryStore: Not enough space to cache rdd_21_190 in memory! (computed 3.9 MiB so far)\n"
     ]
    },
    {
     "name": "stderr",
     "output_type": "stream",
     "text": [
      "[Stage 5:==================================================>    (185 + 8) / 200]\r"
     ]
    },
    {
     "name": "stdout",
     "output_type": "stream",
     "text": [
      "22/11/21 16:55:42 WARN MemoryStore: Not enough space to cache rdd_21_192 in memory! (computed 3.9 MiB so far)\n",
      "22/11/21 16:55:42 WARN BlockManager: Persisting block rdd_21_192 to disk instead.\n",
      "22/11/21 16:55:42 WARN MemoryStore: Not enough space to cache rdd_21_192 in memory! (computed 3.9 MiB so far)\n",
      "22/11/21 16:55:42 WARN MemoryStore: Not enough space to cache rdd_21_195 in memory! (computed 3.9 MiB so far)\n",
      "22/11/21 16:55:42 WARN BlockManager: Persisting block rdd_21_195 to disk instead.\n"
     ]
    },
    {
     "name": "stderr",
     "output_type": "stream",
     "text": [
      "[Stage 5:======================================================>(197 + 3) / 200]\r"
     ]
    },
    {
     "name": "stdout",
     "output_type": "stream",
     "text": [
      "+-------------------+-------------------+\n",
      "|           earliest|             latest|\n",
      "+-------------------+-------------------+\n",
      "|2021-10-12 16:08:51|2022-10-11 23:17:33|\n",
      "+-------------------+-------------------+\n",
      "\n"
     ]
    },
    {
     "name": "stderr",
     "output_type": "stream",
     "text": [
      "                                                                                \r"
     ]
    }
   ],
   "source": [
    "# get first post\n",
    "first_post = F.min('post_created_at').alias('earliest')\n",
    "# get latest post\n",
    "latest_post = F.max('post_created_at').alias('latest')\n",
    "# show tweet period in our dataset\n",
    "df.select(first_post, latest_post).show()"
   ]
  },
  {
   "cell_type": "code",
   "execution_count": 10,
   "id": "055adbd8",
   "metadata": {},
   "outputs": [
    {
     "name": "stdout",
     "output_type": "stream",
     "text": [
      "root\n",
      " |-- name: string (nullable = true)\n",
      " |-- screen_name: string (nullable = true)\n",
      " |-- created_at: string (nullable = true)\n",
      " |-- full_text: string (nullable = true)\n",
      " |-- hashtags: array (nullable = true)\n",
      " |    |-- element: struct (containsNull = true)\n",
      " |    |    |-- indices: array (nullable = true)\n",
      " |    |    |    |-- element: long (containsNull = true)\n",
      " |    |    |-- text: string (nullable = true)\n",
      " |-- lang: string (nullable = true)\n",
      " |-- followers_count: long (nullable = true)\n",
      " |-- friends_count: long (nullable = true)\n",
      " |-- favourites_count: long (nullable = true)\n",
      " |-- urls: array (nullable = true)\n",
      " |    |-- element: struct (containsNull = true)\n",
      " |    |    |-- display_url: string (nullable = true)\n",
      " |    |    |-- expanded_url: string (nullable = true)\n",
      " |    |    |-- indices: array (nullable = true)\n",
      " |    |    |    |-- element: long (containsNull = true)\n",
      " |    |    |-- url: string (nullable = true)\n",
      " |-- symbols: array (nullable = true)\n",
      " |    |-- element: struct (containsNull = true)\n",
      " |    |    |-- indices: array (nullable = true)\n",
      " |    |    |    |-- element: long (containsNull = true)\n",
      " |    |    |-- text: string (nullable = true)\n",
      " |-- retweet_count: long (nullable = true)\n",
      " |-- favorite_count: long (nullable = true)\n",
      " |-- post_created_at: timestamp (nullable = true)\n",
      "\n"
     ]
    }
   ],
   "source": [
    "df.printSchema()"
   ]
  },
  {
   "cell_type": "markdown",
   "id": "e6bfa305",
   "metadata": {},
   "source": [
    "# The evolution of tweet activity"
   ]
  },
  {
   "cell_type": "markdown",
   "id": "4cbf6f74",
   "metadata": {},
   "source": [
    "Look at the frequency of tweets per month."
   ]
  },
  {
   "cell_type": "code",
   "execution_count": 11,
   "id": "5047d2af",
   "metadata": {},
   "outputs": [],
   "source": [
    "freq_month = df.withColumn('month', month('post_created_at'))"
   ]
  },
  {
   "cell_type": "code",
   "execution_count": 12,
   "id": "331dfdb3",
   "metadata": {},
   "outputs": [],
   "source": [
    "freq_month = freq_month.groupBy(\"month\") \\\n",
    "                        .agg(countDistinct(\"full_text\")) \\\n",
    "                        .withColumnRenamed(\"count(full_text)\", \"freq\") \\\n",
    "                        .sort(\"month\", ascending = True)"
   ]
  },
  {
   "cell_type": "code",
   "execution_count": 13,
   "id": "fc94ce21",
   "metadata": {},
   "outputs": [
    {
     "name": "stdout",
     "output_type": "stream",
     "text": [
      "22/11/21 16:55:44 WARN MemoryStore: Not enough space to cache rdd_21_5 in memory! (computed 3.9 MiB so far)\n",
      "22/11/21 16:55:44 WARN MemoryStore: Not enough space to cache rdd_21_6 in memory! (computed 3.9 MiB so far)\n",
      "22/11/21 16:55:44 WARN MemoryStore: Not enough space to cache rdd_21_0 in memory! (computed 3.9 MiB so far)\n",
      "22/11/21 16:55:44 WARN MemoryStore: Not enough space to cache rdd_21_2 in memory! (computed 3.9 MiB so far)\n",
      "22/11/21 16:55:44 WARN MemoryStore: Not enough space to cache rdd_21_4 in memory! (computed 3.9 MiB so far)\n",
      "22/11/21 16:55:44 WARN MemoryStore: Not enough space to cache rdd_21_7 in memory! (computed 3.9 MiB so far)\n"
     ]
    },
    {
     "name": "stderr",
     "output_type": "stream",
     "text": [
      "[Stage 10:>                                                       (0 + 8) / 200]\r"
     ]
    },
    {
     "name": "stdout",
     "output_type": "stream",
     "text": [
      "22/11/21 16:55:46 WARN MemoryStore: Failed to reserve initial memory threshold of 1024.0 KiB for computing block rdd_21_11 in memory.\n",
      "22/11/21 16:55:46 WARN MemoryStore: Not enough space to cache rdd_21_11 in memory! (computed 384.0 B so far)\n"
     ]
    },
    {
     "name": "stderr",
     "output_type": "stream",
     "text": [
      "[Stage 10:=>                                                      (6 + 8) / 200]\r"
     ]
    },
    {
     "name": "stdout",
     "output_type": "stream",
     "text": [
      "22/11/21 16:55:46 WARN MemoryStore: Not enough space to cache rdd_21_14 in memory! (computed 3.9 MiB so far)\n"
     ]
    },
    {
     "name": "stderr",
     "output_type": "stream",
     "text": [
      "[Stage 10:==>                                                     (8 + 8) / 200]\r"
     ]
    },
    {
     "name": "stdout",
     "output_type": "stream",
     "text": [
      "22/11/21 16:55:48 WARN MemoryStore: Not enough space to cache rdd_21_18 in memory! (computed 3.9 MiB so far)\n",
      "22/11/21 16:55:48 WARN MemoryStore: Not enough space to cache rdd_21_21 in memory! (computed 3.9 MiB so far)\n"
     ]
    },
    {
     "name": "stderr",
     "output_type": "stream",
     "text": [
      "[Stage 10:====>                                                  (17 + 8) / 200]\r"
     ]
    },
    {
     "name": "stdout",
     "output_type": "stream",
     "text": [
      "22/11/21 16:55:49 WARN MemoryStore: Not enough space to cache rdd_21_28 in memory! (computed 3.9 MiB so far)\n",
      "22/11/21 16:55:49 WARN MemoryStore: Not enough space to cache rdd_21_30 in memory! (computed 3.9 MiB so far)\n"
     ]
    },
    {
     "name": "stderr",
     "output_type": "stream",
     "text": [
      "[Stage 10:=======>                                               (27 + 9) / 200]\r"
     ]
    },
    {
     "name": "stdout",
     "output_type": "stream",
     "text": [
      "22/11/21 16:55:51 WARN MemoryStore: Not enough space to cache rdd_21_36 in memory! (computed 3.9 MiB so far)\n",
      "22/11/21 16:55:51 WARN MemoryStore: Not enough space to cache rdd_21_38 in memory! (computed 3.9 MiB so far)\n",
      "22/11/21 16:55:51 WARN MemoryStore: Not enough space to cache rdd_21_37 in memory! (computed 3.9 MiB so far)\n"
     ]
    },
    {
     "name": "stderr",
     "output_type": "stream",
     "text": [
      "[Stage 10:=========>                                             (36 + 8) / 200]\r"
     ]
    },
    {
     "name": "stdout",
     "output_type": "stream",
     "text": [
      "22/11/21 16:55:53 WARN MemoryStore: Not enough space to cache rdd_21_42 in memory! (computed 3.9 MiB so far)\n",
      "22/11/21 16:55:53 WARN MemoryStore: Not enough space to cache rdd_21_44 in memory! (computed 3.9 MiB so far)\n",
      "22/11/21 16:55:53 WARN MemoryStore: Not enough space to cache rdd_21_45 in memory! (computed 3.9 MiB so far)\n"
     ]
    },
    {
     "name": "stderr",
     "output_type": "stream",
     "text": [
      "[Stage 10:===========>                                           (42 + 8) / 200]\r"
     ]
    },
    {
     "name": "stdout",
     "output_type": "stream",
     "text": [
      "22/11/21 16:55:55 WARN MemoryStore: Not enough space to cache rdd_21_50 in memory! (computed 3.9 MiB so far)\n"
     ]
    },
    {
     "name": "stderr",
     "output_type": "stream",
     "text": [
      "[Stage 10:===========>                                           (43 + 8) / 200]\r"
     ]
    },
    {
     "name": "stdout",
     "output_type": "stream",
     "text": [
      "22/11/21 16:55:55 WARN MemoryStore: Not enough space to cache rdd_21_54 in memory! (computed 3.9 MiB so far)\n"
     ]
    },
    {
     "name": "stderr",
     "output_type": "stream",
     "text": [
      "[Stage 10:=============>                                         (48 + 8) / 200]\r"
     ]
    },
    {
     "name": "stdout",
     "output_type": "stream",
     "text": [
      "22/11/21 16:55:57 WARN MemoryStore: Not enough space to cache rdd_21_58 in memory! (computed 3.9 MiB so far)\n"
     ]
    },
    {
     "name": "stderr",
     "output_type": "stream",
     "text": [
      "[Stage 10:===============>                                       (55 + 8) / 200]\r"
     ]
    },
    {
     "name": "stdout",
     "output_type": "stream",
     "text": [
      "22/11/21 16:55:57 WARN MemoryStore: Not enough space to cache rdd_21_62 in memory! (computed 3.9 MiB so far)\n"
     ]
    },
    {
     "name": "stderr",
     "output_type": "stream",
     "text": [
      "[Stage 10:===============>                                       (57 + 8) / 200]\r"
     ]
    },
    {
     "name": "stdout",
     "output_type": "stream",
     "text": [
      "22/11/21 16:55:58 WARN MemoryStore: Not enough space to cache rdd_21_65 in memory! (computed 3.9 MiB so far)\n"
     ]
    },
    {
     "name": "stderr",
     "output_type": "stream",
     "text": [
      "[Stage 10:=================>                                     (63 + 8) / 200]\r"
     ]
    },
    {
     "name": "stdout",
     "output_type": "stream",
     "text": [
      "22/11/21 16:55:59 WARN MemoryStore: Not enough space to cache rdd_21_67 in memory! (computed 3.9 MiB so far)\n",
      "22/11/21 16:55:59 WARN MemoryStore: Not enough space to cache rdd_21_70 in memory! (computed 3.9 MiB so far)\n",
      "22/11/21 16:55:59 WARN MemoryStore: Not enough space to cache rdd_21_71 in memory! (computed 3.9 MiB so far)\n"
     ]
    },
    {
     "name": "stderr",
     "output_type": "stream",
     "text": [
      "[Stage 10:=================>                                     (64 + 8) / 200]\r"
     ]
    },
    {
     "name": "stdout",
     "output_type": "stream",
     "text": [
      "22/11/21 16:56:00 WARN MemoryStore: Not enough space to cache rdd_21_74 in memory! (computed 3.9 MiB so far)\n"
     ]
    },
    {
     "name": "stderr",
     "output_type": "stream",
     "text": [
      "[Stage 10:==================>                                    (68 + 8) / 200]\r"
     ]
    },
    {
     "name": "stdout",
     "output_type": "stream",
     "text": [
      "22/11/21 16:56:01 WARN MemoryStore: Not enough space to cache rdd_21_78 in memory! (computed 3.9 MiB so far)\n"
     ]
    },
    {
     "name": "stderr",
     "output_type": "stream",
     "text": [
      "[Stage 10:===================>                                   (71 + 8) / 200]\r"
     ]
    },
    {
     "name": "stdout",
     "output_type": "stream",
     "text": [
      "22/11/21 16:56:01 WARN MemoryStore: Not enough space to cache rdd_21_79 in memory! (computed 3.9 MiB so far)\n"
     ]
    },
    {
     "name": "stderr",
     "output_type": "stream",
     "text": [
      "[Stage 10:===================>                                   (72 + 8) / 200]\r"
     ]
    },
    {
     "name": "stdout",
     "output_type": "stream",
     "text": [
      "22/11/21 16:56:02 WARN MemoryStore: Not enough space to cache rdd_21_81 in memory! (computed 3.9 MiB so far)\n"
     ]
    },
    {
     "name": "stderr",
     "output_type": "stream",
     "text": [
      "[Stage 10:====================>                                  (75 + 8) / 200]\r"
     ]
    },
    {
     "name": "stdout",
     "output_type": "stream",
     "text": [
      "22/11/21 16:56:02 WARN MemoryStore: Not enough space to cache rdd_21_83 in memory! (computed 3.9 MiB so far)\n",
      "22/11/21 16:56:02 WARN MemoryStore: Not enough space to cache rdd_21_85 in memory! (computed 3.9 MiB so far)\n"
     ]
    },
    {
     "name": "stderr",
     "output_type": "stream",
     "text": [
      "[Stage 10:=====================>                                 (79 + 8) / 200]\r"
     ]
    },
    {
     "name": "stdout",
     "output_type": "stream",
     "text": [
      "22/11/21 16:56:02 WARN MemoryStore: Not enough space to cache rdd_21_86 in memory! (computed 3.9 MiB so far)\n",
      "22/11/21 16:56:03 WARN MemoryStore: Not enough space to cache rdd_21_87 in memory! (computed 3.9 MiB so far)\n"
     ]
    },
    {
     "name": "stderr",
     "output_type": "stream",
     "text": [
      "[Stage 10:======================>                                (83 + 8) / 200]\r"
     ]
    },
    {
     "name": "stdout",
     "output_type": "stream",
     "text": [
      "22/11/21 16:56:04 WARN MemoryStore: Not enough space to cache rdd_21_90 in memory! (computed 3.9 MiB so far)\n"
     ]
    },
    {
     "name": "stderr",
     "output_type": "stream",
     "text": [
      "[Stage 10:=======================>                               (85 + 8) / 200]\r"
     ]
    },
    {
     "name": "stdout",
     "output_type": "stream",
     "text": [
      "22/11/21 16:56:04 WARN MemoryStore: Not enough space to cache rdd_21_93 in memory! (computed 3.9 MiB so far)\n",
      "22/11/21 16:56:04 WARN MemoryStore: Not enough space to cache rdd_21_94 in memory! (computed 3.9 MiB so far)\n",
      "22/11/21 16:56:04 WARN MemoryStore: Not enough space to cache rdd_21_95 in memory! (computed 3.9 MiB so far)\n"
     ]
    },
    {
     "name": "stderr",
     "output_type": "stream",
     "text": [
      "[Stage 10:========================>                              (88 + 8) / 200]\r"
     ]
    },
    {
     "name": "stdout",
     "output_type": "stream",
     "text": [
      "22/11/21 16:56:05 WARN MemoryStore: Not enough space to cache rdd_21_98 in memory! (computed 3.9 MiB so far)\n"
     ]
    },
    {
     "name": "stderr",
     "output_type": "stream",
     "text": [
      "[Stage 10:=========================>                             (91 + 8) / 200]\r"
     ]
    },
    {
     "name": "stdout",
     "output_type": "stream",
     "text": [
      "22/11/21 16:56:06 WARN MemoryStore: Not enough space to cache rdd_21_99 in memory! (computed 3.9 MiB so far)\n",
      "22/11/21 16:56:06 WARN MemoryStore: Not enough space to cache rdd_21_102 in memory! (computed 3.9 MiB so far)\n"
     ]
    },
    {
     "name": "stderr",
     "output_type": "stream",
     "text": [
      "[Stage 10:==========================>                            (98 + 8) / 200]\r"
     ]
    },
    {
     "name": "stdout",
     "output_type": "stream",
     "text": [
      "22/11/21 16:56:07 WARN MemoryStore: Not enough space to cache rdd_21_105 in memory! (computed 3.9 MiB so far)\n"
     ]
    },
    {
     "name": "stderr",
     "output_type": "stream",
     "text": [
      "[Stage 10:===========================>                          (101 + 8) / 200]\r"
     ]
    },
    {
     "name": "stdout",
     "output_type": "stream",
     "text": [
      "22/11/21 16:56:08 WARN MemoryStore: Not enough space to cache rdd_21_109 in memory! (computed 3.9 MiB so far)\n",
      "22/11/21 16:56:08 WARN MemoryStore: Not enough space to cache rdd_21_110 in memory! (computed 3.9 MiB so far)\n"
     ]
    },
    {
     "name": "stderr",
     "output_type": "stream",
     "text": [
      "[Stage 10:============================>                         (105 + 8) / 200]\r"
     ]
    },
    {
     "name": "stdout",
     "output_type": "stream",
     "text": [
      "22/11/21 16:56:09 WARN MemoryStore: Not enough space to cache rdd_21_114 in memory! (computed 3.9 MiB so far)\n"
     ]
    },
    {
     "name": "stderr",
     "output_type": "stream",
     "text": [
      "[Stage 10:============================>                         (107 + 8) / 200]\r"
     ]
    },
    {
     "name": "stdout",
     "output_type": "stream",
     "text": [
      "22/11/21 16:56:09 WARN MemoryStore: Not enough space to cache rdd_21_115 in memory! (computed 3.9 MiB so far)\n",
      "22/11/21 16:56:09 WARN MemoryStore: Not enough space to cache rdd_21_117 in memory! (computed 3.9 MiB so far)\n"
     ]
    },
    {
     "name": "stderr",
     "output_type": "stream",
     "text": [
      "[Stage 10:===============================>                      (115 + 8) / 200]\r"
     ]
    },
    {
     "name": "stdout",
     "output_type": "stream",
     "text": [
      "22/11/21 16:56:10 WARN MemoryStore: Not enough space to cache rdd_21_122 in memory! (computed 3.9 MiB so far)\n"
     ]
    },
    {
     "name": "stderr",
     "output_type": "stream",
     "text": [
      "[Stage 10:===============================>                      (117 + 8) / 200]\r"
     ]
    },
    {
     "name": "stdout",
     "output_type": "stream",
     "text": [
      "22/11/21 16:56:11 WARN MemoryStore: Not enough space to cache rdd_21_125 in memory! (computed 3.9 MiB so far)\n",
      "22/11/21 16:56:11 WARN MemoryStore: Not enough space to cache rdd_21_126 in memory! (computed 3.9 MiB so far)\n",
      "22/11/21 16:56:11 WARN MemoryStore: Not enough space to cache rdd_21_127 in memory! (computed 3.9 MiB so far)\n"
     ]
    },
    {
     "name": "stderr",
     "output_type": "stream",
     "text": [
      "[Stage 10:================================>                     (121 + 8) / 200]\r"
     ]
    },
    {
     "name": "stdout",
     "output_type": "stream",
     "text": [
      "22/11/21 16:56:12 WARN MemoryStore: Not enough space to cache rdd_21_130 in memory! (computed 3.9 MiB so far)\n"
     ]
    },
    {
     "name": "stderr",
     "output_type": "stream",
     "text": [
      "[Stage 10:=================================>                    (124 + 8) / 200]\r"
     ]
    },
    {
     "name": "stdout",
     "output_type": "stream",
     "text": [
      "22/11/21 16:56:13 WARN MemoryStore: Not enough space to cache rdd_21_134 in memory! (computed 3.9 MiB so far)\n",
      "22/11/21 16:56:13 WARN MemoryStore: Not enough space to cache rdd_21_135 in memory! (computed 3.9 MiB so far)\n"
     ]
    },
    {
     "name": "stderr",
     "output_type": "stream",
     "text": [
      "[Stage 10:===================================>                  (131 + 8) / 200]\r"
     ]
    },
    {
     "name": "stdout",
     "output_type": "stream",
     "text": [
      "22/11/21 16:56:14 WARN MemoryStore: Not enough space to cache rdd_21_138 in memory! (computed 3.9 MiB so far)\n"
     ]
    },
    {
     "name": "stderr",
     "output_type": "stream",
     "text": [
      "[Stage 10:===================================>                  (132 + 8) / 200]\r"
     ]
    },
    {
     "name": "stdout",
     "output_type": "stream",
     "text": [
      "22/11/21 16:56:15 WARN MemoryStore: Not enough space to cache rdd_21_142 in memory! (computed 3.9 MiB so far)\n",
      "22/11/21 16:56:15 WARN MemoryStore: Not enough space to cache rdd_21_143 in memory! (computed 3.9 MiB so far)\n"
     ]
    },
    {
     "name": "stderr",
     "output_type": "stream",
     "text": [
      "[Stage 10:====================================>                 (137 + 8) / 200]\r"
     ]
    },
    {
     "name": "stdout",
     "output_type": "stream",
     "text": [
      "22/11/21 16:56:16 WARN MemoryStore: Not enough space to cache rdd_21_146 in memory! (computed 3.9 MiB so far)\n"
     ]
    },
    {
     "name": "stderr",
     "output_type": "stream",
     "text": [
      "[Stage 10:=====================================>                (139 + 8) / 200]\r"
     ]
    },
    {
     "name": "stdout",
     "output_type": "stream",
     "text": [
      "22/11/21 16:56:16 WARN MemoryStore: Not enough space to cache rdd_21_147 in memory! (computed 3.9 MiB so far)\n",
      "22/11/21 16:56:16 WARN MemoryStore: Not enough space to cache rdd_21_149 in memory! (computed 3.9 MiB so far)\n"
     ]
    },
    {
     "name": "stderr",
     "output_type": "stream",
     "text": [
      "[Stage 10:======================================>               (144 + 8) / 200]\r"
     ]
    },
    {
     "name": "stdout",
     "output_type": "stream",
     "text": [
      "22/11/21 16:56:16 WARN MemoryStore: Not enough space to cache rdd_21_150 in memory! (computed 3.9 MiB so far)\n",
      "22/11/21 16:56:16 WARN MemoryStore: Not enough space to cache rdd_21_151 in memory! (computed 3.9 MiB so far)\n"
     ]
    },
    {
     "name": "stderr",
     "output_type": "stream",
     "text": [
      "[Stage 10:=======================================>              (145 + 8) / 200]\r"
     ]
    },
    {
     "name": "stdout",
     "output_type": "stream",
     "text": [
      "22/11/21 16:56:18 WARN MemoryStore: Not enough space to cache rdd_21_154 in memory! (computed 3.9 MiB so far)\n"
     ]
    },
    {
     "name": "stderr",
     "output_type": "stream",
     "text": [
      "[Stage 10:=======================================>              (147 + 8) / 200]\r"
     ]
    },
    {
     "name": "stdout",
     "output_type": "stream",
     "text": [
      "22/11/21 16:56:18 WARN MemoryStore: Not enough space to cache rdd_21_155 in memory! (computed 3.9 MiB so far)\n"
     ]
    },
    {
     "name": "stderr",
     "output_type": "stream",
     "text": [
      "[Stage 10:========================================>             (149 + 8) / 200]\r"
     ]
    },
    {
     "name": "stdout",
     "output_type": "stream",
     "text": [
      "22/11/21 16:56:18 WARN MemoryStore: Not enough space to cache rdd_21_158 in memory! (computed 3.9 MiB so far)\n",
      "22/11/21 16:56:18 WARN MemoryStore: Not enough space to cache rdd_21_159 in memory! (computed 3.9 MiB so far)\n"
     ]
    },
    {
     "name": "stderr",
     "output_type": "stream",
     "text": [
      "[Stage 10:=========================================>            (153 + 8) / 200]\r"
     ]
    },
    {
     "name": "stdout",
     "output_type": "stream",
     "text": [
      "22/11/21 16:56:19 WARN MemoryStore: Not enough space to cache rdd_21_161 in memory! (computed 3.9 MiB so far)\n"
     ]
    },
    {
     "name": "stderr",
     "output_type": "stream",
     "text": [
      "[Stage 10:==========================================>           (156 + 8) / 200]\r"
     ]
    },
    {
     "name": "stdout",
     "output_type": "stream",
     "text": [
      "22/11/21 16:56:20 WARN MemoryStore: Not enough space to cache rdd_21_165 in memory! (computed 3.9 MiB so far)\n",
      "22/11/21 16:56:20 WARN MemoryStore: Not enough space to cache rdd_21_167 in memory! (computed 3.9 MiB so far)\n"
     ]
    },
    {
     "name": "stderr",
     "output_type": "stream",
     "text": [
      "[Stage 10:===========================================>          (161 + 8) / 200]\r"
     ]
    },
    {
     "name": "stdout",
     "output_type": "stream",
     "text": [
      "22/11/21 16:56:21 WARN MemoryStore: Not enough space to cache rdd_21_169 in memory! (computed 3.9 MiB so far)\n"
     ]
    },
    {
     "name": "stderr",
     "output_type": "stream",
     "text": [
      "[Stage 10:============================================>         (164 + 8) / 200]\r"
     ]
    },
    {
     "name": "stdout",
     "output_type": "stream",
     "text": [
      "22/11/21 16:56:21 WARN MemoryStore: Not enough space to cache rdd_21_171 in memory! (computed 3.9 MiB so far)\n",
      "22/11/21 16:56:21 WARN MemoryStore: Not enough space to cache rdd_21_172 in memory! (computed 3.9 MiB so far)\n"
     ]
    },
    {
     "name": "stderr",
     "output_type": "stream",
     "text": [
      "[Stage 10:============================================>         (165 + 8) / 200]\r"
     ]
    },
    {
     "name": "stdout",
     "output_type": "stream",
     "text": [
      "22/11/21 16:56:22 WARN MemoryStore: Not enough space to cache rdd_21_175 in memory! (computed 3.9 MiB so far)\n"
     ]
    },
    {
     "name": "stderr",
     "output_type": "stream",
     "text": [
      "[Stage 10:=============================================>        (168 + 8) / 200]\r"
     ]
    },
    {
     "name": "stdout",
     "output_type": "stream",
     "text": [
      "22/11/21 16:56:22 WARN MemoryStore: Not enough space to cache rdd_21_176 in memory! (computed 3.9 MiB so far)\n"
     ]
    },
    {
     "name": "stderr",
     "output_type": "stream",
     "text": [
      "[Stage 10:=============================================>        (169 + 8) / 200]\r"
     ]
    },
    {
     "name": "stdout",
     "output_type": "stream",
     "text": [
      "22/11/21 16:56:23 WARN MemoryStore: Not enough space to cache rdd_21_177 in memory! (computed 3.9 MiB so far)\n",
      "22/11/21 16:56:23 WARN MemoryStore: Not enough space to cache rdd_21_179 in memory! (computed 3.9 MiB so far)\n"
     ]
    },
    {
     "name": "stderr",
     "output_type": "stream",
     "text": [
      "[Stage 10:==============================================>       (172 + 8) / 200]\r"
     ]
    },
    {
     "name": "stdout",
     "output_type": "stream",
     "text": [
      "22/11/21 16:56:23 WARN MemoryStore: Not enough space to cache rdd_21_180 in memory! (computed 3.9 MiB so far)\n"
     ]
    },
    {
     "name": "stderr",
     "output_type": "stream",
     "text": [
      "[Stage 10:===============================================>      (176 + 8) / 200]\r"
     ]
    },
    {
     "name": "stdout",
     "output_type": "stream",
     "text": [
      "22/11/21 16:56:23 WARN MemoryStore: Not enough space to cache rdd_21_183 in memory! (computed 3.9 MiB so far)\n",
      "22/11/21 16:56:24 WARN MemoryStore: Not enough space to cache rdd_21_184 in memory! (computed 3.9 MiB so far)\n"
     ]
    },
    {
     "name": "stderr",
     "output_type": "stream",
     "text": [
      "[Stage 10:===============================================>      (177 + 8) / 200]\r"
     ]
    },
    {
     "name": "stdout",
     "output_type": "stream",
     "text": [
      "22/11/21 16:56:24 WARN MemoryStore: Not enough space to cache rdd_21_185 in memory! (computed 3.9 MiB so far)\n"
     ]
    },
    {
     "name": "stderr",
     "output_type": "stream",
     "text": [
      "[Stage 10:================================================>     (180 + 8) / 200]\r"
     ]
    },
    {
     "name": "stdout",
     "output_type": "stream",
     "text": [
      "22/11/21 16:56:25 WARN MemoryStore: Not enough space to cache rdd_21_187 in memory! (computed 3.9 MiB so far)\n"
     ]
    },
    {
     "name": "stderr",
     "output_type": "stream",
     "text": [
      "[Stage 10:=================================================>    (183 + 8) / 200]\r"
     ]
    },
    {
     "name": "stdout",
     "output_type": "stream",
     "text": [
      "22/11/21 16:56:25 WARN MemoryStore: Not enough space to cache rdd_21_190 in memory! (computed 3.9 MiB so far)\n",
      "22/11/21 16:56:25 WARN MemoryStore: Not enough space to cache rdd_21_191 in memory! (computed 3.9 MiB so far)\n"
     ]
    },
    {
     "name": "stderr",
     "output_type": "stream",
     "text": [
      "[Stage 10:=================================================>    (184 + 8) / 200]\r"
     ]
    },
    {
     "name": "stdout",
     "output_type": "stream",
     "text": [
      "22/11/21 16:56:26 WARN MemoryStore: Not enough space to cache rdd_21_192 in memory! (computed 3.9 MiB so far)\n"
     ]
    },
    {
     "name": "stderr",
     "output_type": "stream",
     "text": [
      "[Stage 10:=================================================>    (185 + 8) / 200]\r"
     ]
    },
    {
     "name": "stdout",
     "output_type": "stream",
     "text": [
      "22/11/21 16:56:26 WARN MemoryStore: Not enough space to cache rdd_21_193 in memory! (computed 3.9 MiB so far)\n"
     ]
    },
    {
     "name": "stderr",
     "output_type": "stream",
     "text": [
      "[Stage 10:==================================================>   (186 + 8) / 200]\r"
     ]
    },
    {
     "name": "stdout",
     "output_type": "stream",
     "text": [
      "22/11/21 16:56:27 WARN MemoryStore: Not enough space to cache rdd_21_196 in memory! (computed 3.9 MiB so far)\n"
     ]
    },
    {
     "name": "stderr",
     "output_type": "stream",
     "text": [
      "[Stage 10:===================================================>  (190 + 8) / 200]\r"
     ]
    },
    {
     "name": "stdout",
     "output_type": "stream",
     "text": [
      "22/11/21 16:56:27 WARN MemoryStore: Not enough space to cache rdd_21_199 in memory! (computed 3.9 MiB so far)\n"
     ]
    },
    {
     "name": "stderr",
     "output_type": "stream",
     "text": [
      "[Stage 10:=====================================================>(197 + 3) / 200]\r"
     ]
    },
    {
     "name": "stdout",
     "output_type": "stream",
     "text": [
      "22/11/21 16:56:29 WARN RowBasedKeyValueBatch: Calling spill() on RowBasedKeyValueBatch. Will not spill but return 0.\n",
      "22/11/21 16:56:29 WARN RowBasedKeyValueBatch: Calling spill() on RowBasedKeyValueBatch. Will not spill but return 0.\n",
      "22/11/21 16:56:29 WARN RowBasedKeyValueBatch: Calling spill() on RowBasedKeyValueBatch. Will not spill but return 0.\n",
      "22/11/21 16:56:29 WARN RowBasedKeyValueBatch: Calling spill() on RowBasedKeyValueBatch. Will not spill but return 0.\n",
      "22/11/21 16:56:29 WARN RowBasedKeyValueBatch: Calling spill() on RowBasedKeyValueBatch. Will not spill but return 0.\n",
      "22/11/21 16:56:29 WARN RowBasedKeyValueBatch: Calling spill() on RowBasedKeyValueBatch. Will not spill but return 0.\n",
      "22/11/21 16:56:29 WARN RowBasedKeyValueBatch: Calling spill() on RowBasedKeyValueBatch. Will not spill but return 0.\n",
      "22/11/21 16:56:29 WARN RowBasedKeyValueBatch: Calling spill() on RowBasedKeyValueBatch. Will not spill but return 0.\n",
      "22/11/21 16:56:29 WARN RowBasedKeyValueBatch: Calling spill() on RowBasedKeyValueBatch. Will not spill but return 0.\n",
      "22/11/21 16:56:29 WARN RowBasedKeyValueBatch: Calling spill() on RowBasedKeyValueBatch. Will not spill but return 0.\n",
      "22/11/21 16:56:29 WARN RowBasedKeyValueBatch: Calling spill() on RowBasedKeyValueBatch. Will not spill but return 0.\n",
      "22/11/21 16:56:29 WARN RowBasedKeyValueBatch: Calling spill() on RowBasedKeyValueBatch. Will not spill but return 0.\n",
      "22/11/21 16:56:29 WARN RowBasedKeyValueBatch: Calling spill() on RowBasedKeyValueBatch. Will not spill but return 0.\n",
      "22/11/21 16:56:29 WARN RowBasedKeyValueBatch: Calling spill() on RowBasedKeyValueBatch. Will not spill but return 0.\n",
      "22/11/21 16:56:29 WARN RowBasedKeyValueBatch: Calling spill() on RowBasedKeyValueBatch. Will not spill but return 0.\n",
      "22/11/21 16:56:29 WARN RowBasedKeyValueBatch: Calling spill() on RowBasedKeyValueBatch. Will not spill but return 0.\n",
      "22/11/21 16:56:29 WARN RowBasedKeyValueBatch: Calling spill() on RowBasedKeyValueBatch. Will not spill but return 0.\n",
      "22/11/21 16:56:29 WARN RowBasedKeyValueBatch: Calling spill() on RowBasedKeyValueBatch. Will not spill but return 0.\n",
      "22/11/21 16:56:29 WARN RowBasedKeyValueBatch: Calling spill() on RowBasedKeyValueBatch. Will not spill but return 0.\n",
      "22/11/21 16:56:29 WARN RowBasedKeyValueBatch: Calling spill() on RowBasedKeyValueBatch. Will not spill but return 0.\n",
      "22/11/21 16:56:29 WARN RowBasedKeyValueBatch: Calling spill() on RowBasedKeyValueBatch. Will not spill but return 0.\n"
     ]
    },
    {
     "name": "stderr",
     "output_type": "stream",
     "text": [
      "                                                                                \r"
     ]
    }
   ],
   "source": [
    "freq_month = freq_month.toPandas()"
   ]
  },
  {
   "cell_type": "code",
   "execution_count": 14,
   "id": "7f263963",
   "metadata": {},
   "outputs": [
    {
     "data": {
      "text/plain": [
       "<AxesSubplot:xlabel='month'>"
      ]
     },
     "execution_count": 14,
     "metadata": {},
     "output_type": "execute_result"
    },
    {
     "data": {
      "image/png": "[encoded data removed]",
      "text/plain": [
       "<Figure size 432x288 with 1 Axes>"
      ]
     },
     "metadata": {
      "needs_background": "light"
     },
     "output_type": "display_data"
    }
   ],
   "source": [
    "freq_month.plot.bar(x='month', y='freq') "
   ]
  },
  {
   "cell_type": "markdown",
   "id": "26b5f47d",
   "metadata": {},
   "source": [
    "Look at the frequency of tweets per week."
   ]
  },
  {
   "cell_type": "code",
   "execution_count": 15,
   "id": "e25a497b",
   "metadata": {},
   "outputs": [],
   "source": [
    "freq_week = df.withColumn('week', weekofyear('post_created_at'))"
   ]
  },
  {
   "cell_type": "code",
   "execution_count": 16,
   "id": "d07fe7e6",
   "metadata": {},
   "outputs": [],
   "source": [
    "freq_week = freq_week.groupBy(\"week\") \\\n",
    "                        .agg(countDistinct(\"full_text\")) \\\n",
    "                        .withColumnRenamed(\"count(full_text)\", \"freq\") \\\n",
    "                        .sort(\"week\", ascending = True)"
   ]
  },
  {
   "cell_type": "code",
   "execution_count": 17,
   "id": "447311fa",
   "metadata": {},
   "outputs": [
    {
     "name": "stderr",
     "output_type": "stream",
     "text": [
      "[Stage 28:==========>                                            (39 + 8) / 200]\r"
     ]
    },
    {
     "name": "stdout",
     "output_type": "stream",
     "text": [
      "22/11/21 16:56:40 WARN MemoryStore: Not enough space to cache rdd_21_47 in memory! (computed 3.9 MiB so far)\n"
     ]
    },
    {
     "name": "stderr",
     "output_type": "stream",
     "text": [
      "[Stage 28:============>                                          (47 + 8) / 200]\r"
     ]
    },
    {
     "name": "stdout",
     "output_type": "stream",
     "text": [
      "22/11/21 16:56:42 WARN MemoryStore: Not enough space to cache rdd_21_54 in memory! (computed 3.9 MiB so far)\n",
      "22/11/21 16:56:42 WARN MemoryStore: Not enough space to cache rdd_21_53 in memory! (computed 3.9 MiB so far)\n"
     ]
    },
    {
     "name": "stderr",
     "output_type": "stream",
     "text": [
      "[Stage 28:=============>                                         (49 + 8) / 200]\r"
     ]
    },
    {
     "name": "stdout",
     "output_type": "stream",
     "text": [
      "22/11/21 16:56:43 WARN MemoryStore: Not enough space to cache rdd_21_57 in memory! (computed 3.9 MiB so far)\n",
      "22/11/21 16:56:43 WARN MemoryStore: Not enough space to cache rdd_21_59 in memory! (computed 3.9 MiB so far)\n"
     ]
    },
    {
     "name": "stderr",
     "output_type": "stream",
     "text": [
      "[Stage 28:==============>                                        (52 + 8) / 200]\r"
     ]
    },
    {
     "name": "stdout",
     "output_type": "stream",
     "text": [
      "22/11/21 16:56:43 WARN MemoryStore: Not enough space to cache rdd_21_61 in memory! (computed 3.9 MiB so far)\n",
      "22/11/21 16:56:44 WARN MemoryStore: Not enough space to cache rdd_21_63 in memory! (computed 3.9 MiB so far)\n"
     ]
    },
    {
     "name": "stderr",
     "output_type": "stream",
     "text": [
      "[Stage 28:================>                                      (60 + 8) / 200]\r"
     ]
    },
    {
     "name": "stdout",
     "output_type": "stream",
     "text": [
      "22/11/21 16:56:45 WARN MemoryStore: Not enough space to cache rdd_21_66 in memory! (computed 3.9 MiB so far)\n",
      "22/11/21 16:56:45 WARN MemoryStore: Not enough space to cache rdd_21_67 in memory! (computed 3.9 MiB so far)\n",
      "22/11/21 16:56:45 WARN MemoryStore: Not enough space to cache rdd_21_69 in memory! (computed 3.9 MiB so far)\n",
      "22/11/21 16:56:45 WARN MemoryStore: Not enough space to cache rdd_21_71 in memory! (computed 3.9 MiB so far)\n"
     ]
    },
    {
     "name": "stderr",
     "output_type": "stream",
     "text": [
      "[Stage 28:=================>                                     (65 + 8) / 200]\r"
     ]
    },
    {
     "name": "stdout",
     "output_type": "stream",
     "text": [
      "22/11/21 16:56:47 WARN MemoryStore: Not enough space to cache rdd_21_74 in memory! (computed 3.9 MiB so far)\n",
      "22/11/21 16:56:47 WARN MemoryStore: Not enough space to cache rdd_21_76 in memory! (computed 3.9 MiB so far)\n",
      "22/11/21 16:56:47 WARN MemoryStore: Not enough space to cache rdd_21_77 in memory! (computed 3.9 MiB so far)\n"
     ]
    },
    {
     "name": "stderr",
     "output_type": "stream",
     "text": [
      "[Stage 28:===================>                                   (72 + 8) / 200]\r"
     ]
    },
    {
     "name": "stdout",
     "output_type": "stream",
     "text": [
      "22/11/21 16:56:48 WARN MemoryStore: Not enough space to cache rdd_21_81 in memory! (computed 3.9 MiB so far)\n"
     ]
    },
    {
     "name": "stderr",
     "output_type": "stream",
     "text": [
      "[Stage 28:====================>                                  (75 + 8) / 200]\r"
     ]
    },
    {
     "name": "stdout",
     "output_type": "stream",
     "text": [
      "22/11/21 16:56:49 WARN MemoryStore: Not enough space to cache rdd_21_84 in memory! (computed 3.9 MiB so far)\n",
      "22/11/21 16:56:49 WARN MemoryStore: Not enough space to cache rdd_21_85 in memory! (computed 3.9 MiB so far)\n"
     ]
    },
    {
     "name": "stderr",
     "output_type": "stream",
     "text": [
      "[Stage 28:======================>                                (80 + 8) / 200]\r"
     ]
    },
    {
     "name": "stdout",
     "output_type": "stream",
     "text": [
      "22/11/21 16:56:49 WARN MemoryStore: Not enough space to cache rdd_21_87 in memory! (computed 3.9 MiB so far)\n",
      "22/11/21 16:56:50 WARN MemoryStore: Not enough space to cache rdd_21_89 in memory! (computed 3.9 MiB so far)\n",
      "22/11/21 16:56:50 WARN MemoryStore: Not enough space to cache rdd_21_92 in memory! (computed 3.9 MiB so far)\n"
     ]
    },
    {
     "name": "stderr",
     "output_type": "stream",
     "text": [
      "[Stage 28:========================>                              (88 + 8) / 200]\r"
     ]
    },
    {
     "name": "stdout",
     "output_type": "stream",
     "text": [
      "22/11/21 16:56:51 WARN MemoryStore: Not enough space to cache rdd_21_95 in memory! (computed 3.9 MiB so far)\n",
      "22/11/21 16:56:52 WARN MemoryStore: Not enough space to cache rdd_21_97 in memory! (computed 3.9 MiB so far)\n"
     ]
    },
    {
     "name": "stderr",
     "output_type": "stream",
     "text": [
      "[Stage 28:=========================>                             (91 + 8) / 200]\r"
     ]
    },
    {
     "name": "stdout",
     "output_type": "stream",
     "text": [
      "22/11/21 16:56:52 WARN MemoryStore: Not enough space to cache rdd_21_100 in memory! (computed 3.9 MiB so far)\n",
      "22/11/21 16:56:52 WARN MemoryStore: Not enough space to cache rdd_21_101 in memory! (computed 3.9 MiB so far)\n"
     ]
    },
    {
     "name": "stderr",
     "output_type": "stream",
     "text": [
      "[Stage 28:==========================>                            (95 + 8) / 200]\r"
     ]
    },
    {
     "name": "stdout",
     "output_type": "stream",
     "text": [
      "22/11/21 16:56:53 WARN MemoryStore: Not enough space to cache rdd_21_103 in memory! (computed 3.9 MiB so far)\n"
     ]
    },
    {
     "name": "stderr",
     "output_type": "stream",
     "text": [
      "[Stage 28:==========================>                            (97 + 8) / 200]\r"
     ]
    },
    {
     "name": "stdout",
     "output_type": "stream",
     "text": [
      "22/11/21 16:56:54 WARN MemoryStore: Not enough space to cache rdd_21_105 in memory! (computed 3.9 MiB so far)\n"
     ]
    },
    {
     "name": "stderr",
     "output_type": "stream",
     "text": [
      "[Stage 28:==========================>                            (98 + 8) / 200]\r"
     ]
    },
    {
     "name": "stdout",
     "output_type": "stream",
     "text": [
      "22/11/21 16:56:54 WARN MemoryStore: Not enough space to cache rdd_21_108 in memory! (computed 3.9 MiB so far)\n"
     ]
    },
    {
     "name": "stderr",
     "output_type": "stream",
     "text": [
      "[Stage 28:============================>                         (104 + 8) / 200]\r"
     ]
    },
    {
     "name": "stdout",
     "output_type": "stream",
     "text": [
      "22/11/21 16:56:54 WARN MemoryStore: Not enough space to cache rdd_21_110 in memory! (computed 3.9 MiB so far)\n",
      "22/11/21 16:56:54 WARN MemoryStore: Not enough space to cache rdd_21_111 in memory! (computed 3.9 MiB so far)\n"
     ]
    },
    {
     "name": "stderr",
     "output_type": "stream",
     "text": [
      "[Stage 28:=============================>                        (109 + 8) / 200]\r"
     ]
    },
    {
     "name": "stdout",
     "output_type": "stream",
     "text": [
      "22/11/21 16:56:56 WARN MemoryStore: Not enough space to cache rdd_21_114 in memory! (computed 3.9 MiB so far)\n",
      "22/11/21 16:56:56 WARN MemoryStore: Not enough space to cache rdd_21_117 in memory! (computed 3.9 MiB so far)\n"
     ]
    },
    {
     "name": "stderr",
     "output_type": "stream",
     "text": [
      "[Stage 28:=============================>                        (110 + 8) / 200]\r"
     ]
    },
    {
     "name": "stdout",
     "output_type": "stream",
     "text": [
      "22/11/21 16:56:56 WARN MemoryStore: Not enough space to cache rdd_21_119 in memory! (computed 3.9 MiB so far)\n"
     ]
    },
    {
     "name": "stderr",
     "output_type": "stream",
     "text": [
      "[Stage 28:==============================>                       (113 + 8) / 200]\r"
     ]
    },
    {
     "name": "stdout",
     "output_type": "stream",
     "text": [
      "22/11/21 16:56:57 WARN MemoryStore: Not enough space to cache rdd_21_123 in memory! (computed 3.9 MiB so far)\n"
     ]
    },
    {
     "name": "stderr",
     "output_type": "stream",
     "text": [
      "[Stage 28:===============================>                      (117 + 8) / 200]\r"
     ]
    },
    {
     "name": "stdout",
     "output_type": "stream",
     "text": [
      "22/11/21 16:56:58 WARN MemoryStore: Not enough space to cache rdd_21_125 in memory! (computed 3.9 MiB so far)\n"
     ]
    },
    {
     "name": "stderr",
     "output_type": "stream",
     "text": [
      "[Stage 28:===============================>                      (118 + 8) / 200]\r"
     ]
    },
    {
     "name": "stdout",
     "output_type": "stream",
     "text": [
      "22/11/21 16:56:58 WARN MemoryStore: Not enough space to cache rdd_21_127 in memory! (computed 3.9 MiB so far)\n"
     ]
    },
    {
     "name": "stderr",
     "output_type": "stream",
     "text": [
      "[Stage 28:=================================>                    (125 + 8) / 200]\r"
     ]
    },
    {
     "name": "stdout",
     "output_type": "stream",
     "text": [
      "22/11/21 16:56:59 WARN MemoryStore: Not enough space to cache rdd_21_130 in memory! (computed 3.9 MiB so far)\n",
      "22/11/21 16:56:59 WARN MemoryStore: Not enough space to cache rdd_21_131 in memory! (computed 3.9 MiB so far)\n",
      "22/11/21 16:57:00 WARN MemoryStore: Not enough space to cache rdd_21_133 in memory! (computed 3.9 MiB so far)\n",
      "22/11/21 16:57:00 WARN MemoryStore: Not enough space to cache rdd_21_135 in memory! (computed 3.9 MiB so far)\n"
     ]
    },
    {
     "name": "stderr",
     "output_type": "stream",
     "text": [
      "[Stage 28:==================================>                   (129 + 8) / 200]\r"
     ]
    },
    {
     "name": "stdout",
     "output_type": "stream",
     "text": [
      "22/11/21 16:57:01 WARN MemoryStore: Not enough space to cache rdd_21_137 in memory! (computed 3.9 MiB so far)\n"
     ]
    },
    {
     "name": "stderr",
     "output_type": "stream",
     "text": [
      "[Stage 28:====================================>                 (134 + 8) / 200]\r"
     ]
    },
    {
     "name": "stdout",
     "output_type": "stream",
     "text": [
      "22/11/21 16:57:01 WARN MemoryStore: Not enough space to cache rdd_21_141 in memory! (computed 3.9 MiB so far)\n",
      "22/11/21 16:57:01 WARN MemoryStore: Not enough space to cache rdd_21_143 in memory! (computed 3.9 MiB so far)\n"
     ]
    },
    {
     "name": "stderr",
     "output_type": "stream",
     "text": [
      "[Stage 28:====================================>                 (137 + 8) / 200]\r"
     ]
    },
    {
     "name": "stdout",
     "output_type": "stream",
     "text": [
      "22/11/21 16:57:03 WARN MemoryStore: Not enough space to cache rdd_21_145 in memory! (computed 3.9 MiB so far)\n"
     ]
    },
    {
     "name": "stderr",
     "output_type": "stream",
     "text": [
      "[Stage 28:======================================>               (141 + 8) / 200]\r"
     ]
    },
    {
     "name": "stdout",
     "output_type": "stream",
     "text": [
      "22/11/21 16:57:03 WARN MemoryStore: Not enough space to cache rdd_21_148 in memory! (computed 3.9 MiB so far)\n",
      "22/11/21 16:57:03 WARN MemoryStore: Not enough space to cache rdd_21_150 in memory! (computed 3.9 MiB so far)\n"
     ]
    },
    {
     "name": "stderr",
     "output_type": "stream",
     "text": [
      "[Stage 28:=======================================>              (145 + 8) / 200]\r"
     ]
    },
    {
     "name": "stdout",
     "output_type": "stream",
     "text": [
      "22/11/21 16:57:04 WARN MemoryStore: Not enough space to cache rdd_21_153 in memory! (computed 3.9 MiB so far)\n",
      "22/11/21 16:57:05 WARN MemoryStore: Not enough space to cache rdd_21_155 in memory! (computed 3.9 MiB so far)\n"
     ]
    },
    {
     "name": "stderr",
     "output_type": "stream",
     "text": [
      "[Stage 28:========================================>             (149 + 8) / 200]\r"
     ]
    },
    {
     "name": "stdout",
     "output_type": "stream",
     "text": [
      "22/11/21 16:57:05 WARN MemoryStore: Not enough space to cache rdd_21_159 in memory! (computed 3.9 MiB so far)\n"
     ]
    },
    {
     "name": "stderr",
     "output_type": "stream",
     "text": [
      "[Stage 28:=========================================>            (152 + 8) / 200]\r"
     ]
    },
    {
     "name": "stdout",
     "output_type": "stream",
     "text": [
      "22/11/21 16:57:06 WARN MemoryStore: Not enough space to cache rdd_21_161 in memory! (computed 3.9 MiB so far)\n"
     ]
    },
    {
     "name": "stderr",
     "output_type": "stream",
     "text": [
      "[Stage 28:==========================================>           (157 + 8) / 200]\r"
     ]
    },
    {
     "name": "stdout",
     "output_type": "stream",
     "text": [
      "22/11/21 16:57:06 WARN MemoryStore: Not enough space to cache rdd_21_164 in memory! (computed 3.9 MiB so far)\n"
     ]
    },
    {
     "name": "stderr",
     "output_type": "stream",
     "text": [
      "[Stage 28:==========================================>           (158 + 8) / 200]\r"
     ]
    },
    {
     "name": "stdout",
     "output_type": "stream",
     "text": [
      "22/11/21 16:57:07 WARN MemoryStore: Not enough space to cache rdd_21_167 in memory! (computed 3.9 MiB so far)\n"
     ]
    },
    {
     "name": "stderr",
     "output_type": "stream",
     "text": [
      "[Stage 28:============================================>         (165 + 8) / 200]\r"
     ]
    },
    {
     "name": "stdout",
     "output_type": "stream",
     "text": [
      "22/11/21 16:57:08 WARN MemoryStore: Not enough space to cache rdd_21_170 in memory! (computed 3.9 MiB so far)\n",
      "22/11/21 16:57:09 WARN MemoryStore: Not enough space to cache rdd_21_175 in memory! (computed 3.9 MiB so far)\n"
     ]
    },
    {
     "name": "stderr",
     "output_type": "stream",
     "text": [
      "[Stage 28:=============================================>        (169 + 8) / 200]\r"
     ]
    },
    {
     "name": "stdout",
     "output_type": "stream",
     "text": [
      "22/11/21 16:57:10 WARN MemoryStore: Not enough space to cache rdd_21_177 in memory! (computed 3.9 MiB so far)\n"
     ]
    },
    {
     "name": "stderr",
     "output_type": "stream",
     "text": [
      "[Stage 28:===============================================>      (176 + 8) / 200]\r"
     ]
    },
    {
     "name": "stdout",
     "output_type": "stream",
     "text": [
      "22/11/21 16:57:10 WARN MemoryStore: Not enough space to cache rdd_21_182 in memory! (computed 3.9 MiB so far)\n",
      "22/11/21 16:57:10 WARN MemoryStore: Not enough space to cache rdd_21_183 in memory! (computed 3.9 MiB so far)\n"
     ]
    },
    {
     "name": "stderr",
     "output_type": "stream",
     "text": [
      "[Stage 28:===============================================>      (177 + 8) / 200]\r"
     ]
    },
    {
     "name": "stdout",
     "output_type": "stream",
     "text": [
      "22/11/21 16:57:11 WARN MemoryStore: Not enough space to cache rdd_21_185 in memory! (computed 3.9 MiB so far)\n"
     ]
    },
    {
     "name": "stderr",
     "output_type": "stream",
     "text": [
      "[Stage 28:=================================================>    (183 + 8) / 200]\r"
     ]
    },
    {
     "name": "stdout",
     "output_type": "stream",
     "text": [
      "22/11/21 16:57:12 WARN MemoryStore: Not enough space to cache rdd_21_190 in memory! (computed 3.9 MiB so far)\n"
     ]
    },
    {
     "name": "stderr",
     "output_type": "stream",
     "text": [
      "[Stage 28:=================================================>    (184 + 8) / 200]\r"
     ]
    },
    {
     "name": "stdout",
     "output_type": "stream",
     "text": [
      "22/11/21 16:57:13 WARN MemoryStore: Not enough space to cache rdd_21_193 in memory! (computed 3.9 MiB so far)\n"
     ]
    },
    {
     "name": "stderr",
     "output_type": "stream",
     "text": [
      "[Stage 28:===================================================>  (190 + 8) / 200]\r"
     ]
    },
    {
     "name": "stdout",
     "output_type": "stream",
     "text": [
      "22/11/21 16:57:14 WARN MemoryStore: Not enough space to cache rdd_21_198 in memory! (computed 3.9 MiB so far)\n",
      "22/11/21 16:57:14 WARN MemoryStore: Not enough space to cache rdd_21_199 in memory! (computed 3.9 MiB so far)\n"
     ]
    },
    {
     "name": "stderr",
     "output_type": "stream",
     "text": [
      "[Stage 28:=====================================================>(198 + 2) / 200]\r"
     ]
    },
    {
     "name": "stdout",
     "output_type": "stream",
     "text": [
      "22/11/21 16:57:15 WARN RowBasedKeyValueBatch: Calling spill() on RowBasedKeyValueBatch. Will not spill but return 0.\n",
      "22/11/21 16:57:15 WARN RowBasedKeyValueBatch: Calling spill() on RowBasedKeyValueBatch. Will not spill but return 0.\n",
      "22/11/21 16:57:15 WARN RowBasedKeyValueBatch: Calling spill() on RowBasedKeyValueBatch. Will not spill but return 0.\n",
      "22/11/21 16:57:15 WARN RowBasedKeyValueBatch: Calling spill() on RowBasedKeyValueBatch. Will not spill but return 0.\n",
      "22/11/21 16:57:15 WARN RowBasedKeyValueBatch: Calling spill() on RowBasedKeyValueBatch. Will not spill but return 0.\n",
      "22/11/21 16:57:15 WARN RowBasedKeyValueBatch: Calling spill() on RowBasedKeyValueBatch. Will not spill but return 0.\n",
      "22/11/21 16:57:15 WARN RowBasedKeyValueBatch: Calling spill() on RowBasedKeyValueBatch. Will not spill but return 0.\n",
      "22/11/21 16:57:15 WARN RowBasedKeyValueBatch: Calling spill() on RowBasedKeyValueBatch. Will not spill but return 0.\n",
      "22/11/21 16:57:15 WARN RowBasedKeyValueBatch: Calling spill() on RowBasedKeyValueBatch. Will not spill but return 0.\n",
      "22/11/21 16:57:15 WARN RowBasedKeyValueBatch: Calling spill() on RowBasedKeyValueBatch. Will not spill but return 0.\n",
      "22/11/21 16:57:15 WARN RowBasedKeyValueBatch: Calling spill() on RowBasedKeyValueBatch. Will not spill but return 0.\n",
      "22/11/21 16:57:15 WARN RowBasedKeyValueBatch: Calling spill() on RowBasedKeyValueBatch. Will not spill but return 0.\n",
      "22/11/21 16:57:15 WARN RowBasedKeyValueBatch: Calling spill() on RowBasedKeyValueBatch. Will not spill but return 0.\n",
      "22/11/21 16:57:15 WARN RowBasedKeyValueBatch: Calling spill() on RowBasedKeyValueBatch. Will not spill but return 0.\n",
      "22/11/21 16:57:15 WARN RowBasedKeyValueBatch: Calling spill() on RowBasedKeyValueBatch. Will not spill but return 0.\n",
      "22/11/21 16:57:15 WARN RowBasedKeyValueBatch: Calling spill() on RowBasedKeyValueBatch. Will not spill but return 0.\n",
      "22/11/21 16:57:15 WARN RowBasedKeyValueBatch: Calling spill() on RowBasedKeyValueBatch. Will not spill but return 0.\n",
      "22/11/21 16:57:15 WARN RowBasedKeyValueBatch: Calling spill() on RowBasedKeyValueBatch. Will not spill but return 0.\n",
      "22/11/21 16:57:15 WARN RowBasedKeyValueBatch: Calling spill() on RowBasedKeyValueBatch. Will not spill but return 0.\n",
      "22/11/21 16:57:15 WARN RowBasedKeyValueBatch: Calling spill() on RowBasedKeyValueBatch. Will not spill but return 0.\n",
      "22/11/21 16:57:15 WARN RowBasedKeyValueBatch: Calling spill() on RowBasedKeyValueBatch. Will not spill but return 0.\n"
     ]
    },
    {
     "name": "stderr",
     "output_type": "stream",
     "text": [
      "                                                                                \r"
     ]
    }
   ],
   "source": [
    "freq_week = freq_week.toPandas()"
   ]
  },
  {
   "cell_type": "code",
   "execution_count": 18,
   "id": "dec3f017",
   "metadata": {},
   "outputs": [
    {
     "data": {
      "image/png": "[encoded data removed]",
      "text/plain": [
       "<Figure size 432x288 with 1 Axes>"
      ]
     },
     "metadata": {
      "needs_background": "light"
     },
     "output_type": "display_data"
    }
   ],
   "source": [
    "freq_week.plot.line(x='week', y='freq') \n",
    "plt.show()"
   ]
  },
  {
   "cell_type": "markdown",
   "id": "1cc21078",
   "metadata": {},
   "source": [
    "# The evolution of tweet engagement "
   ]
  },
  {
   "cell_type": "code",
   "execution_count": 19,
   "id": "a1bf366e",
   "metadata": {},
   "outputs": [],
   "source": [
    "eng_weekly = df.withColumn('week', weekofyear('post_created_at'))"
   ]
  },
  {
   "cell_type": "code",
   "execution_count": 20,
   "id": "1835b989",
   "metadata": {},
   "outputs": [],
   "source": [
    "eng_weekly = eng_weekly.groupBy(\"week\") \\\n",
    "                        .agg(sum(\"retweet_count\").alias(\"retweets\"), sum(\"favorite_count\").alias(\"favorites\")) \\\n",
    "                        .sort(\"week\", ascending = True)"
   ]
  },
  {
   "cell_type": "code",
   "execution_count": 21,
   "id": "477468a9",
   "metadata": {},
   "outputs": [
    {
     "name": "stderr",
     "output_type": "stream",
     "text": [
      "[Stage 46:========>                                              (32 + 8) / 200]\r"
     ]
    },
    {
     "name": "stdout",
     "output_type": "stream",
     "text": [
      "22/11/21 16:57:25 WARN MemoryStore: Not enough space to cache rdd_21_44 in memory! (computed 3.9 MiB so far)\n",
      "22/11/21 16:57:25 WARN MemoryStore: Not enough space to cache rdd_21_46 in memory! (computed 3.9 MiB so far)\n"
     ]
    },
    {
     "name": "stderr",
     "output_type": "stream",
     "text": [
      "[Stage 46:===========>                                           (40 + 8) / 200]\r"
     ]
    },
    {
     "name": "stdout",
     "output_type": "stream",
     "text": [
      "22/11/21 16:57:27 WARN MemoryStore: Not enough space to cache rdd_21_50 in memory! (computed 3.9 MiB so far)\n",
      "22/11/21 16:57:27 WARN MemoryStore: Not enough space to cache rdd_21_54 in memory! (computed 3.9 MiB so far)\n"
     ]
    },
    {
     "name": "stderr",
     "output_type": "stream",
     "text": [
      "[Stage 46:=============>                                         (48 + 8) / 200]\r"
     ]
    },
    {
     "name": "stdout",
     "output_type": "stream",
     "text": [
      "22/11/21 16:57:28 WARN MemoryStore: Not enough space to cache rdd_21_58 in memory! (computed 3.9 MiB so far)\n",
      "22/11/21 16:57:29 WARN MemoryStore: Not enough space to cache rdd_21_61 in memory! (computed 3.9 MiB so far)\n",
      "22/11/21 16:57:29 WARN MemoryStore: Not enough space to cache rdd_21_62 in memory! (computed 3.9 MiB so far)\n"
     ]
    },
    {
     "name": "stderr",
     "output_type": "stream",
     "text": [
      "[Stage 46:===================>                                   (72 + 8) / 200]\r"
     ]
    },
    {
     "name": "stdout",
     "output_type": "stream",
     "text": [
      "22/11/21 16:57:33 WARN MemoryStore: Not enough space to cache rdd_21_81 in memory! (computed 3.9 MiB so far)\n"
     ]
    },
    {
     "name": "stderr",
     "output_type": "stream",
     "text": [
      "[Stage 46:====================>                                  (76 + 9) / 200]\r"
     ]
    },
    {
     "name": "stdout",
     "output_type": "stream",
     "text": [
      "22/11/21 16:57:34 WARN MemoryStore: Not enough space to cache rdd_21_85 in memory! (computed 3.9 MiB so far)\n"
     ]
    },
    {
     "name": "stderr",
     "output_type": "stream",
     "text": [
      "[Stage 46:=====================>                                 (78 + 8) / 200]\r"
     ]
    },
    {
     "name": "stdout",
     "output_type": "stream",
     "text": [
      "22/11/21 16:57:34 WARN MemoryStore: Not enough space to cache rdd_21_87 in memory! (computed 3.9 MiB so far)\n"
     ]
    },
    {
     "name": "stderr",
     "output_type": "stream",
     "text": [
      "[Stage 46:======================>                                (83 + 8) / 200]\r"
     ]
    },
    {
     "name": "stdout",
     "output_type": "stream",
     "text": [
      "22/11/21 16:57:35 WARN MemoryStore: Not enough space to cache rdd_21_93 in memory! (computed 3.9 MiB so far)\n"
     ]
    },
    {
     "name": "stderr",
     "output_type": "stream",
     "text": [
      "[Stage 46:========================>                              (88 + 8) / 200]\r"
     ]
    },
    {
     "name": "stdout",
     "output_type": "stream",
     "text": [
      "22/11/21 16:57:37 WARN MemoryStore: Not enough space to cache rdd_21_97 in memory! (computed 3.9 MiB so far)\n"
     ]
    },
    {
     "name": "stderr",
     "output_type": "stream",
     "text": [
      "[Stage 46:=========================>                             (91 + 8) / 200]\r"
     ]
    },
    {
     "name": "stdout",
     "output_type": "stream",
     "text": [
      "22/11/21 16:57:37 WARN MemoryStore: Not enough space to cache rdd_21_100 in memory! (computed 3.9 MiB so far)\n"
     ]
    },
    {
     "name": "stderr",
     "output_type": "stream",
     "text": [
      "[Stage 46:==========================>                            (96 + 8) / 200]\r"
     ]
    },
    {
     "name": "stdout",
     "output_type": "stream",
     "text": [
      "22/11/21 16:57:38 WARN MemoryStore: Not enough space to cache rdd_21_105 in memory! (computed 3.9 MiB so far)\n",
      "22/11/21 16:57:38 WARN MemoryStore: Not enough space to cache rdd_21_106 in memory! (computed 3.9 MiB so far)\n",
      "22/11/21 16:57:39 WARN MemoryStore: Not enough space to cache rdd_21_108 in memory! (computed 3.9 MiB so far)\n"
     ]
    },
    {
     "name": "stderr",
     "output_type": "stream",
     "text": [
      "[Stage 46:============================>                         (107 + 8) / 200]\r"
     ]
    },
    {
     "name": "stdout",
     "output_type": "stream",
     "text": [
      "22/11/21 16:57:40 WARN MemoryStore: Not enough space to cache rdd_21_117 in memory! (computed 3.9 MiB so far)\n"
     ]
    },
    {
     "name": "stderr",
     "output_type": "stream",
     "text": [
      "[Stage 46:==============================>                       (112 + 8) / 200]\r"
     ]
    },
    {
     "name": "stdout",
     "output_type": "stream",
     "text": [
      "22/11/21 16:57:42 WARN MemoryStore: Not enough space to cache rdd_21_121 in memory! (computed 3.9 MiB so far)\n"
     ]
    },
    {
     "name": "stderr",
     "output_type": "stream",
     "text": [
      "[Stage 46:==============================>                       (114 + 8) / 200]\r"
     ]
    },
    {
     "name": "stdout",
     "output_type": "stream",
     "text": [
      "22/11/21 16:57:42 WARN MemoryStore: Not enough space to cache rdd_21_124 in memory! (computed 3.9 MiB so far)\n",
      "22/11/21 16:57:42 WARN MemoryStore: Not enough space to cache rdd_21_126 in memory! (computed 3.9 MiB so far)\n"
     ]
    },
    {
     "name": "stderr",
     "output_type": "stream",
     "text": [
      "[Stage 46:================================>                     (120 + 8) / 200]\r"
     ]
    },
    {
     "name": "stdout",
     "output_type": "stream",
     "text": [
      "22/11/21 16:57:43 WARN MemoryStore: Not enough space to cache rdd_21_130 in memory! (computed 3.9 MiB so far)\n"
     ]
    },
    {
     "name": "stderr",
     "output_type": "stream",
     "text": [
      "[Stage 46:====================================>                 (135 + 8) / 200]\r"
     ]
    },
    {
     "name": "stdout",
     "output_type": "stream",
     "text": [
      "22/11/21 16:57:45 WARN MemoryStore: Not enough space to cache rdd_21_140 in memory! (computed 3.9 MiB so far)\n"
     ]
    },
    {
     "name": "stderr",
     "output_type": "stream",
     "text": [
      "[Stage 46:=====================================>                (139 + 8) / 200]\r"
     ]
    },
    {
     "name": "stdout",
     "output_type": "stream",
     "text": [
      "22/11/21 16:57:47 WARN MemoryStore: Not enough space to cache rdd_21_146 in memory! (computed 3.9 MiB so far)\n",
      "22/11/21 16:57:47 WARN MemoryStore: Not enough space to cache rdd_21_149 in memory! (computed 3.9 MiB so far)\n"
     ]
    },
    {
     "name": "stderr",
     "output_type": "stream",
     "text": [
      "[Stage 46:=======================================>              (145 + 8) / 200]\r"
     ]
    },
    {
     "name": "stdout",
     "output_type": "stream",
     "text": [
      "22/11/21 16:57:48 WARN MemoryStore: Not enough space to cache rdd_21_154 in memory! (computed 3.9 MiB so far)\n"
     ]
    },
    {
     "name": "stderr",
     "output_type": "stream",
     "text": [
      "[Stage 46:========================================>             (150 + 8) / 200]\r"
     ]
    },
    {
     "name": "stdout",
     "output_type": "stream",
     "text": [
      "22/11/21 16:57:49 WARN MemoryStore: Not enough space to cache rdd_21_156 in memory! (computed 3.9 MiB so far)\n",
      "22/11/21 16:57:49 WARN MemoryStore: Not enough space to cache rdd_21_157 in memory! (computed 3.9 MiB so far)\n"
     ]
    },
    {
     "name": "stderr",
     "output_type": "stream",
     "text": [
      "[Stage 46:=========================================>            (152 + 8) / 200]\r"
     ]
    },
    {
     "name": "stdout",
     "output_type": "stream",
     "text": [
      "22/11/21 16:57:50 WARN MemoryStore: Not enough space to cache rdd_21_161 in memory! (computed 3.9 MiB so far)\n"
     ]
    },
    {
     "name": "stderr",
     "output_type": "stream",
     "text": [
      "[Stage 46:==========================================>           (158 + 8) / 200]\r"
     ]
    },
    {
     "name": "stdout",
     "output_type": "stream",
     "text": [
      "22/11/21 16:57:50 WARN MemoryStore: Not enough space to cache rdd_21_165 in memory! (computed 3.9 MiB so far)\n"
     ]
    },
    {
     "name": "stderr",
     "output_type": "stream",
     "text": [
      "[Stage 46:===========================================>          (160 + 8) / 200]\r"
     ]
    },
    {
     "name": "stdout",
     "output_type": "stream",
     "text": [
      "22/11/21 16:57:52 WARN MemoryStore: Not enough space to cache rdd_21_170 in memory! (computed 3.9 MiB so far)\n"
     ]
    },
    {
     "name": "stderr",
     "output_type": "stream",
     "text": [
      "[Stage 46:=============================================>        (167 + 8) / 200]\r"
     ]
    },
    {
     "name": "stdout",
     "output_type": "stream",
     "text": [
      "22/11/21 16:57:52 WARN MemoryStore: Not enough space to cache rdd_21_173 in memory! (computed 3.9 MiB so far)\n"
     ]
    },
    {
     "name": "stderr",
     "output_type": "stream",
     "text": [
      "[Stage 46:=============================================>        (169 + 8) / 200]\r"
     ]
    },
    {
     "name": "stdout",
     "output_type": "stream",
     "text": [
      "22/11/21 16:57:53 WARN MemoryStore: Not enough space to cache rdd_21_178 in memory! (computed 3.9 MiB so far)\n"
     ]
    },
    {
     "name": "stderr",
     "output_type": "stream",
     "text": [
      "[Stage 46:===============================================>      (176 + 9) / 200]\r"
     ]
    },
    {
     "name": "stdout",
     "output_type": "stream",
     "text": [
      "22/11/21 16:57:55 WARN MemoryStore: Not enough space to cache rdd_21_186 in memory! (computed 3.9 MiB so far)\n"
     ]
    },
    {
     "name": "stderr",
     "output_type": "stream",
     "text": [
      "[Stage 46:=================================================>    (183 + 8) / 200]\r"
     ]
    },
    {
     "name": "stdout",
     "output_type": "stream",
     "text": [
      "22/11/21 16:57:55 WARN MemoryStore: Not enough space to cache rdd_21_190 in memory! (computed 3.9 MiB so far)\n"
     ]
    },
    {
     "name": "stderr",
     "output_type": "stream",
     "text": [
      "[Stage 46:=================================================>    (185 + 8) / 200]\r"
     ]
    },
    {
     "name": "stdout",
     "output_type": "stream",
     "text": [
      "22/11/21 16:57:57 WARN MemoryStore: Not enough space to cache rdd_21_193 in memory! (computed 3.9 MiB so far)\n",
      "22/11/21 16:57:57 WARN MemoryStore: Not enough space to cache rdd_21_194 in memory! (computed 3.9 MiB so far)\n"
     ]
    },
    {
     "name": "stderr",
     "output_type": "stream",
     "text": [
      "[Stage 46:=====================================================>(198 + 2) / 200]\r"
     ]
    },
    {
     "name": "stdout",
     "output_type": "stream",
     "text": [
      "+----+--------+---------+\n",
      "|week|retweets|favorites|\n",
      "+----+--------+---------+\n",
      "|   1|   17154|    68580|\n",
      "|   2|   21052|    76150|\n",
      "|   3|   30124|   115362|\n",
      "|   4|   23269|   100733|\n",
      "|   5|   95331|   345437|\n",
      "|   6|   56310|   282264|\n",
      "|   7|   22693|   164017|\n",
      "|   8|   35528|   148943|\n",
      "|   9|   65765|   371656|\n",
      "|  10|  104705|   617336|\n",
      "|  11|    9724|    35381|\n",
      "|  12|   15381|    50146|\n",
      "|  13|   33285|   138162|\n",
      "|  14|   54243|   195431|\n",
      "|  15|   26791|   113541|\n",
      "|  16|   20269|   133321|\n",
      "|  17|   68675|   474810|\n",
      "|  18|   15386|    61562|\n",
      "|  19|   24278|    94041|\n",
      "|  20|   36449|   179521|\n",
      "+----+--------+---------+\n",
      "only showing top 20 rows\n",
      "\n"
     ]
    },
    {
     "name": "stderr",
     "output_type": "stream",
     "text": [
      "                                                                                \r"
     ]
    }
   ],
   "source": [
    "eng_weekly.show()"
   ]
  },
  {
   "cell_type": "code",
   "execution_count": 22,
   "id": "64d1601d",
   "metadata": {},
   "outputs": [
    {
     "name": "stdout",
     "output_type": "stream",
     "text": [
      "22/11/21 16:57:59 WARN MemoryStore: Not enough space to cache rdd_21_5 in memory! (computed 3.9 MiB so far)\n",
      "22/11/21 16:57:59 WARN MemoryStore: Not enough space to cache rdd_21_1 in memory! (computed 3.9 MiB so far)\n"
     ]
    },
    {
     "name": "stderr",
     "output_type": "stream",
     "text": [
      "[Stage 51:>                                                       (1 + 8) / 200]\r"
     ]
    },
    {
     "name": "stdout",
     "output_type": "stream",
     "text": [
      "22/11/21 16:58:01 WARN MemoryStore: Not enough space to cache rdd_21_13 in memory! (computed 3.9 MiB so far)\n"
     ]
    },
    {
     "name": "stderr",
     "output_type": "stream",
     "text": [
      "[Stage 51:==>                                                     (8 + 8) / 200]\r"
     ]
    },
    {
     "name": "stdout",
     "output_type": "stream",
     "text": [
      "22/11/21 16:58:02 WARN MemoryStore: Not enough space to cache rdd_21_19 in memory! (computed 3.9 MiB so far)\n",
      "22/11/21 16:58:02 WARN MemoryStore: Not enough space to cache rdd_21_20 in memory! (computed 3.9 MiB so far)\n"
     ]
    },
    {
     "name": "stderr",
     "output_type": "stream",
     "text": [
      "[Stage 51:====>                                                  (16 + 8) / 200]\r"
     ]
    },
    {
     "name": "stdout",
     "output_type": "stream",
     "text": [
      "22/11/21 16:58:04 WARN MemoryStore: Not enough space to cache rdd_21_27 in memory! (computed 3.9 MiB so far)\n"
     ]
    },
    {
     "name": "stderr",
     "output_type": "stream",
     "text": [
      "[Stage 51:========>                                              (30 + 8) / 200]\r"
     ]
    },
    {
     "name": "stdout",
     "output_type": "stream",
     "text": [
      "22/11/21 16:58:05 WARN MemoryStore: Not enough space to cache rdd_21_36 in memory! (computed 3.9 MiB so far)\n",
      "22/11/21 16:58:06 WARN MemoryStore: Not enough space to cache rdd_21_37 in memory! (computed 3.9 MiB so far)\n"
     ]
    },
    {
     "name": "stderr",
     "output_type": "stream",
     "text": [
      "[Stage 51:========>                                              (32 + 8) / 200]\r"
     ]
    },
    {
     "name": "stdout",
     "output_type": "stream",
     "text": [
      "22/11/21 16:58:07 WARN MemoryStore: Not enough space to cache rdd_21_42 in memory! (computed 3.9 MiB so far)\n"
     ]
    },
    {
     "name": "stderr",
     "output_type": "stream",
     "text": [
      "[Stage 51:===========>                                           (40 + 8) / 200]\r"
     ]
    },
    {
     "name": "stdout",
     "output_type": "stream",
     "text": [
      "22/11/21 16:58:09 WARN MemoryStore: Not enough space to cache rdd_21_49 in memory! (computed 3.9 MiB so far)\n"
     ]
    },
    {
     "name": "stderr",
     "output_type": "stream",
     "text": [
      "[Stage 51:=============>                                         (48 + 8) / 200]\r"
     ]
    },
    {
     "name": "stdout",
     "output_type": "stream",
     "text": [
      "22/11/21 16:58:10 WARN MemoryStore: Not enough space to cache rdd_21_57 in memory! (computed 3.9 MiB so far)\n"
     ]
    },
    {
     "name": "stderr",
     "output_type": "stream",
     "text": [
      "[Stage 51:===============>                                       (56 + 8) / 200]\r"
     ]
    },
    {
     "name": "stdout",
     "output_type": "stream",
     "text": [
      "22/11/21 16:58:12 WARN MemoryStore: Not enough space to cache rdd_21_66 in memory! (computed 3.9 MiB so far)\n",
      "22/11/21 16:58:12 WARN MemoryStore: Not enough space to cache rdd_21_67 in memory! (computed 3.9 MiB so far)\n"
     ]
    },
    {
     "name": "stderr",
     "output_type": "stream",
     "text": [
      "[Stage 51:=================>                                     (64 + 8) / 200]\r"
     ]
    },
    {
     "name": "stdout",
     "output_type": "stream",
     "text": [
      "22/11/21 16:58:14 WARN MemoryStore: Not enough space to cache rdd_21_74 in memory! (computed 3.9 MiB so far)\n",
      "22/11/21 16:58:14 WARN MemoryStore: Not enough space to cache rdd_21_77 in memory! (computed 3.9 MiB so far)\n"
     ]
    },
    {
     "name": "stderr",
     "output_type": "stream",
     "text": [
      "[Stage 51:====================>                                  (73 + 8) / 200]\r"
     ]
    },
    {
     "name": "stdout",
     "output_type": "stream",
     "text": [
      "22/11/21 16:58:16 WARN MemoryStore: Not enough space to cache rdd_21_82 in memory! (computed 3.9 MiB so far)\n"
     ]
    },
    {
     "name": "stderr",
     "output_type": "stream",
     "text": [
      "[Stage 51:======================>                                (82 + 8) / 200]\r"
     ]
    },
    {
     "name": "stdout",
     "output_type": "stream",
     "text": [
      "22/11/21 16:58:17 WARN MemoryStore: Not enough space to cache rdd_21_90 in memory! (computed 3.9 MiB so far)\n"
     ]
    },
    {
     "name": "stderr",
     "output_type": "stream",
     "text": [
      "[Stage 51:==========================>                            (98 + 8) / 200]\r"
     ]
    },
    {
     "name": "stdout",
     "output_type": "stream",
     "text": [
      "22/11/21 16:58:21 WARN MemoryStore: Not enough space to cache rdd_21_108 in memory! (computed 3.9 MiB so far)\n"
     ]
    },
    {
     "name": "stderr",
     "output_type": "stream",
     "text": [
      "[Stage 51:============================>                         (107 + 8) / 200]\r"
     ]
    },
    {
     "name": "stdout",
     "output_type": "stream",
     "text": [
      "22/11/21 16:58:23 WARN MemoryStore: Not enough space to cache rdd_21_117 in memory! (computed 3.9 MiB so far)\n"
     ]
    },
    {
     "name": "stderr",
     "output_type": "stream",
     "text": [
      "[Stage 51:=============================>                        (110 + 8) / 200]\r"
     ]
    },
    {
     "name": "stdout",
     "output_type": "stream",
     "text": [
      "22/11/21 16:58:23 WARN MemoryStore: Not enough space to cache rdd_21_119 in memory! (computed 3.9 MiB so far)\n"
     ]
    },
    {
     "name": "stderr",
     "output_type": "stream",
     "text": [
      "[Stage 51:==============================>                       (114 + 8) / 200]\r"
     ]
    },
    {
     "name": "stdout",
     "output_type": "stream",
     "text": [
      "22/11/21 16:58:24 WARN MemoryStore: Not enough space to cache rdd_21_121 in memory! (computed 3.9 MiB so far)\n"
     ]
    },
    {
     "name": "stderr",
     "output_type": "stream",
     "text": [
      "[Stage 51:===============================>                      (118 + 8) / 200]\r"
     ]
    },
    {
     "name": "stdout",
     "output_type": "stream",
     "text": [
      "22/11/21 16:58:25 WARN MemoryStore: Not enough space to cache rdd_21_124 in memory! (computed 3.9 MiB so far)\n"
     ]
    },
    {
     "name": "stderr",
     "output_type": "stream",
     "text": [
      "[Stage 51:================================>                     (122 + 8) / 200]\r"
     ]
    },
    {
     "name": "stdout",
     "output_type": "stream",
     "text": [
      "22/11/21 16:58:26 WARN MemoryStore: Not enough space to cache rdd_21_133 in memory! (computed 3.9 MiB so far)\n"
     ]
    },
    {
     "name": "stderr",
     "output_type": "stream",
     "text": [
      "[Stage 51:====================================>                 (135 + 8) / 200]\r"
     ]
    },
    {
     "name": "stdout",
     "output_type": "stream",
     "text": [
      "22/11/21 16:58:28 WARN MemoryStore: Not enough space to cache rdd_21_141 in memory! (computed 3.9 MiB so far)\n"
     ]
    },
    {
     "name": "stderr",
     "output_type": "stream",
     "text": [
      "[Stage 51:======================================>               (141 + 8) / 200]\r"
     ]
    },
    {
     "name": "stdout",
     "output_type": "stream",
     "text": [
      "22/11/21 16:58:30 WARN MemoryStore: Not enough space to cache rdd_21_147 in memory! (computed 3.9 MiB so far)\n",
      "22/11/21 16:58:30 WARN MemoryStore: Not enough space to cache rdd_21_148 in memory! (computed 3.9 MiB so far)\n",
      "22/11/21 16:58:30 WARN MemoryStore: Not enough space to cache rdd_21_150 in memory! (computed 3.9 MiB so far)\n"
     ]
    },
    {
     "name": "stderr",
     "output_type": "stream",
     "text": [
      "[Stage 51:========================================>             (151 + 8) / 200]\r"
     ]
    },
    {
     "name": "stdout",
     "output_type": "stream",
     "text": [
      "22/11/21 16:58:31 WARN MemoryStore: Not enough space to cache rdd_21_155 in memory! (computed 3.9 MiB so far)\n",
      "22/11/21 16:58:31 WARN MemoryStore: Not enough space to cache rdd_21_156 in memory! (computed 3.9 MiB so far)\n",
      "22/11/21 16:58:31 WARN MemoryStore: Not enough space to cache rdd_21_158 in memory! (computed 3.9 MiB so far)\n"
     ]
    },
    {
     "name": "stderr",
     "output_type": "stream",
     "text": [
      "[Stage 51:============================================>         (163 + 8) / 200]\r"
     ]
    },
    {
     "name": "stdout",
     "output_type": "stream",
     "text": [
      "22/11/21 16:58:35 WARN MemoryStore: Not enough space to cache rdd_21_172 in memory! (computed 3.9 MiB so far)\n"
     ]
    },
    {
     "name": "stderr",
     "output_type": "stream",
     "text": [
      "[Stage 51:==============================================>       (173 + 8) / 200]\r"
     ]
    },
    {
     "name": "stdout",
     "output_type": "stream",
     "text": [
      "22/11/21 16:58:36 WARN MemoryStore: Not enough space to cache rdd_21_180 in memory! (computed 3.9 MiB so far)\n",
      "22/11/21 16:58:37 WARN MemoryStore: Not enough space to cache rdd_21_182 in memory! (computed 3.9 MiB so far)\n"
     ]
    },
    {
     "name": "stderr",
     "output_type": "stream",
     "text": [
      "[Stage 51:================================================>     (179 + 8) / 200]\r"
     ]
    },
    {
     "name": "stdout",
     "output_type": "stream",
     "text": [
      "22/11/21 16:58:38 WARN MemoryStore: Not enough space to cache rdd_21_188 in memory! (computed 3.9 MiB so far)\n",
      "22/11/21 16:58:38 WARN MemoryStore: Not enough space to cache rdd_21_190 in memory! (computed 3.9 MiB so far)\n"
     ]
    },
    {
     "name": "stderr",
     "output_type": "stream",
     "text": [
      "[Stage 51:===================================================>  (191 + 8) / 200]\r"
     ]
    },
    {
     "name": "stdout",
     "output_type": "stream",
     "text": [
      "22/11/21 16:58:40 WARN MemoryStore: Not enough space to cache rdd_21_197 in memory! (computed 3.9 MiB so far)\n"
     ]
    },
    {
     "name": "stderr",
     "output_type": "stream",
     "text": [
      "                                                                                \r"
     ]
    }
   ],
   "source": [
    "eng_weekly = eng_weekly.toPandas()"
   ]
  },
  {
   "cell_type": "code",
   "execution_count": 23,
   "id": "435322a0",
   "metadata": {},
   "outputs": [
    {
     "data": {
      "image/png": "[encoded data removed]",
      "text/plain": [
       "<Figure size 432x288 with 1 Axes>"
      ]
     },
     "metadata": {
      "needs_background": "light"
     },
     "output_type": "display_data"
    }
   ],
   "source": [
    "sns.lineplot(x = \"week\", y = \"retweets\", data = eng_weekly)\n",
    "sns.lineplot(x = \"week\", y = \"favorites\", data = eng_weekly)\n",
    "plt.legend([\"retweets\", \"favorites\"],loc=\"upper left\")\n",
    "plt.show()"
   ]
  },
  {
   "cell_type": "markdown",
   "id": "bdbcc798",
   "metadata": {},
   "source": [
    "# The level of social media activity vs level of engagement"
   ]
  },
  {
   "cell_type": "markdown",
   "id": "2c4b8746",
   "metadata": {},
   "source": [
    "Engagement on Twitter is measured by the number of retweets, follows, replies, favorites, and other people’s reactions to your tweets, including the clicks on the links and hashtags in those tweets. Your Twitter engagement rate is your engagement figure divided by the number of impressions on the tweet.\n",
    "\n",
    "According to our 2022 Social Media Industry Benchmark Report, the overall median engagement rate on Twitter is 0.037%. This is the rate for brands across all industries, from fashion to nonprofits. On average, these brands are also posting about 5 times per week.\n",
    "\n",
    "https://www.rivaliq.com/blog/good-engagement-rate-twitter/"
   ]
  },
  {
   "cell_type": "code",
   "execution_count": 24,
   "id": "03c184a8",
   "metadata": {},
   "outputs": [],
   "source": [
    "eng_rate = df.withColumn('eng_rate', ((df['favorite_count'] + df['retweet_count'])/df['followers_count']))"
   ]
  },
  {
   "cell_type": "code",
   "execution_count": 25,
   "id": "3f2f23b6",
   "metadata": {},
   "outputs": [
    {
     "data": {
      "text/html": [
       "<div>\n",
       "<style scoped>\n",
       "    .dataframe tbody tr th:only-of-type {\n",
       "        vertical-align: middle;\n",
       "    }\n",
       "\n",
       "    .dataframe tbody tr th {\n",
       "        vertical-align: top;\n",
       "    }\n",
       "\n",
       "    .dataframe thead th {\n",
       "        text-align: right;\n",
       "    }\n",
       "</style>\n",
       "<table border=\"1\" class=\"dataframe\">\n",
       "  <thead>\n",
       "    <tr style=\"text-align: right;\">\n",
       "      <th></th>\n",
       "      <th>name</th>\n",
       "      <th>screen_name</th>\n",
       "      <th>created_at</th>\n",
       "      <th>full_text</th>\n",
       "      <th>hashtags</th>\n",
       "      <th>lang</th>\n",
       "      <th>followers_count</th>\n",
       "      <th>friends_count</th>\n",
       "      <th>favourites_count</th>\n",
       "      <th>urls</th>\n",
       "      <th>symbols</th>\n",
       "      <th>retweet_count</th>\n",
       "      <th>favorite_count</th>\n",
       "      <th>post_created_at</th>\n",
       "      <th>eng_rate</th>\n",
       "    </tr>\n",
       "  </thead>\n",
       "  <tbody>\n",
       "    <tr>\n",
       "      <th>0</th>\n",
       "      <td>SaaSLaunchr</td>\n",
       "      <td>SLaunchr</td>\n",
       "      <td>Mon Oct 18 09:24:09 +0000 2021</td>\n",
       "      <td>Sponsor #1: https://t.co/ixCQVKJZG5 After the ...</td>\n",
       "      <td>[]</td>\n",
       "      <td>en</td>\n",
       "      <td>2</td>\n",
       "      <td>27</td>\n",
       "      <td>1</td>\n",
       "      <td>[(pixelied.com, https://pixelied.com/, [12, 35...</td>\n",
       "      <td>[]</td>\n",
       "      <td>0</td>\n",
       "      <td>0</td>\n",
       "      <td>2021-10-18 09:24:09</td>\n",
       "      <td>0.000000</td>\n",
       "    </tr>\n",
       "    <tr>\n",
       "      <th>1</th>\n",
       "      <td>JÆ</td>\n",
       "      <td>ijeislut</td>\n",
       "      <td>Mon Apr 04 10:47:40 +0000 2022</td>\n",
       "      <td>@tewfootprints #GoGreen #Recycle #Organic</td>\n",
       "      <td>[([15, 23], GoGreen), ([24, 32], Recycle), ([3...</td>\n",
       "      <td>und</td>\n",
       "      <td>18</td>\n",
       "      <td>373</td>\n",
       "      <td>8321</td>\n",
       "      <td>[]</td>\n",
       "      <td>[]</td>\n",
       "      <td>0</td>\n",
       "      <td>0</td>\n",
       "      <td>2022-04-04 10:47:40</td>\n",
       "      <td>0.000000</td>\n",
       "    </tr>\n",
       "    <tr>\n",
       "      <th>2</th>\n",
       "      <td>Environment Matters</td>\n",
       "      <td>enviro_matters</td>\n",
       "      <td>Mon Apr 04 10:47:03 +0000 2022</td>\n",
       "      <td>@GillwallyO @irish_organic @peatyGHG This + if...</td>\n",
       "      <td>[]</td>\n",
       "      <td>en</td>\n",
       "      <td>3160</td>\n",
       "      <td>2140</td>\n",
       "      <td>85172</td>\n",
       "      <td>[]</td>\n",
       "      <td>[]</td>\n",
       "      <td>0</td>\n",
       "      <td>2</td>\n",
       "      <td>2022-04-04 10:47:03</td>\n",
       "      <td>0.000633</td>\n",
       "    </tr>\n",
       "    <tr>\n",
       "      <th>3</th>\n",
       "      <td>Food and Beverages</td>\n",
       "      <td>FoodandBeverag8</td>\n",
       "      <td>Mon Apr 04 10:43:32 +0000 2022</td>\n",
       "      <td>Great River Organic Milling Great River Organi...</td>\n",
       "      <td>[]</td>\n",
       "      <td>en</td>\n",
       "      <td>24</td>\n",
       "      <td>15</td>\n",
       "      <td>0</td>\n",
       "      <td>[(ebay.com/itm/3940164472…, https://www.ebay.c...</td>\n",
       "      <td>[]</td>\n",
       "      <td>0</td>\n",
       "      <td>0</td>\n",
       "      <td>2022-04-04 10:43:32</td>\n",
       "      <td>0.000000</td>\n",
       "    </tr>\n",
       "    <tr>\n",
       "      <th>4</th>\n",
       "      <td>Vegin' Out</td>\n",
       "      <td>VeginOut</td>\n",
       "      <td>Tue Sep 13 19:13:49 +0000 2022</td>\n",
       "      <td>🥕NEW Vegin' Out September 19th Vegan Delivery ...</td>\n",
       "      <td>[([54, 60], Vegan), ([218, 226], govegan), ([2...</td>\n",
       "      <td>en</td>\n",
       "      <td>974</td>\n",
       "      <td>1928</td>\n",
       "      <td>62</td>\n",
       "      <td>[(veginout.com/pages/vegin-ou…, https://www.ve...</td>\n",
       "      <td>[]</td>\n",
       "      <td>0</td>\n",
       "      <td>0</td>\n",
       "      <td>2022-09-13 19:13:49</td>\n",
       "      <td>0.000000</td>\n",
       "    </tr>\n",
       "  </tbody>\n",
       "</table>\n",
       "</div>"
      ],
      "text/plain": [
       "                  name      screen_name                      created_at  \\\n",
       "0          SaaSLaunchr         SLaunchr  Mon Oct 18 09:24:09 +0000 2021   \n",
       "1                   JÆ         ijeislut  Mon Apr 04 10:47:40 +0000 2022   \n",
       "2  Environment Matters   enviro_matters  Mon Apr 04 10:47:03 +0000 2022   \n",
       "3   Food and Beverages  FoodandBeverag8  Mon Apr 04 10:43:32 +0000 2022   \n",
       "4           Vegin' Out         VeginOut  Tue Sep 13 19:13:49 +0000 2022   \n",
       "\n",
       "                                           full_text  \\\n",
       "0  Sponsor #1: https://t.co/ixCQVKJZG5 After the ...   \n",
       "1          @tewfootprints #GoGreen #Recycle #Organic   \n",
       "2  @GillwallyO @irish_organic @peatyGHG This + if...   \n",
       "3  Great River Organic Milling Great River Organi...   \n",
       "4  🥕NEW Vegin' Out September 19th Vegan Delivery ...   \n",
       "\n",
       "                                            hashtags lang  followers_count  \\\n",
       "0                                                 []   en                2   \n",
       "1  [([15, 23], GoGreen), ([24, 32], Recycle), ([3...  und               18   \n",
       "2                                                 []   en             3160   \n",
       "3                                                 []   en               24   \n",
       "4  [([54, 60], Vegan), ([218, 226], govegan), ([2...   en              974   \n",
       "\n",
       "   friends_count  favourites_count  \\\n",
       "0             27                 1   \n",
       "1            373              8321   \n",
       "2           2140             85172   \n",
       "3             15                 0   \n",
       "4           1928                62   \n",
       "\n",
       "                                                urls symbols  retweet_count  \\\n",
       "0  [(pixelied.com, https://pixelied.com/, [12, 35...      []              0   \n",
       "1                                                 []      []              0   \n",
       "2                                                 []      []              0   \n",
       "3  [(ebay.com/itm/3940164472…, https://www.ebay.c...      []              0   \n",
       "4  [(veginout.com/pages/vegin-ou…, https://www.ve...      []              0   \n",
       "\n",
       "   favorite_count     post_created_at  eng_rate  \n",
       "0               0 2021-10-18 09:24:09  0.000000  \n",
       "1               0 2022-04-04 10:47:40  0.000000  \n",
       "2               2 2022-04-04 10:47:03  0.000633  \n",
       "3               0 2022-04-04 10:43:32  0.000000  \n",
       "4               0 2022-09-13 19:13:49  0.000000  "
      ]
     },
     "execution_count": 25,
     "metadata": {},
     "output_type": "execute_result"
    }
   ],
   "source": [
    "eng_rate.limit(5).toPandas()"
   ]
  },
  {
   "cell_type": "code",
   "execution_count": 26,
   "id": "f430bb93",
   "metadata": {},
   "outputs": [],
   "source": [
    "eng_rate = eng_rate.withColumn('week', weekofyear('post_created_at'))"
   ]
  },
  {
   "cell_type": "code",
   "execution_count": 27,
   "id": "c889fe22",
   "metadata": {},
   "outputs": [],
   "source": [
    "eng_rate_weekly = eng_rate.groupBy(\"week\") \\\n",
    "                        .agg(avg(\"eng_rate\").alias(\"eng_rate\")) \\\n",
    "                        .sort(\"week\", ascending = True)"
   ]
  },
  {
   "cell_type": "code",
   "execution_count": 28,
   "id": "7a2430bd",
   "metadata": {},
   "outputs": [
    {
     "name": "stderr",
     "output_type": "stream",
     "text": [
      "[Stage 65:=>                                                      (4 + 8) / 200]\r"
     ]
    },
    {
     "name": "stdout",
     "output_type": "stream",
     "text": [
      "22/11/21 16:58:44 WARN MemoryStore: Not enough space to cache rdd_21_10 in memory! (computed 3.9 MiB so far)\n",
      "22/11/21 16:58:44 WARN MemoryStore: Not enough space to cache rdd_21_11 in memory! (computed 3.9 MiB so far)\n",
      "22/11/21 16:58:44 WARN MemoryStore: Not enough space to cache rdd_21_15 in memory! (computed 3.9 MiB so far)\n"
     ]
    },
    {
     "name": "stderr",
     "output_type": "stream",
     "text": [
      "[Stage 65:===>                                                   (14 + 8) / 200]\r"
     ]
    },
    {
     "name": "stdout",
     "output_type": "stream",
     "text": [
      "22/11/21 16:58:46 WARN MemoryStore: Not enough space to cache rdd_21_21 in memory! (computed 3.9 MiB so far)\n",
      "22/11/21 16:58:46 WARN MemoryStore: Not enough space to cache rdd_21_23 in memory! (computed 3.9 MiB so far)\n"
     ]
    },
    {
     "name": "stderr",
     "output_type": "stream",
     "text": [
      "[Stage 65:====>                                                  (17 + 8) / 200]\r"
     ]
    },
    {
     "name": "stdout",
     "output_type": "stream",
     "text": [
      "22/11/21 16:58:47 WARN MemoryStore: Not enough space to cache rdd_21_26 in memory! (computed 3.9 MiB so far)\n"
     ]
    },
    {
     "name": "stderr",
     "output_type": "stream",
     "text": [
      "[Stage 65:=====>                                                 (20 + 8) / 200]\r"
     ]
    },
    {
     "name": "stdout",
     "output_type": "stream",
     "text": [
      "22/11/21 16:58:48 WARN MemoryStore: Not enough space to cache rdd_21_31 in memory! (computed 3.9 MiB so far)\n"
     ]
    },
    {
     "name": "stderr",
     "output_type": "stream",
     "text": [
      "[Stage 65:=======>                                               (27 + 8) / 200]\r"
     ]
    },
    {
     "name": "stdout",
     "output_type": "stream",
     "text": [
      "22/11/21 16:58:49 WARN MemoryStore: Not enough space to cache rdd_21_37 in memory! (computed 3.9 MiB so far)\n"
     ]
    },
    {
     "name": "stderr",
     "output_type": "stream",
     "text": [
      "[Stage 65:=========>                                             (34 + 8) / 200]\r"
     ]
    },
    {
     "name": "stdout",
     "output_type": "stream",
     "text": [
      "22/11/21 16:58:51 WARN MemoryStore: Not enough space to cache rdd_21_43 in memory! (computed 3.9 MiB so far)\n"
     ]
    },
    {
     "name": "stderr",
     "output_type": "stream",
     "text": [
      "[Stage 65:===========>                                           (42 + 8) / 200]\r"
     ]
    },
    {
     "name": "stdout",
     "output_type": "stream",
     "text": [
      "22/11/21 16:58:52 WARN MemoryStore: Not enough space to cache rdd_21_51 in memory! (computed 3.9 MiB so far)\n"
     ]
    },
    {
     "name": "stderr",
     "output_type": "stream",
     "text": [
      "[Stage 65:============>                                          (44 + 9) / 200]\r"
     ]
    },
    {
     "name": "stdout",
     "output_type": "stream",
     "text": [
      "22/11/21 16:58:53 WARN MemoryStore: Not enough space to cache rdd_21_54 in memory! (computed 3.9 MiB so far)\n"
     ]
    },
    {
     "name": "stderr",
     "output_type": "stream",
     "text": [
      "[Stage 65:=============>                                         (50 + 8) / 200]\r"
     ]
    },
    {
     "name": "stdout",
     "output_type": "stream",
     "text": [
      "22/11/21 16:58:54 WARN MemoryStore: Not enough space to cache rdd_21_58 in memory! (computed 3.9 MiB so far)\n"
     ]
    },
    {
     "name": "stderr",
     "output_type": "stream",
     "text": [
      "[Stage 65:==============>                                        (53 + 8) / 200]\r"
     ]
    },
    {
     "name": "stdout",
     "output_type": "stream",
     "text": [
      "22/11/21 16:58:54 WARN MemoryStore: Not enough space to cache rdd_21_63 in memory! (computed 3.9 MiB so far)\n"
     ]
    },
    {
     "name": "stderr",
     "output_type": "stream",
     "text": [
      "[Stage 65:================>                                      (60 + 8) / 200]\r"
     ]
    },
    {
     "name": "stdout",
     "output_type": "stream",
     "text": [
      "22/11/21 16:58:56 WARN MemoryStore: Not enough space to cache rdd_21_70 in memory! (computed 3.9 MiB so far)\n"
     ]
    },
    {
     "name": "stderr",
     "output_type": "stream",
     "text": [
      "[Stage 65:==================>                                    (68 + 8) / 200]\r"
     ]
    },
    {
     "name": "stdout",
     "output_type": "stream",
     "text": [
      "22/11/21 16:58:57 WARN MemoryStore: Not enough space to cache rdd_21_75 in memory! (computed 3.9 MiB so far)\n",
      "22/11/21 16:58:58 WARN MemoryStore: Not enough space to cache rdd_21_78 in memory! (computed 3.9 MiB so far)\n"
     ]
    },
    {
     "name": "stderr",
     "output_type": "stream",
     "text": [
      "[Stage 65:========================>                              (89 + 8) / 200]\r"
     ]
    },
    {
     "name": "stdout",
     "output_type": "stream",
     "text": [
      "22/11/21 16:59:02 WARN MemoryStore: Not enough space to cache rdd_21_99 in memory! (computed 3.9 MiB so far)\n"
     ]
    },
    {
     "name": "stderr",
     "output_type": "stream",
     "text": [
      "[Stage 65:===========================>                          (100 + 8) / 200]\r"
     ]
    },
    {
     "name": "stdout",
     "output_type": "stream",
     "text": [
      "22/11/21 16:59:04 WARN MemoryStore: Not enough space to cache rdd_21_107 in memory! (computed 3.9 MiB so far)\n"
     ]
    },
    {
     "name": "stderr",
     "output_type": "stream",
     "text": [
      "[Stage 65:=============================>                        (110 + 8) / 200]\r"
     ]
    },
    {
     "name": "stdout",
     "output_type": "stream",
     "text": [
      "22/11/21 16:59:06 WARN MemoryStore: Not enough space to cache rdd_21_116 in memory! (computed 3.9 MiB so far)\n"
     ]
    },
    {
     "name": "stderr",
     "output_type": "stream",
     "text": [
      "[Stage 65:===============================>                      (115 + 8) / 200]\r"
     ]
    },
    {
     "name": "stdout",
     "output_type": "stream",
     "text": [
      "22/11/21 16:59:07 WARN MemoryStore: Not enough space to cache rdd_21_124 in memory! (computed 3.9 MiB so far)\n"
     ]
    },
    {
     "name": "stderr",
     "output_type": "stream",
     "text": [
      "[Stage 65:=================================>                    (123 + 8) / 200]\r"
     ]
    },
    {
     "name": "stdout",
     "output_type": "stream",
     "text": [
      "22/11/21 16:59:09 WARN MemoryStore: Not enough space to cache rdd_21_133 in memory! (computed 3.9 MiB so far)\n"
     ]
    },
    {
     "name": "stderr",
     "output_type": "stream",
     "text": [
      "[Stage 65:===================================>                  (131 + 8) / 200]\r"
     ]
    },
    {
     "name": "stdout",
     "output_type": "stream",
     "text": [
      "22/11/21 16:59:11 WARN MemoryStore: Not enough space to cache rdd_21_141 in memory! (computed 3.9 MiB so far)\n"
     ]
    },
    {
     "name": "stderr",
     "output_type": "stream",
     "text": [
      "[Stage 65:====================================>                 (136 + 8) / 200]\r"
     ]
    },
    {
     "name": "stdout",
     "output_type": "stream",
     "text": [
      "22/11/21 16:59:12 WARN MemoryStore: Not enough space to cache rdd_21_145 in memory! (computed 3.9 MiB so far)\n",
      "22/11/21 16:59:12 WARN MemoryStore: Not enough space to cache rdd_21_146 in memory! (computed 3.9 MiB so far)\n",
      "22/11/21 16:59:12 WARN MemoryStore: Not enough space to cache rdd_21_149 in memory! (computed 3.9 MiB so far)\n"
     ]
    },
    {
     "name": "stderr",
     "output_type": "stream",
     "text": [
      "[Stage 65:=======================================>              (145 + 8) / 200]\r"
     ]
    },
    {
     "name": "stdout",
     "output_type": "stream",
     "text": [
      "22/11/21 16:59:14 WARN MemoryStore: Not enough space to cache rdd_21_154 in memory! (computed 3.9 MiB so far)\n"
     ]
    },
    {
     "name": "stderr",
     "output_type": "stream",
     "text": [
      "[Stage 65:=======================================>              (148 + 8) / 200]\r"
     ]
    },
    {
     "name": "stdout",
     "output_type": "stream",
     "text": [
      "22/11/21 16:59:14 WARN MemoryStore: Not enough space to cache rdd_21_157 in memory! (computed 3.9 MiB so far)\n"
     ]
    },
    {
     "name": "stderr",
     "output_type": "stream",
     "text": [
      "[Stage 65:==========================================>           (156 + 8) / 200]\r"
     ]
    },
    {
     "name": "stdout",
     "output_type": "stream",
     "text": [
      "22/11/21 16:59:16 WARN MemoryStore: Not enough space to cache rdd_21_161 in memory! (computed 3.9 MiB so far)\n",
      "22/11/21 16:59:16 WARN MemoryStore: Not enough space to cache rdd_21_162 in memory! (computed 3.9 MiB so far)\n"
     ]
    },
    {
     "name": "stderr",
     "output_type": "stream",
     "text": [
      "[Stage 65:===========================================>          (160 + 8) / 200]\r"
     ]
    },
    {
     "name": "stdout",
     "output_type": "stream",
     "text": [
      "22/11/21 16:59:17 WARN MemoryStore: Not enough space to cache rdd_21_170 in memory! (computed 3.9 MiB so far)\n"
     ]
    },
    {
     "name": "stderr",
     "output_type": "stream",
     "text": [
      "[Stage 65:=============================================>        (169 + 8) / 200]\r"
     ]
    },
    {
     "name": "stdout",
     "output_type": "stream",
     "text": [
      "22/11/21 16:59:19 WARN MemoryStore: Not enough space to cache rdd_21_178 in memory! (computed 3.9 MiB so far)\n"
     ]
    },
    {
     "name": "stderr",
     "output_type": "stream",
     "text": [
      "                                                                                \r"
     ]
    }
   ],
   "source": [
    "eng_rate_weekly = eng_rate_weekly.toPandas()"
   ]
  },
  {
   "cell_type": "code",
   "execution_count": 29,
   "id": "dcb2521c",
   "metadata": {},
   "outputs": [
    {
     "data": {
      "image/png": "[encoded data removed]",
      "text/plain": [
       "<Figure size 720x360 with 2 Axes>"
      ]
     },
     "metadata": {
      "needs_background": "light"
     },
     "output_type": "display_data"
    }
   ],
   "source": [
    "# plotting figures by creating axes object\n",
    "# using subplots() function\n",
    "fig, ax = plt.subplots(figsize = (10, 5))\n",
    "plt.title('Amount of Tweets compared to Engagement Rate')\n",
    " \n",
    "# using the twinx() for creating another\n",
    "# axes object for secondary y-Axis\n",
    "ax2 = ax.twinx()\n",
    "ax.plot(\"week\",\"freq\", data = freq_week, color = 'g')\n",
    "ax2.plot(\"week\", \"eng_rate\", data = eng_rate_weekly, color = 'b')\n",
    " \n",
    "# giving labels to the axises\n",
    "ax.set_xlabel('week')\n",
    "ax.set_ylabel('amount of tweets', color = 'g')\n",
    " \n",
    "# secondary y-axis label\n",
    "ax2.set_ylabel('engagement rate', color = 'b')\n",
    " \n",
    "# defining display layout\n",
    "plt.tight_layout()\n",
    " \n",
    "# show plot\n",
    "plt.show()"
   ]
  },
  {
   "cell_type": "markdown",
   "id": "e86ae8f6",
   "metadata": {},
   "source": [
    "# The volume of influencer activity vs level of engagement "
   ]
  },
  {
   "cell_type": "code",
   "execution_count": 36,
   "id": "24b99f56",
   "metadata": {},
   "outputs": [
    {
     "ename": "ConnectionRefusedError",
     "evalue": "[Errno 61] Connection refused",
     "output_type": "error",
     "traceback": [
      "\u001b[0;31m---------------------------------------------------------------------------\u001b[0m",
      "\u001b[0;31mConnectionRefusedError\u001b[0m                    Traceback (most recent call last)",
      "\u001b[0;32m/var/folders/x2/hymzscwj7pg_t42hpfwjm20m0000gn/T/ipykernel_20878/299641987.py\u001b[0m in \u001b[0;36m<module>\u001b[0;34m\u001b[0m\n\u001b[0;32m----> 1\u001b[0;31m \u001b[0mbiggest_users\u001b[0m \u001b[0;34m=\u001b[0m \u001b[0mdf\u001b[0m\u001b[0;34m.\u001b[0m\u001b[0mgroupBy\u001b[0m\u001b[0;34m(\u001b[0m\u001b[0;34m\"screen_name\"\u001b[0m\u001b[0;34m)\u001b[0m\u001b[0;34m.\u001b[0m\u001b[0magg\u001b[0m\u001b[0;34m(\u001b[0m\u001b[0mcountDistinct\u001b[0m\u001b[0;34m(\u001b[0m\u001b[0;34m\"full_text\"\u001b[0m\u001b[0;34m)\u001b[0m\u001b[0;34m)\u001b[0m\u001b[0;34m\u001b[0m\u001b[0;34m\u001b[0m\u001b[0m\n\u001b[0m",
      "\u001b[0;32m~/opt/anaconda3/lib/python3.9/site-packages/pyspark/sql/dataframe.py\u001b[0m in \u001b[0;36mgroupBy\u001b[0;34m(self, *cols)\u001b[0m\n\u001b[1;32m   2116\u001b[0m         \u001b[0;34m[\u001b[0m\u001b[0mRow\u001b[0m\u001b[0;34m(\u001b[0m\u001b[0mname\u001b[0m\u001b[0;34m=\u001b[0m\u001b[0;34m'Alice'\u001b[0m\u001b[0;34m,\u001b[0m \u001b[0mage\u001b[0m\u001b[0;34m=\u001b[0m\u001b[0;36m2\u001b[0m\u001b[0;34m,\u001b[0m \u001b[0mcount\u001b[0m\u001b[0;34m=\u001b[0m\u001b[0;36m1\u001b[0m\u001b[0;34m)\u001b[0m\u001b[0;34m,\u001b[0m \u001b[0mRow\u001b[0m\u001b[0;34m(\u001b[0m\u001b[0mname\u001b[0m\u001b[0;34m=\u001b[0m\u001b[0;34m'Bob'\u001b[0m\u001b[0;34m,\u001b[0m \u001b[0mage\u001b[0m\u001b[0;34m=\u001b[0m\u001b[0;36m5\u001b[0m\u001b[0;34m,\u001b[0m \u001b[0mcount\u001b[0m\u001b[0;34m=\u001b[0m\u001b[0;36m1\u001b[0m\u001b[0;34m)\u001b[0m\u001b[0;34m]\u001b[0m\u001b[0;34m\u001b[0m\u001b[0;34m\u001b[0m\u001b[0m\n\u001b[1;32m   2117\u001b[0m         \"\"\"\n\u001b[0;32m-> 2118\u001b[0;31m         \u001b[0mjgd\u001b[0m \u001b[0;34m=\u001b[0m \u001b[0mself\u001b[0m\u001b[0;34m.\u001b[0m\u001b[0m_jdf\u001b[0m\u001b[0;34m.\u001b[0m\u001b[0mgroupBy\u001b[0m\u001b[0;34m(\u001b[0m\u001b[0mself\u001b[0m\u001b[0;34m.\u001b[0m\u001b[0m_jcols\u001b[0m\u001b[0;34m(\u001b[0m\u001b[0;34m*\u001b[0m\u001b[0mcols\u001b[0m\u001b[0;34m)\u001b[0m\u001b[0;34m)\u001b[0m\u001b[0;34m\u001b[0m\u001b[0;34m\u001b[0m\u001b[0m\n\u001b[0m\u001b[1;32m   2119\u001b[0m         \u001b[0;32mfrom\u001b[0m \u001b[0mpyspark\u001b[0m\u001b[0;34m.\u001b[0m\u001b[0msql\u001b[0m\u001b[0;34m.\u001b[0m\u001b[0mgroup\u001b[0m \u001b[0;32mimport\u001b[0m \u001b[0mGroupedData\u001b[0m\u001b[0;34m\u001b[0m\u001b[0;34m\u001b[0m\u001b[0m\n\u001b[1;32m   2120\u001b[0m \u001b[0;34m\u001b[0m\u001b[0m\n",
      "\u001b[0;32m~/opt/anaconda3/lib/python3.9/site-packages/pyspark/sql/dataframe.py\u001b[0m in \u001b[0;36m_jcols\u001b[0;34m(self, *cols)\u001b[0m\n\u001b[1;32m   1752\u001b[0m         \u001b[0;32mif\u001b[0m \u001b[0mlen\u001b[0m\u001b[0;34m(\u001b[0m\u001b[0mcols\u001b[0m\u001b[0;34m)\u001b[0m \u001b[0;34m==\u001b[0m \u001b[0;36m1\u001b[0m \u001b[0;32mand\u001b[0m \u001b[0misinstance\u001b[0m\u001b[0;34m(\u001b[0m\u001b[0mcols\u001b[0m\u001b[0;34m[\u001b[0m\u001b[0;36m0\u001b[0m\u001b[0;34m]\u001b[0m\u001b[0;34m,\u001b[0m \u001b[0mlist\u001b[0m\u001b[0;34m)\u001b[0m\u001b[0;34m:\u001b[0m\u001b[0;34m\u001b[0m\u001b[0;34m\u001b[0m\u001b[0m\n\u001b[1;32m   1753\u001b[0m             \u001b[0mcols\u001b[0m \u001b[0;34m=\u001b[0m \u001b[0mcols\u001b[0m\u001b[0;34m[\u001b[0m\u001b[0;36m0\u001b[0m\u001b[0;34m]\u001b[0m\u001b[0;34m\u001b[0m\u001b[0;34m\u001b[0m\u001b[0m\n\u001b[0;32m-> 1754\u001b[0;31m         \u001b[0;32mreturn\u001b[0m \u001b[0mself\u001b[0m\u001b[0;34m.\u001b[0m\u001b[0m_jseq\u001b[0m\u001b[0;34m(\u001b[0m\u001b[0mcols\u001b[0m\u001b[0;34m,\u001b[0m \u001b[0m_to_java_column\u001b[0m\u001b[0;34m)\u001b[0m\u001b[0;34m\u001b[0m\u001b[0;34m\u001b[0m\u001b[0m\n\u001b[0m\u001b[1;32m   1755\u001b[0m \u001b[0;34m\u001b[0m\u001b[0m\n\u001b[1;32m   1756\u001b[0m     def _sort_cols(\n",
      "\u001b[0;32m~/opt/anaconda3/lib/python3.9/site-packages/pyspark/sql/dataframe.py\u001b[0m in \u001b[0;36m_jseq\u001b[0;34m(self, cols, converter)\u001b[0m\n\u001b[1;32m   1739\u001b[0m     ) -> JavaObject:\n\u001b[1;32m   1740\u001b[0m         \u001b[0;34m\"\"\"Return a JVM Seq of Columns from a list of Column or names\"\"\"\u001b[0m\u001b[0;34m\u001b[0m\u001b[0;34m\u001b[0m\u001b[0m\n\u001b[0;32m-> 1741\u001b[0;31m         \u001b[0;32mreturn\u001b[0m \u001b[0m_to_seq\u001b[0m\u001b[0;34m(\u001b[0m\u001b[0mself\u001b[0m\u001b[0;34m.\u001b[0m\u001b[0msparkSession\u001b[0m\u001b[0;34m.\u001b[0m\u001b[0m_sc\u001b[0m\u001b[0;34m,\u001b[0m \u001b[0mcols\u001b[0m\u001b[0;34m,\u001b[0m \u001b[0mconverter\u001b[0m\u001b[0;34m)\u001b[0m\u001b[0;34m\u001b[0m\u001b[0;34m\u001b[0m\u001b[0m\n\u001b[0m\u001b[1;32m   1742\u001b[0m \u001b[0;34m\u001b[0m\u001b[0m\n\u001b[1;32m   1743\u001b[0m     \u001b[0;32mdef\u001b[0m \u001b[0m_jmap\u001b[0m\u001b[0;34m(\u001b[0m\u001b[0mself\u001b[0m\u001b[0;34m,\u001b[0m \u001b[0mjm\u001b[0m\u001b[0;34m:\u001b[0m \u001b[0mDict\u001b[0m\u001b[0;34m)\u001b[0m \u001b[0;34m->\u001b[0m \u001b[0mJavaObject\u001b[0m\u001b[0;34m:\u001b[0m\u001b[0;34m\u001b[0m\u001b[0;34m\u001b[0m\u001b[0m\n",
      "\u001b[0;32m~/opt/anaconda3/lib/python3.9/site-packages/pyspark/sql/column.py\u001b[0m in \u001b[0;36m_to_seq\u001b[0;34m(sc, cols, converter)\u001b[0m\n\u001b[1;32m     84\u001b[0m     \"\"\"\n\u001b[1;32m     85\u001b[0m     \u001b[0;32mif\u001b[0m \u001b[0mconverter\u001b[0m\u001b[0;34m:\u001b[0m\u001b[0;34m\u001b[0m\u001b[0;34m\u001b[0m\u001b[0m\n\u001b[0;32m---> 86\u001b[0;31m         \u001b[0mcols\u001b[0m \u001b[0;34m=\u001b[0m \u001b[0;34m[\u001b[0m\u001b[0mconverter\u001b[0m\u001b[0;34m(\u001b[0m\u001b[0mc\u001b[0m\u001b[0;34m)\u001b[0m \u001b[0;32mfor\u001b[0m \u001b[0mc\u001b[0m \u001b[0;32min\u001b[0m \u001b[0mcols\u001b[0m\u001b[0;34m]\u001b[0m\u001b[0;34m\u001b[0m\u001b[0;34m\u001b[0m\u001b[0m\n\u001b[0m\u001b[1;32m     87\u001b[0m     \u001b[0;32massert\u001b[0m \u001b[0msc\u001b[0m\u001b[0;34m.\u001b[0m\u001b[0m_jvm\u001b[0m \u001b[0;32mis\u001b[0m \u001b[0;32mnot\u001b[0m \u001b[0;32mNone\u001b[0m\u001b[0;34m\u001b[0m\u001b[0;34m\u001b[0m\u001b[0m\n\u001b[1;32m     88\u001b[0m     \u001b[0;32mreturn\u001b[0m \u001b[0msc\u001b[0m\u001b[0;34m.\u001b[0m\u001b[0m_jvm\u001b[0m\u001b[0;34m.\u001b[0m\u001b[0mPythonUtils\u001b[0m\u001b[0;34m.\u001b[0m\u001b[0mtoSeq\u001b[0m\u001b[0;34m(\u001b[0m\u001b[0mcols\u001b[0m\u001b[0;34m)\u001b[0m\u001b[0;34m\u001b[0m\u001b[0;34m\u001b[0m\u001b[0m\n",
      "\u001b[0;32m~/opt/anaconda3/lib/python3.9/site-packages/pyspark/sql/column.py\u001b[0m in \u001b[0;36m<listcomp>\u001b[0;34m(.0)\u001b[0m\n\u001b[1;32m     84\u001b[0m     \"\"\"\n\u001b[1;32m     85\u001b[0m     \u001b[0;32mif\u001b[0m \u001b[0mconverter\u001b[0m\u001b[0;34m:\u001b[0m\u001b[0;34m\u001b[0m\u001b[0;34m\u001b[0m\u001b[0m\n\u001b[0;32m---> 86\u001b[0;31m         \u001b[0mcols\u001b[0m \u001b[0;34m=\u001b[0m \u001b[0;34m[\u001b[0m\u001b[0mconverter\u001b[0m\u001b[0;34m(\u001b[0m\u001b[0mc\u001b[0m\u001b[0;34m)\u001b[0m \u001b[0;32mfor\u001b[0m \u001b[0mc\u001b[0m \u001b[0;32min\u001b[0m \u001b[0mcols\u001b[0m\u001b[0;34m]\u001b[0m\u001b[0;34m\u001b[0m\u001b[0;34m\u001b[0m\u001b[0m\n\u001b[0m\u001b[1;32m     87\u001b[0m     \u001b[0;32massert\u001b[0m \u001b[0msc\u001b[0m\u001b[0;34m.\u001b[0m\u001b[0m_jvm\u001b[0m \u001b[0;32mis\u001b[0m \u001b[0;32mnot\u001b[0m \u001b[0;32mNone\u001b[0m\u001b[0;34m\u001b[0m\u001b[0;34m\u001b[0m\u001b[0m\n\u001b[1;32m     88\u001b[0m     \u001b[0;32mreturn\u001b[0m \u001b[0msc\u001b[0m\u001b[0;34m.\u001b[0m\u001b[0m_jvm\u001b[0m\u001b[0;34m.\u001b[0m\u001b[0mPythonUtils\u001b[0m\u001b[0;34m.\u001b[0m\u001b[0mtoSeq\u001b[0m\u001b[0;34m(\u001b[0m\u001b[0mcols\u001b[0m\u001b[0;34m)\u001b[0m\u001b[0;34m\u001b[0m\u001b[0;34m\u001b[0m\u001b[0m\n",
      "\u001b[0;32m~/opt/anaconda3/lib/python3.9/site-packages/pyspark/sql/column.py\u001b[0m in \u001b[0;36m_to_java_column\u001b[0;34m(col)\u001b[0m\n\u001b[1;32m     61\u001b[0m         \u001b[0mjcol\u001b[0m \u001b[0;34m=\u001b[0m \u001b[0mcol\u001b[0m\u001b[0;34m.\u001b[0m\u001b[0m_jc\u001b[0m\u001b[0;34m\u001b[0m\u001b[0;34m\u001b[0m\u001b[0m\n\u001b[1;32m     62\u001b[0m     \u001b[0;32melif\u001b[0m \u001b[0misinstance\u001b[0m\u001b[0;34m(\u001b[0m\u001b[0mcol\u001b[0m\u001b[0;34m,\u001b[0m \u001b[0mstr\u001b[0m\u001b[0;34m)\u001b[0m\u001b[0;34m:\u001b[0m\u001b[0;34m\u001b[0m\u001b[0;34m\u001b[0m\u001b[0m\n\u001b[0;32m---> 63\u001b[0;31m         \u001b[0mjcol\u001b[0m \u001b[0;34m=\u001b[0m \u001b[0m_create_column_from_name\u001b[0m\u001b[0;34m(\u001b[0m\u001b[0mcol\u001b[0m\u001b[0;34m)\u001b[0m\u001b[0;34m\u001b[0m\u001b[0;34m\u001b[0m\u001b[0m\n\u001b[0m\u001b[1;32m     64\u001b[0m     \u001b[0;32melse\u001b[0m\u001b[0;34m:\u001b[0m\u001b[0;34m\u001b[0m\u001b[0;34m\u001b[0m\u001b[0m\n\u001b[1;32m     65\u001b[0m         raise TypeError(\n",
      "\u001b[0;32m~/opt/anaconda3/lib/python3.9/site-packages/pyspark/sql/column.py\u001b[0m in \u001b[0;36m_create_column_from_name\u001b[0;34m(name)\u001b[0m\n\u001b[1;32m     54\u001b[0m     \u001b[0msc\u001b[0m \u001b[0;34m=\u001b[0m \u001b[0mSparkContext\u001b[0m\u001b[0;34m.\u001b[0m\u001b[0m_active_spark_context\u001b[0m\u001b[0;34m\u001b[0m\u001b[0;34m\u001b[0m\u001b[0m\n\u001b[1;32m     55\u001b[0m     \u001b[0;32massert\u001b[0m \u001b[0msc\u001b[0m \u001b[0;32mis\u001b[0m \u001b[0;32mnot\u001b[0m \u001b[0;32mNone\u001b[0m \u001b[0;32mand\u001b[0m \u001b[0msc\u001b[0m\u001b[0;34m.\u001b[0m\u001b[0m_jvm\u001b[0m \u001b[0;32mis\u001b[0m \u001b[0;32mnot\u001b[0m \u001b[0;32mNone\u001b[0m\u001b[0;34m\u001b[0m\u001b[0;34m\u001b[0m\u001b[0m\n\u001b[0;32m---> 56\u001b[0;31m     \u001b[0;32mreturn\u001b[0m \u001b[0msc\u001b[0m\u001b[0;34m.\u001b[0m\u001b[0m_jvm\u001b[0m\u001b[0;34m.\u001b[0m\u001b[0mfunctions\u001b[0m\u001b[0;34m.\u001b[0m\u001b[0mcol\u001b[0m\u001b[0;34m(\u001b[0m\u001b[0mname\u001b[0m\u001b[0;34m)\u001b[0m\u001b[0;34m\u001b[0m\u001b[0;34m\u001b[0m\u001b[0m\n\u001b[0m\u001b[1;32m     57\u001b[0m \u001b[0;34m\u001b[0m\u001b[0m\n\u001b[1;32m     58\u001b[0m \u001b[0;34m\u001b[0m\u001b[0m\n",
      "\u001b[0;32m~/opt/anaconda3/lib/python3.9/site-packages/py4j/java_gateway.py\u001b[0m in \u001b[0;36m__getattr__\u001b[0;34m(self, name)\u001b[0m\n\u001b[1;32m   1707\u001b[0m             \u001b[0;32mreturn\u001b[0m \u001b[0mUserHelpAutoCompletion\u001b[0m\u001b[0;34m(\u001b[0m\u001b[0;34m)\u001b[0m\u001b[0;34m\u001b[0m\u001b[0;34m\u001b[0m\u001b[0m\n\u001b[1;32m   1708\u001b[0m \u001b[0;34m\u001b[0m\u001b[0m\n\u001b[0;32m-> 1709\u001b[0;31m         answer = self._gateway_client.send_command(\n\u001b[0m\u001b[1;32m   1710\u001b[0m             \u001b[0mproto\u001b[0m\u001b[0;34m.\u001b[0m\u001b[0mREFLECTION_COMMAND_NAME\u001b[0m \u001b[0;34m+\u001b[0m\u001b[0;34m\u001b[0m\u001b[0;34m\u001b[0m\u001b[0m\n\u001b[1;32m   1711\u001b[0m             \u001b[0mproto\u001b[0m\u001b[0;34m.\u001b[0m\u001b[0mREFL_GET_UNKNOWN_SUB_COMMAND_NAME\u001b[0m \u001b[0;34m+\u001b[0m \u001b[0mname\u001b[0m \u001b[0;34m+\u001b[0m \u001b[0;34m\"\\n\"\u001b[0m \u001b[0;34m+\u001b[0m \u001b[0mself\u001b[0m\u001b[0;34m.\u001b[0m\u001b[0m_id\u001b[0m \u001b[0;34m+\u001b[0m\u001b[0;34m\u001b[0m\u001b[0;34m\u001b[0m\u001b[0m\n",
      "\u001b[0;32m~/opt/anaconda3/lib/python3.9/site-packages/py4j/java_gateway.py\u001b[0m in \u001b[0;36msend_command\u001b[0;34m(self, command, retry, binary)\u001b[0m\n\u001b[1;32m   1034\u001b[0m          \u001b[0;32mif\u001b[0m\u001b[0;31m \u001b[0m\u001b[0;31m`\u001b[0m\u001b[0mbinary\u001b[0m\u001b[0;31m`\u001b[0m \u001b[0;32mis\u001b[0m\u001b[0;31m \u001b[0m\u001b[0;31m`\u001b[0m\u001b[0;32mTrue\u001b[0m\u001b[0;31m`\u001b[0m\u001b[0;34m.\u001b[0m\u001b[0;34m\u001b[0m\u001b[0;34m\u001b[0m\u001b[0m\n\u001b[1;32m   1035\u001b[0m         \"\"\"\n\u001b[0;32m-> 1036\u001b[0;31m         \u001b[0mconnection\u001b[0m \u001b[0;34m=\u001b[0m \u001b[0mself\u001b[0m\u001b[0;34m.\u001b[0m\u001b[0m_get_connection\u001b[0m\u001b[0;34m(\u001b[0m\u001b[0;34m)\u001b[0m\u001b[0;34m\u001b[0m\u001b[0;34m\u001b[0m\u001b[0m\n\u001b[0m\u001b[1;32m   1037\u001b[0m         \u001b[0;32mtry\u001b[0m\u001b[0;34m:\u001b[0m\u001b[0;34m\u001b[0m\u001b[0;34m\u001b[0m\u001b[0m\n\u001b[1;32m   1038\u001b[0m             \u001b[0mresponse\u001b[0m \u001b[0;34m=\u001b[0m \u001b[0mconnection\u001b[0m\u001b[0;34m.\u001b[0m\u001b[0msend_command\u001b[0m\u001b[0;34m(\u001b[0m\u001b[0mcommand\u001b[0m\u001b[0;34m)\u001b[0m\u001b[0;34m\u001b[0m\u001b[0;34m\u001b[0m\u001b[0m\n",
      "\u001b[0;32m~/opt/anaconda3/lib/python3.9/site-packages/py4j/clientserver.py\u001b[0m in \u001b[0;36m_get_connection\u001b[0;34m(self)\u001b[0m\n\u001b[1;32m    282\u001b[0m \u001b[0;34m\u001b[0m\u001b[0m\n\u001b[1;32m    283\u001b[0m         \u001b[0;32mif\u001b[0m \u001b[0mconnection\u001b[0m \u001b[0;32mis\u001b[0m \u001b[0;32mNone\u001b[0m \u001b[0;32mor\u001b[0m \u001b[0mconnection\u001b[0m\u001b[0;34m.\u001b[0m\u001b[0msocket\u001b[0m \u001b[0;32mis\u001b[0m \u001b[0;32mNone\u001b[0m\u001b[0;34m:\u001b[0m\u001b[0;34m\u001b[0m\u001b[0;34m\u001b[0m\u001b[0m\n\u001b[0;32m--> 284\u001b[0;31m             \u001b[0mconnection\u001b[0m \u001b[0;34m=\u001b[0m \u001b[0mself\u001b[0m\u001b[0;34m.\u001b[0m\u001b[0m_create_new_connection\u001b[0m\u001b[0;34m(\u001b[0m\u001b[0;34m)\u001b[0m\u001b[0;34m\u001b[0m\u001b[0;34m\u001b[0m\u001b[0m\n\u001b[0m\u001b[1;32m    285\u001b[0m         \u001b[0;32mreturn\u001b[0m \u001b[0mconnection\u001b[0m\u001b[0;34m\u001b[0m\u001b[0;34m\u001b[0m\u001b[0m\n\u001b[1;32m    286\u001b[0m \u001b[0;34m\u001b[0m\u001b[0m\n",
      "\u001b[0;32m~/opt/anaconda3/lib/python3.9/site-packages/py4j/clientserver.py\u001b[0m in \u001b[0;36m_create_new_connection\u001b[0;34m(self)\u001b[0m\n\u001b[1;32m    289\u001b[0m             \u001b[0mself\u001b[0m\u001b[0;34m.\u001b[0m\u001b[0mjava_parameters\u001b[0m\u001b[0;34m,\u001b[0m \u001b[0mself\u001b[0m\u001b[0;34m.\u001b[0m\u001b[0mpython_parameters\u001b[0m\u001b[0;34m,\u001b[0m\u001b[0;34m\u001b[0m\u001b[0;34m\u001b[0m\u001b[0m\n\u001b[1;32m    290\u001b[0m             self.gateway_property, self)\n\u001b[0;32m--> 291\u001b[0;31m         \u001b[0mconnection\u001b[0m\u001b[0;34m.\u001b[0m\u001b[0mconnect_to_java_server\u001b[0m\u001b[0;34m(\u001b[0m\u001b[0;34m)\u001b[0m\u001b[0;34m\u001b[0m\u001b[0;34m\u001b[0m\u001b[0m\n\u001b[0m\u001b[1;32m    292\u001b[0m         \u001b[0mself\u001b[0m\u001b[0;34m.\u001b[0m\u001b[0mset_thread_connection\u001b[0m\u001b[0;34m(\u001b[0m\u001b[0mconnection\u001b[0m\u001b[0;34m)\u001b[0m\u001b[0;34m\u001b[0m\u001b[0;34m\u001b[0m\u001b[0m\n\u001b[1;32m    293\u001b[0m         \u001b[0;32mreturn\u001b[0m \u001b[0mconnection\u001b[0m\u001b[0;34m\u001b[0m\u001b[0;34m\u001b[0m\u001b[0m\n",
      "\u001b[0;32m~/opt/anaconda3/lib/python3.9/site-packages/py4j/clientserver.py\u001b[0m in \u001b[0;36mconnect_to_java_server\u001b[0;34m(self)\u001b[0m\n\u001b[1;32m    436\u001b[0m                 self.socket = self.ssl_context.wrap_socket(\n\u001b[1;32m    437\u001b[0m                     self.socket, server_hostname=self.java_address)\n\u001b[0;32m--> 438\u001b[0;31m             \u001b[0mself\u001b[0m\u001b[0;34m.\u001b[0m\u001b[0msocket\u001b[0m\u001b[0;34m.\u001b[0m\u001b[0mconnect\u001b[0m\u001b[0;34m(\u001b[0m\u001b[0;34m(\u001b[0m\u001b[0mself\u001b[0m\u001b[0;34m.\u001b[0m\u001b[0mjava_address\u001b[0m\u001b[0;34m,\u001b[0m \u001b[0mself\u001b[0m\u001b[0;34m.\u001b[0m\u001b[0mjava_port\u001b[0m\u001b[0;34m)\u001b[0m\u001b[0;34m)\u001b[0m\u001b[0;34m\u001b[0m\u001b[0;34m\u001b[0m\u001b[0m\n\u001b[0m\u001b[1;32m    439\u001b[0m             \u001b[0mself\u001b[0m\u001b[0;34m.\u001b[0m\u001b[0mstream\u001b[0m \u001b[0;34m=\u001b[0m \u001b[0mself\u001b[0m\u001b[0;34m.\u001b[0m\u001b[0msocket\u001b[0m\u001b[0;34m.\u001b[0m\u001b[0mmakefile\u001b[0m\u001b[0;34m(\u001b[0m\u001b[0;34m\"rb\"\u001b[0m\u001b[0;34m)\u001b[0m\u001b[0;34m\u001b[0m\u001b[0;34m\u001b[0m\u001b[0m\n\u001b[1;32m    440\u001b[0m             \u001b[0mself\u001b[0m\u001b[0;34m.\u001b[0m\u001b[0mis_connected\u001b[0m \u001b[0;34m=\u001b[0m \u001b[0;32mTrue\u001b[0m\u001b[0;34m\u001b[0m\u001b[0;34m\u001b[0m\u001b[0m\n",
      "\u001b[0;31mConnectionRefusedError\u001b[0m: [Errno 61] Connection refused"
     ]
    }
   ],
   "source": [
    "biggest_users = df.groupBy(\"screen_name\").agg(countDistinct(\"full_text\"))"
   ]
  },
  {
   "cell_type": "code",
   "execution_count": 34,
   "id": "d63064f6",
   "metadata": {},
   "outputs": [
    {
     "name": "stderr",
     "output_type": "stream",
     "text": [
      "[Stage 86:======>                                                (23 + 8) / 200]\r"
     ]
    },
    {
     "name": "stdout",
     "output_type": "stream",
     "text": [
      "[460.419s][warning][gc,alloc] Executor task launch worker for task 35.0 in stage 86.0 (TID 9347): Retried waiting for GCLocker too often allocating 13700 words\n",
      "[460.419s][warning][gc,alloc] Executor task launch worker for task 32.0 in stage 86.0 (TID 9344): Retried waiting for GCLocker too often allocating 31799 words\n"
     ]
    },
    {
     "name": "stderr",
     "output_type": "stream",
     "text": [
      "[Stage 86:==========>                                            (38 + 8) / 200]\r"
     ]
    },
    {
     "name": "stdout",
     "output_type": "stream",
     "text": [
      "22/11/21 17:01:10 WARN MemoryStore: Not enough space to cache rdd_21_49 in memory! (computed 3.9 MiB so far)\n",
      "22/11/21 17:01:10 WARN MemoryStore: Not enough space to cache rdd_21_50 in memory! (computed 3.9 MiB so far)\n",
      "22/11/21 17:01:10 WARN MemoryStore: Not enough space to cache rdd_21_51 in memory! (computed 3.9 MiB so far)\n",
      "22/11/21 17:01:10 WARN MemoryStore: Not enough space to cache rdd_21_54 in memory! (computed 3.9 MiB so far)\n",
      "22/11/21 17:01:10 WARN MemoryStore: Not enough space to cache rdd_21_55 in memory! (computed 3.9 MiB so far)\n"
     ]
    },
    {
     "name": "stderr",
     "output_type": "stream",
     "text": [
      "[Stage 86:=============>                                         (48 + 9) / 200]\r"
     ]
    },
    {
     "name": "stdout",
     "output_type": "stream",
     "text": [
      "22/11/21 17:01:10 WARN MemoryStore: Not enough space to cache rdd_21_56 in memory! (computed 3.9 MiB so far)\n",
      "22/11/21 17:01:10 WARN MemoryStore: Not enough space to cache rdd_21_52 in memory! (computed 3.9 MiB so far)\n",
      "22/11/21 17:01:10 WARN MemoryStore: Not enough space to cache rdd_21_58 in memory! (computed 3.9 MiB so far)\n",
      "22/11/21 17:01:11 WARN MemoryStore: Not enough space to cache rdd_21_61 in memory! (computed 3.9 MiB so far)\n",
      "22/11/21 17:01:11 WARN MemoryStore: Not enough space to cache rdd_21_63 in memory! (computed 3.9 MiB so far)\n",
      "22/11/21 17:01:11 WARN MemoryStore: Not enough space to cache rdd_21_64 in memory! (computed 3.9 MiB so far)\n",
      "22/11/21 17:01:11 WARN MemoryStore: Not enough space to cache rdd_21_62 in memory! (computed 3.9 MiB so far)\n",
      "22/11/21 17:01:11 WARN MemoryStore: Not enough space to cache rdd_21_65 in memory! (computed 3.9 MiB so far)\n"
     ]
    },
    {
     "name": "stderr",
     "output_type": "stream",
     "text": [
      "[Stage 86:================>                                      (59 + 8) / 200]\r"
     ]
    },
    {
     "name": "stdout",
     "output_type": "stream",
     "text": [
      "22/11/21 17:01:11 WARN MemoryStore: Not enough space to cache rdd_21_67 in memory! (computed 3.9 MiB so far)\n",
      "22/11/21 17:01:11 WARN MemoryStore: Not enough space to cache rdd_21_68 in memory! (computed 3.9 MiB so far)\n",
      "22/11/21 17:01:11 WARN MemoryStore: Not enough space to cache rdd_21_70 in memory! (computed 3.9 MiB so far)\n"
     ]
    },
    {
     "name": "stderr",
     "output_type": "stream",
     "text": [
      "[Stage 86:=================>                                     (64 + 8) / 200]\r"
     ]
    },
    {
     "name": "stdout",
     "output_type": "stream",
     "text": [
      "22/11/21 17:01:11 WARN MemoryStore: Not enough space to cache rdd_21_72 in memory! (computed 3.9 MiB so far)\n",
      "22/11/21 17:01:11 WARN MemoryStore: Not enough space to cache rdd_21_74 in memory! (computed 3.9 MiB so far)\n",
      "22/11/21 17:01:11 WARN MemoryStore: Not enough space to cache rdd_21_75 in memory! (computed 3.9 MiB so far)\n",
      "22/11/21 17:01:11 WARN MemoryStore: Not enough space to cache rdd_21_77 in memory! (computed 3.9 MiB so far)\n",
      "22/11/21 17:01:11 WARN MemoryStore: Not enough space to cache rdd_21_76 in memory! (computed 3.9 MiB so far)\n",
      "22/11/21 17:01:11 WARN MemoryStore: Not enough space to cache rdd_21_78 in memory! (computed 3.9 MiB so far)\n",
      "22/11/21 17:01:11 WARN MemoryStore: Failed to reserve initial memory threshold of 1024.0 KiB for computing block rdd_21_83 in memory.\n",
      "22/11/21 17:01:11 WARN MemoryStore: Not enough space to cache rdd_21_83 in memory! (computed 384.0 B so far)\n",
      "22/11/21 17:01:11 WARN MemoryStore: Not enough space to cache rdd_21_82 in memory! (computed 3.9 MiB so far)\n"
     ]
    },
    {
     "name": "stderr",
     "output_type": "stream",
     "text": [
      "[Stage 86:====================>                                  (76 + 8) / 200]\r"
     ]
    },
    {
     "name": "stdout",
     "output_type": "stream",
     "text": [
      "22/11/21 17:01:11 WARN MemoryStore: Failed to reserve initial memory threshold of 1024.0 KiB for computing block rdd_21_88 in memory.\n",
      "22/11/21 17:01:11 WARN MemoryStore: Failed to reserve initial memory threshold of 1024.0 KiB for computing block rdd_21_86 in memory.\n",
      "22/11/21 17:01:11 WARN MemoryStore: Failed to reserve initial memory threshold of 1024.0 KiB for computing block rdd_21_87 in memory.\n",
      "22/11/21 17:01:11 WARN MemoryStore: Not enough space to cache rdd_21_87 in memory! (computed 384.0 B so far)\n",
      "22/11/21 17:01:11 WARN MemoryStore: Not enough space to cache rdd_21_88 in memory! (computed 384.0 B so far)\n",
      "22/11/21 17:01:11 WARN MemoryStore: Not enough space to cache rdd_21_86 in memory! (computed 384.0 B so far)\n",
      "22/11/21 17:01:11 WARN MemoryStore: Failed to reserve initial memory threshold of 1024.0 KiB for computing block rdd_21_89 in memory.\n",
      "22/11/21 17:01:11 WARN MemoryStore: Not enough space to cache rdd_21_89 in memory! (computed 384.0 B so far)\n",
      "22/11/21 17:01:11 WARN MemoryStore: Failed to reserve initial memory threshold of 1024.0 KiB for computing block rdd_21_91 in memory.\n",
      "22/11/21 17:01:11 WARN MemoryStore: Not enough space to cache rdd_21_90 in memory! (computed 3.9 MiB so far)\n",
      "22/11/21 17:01:11 WARN MemoryStore: Not enough space to cache rdd_21_91 in memory! (computed 384.0 B so far)\n"
     ]
    },
    {
     "name": "stderr",
     "output_type": "stream",
     "text": [
      "[Stage 86:=======================>                               (85 + 8) / 200]\r"
     ]
    },
    {
     "name": "stdout",
     "output_type": "stream",
     "text": [
      "22/11/21 17:01:11 WARN MemoryStore: Not enough space to cache rdd_21_94 in memory! (computed 3.9 MiB so far)\n",
      "22/11/21 17:01:11 WARN MemoryStore: Not enough space to cache rdd_21_95 in memory! (computed 3.9 MiB so far)\n",
      "22/11/21 17:01:11 WARN MemoryStore: Not enough space to cache rdd_21_97 in memory! (computed 3.9 MiB so far)\n",
      "22/11/21 17:01:11 WARN MemoryStore: Not enough space to cache rdd_21_98 in memory! (computed 3.9 MiB so far)\n",
      "22/11/21 17:01:11 WARN MemoryStore: Not enough space to cache rdd_21_96 in memory! (computed 3.9 MiB so far)\n",
      "22/11/21 17:01:12 WARN MemoryStore: Not enough space to cache rdd_21_101 in memory! (computed 3.9 MiB so far)\n",
      "22/11/21 17:01:12 WARN MemoryStore: Not enough space to cache rdd_21_102 in memory! (computed 3.9 MiB so far)\n",
      "22/11/21 17:01:12 WARN MemoryStore: Not enough space to cache rdd_21_99 in memory! (computed 3.9 MiB so far)\n",
      "22/11/21 17:01:12 WARN MemoryStore: Not enough space to cache rdd_21_100 in memory! (computed 3.9 MiB so far)\n"
     ]
    },
    {
     "name": "stderr",
     "output_type": "stream",
     "text": [
      "[Stage 86:========================>                              (90 + 8) / 200]\r"
     ]
    },
    {
     "name": "stdout",
     "output_type": "stream",
     "text": [
      "22/11/21 17:01:12 WARN MemoryStore: Failed to reserve initial memory threshold of 1024.0 KiB for computing block rdd_21_107 in memory.\n",
      "22/11/21 17:01:12 WARN MemoryStore: Not enough space to cache rdd_21_106 in memory! (computed 3.9 MiB so far)\n",
      "22/11/21 17:01:12 WARN MemoryStore: Not enough space to cache rdd_21_107 in memory! (computed 384.0 B so far)\n",
      "22/11/21 17:01:12 WARN MemoryStore: Not enough space to cache rdd_21_109 in memory! (computed 3.9 MiB so far)\n",
      "22/11/21 17:01:12 WARN MemoryStore: Not enough space to cache rdd_21_108 in memory! (computed 3.9 MiB so far)\n",
      "22/11/21 17:01:12 WARN MemoryStore: Failed to reserve initial memory threshold of 1024.0 KiB for computing block rdd_21_110 in memory.\n",
      "22/11/21 17:01:12 WARN MemoryStore: Not enough space to cache rdd_21_113 in memory! (computed 3.9 MiB so far)\n",
      "22/11/21 17:01:12 WARN MemoryStore: Not enough space to cache rdd_21_111 in memory! (computed 3.9 MiB so far)\n",
      "22/11/21 17:01:12 WARN MemoryStore: Not enough space to cache rdd_21_112 in memory! (computed 3.9 MiB so far)\n",
      "[462.351s][warning][gc,alloc] Executor task launch worker for task 113.0 in stage 86.0 (TID 9425): Retried waiting for GCLocker too often allocating 4098 words\n",
      "[462.351s][warning][gc,alloc] Executor task launch worker for task 111.0 in stage 86.0 (TID 9423): Retried waiting for GCLocker too often allocating 4098 words\n",
      "[462.351s][warning][gc,alloc] Executor task launch worker for task 108.0 in stage 86.0 (TID 9420): Retried waiting for GCLocker too often allocating 4119 words\n",
      "[462.351s][warning][gc,alloc] Executor task launch worker for task 109.0 in stage 86.0 (TID 9421): Retried waiting for GCLocker too often allocating 256 words\n",
      "[462.355s][warning][gc,alloc] Executor task launch worker for task 106.0 in stage 86.0 (TID 9418): Retried waiting for GCLocker too often allocating 28871 words\n"
     ]
    },
    {
     "name": "stderr",
     "output_type": "stream",
     "text": [
      "[Stage 86:===========================>                          (102 + 8) / 200]\r"
     ]
    },
    {
     "name": "stdout",
     "output_type": "stream",
     "text": [
      "22/11/21 17:01:12 WARN MemoryStore: Not enough space to cache rdd_21_110 in memory! (computed 384.0 B so far)\n",
      "22/11/21 17:01:12 ERROR Executor: Exception in task 111.0 in stage 86.0 (TID 9423)\n",
      "java.lang.OutOfMemoryError: Java heap space\n",
      "22/11/21 17:01:12 ERROR Executor: Exception in task 108.0 in stage 86.0 (TID 9420)\n",
      "java.lang.OutOfMemoryError: Java heap space\n",
      "22/11/21 17:01:12 ERROR Executor: Exception in task 113.0 in stage 86.0 (TID 9425)\n",
      "java.lang.OutOfMemoryError: Java heap space\n",
      "\tat net.jpountz.lz4.LZ4BlockOutputStream.<init>(LZ4BlockOutputStream.java:102)\n",
      "\tat org.apache.spark.io.LZ4CompressionCodec.compressedOutputStream(CompressionCodec.scala:144)\n",
      "\tat org.apache.spark.serializer.SerializerManager.wrapForCompression(SerializerManager.scala:159)\n",
      "\tat org.apache.spark.serializer.SerializerManager.wrapStream(SerializerManager.scala:134)\n",
      "\tat org.apache.spark.storage.DiskBlockObjectWriter.open(DiskBlockObjectWriter.scala:163)\n",
      "\tat org.apache.spark.storage.DiskBlockObjectWriter.write(DiskBlockObjectWriter.scala:306)\n",
      "\tat org.apache.spark.shuffle.sort.BypassMergeSortShuffleWriter.write(BypassMergeSortShuffleWriter.java:171)\n",
      "\tat org.apache.spark.shuffle.ShuffleWriteProcessor.write(ShuffleWriteProcessor.scala:59)\n",
      "\tat org.apache.spark.scheduler.ShuffleMapTask.runTask(ShuffleMapTask.scala:99)\n",
      "\tat org.apache.spark.scheduler.ShuffleMapTask.runTask(ShuffleMapTask.scala:52)\n",
      "\tat org.apache.spark.scheduler.Task.run(Task.scala:136)\n",
      "\tat org.apache.spark.executor.Executor$TaskRunner.$anonfun$run$3(Executor.scala:548)\n",
      "\tat org.apache.spark.executor.Executor$TaskRunner$$Lambda$1518/0x00000008014cb128.apply(Unknown Source)\n",
      "\tat org.apache.spark.util.Utils$.tryWithSafeFinally(Utils.scala:1504)\n",
      "\tat org.apache.spark.executor.Executor$TaskRunner.run(Executor.scala:551)\n",
      "\tat java.base/java.util.concurrent.ThreadPoolExecutor.runWorker(ThreadPoolExecutor.java:1136)\n",
      "\tat java.base/java.util.concurrent.ThreadPoolExecutor$Worker.run(ThreadPoolExecutor.java:635)\n",
      "\tat java.base/java.lang.Thread.run(Thread.java:833)\n",
      "22/11/21 17:01:12 ERROR SparkUncaughtExceptionHandler: Uncaught exception in thread Thread[Executor task launch worker for task 113.0 in stage 86.0 (TID 9425),5,main]\n",
      "java.lang.OutOfMemoryError: Java heap space\n",
      "\tat net.jpountz.lz4.LZ4BlockOutputStream.<init>(LZ4BlockOutputStream.java:102)\n",
      "\tat org.apache.spark.io.LZ4CompressionCodec.compressedOutputStream(CompressionCodec.scala:144)\n",
      "\tat org.apache.spark.serializer.SerializerManager.wrapForCompression(SerializerManager.scala:159)\n",
      "\tat org.apache.spark.serializer.SerializerManager.wrapStream(SerializerManager.scala:134)\n",
      "\tat org.apache.spark.storage.DiskBlockObjectWriter.open(DiskBlockObjectWriter.scala:163)\n",
      "\tat org.apache.spark.storage.DiskBlockObjectWriter.write(DiskBlockObjectWriter.scala:306)\n",
      "\tat org.apache.spark.shuffle.sort.BypassMergeSortShuffleWriter.write(BypassMergeSortShuffleWriter.java:171)\n",
      "\tat org.apache.spark.shuffle.ShuffleWriteProcessor.write(ShuffleWriteProcessor.scala:59)\n",
      "\tat org.apache.spark.scheduler.ShuffleMapTask.runTask(ShuffleMapTask.scala:99)\n",
      "\tat org.apache.spark.scheduler.ShuffleMapTask.runTask(ShuffleMapTask.scala:52)\n",
      "\tat org.apache.spark.scheduler.Task.run(Task.scala:136)\n",
      "\tat org.apache.spark.executor.Executor$TaskRunner.$anonfun$run$3(Executor.scala:548)\n",
      "\tat org.apache.spark.executor.Executor$TaskRunner$$Lambda$1518/0x00000008014cb128.apply(Unknown Source)\n",
      "\tat org.apache.spark.util.Utils$.tryWithSafeFinally(Utils.scala:1504)\n",
      "\tat org.apache.spark.executor.Executor$TaskRunner.run(Executor.scala:551)\n",
      "\tat java.base/java.util.concurrent.ThreadPoolExecutor.runWorker(ThreadPoolExecutor.java:1136)\n",
      "\tat java.base/java.util.concurrent.ThreadPoolExecutor$Worker.run(ThreadPoolExecutor.java:635)\n",
      "\tat java.base/java.lang.Thread.run(Thread.java:833)\n",
      "22/11/21 17:01:12 ERROR SparkUncaughtExceptionHandler: Uncaught exception in thread Thread[Executor task launch worker for task 108.0 in stage 86.0 (TID 9420),5,main]\n",
      "java.lang.OutOfMemoryError: Java heap space\n",
      "22/11/21 17:01:12 ERROR SparkUncaughtExceptionHandler: [Container in shutdown] Uncaught exception in thread Thread[Executor task launch worker for task 111.0 in stage 86.0 (TID 9423),5,main]\n",
      "java.lang.OutOfMemoryError: Java heap space\n",
      "22/11/21 17:01:12 WARN TaskSetManager: Lost task 113.0 in stage 86.0 (TID 9425) (localhost executor driver): java.lang.OutOfMemoryError: Java heap space\n",
      "\tat net.jpountz.lz4.LZ4BlockOutputStream.<init>(LZ4BlockOutputStream.java:102)\n",
      "\tat org.apache.spark.io.LZ4CompressionCodec.compressedOutputStream(CompressionCodec.scala:144)\n",
      "\tat org.apache.spark.serializer.SerializerManager.wrapForCompression(SerializerManager.scala:159)\n",
      "\tat org.apache.spark.serializer.SerializerManager.wrapStream(SerializerManager.scala:134)\n",
      "\tat org.apache.spark.storage.DiskBlockObjectWriter.open(DiskBlockObjectWriter.scala:163)\n",
      "\tat org.apache.spark.storage.DiskBlockObjectWriter.write(DiskBlockObjectWriter.scala:306)\n",
      "\tat org.apache.spark.shuffle.sort.BypassMergeSortShuffleWriter.write(BypassMergeSortShuffleWriter.java:171)\n",
      "\tat org.apache.spark.shuffle.ShuffleWriteProcessor.write(ShuffleWriteProcessor.scala:59)\n",
      "\tat org.apache.spark.scheduler.ShuffleMapTask.runTask(ShuffleMapTask.scala:99)\n",
      "\tat org.apache.spark.scheduler.ShuffleMapTask.runTask(ShuffleMapTask.scala:52)\n",
      "\tat org.apache.spark.scheduler.Task.run(Task.scala:136)\n",
      "\tat org.apache.spark.executor.Executor$TaskRunner.$anonfun$run$3(Executor.scala:548)\n",
      "\tat org.apache.spark.executor.Executor$TaskRunner$$Lambda$1518/0x00000008014cb128.apply(Unknown Source)\n",
      "\tat org.apache.spark.util.Utils$.tryWithSafeFinally(Utils.scala:1504)\n",
      "\tat org.apache.spark.executor.Executor$TaskRunner.run(Executor.scala:551)\n",
      "\tat java.base/java.util.concurrent.ThreadPoolExecutor.runWorker(ThreadPoolExecutor.java:1136)\n",
      "\tat java.base/java.util.concurrent.ThreadPoolExecutor$Worker.run(ThreadPoolExecutor.java:635)\n",
      "\tat java.base/java.lang.Thread.run(Thread.java:833)\n",
      "\n",
      "22/11/21 17:01:12 ERROR TaskSetManager: Task 113 in stage 86.0 failed 1 times; aborting job\n",
      "22/11/21 17:01:12 ERROR TaskSchedulerImpl: Exception in statusUpdate\n",
      "java.util.concurrent.RejectedExecutionException: Task org.apache.spark.scheduler.TaskResultGetter$$Lambda$5061/0x0000000801b6a6e8@248b5266 rejected from java.util.concurrent.ThreadPoolExecutor@2bea0aa5[Terminated, pool size = 0, active threads = 0, queued tasks = 0, completed tasks = 9425]\n",
      "\tat java.base/java.util.concurrent.ThreadPoolExecutor$AbortPolicy.rejectedExecution(ThreadPoolExecutor.java:2065)\n",
      "\tat java.base/java.util.concurrent.ThreadPoolExecutor.reject(ThreadPoolExecutor.java:833)\n",
      "\tat java.base/java.util.concurrent.ThreadPoolExecutor.execute(ThreadPoolExecutor.java:1365)\n",
      "\tat org.apache.spark.scheduler.TaskResultGetter.enqueueFailedTask(TaskResultGetter.scala:137)\n",
      "\tat org.apache.spark.scheduler.TaskSchedulerImpl.liftedTree2$1(TaskSchedulerImpl.scala:821)\n",
      "\tat org.apache.spark.scheduler.TaskSchedulerImpl.statusUpdate(TaskSchedulerImpl.scala:794)\n",
      "\tat org.apache.spark.scheduler.local.LocalEndpoint$$anonfun$receive$1.applyOrElse(LocalSchedulerBackend.scala:71)\n",
      "\tat org.apache.spark.rpc.netty.Inbox.$anonfun$process$1(Inbox.scala:115)\n",
      "\tat org.apache.spark.rpc.netty.Inbox.safelyCall(Inbox.scala:213)\n",
      "\tat org.apache.spark.rpc.netty.Inbox.process(Inbox.scala:100)\n",
      "\tat org.apache.spark.rpc.netty.MessageLoop.org$apache$spark$rpc$netty$MessageLoop$$receiveLoop(MessageLoop.scala:75)\n",
      "\tat org.apache.spark.rpc.netty.MessageLoop$$anon$1.run(MessageLoop.scala:41)\n",
      "\tat java.base/java.util.concurrent.ThreadPoolExecutor.runWorker(ThreadPoolExecutor.java:1136)\n",
      "\tat java.base/java.util.concurrent.ThreadPoolExecutor$Worker.run(ThreadPoolExecutor.java:635)\n",
      "\tat java.base/java.lang.Thread.run(Thread.java:833)\n",
      "22/11/21 17:01:12 WARN MemoryStore: Not enough space to cache rdd_21_115 in memory! (computed 3.9 MiB so far)\n",
      "22/11/21 17:01:12 WARN MemoryStore: Not enough space to cache rdd_21_114 in memory! (computed 3.9 MiB so far)\n"
     ]
    },
    {
     "name": "stderr",
     "output_type": "stream",
     "text": [
      "[Stage 86:============================>                         (106 + 8) / 200]\r"
     ]
    },
    {
     "ename": "Py4JJavaError",
     "evalue": "An error occurred while calling o201.showString.\n: org.apache.spark.SparkException: Job aborted due to stage failure: Task 113 in stage 86.0 failed 1 times, most recent failure: Lost task 113.0 in stage 86.0 (TID 9425) (localhost executor driver): java.lang.OutOfMemoryError: Java heap space\n\tat net.jpountz.lz4.LZ4BlockOutputStream.<init>(LZ4BlockOutputStream.java:102)\n\tat org.apache.spark.io.LZ4CompressionCodec.compressedOutputStream(CompressionCodec.scala:144)\n\tat org.apache.spark.serializer.SerializerManager.wrapForCompression(SerializerManager.scala:159)\n\tat org.apache.spark.serializer.SerializerManager.wrapStream(SerializerManager.scala:134)\n\tat org.apache.spark.storage.DiskBlockObjectWriter.open(DiskBlockObjectWriter.scala:163)\n\tat org.apache.spark.storage.DiskBlockObjectWriter.write(DiskBlockObjectWriter.scala:306)\n\tat org.apache.spark.shuffle.sort.BypassMergeSortShuffleWriter.write(BypassMergeSortShuffleWriter.java:171)\n\tat org.apache.spark.shuffle.ShuffleWriteProcessor.write(ShuffleWriteProcessor.scala:59)\n\tat org.apache.spark.scheduler.ShuffleMapTask.runTask(ShuffleMapTask.scala:99)\n\tat org.apache.spark.scheduler.ShuffleMapTask.runTask(ShuffleMapTask.scala:52)\n\tat org.apache.spark.scheduler.Task.run(Task.scala:136)\n\tat org.apache.spark.executor.Executor$TaskRunner.$anonfun$run$3(Executor.scala:548)\n\tat org.apache.spark.executor.Executor$TaskRunner$$Lambda$1518/0x00000008014cb128.apply(Unknown Source)\n\tat org.apache.spark.util.Utils$.tryWithSafeFinally(Utils.scala:1504)\n\tat org.apache.spark.executor.Executor$TaskRunner.run(Executor.scala:551)\n\tat java.base/java.util.concurrent.ThreadPoolExecutor.runWorker(ThreadPoolExecutor.java:1136)\n\tat java.base/java.util.concurrent.ThreadPoolExecutor$Worker.run(ThreadPoolExecutor.java:635)\n\tat java.base/java.lang.Thread.run(Thread.java:833)\n\nDriver stacktrace:\n\tat org.apache.spark.scheduler.DAGScheduler.failJobAndIndependentStages(DAGScheduler.scala:2672)\n\tat org.apache.spark.scheduler.DAGScheduler.$anonfun$abortStage$2(DAGScheduler.scala:2608)\n\tat org.apache.spark.scheduler.DAGScheduler.$anonfun$abortStage$2$adapted(DAGScheduler.scala:2607)\n\tat scala.collection.mutable.ResizableArray.foreach(ResizableArray.scala:62)\n\tat scala.collection.mutable.ResizableArray.foreach$(ResizableArray.scala:55)\n\tat scala.collection.mutable.ArrayBuffer.foreach(ArrayBuffer.scala:49)\n\tat org.apache.spark.scheduler.DAGScheduler.abortStage(DAGScheduler.scala:2607)\n\tat org.apache.spark.scheduler.DAGScheduler.$anonfun$handleTaskSetFailed$1(DAGScheduler.scala:1182)\n\tat org.apache.spark.scheduler.DAGScheduler.$anonfun$handleTaskSetFailed$1$adapted(DAGScheduler.scala:1182)\n\tat scala.Option.foreach(Option.scala:407)\n\tat org.apache.spark.scheduler.DAGScheduler.handleTaskSetFailed(DAGScheduler.scala:1182)\n\tat org.apache.spark.scheduler.DAGSchedulerEventProcessLoop.doOnReceive(DAGScheduler.scala:2860)\n\tat org.apache.spark.scheduler.DAGSchedulerEventProcessLoop.onReceive(DAGScheduler.scala:2802)\n\tat org.apache.spark.scheduler.DAGSchedulerEventProcessLoop.onReceive(DAGScheduler.scala:2791)\n\tat org.apache.spark.util.EventLoop$$anon$1.run(EventLoop.scala:49)\nCaused by: java.lang.OutOfMemoryError: Java heap space\n\tat net.jpountz.lz4.LZ4BlockOutputStream.<init>(LZ4BlockOutputStream.java:102)\n\tat org.apache.spark.io.LZ4CompressionCodec.compressedOutputStream(CompressionCodec.scala:144)\n\tat org.apache.spark.serializer.SerializerManager.wrapForCompression(SerializerManager.scala:159)\n\tat org.apache.spark.serializer.SerializerManager.wrapStream(SerializerManager.scala:134)\n\tat org.apache.spark.storage.DiskBlockObjectWriter.open(DiskBlockObjectWriter.scala:163)\n\tat org.apache.spark.storage.DiskBlockObjectWriter.write(DiskBlockObjectWriter.scala:306)\n\tat org.apache.spark.shuffle.sort.BypassMergeSortShuffleWriter.write(BypassMergeSortShuffleWriter.java:171)\n\tat org.apache.spark.shuffle.ShuffleWriteProcessor.write(ShuffleWriteProcessor.scala:59)\n\tat org.apache.spark.scheduler.ShuffleMapTask.runTask(ShuffleMapTask.scala:99)\n\tat org.apache.spark.scheduler.ShuffleMapTask.runTask(ShuffleMapTask.scala:52)\n\tat org.apache.spark.scheduler.Task.run(Task.scala:136)\n\tat org.apache.spark.executor.Executor$TaskRunner.$anonfun$run$3(Executor.scala:548)\n\tat org.apache.spark.executor.Executor$TaskRunner$$Lambda$1518/0x00000008014cb128.apply(Unknown Source)\n\tat org.apache.spark.util.Utils$.tryWithSafeFinally(Utils.scala:1504)\n\tat org.apache.spark.executor.Executor$TaskRunner.run(Executor.scala:551)\n\tat java.base/java.util.concurrent.ThreadPoolExecutor.runWorker(ThreadPoolExecutor.java:1136)\n\tat java.base/java.util.concurrent.ThreadPoolExecutor$Worker.run(ThreadPoolExecutor.java:635)\n\tat java.base/java.lang.Thread.run(Thread.java:833)\n",
     "output_type": "error",
     "traceback": [
      "\u001b[0;31m---------------------------------------------------------------------------\u001b[0m",
      "\u001b[0;31mPy4JJavaError\u001b[0m                             Traceback (most recent call last)",
      "\u001b[0;32m/var/folders/x2/hymzscwj7pg_t42hpfwjm20m0000gn/T/ipykernel_20878/1408532911.py\u001b[0m in \u001b[0;36m<module>\u001b[0;34m\u001b[0m\n\u001b[0;32m----> 1\u001b[0;31m \u001b[0mbiggest_users\u001b[0m\u001b[0;34m.\u001b[0m\u001b[0mshow\u001b[0m\u001b[0;34m(\u001b[0m\u001b[0;34m)\u001b[0m\u001b[0;34m\u001b[0m\u001b[0;34m\u001b[0m\u001b[0m\n\u001b[0m",
      "\u001b[0;32m~/opt/anaconda3/lib/python3.9/site-packages/pyspark/sql/dataframe.py\u001b[0m in \u001b[0;36mshow\u001b[0;34m(self, n, truncate, vertical)\u001b[0m\n\u001b[1;32m    604\u001b[0m \u001b[0;34m\u001b[0m\u001b[0m\n\u001b[1;32m    605\u001b[0m         \u001b[0;32mif\u001b[0m \u001b[0misinstance\u001b[0m\u001b[0;34m(\u001b[0m\u001b[0mtruncate\u001b[0m\u001b[0;34m,\u001b[0m \u001b[0mbool\u001b[0m\u001b[0;34m)\u001b[0m \u001b[0;32mand\u001b[0m \u001b[0mtruncate\u001b[0m\u001b[0;34m:\u001b[0m\u001b[0;34m\u001b[0m\u001b[0;34m\u001b[0m\u001b[0m\n\u001b[0;32m--> 606\u001b[0;31m             \u001b[0mprint\u001b[0m\u001b[0;34m(\u001b[0m\u001b[0mself\u001b[0m\u001b[0;34m.\u001b[0m\u001b[0m_jdf\u001b[0m\u001b[0;34m.\u001b[0m\u001b[0mshowString\u001b[0m\u001b[0;34m(\u001b[0m\u001b[0mn\u001b[0m\u001b[0;34m,\u001b[0m \u001b[0;36m20\u001b[0m\u001b[0;34m,\u001b[0m \u001b[0mvertical\u001b[0m\u001b[0;34m)\u001b[0m\u001b[0;34m)\u001b[0m\u001b[0;34m\u001b[0m\u001b[0;34m\u001b[0m\u001b[0m\n\u001b[0m\u001b[1;32m    607\u001b[0m         \u001b[0;32melse\u001b[0m\u001b[0;34m:\u001b[0m\u001b[0;34m\u001b[0m\u001b[0;34m\u001b[0m\u001b[0m\n\u001b[1;32m    608\u001b[0m             \u001b[0;32mtry\u001b[0m\u001b[0;34m:\u001b[0m\u001b[0;34m\u001b[0m\u001b[0;34m\u001b[0m\u001b[0m\n",
      "\u001b[0;32m~/opt/anaconda3/lib/python3.9/site-packages/py4j/java_gateway.py\u001b[0m in \u001b[0;36m__call__\u001b[0;34m(self, *args)\u001b[0m\n\u001b[1;32m   1319\u001b[0m \u001b[0;34m\u001b[0m\u001b[0m\n\u001b[1;32m   1320\u001b[0m         \u001b[0manswer\u001b[0m \u001b[0;34m=\u001b[0m \u001b[0mself\u001b[0m\u001b[0;34m.\u001b[0m\u001b[0mgateway_client\u001b[0m\u001b[0;34m.\u001b[0m\u001b[0msend_command\u001b[0m\u001b[0;34m(\u001b[0m\u001b[0mcommand\u001b[0m\u001b[0;34m)\u001b[0m\u001b[0;34m\u001b[0m\u001b[0;34m\u001b[0m\u001b[0m\n\u001b[0;32m-> 1321\u001b[0;31m         return_value = get_return_value(\n\u001b[0m\u001b[1;32m   1322\u001b[0m             answer, self.gateway_client, self.target_id, self.name)\n\u001b[1;32m   1323\u001b[0m \u001b[0;34m\u001b[0m\u001b[0m\n",
      "\u001b[0;32m~/opt/anaconda3/lib/python3.9/site-packages/pyspark/sql/utils.py\u001b[0m in \u001b[0;36mdeco\u001b[0;34m(*a, **kw)\u001b[0m\n\u001b[1;32m    188\u001b[0m     \u001b[0;32mdef\u001b[0m \u001b[0mdeco\u001b[0m\u001b[0;34m(\u001b[0m\u001b[0;34m*\u001b[0m\u001b[0ma\u001b[0m\u001b[0;34m:\u001b[0m \u001b[0mAny\u001b[0m\u001b[0;34m,\u001b[0m \u001b[0;34m**\u001b[0m\u001b[0mkw\u001b[0m\u001b[0;34m:\u001b[0m \u001b[0mAny\u001b[0m\u001b[0;34m)\u001b[0m \u001b[0;34m->\u001b[0m \u001b[0mAny\u001b[0m\u001b[0;34m:\u001b[0m\u001b[0;34m\u001b[0m\u001b[0;34m\u001b[0m\u001b[0m\n\u001b[1;32m    189\u001b[0m         \u001b[0;32mtry\u001b[0m\u001b[0;34m:\u001b[0m\u001b[0;34m\u001b[0m\u001b[0;34m\u001b[0m\u001b[0m\n\u001b[0;32m--> 190\u001b[0;31m             \u001b[0;32mreturn\u001b[0m \u001b[0mf\u001b[0m\u001b[0;34m(\u001b[0m\u001b[0;34m*\u001b[0m\u001b[0ma\u001b[0m\u001b[0;34m,\u001b[0m \u001b[0;34m**\u001b[0m\u001b[0mkw\u001b[0m\u001b[0;34m)\u001b[0m\u001b[0;34m\u001b[0m\u001b[0;34m\u001b[0m\u001b[0m\n\u001b[0m\u001b[1;32m    191\u001b[0m         \u001b[0;32mexcept\u001b[0m \u001b[0mPy4JJavaError\u001b[0m \u001b[0;32mas\u001b[0m \u001b[0me\u001b[0m\u001b[0;34m:\u001b[0m\u001b[0;34m\u001b[0m\u001b[0;34m\u001b[0m\u001b[0m\n\u001b[1;32m    192\u001b[0m             \u001b[0mconverted\u001b[0m \u001b[0;34m=\u001b[0m \u001b[0mconvert_exception\u001b[0m\u001b[0;34m(\u001b[0m\u001b[0me\u001b[0m\u001b[0;34m.\u001b[0m\u001b[0mjava_exception\u001b[0m\u001b[0;34m)\u001b[0m\u001b[0;34m\u001b[0m\u001b[0;34m\u001b[0m\u001b[0m\n",
      "\u001b[0;32m~/opt/anaconda3/lib/python3.9/site-packages/py4j/protocol.py\u001b[0m in \u001b[0;36mget_return_value\u001b[0;34m(answer, gateway_client, target_id, name)\u001b[0m\n\u001b[1;32m    324\u001b[0m             \u001b[0mvalue\u001b[0m \u001b[0;34m=\u001b[0m \u001b[0mOUTPUT_CONVERTER\u001b[0m\u001b[0;34m[\u001b[0m\u001b[0mtype\u001b[0m\u001b[0;34m]\u001b[0m\u001b[0;34m(\u001b[0m\u001b[0manswer\u001b[0m\u001b[0;34m[\u001b[0m\u001b[0;36m2\u001b[0m\u001b[0;34m:\u001b[0m\u001b[0;34m]\u001b[0m\u001b[0;34m,\u001b[0m \u001b[0mgateway_client\u001b[0m\u001b[0;34m)\u001b[0m\u001b[0;34m\u001b[0m\u001b[0;34m\u001b[0m\u001b[0m\n\u001b[1;32m    325\u001b[0m             \u001b[0;32mif\u001b[0m \u001b[0manswer\u001b[0m\u001b[0;34m[\u001b[0m\u001b[0;36m1\u001b[0m\u001b[0;34m]\u001b[0m \u001b[0;34m==\u001b[0m \u001b[0mREFERENCE_TYPE\u001b[0m\u001b[0;34m:\u001b[0m\u001b[0;34m\u001b[0m\u001b[0;34m\u001b[0m\u001b[0m\n\u001b[0;32m--> 326\u001b[0;31m                 raise Py4JJavaError(\n\u001b[0m\u001b[1;32m    327\u001b[0m                     \u001b[0;34m\"An error occurred while calling {0}{1}{2}.\\n\"\u001b[0m\u001b[0;34m.\u001b[0m\u001b[0;34m\u001b[0m\u001b[0;34m\u001b[0m\u001b[0m\n\u001b[1;32m    328\u001b[0m                     format(target_id, \".\", name), value)\n",
      "\u001b[0;31mPy4JJavaError\u001b[0m: An error occurred while calling o201.showString.\n: org.apache.spark.SparkException: Job aborted due to stage failure: Task 113 in stage 86.0 failed 1 times, most recent failure: Lost task 113.0 in stage 86.0 (TID 9425) (localhost executor driver): java.lang.OutOfMemoryError: Java heap space\n\tat net.jpountz.lz4.LZ4BlockOutputStream.<init>(LZ4BlockOutputStream.java:102)\n\tat org.apache.spark.io.LZ4CompressionCodec.compressedOutputStream(CompressionCodec.scala:144)\n\tat org.apache.spark.serializer.SerializerManager.wrapForCompression(SerializerManager.scala:159)\n\tat org.apache.spark.serializer.SerializerManager.wrapStream(SerializerManager.scala:134)\n\tat org.apache.spark.storage.DiskBlockObjectWriter.open(DiskBlockObjectWriter.scala:163)\n\tat org.apache.spark.storage.DiskBlockObjectWriter.write(DiskBlockObjectWriter.scala:306)\n\tat org.apache.spark.shuffle.sort.BypassMergeSortShuffleWriter.write(BypassMergeSortShuffleWriter.java:171)\n\tat org.apache.spark.shuffle.ShuffleWriteProcessor.write(ShuffleWriteProcessor.scala:59)\n\tat org.apache.spark.scheduler.ShuffleMapTask.runTask(ShuffleMapTask.scala:99)\n\tat org.apache.spark.scheduler.ShuffleMapTask.runTask(ShuffleMapTask.scala:52)\n\tat org.apache.spark.scheduler.Task.run(Task.scala:136)\n\tat org.apache.spark.executor.Executor$TaskRunner.$anonfun$run$3(Executor.scala:548)\n\tat org.apache.spark.executor.Executor$TaskRunner$$Lambda$1518/0x00000008014cb128.apply(Unknown Source)\n\tat org.apache.spark.util.Utils$.tryWithSafeFinally(Utils.scala:1504)\n\tat org.apache.spark.executor.Executor$TaskRunner.run(Executor.scala:551)\n\tat java.base/java.util.concurrent.ThreadPoolExecutor.runWorker(ThreadPoolExecutor.java:1136)\n\tat java.base/java.util.concurrent.ThreadPoolExecutor$Worker.run(ThreadPoolExecutor.java:635)\n\tat java.base/java.lang.Thread.run(Thread.java:833)\n\nDriver stacktrace:\n\tat org.apache.spark.scheduler.DAGScheduler.failJobAndIndependentStages(DAGScheduler.scala:2672)\n\tat org.apache.spark.scheduler.DAGScheduler.$anonfun$abortStage$2(DAGScheduler.scala:2608)\n\tat org.apache.spark.scheduler.DAGScheduler.$anonfun$abortStage$2$adapted(DAGScheduler.scala:2607)\n\tat scala.collection.mutable.ResizableArray.foreach(ResizableArray.scala:62)\n\tat scala.collection.mutable.ResizableArray.foreach$(ResizableArray.scala:55)\n\tat scala.collection.mutable.ArrayBuffer.foreach(ArrayBuffer.scala:49)\n\tat org.apache.spark.scheduler.DAGScheduler.abortStage(DAGScheduler.scala:2607)\n\tat org.apache.spark.scheduler.DAGScheduler.$anonfun$handleTaskSetFailed$1(DAGScheduler.scala:1182)\n\tat org.apache.spark.scheduler.DAGScheduler.$anonfun$handleTaskSetFailed$1$adapted(DAGScheduler.scala:1182)\n\tat scala.Option.foreach(Option.scala:407)\n\tat org.apache.spark.scheduler.DAGScheduler.handleTaskSetFailed(DAGScheduler.scala:1182)\n\tat org.apache.spark.scheduler.DAGSchedulerEventProcessLoop.doOnReceive(DAGScheduler.scala:2860)\n\tat org.apache.spark.scheduler.DAGSchedulerEventProcessLoop.onReceive(DAGScheduler.scala:2802)\n\tat org.apache.spark.scheduler.DAGSchedulerEventProcessLoop.onReceive(DAGScheduler.scala:2791)\n\tat org.apache.spark.util.EventLoop$$anon$1.run(EventLoop.scala:49)\nCaused by: java.lang.OutOfMemoryError: Java heap space\n\tat net.jpountz.lz4.LZ4BlockOutputStream.<init>(LZ4BlockOutputStream.java:102)\n\tat org.apache.spark.io.LZ4CompressionCodec.compressedOutputStream(CompressionCodec.scala:144)\n\tat org.apache.spark.serializer.SerializerManager.wrapForCompression(SerializerManager.scala:159)\n\tat org.apache.spark.serializer.SerializerManager.wrapStream(SerializerManager.scala:134)\n\tat org.apache.spark.storage.DiskBlockObjectWriter.open(DiskBlockObjectWriter.scala:163)\n\tat org.apache.spark.storage.DiskBlockObjectWriter.write(DiskBlockObjectWriter.scala:306)\n\tat org.apache.spark.shuffle.sort.BypassMergeSortShuffleWriter.write(BypassMergeSortShuffleWriter.java:171)\n\tat org.apache.spark.shuffle.ShuffleWriteProcessor.write(ShuffleWriteProcessor.scala:59)\n\tat org.apache.spark.scheduler.ShuffleMapTask.runTask(ShuffleMapTask.scala:99)\n\tat org.apache.spark.scheduler.ShuffleMapTask.runTask(ShuffleMapTask.scala:52)\n\tat org.apache.spark.scheduler.Task.run(Task.scala:136)\n\tat org.apache.spark.executor.Executor$TaskRunner.$anonfun$run$3(Executor.scala:548)\n\tat org.apache.spark.executor.Executor$TaskRunner$$Lambda$1518/0x00000008014cb128.apply(Unknown Source)\n\tat org.apache.spark.util.Utils$.tryWithSafeFinally(Utils.scala:1504)\n\tat org.apache.spark.executor.Executor$TaskRunner.run(Executor.scala:551)\n\tat java.base/java.util.concurrent.ThreadPoolExecutor.runWorker(ThreadPoolExecutor.java:1136)\n\tat java.base/java.util.concurrent.ThreadPoolExecutor$Worker.run(ThreadPoolExecutor.java:635)\n\tat java.base/java.lang.Thread.run(Thread.java:833)\n"
     ]
    }
   ],
   "source": [
    "biggest_users.show()"
   ]
  }
 ],
 "metadata": {
  "kernelspec": {
   "display_name": "Python 3.9.7 ('base')",
   "language": "python",
   "name": "python3"
  },
  "language_info": {
   "codemirror_mode": {
    "name": "ipython",
    "version": 3
   },
   "file_extension": ".py",
   "mimetype": "text/x-python",
   "name": "python",
   "nbconvert_exporter": "python",
   "pygments_lexer": "ipython3",
   "version": "3.9.7"
  },
  "vscode": {
   "interpreter": {
    "hash": "7e35d98e8198887147a5837b6820e4bf8d41831f6222e06e86b8679b6549872f"
   }
  }
 },
 "nbformat": 4,
 "nbformat_minor": 5
}
