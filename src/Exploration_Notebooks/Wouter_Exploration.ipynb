{
 "cells": [
  {
   "cell_type": "code",
   "execution_count": 1,
   "id": "dd32da38",
   "metadata": {},
   "outputs": [],
   "source": [
    "# import packages\n",
    "import os \n",
    "import pickle\n",
    "\n",
    "import re\n",
    "from datetime import datetime\n",
    "\n",
    "import requests\n",
    "\n",
    "import pytz\n",
    "\n",
    "import pandas as pd\n",
    "import numpy as np\n",
    "\n",
    "import ast\n",
    "\n",
    "import pyspark.sql.functions as F\n",
    "from pyspark.sql.types import *\n",
    "from pyspark.sql.functions import *\n",
    "\n",
    "\n",
    "import matplotlib.pyplot as plt\n",
    "import seaborn as sns\n"
   ]
  },
  {
   "cell_type": "code",
   "execution_count": 2,
   "id": "87226276-9d83-48bc-9bc3-9219a428de2a",
   "metadata": {},
   "outputs": [
    {
     "name": "stderr",
     "output_type": "stream",
     "text": [
      "Setting default log level to \"WARN\".\n",
      "To adjust logging level use sc.setLogLevel(newLevel). For SparkR, use setLogLevel(newLevel).\n"
     ]
    },
    {
     "name": "stdout",
     "output_type": "stream",
     "text": [
      "22/11/21 13:21:19 WARN NativeCodeLoader: Unable to load native-hadoop library for your platform... using builtin-java classes where applicable\n",
      "22/11/21 13:21:20 WARN Utils: Service 'SparkUI' could not bind on port 4040. Attempting port 4041.\n"
     ]
    }
   ],
   "source": [
    "# import findspark\n",
    "import findspark\n",
    "\n",
    "# initialize findspark with spark directory\n",
    "\n",
    "#ALWAYS HAVE TO BE CHANGED \n",
    "findspark.init(\"/Users/wouterdewitte/spark/\")\n",
    "\n",
    "# import pyspark\n",
    "import pyspark\n",
    "# create spark context\n",
    "sc = pyspark.SparkContext()\n",
    "# create spark session \n",
    "spark = pyspark.sql.SparkSession(sc)"
   ]
  },
  {
   "cell_type": "code",
   "execution_count": 3,
   "id": "a5fd03ea-50af-4201-96b3-5ead4b26470d",
   "metadata": {},
   "outputs": [
    {
     "data": {
      "text/html": [
       "\n",
       "            <div>\n",
       "                <p><b>SparkSession - in-memory</b></p>\n",
       "                \n",
       "        <div>\n",
       "            <p><b>SparkContext</b></p>\n",
       "\n",
       "            <p><a href=\"http://w076h083.wireless.ugent.be:4040\">Spark UI</a></p>\n",
       "\n",
       "            <dl>\n",
       "              <dt>Version</dt>\n",
       "                <dd><code>v3.3.1</code></dd>\n",
       "              <dt>Master</dt>\n",
       "                <dd><code>local[*]</code></dd>\n",
       "              <dt>AppName</dt>\n",
       "                <dd><code>pyspark-shell</code></dd>\n",
       "            </dl>\n",
       "        </div>\n",
       "        \n",
       "            </div>\n",
       "        "
      ],
      "text/plain": [
       "<pyspark.sql.session.SparkSession at 0x7fc9c124fd00>"
      ]
     },
     "execution_count": 3,
     "metadata": {},
     "output_type": "execute_result"
    }
   ],
   "source": [
    "spark"
   ]
  },
  {
   "cell_type": "code",
   "execution_count": 6,
   "id": "289cba5c-ff9a-4055-84a2-024b7a67f188",
   "metadata": {},
   "outputs": [],
   "source": [
    "#set this path to your path, for some reason I have an error \n",
    "#reading in all the files\n",
    "import os \n",
    "path_json = \".././../data/Topic_vegan/*.json\""
   ]
  },
  {
   "cell_type": "code",
   "execution_count": 7,
   "id": "0cd1fd47-245e-4ddb-a7df-e7c715ee78a3",
   "metadata": {},
   "outputs": [
    {
     "name": "stderr",
     "output_type": "stream",
     "text": [
      "                                                                                \r"
     ]
    },
    {
     "name": "stdout",
     "output_type": "stream",
     "text": [
      "22/11/21 13:22:54 WARN package: Truncated the string representation of a plan since it was too large. This behavior can be adjusted by setting 'spark.sql.debug.maxToStringFields'.\n"
     ]
    }
   ],
   "source": [
    "df_json = spark.read.json(path_json)"
   ]
  },
  {
   "cell_type": "code",
   "execution_count": 5,
   "id": "d6dc20a0-5ccc-4fb5-b1d9-f23610061c28",
   "metadata": {},
   "outputs": [
    {
     "ename": "NameError",
     "evalue": "name 'df_json' is not defined",
     "output_type": "error",
     "traceback": [
      "\u001b[0;31m---------------------------------------------------------------------------\u001b[0m",
      "\u001b[0;31mNameError\u001b[0m                                 Traceback (most recent call last)",
      "\u001b[0;32m/var/folders/x2/hymzscwj7pg_t42hpfwjm20m0000gn/T/ipykernel_17097/1155944737.py\u001b[0m in \u001b[0;36m<module>\u001b[0;34m\u001b[0m\n\u001b[1;32m      2\u001b[0m \u001b[0;32mimport\u001b[0m \u001b[0mpyspark\u001b[0m\u001b[0;34m.\u001b[0m\u001b[0msql\u001b[0m\u001b[0;34m.\u001b[0m\u001b[0mfunctions\u001b[0m \u001b[0;32mas\u001b[0m \u001b[0mF\u001b[0m\u001b[0;34m\u001b[0m\u001b[0;34m\u001b[0m\u001b[0m\n\u001b[1;32m      3\u001b[0m \u001b[0;34m\u001b[0m\u001b[0m\n\u001b[0;32m----> 4\u001b[0;31m df = df_json.select(F.col(\"user.name\"),\n\u001b[0m\u001b[1;32m      5\u001b[0m                                 \u001b[0mF\u001b[0m\u001b[0;34m.\u001b[0m\u001b[0mcol\u001b[0m\u001b[0;34m(\u001b[0m\u001b[0;34m\"user.screen_name\"\u001b[0m\u001b[0;34m)\u001b[0m\u001b[0;34m,\u001b[0m\u001b[0;34m\u001b[0m\u001b[0;34m\u001b[0m\u001b[0m\n\u001b[1;32m      6\u001b[0m                                 \u001b[0mF\u001b[0m\u001b[0;34m.\u001b[0m\u001b[0mcol\u001b[0m\u001b[0;34m(\u001b[0m\u001b[0;34m\"created_at\"\u001b[0m\u001b[0;34m)\u001b[0m\u001b[0;34m,\u001b[0m\u001b[0;34m\u001b[0m\u001b[0;34m\u001b[0m\u001b[0m\n",
      "\u001b[0;31mNameError\u001b[0m: name 'df_json' is not defined"
     ]
    }
   ],
   "source": [
    "# select interesting features\n",
    "import pyspark.sql.functions as F\n",
    "\n",
    "df = df_json.select(F.col(\"user.name\"),\n",
    "                                F.col(\"user.screen_name\"),\n",
    "                                F.col(\"created_at\"), \n",
    "                                F.col(\"full_text\"),\n",
    "                                F.col(\"entities.hashtags\"),\n",
    "                                F.col(\"lang\"),\n",
    "                                F.col(\"favorite_count\"),\n",
    "                                F.col(\"user.followers_count\"),\n",
    "                                F.col(\"user.friends_count\"),\n",
    "                                F.col(\"user.favourites_count\"),\n",
    "                                F.col(\"entities.urls\"),\n",
    "                                F.col(\"entities.symbols\"),\n",
    "                                F.col(\"retweet_count\"),\n",
    "                                F.col(\"favorite_count\"))\n",
    "df.limit(10).toPandas()"
   ]
  },
  {
   "cell_type": "code",
   "execution_count": 9,
   "id": "a3dc3965",
   "metadata": {},
   "outputs": [],
   "source": [
    "# remove duplicates and retweets\n",
    "df = df.filter(~F.col(\"full_text\").startswith(\"RT\")) \\\n",
    "                               .drop_duplicates() \\\n",
    "                               .cache()"
   ]
  },
  {
   "cell_type": "code",
   "execution_count": 10,
   "id": "1cb69a21",
   "metadata": {},
   "outputs": [],
   "source": [
    "# https://developer.twitter.com/en/docs/twitter-ads-api/timezones\n",
    "# function to convert Twitter date string format\n",
    "def getDate(date):\n",
    "    if date is not None:\n",
    "        return str(datetime.strptime(date,'%a %b %d %H:%M:%S +0000 %Y').replace(tzinfo=pytz.UTC).strftime(\"%Y-%m-%d %H:%M:%S\"))\n",
    "    else:\n",
    "        return None\n",
    "\n",
    "# UDF declaration\n",
    "date_udf = F.udf(getDate, StringType())\n",
    "\n",
    "# apply udf\n",
    "df = df.withColumn('post_created_at', F.to_utc_timestamp(date_udf(\"created_at\"), \"UTC\"))"
   ]
  },
  {
   "cell_type": "code",
   "execution_count": 10,
   "id": "189ed624",
   "metadata": {},
   "outputs": [
    {
     "name": "stderr",
     "output_type": "stream",
     "text": [
      "[Stage 6:=========================>                              (90 + 8) / 200]\r"
     ]
    },
    {
     "name": "stdout",
     "output_type": "stream",
     "text": [
      "22/11/21 10:34:45 WARN MemoryStore: Not enough space to cache rdd_17_96 in memory! (computed 3.9 MiB so far)\n",
      "22/11/21 10:34:45 WARN BlockManager: Persisting block rdd_17_96 to disk instead.\n",
      "22/11/21 10:34:45 WARN MemoryStore: Not enough space to cache rdd_17_96 in memory! (computed 3.9 MiB so far)\n"
     ]
    },
    {
     "name": "stderr",
     "output_type": "stream",
     "text": [
      "[Stage 6:==========================>                             (93 + 8) / 200]\r"
     ]
    },
    {
     "name": "stdout",
     "output_type": "stream",
     "text": [
      "22/11/21 10:34:46 WARN MemoryStore: Not enough space to cache rdd_17_98 in memory! (computed 3.9 MiB so far)\n",
      "22/11/21 10:34:46 WARN BlockManager: Persisting block rdd_17_98 to disk instead.\n",
      "22/11/21 10:34:46 WARN MemoryStore: Not enough space to cache rdd_17_99 in memory! (computed 3.9 MiB so far)\n",
      "22/11/21 10:34:46 WARN BlockManager: Persisting block rdd_17_99 to disk instead.\n"
     ]
    },
    {
     "name": "stderr",
     "output_type": "stream",
     "text": [
      "[Stage 6:===========================>                            (97 + 8) / 200]\r"
     ]
    },
    {
     "name": "stdout",
     "output_type": "stream",
     "text": [
      "22/11/21 10:34:47 WARN MemoryStore: Not enough space to cache rdd_17_104 in memory! (computed 3.9 MiB so far)\n",
      "22/11/21 10:34:47 WARN BlockManager: Persisting block rdd_17_104 to disk instead.\n",
      "22/11/21 10:34:47 WARN MemoryStore: Not enough space to cache rdd_17_105 in memory! (computed 3.9 MiB so far)\n",
      "22/11/21 10:34:47 WARN BlockManager: Persisting block rdd_17_105 to disk instead.\n"
     ]
    },
    {
     "name": "stderr",
     "output_type": "stream",
     "text": [
      "[Stage 6:============================>                          (103 + 8) / 200]\r"
     ]
    },
    {
     "name": "stdout",
     "output_type": "stream",
     "text": [
      "22/11/21 10:34:48 WARN MemoryStore: Not enough space to cache rdd_17_106 in memory! (computed 3.9 MiB so far)\n",
      "22/11/21 10:34:48 WARN BlockManager: Persisting block rdd_17_106 to disk instead.\n",
      "22/11/21 10:34:48 WARN MemoryStore: Not enough space to cache rdd_17_106 in memory! (computed 3.9 MiB so far)\n",
      "22/11/21 10:34:48 WARN MemoryStore: Not enough space to cache rdd_17_108 in memory! (computed 3.9 MiB so far)\n",
      "22/11/21 10:34:48 WARN BlockManager: Persisting block rdd_17_108 to disk instead.\n",
      "22/11/21 10:34:48 WARN MemoryStore: Not enough space to cache rdd_17_110 in memory! (computed 3.9 MiB so far)\n",
      "22/11/21 10:34:48 WARN BlockManager: Persisting block rdd_17_110 to disk instead.\n"
     ]
    },
    {
     "name": "stderr",
     "output_type": "stream",
     "text": [
      "[Stage 6:============================>                          (104 + 8) / 200]\r"
     ]
    },
    {
     "name": "stdout",
     "output_type": "stream",
     "text": [
      "22/11/21 10:34:49 WARN MemoryStore: Failed to reserve initial memory threshold of 1024.0 KiB for computing block rdd_17_113 in memory.\n",
      "22/11/21 10:34:49 WARN MemoryStore: Not enough space to cache rdd_17_113 in memory! (computed 384.0 B so far)\n",
      "22/11/21 10:34:49 WARN BlockManager: Persisting block rdd_17_113 to disk instead.\n"
     ]
    },
    {
     "name": "stderr",
     "output_type": "stream",
     "text": [
      "[Stage 6:=============================>                         (108 + 8) / 200]\r"
     ]
    },
    {
     "name": "stdout",
     "output_type": "stream",
     "text": [
      "22/11/21 10:34:49 WARN MemoryStore: Not enough space to cache rdd_17_115 in memory! (computed 3.9 MiB so far)\n",
      "22/11/21 10:34:49 WARN BlockManager: Persisting block rdd_17_115 to disk instead.\n",
      "22/11/21 10:34:49 WARN MemoryStore: Not enough space to cache rdd_17_115 in memory! (computed 3.9 MiB so far)\n"
     ]
    },
    {
     "name": "stderr",
     "output_type": "stream",
     "text": [
      "[Stage 6:==============================>                        (112 + 8) / 200]\r"
     ]
    },
    {
     "name": "stdout",
     "output_type": "stream",
     "text": [
      "22/11/21 10:34:51 WARN MemoryStore: Not enough space to cache rdd_17_120 in memory! (computed 3.9 MiB so far)\n",
      "22/11/21 10:34:51 WARN BlockManager: Persisting block rdd_17_120 to disk instead.\n",
      "22/11/21 10:34:51 WARN MemoryStore: Not enough space to cache rdd_17_121 in memory! (computed 3.9 MiB so far)\n",
      "22/11/21 10:34:51 WARN BlockManager: Persisting block rdd_17_121 to disk instead.\n"
     ]
    },
    {
     "name": "stderr",
     "output_type": "stream",
     "text": [
      "[Stage 6:================================>                      (119 + 8) / 200]\r"
     ]
    },
    {
     "name": "stdout",
     "output_type": "stream",
     "text": [
      "22/11/21 10:34:51 WARN MemoryStore: Failed to reserve initial memory threshold of 1024.0 KiB for computing block rdd_17_124 in memory.\n",
      "22/11/21 10:34:51 WARN MemoryStore: Not enough space to cache rdd_17_124 in memory! (computed 384.0 B so far)\n",
      "22/11/21 10:34:51 WARN BlockManager: Persisting block rdd_17_124 to disk instead.\n"
     ]
    },
    {
     "name": "stderr",
     "output_type": "stream",
     "text": [
      "[Stage 6:=================================>                     (123 + 8) / 200]\r"
     ]
    },
    {
     "name": "stdout",
     "output_type": "stream",
     "text": [
      "22/11/21 10:34:53 WARN MemoryStore: Not enough space to cache rdd_17_129 in memory! (computed 3.9 MiB so far)\n",
      "22/11/21 10:34:53 WARN BlockManager: Persisting block rdd_17_129 to disk instead.\n",
      "22/11/21 10:34:53 WARN MemoryStore: Not enough space to cache rdd_17_130 in memory! (computed 3.9 MiB so far)\n",
      "22/11/21 10:34:53 WARN BlockManager: Persisting block rdd_17_130 to disk instead.\n"
     ]
    },
    {
     "name": "stderr",
     "output_type": "stream",
     "text": [
      "[Stage 6:==================================>                    (124 + 8) / 200]\r"
     ]
    },
    {
     "name": "stdout",
     "output_type": "stream",
     "text": [
      "22/11/21 10:34:53 WARN MemoryStore: Failed to reserve initial memory threshold of 1024.0 KiB for computing block rdd_17_133 in memory.\n",
      "22/11/21 10:34:53 WARN MemoryStore: Not enough space to cache rdd_17_133 in memory! (computed 384.0 B so far)\n",
      "22/11/21 10:34:53 WARN BlockManager: Persisting block rdd_17_133 to disk instead.\n"
     ]
    },
    {
     "name": "stderr",
     "output_type": "stream",
     "text": [
      "[Stage 6:===================================>                   (130 + 9) / 200]\r"
     ]
    },
    {
     "name": "stdout",
     "output_type": "stream",
     "text": [
      "22/11/21 10:34:55 WARN MemoryStore: Not enough space to cache rdd_17_137 in memory! (computed 3.9 MiB so far)\n",
      "22/11/21 10:34:55 WARN BlockManager: Persisting block rdd_17_137 to disk instead.\n",
      "22/11/21 10:34:55 WARN MemoryStore: Not enough space to cache rdd_17_138 in memory! (computed 3.9 MiB so far)\n",
      "22/11/21 10:34:55 WARN BlockManager: Persisting block rdd_17_138 to disk instead.\n"
     ]
    },
    {
     "name": "stderr",
     "output_type": "stream",
     "text": [
      "[Stage 6:=====================================>                 (135 + 8) / 200]\r"
     ]
    },
    {
     "name": "stdout",
     "output_type": "stream",
     "text": [
      "22/11/21 10:34:55 WARN MemoryStore: Not enough space to cache rdd_17_139 in memory! (computed 3.9 MiB so far)\n",
      "22/11/21 10:34:55 WARN BlockManager: Persisting block rdd_17_139 to disk instead.\n",
      "22/11/21 10:34:55 WARN MemoryStore: Not enough space to cache rdd_17_141 in memory! (computed 3.9 MiB so far)\n",
      "22/11/21 10:34:55 WARN BlockManager: Persisting block rdd_17_141 to disk instead.\n",
      "22/11/21 10:34:55 WARN MemoryStore: Not enough space to cache rdd_17_142 in memory! (computed 3.9 MiB so far)\n",
      "22/11/21 10:34:55 WARN BlockManager: Persisting block rdd_17_142 to disk instead.\n"
     ]
    },
    {
     "name": "stderr",
     "output_type": "stream",
     "text": [
      "[Stage 6:=======================================>               (143 + 8) / 200]\r"
     ]
    },
    {
     "name": "stdout",
     "output_type": "stream",
     "text": [
      "22/11/21 10:34:57 WARN MemoryStore: Not enough space to cache rdd_17_150 in memory! (computed 3.9 MiB so far)\n",
      "22/11/21 10:34:57 WARN BlockManager: Persisting block rdd_17_150 to disk instead.\n"
     ]
    },
    {
     "name": "stderr",
     "output_type": "stream",
     "text": [
      "[Stage 6:=======================================>               (145 + 8) / 200]\r"
     ]
    },
    {
     "name": "stdout",
     "output_type": "stream",
     "text": [
      "22/11/21 10:34:59 WARN MemoryStore: Not enough space to cache rdd_17_152 in memory! (computed 3.9 MiB so far)\n",
      "22/11/21 10:34:59 WARN BlockManager: Persisting block rdd_17_152 to disk instead.\n",
      "22/11/21 10:34:59 WARN MemoryStore: Not enough space to cache rdd_17_153 in memory! (computed 3.9 MiB so far)\n",
      "22/11/21 10:34:59 WARN BlockManager: Persisting block rdd_17_153 to disk instead.\n",
      "22/11/21 10:34:59 WARN MemoryStore: Not enough space to cache rdd_17_153 in memory! (computed 3.9 MiB so far)\n"
     ]
    },
    {
     "name": "stderr",
     "output_type": "stream",
     "text": [
      "[Stage 6:=========================================>             (150 + 8) / 200]\r"
     ]
    },
    {
     "name": "stdout",
     "output_type": "stream",
     "text": [
      "22/11/21 10:34:59 WARN MemoryStore: Not enough space to cache rdd_17_155 in memory! (computed 3.9 MiB so far)\n",
      "22/11/21 10:34:59 WARN BlockManager: Persisting block rdd_17_155 to disk instead.\n",
      "22/11/21 10:34:59 WARN MemoryStore: Not enough space to cache rdd_17_157 in memory! (computed 3.9 MiB so far)\n",
      "22/11/21 10:34:59 WARN BlockManager: Persisting block rdd_17_157 to disk instead.\n",
      "22/11/21 10:35:00 WARN MemoryStore: Not enough space to cache rdd_17_158 in memory! (computed 3.9 MiB so far)\n",
      "22/11/21 10:35:00 WARN BlockManager: Persisting block rdd_17_158 to disk instead.\n",
      "22/11/21 10:35:00 WARN MemoryStore: Not enough space to cache rdd_17_158 in memory! (computed 3.9 MiB so far)\n"
     ]
    },
    {
     "name": "stderr",
     "output_type": "stream",
     "text": [
      "[Stage 6:==========================================>            (153 + 8) / 200]\r"
     ]
    }
   ],
   "source": [
    "# get first post\n",
    "first_post = F.min('post_created_at').alias('earliest')\n",
    "# get latest post\n",
    "latest_post = F.max('post_created_at').alias('latest')\n",
    "# show tweet period in our dataset\n",
    "df.select(first_post, latest_post).show()"
   ]
  },
  {
   "cell_type": "code",
   "execution_count": 4,
   "id": "055adbd8",
   "metadata": {},
   "outputs": [
    {
     "ename": "NameError",
     "evalue": "name 'df' is not defined",
     "output_type": "error",
     "traceback": [
      "\u001b[0;31m---------------------------------------------------------------------------\u001b[0m",
      "\u001b[0;31mNameError\u001b[0m                                 Traceback (most recent call last)",
      "\u001b[0;32m/var/folders/x2/hymzscwj7pg_t42hpfwjm20m0000gn/T/ipykernel_17097/1457074806.py\u001b[0m in \u001b[0;36m<module>\u001b[0;34m\u001b[0m\n\u001b[0;32m----> 1\u001b[0;31m \u001b[0mdf\u001b[0m\u001b[0;34m.\u001b[0m\u001b[0mprintSchema\u001b[0m\u001b[0;34m(\u001b[0m\u001b[0;34m)\u001b[0m\u001b[0;34m\u001b[0m\u001b[0;34m\u001b[0m\u001b[0m\n\u001b[0m",
      "\u001b[0;31mNameError\u001b[0m: name 'df' is not defined"
     ]
    }
   ],
   "source": [
    "df_json.printSchema()"
   ]
  },
  {
   "cell_type": "markdown",
   "id": "e6bfa305",
   "metadata": {},
   "source": [
    "# The evolution of tweet activity"
   ]
  },
  {
   "cell_type": "markdown",
   "id": "4cbf6f74",
   "metadata": {},
   "source": [
    "Look at the frequency of tweets per month."
   ]
  },
  {
   "cell_type": "code",
   "execution_count": 63,
   "id": "5047d2af",
   "metadata": {},
   "outputs": [],
   "source": [
    "freq_month = df.withColumn('month', month('post_created_at'))"
   ]
  },
  {
   "cell_type": "code",
   "execution_count": 64,
   "id": "331dfdb3",
   "metadata": {},
   "outputs": [],
   "source": [
    "freq_month = freq_month.groupBy(\"month\") \\\n",
    "                        .agg(countDistinct(\"full_text\")) \\\n",
    "                        .withColumnRenamed(\"count(full_text)\", \"freq\") \\\n",
    "                        .sort(\"month\", ascending = True)"
   ]
  },
  {
   "cell_type": "code",
   "execution_count": 65,
   "id": "fc94ce21",
   "metadata": {},
   "outputs": [
    {
     "name": "stderr",
     "output_type": "stream",
     "text": [
      "[Stage 61:===========>                                           (40 + 8) / 200]\r"
     ]
    },
    {
     "name": "stdout",
     "output_type": "stream",
     "text": [
      "22/11/21 10:53:37 WARN MemoryStore: Not enough space to cache rdd_17_46 in memory! (computed 3.9 MiB so far)\n",
      "22/11/21 10:53:37 WARN MemoryStore: Not enough space to cache rdd_17_47 in memory! (computed 3.9 MiB so far)\n"
     ]
    },
    {
     "name": "stderr",
     "output_type": "stream",
     "text": [
      "[Stage 61:===========>                                           (41 + 8) / 200]\r"
     ]
    },
    {
     "name": "stdout",
     "output_type": "stream",
     "text": [
      "22/11/21 10:53:39 WARN MemoryStore: Not enough space to cache rdd_17_51 in memory! (computed 3.9 MiB so far)\n"
     ]
    },
    {
     "name": "stderr",
     "output_type": "stream",
     "text": [
      "[Stage 61:============>                                          (45 + 8) / 200]\r"
     ]
    },
    {
     "name": "stdout",
     "output_type": "stream",
     "text": [
      "22/11/21 10:53:39 WARN MemoryStore: Not enough space to cache rdd_17_54 in memory! (computed 3.9 MiB so far)\n",
      "22/11/21 10:53:39 WARN MemoryStore: Not enough space to cache rdd_17_55 in memory! (computed 3.9 MiB so far)\n"
     ]
    },
    {
     "name": "stderr",
     "output_type": "stream",
     "text": [
      "[Stage 61:=============>                                         (49 + 8) / 200]\r"
     ]
    },
    {
     "name": "stdout",
     "output_type": "stream",
     "text": [
      "22/11/21 10:53:41 WARN MemoryStore: Not enough space to cache rdd_17_60 in memory! (computed 3.9 MiB so far)\n",
      "22/11/21 10:53:41 WARN MemoryStore: Not enough space to cache rdd_17_61 in memory! (computed 3.9 MiB so far)\n"
     ]
    },
    {
     "name": "stderr",
     "output_type": "stream",
     "text": [
      "[Stage 61:==============>                                        (53 + 8) / 200]\r"
     ]
    },
    {
     "name": "stdout",
     "output_type": "stream",
     "text": [
      "22/11/21 10:53:41 WARN MemoryStore: Not enough space to cache rdd_17_63 in memory! (computed 3.9 MiB so far)\n"
     ]
    },
    {
     "name": "stderr",
     "output_type": "stream",
     "text": [
      "[Stage 61:================>                                      (59 + 8) / 200]\r"
     ]
    },
    {
     "name": "stdout",
     "output_type": "stream",
     "text": [
      "22/11/21 10:53:42 WARN MemoryStore: Not enough space to cache rdd_17_68 in memory! (computed 3.9 MiB so far)\n",
      "22/11/21 10:53:42 WARN MemoryStore: Failed to reserve initial memory threshold of 1024.0 KiB for computing block rdd_17_69 in memory.\n",
      "22/11/21 10:53:42 WARN MemoryStore: Not enough space to cache rdd_17_69 in memory! (computed 384.0 B so far)\n"
     ]
    },
    {
     "name": "stderr",
     "output_type": "stream",
     "text": [
      "[Stage 61:=================>                                     (62 + 8) / 200]\r"
     ]
    },
    {
     "name": "stdout",
     "output_type": "stream",
     "text": [
      "22/11/21 10:53:43 WARN MemoryStore: Not enough space to cache rdd_17_71 in memory! (computed 3.9 MiB so far)\n"
     ]
    },
    {
     "name": "stderr",
     "output_type": "stream",
     "text": [
      "[Stage 61:==================>                                    (68 + 8) / 200]\r"
     ]
    },
    {
     "name": "stdout",
     "output_type": "stream",
     "text": [
      "22/11/21 10:53:44 WARN MemoryStore: Not enough space to cache rdd_17_75 in memory! (computed 3.9 MiB so far)\n",
      "22/11/21 10:53:44 WARN MemoryStore: Not enough space to cache rdd_17_78 in memory! (computed 3.9 MiB so far)\n",
      "22/11/21 10:53:44 WARN MemoryStore: Not enough space to cache rdd_17_79 in memory! (computed 3.9 MiB so far)\n"
     ]
    },
    {
     "name": "stderr",
     "output_type": "stream",
     "text": [
      "[Stage 61:===================>                                   (72 + 8) / 200]\r"
     ]
    },
    {
     "name": "stdout",
     "output_type": "stream",
     "text": [
      "22/11/21 10:53:46 WARN MemoryStore: Not enough space to cache rdd_17_82 in memory! (computed 3.9 MiB so far)\n",
      "22/11/21 10:53:46 WARN MemoryStore: Not enough space to cache rdd_17_84 in memory! (computed 3.9 MiB so far)\n"
     ]
    },
    {
     "name": "stderr",
     "output_type": "stream",
     "text": [
      "[Stage 61:======================>                                (80 + 8) / 200]\r"
     ]
    },
    {
     "name": "stdout",
     "output_type": "stream",
     "text": [
      "22/11/21 10:53:46 WARN MemoryStore: Not enough space to cache rdd_17_87 in memory! (computed 3.9 MiB so far)\n"
     ]
    },
    {
     "name": "stderr",
     "output_type": "stream",
     "text": [
      "[Stage 61:=======================>                               (86 + 8) / 200]\r"
     ]
    },
    {
     "name": "stdout",
     "output_type": "stream",
     "text": [
      "22/11/21 10:53:48 WARN MemoryStore: Not enough space to cache rdd_17_94 in memory! (computed 3.9 MiB so far)\n"
     ]
    },
    {
     "name": "stderr",
     "output_type": "stream",
     "text": [
      "[Stage 61:========================>                              (88 + 8) / 200]\r"
     ]
    },
    {
     "name": "stdout",
     "output_type": "stream",
     "text": [
      "22/11/21 10:53:50 WARN MemoryStore: Not enough space to cache rdd_17_98 in memory! (computed 3.9 MiB so far)\n",
      "22/11/21 10:53:50 WARN MemoryStore: Not enough space to cache rdd_17_99 in memory! (computed 3.9 MiB so far)\n"
     ]
    },
    {
     "name": "stderr",
     "output_type": "stream",
     "text": [
      "[Stage 61:=========================>                             (93 + 8) / 200]\r"
     ]
    },
    {
     "name": "stdout",
     "output_type": "stream",
     "text": [
      "22/11/21 10:53:50 WARN MemoryStore: Not enough space to cache rdd_17_102 in memory! (computed 3.9 MiB so far)\n",
      "22/11/21 10:53:50 WARN MemoryStore: Not enough space to cache rdd_17_103 in memory! (computed 3.9 MiB so far)\n"
     ]
    },
    {
     "name": "stderr",
     "output_type": "stream",
     "text": [
      "[Stage 61:==========================>                            (98 + 8) / 200]\r"
     ]
    },
    {
     "name": "stdout",
     "output_type": "stream",
     "text": [
      "22/11/21 10:53:51 WARN MemoryStore: Not enough space to cache rdd_17_107 in memory! (computed 3.9 MiB so far)\n"
     ]
    },
    {
     "name": "stderr",
     "output_type": "stream",
     "text": [
      "[Stage 61:===========================>                          (103 + 8) / 200]\r"
     ]
    },
    {
     "name": "stdout",
     "output_type": "stream",
     "text": [
      "22/11/21 10:53:52 WARN MemoryStore: Not enough space to cache rdd_17_110 in memory! (computed 3.9 MiB so far)\n"
     ]
    },
    {
     "name": "stderr",
     "output_type": "stream",
     "text": [
      "[Stage 61:============================>                         (104 + 8) / 200]\r"
     ]
    },
    {
     "name": "stdout",
     "output_type": "stream",
     "text": [
      "22/11/21 10:53:53 WARN MemoryStore: Not enough space to cache rdd_17_114 in memory! (computed 3.9 MiB so far)\n",
      "22/11/21 10:53:53 WARN MemoryStore: Not enough space to cache rdd_17_115 in memory! (computed 3.9 MiB so far)\n"
     ]
    },
    {
     "name": "stderr",
     "output_type": "stream",
     "text": [
      "[Stage 61:=============================>                        (108 + 8) / 200]\r"
     ]
    },
    {
     "name": "stdout",
     "output_type": "stream",
     "text": [
      "22/11/21 10:53:53 WARN MemoryStore: Not enough space to cache rdd_17_118 in memory! (computed 3.9 MiB so far)\n",
      "22/11/21 10:53:54 WARN MemoryStore: Not enough space to cache rdd_17_119 in memory! (computed 3.9 MiB so far)\n"
     ]
    },
    {
     "name": "stderr",
     "output_type": "stream",
     "text": [
      "[Stage 61:===============================>                      (116 + 8) / 200]\r"
     ]
    },
    {
     "name": "stdout",
     "output_type": "stream",
     "text": [
      "22/11/21 10:53:55 WARN MemoryStore: Not enough space to cache rdd_17_122 in memory! (computed 3.9 MiB so far)\n",
      "22/11/21 10:53:55 WARN MemoryStore: Not enough space to cache rdd_17_123 in memory! (computed 3.9 MiB so far)\n"
     ]
    },
    {
     "name": "stderr",
     "output_type": "stream",
     "text": [
      "[Stage 61:===============================>                      (118 + 8) / 200]\r"
     ]
    },
    {
     "name": "stdout",
     "output_type": "stream",
     "text": [
      "22/11/21 10:53:55 WARN MemoryStore: Not enough space to cache rdd_17_126 in memory! (computed 3.9 MiB so far)\n",
      "22/11/21 10:53:55 WARN MemoryStore: Not enough space to cache rdd_17_127 in memory! (computed 3.9 MiB so far)\n"
     ]
    },
    {
     "name": "stderr",
     "output_type": "stream",
     "text": [
      "[Stage 61:================================>                     (122 + 8) / 200]\r"
     ]
    },
    {
     "name": "stdout",
     "output_type": "stream",
     "text": [
      "22/11/21 10:53:57 WARN MemoryStore: Not enough space to cache rdd_17_130 in memory! (computed 3.9 MiB so far)\n",
      "22/11/21 10:53:57 WARN MemoryStore: Not enough space to cache rdd_17_131 in memory! (computed 3.9 MiB so far)\n"
     ]
    },
    {
     "name": "stderr",
     "output_type": "stream",
     "text": [
      "[Stage 61:==================================>                   (128 + 8) / 200]\r"
     ]
    },
    {
     "name": "stdout",
     "output_type": "stream",
     "text": [
      "22/11/21 10:53:57 WARN MemoryStore: Not enough space to cache rdd_17_135 in memory! (computed 3.9 MiB so far)\n",
      "22/11/21 10:53:58 WARN MemoryStore: Not enough space to cache rdd_17_138 in memory! (computed 3.9 MiB so far)\n",
      "22/11/21 10:53:58 WARN MemoryStore: Not enough space to cache rdd_17_139 in memory! (computed 3.9 MiB so far)\n"
     ]
    },
    {
     "name": "stderr",
     "output_type": "stream",
     "text": [
      "[Stage 61:===================================>                  (132 + 8) / 200]\r"
     ]
    },
    {
     "name": "stdout",
     "output_type": "stream",
     "text": [
      "22/11/21 10:53:59 WARN MemoryStore: Not enough space to cache rdd_17_141 in memory! (computed 3.9 MiB so far)\n"
     ]
    },
    {
     "name": "stderr",
     "output_type": "stream",
     "text": [
      "[Stage 61:====================================>                 (135 + 8) / 200]\r"
     ]
    },
    {
     "name": "stdout",
     "output_type": "stream",
     "text": [
      "22/11/21 10:53:59 WARN MemoryStore: Not enough space to cache rdd_17_143 in memory! (computed 3.9 MiB so far)\n"
     ]
    },
    {
     "name": "stderr",
     "output_type": "stream",
     "text": [
      "[Stage 61:====================================>                 (137 + 8) / 200]\r"
     ]
    },
    {
     "name": "stdout",
     "output_type": "stream",
     "text": [
      "22/11/21 10:54:00 WARN MemoryStore: Not enough space to cache rdd_17_146 in memory! (computed 3.9 MiB so far)\n",
      "22/11/21 10:54:00 WARN MemoryStore: Not enough space to cache rdd_17_147 in memory! (computed 3.9 MiB so far)\n"
     ]
    },
    {
     "name": "stderr",
     "output_type": "stream",
     "text": [
      "[Stage 61:=====================================>                (140 + 8) / 200]\r"
     ]
    },
    {
     "name": "stdout",
     "output_type": "stream",
     "text": [
      "22/11/21 10:54:00 WARN MemoryStore: Not enough space to cache rdd_17_149 in memory! (computed 3.9 MiB so far)\n"
     ]
    },
    {
     "name": "stderr",
     "output_type": "stream",
     "text": [
      "[Stage 61:======================================>               (144 + 8) / 200]\r"
     ]
    },
    {
     "name": "stdout",
     "output_type": "stream",
     "text": [
      "22/11/21 10:54:01 WARN MemoryStore: Not enough space to cache rdd_17_151 in memory! (computed 3.9 MiB so far)\n",
      "22/11/21 10:54:02 WARN MemoryStore: Not enough space to cache rdd_17_154 in memory! (computed 3.9 MiB so far)\n",
      "22/11/21 10:54:02 WARN MemoryStore: Not enough space to cache rdd_17_155 in memory! (computed 3.9 MiB so far)\n"
     ]
    },
    {
     "name": "stderr",
     "output_type": "stream",
     "text": [
      "[Stage 61:========================================>             (149 + 8) / 200]\r"
     ]
    },
    {
     "name": "stdout",
     "output_type": "stream",
     "text": [
      "22/11/21 10:54:02 WARN MemoryStore: Not enough space to cache rdd_17_158 in memory! (computed 3.9 MiB so far)\n",
      "22/11/21 10:54:02 WARN MemoryStore: Not enough space to cache rdd_17_159 in memory! (computed 3.9 MiB so far)\n"
     ]
    },
    {
     "name": "stderr",
     "output_type": "stream",
     "text": [
      "[Stage 61:==========================================>           (156 + 8) / 200]\r"
     ]
    },
    {
     "name": "stdout",
     "output_type": "stream",
     "text": [
      "22/11/21 10:54:04 WARN MemoryStore: Not enough space to cache rdd_17_162 in memory! (computed 3.9 MiB so far)\n",
      "22/11/21 10:54:04 WARN MemoryStore: Not enough space to cache rdd_17_163 in memory! (computed 3.9 MiB so far)\n",
      "22/11/21 10:54:04 WARN MemoryStore: Not enough space to cache rdd_17_166 in memory! (computed 3.9 MiB so far)\n",
      "22/11/21 10:54:04 WARN MemoryStore: Not enough space to cache rdd_17_167 in memory! (computed 3.9 MiB so far)\n"
     ]
    },
    {
     "name": "stderr",
     "output_type": "stream",
     "text": [
      "[Stage 61:============================================>         (164 + 8) / 200]\r"
     ]
    },
    {
     "name": "stdout",
     "output_type": "stream",
     "text": [
      "22/11/21 10:54:05 WARN MemoryStore: Not enough space to cache rdd_17_171 in memory! (computed 3.9 MiB so far)\n"
     ]
    },
    {
     "name": "stderr",
     "output_type": "stream",
     "text": [
      "[Stage 61:=============================================>        (168 + 8) / 200]\r"
     ]
    },
    {
     "name": "stdout",
     "output_type": "stream",
     "text": [
      "22/11/21 10:54:06 WARN MemoryStore: Not enough space to cache rdd_17_174 in memory! (computed 3.9 MiB so far)\n",
      "22/11/21 10:54:06 WARN MemoryStore: Not enough space to cache rdd_17_175 in memory! (computed 3.9 MiB so far)\n",
      "22/11/21 10:54:07 WARN MemoryStore: Not enough space to cache rdd_17_179 in memory! (computed 3.9 MiB so far)\n"
     ]
    },
    {
     "name": "stderr",
     "output_type": "stream",
     "text": [
      "[Stage 61:==============================================>       (172 + 8) / 200]\r"
     ]
    },
    {
     "name": "stdout",
     "output_type": "stream",
     "text": [
      "22/11/21 10:54:07 WARN MemoryStore: Not enough space to cache rdd_17_181 in memory! (computed 3.9 MiB so far)\n"
     ]
    },
    {
     "name": "stderr",
     "output_type": "stream",
     "text": [
      "[Stage 61:==============================================>       (174 + 8) / 200]\r"
     ]
    },
    {
     "name": "stdout",
     "output_type": "stream",
     "text": [
      "22/11/21 10:54:08 WARN MemoryStore: Not enough space to cache rdd_17_183 in memory! (computed 3.9 MiB so far)\n"
     ]
    },
    {
     "name": "stderr",
     "output_type": "stream",
     "text": [
      "[Stage 61:================================================>     (180 + 8) / 200]\r"
     ]
    },
    {
     "name": "stdout",
     "output_type": "stream",
     "text": [
      "22/11/21 10:54:09 WARN MemoryStore: Not enough space to cache rdd_17_186 in memory! (computed 3.9 MiB so far)\n",
      "22/11/21 10:54:09 WARN MemoryStore: Not enough space to cache rdd_17_187 in memory! (computed 3.9 MiB so far)\n"
     ]
    },
    {
     "name": "stderr",
     "output_type": "stream",
     "text": [
      "[Stage 61:================================================>     (181 + 8) / 200]\r"
     ]
    },
    {
     "name": "stdout",
     "output_type": "stream",
     "text": [
      "22/11/21 10:54:09 WARN MemoryStore: Not enough space to cache rdd_17_189 in memory! (computed 3.9 MiB so far)\n"
     ]
    },
    {
     "name": "stderr",
     "output_type": "stream",
     "text": [
      "[Stage 61:=================================================>    (185 + 8) / 200]\r"
     ]
    },
    {
     "name": "stdout",
     "output_type": "stream",
     "text": [
      "22/11/21 10:54:11 WARN MemoryStore: Not enough space to cache rdd_17_193 in memory! (computed 3.9 MiB so far)\n",
      "22/11/21 10:54:11 WARN MemoryStore: Not enough space to cache rdd_17_195 in memory! (computed 3.9 MiB so far)\n"
     ]
    },
    {
     "name": "stderr",
     "output_type": "stream",
     "text": [
      "[Stage 61:===================================================>  (190 + 8) / 200]\r"
     ]
    },
    {
     "name": "stdout",
     "output_type": "stream",
     "text": [
      "22/11/21 10:54:11 WARN MemoryStore: Not enough space to cache rdd_17_198 in memory! (computed 3.9 MiB so far)\n"
     ]
    },
    {
     "name": "stderr",
     "output_type": "stream",
     "text": [
      "[Stage 61:=====================================================>(199 + 1) / 200]\r"
     ]
    },
    {
     "name": "stdout",
     "output_type": "stream",
     "text": [
      "22/11/21 10:54:13 WARN RowBasedKeyValueBatch: Calling spill() on RowBasedKeyValueBatch. Will not spill but return 0.\n",
      "22/11/21 10:54:13 WARN RowBasedKeyValueBatch: Calling spill() on RowBasedKeyValueBatch. Will not spill but return 0.\n",
      "22/11/21 10:54:13 WARN RowBasedKeyValueBatch: Calling spill() on RowBasedKeyValueBatch. Will not spill but return 0.\n",
      "22/11/21 10:54:13 WARN RowBasedKeyValueBatch: Calling spill() on RowBasedKeyValueBatch. Will not spill but return 0.\n",
      "22/11/21 10:54:13 WARN RowBasedKeyValueBatch: Calling spill() on RowBasedKeyValueBatch. Will not spill but return 0.\n",
      "22/11/21 10:54:13 WARN RowBasedKeyValueBatch: Calling spill() on RowBasedKeyValueBatch. Will not spill but return 0.\n",
      "22/11/21 10:54:13 WARN RowBasedKeyValueBatch: Calling spill() on RowBasedKeyValueBatch. Will not spill but return 0.\n",
      "22/11/21 10:54:13 WARN RowBasedKeyValueBatch: Calling spill() on RowBasedKeyValueBatch. Will not spill but return 0.\n",
      "22/11/21 10:54:13 WARN RowBasedKeyValueBatch: Calling spill() on RowBasedKeyValueBatch. Will not spill but return 0.\n",
      "22/11/21 10:54:13 WARN RowBasedKeyValueBatch: Calling spill() on RowBasedKeyValueBatch. Will not spill but return 0.\n",
      "22/11/21 10:54:13 WARN RowBasedKeyValueBatch: Calling spill() on RowBasedKeyValueBatch. Will not spill but return 0.\n",
      "22/11/21 10:54:13 WARN RowBasedKeyValueBatch: Calling spill() on RowBasedKeyValueBatch. Will not spill but return 0.\n",
      "22/11/21 10:54:13 WARN RowBasedKeyValueBatch: Calling spill() on RowBasedKeyValueBatch. Will not spill but return 0.\n",
      "22/11/21 10:54:13 WARN RowBasedKeyValueBatch: Calling spill() on RowBasedKeyValueBatch. Will not spill but return 0.\n",
      "22/11/21 10:54:13 WARN RowBasedKeyValueBatch: Calling spill() on RowBasedKeyValueBatch. Will not spill but return 0.\n",
      "22/11/21 10:54:13 WARN RowBasedKeyValueBatch: Calling spill() on RowBasedKeyValueBatch. Will not spill but return 0.\n",
      "22/11/21 10:54:13 WARN RowBasedKeyValueBatch: Calling spill() on RowBasedKeyValueBatch. Will not spill but return 0.\n",
      "22/11/21 10:54:13 WARN RowBasedKeyValueBatch: Calling spill() on RowBasedKeyValueBatch. Will not spill but return 0.\n",
      "22/11/21 10:54:13 WARN RowBasedKeyValueBatch: Calling spill() on RowBasedKeyValueBatch. Will not spill but return 0.\n"
     ]
    },
    {
     "name": "stderr",
     "output_type": "stream",
     "text": [
      "                                                                                \r"
     ]
    }
   ],
   "source": [
    "freq_month = freq_month.toPandas()"
   ]
  },
  {
   "cell_type": "code",
   "execution_count": 66,
   "id": "7f263963",
   "metadata": {},
   "outputs": [
    {
     "data": {
      "text/plain": [
       "<AxesSubplot:xlabel='month'>"
      ]
     },
     "execution_count": 66,
     "metadata": {},
     "output_type": "execute_result"
    },
    {
     "data": {
      "image/png": "[encoded data removed]",
      "text/plain": [
       "<Figure size 432x288 with 1 Axes>"
      ]
     },
     "metadata": {
      "needs_background": "light"
     },
     "output_type": "display_data"
    }
   ],
   "source": [
    "freq_month.plot.bar(x='month', y='freq') "
   ]
  },
  {
   "cell_type": "markdown",
   "id": "26b5f47d",
   "metadata": {},
   "source": [
    "Look at the frequency of tweets per week."
   ]
  },
  {
   "cell_type": "code",
   "execution_count": 68,
   "id": "e25a497b",
   "metadata": {},
   "outputs": [],
   "source": [
    "freq_week = df.withColumn('week', weekofyear('post_created_at'))"
   ]
  },
  {
   "cell_type": "code",
   "execution_count": 69,
   "id": "d07fe7e6",
   "metadata": {},
   "outputs": [],
   "source": [
    "freq_week = freq_week.groupBy(\"week\") \\\n",
    "                        .agg(countDistinct(\"full_text\")) \\\n",
    "                        .withColumnRenamed(\"count(full_text)\", \"freq\") \\\n",
    "                        .sort(\"week\", ascending = True)"
   ]
  },
  {
   "cell_type": "code",
   "execution_count": 72,
   "id": "447311fa",
   "metadata": {},
   "outputs": [
    {
     "name": "stderr",
     "output_type": "stream",
     "text": [
      "[Stage 79:===========>                                           (40 + 8) / 200]\r"
     ]
    },
    {
     "name": "stdout",
     "output_type": "stream",
     "text": [
      "22/11/21 11:03:57 WARN MemoryStore: Not enough space to cache rdd_17_47 in memory! (computed 3.9 MiB so far)\n"
     ]
    },
    {
     "name": "stderr",
     "output_type": "stream",
     "text": [
      "[Stage 79:===========>                                           (41 + 8) / 200]\r"
     ]
    },
    {
     "name": "stdout",
     "output_type": "stream",
     "text": [
      "22/11/21 11:03:59 WARN MemoryStore: Not enough space to cache rdd_17_50 in memory! (computed 3.9 MiB so far)\n"
     ]
    },
    {
     "name": "stderr",
     "output_type": "stream",
     "text": [
      "[Stage 79:=============>                                         (48 + 8) / 200]\r"
     ]
    },
    {
     "name": "stdout",
     "output_type": "stream",
     "text": [
      "22/11/21 11:03:59 WARN MemoryStore: Failed to reserve initial memory threshold of 1024.0 KiB for computing block rdd_17_55 in memory.\n",
      "22/11/21 11:03:59 WARN MemoryStore: Not enough space to cache rdd_17_55 in memory! (computed 384.0 B so far)\n",
      "22/11/21 11:04:01 WARN MemoryStore: Not enough space to cache rdd_17_58 in memory! (computed 3.9 MiB so far)\n"
     ]
    },
    {
     "name": "stderr",
     "output_type": "stream",
     "text": [
      "[Stage 79:===============>                                       (56 + 8) / 200]\r"
     ]
    },
    {
     "name": "stdout",
     "output_type": "stream",
     "text": [
      "22/11/21 11:04:01 WARN MemoryStore: Not enough space to cache rdd_17_62 in memory! (computed 3.9 MiB so far)\n",
      "22/11/21 11:04:01 WARN MemoryStore: Not enough space to cache rdd_17_63 in memory! (computed 3.9 MiB so far)\n"
     ]
    },
    {
     "name": "stderr",
     "output_type": "stream",
     "text": [
      "[Stage 79:================>                                      (61 + 8) / 200]\r"
     ]
    },
    {
     "name": "stdout",
     "output_type": "stream",
     "text": [
      "22/11/21 11:04:03 WARN MemoryStore: Not enough space to cache rdd_17_70 in memory! (computed 3.9 MiB so far)\n",
      "22/11/21 11:04:03 WARN MemoryStore: Not enough space to cache rdd_17_71 in memory! (computed 3.9 MiB so far)\n"
     ]
    },
    {
     "name": "stderr",
     "output_type": "stream",
     "text": [
      "[Stage 79:==================>                                    (66 + 8) / 200]\r"
     ]
    },
    {
     "name": "stdout",
     "output_type": "stream",
     "text": [
      "22/11/21 11:04:04 WARN MemoryStore: Not enough space to cache rdd_17_75 in memory! (computed 3.9 MiB so far)\n"
     ]
    },
    {
     "name": "stderr",
     "output_type": "stream",
     "text": [
      "[Stage 79:===================>                                   (72 + 8) / 200]\r"
     ]
    },
    {
     "name": "stdout",
     "output_type": "stream",
     "text": [
      "22/11/21 11:04:04 WARN MemoryStore: Failed to reserve initial memory threshold of 1024.0 KiB for computing block rdd_17_79 in memory.\n",
      "22/11/21 11:04:04 WARN MemoryStore: Not enough space to cache rdd_17_79 in memory! (computed 384.0 B so far)\n",
      "22/11/21 11:04:06 WARN MemoryStore: Not enough space to cache rdd_17_82 in memory! (computed 3.9 MiB so far)\n"
     ]
    },
    {
     "name": "stderr",
     "output_type": "stream",
     "text": [
      "[Stage 79:======================>                                (80 + 8) / 200]\r"
     ]
    },
    {
     "name": "stdout",
     "output_type": "stream",
     "text": [
      "22/11/21 11:04:06 WARN MemoryStore: Not enough space to cache rdd_17_85 in memory! (computed 3.9 MiB so far)\n",
      "22/11/21 11:04:06 WARN MemoryStore: Not enough space to cache rdd_17_86 in memory! (computed 3.9 MiB so far)\n"
     ]
    },
    {
     "name": "stderr",
     "output_type": "stream",
     "text": [
      "[Stage 79:======================>                                (81 + 8) / 200]\r"
     ]
    },
    {
     "name": "stdout",
     "output_type": "stream",
     "text": [
      "22/11/21 11:04:08 WARN MemoryStore: Not enough space to cache rdd_17_90 in memory! (computed 3.9 MiB so far)\n"
     ]
    },
    {
     "name": "stderr",
     "output_type": "stream",
     "text": [
      "[Stage 79:=======================>                               (87 + 8) / 200]\r"
     ]
    },
    {
     "name": "stdout",
     "output_type": "stream",
     "text": [
      "22/11/21 11:04:08 WARN MemoryStore: Not enough space to cache rdd_17_93 in memory! (computed 3.9 MiB so far)\n",
      "22/11/21 11:04:08 WARN MemoryStore: Not enough space to cache rdd_17_94 in memory! (computed 3.9 MiB so far)\n"
     ]
    },
    {
     "name": "stderr",
     "output_type": "stream",
     "text": [
      "[Stage 79:========================>                              (89 + 8) / 200]\r"
     ]
    },
    {
     "name": "stdout",
     "output_type": "stream",
     "text": [
      "22/11/21 11:04:09 WARN MemoryStore: Not enough space to cache rdd_17_97 in memory! (computed 3.9 MiB so far)\n"
     ]
    },
    {
     "name": "stderr",
     "output_type": "stream",
     "text": [
      "[Stage 79:==========================>                            (96 + 8) / 200]\r"
     ]
    },
    {
     "name": "stdout",
     "output_type": "stream",
     "text": [
      "22/11/21 11:04:10 WARN MemoryStore: Not enough space to cache rdd_17_103 in memory! (computed 3.9 MiB so far)\n"
     ]
    },
    {
     "name": "stderr",
     "output_type": "stream",
     "text": [
      "[Stage 79:==========================>                            (98 + 8) / 200]\r"
     ]
    },
    {
     "name": "stdout",
     "output_type": "stream",
     "text": [
      "22/11/21 11:04:11 WARN MemoryStore: Not enough space to cache rdd_17_106 in memory! (computed 3.9 MiB so far)\n"
     ]
    },
    {
     "name": "stderr",
     "output_type": "stream",
     "text": [
      "[Stage 79:============================>                         (104 + 8) / 200]\r"
     ]
    },
    {
     "name": "stdout",
     "output_type": "stream",
     "text": [
      "22/11/21 11:04:12 WARN MemoryStore: Not enough space to cache rdd_17_110 in memory! (computed 3.9 MiB so far)\n",
      "22/11/21 11:04:12 WARN MemoryStore: Not enough space to cache rdd_17_111 in memory! (computed 3.9 MiB so far)\n",
      "22/11/21 11:04:13 WARN MemoryStore: Not enough space to cache rdd_17_113 in memory! (computed 3.9 MiB so far)\n"
     ]
    },
    {
     "name": "stderr",
     "output_type": "stream",
     "text": [
      "[Stage 79:=============================>                        (108 + 8) / 200]\r"
     ]
    },
    {
     "name": "stdout",
     "output_type": "stream",
     "text": [
      "22/11/21 11:04:13 WARN MemoryStore: Not enough space to cache rdd_17_116 in memory! (computed 3.9 MiB so far)\n",
      "22/11/21 11:04:13 WARN MemoryStore: Not enough space to cache rdd_17_119 in memory! (computed 3.9 MiB so far)\n"
     ]
    },
    {
     "name": "stderr",
     "output_type": "stream",
     "text": [
      "[Stage 79:===============================>                      (115 + 8) / 200]\r"
     ]
    },
    {
     "name": "stdout",
     "output_type": "stream",
     "text": [
      "22/11/21 11:04:15 WARN MemoryStore: Not enough space to cache rdd_17_122 in memory! (computed 3.9 MiB so far)\n",
      "22/11/21 11:04:15 WARN MemoryStore: Not enough space to cache rdd_17_125 in memory! (computed 3.9 MiB so far)\n",
      "22/11/21 11:04:15 WARN MemoryStore: Not enough space to cache rdd_17_126 in memory! (computed 3.9 MiB so far)\n",
      "22/11/21 11:04:15 WARN MemoryStore: Not enough space to cache rdd_17_127 in memory! (computed 3.9 MiB so far)\n"
     ]
    },
    {
     "name": "stderr",
     "output_type": "stream",
     "text": [
      "[Stage 79:================================>                     (120 + 8) / 200]\r"
     ]
    },
    {
     "name": "stdout",
     "output_type": "stream",
     "text": [
      "22/11/21 11:04:16 WARN MemoryStore: Not enough space to cache rdd_17_130 in memory! (computed 3.9 MiB so far)\n"
     ]
    },
    {
     "name": "stderr",
     "output_type": "stream",
     "text": [
      "[Stage 79:==================================>                   (128 + 8) / 200]\r"
     ]
    },
    {
     "name": "stdout",
     "output_type": "stream",
     "text": [
      "22/11/21 11:04:17 WARN MemoryStore: Not enough space to cache rdd_17_134 in memory! (computed 3.9 MiB so far)\n",
      "22/11/21 11:04:17 WARN MemoryStore: Not enough space to cache rdd_17_135 in memory! (computed 3.9 MiB so far)\n",
      "22/11/21 11:04:18 WARN MemoryStore: Not enough space to cache rdd_17_138 in memory! (computed 3.9 MiB so far)\n"
     ]
    },
    {
     "name": "stderr",
     "output_type": "stream",
     "text": [
      "[Stage 79:===================================>                  (132 + 8) / 200]\r"
     ]
    },
    {
     "name": "stdout",
     "output_type": "stream",
     "text": [
      "22/11/21 11:04:19 WARN MemoryStore: Not enough space to cache rdd_17_142 in memory! (computed 3.9 MiB so far)\n"
     ]
    },
    {
     "name": "stderr",
     "output_type": "stream",
     "text": [
      "[Stage 79:====================================>                 (137 + 8) / 200]\r"
     ]
    },
    {
     "name": "stdout",
     "output_type": "stream",
     "text": [
      "22/11/21 11:04:20 WARN MemoryStore: Not enough space to cache rdd_17_146 in memory! (computed 3.9 MiB so far)\n"
     ]
    },
    {
     "name": "stderr",
     "output_type": "stream",
     "text": [
      "[Stage 79:======================================>               (144 + 8) / 200]\r"
     ]
    },
    {
     "name": "stdout",
     "output_type": "stream",
     "text": [
      "22/11/21 11:04:21 WARN MemoryStore: Not enough space to cache rdd_17_150 in memory! (computed 3.9 MiB so far)\n",
      "22/11/21 11:04:21 WARN MemoryStore: Not enough space to cache rdd_17_151 in memory! (computed 3.9 MiB so far)\n",
      "22/11/21 11:04:22 WARN MemoryStore: Not enough space to cache rdd_17_153 in memory! (computed 3.9 MiB so far)\n"
     ]
    },
    {
     "name": "stderr",
     "output_type": "stream",
     "text": [
      "[Stage 79:=======================================>              (147 + 8) / 200]\r"
     ]
    },
    {
     "name": "stdout",
     "output_type": "stream",
     "text": [
      "22/11/21 11:04:22 WARN MemoryStore: Not enough space to cache rdd_17_155 in memory! (computed 3.9 MiB so far)\n",
      "22/11/21 11:04:22 WARN MemoryStore: Not enough space to cache rdd_17_157 in memory! (computed 3.9 MiB so far)\n"
     ]
    },
    {
     "name": "stderr",
     "output_type": "stream",
     "text": [
      "[Stage 79:=========================================>            (152 + 8) / 200]\r"
     ]
    },
    {
     "name": "stdout",
     "output_type": "stream",
     "text": [
      "22/11/21 11:04:22 WARN MemoryStore: Not enough space to cache rdd_17_159 in memory! (computed 3.9 MiB so far)\n"
     ]
    },
    {
     "name": "stderr",
     "output_type": "stream",
     "text": [
      "[Stage 79:=========================================>            (155 + 8) / 200]\r"
     ]
    },
    {
     "name": "stdout",
     "output_type": "stream",
     "text": [
      "22/11/21 11:04:24 WARN MemoryStore: Not enough space to cache rdd_17_162 in memory! (computed 3.9 MiB so far)\n"
     ]
    },
    {
     "name": "stderr",
     "output_type": "stream",
     "text": [
      "[Stage 79:==========================================>           (157 + 8) / 200]\r"
     ]
    },
    {
     "name": "stdout",
     "output_type": "stream",
     "text": [
      "22/11/21 11:04:24 WARN MemoryStore: Not enough space to cache rdd_17_167 in memory! (computed 3.9 MiB so far)\n"
     ]
    },
    {
     "name": "stderr",
     "output_type": "stream",
     "text": [
      "[Stage 79:===========================================>          (161 + 8) / 200]\r"
     ]
    },
    {
     "name": "stdout",
     "output_type": "stream",
     "text": [
      "22/11/21 11:04:25 WARN MemoryStore: Not enough space to cache rdd_17_170 in memory! (computed 3.9 MiB so far)\n",
      "22/11/21 11:04:25 WARN MemoryStore: Not enough space to cache rdd_17_171 in memory! (computed 3.9 MiB so far)\n"
     ]
    },
    {
     "name": "stderr",
     "output_type": "stream",
     "text": [
      "[Stage 79:============================================>         (165 + 8) / 200]\r"
     ]
    },
    {
     "name": "stdout",
     "output_type": "stream",
     "text": [
      "22/11/21 11:04:26 WARN MemoryStore: Not enough space to cache rdd_17_175 in memory! (computed 3.9 MiB so far)\n"
     ]
    },
    {
     "name": "stderr",
     "output_type": "stream",
     "text": [
      "[Stage 79:=============================================>        (169 + 8) / 200]\r"
     ]
    },
    {
     "name": "stdout",
     "output_type": "stream",
     "text": [
      "22/11/21 11:04:27 WARN MemoryStore: Not enough space to cache rdd_17_177 in memory! (computed 3.9 MiB so far)\n",
      "22/11/21 11:04:27 WARN MemoryStore: Not enough space to cache rdd_17_179 in memory! (computed 3.9 MiB so far)\n"
     ]
    },
    {
     "name": "stderr",
     "output_type": "stream",
     "text": [
      "[Stage 79:==============================================>       (172 + 8) / 200]\r"
     ]
    },
    {
     "name": "stdout",
     "output_type": "stream",
     "text": [
      "22/11/21 11:04:28 WARN MemoryStore: Not enough space to cache rdd_17_182 in memory! (computed 3.9 MiB so far)\n",
      "22/11/21 11:04:28 WARN MemoryStore: Not enough space to cache rdd_17_183 in memory! (computed 3.9 MiB so far)\n"
     ]
    },
    {
     "name": "stderr",
     "output_type": "stream",
     "text": [
      "[Stage 79:===============================================>      (177 + 8) / 200]\r"
     ]
    },
    {
     "name": "stdout",
     "output_type": "stream",
     "text": [
      "22/11/21 11:04:29 WARN MemoryStore: Not enough space to cache rdd_17_186 in memory! (computed 3.9 MiB so far)\n",
      "22/11/21 11:04:29 WARN MemoryStore: Not enough space to cache rdd_17_187 in memory! (computed 3.9 MiB so far)\n"
     ]
    },
    {
     "name": "stderr",
     "output_type": "stream",
     "text": [
      "[Stage 79:================================================>     (180 + 8) / 200]\r"
     ]
    },
    {
     "name": "stdout",
     "output_type": "stream",
     "text": [
      "22/11/21 11:04:29 WARN MemoryStore: Not enough space to cache rdd_17_189 in memory! (computed 3.9 MiB so far)\n",
      "22/11/21 11:04:29 WARN MemoryStore: Not enough space to cache rdd_17_191 in memory! (computed 3.9 MiB so far)\n"
     ]
    },
    {
     "name": "stderr",
     "output_type": "stream",
     "text": [
      "[Stage 79:=================================================>    (185 + 8) / 200]\r"
     ]
    },
    {
     "name": "stdout",
     "output_type": "stream",
     "text": [
      "22/11/21 11:04:31 WARN MemoryStore: Not enough space to cache rdd_17_194 in memory! (computed 3.9 MiB so far)\n",
      "22/11/21 11:04:31 WARN MemoryStore: Not enough space to cache rdd_17_195 in memory! (computed 3.9 MiB so far)\n"
     ]
    },
    {
     "name": "stderr",
     "output_type": "stream",
     "text": [
      "[Stage 79:==================================================>   (188 + 8) / 200]\r"
     ]
    },
    {
     "name": "stdout",
     "output_type": "stream",
     "text": [
      "22/11/21 11:04:31 WARN MemoryStore: Not enough space to cache rdd_17_198 in memory! (computed 3.9 MiB so far)\n"
     ]
    },
    {
     "name": "stderr",
     "output_type": "stream",
     "text": [
      "[Stage 79:=====================================================>(199 + 1) / 200]\r"
     ]
    },
    {
     "name": "stdout",
     "output_type": "stream",
     "text": [
      "22/11/21 11:04:33 WARN RowBasedKeyValueBatch: Calling spill() on RowBasedKeyValueBatch. Will not spill but return 0.\n",
      "22/11/21 11:04:33 WARN RowBasedKeyValueBatch: Calling spill() on RowBasedKeyValueBatch. Will not spill but return 0.\n",
      "22/11/21 11:04:33 WARN RowBasedKeyValueBatch: Calling spill() on RowBasedKeyValueBatch. Will not spill but return 0.\n",
      "22/11/21 11:04:33 WARN RowBasedKeyValueBatch: Calling spill() on RowBasedKeyValueBatch. Will not spill but return 0.\n",
      "22/11/21 11:04:33 WARN RowBasedKeyValueBatch: Calling spill() on RowBasedKeyValueBatch. Will not spill but return 0.\n",
      "22/11/21 11:04:33 WARN RowBasedKeyValueBatch: Calling spill() on RowBasedKeyValueBatch. Will not spill but return 0.\n",
      "22/11/21 11:04:33 WARN RowBasedKeyValueBatch: Calling spill() on RowBasedKeyValueBatch. Will not spill but return 0.\n",
      "22/11/21 11:04:33 WARN RowBasedKeyValueBatch: Calling spill() on RowBasedKeyValueBatch. Will not spill but return 0.\n",
      "22/11/21 11:04:33 WARN RowBasedKeyValueBatch: Calling spill() on RowBasedKeyValueBatch. Will not spill but return 0.\n",
      "22/11/21 11:04:33 WARN RowBasedKeyValueBatch: Calling spill() on RowBasedKeyValueBatch. Will not spill but return 0.\n",
      "22/11/21 11:04:33 WARN RowBasedKeyValueBatch: Calling spill() on RowBasedKeyValueBatch. Will not spill but return 0.\n",
      "22/11/21 11:04:33 WARN RowBasedKeyValueBatch: Calling spill() on RowBasedKeyValueBatch. Will not spill but return 0.\n",
      "22/11/21 11:04:33 WARN RowBasedKeyValueBatch: Calling spill() on RowBasedKeyValueBatch. Will not spill but return 0.\n",
      "22/11/21 11:04:33 WARN RowBasedKeyValueBatch: Calling spill() on RowBasedKeyValueBatch. Will not spill but return 0.\n",
      "22/11/21 11:04:33 WARN RowBasedKeyValueBatch: Calling spill() on RowBasedKeyValueBatch. Will not spill but return 0.\n",
      "22/11/21 11:04:33 WARN RowBasedKeyValueBatch: Calling spill() on RowBasedKeyValueBatch. Will not spill but return 0.\n",
      "22/11/21 11:04:33 WARN RowBasedKeyValueBatch: Calling spill() on RowBasedKeyValueBatch. Will not spill but return 0.\n",
      "22/11/21 11:04:33 WARN RowBasedKeyValueBatch: Calling spill() on RowBasedKeyValueBatch. Will not spill but return 0.\n"
     ]
    },
    {
     "name": "stderr",
     "output_type": "stream",
     "text": [
      "                                                                                \r"
     ]
    }
   ],
   "source": [
    "freq_week = freq_week.toPandas()"
   ]
  },
  {
   "cell_type": "code",
   "execution_count": 74,
   "id": "dec3f017",
   "metadata": {},
   "outputs": [
    {
     "data": {
      "image/png": "[encoded data removed]",
      "text/plain": [
       "<Figure size 432x288 with 1 Axes>"
      ]
     },
     "metadata": {
      "needs_background": "light"
     },
     "output_type": "display_data"
    }
   ],
   "source": [
    "freq_week.plot.line(x='week', y='freq') \n",
    "plt.show()"
   ]
  },
  {
   "cell_type": "markdown",
   "id": "1cc21078",
   "metadata": {},
   "source": [
    "# The evolution of tweet engagement "
   ]
  },
  {
   "cell_type": "code",
   "execution_count": 37,
   "id": "a1bf366e",
   "metadata": {},
   "outputs": [],
   "source": [
    "eng_weekly = df.withColumn('week', weekofyear('post_created_at'))"
   ]
  },
  {
   "cell_type": "code",
   "execution_count": 38,
   "id": "1835b989",
   "metadata": {},
   "outputs": [],
   "source": [
    "eng_weekly = eng_weekly.groupBy(\"week\") \\\n",
    "                        .agg(sum(\"retweet_count\").alias(\"retweets\"), sum(\"favorite_count\").alias(\"favorites\")) \\\n",
    "                        .sort(\"week\", ascending = True)"
   ]
  },
  {
   "cell_type": "code",
   "execution_count": 39,
   "id": "477468a9",
   "metadata": {},
   "outputs": [
    {
     "name": "stdout",
     "output_type": "stream",
     "text": [
      "22/11/21 11:44:33 WARN MemoryStore: Not enough space to cache rdd_25_7 in memory! (computed 3.8 MiB so far)\n"
     ]
    },
    {
     "name": "stderr",
     "output_type": "stream",
     "text": [
      "[Stage 23:>                                                       (0 + 8) / 200]\r"
     ]
    },
    {
     "name": "stdout",
     "output_type": "stream",
     "text": [
      "22/11/21 11:44:34 WARN MemoryStore: Not enough space to cache rdd_25_10 in memory! (computed 3.8 MiB so far)\n",
      "22/11/21 11:44:35 WARN MemoryStore: Not enough space to cache rdd_25_14 in memory! (computed 3.8 MiB so far)\n"
     ]
    },
    {
     "name": "stderr",
     "output_type": "stream",
     "text": [
      "[Stage 23:==>                                                     (8 + 8) / 200]\r"
     ]
    },
    {
     "name": "stdout",
     "output_type": "stream",
     "text": [
      "22/11/21 11:44:35 WARN MemoryStore: Not enough space to cache rdd_25_15 in memory! (computed 3.8 MiB so far)\n"
     ]
    },
    {
     "name": "stderr",
     "output_type": "stream",
     "text": [
      "[Stage 23:==>                                                     (9 + 8) / 200]\r"
     ]
    },
    {
     "name": "stdout",
     "output_type": "stream",
     "text": [
      "22/11/21 11:44:36 WARN MemoryStore: Not enough space to cache rdd_25_19 in memory! (computed 3.8 MiB so far)\n",
      "22/11/21 11:44:36 WARN MemoryStore: Not enough space to cache rdd_25_16 in memory! (computed 3.8 MiB so far)\n",
      "22/11/21 11:44:36 WARN MemoryStore: Not enough space to cache rdd_25_21 in memory! (computed 3.8 MiB so far)\n"
     ]
    },
    {
     "name": "stderr",
     "output_type": "stream",
     "text": [
      "[Stage 23:====>                                                  (16 + 8) / 200]\r"
     ]
    },
    {
     "name": "stdout",
     "output_type": "stream",
     "text": [
      "22/11/21 11:44:38 WARN MemoryStore: Not enough space to cache rdd_25_25 in memory! (computed 3.8 MiB so far)\n"
     ]
    },
    {
     "name": "stderr",
     "output_type": "stream",
     "text": [
      "[Stage 23:======>                                                (24 + 8) / 200]\r"
     ]
    },
    {
     "name": "stdout",
     "output_type": "stream",
     "text": [
      "22/11/21 11:44:40 WARN MemoryStore: Not enough space to cache rdd_25_34 in memory! (computed 3.8 MiB so far)\n",
      "22/11/21 11:44:40 WARN MemoryStore: Not enough space to cache rdd_25_35 in memory! (computed 3.8 MiB so far)\n",
      "22/11/21 11:44:40 WARN MemoryStore: Not enough space to cache rdd_25_37 in memory! (computed 3.8 MiB so far)\n"
     ]
    },
    {
     "name": "stderr",
     "output_type": "stream",
     "text": [
      "[Stage 23:=========>                                             (34 + 8) / 200]\r"
     ]
    },
    {
     "name": "stdout",
     "output_type": "stream",
     "text": [
      "22/11/21 11:44:41 WARN MemoryStore: Not enough space to cache rdd_25_42 in memory! (computed 3.8 MiB so far)\n",
      "22/11/21 11:44:41 WARN MemoryStore: Not enough space to cache rdd_25_44 in memory! (computed 3.8 MiB so far)\n"
     ]
    },
    {
     "name": "stderr",
     "output_type": "stream",
     "text": [
      "[Stage 23:==========>                                            (37 + 8) / 200]\r"
     ]
    },
    {
     "name": "stdout",
     "output_type": "stream",
     "text": [
      "22/11/21 11:44:42 WARN MemoryStore: Not enough space to cache rdd_25_46 in memory! (computed 3.8 MiB so far)\n"
     ]
    },
    {
     "name": "stderr",
     "output_type": "stream",
     "text": [
      "[Stage 23:============>                                          (45 + 8) / 200]\r"
     ]
    },
    {
     "name": "stdout",
     "output_type": "stream",
     "text": [
      "22/11/21 11:44:43 WARN MemoryStore: Not enough space to cache rdd_25_52 in memory! (computed 3.8 MiB so far)\n"
     ]
    },
    {
     "name": "stderr",
     "output_type": "stream",
     "text": [
      "[Stage 23:==============>                                        (53 + 8) / 200]\r"
     ]
    },
    {
     "name": "stdout",
     "output_type": "stream",
     "text": [
      "22/11/21 11:44:45 WARN MemoryStore: Not enough space to cache rdd_25_57 in memory! (computed 3.8 MiB so far)\n",
      "22/11/21 11:44:45 WARN MemoryStore: Not enough space to cache rdd_25_60 in memory! (computed 3.8 MiB so far)\n"
     ]
    },
    {
     "name": "stderr",
     "output_type": "stream",
     "text": [
      "[Stage 23:=================>                                     (62 + 8) / 200]\r"
     ]
    },
    {
     "name": "stdout",
     "output_type": "stream",
     "text": [
      "22/11/21 11:44:46 WARN MemoryStore: Not enough space to cache rdd_25_68 in memory! (computed 3.8 MiB so far)\n"
     ]
    },
    {
     "name": "stderr",
     "output_type": "stream",
     "text": [
      "[Stage 23:=================>                                     (63 + 8) / 200]\r"
     ]
    },
    {
     "name": "stdout",
     "output_type": "stream",
     "text": [
      "22/11/21 11:44:47 WARN MemoryStore: Not enough space to cache rdd_25_71 in memory! (computed 3.8 MiB so far)\n"
     ]
    },
    {
     "name": "stderr",
     "output_type": "stream",
     "text": [
      "[Stage 23:==================>                                    (66 + 8) / 200]\r"
     ]
    },
    {
     "name": "stdout",
     "output_type": "stream",
     "text": [
      "22/11/21 11:44:48 WARN MemoryStore: Not enough space to cache rdd_25_74 in memory! (computed 3.8 MiB so far)\n"
     ]
    },
    {
     "name": "stderr",
     "output_type": "stream",
     "text": [
      "[Stage 23:==================>                                    (68 + 8) / 200]\r"
     ]
    },
    {
     "name": "stdout",
     "output_type": "stream",
     "text": [
      "22/11/21 11:44:48 WARN MemoryStore: Not enough space to cache rdd_25_77 in memory! (computed 3.8 MiB so far)\n"
     ]
    },
    {
     "name": "stderr",
     "output_type": "stream",
     "text": [
      "[Stage 23:====================>                                  (73 + 8) / 200]\r"
     ]
    },
    {
     "name": "stdout",
     "output_type": "stream",
     "text": [
      "22/11/21 11:44:49 WARN MemoryStore: Not enough space to cache rdd_25_79 in memory! (computed 3.8 MiB so far)\n",
      "22/11/21 11:44:50 WARN MemoryStore: Not enough space to cache rdd_25_81 in memory! (computed 3.8 MiB so far)\n"
     ]
    },
    {
     "name": "stderr",
     "output_type": "stream",
     "text": [
      "[Stage 23:====================>                                  (75 + 8) / 200]\r"
     ]
    },
    {
     "name": "stdout",
     "output_type": "stream",
     "text": [
      "22/11/21 11:44:50 WARN MemoryStore: Not enough space to cache rdd_25_85 in memory! (computed 3.8 MiB so far)\n"
     ]
    },
    {
     "name": "stderr",
     "output_type": "stream",
     "text": [
      "[Stage 23:=======================>                               (84 + 8) / 200]\r"
     ]
    },
    {
     "name": "stdout",
     "output_type": "stream",
     "text": [
      "22/11/21 11:44:52 WARN MemoryStore: Not enough space to cache rdd_25_92 in memory! (computed 3.8 MiB so far)\n"
     ]
    },
    {
     "name": "stderr",
     "output_type": "stream",
     "text": [
      "[Stage 23:========================>                              (88 + 8) / 200]\r"
     ]
    },
    {
     "name": "stdout",
     "output_type": "stream",
     "text": [
      "22/11/21 11:44:53 WARN MemoryStore: Not enough space to cache rdd_25_97 in memory! (computed 3.8 MiB so far)\n"
     ]
    },
    {
     "name": "stderr",
     "output_type": "stream",
     "text": [
      "[Stage 23:=========================>                             (91 + 8) / 200]\r"
     ]
    },
    {
     "name": "stdout",
     "output_type": "stream",
     "text": [
      "22/11/21 11:44:53 WARN MemoryStore: Not enough space to cache rdd_25_100 in memory! (computed 3.8 MiB so far)\n"
     ]
    },
    {
     "name": "stderr",
     "output_type": "stream",
     "text": [
      "[Stage 23:==========================>                            (96 + 8) / 200]\r"
     ]
    },
    {
     "name": "stdout",
     "output_type": "stream",
     "text": [
      "22/11/21 11:44:55 WARN MemoryStore: Not enough space to cache rdd_25_104 in memory! (computed 3.8 MiB so far)\n"
     ]
    },
    {
     "name": "stderr",
     "output_type": "stream",
     "text": [
      "[Stage 23:============================>                         (107 + 8) / 200]\r"
     ]
    },
    {
     "name": "stdout",
     "output_type": "stream",
     "text": [
      "22/11/21 11:44:56 WARN MemoryStore: Not enough space to cache rdd_25_113 in memory! (computed 3.8 MiB so far)\n",
      "22/11/21 11:44:56 WARN MemoryStore: Not enough space to cache rdd_25_114 in memory! (computed 3.8 MiB so far)\n",
      "22/11/21 11:44:57 WARN MemoryStore: Not enough space to cache rdd_25_116 in memory! (computed 3.8 MiB so far)\n"
     ]
    },
    {
     "name": "stderr",
     "output_type": "stream",
     "text": [
      "[Stage 23:===============================>                      (117 + 8) / 200]\r"
     ]
    },
    {
     "name": "stdout",
     "output_type": "stream",
     "text": [
      "22/11/21 11:44:58 WARN MemoryStore: Not enough space to cache rdd_25_124 in memory! (computed 3.8 MiB so far)\n"
     ]
    },
    {
     "name": "stderr",
     "output_type": "stream",
     "text": [
      "[Stage 23:======================================>               (143 + 8) / 200]\r"
     ]
    },
    {
     "name": "stdout",
     "output_type": "stream",
     "text": [
      "22/11/21 11:45:04 WARN MemoryStore: Not enough space to cache rdd_25_150 in memory! (computed 3.8 MiB so far)\n"
     ]
    },
    {
     "name": "stderr",
     "output_type": "stream",
     "text": [
      "[Stage 23:=======================================>              (146 + 8) / 200]\r"
     ]
    },
    {
     "name": "stdout",
     "output_type": "stream",
     "text": [
      "22/11/21 11:45:05 WARN MemoryStore: Not enough space to cache rdd_25_155 in memory! (computed 3.8 MiB so far)\n",
      "22/11/21 11:45:05 WARN MemoryStore: Not enough space to cache rdd_25_158 in memory! (computed 3.8 MiB so far)\n"
     ]
    },
    {
     "name": "stderr",
     "output_type": "stream",
     "text": [
      "[Stage 23:=========================================>            (153 + 8) / 200]\r"
     ]
    },
    {
     "name": "stdout",
     "output_type": "stream",
     "text": [
      "22/11/21 11:45:07 WARN MemoryStore: Not enough space to cache rdd_25_163 in memory! (computed 3.8 MiB so far)\n"
     ]
    },
    {
     "name": "stderr",
     "output_type": "stream",
     "text": [
      "[Stage 23:============================================>         (163 + 8) / 200]\r"
     ]
    },
    {
     "name": "stdout",
     "output_type": "stream",
     "text": [
      "22/11/21 11:45:09 WARN MemoryStore: Not enough space to cache rdd_25_172 in memory! (computed 3.8 MiB so far)\n",
      "22/11/21 11:45:09 WARN MemoryStore: Not enough space to cache rdd_25_174 in memory! (computed 3.8 MiB so far)\n"
     ]
    },
    {
     "name": "stderr",
     "output_type": "stream",
     "text": [
      "[Stage 23:==============================================>       (174 + 8) / 200]\r"
     ]
    },
    {
     "name": "stdout",
     "output_type": "stream",
     "text": [
      "22/11/21 11:45:10 WARN MemoryStore: Not enough space to cache rdd_25_180 in memory! (computed 3.8 MiB so far)\n"
     ]
    },
    {
     "name": "stderr",
     "output_type": "stream",
     "text": [
      "[Stage 23:================================================>     (180 + 8) / 200]\r"
     ]
    },
    {
     "name": "stdout",
     "output_type": "stream",
     "text": [
      "22/11/21 11:45:12 WARN MemoryStore: Not enough space to cache rdd_25_187 in memory! (computed 3.8 MiB so far)\n",
      "22/11/21 11:45:12 WARN MemoryStore: Not enough space to cache rdd_25_190 in memory! (computed 3.8 MiB so far)\n"
     ]
    },
    {
     "name": "stderr",
     "output_type": "stream",
     "text": [
      "[Stage 23:==================================================>   (188 + 8) / 200]\r"
     ]
    },
    {
     "name": "stdout",
     "output_type": "stream",
     "text": [
      "22/11/21 11:45:14 WARN MemoryStore: Not enough space to cache rdd_25_195 in memory! (computed 3.8 MiB so far)\n"
     ]
    },
    {
     "name": "stderr",
     "output_type": "stream",
     "text": [
      "[Stage 23:=====================================================>(197 + 3) / 200]\r"
     ]
    },
    {
     "name": "stdout",
     "output_type": "stream",
     "text": [
      "+----+--------+---------+\n",
      "|week|retweets|favorites|\n",
      "+----+--------+---------+\n",
      "|   1|   17154|    68580|\n",
      "|   2|   21052|    76150|\n",
      "|   3|   30124|   115362|\n",
      "|   4|   23269|   100733|\n",
      "|   5|   95331|   345437|\n",
      "|   6|   56310|   282264|\n",
      "|   7|   22693|   164017|\n",
      "|   8|   35528|   148943|\n",
      "|   9|   65765|   371656|\n",
      "|  10|  104705|   617336|\n",
      "|  11|    9724|    35381|\n",
      "|  12|   15381|    50146|\n",
      "|  13|   33285|   138162|\n",
      "|  14|   54243|   195431|\n",
      "|  15|   26791|   113541|\n",
      "|  16|   20269|   133321|\n",
      "|  17|   68675|   474810|\n",
      "|  18|   15386|    61562|\n",
      "|  19|   24278|    94041|\n",
      "|  20|   36449|   179521|\n",
      "+----+--------+---------+\n",
      "only showing top 20 rows\n",
      "\n"
     ]
    },
    {
     "name": "stderr",
     "output_type": "stream",
     "text": [
      "                                                                                \r"
     ]
    }
   ],
   "source": [
    "eng_weekly.show()"
   ]
  },
  {
   "cell_type": "code",
   "execution_count": 44,
   "id": "64d1601d",
   "metadata": {},
   "outputs": [
    {
     "name": "stdout",
     "output_type": "stream",
     "text": [
      "22/11/21 11:47:58 WARN MemoryStore: Not enough space to cache rdd_25_7 in memory! (computed 3.8 MiB so far)\n"
     ]
    },
    {
     "name": "stderr",
     "output_type": "stream",
     "text": [
      "[Stage 28:>                                                       (0 + 8) / 200]\r"
     ]
    },
    {
     "name": "stdout",
     "output_type": "stream",
     "text": [
      "22/11/21 11:48:00 WARN MemoryStore: Not enough space to cache rdd_25_10 in memory! (computed 3.8 MiB so far)\n",
      "22/11/21 11:48:00 WARN MemoryStore: Not enough space to cache rdd_25_13 in memory! (computed 3.8 MiB so far)\n",
      "22/11/21 11:48:00 WARN MemoryStore: Not enough space to cache rdd_25_14 in memory! (computed 3.8 MiB so far)\n"
     ]
    },
    {
     "name": "stderr",
     "output_type": "stream",
     "text": [
      "[Stage 28:===>                                                   (11 + 8) / 200]\r"
     ]
    },
    {
     "name": "stdout",
     "output_type": "stream",
     "text": [
      "22/11/21 11:48:02 WARN MemoryStore: Not enough space to cache rdd_25_19 in memory! (computed 3.8 MiB so far)\n",
      "22/11/21 11:48:02 WARN MemoryStore: Not enough space to cache rdd_25_21 in memory! (computed 3.8 MiB so far)\n"
     ]
    },
    {
     "name": "stderr",
     "output_type": "stream",
     "text": [
      "[Stage 28:======>                                                (23 + 8) / 200]\r"
     ]
    },
    {
     "name": "stdout",
     "output_type": "stream",
     "text": [
      "22/11/21 11:48:03 WARN MemoryStore: Not enough space to cache rdd_25_30 in memory! (computed 3.8 MiB so far)\n"
     ]
    },
    {
     "name": "stderr",
     "output_type": "stream",
     "text": [
      "[Stage 28:======>                                                (24 + 8) / 200]\r"
     ]
    },
    {
     "name": "stdout",
     "output_type": "stream",
     "text": [
      "22/11/21 11:48:05 WARN MemoryStore: Not enough space to cache rdd_25_33 in memory! (computed 3.8 MiB so far)\n",
      "22/11/21 11:48:05 WARN MemoryStore: Not enough space to cache rdd_25_34 in memory! (computed 3.8 MiB so far)\n",
      "22/11/21 11:48:05 WARN MemoryStore: Not enough space to cache rdd_25_37 in memory! (computed 3.8 MiB so far)\n"
     ]
    },
    {
     "name": "stderr",
     "output_type": "stream",
     "text": [
      "[Stage 28:========>                                              (32 + 8) / 200]\r"
     ]
    },
    {
     "name": "stdout",
     "output_type": "stream",
     "text": [
      "22/11/21 11:48:07 WARN MemoryStore: Failed to reserve initial memory threshold of 1024.0 KiB for computing block rdd_25_42 in memory.\n",
      "22/11/21 11:48:07 WARN MemoryStore: Not enough space to cache rdd_25_42 in memory! (computed 384.0 B so far)\n",
      "22/11/21 11:48:07 WARN MemoryStore: Not enough space to cache rdd_25_44 in memory! (computed 3.8 MiB so far)\n"
     ]
    },
    {
     "name": "stderr",
     "output_type": "stream",
     "text": [
      "[Stage 28:===========>                                           (40 + 8) / 200]\r"
     ]
    },
    {
     "name": "stdout",
     "output_type": "stream",
     "text": [
      "22/11/21 11:48:08 WARN MemoryStore: Not enough space to cache rdd_25_49 in memory! (computed 3.8 MiB so far)\n"
     ]
    },
    {
     "name": "stderr",
     "output_type": "stream",
     "text": [
      "[Stage 28:==============>                                        (53 + 8) / 200]\r"
     ]
    },
    {
     "name": "stdout",
     "output_type": "stream",
     "text": [
      "22/11/21 11:48:10 WARN MemoryStore: Not enough space to cache rdd_25_59 in memory! (computed 3.8 MiB so far)\n"
     ]
    },
    {
     "name": "stderr",
     "output_type": "stream",
     "text": [
      "[Stage 28:================>                                      (61 + 8) / 200]\r"
     ]
    },
    {
     "name": "stdout",
     "output_type": "stream",
     "text": [
      "22/11/21 11:48:12 WARN MemoryStore: Not enough space to cache rdd_25_67 in memory! (computed 3.8 MiB so far)\n",
      "22/11/21 11:48:12 WARN MemoryStore: Not enough space to cache rdd_25_68 in memory! (computed 3.8 MiB so far)\n",
      "22/11/21 11:48:12 WARN MemoryStore: Not enough space to cache rdd_25_70 in memory! (computed 3.8 MiB so far)\n"
     ]
    },
    {
     "name": "stderr",
     "output_type": "stream",
     "text": [
      "[Stage 28:=================>                                     (64 + 8) / 200]\r"
     ]
    },
    {
     "name": "stdout",
     "output_type": "stream",
     "text": [
      "22/11/21 11:48:13 WARN MemoryStore: Not enough space to cache rdd_25_74 in memory! (computed 3.8 MiB so far)\n"
     ]
    },
    {
     "name": "stderr",
     "output_type": "stream",
     "text": [
      "[Stage 28:===================>                                   (70 + 8) / 200]\r"
     ]
    },
    {
     "name": "stdout",
     "output_type": "stream",
     "text": [
      "22/11/21 11:48:14 WARN MemoryStore: Not enough space to cache rdd_25_79 in memory! (computed 3.8 MiB so far)\n"
     ]
    },
    {
     "name": "stderr",
     "output_type": "stream",
     "text": [
      "[Stage 28:=====================>                                 (77 + 8) / 200]\r"
     ]
    },
    {
     "name": "stdout",
     "output_type": "stream",
     "text": [
      "22/11/21 11:48:15 WARN MemoryStore: Not enough space to cache rdd_25_81 in memory! (computed 3.8 MiB so far)\n",
      "22/11/21 11:48:15 WARN MemoryStore: Not enough space to cache rdd_25_83 in memory! (computed 3.8 MiB so far)\n",
      "22/11/21 11:48:15 WARN MemoryStore: Not enough space to cache rdd_25_84 in memory! (computed 3.8 MiB so far)\n"
     ]
    },
    {
     "name": "stderr",
     "output_type": "stream",
     "text": [
      "[Stage 28:======================>                                (80 + 8) / 200]\r"
     ]
    },
    {
     "name": "stdout",
     "output_type": "stream",
     "text": [
      "22/11/21 11:48:17 WARN MemoryStore: Not enough space to cache rdd_25_89 in memory! (computed 3.8 MiB so far)\n",
      "22/11/21 11:48:17 WARN MemoryStore: Not enough space to cache rdd_25_92 in memory! (computed 3.8 MiB so far)\n"
     ]
    },
    {
     "name": "stderr",
     "output_type": "stream",
     "text": [
      "[Stage 28:=======================>                               (86 + 8) / 200]\r"
     ]
    },
    {
     "name": "stdout",
     "output_type": "stream",
     "text": [
      "22/11/21 11:48:17 WARN MemoryStore: Not enough space to cache rdd_25_95 in memory! (computed 3.8 MiB so far)\n"
     ]
    },
    {
     "name": "stderr",
     "output_type": "stream",
     "text": [
      "[Stage 28:=========================>                             (94 + 8) / 200]\r"
     ]
    },
    {
     "name": "stdout",
     "output_type": "stream",
     "text": [
      "22/11/21 11:48:19 WARN MemoryStore: Not enough space to cache rdd_25_97 in memory! (computed 3.8 MiB so far)\n",
      "22/11/21 11:48:19 WARN MemoryStore: Failed to reserve initial memory threshold of 1024.0 KiB for computing block rdd_25_100 in memory.\n",
      "22/11/21 11:48:19 WARN MemoryStore: Not enough space to cache rdd_25_100 in memory! (computed 384.0 B so far)\n",
      "22/11/21 11:48:19 WARN MemoryStore: Not enough space to cache rdd_25_101 in memory! (computed 3.8 MiB so far)\n"
     ]
    },
    {
     "name": "stderr",
     "output_type": "stream",
     "text": [
      "[Stage 28:==========================>                            (97 + 8) / 200]\r"
     ]
    },
    {
     "name": "stdout",
     "output_type": "stream",
     "text": [
      "22/11/21 11:48:21 WARN MemoryStore: Not enough space to cache rdd_25_106 in memory! (computed 3.8 MiB so far)\n",
      "22/11/21 11:48:21 WARN MemoryStore: Not enough space to cache rdd_25_107 in memory! (computed 3.8 MiB so far)\n",
      "22/11/21 11:48:21 WARN MemoryStore: Not enough space to cache rdd_25_109 in memory! (computed 3.8 MiB so far)\n"
     ]
    },
    {
     "name": "stderr",
     "output_type": "stream",
     "text": [
      "[Stage 28:============================>                         (104 + 8) / 200]\r"
     ]
    },
    {
     "name": "stdout",
     "output_type": "stream",
     "text": [
      "22/11/21 11:48:21 WARN MemoryStore: Not enough space to cache rdd_25_111 in memory! (computed 3.8 MiB so far)\n",
      "22/11/21 11:48:23 WARN MemoryStore: Not enough space to cache rdd_25_113 in memory! (computed 3.8 MiB so far)\n",
      "22/11/21 11:48:23 WARN MemoryStore: Not enough space to cache rdd_25_114 in memory! (computed 3.8 MiB so far)\n"
     ]
    },
    {
     "name": "stderr",
     "output_type": "stream",
     "text": [
      "[Stage 28:============================>                         (107 + 8) / 200]\r"
     ]
    },
    {
     "name": "stdout",
     "output_type": "stream",
     "text": [
      "22/11/21 11:48:23 WARN MemoryStore: Not enough space to cache rdd_25_118 in memory! (computed 3.8 MiB so far)\n"
     ]
    },
    {
     "name": "stderr",
     "output_type": "stream",
     "text": [
      "[Stage 28:==============================>                       (113 + 8) / 200]\r"
     ]
    },
    {
     "name": "stdout",
     "output_type": "stream",
     "text": [
      "22/11/21 11:48:25 WARN MemoryStore: Not enough space to cache rdd_25_122 in memory! (computed 3.8 MiB so far)\n",
      "22/11/21 11:48:25 WARN MemoryStore: Not enough space to cache rdd_25_125 in memory! (computed 3.8 MiB so far)\n",
      "22/11/21 11:48:25 WARN MemoryStore: Not enough space to cache rdd_25_126 in memory! (computed 3.8 MiB so far)\n"
     ]
    },
    {
     "name": "stderr",
     "output_type": "stream",
     "text": [
      "[Stage 28:====================================>                 (135 + 8) / 200]\r"
     ]
    },
    {
     "name": "stdout",
     "output_type": "stream",
     "text": [
      "22/11/21 11:48:29 WARN MemoryStore: Not enough space to cache rdd_25_140 in memory! (computed 3.8 MiB so far)\n",
      "22/11/21 11:48:29 WARN MemoryStore: Not enough space to cache rdd_25_142 in memory! (computed 3.8 MiB so far)\n"
     ]
    },
    {
     "name": "stderr",
     "output_type": "stream",
     "text": [
      "[Stage 28:====================================>                 (136 + 8) / 200]\r"
     ]
    },
    {
     "name": "stdout",
     "output_type": "stream",
     "text": [
      "22/11/21 11:48:30 WARN MemoryStore: Not enough space to cache rdd_25_148 in memory! (computed 3.8 MiB so far)\n"
     ]
    },
    {
     "name": "stderr",
     "output_type": "stream",
     "text": [
      "[Stage 28:======================================>               (144 + 8) / 200]\r"
     ]
    },
    {
     "name": "stdout",
     "output_type": "stream",
     "text": [
      "22/11/21 11:48:32 WARN MemoryStore: Not enough space to cache rdd_25_152 in memory! (computed 3.8 MiB so far)\n",
      "22/11/21 11:48:32 WARN MemoryStore: Not enough space to cache rdd_25_156 in memory! (computed 3.8 MiB so far)\n",
      "22/11/21 11:48:32 WARN MemoryStore: Not enough space to cache rdd_25_155 in memory! (computed 3.8 MiB so far)\n"
     ]
    },
    {
     "name": "stderr",
     "output_type": "stream",
     "text": [
      "[Stage 28:=========================================>            (152 + 8) / 200]\r"
     ]
    },
    {
     "name": "stdout",
     "output_type": "stream",
     "text": [
      "22/11/21 11:48:34 WARN MemoryStore: Not enough space to cache rdd_25_162 in memory! (computed 3.8 MiB so far)\n",
      "22/11/21 11:48:34 WARN MemoryStore: Not enough space to cache rdd_25_165 in memory! (computed 3.8 MiB so far)\n"
     ]
    },
    {
     "name": "stderr",
     "output_type": "stream",
     "text": [
      "[Stage 28:==========================================>           (156 + 8) / 200]\r"
     ]
    },
    {
     "name": "stdout",
     "output_type": "stream",
     "text": [
      "22/11/21 11:48:34 WARN MemoryStore: Not enough space to cache rdd_25_166 in memory! (computed 3.8 MiB so far)\n"
     ]
    },
    {
     "name": "stderr",
     "output_type": "stream",
     "text": [
      "[Stage 28:==========================================>           (159 + 8) / 200]\r"
     ]
    },
    {
     "name": "stdout",
     "output_type": "stream",
     "text": [
      "22/11/21 11:48:34 WARN MemoryStore: Not enough space to cache rdd_25_167 in memory! (computed 3.8 MiB so far)\n"
     ]
    },
    {
     "name": "stderr",
     "output_type": "stream",
     "text": [
      "[Stage 28:===========================================>          (160 + 8) / 200]\r"
     ]
    },
    {
     "name": "stdout",
     "output_type": "stream",
     "text": [
      "22/11/21 11:48:36 WARN MemoryStore: Not enough space to cache rdd_25_169 in memory! (computed 3.8 MiB so far)\n",
      "22/11/21 11:48:36 WARN MemoryStore: Not enough space to cache rdd_25_172 in memory! (computed 3.8 MiB so far)\n"
     ]
    },
    {
     "name": "stderr",
     "output_type": "stream",
     "text": [
      "[Stage 28:===========================================>          (162 + 8) / 200]\r"
     ]
    },
    {
     "name": "stdout",
     "output_type": "stream",
     "text": [
      "22/11/21 11:48:36 WARN MemoryStore: Not enough space to cache rdd_25_173 in memory! (computed 3.8 MiB so far)\n",
      "22/11/21 11:48:36 WARN MemoryStore: Not enough space to cache rdd_25_174 in memory! (computed 3.8 MiB so far)\n",
      "22/11/21 11:48:36 WARN MemoryStore: Not enough space to cache rdd_25_175 in memory! (computed 3.8 MiB so far)\n"
     ]
    },
    {
     "name": "stderr",
     "output_type": "stream",
     "text": [
      "[Stage 28:=============================================>        (168 + 8) / 200]\r"
     ]
    },
    {
     "name": "stdout",
     "output_type": "stream",
     "text": [
      "22/11/21 11:48:37 WARN MemoryStore: Not enough space to cache rdd_25_177 in memory! (computed 3.8 MiB so far)\n",
      "22/11/21 11:48:38 WARN MemoryStore: Not enough space to cache rdd_25_180 in memory! (computed 3.8 MiB so far)\n"
     ]
    },
    {
     "name": "stderr",
     "output_type": "stream",
     "text": [
      "[Stage 28:==============================================>       (173 + 8) / 200]\r"
     ]
    },
    {
     "name": "stdout",
     "output_type": "stream",
     "text": [
      "22/11/21 11:48:38 WARN MemoryStore: Not enough space to cache rdd_25_182 in memory! (computed 3.8 MiB so far)\n",
      "22/11/21 11:48:38 WARN MemoryStore: Not enough space to cache rdd_25_183 in memory! (computed 3.8 MiB so far)\n"
     ]
    },
    {
     "name": "stderr",
     "output_type": "stream",
     "text": [
      "[Stage 28:===============================================>      (176 + 8) / 200]\r"
     ]
    },
    {
     "name": "stdout",
     "output_type": "stream",
     "text": [
      "22/11/21 11:48:40 WARN MemoryStore: Not enough space to cache rdd_25_184 in memory! (computed 3.8 MiB so far)\n",
      "22/11/21 11:48:40 WARN MemoryStore: Not enough space to cache rdd_25_186 in memory! (computed 3.8 MiB so far)\n"
     ]
    },
    {
     "name": "stderr",
     "output_type": "stream",
     "text": [
      "[Stage 28:================================================>     (179 + 8) / 200]\r"
     ]
    },
    {
     "name": "stdout",
     "output_type": "stream",
     "text": [
      "22/11/21 11:48:40 WARN MemoryStore: Not enough space to cache rdd_25_188 in memory! (computed 3.8 MiB so far)\n",
      "22/11/21 11:48:40 WARN MemoryStore: Not enough space to cache rdd_25_190 in memory! (computed 3.8 MiB so far)\n"
     ]
    },
    {
     "name": "stderr",
     "output_type": "stream",
     "text": [
      "[Stage 28:=================================================>    (184 + 8) / 200]\r"
     ]
    },
    {
     "name": "stdout",
     "output_type": "stream",
     "text": [
      "22/11/21 11:48:41 WARN MemoryStore: Not enough space to cache rdd_25_192 in memory! (computed 3.8 MiB so far)\n",
      "22/11/21 11:48:41 WARN MemoryStore: Not enough space to cache rdd_25_193 in memory! (computed 3.8 MiB so far)\n",
      "22/11/21 11:48:42 WARN MemoryStore: Not enough space to cache rdd_25_194 in memory! (computed 3.8 MiB so far)\n"
     ]
    },
    {
     "name": "stderr",
     "output_type": "stream",
     "text": [
      "[Stage 28:==================================================>   (187 + 8) / 200]\r"
     ]
    },
    {
     "name": "stdout",
     "output_type": "stream",
     "text": [
      "22/11/21 11:48:42 WARN MemoryStore: Not enough space to cache rdd_25_197 in memory! (computed 3.8 MiB so far)\n",
      "22/11/21 11:48:42 WARN MemoryStore: Not enough space to cache rdd_25_198 in memory! (computed 3.8 MiB so far)\n",
      "22/11/21 11:48:42 WARN MemoryStore: Not enough space to cache rdd_25_199 in memory! (computed 3.8 MiB so far)\n"
     ]
    },
    {
     "name": "stderr",
     "output_type": "stream",
     "text": [
      "                                                                                \r"
     ]
    }
   ],
   "source": [
    "eng_weekly = eng_weekly.toPandas()"
   ]
  },
  {
   "cell_type": "code",
   "execution_count": 56,
   "id": "435322a0",
   "metadata": {},
   "outputs": [
    {
     "data": {
      "image/png": "[encoded data removed]",
      "text/plain": [
       "<Figure size 432x288 with 1 Axes>"
      ]
     },
     "metadata": {
      "needs_background": "light"
     },
     "output_type": "display_data"
    }
   ],
   "source": [
    "sns.lineplot(x = \"week\", y = \"retweets\", data = eng_weekly)\n",
    "sns.lineplot(x = \"week\", y = \"favorites\", data = eng_weekly)\n",
    "plt.legend([\"retweets\", \"favorites\"],loc=\"upper left\")\n",
    "plt.show()"
   ]
  }
 ],
 "metadata": {
  "kernelspec": {
   "display_name": "Python 3 (ipykernel)",
   "language": "python",
   "name": "python3"
  },
  "language_info": {
   "codemirror_mode": {
    "name": "ipython",
    "version": 3
   },
   "file_extension": ".py",
   "mimetype": "text/x-python",
   "name": "python",
   "nbconvert_exporter": "python",
   "pygments_lexer": "ipython3",
   "version": "3.9.7"
  },
  "vscode": {
   "interpreter": {
    "hash": "7e35d98e8198887147a5837b6820e4bf8d41831f6222e06e86b8679b6549872f"
   }
  }
 },
 "nbformat": 4,
 "nbformat_minor": 5
}
