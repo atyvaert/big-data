{
 "cells": [
  {
   "cell_type": "code",
   "execution_count": 1,
   "id": "87226276-9d83-48bc-9bc3-9219a428de2a",
   "metadata": {},
   "outputs": [
    {
     "name": "stderr",
     "output_type": "stream",
     "text": [
      "Setting default log level to \"WARN\".\n",
      "To adjust logging level use sc.setLogLevel(newLevel). For SparkR, use setLogLevel(newLevel).\n"
     ]
    },
    {
     "name": "stdout",
     "output_type": "stream",
     "text": [
      "22/11/19 20:37:09 WARN NativeCodeLoader: Unable to load native-hadoop library for your platform... using builtin-java classes where applicable\n",
      "22/11/19 20:37:09 WARN Utils: Service 'SparkUI' could not bind on port 4040. Attempting port 4041.\n",
      "22/11/19 20:37:09 WARN Utils: Service 'SparkUI' could not bind on port 4041. Attempting port 4042.\n",
      "22/11/19 20:37:09 WARN Utils: Service 'SparkUI' could not bind on port 4042. Attempting port 4043.\n"
     ]
    }
   ],
   "source": [
    "# import findspark\n",
    "import findspark\n",
    "# initialize findspark with spark directory\n",
    "findspark.init(\"/Users/konstantinlazarov/Desktop/Big_Data/PySpark/Week_5/spark\")\n",
    "# import pyspark\n",
    "import pyspark\n",
    "# create spark context\n",
    "sc = pyspark.SparkContext()\n",
    "# create spark session \n",
    "spark = pyspark.sql.SparkSession(sc)"
   ]
  },
  {
   "cell_type": "code",
   "execution_count": 2,
   "id": "a5fd03ea-50af-4201-96b3-5ead4b26470d",
   "metadata": {},
   "outputs": [
    {
     "data": {
      "text/html": [
       "\n",
       "            <div>\n",
       "                <p><b>SparkSession - in-memory</b></p>\n",
       "                \n",
       "        <div>\n",
       "            <p><b>SparkContext</b></p>\n",
       "\n",
       "            <p><a href=\"http://192.168.1.45:4043\">Spark UI</a></p>\n",
       "\n",
       "            <dl>\n",
       "              <dt>Version</dt>\n",
       "                <dd><code>v3.3.1</code></dd>\n",
       "              <dt>Master</dt>\n",
       "                <dd><code>local[*]</code></dd>\n",
       "              <dt>AppName</dt>\n",
       "                <dd><code>pyspark-shell</code></dd>\n",
       "            </dl>\n",
       "        </div>\n",
       "        \n",
       "            </div>\n",
       "        "
      ],
      "text/plain": [
       "<pyspark.sql.session.SparkSession at 0x10374f070>"
      ]
     },
     "execution_count": 2,
     "metadata": {},
     "output_type": "execute_result"
    }
   ],
   "source": [
    "spark"
   ]
  },
  {
   "cell_type": "code",
   "execution_count": 62,
   "id": "289cba5c-ff9a-4055-84a2-024b7a67f188",
   "metadata": {},
   "outputs": [],
   "source": [
    "#set this path to your path, for some reason I have an error \n",
    "#reading in all the files\n",
    "import os \n",
    "path_json = \"/Users/konstantinlazarov/Documents/GitHub/Big_Data_Group_3/data/Topic_vegan/*.json\""
   ]
  },
  {
   "cell_type": "code",
   "execution_count": 52,
   "id": "0cd1fd47-245e-4ddb-a7df-e7c715ee78a3",
   "metadata": {},
   "outputs": [
    {
     "name": "stderr",
     "output_type": "stream",
     "text": [
      "                                                                                \r"
     ]
    }
   ],
   "source": [
    "df_json = spark.read.option(\"multiline\",\"true\").json(path_json)"
   ]
  },
  {
   "cell_type": "code",
   "execution_count": 53,
   "id": "c941772d-c3da-4d4d-b1c7-ad9811648c54",
   "metadata": {},
   "outputs": [
    {
     "data": {
      "text/plain": [
       "[('contributors', 'string'),\n",
       " ('coordinates', 'struct<coordinates:array<double>,type:string>'),\n",
       " ('created_at', 'string'),\n",
       " ('display_text_range', 'array<bigint>'),\n",
       " ('entities',\n",
       "  'struct<hashtags:array<struct<indices:array<bigint>,text:string>>,media:array<struct<display_url:string,expanded_url:string,id:bigint,id_str:string,indices:array<bigint>,media_url:string,media_url_https:string,sizes:struct<large:struct<h:bigint,resize:string,w:bigint>,medium:struct<h:bigint,resize:string,w:bigint>,small:struct<h:bigint,resize:string,w:bigint>,thumb:struct<h:bigint,resize:string,w:bigint>>,source_status_id:bigint,source_status_id_str:string,source_user_id:bigint,source_user_id_str:string,type:string,url:string>>,symbols:array<struct<indices:array<bigint>,text:string>>,urls:array<struct<display_url:string,expanded_url:string,indices:array<bigint>,url:string>>,user_mentions:array<struct<id:bigint,id_str:string,indices:array<bigint>,name:string,screen_name:string>>>'),\n",
       " ('extended_entities',\n",
       "  'struct<media:array<struct<additional_media_info:struct<call_to_actions:struct<visit_site:struct<url:string>,watch_now:struct<url:string>>,description:string,embeddable:boolean,monetizable:boolean,source_user:struct<contributors_enabled:boolean,created_at:string,default_profile:boolean,default_profile_image:boolean,description:string,entities:struct<description:struct<urls:array<struct<display_url:string,expanded_url:string,indices:array<bigint>,url:string>>>,url:struct<urls:array<struct<display_url:string,expanded_url:string,indices:array<bigint>,url:string>>>>,favourites_count:bigint,follow_request_sent:boolean,followers_count:bigint,following:boolean,friends_count:bigint,geo_enabled:boolean,has_extended_profile:boolean,id:bigint,id_str:string,is_translation_enabled:boolean,is_translator:boolean,lang:string,listed_count:bigint,location:string,name:string,notifications:boolean,profile_background_color:string,profile_background_image_url:string,profile_background_image_url_https:string,profile_background_tile:boolean,profile_banner_url:string,profile_image_url:string,profile_image_url_https:string,profile_link_color:string,profile_sidebar_border_color:string,profile_sidebar_fill_color:string,profile_text_color:string,profile_use_background_image:boolean,protected:boolean,screen_name:string,statuses_count:bigint,time_zone:string,translator_type:string,url:string,utc_offset:string,verified:boolean,withheld_in_countries:array<string>>,title:string>,display_url:string,expanded_url:string,id:bigint,id_str:string,indices:array<bigint>,media_url:string,media_url_https:string,sizes:struct<large:struct<h:bigint,resize:string,w:bigint>,medium:struct<h:bigint,resize:string,w:bigint>,small:struct<h:bigint,resize:string,w:bigint>,thumb:struct<h:bigint,resize:string,w:bigint>>,source_status_id:bigint,source_status_id_str:string,source_user_id:bigint,source_user_id_str:string,type:string,url:string,video_info:struct<aspect_ratio:array<bigint>,duration_millis:bigint,variants:array<struct<bitrate:bigint,content_type:string,url:string>>>>>>'),\n",
       " ('favorite_count', 'bigint'),\n",
       " ('favorited', 'boolean'),\n",
       " ('full_text', 'string'),\n",
       " ('geo', 'struct<coordinates:array<double>,type:string>'),\n",
       " ('id', 'bigint'),\n",
       " ('id_str', 'string'),\n",
       " ('in_reply_to_screen_name', 'string'),\n",
       " ('in_reply_to_status_id', 'bigint'),\n",
       " ('in_reply_to_status_id_str', 'string'),\n",
       " ('in_reply_to_user_id', 'bigint'),\n",
       " ('in_reply_to_user_id_str', 'string'),\n",
       " ('is_quote_status', 'boolean'),\n",
       " ('lang', 'string'),\n",
       " ('metadata', 'struct<iso_language_code:string,result_type:string>'),\n",
       " ('place',\n",
       "  'struct<bounding_box:struct<coordinates:array<array<array<double>>>,type:string>,contained_within:array<string>,country:string,country_code:string,full_name:string,id:string,name:string,place_type:string,url:string>'),\n",
       " ('possibly_sensitive', 'boolean'),\n",
       " ('quoted_status',\n",
       "  'struct<contributors:string,coordinates:struct<coordinates:array<double>,type:string>,created_at:string,display_text_range:array<bigint>,entities:struct<hashtags:array<struct<indices:array<bigint>,text:string>>,media:array<struct<display_url:string,expanded_url:string,id:bigint,id_str:string,indices:array<bigint>,media_url:string,media_url_https:string,sizes:struct<large:struct<h:bigint,resize:string,w:bigint>,medium:struct<h:bigint,resize:string,w:bigint>,small:struct<h:bigint,resize:string,w:bigint>,thumb:struct<h:bigint,resize:string,w:bigint>>,source_status_id:bigint,source_status_id_str:string,source_user_id:bigint,source_user_id_str:string,type:string,url:string>>,symbols:array<struct<indices:array<bigint>,text:string>>,urls:array<struct<display_url:string,expanded_url:string,indices:array<bigint>,url:string>>,user_mentions:array<struct<id:bigint,id_str:string,indices:array<bigint>,name:string,screen_name:string>>>,extended_entities:struct<media:array<struct<additional_media_info:struct<call_to_actions:struct<visit_site:struct<url:string>,watch_now:struct<url:string>>,description:string,embeddable:boolean,monetizable:boolean,source_user:struct<contributors_enabled:boolean,created_at:string,default_profile:boolean,default_profile_image:boolean,description:string,entities:struct<description:struct<urls:array<struct<display_url:string,expanded_url:string,indices:array<bigint>,url:string>>>,url:struct<urls:array<struct<display_url:string,expanded_url:string,indices:array<bigint>,url:string>>>>,favourites_count:bigint,follow_request_sent:boolean,followers_count:bigint,following:boolean,friends_count:bigint,geo_enabled:boolean,has_extended_profile:boolean,id:bigint,id_str:string,is_translation_enabled:boolean,is_translator:boolean,lang:string,listed_count:bigint,location:string,name:string,notifications:boolean,profile_background_color:string,profile_background_image_url:string,profile_background_image_url_https:string,profile_background_tile:boolean,profile_banner_url:string,profile_image_url:string,profile_image_url_https:string,profile_link_color:string,profile_sidebar_border_color:string,profile_sidebar_fill_color:string,profile_text_color:string,profile_use_background_image:boolean,protected:boolean,screen_name:string,statuses_count:bigint,time_zone:string,translator_type:string,url:string,utc_offset:string,verified:boolean,withheld_in_countries:array<string>>,title:string>,display_url:string,expanded_url:string,id:bigint,id_str:string,indices:array<bigint>,media_url:string,media_url_https:string,sizes:struct<large:struct<h:bigint,resize:string,w:bigint>,medium:struct<h:bigint,resize:string,w:bigint>,small:struct<h:bigint,resize:string,w:bigint>,thumb:struct<h:bigint,resize:string,w:bigint>>,source_status_id:bigint,source_status_id_str:string,source_user_id:bigint,source_user_id_str:string,type:string,url:string,video_info:struct<aspect_ratio:array<bigint>,duration_millis:bigint,variants:array<struct<bitrate:bigint,content_type:string,url:string>>>>>>,favorite_count:bigint,favorited:boolean,full_text:string,geo:struct<coordinates:array<double>,type:string>,id:bigint,id_str:string,in_reply_to_screen_name:string,in_reply_to_status_id:bigint,in_reply_to_status_id_str:string,in_reply_to_user_id:bigint,in_reply_to_user_id_str:string,is_quote_status:boolean,lang:string,metadata:struct<iso_language_code:string,result_type:string>,place:struct<bounding_box:struct<coordinates:array<array<array<double>>>,type:string>,contained_within:array<string>,country:string,country_code:string,full_name:string,id:string,name:string,place_type:string,url:string>,possibly_sensitive:boolean,quoted_status_id:bigint,quoted_status_id_str:string,retweet_count:bigint,retweeted:boolean,scopes:struct<followers:boolean>,source:string,truncated:boolean,user:struct<contributors_enabled:boolean,created_at:string,default_profile:boolean,default_profile_image:boolean,description:string,entities:struct<description:struct<urls:array<struct<display_url:string,expanded_url:string,indices:array<bigint>,url:string>>>,url:struct<urls:array<struct<display_url:string,expanded_url:string,indices:array<bigint>,url:string>>>>,favourites_count:bigint,follow_request_sent:boolean,followers_count:bigint,following:boolean,friends_count:bigint,geo_enabled:boolean,has_extended_profile:boolean,id:bigint,id_str:string,is_translation_enabled:boolean,is_translator:boolean,lang:string,listed_count:bigint,location:string,name:string,notifications:boolean,profile_background_color:string,profile_background_image_url:string,profile_background_image_url_https:string,profile_background_tile:boolean,profile_banner_url:string,profile_image_url:string,profile_image_url_https:string,profile_link_color:string,profile_sidebar_border_color:string,profile_sidebar_fill_color:string,profile_text_color:string,profile_use_background_image:boolean,protected:boolean,screen_name:string,statuses_count:bigint,time_zone:string,translator_type:string,url:string,utc_offset:string,verified:boolean,withheld_in_countries:array<string>>,withheld_in_countries:array<string>>'),\n",
       " ('quoted_status_id', 'bigint'),\n",
       " ('quoted_status_id_str', 'string'),\n",
       " ('retweet_count', 'bigint'),\n",
       " ('retweeted', 'boolean'),\n",
       " ('retweeted_status',\n",
       "  'struct<contributors:string,coordinates:struct<coordinates:array<double>,type:string>,created_at:string,display_text_range:array<bigint>,entities:struct<hashtags:array<struct<indices:array<bigint>,text:string>>,media:array<struct<display_url:string,expanded_url:string,id:bigint,id_str:string,indices:array<bigint>,media_url:string,media_url_https:string,sizes:struct<large:struct<h:bigint,resize:string,w:bigint>,medium:struct<h:bigint,resize:string,w:bigint>,small:struct<h:bigint,resize:string,w:bigint>,thumb:struct<h:bigint,resize:string,w:bigint>>,source_status_id:bigint,source_status_id_str:string,source_user_id:bigint,source_user_id_str:string,type:string,url:string>>,symbols:array<struct<indices:array<bigint>,text:string>>,urls:array<struct<display_url:string,expanded_url:string,indices:array<bigint>,url:string>>,user_mentions:array<struct<id:bigint,id_str:string,indices:array<bigint>,name:string,screen_name:string>>>,extended_entities:struct<media:array<struct<additional_media_info:struct<call_to_actions:struct<visit_site:struct<url:string>,watch_now:struct<url:string>>,description:string,embeddable:boolean,monetizable:boolean,source_user:struct<contributors_enabled:boolean,created_at:string,default_profile:boolean,default_profile_image:boolean,description:string,entities:struct<description:struct<urls:array<struct<display_url:string,expanded_url:string,indices:array<bigint>,url:string>>>,url:struct<urls:array<struct<display_url:string,expanded_url:string,indices:array<bigint>,url:string>>>>,favourites_count:bigint,follow_request_sent:boolean,followers_count:bigint,following:boolean,friends_count:bigint,geo_enabled:boolean,has_extended_profile:boolean,id:bigint,id_str:string,is_translation_enabled:boolean,is_translator:boolean,lang:string,listed_count:bigint,location:string,name:string,notifications:boolean,profile_background_color:string,profile_background_image_url:string,profile_background_image_url_https:string,profile_background_tile:boolean,profile_banner_url:string,profile_image_url:string,profile_image_url_https:string,profile_link_color:string,profile_sidebar_border_color:string,profile_sidebar_fill_color:string,profile_text_color:string,profile_use_background_image:boolean,protected:boolean,screen_name:string,statuses_count:bigint,time_zone:string,translator_type:string,url:string,utc_offset:string,verified:boolean,withheld_in_countries:array<string>>,title:string>,display_url:string,expanded_url:string,id:bigint,id_str:string,indices:array<bigint>,media_url:string,media_url_https:string,sizes:struct<large:struct<h:bigint,resize:string,w:bigint>,medium:struct<h:bigint,resize:string,w:bigint>,small:struct<h:bigint,resize:string,w:bigint>,thumb:struct<h:bigint,resize:string,w:bigint>>,source_status_id:bigint,source_status_id_str:string,source_user_id:bigint,source_user_id_str:string,type:string,url:string,video_info:struct<aspect_ratio:array<bigint>,duration_millis:bigint,variants:array<struct<bitrate:bigint,content_type:string,url:string>>>>>>,favorite_count:bigint,favorited:boolean,full_text:string,geo:struct<coordinates:array<double>,type:string>,id:bigint,id_str:string,in_reply_to_screen_name:string,in_reply_to_status_id:bigint,in_reply_to_status_id_str:string,in_reply_to_user_id:bigint,in_reply_to_user_id_str:string,is_quote_status:boolean,lang:string,metadata:struct<iso_language_code:string,result_type:string>,place:struct<bounding_box:struct<coordinates:array<array<array<double>>>,type:string>,contained_within:array<string>,country:string,country_code:string,full_name:string,id:string,name:string,place_type:string,url:string>,possibly_sensitive:boolean,quoted_status:struct<contributors:string,coordinates:struct<coordinates:array<double>,type:string>,created_at:string,display_text_range:array<bigint>,entities:struct<hashtags:array<struct<indices:array<bigint>,text:string>>,media:array<struct<display_url:string,expanded_url:string,id:bigint,id_str:string,indices:array<bigint>,media_url:string,media_url_https:string,sizes:struct<large:struct<h:bigint,resize:string,w:bigint>,medium:struct<h:bigint,resize:string,w:bigint>,small:struct<h:bigint,resize:string,w:bigint>,thumb:struct<h:bigint,resize:string,w:bigint>>,source_status_id:bigint,source_status_id_str:string,source_user_id:bigint,source_user_id_str:string,type:string,url:string>>,symbols:array<struct<indices:array<bigint>,text:string>>,urls:array<struct<display_url:string,expanded_url:string,indices:array<bigint>,url:string>>,user_mentions:array<struct<id:bigint,id_str:string,indices:array<bigint>,name:string,screen_name:string>>>,extended_entities:struct<media:array<struct<additional_media_info:struct<call_to_actions:struct<visit_site:struct<url:string>,watch_now:struct<url:string>>,description:string,embeddable:boolean,monetizable:boolean,source_user:struct<contributors_enabled:boolean,created_at:string,default_profile:boolean,default_profile_image:boolean,description:string,entities:struct<description:struct<urls:array<struct<display_url:string,expanded_url:string,indices:array<bigint>,url:string>>>,url:struct<urls:array<struct<display_url:string,expanded_url:string,indices:array<bigint>,url:string>>>>,favourites_count:bigint,follow_request_sent:boolean,followers_count:bigint,following:boolean,friends_count:bigint,geo_enabled:boolean,has_extended_profile:boolean,id:bigint,id_str:string,is_translation_enabled:boolean,is_translator:boolean,lang:string,listed_count:bigint,location:string,name:string,notifications:boolean,profile_background_color:string,profile_background_image_url:string,profile_background_image_url_https:string,profile_background_tile:boolean,profile_banner_url:string,profile_image_url:string,profile_image_url_https:string,profile_link_color:string,profile_sidebar_border_color:string,profile_sidebar_fill_color:string,profile_text_color:string,profile_use_background_image:boolean,protected:boolean,screen_name:string,statuses_count:bigint,time_zone:string,translator_type:string,url:string,utc_offset:string,verified:boolean,withheld_in_countries:array<string>>,title:string>,display_url:string,expanded_url:string,id:bigint,id_str:string,indices:array<bigint>,media_url:string,media_url_https:string,sizes:struct<large:struct<h:bigint,resize:string,w:bigint>,medium:struct<h:bigint,resize:string,w:bigint>,small:struct<h:bigint,resize:string,w:bigint>,thumb:struct<h:bigint,resize:string,w:bigint>>,source_status_id:bigint,source_status_id_str:string,source_user_id:bigint,source_user_id_str:string,type:string,url:string,video_info:struct<aspect_ratio:array<bigint>,duration_millis:bigint,variants:array<struct<bitrate:bigint,content_type:string,url:string>>>>>>,favorite_count:bigint,favorited:boolean,full_text:string,geo:struct<coordinates:array<double>,type:string>,id:bigint,id_str:string,in_reply_to_screen_name:string,in_reply_to_status_id:bigint,in_reply_to_status_id_str:string,in_reply_to_user_id:bigint,in_reply_to_user_id_str:string,is_quote_status:boolean,lang:string,metadata:struct<iso_language_code:string,result_type:string>,place:struct<bounding_box:struct<coordinates:array<array<array<double>>>,type:string>,contained_within:array<string>,country:string,country_code:string,full_name:string,id:string,name:string,place_type:string,url:string>,possibly_sensitive:boolean,quoted_status_id:bigint,quoted_status_id_str:string,retweet_count:bigint,retweeted:boolean,scopes:struct<followers:boolean>,source:string,truncated:boolean,user:struct<contributors_enabled:boolean,created_at:string,default_profile:boolean,default_profile_image:boolean,description:string,entities:struct<description:struct<urls:array<struct<display_url:string,expanded_url:string,indices:array<bigint>,url:string>>>,url:struct<urls:array<struct<display_url:string,expanded_url:string,indices:array<bigint>,url:string>>>>,favourites_count:bigint,follow_request_sent:boolean,followers_count:bigint,following:boolean,friends_count:bigint,geo_enabled:boolean,has_extended_profile:boolean,id:bigint,id_str:string,is_translation_enabled:boolean,is_translator:boolean,lang:string,listed_count:bigint,location:string,name:string,notifications:boolean,profile_background_color:string,profile_background_image_url:string,profile_background_image_url_https:string,profile_background_tile:boolean,profile_banner_url:string,profile_image_url:string,profile_image_url_https:string,profile_link_color:string,profile_sidebar_border_color:string,profile_sidebar_fill_color:string,profile_text_color:string,profile_use_background_image:boolean,protected:boolean,screen_name:string,statuses_count:bigint,time_zone:string,translator_type:string,url:string,utc_offset:string,verified:boolean,withheld_in_countries:array<string>>,withheld_in_countries:array<string>>,quoted_status_id:bigint,quoted_status_id_str:string,retweet_count:bigint,retweeted:boolean,scopes:struct<followers:boolean>,source:string,truncated:boolean,user:struct<contributors_enabled:boolean,created_at:string,default_profile:boolean,default_profile_image:boolean,description:string,entities:struct<description:struct<urls:array<struct<display_url:string,expanded_url:string,indices:array<bigint>,url:string>>>,url:struct<urls:array<struct<display_url:string,expanded_url:string,indices:array<bigint>,url:string>>>>,favourites_count:bigint,follow_request_sent:boolean,followers_count:bigint,following:boolean,friends_count:bigint,geo_enabled:boolean,has_extended_profile:boolean,id:bigint,id_str:string,is_translation_enabled:boolean,is_translator:boolean,lang:string,listed_count:bigint,location:string,name:string,notifications:boolean,profile_background_color:string,profile_background_image_url:string,profile_background_image_url_https:string,profile_background_tile:boolean,profile_banner_url:string,profile_image_url:string,profile_image_url_https:string,profile_link_color:string,profile_sidebar_border_color:string,profile_sidebar_fill_color:string,profile_text_color:string,profile_use_background_image:boolean,protected:boolean,screen_name:string,statuses_count:bigint,time_zone:string,translator_type:string,url:string,utc_offset:string,verified:boolean,withheld_in_countries:array<string>,withheld_scope:string>,withheld_copyright:boolean,withheld_in_countries:array<string>,withheld_scope:string>'),\n",
       " ('source', 'string'),\n",
       " ('truncated', 'boolean'),\n",
       " ('user',\n",
       "  'struct<contributors_enabled:boolean,created_at:string,default_profile:boolean,default_profile_image:boolean,description:string,entities:struct<description:struct<urls:array<struct<display_url:string,expanded_url:string,indices:array<bigint>,url:string>>>,url:struct<urls:array<struct<display_url:string,expanded_url:string,indices:array<bigint>,url:string>>>>,favourites_count:bigint,follow_request_sent:boolean,followers_count:bigint,following:boolean,friends_count:bigint,geo_enabled:boolean,has_extended_profile:boolean,id:bigint,id_str:string,is_translation_enabled:boolean,is_translator:boolean,lang:string,listed_count:bigint,location:string,name:string,notifications:boolean,profile_background_color:string,profile_background_image_url:string,profile_background_image_url_https:string,profile_background_tile:boolean,profile_banner_url:string,profile_image_url:string,profile_image_url_https:string,profile_link_color:string,profile_sidebar_border_color:string,profile_sidebar_fill_color:string,profile_text_color:string,profile_use_background_image:boolean,protected:boolean,screen_name:string,statuses_count:bigint,time_zone:string,translator_type:string,url:string,utc_offset:string,verified:boolean,withheld_in_countries:array<string>,withheld_scope:string>'),\n",
       " ('withheld_copyright', 'boolean'),\n",
       " ('withheld_in_countries', 'array<string>'),\n",
       " ('withheld_scope', 'string')]"
      ]
     },
     "execution_count": 53,
     "metadata": {},
     "output_type": "execute_result"
    }
   ],
   "source": [
    "df_json.dtypes"
   ]
  },
  {
   "cell_type": "code",
   "execution_count": 50,
   "id": "125b0ea9-6021-43eb-9edb-9deea343183d",
   "metadata": {},
   "outputs": [
    {
     "name": "stdout",
     "output_type": "stream",
     "text": [
      "+------------+-----------+--------------------+------------------+--------------------+-----------------+--------------+---------+--------------------------------+----+-------------------+-------------------+-----------------------+---------------------+-------------------------+-------------------+-----------------------+---------------+----+------------+-----+------------------+-------------+-------------------+--------------------+-------------+---------+--------------------+--------------------+---------+--------------------+------------------+---------------------+--------------+\n",
      "|contributors|coordinates|          created_at|display_text_range|            entities|extended_entities|favorite_count|favorited|                       full_text| geo|                 id|             id_str|in_reply_to_screen_name|in_reply_to_status_id|in_reply_to_status_id_str|in_reply_to_user_id|in_reply_to_user_id_str|is_quote_status|lang|    metadata|place|possibly_sensitive|quoted_status|   quoted_status_id|quoted_status_id_str|retweet_count|retweeted|    retweeted_status|              source|truncated|                user|withheld_copyright|withheld_in_countries|withheld_scope|\n",
      "+------------+-----------+--------------------+------------------+--------------------+-----------------+--------------+---------+--------------------------------+----+-------------------+-------------------+-----------------------+---------------------+-------------------------+-------------------+-----------------------+---------------+----+------------+-----+------------------+-------------+-------------------+--------------------+-------------+---------+--------------------+--------------------+---------+--------------------+------------------+---------------------+--------------+\n",
      "|        null|       null|Mon Apr 04 10:09:...|          [0, 139]|{[], null, [], []...|             null|             0|    false|            RT @ohmpawatt: เพ...|null|1510922604638482432|1510922604638482432|                   null|                 null|                     null|               null|                   null|           true|  th|{th, recent}| null|              null|         null|1510920120490594308| 1510920120490594308|         3582|    false|{null, null, Mon ...|<a href=\"http://t...|    false|{false, Tue Apr 2...|              null|                 null|          null|\n",
      "|        null|       null|Mon Apr 04 10:09:...|          [0, 140]|{[], null, [], []...|             null|             0|    false|            RT @mynameisnanon...|null|1510922603254652929|1510922603254652929|                   null|                 null|                     null|               null|                   null|           true|  th|{th, recent}| null|              null|         null|1510920120490594308| 1510920120490594308|         3837|    false|{null, null, Mon ...|<a href=\"http://t...|    false|{false, Wed Dec 1...|              null|                 null|          null|\n",
      "|        null|       null|Mon Apr 04 10:09:...|          [17, 87]|{[], null, [], []...|             null|             0|    false|            @trudiebakescake ...|null|1510922602075889675|1510922602075889675|        trudiebakescake|  1510695567747338240|      1510695567747338240|          755329842|              755329842|          false|  en|{en, recent}| null|              null|         null|               null|                null|            0|    false|                null|<a href=\"https://...|    false|{false, Thu May 3...|              null|                 null|          null|\n",
      "|        null|       null|Mon Apr 04 10:09:...|          [0, 139]|{[], null, [], []...|             null|             0|    false|            RT @ohmpawatt: เพ...|null|1510922594765053955|1510922594765053955|                   null|                 null|                     null|               null|                   null|           true|  th|{th, recent}| null|              null|         null|1510920120490594308| 1510920120490594308|         3582|    false|{null, null, Mon ...|<a href=\"http://t...|    false|{false, Wed Jul 1...|              null|                 null|          null|\n",
      "|        null|       null|Mon Apr 04 10:09:...|          [0, 139]|{[], null, [], []...|             null|             0|    false|            RT @ohmpawatt: เพ...|null|1510922593993633795|1510922593993633795|                   null|                 null|                     null|               null|                   null|           true|  th|{th, recent}| null|              null|         null|1510920120490594308| 1510920120490594308|         3582|    false|{null, null, Mon ...|<a href=\"http://t...|    false|{false, Wed Dec 1...|              null|                 null|          null|\n",
      "|        null|       null|Mon Apr 04 10:09:...|           [0, 16]|{[], null, [], []...|             null|             1|    false|マジでピンチ助けて自転車ガガガガ|null|1510922593049579521|1510922593049579521|                   null|                 null|                     null|               null|                   null|          false|  ja|{ja, recent}| null|              null|         null|               null|                null|            0|    false|                null|<a href=\"http://t...|    false|{false, Wed Jan 1...|              null|                 null|          null|\n",
      "|        null|       null|Mon Apr 04 10:09:...|          [0, 140]|{[], null, [], []...|             null|             0|    false|            RT @mynameisnanon...|null|1510922584954572801|1510922584954572801|                   null|                 null|                     null|               null|                   null|           true|  th|{th, recent}| null|              null|         null|1510920120490594308| 1510920120490594308|         3837|    false|{null, null, Mon ...|<a href=\"http://t...|    false|{false, Tue Apr 2...|              null|                 null|          null|\n",
      "|        null|       null|Mon Apr 04 10:09:...|          [0, 139]|{[], null, [], []...|             null|             0|    false|            RT @ohmpawatt: เพ...|null|1510922584900079617|1510922584900079617|                   null|                 null|                     null|               null|                   null|           true|  th|{th, recent}| null|              null|         null|1510920120490594308| 1510920120490594308|         3582|    false|{null, null, Mon ...|<a href=\"http://t...|    false|{false, Sat Nov 2...|              null|                 null|          null|\n",
      "|        null|       null|Mon Apr 04 10:09:...|          [0, 140]|{[], null, [], []...|             null|             0|    false|            RT @NotechAna: Am...|null|1510922583675387907|1510922583675387907|                   null|                 null|                     null|               null|                   null|          false|  en|{en, recent}| null|              null|         null|               null|                null|          374|    false|{null, null, Sun ...|<a href=\"http://t...|    false|{false, Sun Apr 1...|              null|                 null|          null|\n",
      "|        null|       null|Mon Apr 04 10:09:...|          [0, 139]|{[], null, [], []...|             null|             0|    false|            RT @ohmpawatt: เพ...|null|1510922578403147779|1510922578403147779|                   null|                 null|                     null|               null|                   null|           true|  th|{th, recent}| null|              null|         null|1510920120490594308| 1510920120490594308|         3582|    false|{null, null, Mon ...|<a href=\"http://t...|    false|{false, Wed Mar 1...|              null|                 null|          null|\n",
      "|        null|       null|Mon Apr 04 10:09:...|          [0, 140]|{[], null, [], []...|             null|             0|    false|            RT @mynameisnanon...|null|1510922577102868491|1510922577102868491|                   null|                 null|                     null|               null|                   null|           true|  th|{th, recent}| null|              null|         null|1510920120490594308| 1510920120490594308|         3837|    false|{null, null, Mon ...|<a href=\"http://t...|    false|{false, Thu Nov 2...|              null|                 null|          null|\n",
      "|        null|       null|Mon Apr 04 10:09:...|          [0, 140]|{[], null, [], [{...|             null|             0|    false|            RT @GMMTV: สำหรับ...|null|1510922575429341188|1510922575429341188|                   null|                 null|                     null|               null|                   null|           true|  th|{th, recent}| null|             false|         null|1510920120490594308| 1510920120490594308|          649|    false|{null, null, Mon ...|<a href=\"http://t...|    false|{false, Sun Aug 0...|              null|                 null|          null|\n",
      "|        null|       null|Mon Apr 04 10:09:...|          [0, 139]|{[], null, [], []...|             null|             0|    false|            RT @ohmpawatt: เพ...|null|1510922573810311173|1510922573810311173|                   null|                 null|                     null|               null|                   null|           true|  th|{th, recent}| null|              null|         null|1510920120490594308| 1510920120490594308|         3582|    false|{null, null, Mon ...|<a href=\"http://t...|    false|{false, Wed Sep 2...|              null|                 null|          null|\n",
      "|        null|       null|Mon Apr 04 10:09:...|          [0, 140]|{[], null, [], []...|             null|             0|    false|            RT @mynameisnanon...|null|1510922571746738185|1510922571746738185|                   null|                 null|                     null|               null|                   null|           true|  th|{th, recent}| null|              null|         null|1510920120490594308| 1510920120490594308|         3837|    false|{null, null, Mon ...|<a href=\"http://t...|    false|{false, Sat Nov 2...|              null|                 null|          null|\n",
      "|        null|       null|Mon Apr 04 10:09:...|          [0, 139]|{[], null, [], []...|             null|             0|    false|            RT @ohmpawatt: เพ...|null|1510922568748105730|1510922568748105730|                   null|                 null|                     null|               null|                   null|           true|  th|{th, recent}| null|              null|         null|1510920120490594308| 1510920120490594308|         3582|    false|{null, null, Mon ...|<a href=\"http://t...|    false|{false, Fri Jun 1...|              null|                 null|          null|\n",
      "|        null|       null|Mon Apr 04 10:09:...|          [0, 140]|{[], null, [], [{...|             null|             0|    false|            RT @GMMTV: สำหรับ...|null|1510922564557701123|1510922564557701123|                   null|                 null|                     null|               null|                   null|           true|  th|{th, recent}| null|             false|         null|1510920120490594308| 1510920120490594308|          649|    false|{null, null, Mon ...|<a href=\"http://t...|    false|{false, Sat Nov 2...|              null|                 null|          null|\n",
      "|        null|       null|Mon Apr 04 10:09:...|          [0, 140]|{[], null, [], []...|             null|             0|    false|            RT @mynameisnanon...|null|1510922562624139268|1510922562624139268|                   null|                 null|                     null|               null|                   null|           true|  th|{th, recent}| null|              null|         null|1510920120490594308| 1510920120490594308|         3837|    false|{null, null, Mon ...|<a href=\"http://t...|    false|{false, Wed Sep 2...|              null|                 null|          null|\n",
      "|        null|       null|Mon Apr 04 10:09:...|          [0, 139]|{[], null, [], []...|             null|             0|    false|            RT @ohmpawatt: เพ...|null|1510922560912777218|1510922560912777218|                   null|                 null|                     null|               null|                   null|           true|  th|{th, recent}| null|              null|         null|1510920120490594308| 1510920120490594308|         3582|    false|{null, null, Mon ...|<a href=\"http://t...|    false|{false, Thu Nov 2...|              null|                 null|          null|\n",
      "|        null|       null|Mon Apr 04 10:09:...|          [0, 139]|{[], null, [], []...|             null|             0|    false|            RT @ohmpawatt: เพ...|null|1510922560552472576|1510922560552472576|                   null|                 null|                     null|               null|                   null|           true|  th|{th, recent}| null|              null|         null|1510920120490594308| 1510920120490594308|         3582|    false|{null, null, Mon ...|<a href=\"http://t...|    false|{false, Tue Jan 1...|              null|                 null|          null|\n",
      "|        null|       null|Mon Apr 04 10:09:...|          [0, 139]|{[], null, [], []...|             null|             0|    false|            RT @ohmpawatt: เพ...|null|1510922555657715720|1510922555657715720|                   null|                 null|                     null|               null|                   null|           true|  th|{th, recent}| null|              null|         null|1510920120490594308| 1510920120490594308|         3582|    false|{null, null, Mon ...|<a href=\"http://t...|    false|{false, Thu Dec 3...|              null|                 null|          null|\n",
      "+------------+-----------+--------------------+------------------+--------------------+-----------------+--------------+---------+--------------------------------+----+-------------------+-------------------+-----------------------+---------------------+-------------------------+-------------------+-----------------------+---------------+----+------------+-----+------------------+-------------+-------------------+--------------------+-------------+---------+--------------------+--------------------+---------+--------------------+------------------+---------------------+--------------+\n",
      "only showing top 20 rows\n",
      "\n"
     ]
    }
   ],
   "source": [
    "df_json.show()"
   ]
  },
  {
   "cell_type": "code",
   "execution_count": 51,
   "id": "dc6788dc-888a-44fe-9b54-999d5c31c8ae",
   "metadata": {},
   "outputs": [
    {
     "ename": "TypeError",
     "evalue": "object of type 'DataFrame' has no len()",
     "output_type": "error",
     "traceback": [
      "\u001b[0;31m---------------------------------------------------------------------------\u001b[0m",
      "\u001b[0;31mTypeError\u001b[0m                                 Traceback (most recent call last)",
      "Cell \u001b[0;32mIn [51], line 1\u001b[0m\n\u001b[0;32m----> 1\u001b[0m \u001b[38;5;28;43mlen\u001b[39;49m\u001b[43m(\u001b[49m\u001b[43mdf_json\u001b[49m\u001b[43m)\u001b[49m\n",
      "\u001b[0;31mTypeError\u001b[0m: object of type 'DataFrame' has no len()"
     ]
    }
   ],
   "source": [
    "len(df_json)"
   ]
  },
  {
   "cell_type": "code",
   "execution_count": null,
   "id": "e8ade216-7f22-4e46-bcb9-96b25ca454ec",
   "metadata": {},
   "outputs": [],
   "source": []
  },
  {
   "cell_type": "code",
   "execution_count": null,
   "id": "3c354cab-9778-421b-bc1e-c0de99aefd4d",
   "metadata": {},
   "outputs": [],
   "source": []
  },
  {
   "cell_type": "code",
   "execution_count": null,
   "id": "25227b96-d74b-4bdc-b5ed-42073fec63aa",
   "metadata": {},
   "outputs": [],
   "source": []
  }
 ],
 "metadata": {
  "kernelspec": {
   "display_name": "Python 3 (ipykernel)",
   "language": "python",
   "name": "python3"
  },
  "language_info": {
   "codemirror_mode": {
    "name": "ipython",
    "version": 3
   },
   "file_extension": ".py",
   "mimetype": "text/x-python",
   "name": "python",
   "nbconvert_exporter": "python",
   "pygments_lexer": "ipython3",
   "version": "3.10.6"
  }
 },
 "nbformat": 4,
 "nbformat_minor": 5
}
