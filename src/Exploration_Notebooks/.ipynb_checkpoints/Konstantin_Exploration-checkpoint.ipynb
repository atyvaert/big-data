{
 "cells": [
  {
   "cell_type": "code",
   "execution_count": 1,
   "id": "87226276-9d83-48bc-9bc3-9219a428de2a",
   "metadata": {},
   "outputs": [
    {
     "name": "stderr",
     "output_type": "stream",
     "text": [
      "Setting default log level to \"WARN\".\n",
      "To adjust logging level use sc.setLogLevel(newLevel). For SparkR, use setLogLevel(newLevel).\n"
     ]
    },
    {
     "name": "stdout",
     "output_type": "stream",
     "text": [
      "22/11/19 20:37:09 WARN NativeCodeLoader: Unable to load native-hadoop library for your platform... using builtin-java classes where applicable\n",
      "22/11/19 20:37:09 WARN Utils: Service 'SparkUI' could not bind on port 4040. Attempting port 4041.\n",
      "22/11/19 20:37:09 WARN Utils: Service 'SparkUI' could not bind on port 4041. Attempting port 4042.\n",
      "22/11/19 20:37:09 WARN Utils: Service 'SparkUI' could not bind on port 4042. Attempting port 4043.\n"
     ]
    }
   ],
   "source": [
    "# import findspark\n",
    "import findspark\n",
    "# initialize findspark with spark directory\n",
    "findspark.init(\"/Users/konstantinlazarov/Desktop/Big_Data/PySpark/Week_5/spark\")\n",
    "# import pyspark\n",
    "import pyspark\n",
    "# create spark context\n",
    "sc = pyspark.SparkContext()\n",
    "# create spark session \n",
    "spark = pyspark.sql.SparkSession(sc)"
   ]
  },
  {
   "cell_type": "code",
   "execution_count": 73,
   "id": "a5fd03ea-50af-4201-96b3-5ead4b26470d",
   "metadata": {},
   "outputs": [
    {
     "data": {
      "text/html": [
       "\n",
       "            <div>\n",
       "                <p><b>SparkSession - in-memory</b></p>\n",
       "                \n",
       "        <div>\n",
       "            <p><b>SparkContext</b></p>\n",
       "\n",
       "            <p><a href=\"http://192.168.1.45:4043\">Spark UI</a></p>\n",
       "\n",
       "            <dl>\n",
       "              <dt>Version</dt>\n",
       "                <dd><code>v3.3.1</code></dd>\n",
       "              <dt>Master</dt>\n",
       "                <dd><code>local[*]</code></dd>\n",
       "              <dt>AppName</dt>\n",
       "                <dd><code>pyspark-shell</code></dd>\n",
       "            </dl>\n",
       "        </div>\n",
       "        \n",
       "            </div>\n",
       "        "
      ],
      "text/plain": [
       "<pyspark.sql.session.SparkSession at 0x10374f070>"
      ]
     },
     "execution_count": 73,
     "metadata": {},
     "output_type": "execute_result"
    }
   ],
   "source": [
    "spark"
   ]
  },
  {
   "cell_type": "code",
   "execution_count": 74,
   "id": "289cba5c-ff9a-4055-84a2-024b7a67f188",
   "metadata": {},
   "outputs": [],
   "source": [
    "#set this path to your path, for some reason I have an error \n",
    "#reading in all the files\n",
    "import os \n",
    "path_json = \".././../data/Topic_vegan/*.json\""
   ]
  },
  {
   "cell_type": "code",
   "execution_count": 75,
   "id": "0cd1fd47-245e-4ddb-a7df-e7c715ee78a3",
   "metadata": {},
   "outputs": [
    {
     "name": "stderr",
     "output_type": "stream",
     "text": [
      "                                                                                ================>                              (1519 + 8) / 3668]==========>                    (2245 + 8) / 3668]==>           (2861 + 10) / 3668]3536 + 8) / 3668]\r"
     ]
    }
   ],
   "source": [
    "df_json = spark.read.option(\"multiline\",\"true\").json(path_json)"
   ]
  },
  {
   "cell_type": "code",
   "execution_count": 76,
   "id": "c941772d-c3da-4d4d-b1c7-ad9811648c54",
   "metadata": {},
   "outputs": [
    {
     "data": {
      "text/plain": [
       "[('contributors', 'string'),\n",
       " ('coordinates', 'struct<coordinates:array<double>,type:string>'),\n",
       " ('created_at', 'string'),\n",
       " ('display_text_range', 'array<bigint>'),\n",
       " ('entities',\n",
       "  'struct<hashtags:array<struct<indices:array<bigint>,text:string>>,media:array<struct<display_url:string,expanded_url:string,id:bigint,id_str:string,indices:array<bigint>,media_url:string,media_url_https:string,sizes:struct<large:struct<h:bigint,resize:string,w:bigint>,medium:struct<h:bigint,resize:string,w:bigint>,small:struct<h:bigint,resize:string,w:bigint>,thumb:struct<h:bigint,resize:string,w:bigint>>,source_status_id:bigint,source_status_id_str:string,source_user_id:bigint,source_user_id_str:string,type:string,url:string>>,symbols:array<struct<indices:array<bigint>,text:string>>,urls:array<struct<display_url:string,expanded_url:string,indices:array<bigint>,url:string>>,user_mentions:array<struct<id:bigint,id_str:string,indices:array<bigint>,name:string,screen_name:string>>>'),\n",
       " ('extended_entities',\n",
       "  'struct<media:array<struct<additional_media_info:struct<call_to_actions:struct<visit_site:struct<url:string>,watch_now:struct<url:string>>,description:string,embeddable:boolean,monetizable:boolean,source_user:struct<contributors_enabled:boolean,created_at:string,default_profile:boolean,default_profile_image:boolean,description:string,entities:struct<description:struct<urls:array<struct<display_url:string,expanded_url:string,indices:array<bigint>,url:string>>>,url:struct<urls:array<struct<display_url:string,expanded_url:string,indices:array<bigint>,url:string>>>>,favourites_count:bigint,follow_request_sent:boolean,followers_count:bigint,following:boolean,friends_count:bigint,geo_enabled:boolean,has_extended_profile:boolean,id:bigint,id_str:string,is_translation_enabled:boolean,is_translator:boolean,lang:string,listed_count:bigint,location:string,name:string,notifications:boolean,profile_background_color:string,profile_background_image_url:string,profile_background_image_url_https:string,profile_background_tile:boolean,profile_banner_url:string,profile_image_url:string,profile_image_url_https:string,profile_link_color:string,profile_sidebar_border_color:string,profile_sidebar_fill_color:string,profile_text_color:string,profile_use_background_image:boolean,protected:boolean,screen_name:string,statuses_count:bigint,time_zone:string,translator_type:string,url:string,utc_offset:string,verified:boolean,withheld_in_countries:array<string>>,title:string>,display_url:string,expanded_url:string,id:bigint,id_str:string,indices:array<bigint>,media_url:string,media_url_https:string,sizes:struct<large:struct<h:bigint,resize:string,w:bigint>,medium:struct<h:bigint,resize:string,w:bigint>,small:struct<h:bigint,resize:string,w:bigint>,thumb:struct<h:bigint,resize:string,w:bigint>>,source_status_id:bigint,source_status_id_str:string,source_user_id:bigint,source_user_id_str:string,type:string,url:string,video_info:struct<aspect_ratio:array<bigint>,duration_millis:bigint,variants:array<struct<bitrate:bigint,content_type:string,url:string>>>>>>'),\n",
       " ('favorite_count', 'bigint'),\n",
       " ('favorited', 'boolean'),\n",
       " ('full_text', 'string'),\n",
       " ('geo', 'struct<coordinates:array<double>,type:string>'),\n",
       " ('id', 'bigint'),\n",
       " ('id_str', 'string'),\n",
       " ('in_reply_to_screen_name', 'string'),\n",
       " ('in_reply_to_status_id', 'bigint'),\n",
       " ('in_reply_to_status_id_str', 'string'),\n",
       " ('in_reply_to_user_id', 'bigint'),\n",
       " ('in_reply_to_user_id_str', 'string'),\n",
       " ('is_quote_status', 'boolean'),\n",
       " ('lang', 'string'),\n",
       " ('metadata', 'struct<iso_language_code:string,result_type:string>'),\n",
       " ('place',\n",
       "  'struct<bounding_box:struct<coordinates:array<array<array<double>>>,type:string>,contained_within:array<string>,country:string,country_code:string,full_name:string,id:string,name:string,place_type:string,url:string>'),\n",
       " ('possibly_sensitive', 'boolean'),\n",
       " ('quoted_status',\n",
       "  'struct<contributors:string,coordinates:struct<coordinates:array<double>,type:string>,created_at:string,display_text_range:array<bigint>,entities:struct<hashtags:array<struct<indices:array<bigint>,text:string>>,media:array<struct<display_url:string,expanded_url:string,id:bigint,id_str:string,indices:array<bigint>,media_url:string,media_url_https:string,sizes:struct<large:struct<h:bigint,resize:string,w:bigint>,medium:struct<h:bigint,resize:string,w:bigint>,small:struct<h:bigint,resize:string,w:bigint>,thumb:struct<h:bigint,resize:string,w:bigint>>,source_status_id:bigint,source_status_id_str:string,source_user_id:bigint,source_user_id_str:string,type:string,url:string>>,symbols:array<struct<indices:array<bigint>,text:string>>,urls:array<struct<display_url:string,expanded_url:string,indices:array<bigint>,url:string>>,user_mentions:array<struct<id:bigint,id_str:string,indices:array<bigint>,name:string,screen_name:string>>>,extended_entities:struct<media:array<struct<additional_media_info:struct<call_to_actions:struct<visit_site:struct<url:string>,watch_now:struct<url:string>>,description:string,embeddable:boolean,monetizable:boolean,source_user:struct<contributors_enabled:boolean,created_at:string,default_profile:boolean,default_profile_image:boolean,description:string,entities:struct<description:struct<urls:array<struct<display_url:string,expanded_url:string,indices:array<bigint>,url:string>>>,url:struct<urls:array<struct<display_url:string,expanded_url:string,indices:array<bigint>,url:string>>>>,favourites_count:bigint,follow_request_sent:boolean,followers_count:bigint,following:boolean,friends_count:bigint,geo_enabled:boolean,has_extended_profile:boolean,id:bigint,id_str:string,is_translation_enabled:boolean,is_translator:boolean,lang:string,listed_count:bigint,location:string,name:string,notifications:boolean,profile_background_color:string,profile_background_image_url:string,profile_background_image_url_https:string,profile_background_tile:boolean,profile_banner_url:string,profile_image_url:string,profile_image_url_https:string,profile_link_color:string,profile_sidebar_border_color:string,profile_sidebar_fill_color:string,profile_text_color:string,profile_use_background_image:boolean,protected:boolean,screen_name:string,statuses_count:bigint,time_zone:string,translator_type:string,url:string,utc_offset:string,verified:boolean,withheld_in_countries:array<string>>,title:string>,display_url:string,expanded_url:string,id:bigint,id_str:string,indices:array<bigint>,media_url:string,media_url_https:string,sizes:struct<large:struct<h:bigint,resize:string,w:bigint>,medium:struct<h:bigint,resize:string,w:bigint>,small:struct<h:bigint,resize:string,w:bigint>,thumb:struct<h:bigint,resize:string,w:bigint>>,source_status_id:bigint,source_status_id_str:string,source_user_id:bigint,source_user_id_str:string,type:string,url:string,video_info:struct<aspect_ratio:array<bigint>,duration_millis:bigint,variants:array<struct<bitrate:bigint,content_type:string,url:string>>>>>>,favorite_count:bigint,favorited:boolean,full_text:string,geo:struct<coordinates:array<double>,type:string>,id:bigint,id_str:string,in_reply_to_screen_name:string,in_reply_to_status_id:bigint,in_reply_to_status_id_str:string,in_reply_to_user_id:bigint,in_reply_to_user_id_str:string,is_quote_status:boolean,lang:string,metadata:struct<iso_language_code:string,result_type:string>,place:struct<bounding_box:struct<coordinates:array<array<array<double>>>,type:string>,contained_within:array<string>,country:string,country_code:string,full_name:string,id:string,name:string,place_type:string,url:string>,possibly_sensitive:boolean,quoted_status_id:bigint,quoted_status_id_str:string,retweet_count:bigint,retweeted:boolean,scopes:struct<followers:boolean>,source:string,truncated:boolean,user:struct<contributors_enabled:boolean,created_at:string,default_profile:boolean,default_profile_image:boolean,description:string,entities:struct<description:struct<urls:array<struct<display_url:string,expanded_url:string,indices:array<bigint>,url:string>>>,url:struct<urls:array<struct<display_url:string,expanded_url:string,indices:array<bigint>,url:string>>>>,favourites_count:bigint,follow_request_sent:boolean,followers_count:bigint,following:boolean,friends_count:bigint,geo_enabled:boolean,has_extended_profile:boolean,id:bigint,id_str:string,is_translation_enabled:boolean,is_translator:boolean,lang:string,listed_count:bigint,location:string,name:string,notifications:boolean,profile_background_color:string,profile_background_image_url:string,profile_background_image_url_https:string,profile_background_tile:boolean,profile_banner_url:string,profile_image_url:string,profile_image_url_https:string,profile_link_color:string,profile_sidebar_border_color:string,profile_sidebar_fill_color:string,profile_text_color:string,profile_use_background_image:boolean,protected:boolean,screen_name:string,statuses_count:bigint,time_zone:string,translator_type:string,url:string,utc_offset:string,verified:boolean,withheld_in_countries:array<string>>,withheld_in_countries:array<string>>'),\n",
       " ('quoted_status_id', 'bigint'),\n",
       " ('quoted_status_id_str', 'string'),\n",
       " ('retweet_count', 'bigint'),\n",
       " ('retweeted', 'boolean'),\n",
       " ('retweeted_status',\n",
       "  'struct<contributors:string,coordinates:struct<coordinates:array<double>,type:string>,created_at:string,display_text_range:array<bigint>,entities:struct<hashtags:array<struct<indices:array<bigint>,text:string>>,media:array<struct<display_url:string,expanded_url:string,id:bigint,id_str:string,indices:array<bigint>,media_url:string,media_url_https:string,sizes:struct<large:struct<h:bigint,resize:string,w:bigint>,medium:struct<h:bigint,resize:string,w:bigint>,small:struct<h:bigint,resize:string,w:bigint>,thumb:struct<h:bigint,resize:string,w:bigint>>,source_status_id:bigint,source_status_id_str:string,source_user_id:bigint,source_user_id_str:string,type:string,url:string>>,symbols:array<struct<indices:array<bigint>,text:string>>,urls:array<struct<display_url:string,expanded_url:string,indices:array<bigint>,url:string>>,user_mentions:array<struct<id:bigint,id_str:string,indices:array<bigint>,name:string,screen_name:string>>>,extended_entities:struct<media:array<struct<additional_media_info:struct<call_to_actions:struct<visit_site:struct<url:string>,watch_now:struct<url:string>>,description:string,embeddable:boolean,monetizable:boolean,source_user:struct<contributors_enabled:boolean,created_at:string,default_profile:boolean,default_profile_image:boolean,description:string,entities:struct<description:struct<urls:array<struct<display_url:string,expanded_url:string,indices:array<bigint>,url:string>>>,url:struct<urls:array<struct<display_url:string,expanded_url:string,indices:array<bigint>,url:string>>>>,favourites_count:bigint,follow_request_sent:boolean,followers_count:bigint,following:boolean,friends_count:bigint,geo_enabled:boolean,has_extended_profile:boolean,id:bigint,id_str:string,is_translation_enabled:boolean,is_translator:boolean,lang:string,listed_count:bigint,location:string,name:string,notifications:boolean,profile_background_color:string,profile_background_image_url:string,profile_background_image_url_https:string,profile_background_tile:boolean,profile_banner_url:string,profile_image_url:string,profile_image_url_https:string,profile_link_color:string,profile_sidebar_border_color:string,profile_sidebar_fill_color:string,profile_text_color:string,profile_use_background_image:boolean,protected:boolean,screen_name:string,statuses_count:bigint,time_zone:string,translator_type:string,url:string,utc_offset:string,verified:boolean,withheld_in_countries:array<string>>,title:string>,display_url:string,expanded_url:string,id:bigint,id_str:string,indices:array<bigint>,media_url:string,media_url_https:string,sizes:struct<large:struct<h:bigint,resize:string,w:bigint>,medium:struct<h:bigint,resize:string,w:bigint>,small:struct<h:bigint,resize:string,w:bigint>,thumb:struct<h:bigint,resize:string,w:bigint>>,source_status_id:bigint,source_status_id_str:string,source_user_id:bigint,source_user_id_str:string,type:string,url:string,video_info:struct<aspect_ratio:array<bigint>,duration_millis:bigint,variants:array<struct<bitrate:bigint,content_type:string,url:string>>>>>>,favorite_count:bigint,favorited:boolean,full_text:string,geo:struct<coordinates:array<double>,type:string>,id:bigint,id_str:string,in_reply_to_screen_name:string,in_reply_to_status_id:bigint,in_reply_to_status_id_str:string,in_reply_to_user_id:bigint,in_reply_to_user_id_str:string,is_quote_status:boolean,lang:string,metadata:struct<iso_language_code:string,result_type:string>,place:struct<bounding_box:struct<coordinates:array<array<array<double>>>,type:string>,contained_within:array<string>,country:string,country_code:string,full_name:string,id:string,name:string,place_type:string,url:string>,possibly_sensitive:boolean,quoted_status:struct<contributors:string,coordinates:struct<coordinates:array<double>,type:string>,created_at:string,display_text_range:array<bigint>,entities:struct<hashtags:array<struct<indices:array<bigint>,text:string>>,media:array<struct<display_url:string,expanded_url:string,id:bigint,id_str:string,indices:array<bigint>,media_url:string,media_url_https:string,sizes:struct<large:struct<h:bigint,resize:string,w:bigint>,medium:struct<h:bigint,resize:string,w:bigint>,small:struct<h:bigint,resize:string,w:bigint>,thumb:struct<h:bigint,resize:string,w:bigint>>,source_status_id:bigint,source_status_id_str:string,source_user_id:bigint,source_user_id_str:string,type:string,url:string>>,symbols:array<struct<indices:array<bigint>,text:string>>,urls:array<struct<display_url:string,expanded_url:string,indices:array<bigint>,url:string>>,user_mentions:array<struct<id:bigint,id_str:string,indices:array<bigint>,name:string,screen_name:string>>>,extended_entities:struct<media:array<struct<additional_media_info:struct<call_to_actions:struct<visit_site:struct<url:string>,watch_now:struct<url:string>>,description:string,embeddable:boolean,monetizable:boolean,source_user:struct<contributors_enabled:boolean,created_at:string,default_profile:boolean,default_profile_image:boolean,description:string,entities:struct<description:struct<urls:array<struct<display_url:string,expanded_url:string,indices:array<bigint>,url:string>>>,url:struct<urls:array<struct<display_url:string,expanded_url:string,indices:array<bigint>,url:string>>>>,favourites_count:bigint,follow_request_sent:boolean,followers_count:bigint,following:boolean,friends_count:bigint,geo_enabled:boolean,has_extended_profile:boolean,id:bigint,id_str:string,is_translation_enabled:boolean,is_translator:boolean,lang:string,listed_count:bigint,location:string,name:string,notifications:boolean,profile_background_color:string,profile_background_image_url:string,profile_background_image_url_https:string,profile_background_tile:boolean,profile_banner_url:string,profile_image_url:string,profile_image_url_https:string,profile_link_color:string,profile_sidebar_border_color:string,profile_sidebar_fill_color:string,profile_text_color:string,profile_use_background_image:boolean,protected:boolean,screen_name:string,statuses_count:bigint,time_zone:string,translator_type:string,url:string,utc_offset:string,verified:boolean,withheld_in_countries:array<string>>,title:string>,display_url:string,expanded_url:string,id:bigint,id_str:string,indices:array<bigint>,media_url:string,media_url_https:string,sizes:struct<large:struct<h:bigint,resize:string,w:bigint>,medium:struct<h:bigint,resize:string,w:bigint>,small:struct<h:bigint,resize:string,w:bigint>,thumb:struct<h:bigint,resize:string,w:bigint>>,source_status_id:bigint,source_status_id_str:string,source_user_id:bigint,source_user_id_str:string,type:string,url:string,video_info:struct<aspect_ratio:array<bigint>,duration_millis:bigint,variants:array<struct<bitrate:bigint,content_type:string,url:string>>>>>>,favorite_count:bigint,favorited:boolean,full_text:string,geo:struct<coordinates:array<double>,type:string>,id:bigint,id_str:string,in_reply_to_screen_name:string,in_reply_to_status_id:bigint,in_reply_to_status_id_str:string,in_reply_to_user_id:bigint,in_reply_to_user_id_str:string,is_quote_status:boolean,lang:string,metadata:struct<iso_language_code:string,result_type:string>,place:struct<bounding_box:struct<coordinates:array<array<array<double>>>,type:string>,contained_within:array<string>,country:string,country_code:string,full_name:string,id:string,name:string,place_type:string,url:string>,possibly_sensitive:boolean,quoted_status_id:bigint,quoted_status_id_str:string,retweet_count:bigint,retweeted:boolean,scopes:struct<followers:boolean>,source:string,truncated:boolean,user:struct<contributors_enabled:boolean,created_at:string,default_profile:boolean,default_profile_image:boolean,description:string,entities:struct<description:struct<urls:array<struct<display_url:string,expanded_url:string,indices:array<bigint>,url:string>>>,url:struct<urls:array<struct<display_url:string,expanded_url:string,indices:array<bigint>,url:string>>>>,favourites_count:bigint,follow_request_sent:boolean,followers_count:bigint,following:boolean,friends_count:bigint,geo_enabled:boolean,has_extended_profile:boolean,id:bigint,id_str:string,is_translation_enabled:boolean,is_translator:boolean,lang:string,listed_count:bigint,location:string,name:string,notifications:boolean,profile_background_color:string,profile_background_image_url:string,profile_background_image_url_https:string,profile_background_tile:boolean,profile_banner_url:string,profile_image_url:string,profile_image_url_https:string,profile_link_color:string,profile_sidebar_border_color:string,profile_sidebar_fill_color:string,profile_text_color:string,profile_use_background_image:boolean,protected:boolean,screen_name:string,statuses_count:bigint,time_zone:string,translator_type:string,url:string,utc_offset:string,verified:boolean,withheld_in_countries:array<string>>,withheld_in_countries:array<string>>,quoted_status_id:bigint,quoted_status_id_str:string,retweet_count:bigint,retweeted:boolean,scopes:struct<followers:boolean>,source:string,truncated:boolean,user:struct<contributors_enabled:boolean,created_at:string,default_profile:boolean,default_profile_image:boolean,description:string,entities:struct<description:struct<urls:array<struct<display_url:string,expanded_url:string,indices:array<bigint>,url:string>>>,url:struct<urls:array<struct<display_url:string,expanded_url:string,indices:array<bigint>,url:string>>>>,favourites_count:bigint,follow_request_sent:boolean,followers_count:bigint,following:boolean,friends_count:bigint,geo_enabled:boolean,has_extended_profile:boolean,id:bigint,id_str:string,is_translation_enabled:boolean,is_translator:boolean,lang:string,listed_count:bigint,location:string,name:string,notifications:boolean,profile_background_color:string,profile_background_image_url:string,profile_background_image_url_https:string,profile_background_tile:boolean,profile_banner_url:string,profile_image_url:string,profile_image_url_https:string,profile_link_color:string,profile_sidebar_border_color:string,profile_sidebar_fill_color:string,profile_text_color:string,profile_use_background_image:boolean,protected:boolean,screen_name:string,statuses_count:bigint,time_zone:string,translator_type:string,url:string,utc_offset:string,verified:boolean,withheld_in_countries:array<string>,withheld_scope:string>,withheld_copyright:boolean,withheld_in_countries:array<string>,withheld_scope:string>'),\n",
       " ('source', 'string'),\n",
       " ('truncated', 'boolean'),\n",
       " ('user',\n",
       "  'struct<contributors_enabled:boolean,created_at:string,default_profile:boolean,default_profile_image:boolean,description:string,entities:struct<description:struct<urls:array<struct<display_url:string,expanded_url:string,indices:array<bigint>,url:string>>>,url:struct<urls:array<struct<display_url:string,expanded_url:string,indices:array<bigint>,url:string>>>>,favourites_count:bigint,follow_request_sent:boolean,followers_count:bigint,following:boolean,friends_count:bigint,geo_enabled:boolean,has_extended_profile:boolean,id:bigint,id_str:string,is_translation_enabled:boolean,is_translator:boolean,lang:string,listed_count:bigint,location:string,name:string,notifications:boolean,profile_background_color:string,profile_background_image_url:string,profile_background_image_url_https:string,profile_background_tile:boolean,profile_banner_url:string,profile_image_url:string,profile_image_url_https:string,profile_link_color:string,profile_sidebar_border_color:string,profile_sidebar_fill_color:string,profile_text_color:string,profile_use_background_image:boolean,protected:boolean,screen_name:string,statuses_count:bigint,time_zone:string,translator_type:string,url:string,utc_offset:string,verified:boolean,withheld_in_countries:array<string>,withheld_scope:string>'),\n",
       " ('withheld_copyright', 'boolean'),\n",
       " ('withheld_in_countries', 'array<string>'),\n",
       " ('withheld_scope', 'string')]"
      ]
     },
     "execution_count": 76,
     "metadata": {},
     "output_type": "execute_result"
    }
   ],
   "source": [
    "df_json.dtypes\n",
    "#currently we have nested json files "
   ]
  },
  {
   "cell_type": "code",
   "execution_count": 84,
   "id": "125b0ea9-6021-43eb-9edb-9deea343183d",
   "metadata": {},
   "outputs": [
    {
     "ename": "AnalysisException",
     "evalue": "Column 'struct' does not exist. Did you mean one of the following? [entities];\n'Project ['struct]\n+- Project [entities#1187]\n   +- Relation [contributors#1183,coordinates#1184,created_at#1185,display_text_range#1186,entities#1187,extended_entities#1188,favorite_count#1189L,favorited#1190,full_text#1191,geo#1192,id#1193L,id_str#1194,in_reply_to_screen_name#1195,in_reply_to_status_id#1196L,in_reply_to_status_id_str#1197,in_reply_to_user_id#1198L,in_reply_to_user_id_str#1199,is_quote_status#1200,lang#1201,metadata#1202,place#1203,possibly_sensitive#1204,quoted_status#1205,quoted_status_id#1206L,... 10 more fields] json\n",
     "output_type": "error",
     "traceback": [
      "\u001b[0;31m---------------------------------------------------------------------------\u001b[0m",
      "\u001b[0;31mAnalysisException\u001b[0m                         Traceback (most recent call last)",
      "Cell \u001b[0;32mIn [84], line 1\u001b[0m\n\u001b[0;32m----> 1\u001b[0m \u001b[43mdf_json\u001b[49m\u001b[38;5;241;43m.\u001b[39;49m\u001b[43mselect\u001b[49m\u001b[43m(\u001b[49m\u001b[38;5;124;43m'\u001b[39;49m\u001b[38;5;124;43mentities\u001b[39;49m\u001b[38;5;124;43m'\u001b[39;49m\u001b[43m)\u001b[49m\u001b[38;5;241;43m.\u001b[39;49m\u001b[43mselect\u001b[49m\u001b[43m(\u001b[49m\u001b[38;5;124;43m'\u001b[39;49m\u001b[38;5;124;43mstruct\u001b[39;49m\u001b[38;5;124;43m'\u001b[39;49m\u001b[43m)\u001b[49m\n",
      "File \u001b[0;32m~/Desktop/Big_Data/PySpark/Week_5/spark/python/pyspark/sql/dataframe.py:2023\u001b[0m, in \u001b[0;36mDataFrame.select\u001b[0;34m(self, *cols)\u001b[0m\n\u001b[1;32m   2002\u001b[0m \u001b[38;5;28;01mdef\u001b[39;00m \u001b[38;5;21mselect\u001b[39m(\u001b[38;5;28mself\u001b[39m, \u001b[38;5;241m*\u001b[39mcols: \u001b[38;5;124m\"\u001b[39m\u001b[38;5;124mColumnOrName\u001b[39m\u001b[38;5;124m\"\u001b[39m) \u001b[38;5;241m-\u001b[39m\u001b[38;5;241m>\u001b[39m \u001b[38;5;124m\"\u001b[39m\u001b[38;5;124mDataFrame\u001b[39m\u001b[38;5;124m\"\u001b[39m:  \u001b[38;5;66;03m# type: ignore[misc]\u001b[39;00m\n\u001b[1;32m   2003\u001b[0m     \u001b[38;5;124;03m\"\"\"Projects a set of expressions and returns a new :class:`DataFrame`.\u001b[39;00m\n\u001b[1;32m   2004\u001b[0m \n\u001b[1;32m   2005\u001b[0m \u001b[38;5;124;03m    .. versionadded:: 1.3.0\u001b[39;00m\n\u001b[0;32m   (...)\u001b[0m\n\u001b[1;32m   2021\u001b[0m \u001b[38;5;124;03m    [Row(name='Alice', age=12), Row(name='Bob', age=15)]\u001b[39;00m\n\u001b[1;32m   2022\u001b[0m \u001b[38;5;124;03m    \"\"\"\u001b[39;00m\n\u001b[0;32m-> 2023\u001b[0m     jdf \u001b[38;5;241m=\u001b[39m \u001b[38;5;28;43mself\u001b[39;49m\u001b[38;5;241;43m.\u001b[39;49m\u001b[43m_jdf\u001b[49m\u001b[38;5;241;43m.\u001b[39;49m\u001b[43mselect\u001b[49m\u001b[43m(\u001b[49m\u001b[38;5;28;43mself\u001b[39;49m\u001b[38;5;241;43m.\u001b[39;49m\u001b[43m_jcols\u001b[49m\u001b[43m(\u001b[49m\u001b[38;5;241;43m*\u001b[39;49m\u001b[43mcols\u001b[49m\u001b[43m)\u001b[49m\u001b[43m)\u001b[49m\n\u001b[1;32m   2024\u001b[0m     \u001b[38;5;28;01mreturn\u001b[39;00m DataFrame(jdf, \u001b[38;5;28mself\u001b[39m\u001b[38;5;241m.\u001b[39msparkSession)\n",
      "File \u001b[0;32m~/Desktop/Big_Data/PySpark/Week_5/spark/python/lib/py4j-0.10.9.5-src.zip/py4j/java_gateway.py:1321\u001b[0m, in \u001b[0;36mJavaMember.__call__\u001b[0;34m(self, *args)\u001b[0m\n\u001b[1;32m   1315\u001b[0m command \u001b[38;5;241m=\u001b[39m proto\u001b[38;5;241m.\u001b[39mCALL_COMMAND_NAME \u001b[38;5;241m+\u001b[39m\\\n\u001b[1;32m   1316\u001b[0m     \u001b[38;5;28mself\u001b[39m\u001b[38;5;241m.\u001b[39mcommand_header \u001b[38;5;241m+\u001b[39m\\\n\u001b[1;32m   1317\u001b[0m     args_command \u001b[38;5;241m+\u001b[39m\\\n\u001b[1;32m   1318\u001b[0m     proto\u001b[38;5;241m.\u001b[39mEND_COMMAND_PART\n\u001b[1;32m   1320\u001b[0m answer \u001b[38;5;241m=\u001b[39m \u001b[38;5;28mself\u001b[39m\u001b[38;5;241m.\u001b[39mgateway_client\u001b[38;5;241m.\u001b[39msend_command(command)\n\u001b[0;32m-> 1321\u001b[0m return_value \u001b[38;5;241m=\u001b[39m \u001b[43mget_return_value\u001b[49m\u001b[43m(\u001b[49m\n\u001b[1;32m   1322\u001b[0m \u001b[43m    \u001b[49m\u001b[43manswer\u001b[49m\u001b[43m,\u001b[49m\u001b[43m \u001b[49m\u001b[38;5;28;43mself\u001b[39;49m\u001b[38;5;241;43m.\u001b[39;49m\u001b[43mgateway_client\u001b[49m\u001b[43m,\u001b[49m\u001b[43m \u001b[49m\u001b[38;5;28;43mself\u001b[39;49m\u001b[38;5;241;43m.\u001b[39;49m\u001b[43mtarget_id\u001b[49m\u001b[43m,\u001b[49m\u001b[43m \u001b[49m\u001b[38;5;28;43mself\u001b[39;49m\u001b[38;5;241;43m.\u001b[39;49m\u001b[43mname\u001b[49m\u001b[43m)\u001b[49m\n\u001b[1;32m   1324\u001b[0m \u001b[38;5;28;01mfor\u001b[39;00m temp_arg \u001b[38;5;129;01min\u001b[39;00m temp_args:\n\u001b[1;32m   1325\u001b[0m     temp_arg\u001b[38;5;241m.\u001b[39m_detach()\n",
      "File \u001b[0;32m~/Desktop/Big_Data/PySpark/Week_5/spark/python/pyspark/sql/utils.py:196\u001b[0m, in \u001b[0;36mcapture_sql_exception.<locals>.deco\u001b[0;34m(*a, **kw)\u001b[0m\n\u001b[1;32m    192\u001b[0m converted \u001b[38;5;241m=\u001b[39m convert_exception(e\u001b[38;5;241m.\u001b[39mjava_exception)\n\u001b[1;32m    193\u001b[0m \u001b[38;5;28;01mif\u001b[39;00m \u001b[38;5;129;01mnot\u001b[39;00m \u001b[38;5;28misinstance\u001b[39m(converted, UnknownException):\n\u001b[1;32m    194\u001b[0m     \u001b[38;5;66;03m# Hide where the exception came from that shows a non-Pythonic\u001b[39;00m\n\u001b[1;32m    195\u001b[0m     \u001b[38;5;66;03m# JVM exception message.\u001b[39;00m\n\u001b[0;32m--> 196\u001b[0m     \u001b[38;5;28;01mraise\u001b[39;00m converted \u001b[38;5;28;01mfrom\u001b[39;00m \u001b[38;5;28mNone\u001b[39m\n\u001b[1;32m    197\u001b[0m \u001b[38;5;28;01melse\u001b[39;00m:\n\u001b[1;32m    198\u001b[0m     \u001b[38;5;28;01mraise\u001b[39;00m\n",
      "\u001b[0;31mAnalysisException\u001b[0m: Column 'struct' does not exist. Did you mean one of the following? [entities];\n'Project ['struct]\n+- Project [entities#1187]\n   +- Relation [contributors#1183,coordinates#1184,created_at#1185,display_text_range#1186,entities#1187,extended_entities#1188,favorite_count#1189L,favorited#1190,full_text#1191,geo#1192,id#1193L,id_str#1194,in_reply_to_screen_name#1195,in_reply_to_status_id#1196L,in_reply_to_status_id_str#1197,in_reply_to_user_id#1198L,in_reply_to_user_id_str#1199,is_quote_status#1200,lang#1201,metadata#1202,place#1203,possibly_sensitive#1204,quoted_status#1205,quoted_status_id#1206L,... 10 more fields] json\n"
     ]
    }
   ],
   "source": [
    "df_json.select('entities').select('struct')"
   ]
  },
  {
   "cell_type": "code",
   "execution_count": null,
   "id": "5bd394fd-4f51-4aa7-b734-381b271827ca",
   "metadata": {},
   "outputs": [
    {
     "data": {
      "text/plain": [
       "DataFrame[user: struct<contributors_enabled:boolean,created_at:string,default_profile:boolean,default_profile_image:boolean,description:string,entities:struct<description:struct<urls:array<struct<display_url:string,expanded_url:string,indices:array<bigint>,url:string>>>,url:struct<urls:array<struct<display_url:string,expanded_url:string,indices:array<bigint>,url:string>>>>,favourites_count:bigint,follow_request_sent:boolean,followers_count:bigint,following:boolean,friends_count:bigint,geo_enabled:boolean,has_extended_profile:boolean,id:bigint,id_str:string,is_translation_enabled:boolean,is_translator:boolean,lang:string,listed_count:bigint,location:string,name:string,notifications:boolean,profile_background_color:string,profile_background_image_url:string,profile_background_image_url_https:string,profile_background_tile:boolean,profile_banner_url:string,profile_image_url:string,profile_image_url_https:string,profile_link_color:string,profile_sidebar_border_color:string,profile_sidebar_fill_color:string,profile_text_color:string,profile_use_background_image:boolean,protected:boolean,screen_name:string,statuses_count:bigint,time_zone:string,translator_type:string,url:string,utc_offset:string,verified:boolean,withheld_in_countries:array<string>,withheld_scope:string>]"
      ]
     },
     "execution_count": 85,
     "metadata": {},
     "output_type": "execute_result"
    }
   ],
   "source": []
  },
  {
   "cell_type": "code",
   "execution_count": 51,
   "id": "dc6788dc-888a-44fe-9b54-999d5c31c8ae",
   "metadata": {},
   "outputs": [
    {
     "ename": "TypeError",
     "evalue": "object of type 'DataFrame' has no len()",
     "output_type": "error",
     "traceback": [
      "\u001b[0;31m---------------------------------------------------------------------------\u001b[0m",
      "\u001b[0;31mTypeError\u001b[0m                                 Traceback (most recent call last)",
      "Cell \u001b[0;32mIn [51], line 1\u001b[0m\n\u001b[0;32m----> 1\u001b[0m \u001b[38;5;28;43mlen\u001b[39;49m\u001b[43m(\u001b[49m\u001b[43mdf_json\u001b[49m\u001b[43m)\u001b[49m\n",
      "\u001b[0;31mTypeError\u001b[0m: object of type 'DataFrame' has no len()"
     ]
    }
   ],
   "source": [
    "from pyspark.sql import functions as F\n",
    "\n",
    "df_json.withColumn(\"entities\", F.explode(F.arrays_zip(\"Price\", \"Product\")))\\\n"
   ]
  },
  {
   "cell_type": "code",
   "execution_count": null,
   "id": "e8ade216-7f22-4e46-bcb9-96b25ca454ec",
   "metadata": {},
   "outputs": [],
   "source": []
  },
  {
   "cell_type": "code",
   "execution_count": null,
   "id": "3c354cab-9778-421b-bc1e-c0de99aefd4d",
   "metadata": {},
   "outputs": [],
   "source": []
  },
  {
   "cell_type": "code",
   "execution_count": null,
   "id": "25227b96-d74b-4bdc-b5ed-42073fec63aa",
   "metadata": {},
   "outputs": [],
   "source": []
  }
 ],
 "metadata": {
  "kernelspec": {
   "display_name": "Python 3 (ipykernel)",
   "language": "python",
   "name": "python3"
  },
  "language_info": {
   "codemirror_mode": {
    "name": "ipython",
    "version": 3
   },
   "file_extension": ".py",
   "mimetype": "text/x-python",
   "name": "python",
   "nbconvert_exporter": "python",
   "pygments_lexer": "ipython3",
   "version": "3.10.6"
  }
 },
 "nbformat": 4,
 "nbformat_minor": 5
}
