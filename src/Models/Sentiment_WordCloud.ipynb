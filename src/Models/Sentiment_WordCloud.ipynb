{
 "cells": [
  {
   "cell_type": "markdown",
   "id": "df59a7ba-445a-4e36-aa86-92a5310a67ee",
   "metadata": {
    "tags": []
   },
   "source": [
    "# Reading in the files and imports"
   ]
  },
  {
   "cell_type": "code",
   "execution_count": 12,
   "id": "ea8dcad5-5a3f-4601-a76d-bc3d8bdc67ec",
   "metadata": {},
   "outputs": [],
   "source": [
    "import pyspark.sql.functions as F\n",
    "import pandas as pd \n",
    "from pyspark.sql.functions import *\n",
    "from pyspark.sql.types import *\n",
    "from datetime import datetime\n",
    "\n",
    "import seaborn as sns\n",
    "import matplotlib.pyplot as plt\n",
    "import numpy as np \n",
    "\n",
    "import os \n",
    "import pickle\n",
    "import re\n",
    "from datetime import datetime\n",
    "import requests\n",
    "import pytz\n",
    "import pandas as pd\n",
    "import numpy as np\n",
    "import ast"
   ]
  },
  {
   "cell_type": "code",
   "execution_count": 2,
   "id": "c7c6ff09-d08a-4113-9825-6c97d5e9ec88",
   "metadata": {},
   "outputs": [
    {
     "name": "stderr",
     "output_type": "stream",
     "text": [
      "Setting default log level to \"WARN\".\n",
      "To adjust logging level use sc.setLogLevel(newLevel). For SparkR, use setLogLevel(newLevel).\n"
     ]
    },
    {
     "name": "stdout",
     "output_type": "stream",
     "text": [
      "22/12/08 14:09:38 WARN NativeCodeLoader: Unable to load native-hadoop library for your platform... using builtin-java classes where applicable\n",
      "22/12/08 14:09:38 WARN Utils: Service 'SparkUI' could not bind on port 4040. Attempting port 4041.\n",
      "22/12/08 14:09:38 WARN Utils: Service 'SparkUI' could not bind on port 4041. Attempting port 4042.\n"
     ]
    }
   ],
   "source": [
    "# import pyspark\n",
    "# # create spark context\n",
    "# sc = pyspark.SparkContext()\n",
    "# # create spark session \n",
    "# spark = pyspark.sql.SparkSession(sc)\n",
    "\n",
    "import findspark\n",
    "\n",
    "# initialize findspark with spark directory\n",
    "\n",
    "#ALWAYS HAVE TO BE CHANGED \n",
    "#path = \"/Users/konstantinlazarov/Desktop/Big_Data/PySpark/Week_5/spark\"\n",
    "#path = \"/Users/Artur/spark\"\n",
    "path = \"/Users/wouterdewitte/spark/\"\n",
    "\n",
    "findspark.init(path) \n",
    "\n",
    "# import pyspark\n",
    "import pyspark\n",
    "# create spark context\n",
    "sc = pyspark.SparkContext()\n",
    "# create spark session \n",
    "spark = pyspark.sql.SparkSession(sc)\n"
   ]
  },
  {
   "cell_type": "code",
   "execution_count": 3,
   "id": "f3422385-f567-424b-8e81-606b5cc2172e",
   "metadata": {},
   "outputs": [
    {
     "name": "stderr",
     "output_type": "stream",
     "text": [
      "                                                                                \r"
     ]
    },
    {
     "name": "stdout",
     "output_type": "stream",
     "text": [
      "22/12/08 14:10:12 WARN package: Truncated the string representation of a plan since it was too large. This behavior can be adjusted by setting 'spark.sql.debug.maxToStringFields'.\n"
     ]
    },
    {
     "name": "stderr",
     "output_type": "stream",
     "text": [
      "                                                                                \r"
     ]
    },
    {
     "data": {
      "text/plain": [
       "1827680"
      ]
     },
     "execution_count": 3,
     "metadata": {},
     "output_type": "execute_result"
    }
   ],
   "source": [
    "#reading in all keto files \n",
    "list_brands = [\"healthyfood\", \n",
    "               \"healthylifestyle\",\n",
    "               \"vegan\",\n",
    "               \"keto\",\n",
    "               \"ketodiet\",\n",
    "               \"ketolifestyle\",\n",
    "               \"veganism\",\n",
    "               \"vegetarian\"] \n",
    "from re import search\n",
    "\n",
    "data_dir = \".././../data/Topic/\"\n",
    "tweet_files = [os.path.join(data_dir, obs) for obs in os.listdir(data_dir)]\n",
    "\n",
    "files_brand = [file for file in tweet_files if (file.find('vegan') != -1)]\n",
    "files_brand               \n",
    "               \n",
    "df_brand = spark.read.option(\"multiline\",\"true\").json(files_brand)  \n",
    "df_brand.count() \n",
    "               "
   ]
  },
  {
   "cell_type": "markdown",
   "id": "88218e72-9e42-4fa6-b1d1-c7503a225006",
   "metadata": {},
   "source": [
    "## Selecting the correct columns, converting types and checking for doubles "
   ]
  },
  {
   "cell_type": "code",
   "execution_count": 4,
   "id": "4aad4054-942b-429f-a09e-a1382cf119b4",
   "metadata": {},
   "outputs": [],
   "source": [
    "df_json_sub = df_brand.select(F.col(\"user.name\"),\n",
    "                                F.col(\"user.screen_name\"),\n",
    "                                F.col(\"created_at\"), \n",
    "                                F.col(\"full_text\"),\n",
    "                                F.col(\"entities.hashtags\"),\n",
    "                                F.col(\"lang\"),\n",
    "                                F.col(\"favorite_count\"),\n",
    "                                F.col(\"user.followers_count\"),\n",
    "                                F.col(\"user.friends_count\"),\n",
    "                                F.col(\"user.favourites_count\"),\n",
    "                                F.col(\"entities.urls\"),\n",
    "                                F.col(\"entities.symbols\"), \n",
    "                                F.col(\"place.bounding_box.coordinates\"),\n",
    "#                                F.col(\"coordinates.coordinates\")\n",
    "                                )\n",
    "#date --> time stamp variable \n",
    "def getDate(date):\n",
    "    if date is not None:\n",
    "        return str(datetime.strptime(date,'%a %b %d %H:%M:%S +0000 %Y').replace(tzinfo=pytz.UTC).strftime(\"%Y-%m-%d %H:%M:%S\"))\n",
    "    else:\n",
    "        return None\n",
    "date_udf = F.udf(getDate, StringType())\n",
    "df_json_sub = df_json_sub.withColumn('post_created_at', F.to_utc_timestamp(date_udf(\"created_at\"), \"UTC\"))\n",
    "\n",
    "#extract year, month, day \n",
    "\n",
    "df_json_sub = df_json_sub.withColumn('year', year('post_created_at'))\n",
    "df_json_sub = df_json_sub.withColumn('month', month('post_created_at'))\n",
    "df_json_sub = df_json_sub.withColumn('day', dayofmonth('post_created_at')) #number from 1 to 31 \n",
    "df_json_sub = df_json_sub.withColumn('week', weekofyear('post_created_at')) #week number from 1 to 52 \n",
    "\n",
    "\n",
    "\n"
   ]
  },
  {
   "cell_type": "code",
   "execution_count": 5,
   "id": "da7aa06c-f552-448c-b79d-220907297661",
   "metadata": {},
   "outputs": [
    {
     "name": "stdout",
     "output_type": "stream",
     "text": [
      "root\n",
      " |-- name: string (nullable = true)\n",
      " |-- screen_name: string (nullable = true)\n",
      " |-- created_at: string (nullable = true)\n",
      " |-- full_text: string (nullable = true)\n",
      " |-- hashtags: array (nullable = true)\n",
      " |    |-- element: struct (containsNull = true)\n",
      " |    |    |-- indices: array (nullable = true)\n",
      " |    |    |    |-- element: long (containsNull = true)\n",
      " |    |    |-- text: string (nullable = true)\n",
      " |-- lang: string (nullable = true)\n",
      " |-- favorite_count: long (nullable = true)\n",
      " |-- followers_count: long (nullable = true)\n",
      " |-- friends_count: long (nullable = true)\n",
      " |-- favourites_count: long (nullable = true)\n",
      " |-- urls: array (nullable = true)\n",
      " |    |-- element: struct (containsNull = true)\n",
      " |    |    |-- display_url: string (nullable = true)\n",
      " |    |    |-- expanded_url: string (nullable = true)\n",
      " |    |    |-- indices: array (nullable = true)\n",
      " |    |    |    |-- element: long (containsNull = true)\n",
      " |    |    |-- url: string (nullable = true)\n",
      " |-- symbols: array (nullable = true)\n",
      " |    |-- element: struct (containsNull = true)\n",
      " |    |    |-- indices: array (nullable = true)\n",
      " |    |    |    |-- element: long (containsNull = true)\n",
      " |    |    |-- text: string (nullable = true)\n",
      " |-- coordinates: array (nullable = true)\n",
      " |    |-- element: array (containsNull = true)\n",
      " |    |    |-- element: array (containsNull = true)\n",
      " |    |    |    |-- element: double (containsNull = true)\n",
      " |-- post_created_at: timestamp (nullable = true)\n",
      " |-- year: integer (nullable = true)\n",
      " |-- month: integer (nullable = true)\n",
      " |-- day: integer (nullable = true)\n",
      " |-- week: integer (nullable = true)\n",
      "\n"
     ]
    }
   ],
   "source": [
    "#drop duplicates and retweets \n",
    "df_json_sub = df_json_sub.filter(~F.col(\"full_text\").startswith(\"RT\"))\\\n",
    "                        .drop_duplicates()\n",
    "#sorting such when dropping later we only keep the most recent post \n",
    "df_json_sub = df_json_sub.sort(\"post_created_at\", ascending=False)\n",
    "#removing spam accounts \n",
    "df_json_sub = df_json_sub.drop_duplicates([\"full_text\", \"screen_name\"])\n",
    "                        \n",
    "df_json_sub.printSchema()\n"
   ]
  },
  {
   "cell_type": "markdown",
   "id": "31382fc9-b976-4ee1-b4f0-cf231ec8fe1d",
   "metadata": {
    "tags": []
   },
   "source": [
    "# 1. Data Cleaning "
   ]
  },
  {
   "cell_type": "code",
   "execution_count": 6,
   "id": "b7772797-cb85-47b9-9b1d-25f434b877f7",
   "metadata": {},
   "outputs": [],
   "source": [
    "from nltk.corpus import stopwords\n",
    "STOPWORDS = stopwords.words(\"english\")"
   ]
  },
  {
   "cell_type": "code",
   "execution_count": 7,
   "id": "76079be2-f97e-402e-85ae-2a03c0c5c6a8",
   "metadata": {},
   "outputs": [
    {
     "name": "stderr",
     "output_type": "stream",
     "text": [
      "[nltk_data] Downloading package stopwords to\n",
      "[nltk_data]     /Users/wouterdewitte/nltk_data...\n",
      "[nltk_data]   Package stopwords is already up-to-date!\n"
     ]
    },
    {
     "data": {
      "text/plain": [
       "True"
      ]
     },
     "execution_count": 7,
     "metadata": {},
     "output_type": "execute_result"
    }
   ],
   "source": [
    "import nltk\n",
    "nltk.download('stopwords')"
   ]
  },
  {
   "cell_type": "code",
   "execution_count": 8,
   "id": "bfa17404-388e-4d55-9255-a7851eeaebba",
   "metadata": {},
   "outputs": [],
   "source": [
    "from nltk.corpus import stopwords\n",
    "STOPWORDS = stopwords.words(\"english\")\n",
    "# define function to remove stopwords\n",
    "def remove_stops(text_tokenized):\n",
    "    # remove stopwords\n",
    "    text_tokenized = [word for word in text_tokenized if word not in STOPWORDS]\n",
    "    return(text_tokenized)\n",
    "\n",
    "# define function to count hashtags\n",
    "def get_hashtags(tokenized_text):\n",
    "    counter = 0\n",
    "    for word in tokenized_text:\n",
    "        if \"#\" in word:\n",
    "            counter += 1\n",
    "    return(counter) \n",
    "\n",
    "# define function to count mentions\n",
    "def get_mentions(tokenized_text):\n",
    "    counter = 0\n",
    "    for word in tokenized_text:\n",
    "        if \"@\" in word:\n",
    "            counter += 1\n",
    "    return(counter)\n",
    "\n",
    "# define function to count exclamation marks\n",
    "def get_exclamation_marks(tokenized_text):\n",
    "    counter = 0\n",
    "    for word in tokenized_text:\n",
    "        if \"!\" in word:\n",
    "            counter += 1\n",
    "    return(counter)\n",
    "\n",
    "# define function to count number of emojis used\n",
    "\n",
    "import emojis\n",
    "def emoji_counter(text):\n",
    "    nr_emojis = emojis.count(text)\n",
    "    return(nr_emojis)\n",
    "\n",
    "# register functions as udf\n",
    "get_hashtags_UDF = F.udf(get_hashtags, IntegerType())\n",
    "get_mentions_UDF = F.udf(get_mentions, IntegerType())\n",
    "get_exclamation_marks_UDF = F.udf(get_exclamation_marks, IntegerType())\n",
    "emoji_counter_udf = F.udf(emoji_counter, IntegerType())\n",
    "remove_stops_udf = F.udf(remove_stops, ArrayType(StringType()))\n"
   ]
  },
  {
   "cell_type": "code",
   "execution_count": 9,
   "id": "bd5e299e-5dd9-4247-a914-2f8f490a2ba6",
   "metadata": {},
   "outputs": [
    {
     "name": "stdout",
     "output_type": "stream",
     "text": [
      "root\n",
      " |-- name: string (nullable = true)\n",
      " |-- screen_name: string (nullable = true)\n",
      " |-- created_at: string (nullable = true)\n",
      " |-- full_text: string (nullable = true)\n",
      " |-- hashtags: array (nullable = true)\n",
      " |    |-- element: struct (containsNull = true)\n",
      " |    |    |-- indices: array (nullable = true)\n",
      " |    |    |    |-- element: long (containsNull = true)\n",
      " |    |    |-- text: string (nullable = true)\n",
      " |-- lang: string (nullable = true)\n",
      " |-- favorite_count: long (nullable = true)\n",
      " |-- followers_count: long (nullable = true)\n",
      " |-- friends_count: long (nullable = true)\n",
      " |-- favourites_count: long (nullable = true)\n",
      " |-- urls: array (nullable = true)\n",
      " |    |-- element: struct (containsNull = true)\n",
      " |    |    |-- display_url: string (nullable = true)\n",
      " |    |    |-- expanded_url: string (nullable = true)\n",
      " |    |    |-- indices: array (nullable = true)\n",
      " |    |    |    |-- element: long (containsNull = true)\n",
      " |    |    |-- url: string (nullable = true)\n",
      " |-- symbols: array (nullable = true)\n",
      " |    |-- element: struct (containsNull = true)\n",
      " |    |    |-- indices: array (nullable = true)\n",
      " |    |    |    |-- element: long (containsNull = true)\n",
      " |    |    |-- text: string (nullable = true)\n",
      " |-- coordinates: array (nullable = true)\n",
      " |    |-- element: array (containsNull = true)\n",
      " |    |    |-- element: array (containsNull = true)\n",
      " |    |    |    |-- element: double (containsNull = true)\n",
      " |-- post_created_at: timestamp (nullable = true)\n",
      " |-- year: integer (nullable = true)\n",
      " |-- month: integer (nullable = true)\n",
      " |-- day: integer (nullable = true)\n",
      " |-- week: integer (nullable = true)\n",
      " |-- text_tokenized: array (nullable = true)\n",
      " |    |-- element: string (containsNull = false)\n",
      " |-- text_cleaned: array (nullable = true)\n",
      " |    |-- element: string (containsNull = true)\n",
      " |-- num_words: integer (nullable = false)\n",
      " |-- num_hashtags: integer (nullable = true)\n",
      " |-- num_mentions: integer (nullable = true)\n",
      " |-- num_exclamation_marks: integer (nullable = true)\n",
      " |-- emoji_count: integer (nullable = true)\n",
      "\n"
     ]
    }
   ],
   "source": [
    "twitter_df = df_json_sub.withColumn(\"text_tokenized\", F.split(\"full_text\", \" \")) \\\n",
    "                            .withColumn(\"text_cleaned\", remove_stops_udf(\"text_tokenized\")) \\\n",
    "                            .withColumn(\"num_words\", F.size(\"text_tokenized\")) \\\n",
    "                            .withColumn(\"num_hashtags\", get_hashtags_UDF(\"text_tokenized\")) \\\n",
    "                            .withColumn(\"num_mentions\", get_mentions_UDF(\"text_tokenized\")) \\\n",
    "                            .withColumn(\"num_exclamation_marks\", get_exclamation_marks_UDF(\"text_tokenized\")) \\\n",
    "                            .withColumn(\"emoji_count\", emoji_counter_udf(\"full_text\")) \n",
    "twitter_df.printSchema()\n"
   ]
  },
  {
   "cell_type": "code",
   "execution_count": 15,
   "id": "fd44acbc-7489-4c06-91d1-c3493e012cef",
   "metadata": {},
   "outputs": [],
   "source": [
    "# define function to clean text \n",
    "import emoji\n",
    "\n",
    "def clean_text(string):\n",
    "    \n",
    "    # define numbers\n",
    "    NUMBERS = '0123456789'\n",
    "    PUNCT = '\"#$%&\\'()*+,-./:;<=>@[\\\\]^_`{|}~'\n",
    "    \n",
    "    # convert text to lower case\n",
    "    cleaned_string = string.lower()\n",
    "    \n",
    "    # remove URLS\n",
    "    cleaned_string = re.sub(r'http\\S+', ' ', cleaned_string)\n",
    "    \n",
    "    # replace emojis by words\n",
    "    #cleaned_string = emojis.demojize(cleaned_string)\n",
    "    cleaned_string = cleaned_string.replace(\":\",\" \").replace(\"_\",\" \")\n",
    "    cleaned_string = ' '.join(cleaned_string.split())\n",
    "    \n",
    "    # remove numbers\n",
    "    cleaned_string = \"\".join([char for char in cleaned_string if char not in NUMBERS])\n",
    "    \n",
    "    # remove punctuation\n",
    "    cleaned_string = \"\".join([char for char in cleaned_string if char not in PUNCT])\n",
    "    \n",
    "    # remove words conisting of one character (or less)\n",
    "    cleaned_string = ' '.join([w for w in cleaned_string.split() if len(w) > 1])\n",
    "     \n",
    "    # return\n",
    "    return(cleaned_string) \n",
    "clean_text_udf = F.udf(clean_text, StringType())\n"
   ]
  },
  {
   "cell_type": "code",
   "execution_count": 16,
   "id": "3774ce59-dcc3-46c2-8e0e-9f7ff728b39c",
   "metadata": {},
   "outputs": [],
   "source": [
    "twitter_df = twitter_df.withColumn(\"cleaned_text\", clean_text_udf(F.col(\"full_text\")))"
   ]
  },
  {
   "cell_type": "markdown",
   "id": "72d88782-f539-4d74-812f-fd7ea453be0e",
   "metadata": {},
   "source": [
    "# 2. Sentiment Analysis  "
   ]
  },
  {
   "cell_type": "code",
   "execution_count": 17,
   "id": "0c10191d-954f-40e4-ae0e-de84e5f2a813",
   "metadata": {},
   "outputs": [],
   "source": [
    "#selecting english as language as only this works for rule based packages \n",
    "twitter_df = twitter_df.filter(twitter_df.lang == 'en')"
   ]
  },
  {
   "cell_type": "markdown",
   "id": "a845eb28-ddcc-44b1-983b-55200c720f92",
   "metadata": {},
   "source": [
    "## 2.1 The Vader Package \n",
    "VADER sentimental analysis relies on a dictionary that maps lexical features to emotion intensities known as sentiment scores (also rule based). The sentiment score of a text can be obtained by summing up the intensity of each word in the text. Rule based packages ignore the context in which the words are used"
   ]
  },
  {
   "cell_type": "code",
   "execution_count": 20,
   "id": "f4a7387b-8c13-43bd-bfae-93010d8bd957",
   "metadata": {},
   "outputs": [],
   "source": [
    "#using the vaderSentiment package \n",
    "from vaderSentiment.vaderSentiment import SentimentIntensityAnalyzer\n",
    "from pyspark.sql.functions import udf\n",
    "from pyspark.sql.types import *"
   ]
  },
  {
   "cell_type": "code",
   "execution_count": 21,
   "id": "a76fb917-d255-4ccc-821f-0af901e02c77",
   "metadata": {},
   "outputs": [],
   "source": [
    "# define the function to extract the sentiment\n",
    "def get_sentiment(sentence):\n",
    "\n",
    "    # initialize sentiment analyzer\n",
    "    sid_obj = SentimentIntensityAnalyzer()\n",
    "\n",
    "    # get sentiment dict\n",
    "    sentiment_dict = sid_obj.polarity_scores(sentence)\n",
    "    \n",
    "    # get positive sentiment score\n",
    "    pos_sentiment = sentiment_dict[\"pos\"]\n",
    "    \n",
    "    # return positive sentiment score\n",
    "    return(pos_sentiment)\n",
    "\n",
    "get_sentiment_udf = udf(get_sentiment, DoubleType())"
   ]
  },
  {
   "cell_type": "code",
   "execution_count": 22,
   "id": "eb6db130-e60c-4836-b812-c037facec73d",
   "metadata": {},
   "outputs": [],
   "source": [
    "twitter_df = twitter_df.withColumn(\"sentiment_vader\", get_sentiment_udf(F.col(\"cleaned_text\")))"
   ]
  },
  {
   "cell_type": "markdown",
   "id": "b31b95a5-3733-429c-b385-85d4f301e701",
   "metadata": {},
   "source": [
    "## 2.2 TextBlob Package \n",
    "\n",
    "TextBlob returns polarity and subjectivity of a sentence. TextBlob is rule based sentient analysis, not using any machine learning in order to determine sentiment, only using dictionary approach. TextBlob ignores words it does not know.\n",
    "\n",
    "**Polarity** lies between [-1,1],  -1 defines a negative sentiment and 1 defines a positive sentiment.  \n",
    "\n",
    "**Subjectivity** quantifies the amount of personal opinion and factual information contained in the text. Subjectivity lies between [0,1]. The higher subjectivity means that the text contains personal opinion rather than factual information. "
   ]
  },
  {
   "cell_type": "code",
   "execution_count": 25,
   "id": "16a65cba-257d-46f9-8283-10d6543434e6",
   "metadata": {},
   "outputs": [],
   "source": [
    "#https://textblob.readthedocs.io/en/dev/\n",
    "from textblob import TextBlob"
   ]
  },
  {
   "cell_type": "code",
   "execution_count": 26,
   "id": "d3c309ae-06ae-4d55-aab2-506ee61b493d",
   "metadata": {},
   "outputs": [],
   "source": [
    "# define function to get polarity score of text document\n",
    "def get_polarity(row):\n",
    "    textBlob_review = TextBlob(row)\n",
    "    return textBlob_review.sentiment[0]\n",
    "# define function to get subjectivity score of text document\n",
    "def get_subjectivity(row):\n",
    "    textBlob_review = TextBlob(row)\n",
    "    return textBlob_review.sentiment[1]\n",
    "get_polarity_udf = F.udf(get_polarity, DoubleType())\n",
    "get_subjectivity_udf = F.udf(get_subjectivity, DoubleType())\n"
   ]
  },
  {
   "cell_type": "code",
   "execution_count": 27,
   "id": "0856e871-da65-42ab-b6ae-964b70dcc952",
   "metadata": {},
   "outputs": [],
   "source": [
    "twitter_df = twitter_df.withColumn('polarity', get_polarity_udf(F.col('cleaned_text')))\\\n",
    "                        .withColumn('subjectivity', get_subjectivity_udf(F.col('cleaned_text')))"
   ]
  },
  {
   "cell_type": "markdown",
   "id": "cb5e3670-5a26-4101-b4b8-d982067af5ed",
   "metadata": {},
   "source": [
    "## 2.3 Visualizing Sentiment "
   ]
  },
  {
   "cell_type": "code",
   "execution_count": 28,
   "id": "bdf4804b-1b3f-468e-a3ff-96f937239d4c",
   "metadata": {
    "tags": []
   },
   "outputs": [
    {
     "name": "stderr",
     "output_type": "stream",
     "text": [
      "                                                                                \r"
     ]
    },
    {
     "data": {
      "text/html": [
       "<div>\n",
       "<style scoped>\n",
       "    .dataframe tbody tr th:only-of-type {\n",
       "        vertical-align: middle;\n",
       "    }\n",
       "\n",
       "    .dataframe tbody tr th {\n",
       "        vertical-align: top;\n",
       "    }\n",
       "\n",
       "    .dataframe thead th {\n",
       "        text-align: right;\n",
       "    }\n",
       "</style>\n",
       "<table border=\"1\" class=\"dataframe\">\n",
       "  <thead>\n",
       "    <tr style=\"text-align: right;\">\n",
       "      <th></th>\n",
       "      <th>date</th>\n",
       "      <th>avg_sentiment_vader</th>\n",
       "      <th>avg_polarity</th>\n",
       "    </tr>\n",
       "  </thead>\n",
       "  <tbody>\n",
       "    <tr>\n",
       "      <th>0</th>\n",
       "      <td>2021_43</td>\n",
       "      <td>0.134149</td>\n",
       "      <td>0.129711</td>\n",
       "    </tr>\n",
       "    <tr>\n",
       "      <th>1</th>\n",
       "      <td>2021_44</td>\n",
       "      <td>0.144773</td>\n",
       "      <td>0.168057</td>\n",
       "    </tr>\n",
       "    <tr>\n",
       "      <th>2</th>\n",
       "      <td>2021_48</td>\n",
       "      <td>0.127583</td>\n",
       "      <td>0.160417</td>\n",
       "    </tr>\n",
       "    <tr>\n",
       "      <th>3</th>\n",
       "      <td>2021_49</td>\n",
       "      <td>0.132764</td>\n",
       "      <td>0.125088</td>\n",
       "    </tr>\n",
       "    <tr>\n",
       "      <th>4</th>\n",
       "      <td>2021_50</td>\n",
       "      <td>0.169860</td>\n",
       "      <td>0.221397</td>\n",
       "    </tr>\n",
       "    <tr>\n",
       "      <th>5</th>\n",
       "      <td>2021_51</td>\n",
       "      <td>0.169269</td>\n",
       "      <td>0.231307</td>\n",
       "    </tr>\n",
       "    <tr>\n",
       "      <th>6</th>\n",
       "      <td>2021_52</td>\n",
       "      <td>0.155547</td>\n",
       "      <td>0.178460</td>\n",
       "    </tr>\n",
       "    <tr>\n",
       "      <th>7</th>\n",
       "      <td>2022_1</td>\n",
       "      <td>0.160738</td>\n",
       "      <td>0.220258</td>\n",
       "    </tr>\n",
       "    <tr>\n",
       "      <th>8</th>\n",
       "      <td>2022_2</td>\n",
       "      <td>0.155495</td>\n",
       "      <td>0.205056</td>\n",
       "    </tr>\n",
       "    <tr>\n",
       "      <th>9</th>\n",
       "      <td>2022_3</td>\n",
       "      <td>0.146509</td>\n",
       "      <td>0.205497</td>\n",
       "    </tr>\n",
       "    <tr>\n",
       "      <th>10</th>\n",
       "      <td>2022_4</td>\n",
       "      <td>0.150661</td>\n",
       "      <td>0.183049</td>\n",
       "    </tr>\n",
       "    <tr>\n",
       "      <th>11</th>\n",
       "      <td>2022_5</td>\n",
       "      <td>0.163724</td>\n",
       "      <td>0.198576</td>\n",
       "    </tr>\n",
       "    <tr>\n",
       "      <th>12</th>\n",
       "      <td>2022_6</td>\n",
       "      <td>0.137050</td>\n",
       "      <td>0.149956</td>\n",
       "    </tr>\n",
       "    <tr>\n",
       "      <th>13</th>\n",
       "      <td>2022_7</td>\n",
       "      <td>0.132265</td>\n",
       "      <td>0.136475</td>\n",
       "    </tr>\n",
       "    <tr>\n",
       "      <th>14</th>\n",
       "      <td>2022_8</td>\n",
       "      <td>0.158007</td>\n",
       "      <td>0.189374</td>\n",
       "    </tr>\n",
       "    <tr>\n",
       "      <th>15</th>\n",
       "      <td>2022_9</td>\n",
       "      <td>0.134030</td>\n",
       "      <td>0.113948</td>\n",
       "    </tr>\n",
       "    <tr>\n",
       "      <th>16</th>\n",
       "      <td>2022_10</td>\n",
       "      <td>0.130862</td>\n",
       "      <td>0.120568</td>\n",
       "    </tr>\n",
       "    <tr>\n",
       "      <th>17</th>\n",
       "      <td>2022_11</td>\n",
       "      <td>0.155392</td>\n",
       "      <td>0.197663</td>\n",
       "    </tr>\n",
       "    <tr>\n",
       "      <th>18</th>\n",
       "      <td>2022_12</td>\n",
       "      <td>0.156066</td>\n",
       "      <td>0.206349</td>\n",
       "    </tr>\n",
       "    <tr>\n",
       "      <th>19</th>\n",
       "      <td>2022_13</td>\n",
       "      <td>0.152110</td>\n",
       "      <td>0.200678</td>\n",
       "    </tr>\n",
       "    <tr>\n",
       "      <th>20</th>\n",
       "      <td>2022_15</td>\n",
       "      <td>0.164698</td>\n",
       "      <td>0.212894</td>\n",
       "    </tr>\n",
       "    <tr>\n",
       "      <th>21</th>\n",
       "      <td>2022_16</td>\n",
       "      <td>0.140754</td>\n",
       "      <td>0.168225</td>\n",
       "    </tr>\n",
       "    <tr>\n",
       "      <th>22</th>\n",
       "      <td>2022_17</td>\n",
       "      <td>0.132938</td>\n",
       "      <td>0.127132</td>\n",
       "    </tr>\n",
       "    <tr>\n",
       "      <th>23</th>\n",
       "      <td>2022_18</td>\n",
       "      <td>0.164343</td>\n",
       "      <td>0.212200</td>\n",
       "    </tr>\n",
       "    <tr>\n",
       "      <th>24</th>\n",
       "      <td>2022_19</td>\n",
       "      <td>0.156346</td>\n",
       "      <td>0.208374</td>\n",
       "    </tr>\n",
       "    <tr>\n",
       "      <th>25</th>\n",
       "      <td>2022_20</td>\n",
       "      <td>0.151408</td>\n",
       "      <td>0.200921</td>\n",
       "    </tr>\n",
       "    <tr>\n",
       "      <th>26</th>\n",
       "      <td>2022_21</td>\n",
       "      <td>0.138704</td>\n",
       "      <td>0.151571</td>\n",
       "    </tr>\n",
       "    <tr>\n",
       "      <th>27</th>\n",
       "      <td>2022_22</td>\n",
       "      <td>0.158835</td>\n",
       "      <td>0.206248</td>\n",
       "    </tr>\n",
       "    <tr>\n",
       "      <th>28</th>\n",
       "      <td>2022_24</td>\n",
       "      <td>0.162816</td>\n",
       "      <td>0.186837</td>\n",
       "    </tr>\n",
       "    <tr>\n",
       "      <th>29</th>\n",
       "      <td>2022_25</td>\n",
       "      <td>0.161090</td>\n",
       "      <td>0.210396</td>\n",
       "    </tr>\n",
       "    <tr>\n",
       "      <th>30</th>\n",
       "      <td>2022_26</td>\n",
       "      <td>0.127835</td>\n",
       "      <td>0.110694</td>\n",
       "    </tr>\n",
       "    <tr>\n",
       "      <th>31</th>\n",
       "      <td>2022_27</td>\n",
       "      <td>0.157664</td>\n",
       "      <td>0.193740</td>\n",
       "    </tr>\n",
       "    <tr>\n",
       "      <th>32</th>\n",
       "      <td>2022_28</td>\n",
       "      <td>0.153357</td>\n",
       "      <td>0.204393</td>\n",
       "    </tr>\n",
       "    <tr>\n",
       "      <th>33</th>\n",
       "      <td>2022_29</td>\n",
       "      <td>0.145427</td>\n",
       "      <td>0.188079</td>\n",
       "    </tr>\n",
       "    <tr>\n",
       "      <th>34</th>\n",
       "      <td>2022_30</td>\n",
       "      <td>0.129326</td>\n",
       "      <td>0.109863</td>\n",
       "    </tr>\n",
       "    <tr>\n",
       "      <th>35</th>\n",
       "      <td>2022_31</td>\n",
       "      <td>0.126713</td>\n",
       "      <td>0.117798</td>\n",
       "    </tr>\n",
       "    <tr>\n",
       "      <th>36</th>\n",
       "      <td>2022_32</td>\n",
       "      <td>0.145889</td>\n",
       "      <td>0.190796</td>\n",
       "    </tr>\n",
       "    <tr>\n",
       "      <th>37</th>\n",
       "      <td>2022_33</td>\n",
       "      <td>0.152681</td>\n",
       "      <td>0.192780</td>\n",
       "    </tr>\n",
       "    <tr>\n",
       "      <th>38</th>\n",
       "      <td>2022_34</td>\n",
       "      <td>0.152936</td>\n",
       "      <td>0.195106</td>\n",
       "    </tr>\n",
       "    <tr>\n",
       "      <th>39</th>\n",
       "      <td>2022_35</td>\n",
       "      <td>0.152785</td>\n",
       "      <td>0.194104</td>\n",
       "    </tr>\n",
       "    <tr>\n",
       "      <th>40</th>\n",
       "      <td>2022_36</td>\n",
       "      <td>0.150751</td>\n",
       "      <td>0.187185</td>\n",
       "    </tr>\n",
       "    <tr>\n",
       "      <th>41</th>\n",
       "      <td>2022_37</td>\n",
       "      <td>0.156806</td>\n",
       "      <td>0.201687</td>\n",
       "    </tr>\n",
       "    <tr>\n",
       "      <th>42</th>\n",
       "      <td>2022_39</td>\n",
       "      <td>0.163905</td>\n",
       "      <td>0.240693</td>\n",
       "    </tr>\n",
       "    <tr>\n",
       "      <th>43</th>\n",
       "      <td>2022_40</td>\n",
       "      <td>0.162842</td>\n",
       "      <td>0.193665</td>\n",
       "    </tr>\n",
       "    <tr>\n",
       "      <th>44</th>\n",
       "      <td>2022_41</td>\n",
       "      <td>0.154110</td>\n",
       "      <td>0.201843</td>\n",
       "    </tr>\n",
       "    <tr>\n",
       "      <th>45</th>\n",
       "      <td>2022_52</td>\n",
       "      <td>0.166337</td>\n",
       "      <td>0.205171</td>\n",
       "    </tr>\n",
       "  </tbody>\n",
       "</table>\n",
       "</div>"
      ],
      "text/plain": [
       "       date  avg_sentiment_vader  avg_polarity\n",
       "0   2021_43             0.134149      0.129711\n",
       "1   2021_44             0.144773      0.168057\n",
       "2   2021_48             0.127583      0.160417\n",
       "3   2021_49             0.132764      0.125088\n",
       "4   2021_50             0.169860      0.221397\n",
       "5   2021_51             0.169269      0.231307\n",
       "6   2021_52             0.155547      0.178460\n",
       "7    2022_1             0.160738      0.220258\n",
       "8    2022_2             0.155495      0.205056\n",
       "9    2022_3             0.146509      0.205497\n",
       "10   2022_4             0.150661      0.183049\n",
       "11   2022_5             0.163724      0.198576\n",
       "12   2022_6             0.137050      0.149956\n",
       "13   2022_7             0.132265      0.136475\n",
       "14   2022_8             0.158007      0.189374\n",
       "15   2022_9             0.134030      0.113948\n",
       "16  2022_10             0.130862      0.120568\n",
       "17  2022_11             0.155392      0.197663\n",
       "18  2022_12             0.156066      0.206349\n",
       "19  2022_13             0.152110      0.200678\n",
       "20  2022_15             0.164698      0.212894\n",
       "21  2022_16             0.140754      0.168225\n",
       "22  2022_17             0.132938      0.127132\n",
       "23  2022_18             0.164343      0.212200\n",
       "24  2022_19             0.156346      0.208374\n",
       "25  2022_20             0.151408      0.200921\n",
       "26  2022_21             0.138704      0.151571\n",
       "27  2022_22             0.158835      0.206248\n",
       "28  2022_24             0.162816      0.186837\n",
       "29  2022_25             0.161090      0.210396\n",
       "30  2022_26             0.127835      0.110694\n",
       "31  2022_27             0.157664      0.193740\n",
       "32  2022_28             0.153357      0.204393\n",
       "33  2022_29             0.145427      0.188079\n",
       "34  2022_30             0.129326      0.109863\n",
       "35  2022_31             0.126713      0.117798\n",
       "36  2022_32             0.145889      0.190796\n",
       "37  2022_33             0.152681      0.192780\n",
       "38  2022_34             0.152936      0.195106\n",
       "39  2022_35             0.152785      0.194104\n",
       "40  2022_36             0.150751      0.187185\n",
       "41  2022_37             0.156806      0.201687\n",
       "42  2022_39             0.163905      0.240693\n",
       "43  2022_40             0.162842      0.193665\n",
       "44  2022_41             0.154110      0.201843\n",
       "45  2022_52             0.166337      0.205171"
      ]
     },
     "execution_count": 28,
     "metadata": {},
     "output_type": "execute_result"
    }
   ],
   "source": [
    "#visualizing sentiment for the whole period \n",
    "# grouping by week, year and lang \n",
    "import plotly.express as px\n",
    "df_sentiment = twitter_df.groupBy('year','week')\\\n",
    "                .agg(avg('sentiment_vader'), avg('polarity'))\\\n",
    "                .withColumnRenamed(\"avg(sentiment_vader)\", \"avg_sentiment_vader\") \\\n",
    "                .withColumnRenamed(\"avg(polarity)\", \"avg_polarity\") \\\n",
    "                .sort('year', 'week', ascending = True)\n",
    "df_sentiment = df_sentiment.select(concat_ws('_',df_sentiment.year, df_sentiment.week)\\\n",
    "                            .alias('date'), 'avg_sentiment_vader', 'avg_polarity').toPandas()\n",
    "\n",
    "df_sentiment"
   ]
  },
  {
   "cell_type": "code",
   "execution_count": 29,
   "id": "3055af8a-9c40-4e91-a46e-7068e52e64ed",
   "metadata": {},
   "outputs": [
    {
     "data": {
      "application/vnd.plotly.v1+json": {
       "config": {
        "plotlyServerURL": "https://plotly.com"
       },
       "data": [
        {
         "hovertemplate": "variable=avg_sentiment_vader<br>date=%{x}<br>value=%{y}<extra></extra>",
         "legendgroup": "avg_sentiment_vader",
         "line": {
          "color": "#636efa",
          "dash": "solid"
         },
         "marker": {
          "symbol": "circle"
         },
         "mode": "lines",
         "name": "avg_sentiment_vader",
         "orientation": "v",
         "showlegend": true,
         "type": "scatter",
         "x": [
          "2021_43",
          "2021_44",
          "2021_48",
          "2021_49",
          "2021_50",
          "2021_51",
          "2021_52",
          "2022_1",
          "2022_2",
          "2022_3",
          "2022_4",
          "2022_5",
          "2022_6",
          "2022_7",
          "2022_8",
          "2022_9",
          "2022_10",
          "2022_11",
          "2022_12",
          "2022_13",
          "2022_15",
          "2022_16",
          "2022_17",
          "2022_18",
          "2022_19",
          "2022_20",
          "2022_21",
          "2022_22",
          "2022_24",
          "2022_25",
          "2022_26",
          "2022_27",
          "2022_28",
          "2022_29",
          "2022_30",
          "2022_31",
          "2022_32",
          "2022_33",
          "2022_34",
          "2022_35",
          "2022_36",
          "2022_37",
          "2022_39",
          "2022_40",
          "2022_41",
          "2022_52"
         ],
         "xaxis": "x",
         "y": [
          0.13414870787895786,
          0.14477288748305472,
          0.12758333333333333,
          0.13276364219741948,
          0.1698601457399103,
          0.1692687838884586,
          0.15554685925428283,
          0.16073843416370112,
          0.15549474165523547,
          0.1465088607594938,
          0.150661407579273,
          0.16372350065577682,
          0.13704962593516212,
          0.13226497565394618,
          0.1580067956089911,
          0.13402972341954014,
          0.1308623843431546,
          0.15539223410241984,
          0.15606570080862534,
          0.15210957278481013,
          0.1646984040623866,
          0.14075418326693231,
          0.13293819395417514,
          0.16434274393263995,
          0.15634551063484325,
          0.1514082441537852,
          0.13870388300554712,
          0.15883509799504392,
          0.16281583661769972,
          0.16108950182943987,
          0.1278346887354817,
          0.1576640991695752,
          0.15335722543352603,
          0.1454269580522147,
          0.12932600673832814,
          0.12671312328966186,
          0.1458891602479804,
          0.15268124216682913,
          0.15293596059113304,
          0.15278545056748252,
          0.15075095785440606,
          0.15680589022757704,
          0.16390517241379313,
          0.1628424657534247,
          0.15411009174311932,
          0.16633677298311442
         ],
         "yaxis": "y"
        },
        {
         "hovertemplate": "variable=avg_polarity<br>date=%{x}<br>value=%{y}<extra></extra>",
         "legendgroup": "avg_polarity",
         "line": {
          "color": "#EF553B",
          "dash": "solid"
         },
         "marker": {
          "symbol": "circle"
         },
         "mode": "lines",
         "name": "avg_polarity",
         "orientation": "v",
         "showlegend": true,
         "type": "scatter",
         "x": [
          "2021_43",
          "2021_44",
          "2021_48",
          "2021_49",
          "2021_50",
          "2021_51",
          "2021_52",
          "2022_1",
          "2022_2",
          "2022_3",
          "2022_4",
          "2022_5",
          "2022_6",
          "2022_7",
          "2022_8",
          "2022_9",
          "2022_10",
          "2022_11",
          "2022_12",
          "2022_13",
          "2022_15",
          "2022_16",
          "2022_17",
          "2022_18",
          "2022_19",
          "2022_20",
          "2022_21",
          "2022_22",
          "2022_24",
          "2022_25",
          "2022_26",
          "2022_27",
          "2022_28",
          "2022_29",
          "2022_30",
          "2022_31",
          "2022_32",
          "2022_33",
          "2022_34",
          "2022_35",
          "2022_36",
          "2022_37",
          "2022_39",
          "2022_40",
          "2022_41",
          "2022_52"
         ],
         "xaxis": "x",
         "y": [
          0.12971137825340634,
          0.16805668049853623,
          0.16041666666666668,
          0.1250883797580045,
          0.2213970694232911,
          0.23130699244369005,
          0.17845996280106483,
          0.2202583084492669,
          0.20505601164398884,
          0.20549714446568637,
          0.18304912304298604,
          0.19857647806565953,
          0.14995641371227694,
          0.13647470031292883,
          0.18937375998981376,
          0.11394779771810024,
          0.12056848940787895,
          0.19766280029541894,
          0.20634897950238248,
          0.20067825923222932,
          0.21289402789915352,
          0.16822476871956277,
          0.12713197464070797,
          0.21219976397545173,
          0.2083741915107819,
          0.20092066875929251,
          0.1515706061780541,
          0.20624823643883977,
          0.18683730734589224,
          0.21039646189879913,
          0.11069410388497396,
          0.19374017735281487,
          0.20439251406670716,
          0.18807927185564646,
          0.10986310600387637,
          0.11779762902877916,
          0.19079552616469195,
          0.19278031246594282,
          0.19510583066635584,
          0.19410356451528218,
          0.18718462410332903,
          0.20168679900745223,
          0.24069257291240048,
          0.1936651241563485,
          0.20184264512061995,
          0.20517113504526627
         ],
         "yaxis": "y"
        }
       ],
       "layout": {
        "legend": {
         "title": {
          "text": "variable"
         },
         "tracegroupgap": 0
        },
        "margin": {
         "t": 60
        },
        "template": {
         "data": {
          "bar": [
           {
            "error_x": {
             "color": "#2a3f5f"
            },
            "error_y": {
             "color": "#2a3f5f"
            },
            "marker": {
             "line": {
              "color": "#E5ECF6",
              "width": 0.5
             },
             "pattern": {
              "fillmode": "overlay",
              "size": 10,
              "solidity": 0.2
             }
            },
            "type": "bar"
           }
          ],
          "barpolar": [
           {
            "marker": {
             "line": {
              "color": "#E5ECF6",
              "width": 0.5
             },
             "pattern": {
              "fillmode": "overlay",
              "size": 10,
              "solidity": 0.2
             }
            },
            "type": "barpolar"
           }
          ],
          "carpet": [
           {
            "aaxis": {
             "endlinecolor": "#2a3f5f",
             "gridcolor": "white",
             "linecolor": "white",
             "minorgridcolor": "white",
             "startlinecolor": "#2a3f5f"
            },
            "baxis": {
             "endlinecolor": "#2a3f5f",
             "gridcolor": "white",
             "linecolor": "white",
             "minorgridcolor": "white",
             "startlinecolor": "#2a3f5f"
            },
            "type": "carpet"
           }
          ],
          "choropleth": [
           {
            "colorbar": {
             "outlinewidth": 0,
             "ticks": ""
            },
            "type": "choropleth"
           }
          ],
          "contour": [
           {
            "colorbar": {
             "outlinewidth": 0,
             "ticks": ""
            },
            "colorscale": [
             [
              0,
              "#0d0887"
             ],
             [
              0.1111111111111111,
              "#46039f"
             ],
             [
              0.2222222222222222,
              "#7201a8"
             ],
             [
              0.3333333333333333,
              "#9c179e"
             ],
             [
              0.4444444444444444,
              "#bd3786"
             ],
             [
              0.5555555555555556,
              "#d8576b"
             ],
             [
              0.6666666666666666,
              "#ed7953"
             ],
             [
              0.7777777777777778,
              "#fb9f3a"
             ],
             [
              0.8888888888888888,
              "#fdca26"
             ],
             [
              1,
              "#f0f921"
             ]
            ],
            "type": "contour"
           }
          ],
          "contourcarpet": [
           {
            "colorbar": {
             "outlinewidth": 0,
             "ticks": ""
            },
            "type": "contourcarpet"
           }
          ],
          "heatmap": [
           {
            "colorbar": {
             "outlinewidth": 0,
             "ticks": ""
            },
            "colorscale": [
             [
              0,
              "#0d0887"
             ],
             [
              0.1111111111111111,
              "#46039f"
             ],
             [
              0.2222222222222222,
              "#7201a8"
             ],
             [
              0.3333333333333333,
              "#9c179e"
             ],
             [
              0.4444444444444444,
              "#bd3786"
             ],
             [
              0.5555555555555556,
              "#d8576b"
             ],
             [
              0.6666666666666666,
              "#ed7953"
             ],
             [
              0.7777777777777778,
              "#fb9f3a"
             ],
             [
              0.8888888888888888,
              "#fdca26"
             ],
             [
              1,
              "#f0f921"
             ]
            ],
            "type": "heatmap"
           }
          ],
          "heatmapgl": [
           {
            "colorbar": {
             "outlinewidth": 0,
             "ticks": ""
            },
            "colorscale": [
             [
              0,
              "#0d0887"
             ],
             [
              0.1111111111111111,
              "#46039f"
             ],
             [
              0.2222222222222222,
              "#7201a8"
             ],
             [
              0.3333333333333333,
              "#9c179e"
             ],
             [
              0.4444444444444444,
              "#bd3786"
             ],
             [
              0.5555555555555556,
              "#d8576b"
             ],
             [
              0.6666666666666666,
              "#ed7953"
             ],
             [
              0.7777777777777778,
              "#fb9f3a"
             ],
             [
              0.8888888888888888,
              "#fdca26"
             ],
             [
              1,
              "#f0f921"
             ]
            ],
            "type": "heatmapgl"
           }
          ],
          "histogram": [
           {
            "marker": {
             "pattern": {
              "fillmode": "overlay",
              "size": 10,
              "solidity": 0.2
             }
            },
            "type": "histogram"
           }
          ],
          "histogram2d": [
           {
            "colorbar": {
             "outlinewidth": 0,
             "ticks": ""
            },
            "colorscale": [
             [
              0,
              "#0d0887"
             ],
             [
              0.1111111111111111,
              "#46039f"
             ],
             [
              0.2222222222222222,
              "#7201a8"
             ],
             [
              0.3333333333333333,
              "#9c179e"
             ],
             [
              0.4444444444444444,
              "#bd3786"
             ],
             [
              0.5555555555555556,
              "#d8576b"
             ],
             [
              0.6666666666666666,
              "#ed7953"
             ],
             [
              0.7777777777777778,
              "#fb9f3a"
             ],
             [
              0.8888888888888888,
              "#fdca26"
             ],
             [
              1,
              "#f0f921"
             ]
            ],
            "type": "histogram2d"
           }
          ],
          "histogram2dcontour": [
           {
            "colorbar": {
             "outlinewidth": 0,
             "ticks": ""
            },
            "colorscale": [
             [
              0,
              "#0d0887"
             ],
             [
              0.1111111111111111,
              "#46039f"
             ],
             [
              0.2222222222222222,
              "#7201a8"
             ],
             [
              0.3333333333333333,
              "#9c179e"
             ],
             [
              0.4444444444444444,
              "#bd3786"
             ],
             [
              0.5555555555555556,
              "#d8576b"
             ],
             [
              0.6666666666666666,
              "#ed7953"
             ],
             [
              0.7777777777777778,
              "#fb9f3a"
             ],
             [
              0.8888888888888888,
              "#fdca26"
             ],
             [
              1,
              "#f0f921"
             ]
            ],
            "type": "histogram2dcontour"
           }
          ],
          "mesh3d": [
           {
            "colorbar": {
             "outlinewidth": 0,
             "ticks": ""
            },
            "type": "mesh3d"
           }
          ],
          "parcoords": [
           {
            "line": {
             "colorbar": {
              "outlinewidth": 0,
              "ticks": ""
             }
            },
            "type": "parcoords"
           }
          ],
          "pie": [
           {
            "automargin": true,
            "type": "pie"
           }
          ],
          "scatter": [
           {
            "fillpattern": {
             "fillmode": "overlay",
             "size": 10,
             "solidity": 0.2
            },
            "type": "scatter"
           }
          ],
          "scatter3d": [
           {
            "line": {
             "colorbar": {
              "outlinewidth": 0,
              "ticks": ""
             }
            },
            "marker": {
             "colorbar": {
              "outlinewidth": 0,
              "ticks": ""
             }
            },
            "type": "scatter3d"
           }
          ],
          "scattercarpet": [
           {
            "marker": {
             "colorbar": {
              "outlinewidth": 0,
              "ticks": ""
             }
            },
            "type": "scattercarpet"
           }
          ],
          "scattergeo": [
           {
            "marker": {
             "colorbar": {
              "outlinewidth": 0,
              "ticks": ""
             }
            },
            "type": "scattergeo"
           }
          ],
          "scattergl": [
           {
            "marker": {
             "colorbar": {
              "outlinewidth": 0,
              "ticks": ""
             }
            },
            "type": "scattergl"
           }
          ],
          "scattermapbox": [
           {
            "marker": {
             "colorbar": {
              "outlinewidth": 0,
              "ticks": ""
             }
            },
            "type": "scattermapbox"
           }
          ],
          "scatterpolar": [
           {
            "marker": {
             "colorbar": {
              "outlinewidth": 0,
              "ticks": ""
             }
            },
            "type": "scatterpolar"
           }
          ],
          "scatterpolargl": [
           {
            "marker": {
             "colorbar": {
              "outlinewidth": 0,
              "ticks": ""
             }
            },
            "type": "scatterpolargl"
           }
          ],
          "scatterternary": [
           {
            "marker": {
             "colorbar": {
              "outlinewidth": 0,
              "ticks": ""
             }
            },
            "type": "scatterternary"
           }
          ],
          "surface": [
           {
            "colorbar": {
             "outlinewidth": 0,
             "ticks": ""
            },
            "colorscale": [
             [
              0,
              "#0d0887"
             ],
             [
              0.1111111111111111,
              "#46039f"
             ],
             [
              0.2222222222222222,
              "#7201a8"
             ],
             [
              0.3333333333333333,
              "#9c179e"
             ],
             [
              0.4444444444444444,
              "#bd3786"
             ],
             [
              0.5555555555555556,
              "#d8576b"
             ],
             [
              0.6666666666666666,
              "#ed7953"
             ],
             [
              0.7777777777777778,
              "#fb9f3a"
             ],
             [
              0.8888888888888888,
              "#fdca26"
             ],
             [
              1,
              "#f0f921"
             ]
            ],
            "type": "surface"
           }
          ],
          "table": [
           {
            "cells": {
             "fill": {
              "color": "#EBF0F8"
             },
             "line": {
              "color": "white"
             }
            },
            "header": {
             "fill": {
              "color": "#C8D4E3"
             },
             "line": {
              "color": "white"
             }
            },
            "type": "table"
           }
          ]
         },
         "layout": {
          "annotationdefaults": {
           "arrowcolor": "#2a3f5f",
           "arrowhead": 0,
           "arrowwidth": 1
          },
          "autotypenumbers": "strict",
          "coloraxis": {
           "colorbar": {
            "outlinewidth": 0,
            "ticks": ""
           }
          },
          "colorscale": {
           "diverging": [
            [
             0,
             "#8e0152"
            ],
            [
             0.1,
             "#c51b7d"
            ],
            [
             0.2,
             "#de77ae"
            ],
            [
             0.3,
             "#f1b6da"
            ],
            [
             0.4,
             "#fde0ef"
            ],
            [
             0.5,
             "#f7f7f7"
            ],
            [
             0.6,
             "#e6f5d0"
            ],
            [
             0.7,
             "#b8e186"
            ],
            [
             0.8,
             "#7fbc41"
            ],
            [
             0.9,
             "#4d9221"
            ],
            [
             1,
             "#276419"
            ]
           ],
           "sequential": [
            [
             0,
             "#0d0887"
            ],
            [
             0.1111111111111111,
             "#46039f"
            ],
            [
             0.2222222222222222,
             "#7201a8"
            ],
            [
             0.3333333333333333,
             "#9c179e"
            ],
            [
             0.4444444444444444,
             "#bd3786"
            ],
            [
             0.5555555555555556,
             "#d8576b"
            ],
            [
             0.6666666666666666,
             "#ed7953"
            ],
            [
             0.7777777777777778,
             "#fb9f3a"
            ],
            [
             0.8888888888888888,
             "#fdca26"
            ],
            [
             1,
             "#f0f921"
            ]
           ],
           "sequentialminus": [
            [
             0,
             "#0d0887"
            ],
            [
             0.1111111111111111,
             "#46039f"
            ],
            [
             0.2222222222222222,
             "#7201a8"
            ],
            [
             0.3333333333333333,
             "#9c179e"
            ],
            [
             0.4444444444444444,
             "#bd3786"
            ],
            [
             0.5555555555555556,
             "#d8576b"
            ],
            [
             0.6666666666666666,
             "#ed7953"
            ],
            [
             0.7777777777777778,
             "#fb9f3a"
            ],
            [
             0.8888888888888888,
             "#fdca26"
            ],
            [
             1,
             "#f0f921"
            ]
           ]
          },
          "colorway": [
           "#636efa",
           "#EF553B",
           "#00cc96",
           "#ab63fa",
           "#FFA15A",
           "#19d3f3",
           "#FF6692",
           "#B6E880",
           "#FF97FF",
           "#FECB52"
          ],
          "font": {
           "color": "#2a3f5f"
          },
          "geo": {
           "bgcolor": "white",
           "lakecolor": "white",
           "landcolor": "#E5ECF6",
           "showlakes": true,
           "showland": true,
           "subunitcolor": "white"
          },
          "hoverlabel": {
           "align": "left"
          },
          "hovermode": "closest",
          "mapbox": {
           "style": "light"
          },
          "paper_bgcolor": "white",
          "plot_bgcolor": "#E5ECF6",
          "polar": {
           "angularaxis": {
            "gridcolor": "white",
            "linecolor": "white",
            "ticks": ""
           },
           "bgcolor": "#E5ECF6",
           "radialaxis": {
            "gridcolor": "white",
            "linecolor": "white",
            "ticks": ""
           }
          },
          "scene": {
           "xaxis": {
            "backgroundcolor": "#E5ECF6",
            "gridcolor": "white",
            "gridwidth": 2,
            "linecolor": "white",
            "showbackground": true,
            "ticks": "",
            "zerolinecolor": "white"
           },
           "yaxis": {
            "backgroundcolor": "#E5ECF6",
            "gridcolor": "white",
            "gridwidth": 2,
            "linecolor": "white",
            "showbackground": true,
            "ticks": "",
            "zerolinecolor": "white"
           },
           "zaxis": {
            "backgroundcolor": "#E5ECF6",
            "gridcolor": "white",
            "gridwidth": 2,
            "linecolor": "white",
            "showbackground": true,
            "ticks": "",
            "zerolinecolor": "white"
           }
          },
          "shapedefaults": {
           "line": {
            "color": "#2a3f5f"
           }
          },
          "ternary": {
           "aaxis": {
            "gridcolor": "white",
            "linecolor": "white",
            "ticks": ""
           },
           "baxis": {
            "gridcolor": "white",
            "linecolor": "white",
            "ticks": ""
           },
           "bgcolor": "#E5ECF6",
           "caxis": {
            "gridcolor": "white",
            "linecolor": "white",
            "ticks": ""
           }
          },
          "title": {
           "x": 0.05
          },
          "xaxis": {
           "automargin": true,
           "gridcolor": "white",
           "linecolor": "white",
           "ticks": "",
           "title": {
            "standoff": 15
           },
           "zerolinecolor": "white",
           "zerolinewidth": 2
          },
          "yaxis": {
           "automargin": true,
           "gridcolor": "white",
           "linecolor": "white",
           "ticks": "",
           "title": {
            "standoff": 15
           },
           "zerolinecolor": "white",
           "zerolinewidth": 2
          }
         }
        },
        "title": {
         "text": "Sentiment over time ",
         "x": 0.5
        },
        "xaxis": {
         "anchor": "y",
         "domain": [
          0,
          1
         ],
         "title": {
          "text": "<b>Date</b>"
         }
        },
        "yaxis": {
         "anchor": "x",
         "domain": [
          0,
          1
         ],
         "title": {
          "text": "<b>Sentiment</b>"
         }
        }
       }
      }
     },
     "metadata": {},
     "output_type": "display_data"
    }
   ],
   "source": [
    "fig = px.line(df_sentiment, x='date', y=df_sentiment.columns[1:3])\n",
    "\n",
    "    # Add figure title\n",
    "fig.update_layout(\n",
    "        title_text=\"Sentiment over time \",\n",
    "        title_x = 0.5\n",
    "    )\n",
    "\n",
    "    # add axes\n",
    "fig.update_xaxes(title_text=\"<b>Date</b>\")\n",
    "fig.update_yaxes(title_text=\"<b>Sentiment</b>\")\n",
    "\n",
    "fig.show()"
   ]
  },
  {
   "cell_type": "markdown",
   "id": "dfca6c6e-f04f-45fe-8f00-b20227107e7e",
   "metadata": {
    "tags": []
   },
   "source": [
    "### 2.3.1 visualizing sentiment based on coordinates \n",
    "\n"
   ]
  },
  {
   "cell_type": "code",
   "execution_count": 30,
   "id": "4ef8e113-9ee2-419a-8ce2-cae1c045ab2b",
   "metadata": {},
   "outputs": [
    {
     "name": "stderr",
     "output_type": "stream",
     "text": [
      "                                                                                \r"
     ]
    },
    {
     "data": {
      "text/plain": [
       "96.972918162278"
      ]
     },
     "execution_count": 30,
     "metadata": {},
     "output_type": "execute_result"
    }
   ],
   "source": [
    "twitter_df.filter(F.col(\"coordinates\").isNull()).count()\\\n",
    "        /twitter_df.count()*100 \n",
    "#97 procent of the data does not have a coordinate "
   ]
  },
  {
   "cell_type": "code",
   "execution_count": 31,
   "id": "be74347d-3856-4e66-be7b-225b8625a03f",
   "metadata": {},
   "outputs": [
    {
     "name": "stderr",
     "output_type": "stream",
     "text": [
      "                                                                                \r"
     ]
    },
    {
     "data": {
      "text/plain": [
       "14210"
      ]
     },
     "execution_count": 31,
     "metadata": {},
     "output_type": "execute_result"
    }
   ],
   "source": [
    "#select the coordinates that are not null \n",
    "co_df = twitter_df.filter(twitter_df.coordinates.isNotNull())\n",
    "co_df.count()"
   ]
  },
  {
   "cell_type": "code",
   "execution_count": 32,
   "id": "efc296a7-e44f-46ff-846d-6de00986e17d",
   "metadata": {},
   "outputs": [
    {
     "name": "stdout",
     "output_type": "stream",
     "text": [
      "root\n",
      " |-- coordinates: array (nullable = true)\n",
      " |    |-- element: array (containsNull = true)\n",
      " |    |    |-- element: array (containsNull = true)\n",
      " |    |    |    |-- element: double (containsNull = true)\n",
      " |-- sentiment_vader: double (nullable = true)\n",
      " |-- polarity: double (nullable = true)\n",
      "\n"
     ]
    }
   ],
   "source": [
    "co_df = co_df.select('coordinates', 'sentiment_vader', 'polarity')\n",
    "co_df.printSchema()"
   ]
  },
  {
   "cell_type": "code",
   "execution_count": 33,
   "id": "feadb1e4-506a-4efc-8020-f5e1bb1f59ad",
   "metadata": {},
   "outputs": [],
   "source": [
    "co_df = co_df.withColumn('element1', co_df.coordinates.getItem(0))\n",
    "co_df = co_df.withColumn('element2', co_df.element1.getItem(0))\n",
    "co_df = co_df.withColumn('long', co_df.element2.getItem(0))\n",
    "co_df = co_df.withColumn('lat', co_df.element2.getItem(1))\n"
   ]
  },
  {
   "cell_type": "code",
   "execution_count": 34,
   "id": "fbdefe69-2ccb-4c8c-9970-7da212e9f785",
   "metadata": {},
   "outputs": [
    {
     "name": "stderr",
     "output_type": "stream",
     "text": [
      "[Stage 88:======================================>                   (6 + 3) / 9]\r"
     ]
    },
    {
     "name": "stdout",
     "output_type": "stream",
     "text": [
      "+-------------------+-----------------+\n",
      "|               long|              lat|\n",
      "+-------------------+-----------------+\n",
      "|-121.01971798381265|47.20865872393696|\n",
      "|          -0.173706|         50.80835|\n",
      "|         -4.0649355|       55.8920205|\n",
      "|         -83.204418|        42.474131|\n",
      "|        -84.5355341|        33.609487|\n",
      "+-------------------+-----------------+\n",
      "only showing top 5 rows\n",
      "\n"
     ]
    },
    {
     "name": "stderr",
     "output_type": "stream",
     "text": [
      "                                                                                \r"
     ]
    }
   ],
   "source": [
    "co_df.select('long','lat').show(5)"
   ]
  },
  {
   "cell_type": "code",
   "execution_count": 35,
   "id": "2fc48e41-d348-4649-b597-97ba1daab12a",
   "metadata": {},
   "outputs": [
    {
     "name": "stderr",
     "output_type": "stream",
     "text": [
      "                                                                                \r"
     ]
    },
    {
     "data": {
      "text/html": [
       "<div>\n",
       "<style scoped>\n",
       "    .dataframe tbody tr th:only-of-type {\n",
       "        vertical-align: middle;\n",
       "    }\n",
       "\n",
       "    .dataframe tbody tr th {\n",
       "        vertical-align: top;\n",
       "    }\n",
       "\n",
       "    .dataframe thead th {\n",
       "        text-align: right;\n",
       "    }\n",
       "</style>\n",
       "<table border=\"1\" class=\"dataframe\">\n",
       "  <thead>\n",
       "    <tr style=\"text-align: right;\">\n",
       "      <th></th>\n",
       "      <th>long</th>\n",
       "      <th>lat</th>\n",
       "      <th>sentiment_vader</th>\n",
       "      <th>polarity</th>\n",
       "    </tr>\n",
       "  </thead>\n",
       "  <tbody>\n",
       "    <tr>\n",
       "      <th>0</th>\n",
       "      <td>-121.019718</td>\n",
       "      <td>47.208659</td>\n",
       "      <td>0.000</td>\n",
       "      <td>0.000000</td>\n",
       "    </tr>\n",
       "    <tr>\n",
       "      <th>1</th>\n",
       "      <td>-0.173706</td>\n",
       "      <td>50.808350</td>\n",
       "      <td>0.077</td>\n",
       "      <td>-0.183333</td>\n",
       "    </tr>\n",
       "    <tr>\n",
       "      <th>2</th>\n",
       "      <td>-4.064935</td>\n",
       "      <td>55.892021</td>\n",
       "      <td>0.187</td>\n",
       "      <td>0.053333</td>\n",
       "    </tr>\n",
       "    <tr>\n",
       "      <th>3</th>\n",
       "      <td>-83.204418</td>\n",
       "      <td>42.474131</td>\n",
       "      <td>0.172</td>\n",
       "      <td>0.000000</td>\n",
       "    </tr>\n",
       "    <tr>\n",
       "      <th>4</th>\n",
       "      <td>-84.535534</td>\n",
       "      <td>33.609487</td>\n",
       "      <td>0.000</td>\n",
       "      <td>0.016667</td>\n",
       "    </tr>\n",
       "    <tr>\n",
       "      <th>...</th>\n",
       "      <td>...</td>\n",
       "      <td>...</td>\n",
       "      <td>...</td>\n",
       "      <td>...</td>\n",
       "    </tr>\n",
       "    <tr>\n",
       "      <th>14205</th>\n",
       "      <td>-79.834550</td>\n",
       "      <td>40.401140</td>\n",
       "      <td>0.292</td>\n",
       "      <td>0.338447</td>\n",
       "    </tr>\n",
       "    <tr>\n",
       "      <th>14206</th>\n",
       "      <td>-121.074342</td>\n",
       "      <td>37.594850</td>\n",
       "      <td>0.194</td>\n",
       "      <td>0.750000</td>\n",
       "    </tr>\n",
       "    <tr>\n",
       "      <th>14207</th>\n",
       "      <td>-118.668404</td>\n",
       "      <td>33.704538</td>\n",
       "      <td>0.137</td>\n",
       "      <td>0.193750</td>\n",
       "    </tr>\n",
       "    <tr>\n",
       "      <th>14208</th>\n",
       "      <td>-100.901447</td>\n",
       "      <td>35.014856</td>\n",
       "      <td>0.225</td>\n",
       "      <td>0.190755</td>\n",
       "    </tr>\n",
       "    <tr>\n",
       "      <th>14209</th>\n",
       "      <td>-45.845372</td>\n",
       "      <td>-23.856357</td>\n",
       "      <td>0.254</td>\n",
       "      <td>0.000000</td>\n",
       "    </tr>\n",
       "  </tbody>\n",
       "</table>\n",
       "<p>14210 rows × 4 columns</p>\n",
       "</div>"
      ],
      "text/plain": [
       "             long        lat  sentiment_vader  polarity\n",
       "0     -121.019718  47.208659            0.000  0.000000\n",
       "1       -0.173706  50.808350            0.077 -0.183333\n",
       "2       -4.064935  55.892021            0.187  0.053333\n",
       "3      -83.204418  42.474131            0.172  0.000000\n",
       "4      -84.535534  33.609487            0.000  0.016667\n",
       "...           ...        ...              ...       ...\n",
       "14205  -79.834550  40.401140            0.292  0.338447\n",
       "14206 -121.074342  37.594850            0.194  0.750000\n",
       "14207 -118.668404  33.704538            0.137  0.193750\n",
       "14208 -100.901447  35.014856            0.225  0.190755\n",
       "14209  -45.845372 -23.856357            0.254  0.000000\n",
       "\n",
       "[14210 rows x 4 columns]"
      ]
     },
     "execution_count": 35,
     "metadata": {},
     "output_type": "execute_result"
    }
   ],
   "source": [
    "co_df = co_df.select('long', 'lat', 'sentiment_vader', 'polarity').toPandas()\n",
    "co_df"
   ]
  },
  {
   "cell_type": "code",
   "execution_count": 36,
   "id": "aa940815-2680-4c83-ab70-ca6d24cf2c89",
   "metadata": {},
   "outputs": [],
   "source": [
    "#https://towardsdatascience.com/easiest-way-to-plot-on-a-world-map-with-pandas-and-geopandas-325f6024949f \n",
    "import matplotlib.pyplot as plt\n",
    "import geopandas as gpd"
   ]
  },
  {
   "cell_type": "code",
   "execution_count": 37,
   "id": "e847be0d-214d-4a46-be4b-05096be243ad",
   "metadata": {},
   "outputs": [
    {
     "data": {
      "text/html": [
       "<div>\n",
       "<style scoped>\n",
       "    .dataframe tbody tr th:only-of-type {\n",
       "        vertical-align: middle;\n",
       "    }\n",
       "\n",
       "    .dataframe tbody tr th {\n",
       "        vertical-align: top;\n",
       "    }\n",
       "\n",
       "    .dataframe thead th {\n",
       "        text-align: right;\n",
       "    }\n",
       "</style>\n",
       "<table border=\"1\" class=\"dataframe\">\n",
       "  <thead>\n",
       "    <tr style=\"text-align: right;\">\n",
       "      <th></th>\n",
       "      <th>sentiment_vader</th>\n",
       "      <th>polarity</th>\n",
       "    </tr>\n",
       "  </thead>\n",
       "  <tbody>\n",
       "    <tr>\n",
       "      <th>count</th>\n",
       "      <td>14210.000000</td>\n",
       "      <td>14210.000000</td>\n",
       "    </tr>\n",
       "    <tr>\n",
       "      <th>mean</th>\n",
       "      <td>0.146552</td>\n",
       "      <td>0.177213</td>\n",
       "    </tr>\n",
       "    <tr>\n",
       "      <th>std</th>\n",
       "      <td>0.143929</td>\n",
       "      <td>0.317526</td>\n",
       "    </tr>\n",
       "    <tr>\n",
       "      <th>min</th>\n",
       "      <td>0.000000</td>\n",
       "      <td>-1.000000</td>\n",
       "    </tr>\n",
       "    <tr>\n",
       "      <th>25%</th>\n",
       "      <td>0.000000</td>\n",
       "      <td>0.000000</td>\n",
       "    </tr>\n",
       "    <tr>\n",
       "      <th>50%</th>\n",
       "      <td>0.127000</td>\n",
       "      <td>0.100000</td>\n",
       "    </tr>\n",
       "    <tr>\n",
       "      <th>75%</th>\n",
       "      <td>0.241000</td>\n",
       "      <td>0.375000</td>\n",
       "    </tr>\n",
       "    <tr>\n",
       "      <th>max</th>\n",
       "      <td>1.000000</td>\n",
       "      <td>1.000000</td>\n",
       "    </tr>\n",
       "  </tbody>\n",
       "</table>\n",
       "</div>"
      ],
      "text/plain": [
       "       sentiment_vader      polarity\n",
       "count     14210.000000  14210.000000\n",
       "mean          0.146552      0.177213\n",
       "std           0.143929      0.317526\n",
       "min           0.000000     -1.000000\n",
       "25%           0.000000      0.000000\n",
       "50%           0.127000      0.100000\n",
       "75%           0.241000      0.375000\n",
       "max           1.000000      1.000000"
      ]
     },
     "execution_count": 37,
     "metadata": {},
     "output_type": "execute_result"
    }
   ],
   "source": [
    "co_df[['sentiment_vader', 'polarity']].describe()"
   ]
  },
  {
   "cell_type": "code",
   "execution_count": 38,
   "id": "0bf86008-a69b-44f5-9f4a-12a25db94936",
   "metadata": {},
   "outputs": [],
   "source": [
    "#making 3 levels of sentiment \n",
    "def vader_cat(value):\n",
    "    if value < 0.05: \n",
    "        return 'low sentiment'\n",
    "    if (value >= 0.05) &(value<0.24): \n",
    "        return 'average sentiment'\n",
    "    return 'high sentiment'\n",
    "co_df['vader_categorical'] = co_df['sentiment_vader'].map(vader_cat)\n",
    "\n",
    "def polarity_cat(value):\n",
    "    if value < 0: \n",
    "        return 'low sentiment'\n",
    "    if (value >= 0.00) &(value<0.39): \n",
    "        return 'average sentiment'\n",
    "    return 'high sentiment'\n",
    "co_df['polarity_categorical'] = co_df['polarity'].map(polarity_cat)"
   ]
  },
  {
   "cell_type": "code",
   "execution_count": 39,
   "id": "3552c04d-44ba-453c-9d48-03ea418ed2ae",
   "metadata": {
    "tags": []
   },
   "outputs": [
    {
     "data": {
      "image/png": "[encoded data removed]",
      "text/plain": [
       "<Figure size 864x432 with 2 Axes>"
      ]
     },
     "metadata": {
      "needs_background": "light"
     },
     "output_type": "display_data"
    }
   ],
   "source": [
    "# From GeoPandas, our world map data\n",
    "worldmap = gpd.read_file(gpd.datasets.get_path(\"naturalearth_lowres\"))\n",
    "\n",
    "# Creating axes and plotting world map\n",
    "fig, ax = plt.subplots(figsize=(12, 6))\n",
    "worldmap.plot(color=\"lightgrey\", ax=ax)\n",
    "\n",
    "# Plotting our Impact Energy data with a color map\n",
    "x = co_df['long']\n",
    "y = co_df['lat']\n",
    "z = co_df['sentiment_vader']\n",
    "plt.scatter(x, y, s=20*z, c=z, alpha=0.6, vmin=0, vmax=1,\n",
    "            cmap='autumn')\n",
    "plt.colorbar(label='Sentiment based on Vader Package')\n",
    "\n",
    "# Creating axis limits and title\n",
    "plt.xlim([-180, 180])\n",
    "plt.ylim([-90, 90])\n",
    "\n",
    "\n",
    "plt.title(\"Vader sentiment all around the world\")\n",
    "plt.xlabel(\"Longitude\")\n",
    "plt.ylabel(\"Latitude\")\n",
    "plt.show()"
   ]
  },
  {
   "cell_type": "code",
   "execution_count": 40,
   "id": "f62e3577-93e0-4e43-bd3c-095e2ab1c70d",
   "metadata": {},
   "outputs": [
    {
     "name": "stderr",
     "output_type": "stream",
     "text": [
      "/Users/wouterdewitte/opt/anaconda3/lib/python3.9/site-packages/matplotlib/collections.py:1003: RuntimeWarning:\n",
      "\n",
      "invalid value encountered in sqrt\n",
      "\n"
     ]
    },
    {
     "data": {
      "image/png": "[encoded data removed]",
      "text/plain": [
       "<Figure size 864x432 with 2 Axes>"
      ]
     },
     "metadata": {
      "needs_background": "light"
     },
     "output_type": "display_data"
    }
   ],
   "source": [
    "# From GeoPandas, our world map data\n",
    "worldmap = gpd.read_file(gpd.datasets.get_path(\"naturalearth_lowres\"))\n",
    "\n",
    "# Creating axes and plotting world map\n",
    "fig, ax = plt.subplots(figsize=(12, 6))\n",
    "worldmap.plot(color=\"lightgrey\", ax=ax)\n",
    "\n",
    "# Plotting our Impact Energy data with a color map\n",
    "x = co_df['long']\n",
    "y = co_df['lat']\n",
    "z = co_df['polarity']\n",
    "plt.scatter(x, y, s=20*z, c=z, alpha=0.6, vmin=-1, vmax=1,\n",
    "            cmap='autumn')\n",
    "plt.colorbar(label='Sentiment based on Blob Package')\n",
    "\n",
    "# Creating axis limits and title\n",
    "plt.xlim([-180, 180])\n",
    "plt.ylim([-90, 90])\n",
    "\n",
    "\n",
    "plt.title(\"Blob sentiment all around the world\")\n",
    "plt.xlabel(\"Longitude\")\n",
    "plt.ylabel(\"Latitude\")\n",
    "plt.show()"
   ]
  },
  {
   "cell_type": "code",
   "execution_count": 41,
   "id": "81b633e5-9fbf-4b60-a604-7615b013d775",
   "metadata": {},
   "outputs": [],
   "source": [
    "#possible improvements: make it in plotly https://plotly.com/python/scatter-plots-on-maps/ \n"
   ]
  },
  {
   "cell_type": "markdown",
   "id": "1172f4b9-a6b7-4b1e-a26f-410d0b149ad5",
   "metadata": {},
   "source": [
    "# 3. Making a WorldCloud"
   ]
  },
  {
   "cell_type": "code",
   "execution_count": 42,
   "id": "12b6467b-59b5-400a-a283-d5202421c176",
   "metadata": {},
   "outputs": [
    {
     "name": "stderr",
     "output_type": "stream",
     "text": [
      "[Stage 115:===================>                                     (3 + 6) / 9]\r"
     ]
    },
    {
     "name": "stdout",
     "output_type": "stream",
     "text": [
      "+--------------------+\n",
      "|        text_cleaned|\n",
      "+--------------------+\n",
      "|[!, We, open, 10a...|\n",
      "|[!!, Daily, Updat...|\n",
      "|[!love, !iq, !wad...|\n",
      "|[\", DID, YOU, KNO...|\n",
      "|[\", Nature's, Int...|\n",
      "+--------------------+\n",
      "only showing top 5 rows\n",
      "\n"
     ]
    },
    {
     "name": "stderr",
     "output_type": "stream",
     "text": [
      "                                                                                \r"
     ]
    }
   ],
   "source": [
    "#make a wordcloud on the cleaned_text variable  \n",
    "twitter_df.select('text_cleaned').show(5)"
   ]
  },
  {
   "cell_type": "code",
   "execution_count": 44,
   "id": "e6751767",
   "metadata": {},
   "outputs": [
    {
     "name": "stdout",
     "output_type": "stream",
     "text": [
      "Collecting WordCloud\n",
      "  Downloading wordcloud-1.8.2.2-cp39-cp39-macosx_10_9_x86_64.whl (160 kB)\n",
      "\u001b[K     |████████████████████████████████| 160 kB 2.5 MB/s eta 0:00:01\n",
      "\u001b[?25hRequirement already satisfied: pillow in /Users/wouterdewitte/opt/anaconda3/lib/python3.9/site-packages (from WordCloud) (8.4.0)\n",
      "Requirement already satisfied: numpy>=1.6.1 in /Users/wouterdewitte/opt/anaconda3/lib/python3.9/site-packages (from WordCloud) (1.20.3)\n",
      "Requirement already satisfied: matplotlib in /Users/wouterdewitte/opt/anaconda3/lib/python3.9/site-packages (from WordCloud) (3.4.3)\n",
      "Requirement already satisfied: kiwisolver>=1.0.1 in /Users/wouterdewitte/opt/anaconda3/lib/python3.9/site-packages (from matplotlib->WordCloud) (1.3.1)\n",
      "Requirement already satisfied: pyparsing>=2.2.1 in /Users/wouterdewitte/opt/anaconda3/lib/python3.9/site-packages (from matplotlib->WordCloud) (3.0.4)\n",
      "Requirement already satisfied: cycler>=0.10 in /Users/wouterdewitte/opt/anaconda3/lib/python3.9/site-packages (from matplotlib->WordCloud) (0.10.0)\n",
      "Requirement already satisfied: python-dateutil>=2.7 in /Users/wouterdewitte/opt/anaconda3/lib/python3.9/site-packages (from matplotlib->WordCloud) (2.8.2)\n",
      "Requirement already satisfied: six in /Users/wouterdewitte/opt/anaconda3/lib/python3.9/site-packages (from cycler>=0.10->matplotlib->WordCloud) (1.16.0)\n",
      "Installing collected packages: WordCloud\n",
      "Successfully installed WordCloud-1.8.2.2\n",
      "Note: you may need to restart the kernel to use updated packages.\n"
     ]
    }
   ],
   "source": [
    "pip install WordCloud"
   ]
  },
  {
   "cell_type": "code",
   "execution_count": 45,
   "id": "8e3f3157-9116-4978-8437-6961f7dde2a9",
   "metadata": {},
   "outputs": [],
   "source": [
    "from wordcloud import WordCloud"
   ]
  },
  {
   "cell_type": "code",
   "execution_count": 46,
   "id": "3dd2c921-9123-4d47-b1d3-58285f701eff",
   "metadata": {},
   "outputs": [
    {
     "name": "stderr",
     "output_type": "stream",
     "text": [
      "                                                                                \r"
     ]
    }
   ],
   "source": [
    "cleanewd_text = twitter_df.select('text_cleaned').toPandas()"
   ]
  },
  {
   "cell_type": "code",
   "execution_count": 47,
   "id": "eb159857-9a8a-42d3-aa31-1a16bd68863a",
   "metadata": {},
   "outputs": [
    {
     "data": {
      "text/plain": [
       "0         [!, We, open, 10am-9pm, today, tomorrow!!, Muc...\n",
       "1         [!!, Daily, Updates, !!\\n\\nA, taste, Vegan, Fo...\n",
       "2         [!love, !iq, !waddup, Building, time, Sketch, ...\n",
       "3         [\", DID, YOU, KNOW, ?\"\\n\\n#senoritacosmetics, ...\n",
       "4         [\", Nature's, Interconnection, \", \\n\\nCommissi...\n",
       "                                ...                        \n",
       "469424    [🥧, brEAThe, &amp;, @Veganuary, 🥧, #DYK, aweso...\n",
       "469425    [🥧, brEAThe, Kitchen, Appreciates, 🥧, We, love...\n",
       "469426    [🥩💀, A, VEAL, CALF, IS, TAKEN, AWAY, FROM, HIS...\n",
       "469427    [🦪🖤🌈🌱, Vegan, Kitchen:, Low, fat,, high, prote...\n",
       "469428    [🧡, Discover, orange, modern, art, prints, #et...\n",
       "Name: text_cleaned, Length: 469429, dtype: object"
      ]
     },
     "execution_count": 47,
     "metadata": {},
     "output_type": "execute_result"
    }
   ],
   "source": [
    "cleanewd_text['text_cleaned']"
   ]
  },
  {
   "cell_type": "code",
   "execution_count": 48,
   "id": "cc296c3c-5aa7-4299-ae3e-11f8b2890f38",
   "metadata": {},
   "outputs": [],
   "source": [
    "# convert text corpus to large string in order to use the WordCLoud package \n",
    "bad_words = ['vegan', 'https']\n",
    "large_string = \"\"\n",
    "for doc in cleanewd_text['text_cleaned']:\n",
    "    # remove stop words\n",
    "    cleaned_doc = [word for word in doc if word not in STOPWORDS]\n",
    "    #remove redundant and specific words to vegan \n",
    "    cleaned_doc = [word for word in cleaned_doc if word not in bad_words]\n",
    "    # remove single characters\n",
    "    cleaned_doc = [word for word in cleaned_doc if len(word) > 3]\n",
    "    # add to large string\n",
    "    large_string += \" \".join(cleaned_doc)"
   ]
  },
  {
   "cell_type": "code",
   "execution_count": 49,
   "id": "d17155f0-2524-4e22-86d9-c031215bf8ac",
   "metadata": {},
   "outputs": [],
   "source": [
    "#replace bad_words from large string manually \n",
    "large_string = large_string.replace(\" vegan\", \" \")\n",
    "large_string = large_string.replace(\"vegan \", \" \")\n",
    "large_string = large_string.replace(\" vegan \", \" \")\n",
    "large_string = large_string.replace(\"vegan\", \" \")\n",
    "large_string = large_string.replace(\"Vegan\", \" \")\n",
    "large_string = large_string.replace(\"https\", \" \")"
   ]
  },
  {
   "cell_type": "code",
   "execution_count": 50,
   "id": "5b5a350a-937f-4c65-934f-8b5ade12df62",
   "metadata": {},
   "outputs": [
    {
     "data": {
      "text/plain": [
       "0"
      ]
     },
     "execution_count": 50,
     "metadata": {},
     "output_type": "execute_result"
    }
   ],
   "source": [
    "large_string.count(\"Vegan\")"
   ]
  },
  {
   "cell_type": "code",
   "execution_count": 51,
   "id": "8ef92b9f-9e1c-43ff-a012-db0de4af768c",
   "metadata": {},
   "outputs": [],
   "source": [
    "# generate wordcloud\n",
    "wordcloud = WordCloud(width = 3000, \n",
    "                      height = 2000, \n",
    "                      random_state=1, \n",
    "                      background_color='white', \n",
    "                      colormap='Set2', \n",
    "                      collocations=False, \n",
    "                     min_word_length=4, \n",
    "                     collocation_threshold=3).generate(large_string)"
   ]
  },
  {
   "cell_type": "code",
   "execution_count": 52,
   "id": "9483885d-f5b6-484c-a00d-d1f227de7246",
   "metadata": {},
   "outputs": [
    {
     "data": {
      "image/png": "[encoded data removed]",
      "text/plain": [
       "<Figure size 504x504 with 1 Axes>"
      ]
     },
     "metadata": {
      "needs_background": "light"
     },
     "output_type": "display_data"
    }
   ],
   "source": [
    "# plot the wordcloud                   \n",
    "plt.figure(figsize = (7, 7), facecolor = None) \n",
    "plt.imshow(wordcloud) \n",
    "plt.axis(\"off\") \n",
    "plt.tight_layout(pad = 0) \n",
    "plt.show() "
   ]
  },
  {
   "cell_type": "code",
   "execution_count": 53,
   "id": "4d0ee108-7555-43e0-a60f-0e1fedd0a44b",
   "metadata": {},
   "outputs": [
    {
     "data": {
      "text/plain": [
       "[('food', 1.0),\n",
       " ('animal', 0.5725025187940789),\n",
       " ('recipe', 0.5462605595597922),\n",
       " ('meat', 0.43929318763078357),\n",
       " ('vegetarian', 0.3843912268464698),\n",
       " ('free', 0.37521506626365964),\n",
       " ('make', 0.37295202666046656),\n",
       " ('plantbased', 0.36546539564442376),\n",
       " ('diet', 0.3544137022397892),\n",
       " ('healthy', 0.3360303805316593),\n",
       " ('people', 0.3334573355033713),\n",
       " ('plant', 0.30151127644733783),\n",
       " ('good', 0.2974037045648299),\n",
       " ('love', 0.2880105401844532),\n",
       " ('based', 0.2646206308610401),\n",
       " ('know', 0.24592730372781524),\n",
       " ('natural', 0.2433387584282725),\n",
       " ('world', 0.2391846857320003),\n",
       " ('time', 0.23709214911260948),\n",
       " ('made', 0.23101604278074866),\n",
       " ('organic', 0.22126637216151282),\n",
       " ('life', 0.21646128807254128),\n",
       " ('Soap', 0.21632178563124854),\n",
       " ('year', 0.21548477098349222),\n",
       " ('health', 0.21297372704022322),\n",
       " ('product', 0.21024567929938773),\n",
       " ('eating', 0.20649461365573898),\n",
       " ('need', 0.20350306130357282),\n",
       " ('cheese', 0.19831047043323258),\n",
       " ('want', 0.19348988607300627),\n",
       " ('think', 0.19254436952646672),\n",
       " ('deliciou', 0.1858017515306518),\n",
       " ('today', 0.18226768968456947),\n",
       " ('thing', 0.1759745795551422),\n",
       " ('stop', 0.1737580407657134),\n",
       " ('going', 0.17165000387506782),\n",
       " ('best', 0.1654343951019143),\n",
       " ('even', 0.16090831589552818),\n",
       " ('option', 0.1602263039603193),\n",
       " ('meal', 0.15304967836937147),\n",
       " ('milk', 0.15264667131674806),\n",
       " ('Follow', 0.15261567077423854),\n",
       " ('chocolate', 0.15097264202123536),\n",
       " ('right', 0.1509106409362164),\n",
       " ('living', 0.15050763388359295),\n",
       " ('glutenfree', 0.1483375959079284),\n",
       " ('chicken', 0.14819809346663568),\n",
       " ('dairy', 0.14528404247074322),\n",
       " ('great', 0.14528404247074322),\n",
       " ('Twitter', 0.14475703324808184),\n",
       " ('YouTube', 0.14436952646671317),\n",
       " ('look', 0.14357901263272108),\n",
       " ('burger', 0.1431915058513524),\n",
       " ('really', 0.1424939936448888),\n",
       " ('protein', 0.14147097574207548),\n",
       " ('Visit', 0.14024645431295046),\n",
       " ('much', 0.13967294427652485),\n",
       " ('fruit', 0.12908625900953266),\n",
       " ('Thank', 0.1284042470743238),\n",
       " ('never', 0.1282027435480121),\n",
       " ('still', 0.12752073161280322),\n",
       " ('help', 0.126063706114857),\n",
       " ('foodie', 0.12466868170192978),\n",
       " ('beauty', 0.12276214833759591),\n",
       " ('Instagram', 0.12273114779508641),\n",
       " ('many', 0.1225606448112842),\n",
       " ('take', 0.12254514454002945),\n",
       " ('better', 0.12158412772223513),\n",
       " ('restaurant', 0.11956909245911804),\n",
       " ('healing', 0.11758505773851043),\n",
       " ('gift', 0.11713554987212277),\n",
       " ('easy', 0.11701154770208479),\n",
       " ('well', 0.11626753468185694),\n",
       " ('human', 0.11412849724870185),\n",
       " ('week', 0.1136169882972952),\n",
       " ('find', 0.11302797798961482),\n",
       " ('taste', 0.11155545222041385),\n",
       " ('dinner', 0.11127644733782842),\n",
       " ('live', 0.1110749438115167),\n",
       " ('every', 0.11067193675889328),\n",
       " ('Facebook', 0.11022242889250562),\n",
       " ('come', 0.11002092536619391),\n",
       " ('cake', 0.10758738277919863),\n",
       " ('salad', 0.10757188250794389),\n",
       " ('cream', 0.10710687437030147),\n",
       " ('first', 0.10709137409904673),\n",
       " ('lifestyle', 0.10699837247151825),\n",
       " ('veggie', 0.10571184995737426),\n",
       " ('Pinterest', 0.10409982174688057),\n",
       " ('please', 0.10388281794931412),\n",
       " ('uary', 0.10349531116794544),\n",
       " ('LinkedIn', 0.10337130899790746),\n",
       " ('breakfast', 0.10306130357281253),\n",
       " ('mysticmisthealing', 0.10264279624893435),\n",
       " ('green', 0.10172828024490428),\n",
       " ('friend', 0.10109276912345966),\n",
       " ('order', 0.10010075176315586),\n",
       " ('back', 0.09972874525304193),\n",
       " ('friendly', 0.09946524064171124),\n",
       " ('feel', 0.09910873440285205),\n",
       " ('VEGAN', 0.09808571650003875),\n",
       " ('gluten', 0.09797721460125552),\n",
       " ('cooking', 0.09796171433000077),\n",
       " ('cruelty', 0.09751220646361311),\n",
       " ('crueltyfree', 0.09541966984422227),\n",
       " ('sqLnIqgbro', 0.09541966984422227),\n",
       " ('alway', 0.09514066496163683),\n",
       " ('Check', 0.09489266062156088),\n",
       " ('fitness', 0.09469115709524917),\n",
       " ('tasty', 0.09435015112764474),\n",
       " ('bean', 0.09253661939083933),\n",
       " ('sweet', 0.09118809579167636),\n",
       " ('resource', 0.09118809579167636),\n",
       " ('something', 0.0909710919941099),\n",
       " ('everyone', 0.09084708982407193),\n",
       " ('powder', 0.09025807951639153),\n",
       " ('handmade', 0.08957606758118267),\n",
       " ('work', 0.08935906378361622),\n",
       " ('change', 0.0881965434395102),\n",
       " ('shop', 0.08811904208323645),\n",
       " ('pizza', 0.08740602960551809),\n",
       " ('vegetable', 0.08670851739905448),\n",
       " ('sauce', 0.086615515771526),\n",
       " ('body', 0.08652251414399752),\n",
       " ('give', 0.08633651088894055),\n",
       " ('happy', 0.08593350383631713),\n",
       " ('soup', 0.08571650003875068),\n",
       " ('mean', 0.08534449352863675),\n",
       " ('available', 0.08441447725335194),\n",
       " ('tofu', 0.08388746803069054),\n",
       " ('menu', 0.08357746260559559),\n",
       " ('making', 0.08317445555297218),\n",
       " ('care', 0.08289545067038673),\n",
       " ('healthyfood', 0.08232194063396109),\n",
       " ('full', 0.08196543439510191),\n",
       " ('skin', 0.08129892273114779),\n",
       " ('white', 0.08029140509958924),\n",
       " ('lunch', 0.07982639696194684),\n",
       " ('perfect', 0.0794853909943424),\n",
       " ('sure', 0.07911338448422847),\n",
       " ('butter', 0.07883437960164302),\n",
       " ('nutrition', 0.07877237851662404),\n",
       " ('Black', 0.07838487173525537),\n",
       " ('Etsy', 0.07726885220491359),\n",
       " ('choice', 0.07719135084863984),\n",
       " ('site', 0.07654033945594048),\n",
       " ('read', 0.0756258234519104),\n",
       " ('ingredient', 0.07561032318065566),\n",
       " ('leather', 0.07536231884057971),\n",
       " ('month', 0.07533131829807022),\n",
       " ('whole', 0.0749283112454468),\n",
       " ('said', 0.07446330310780438),\n",
       " ('skincare', 0.07421529876772844),\n",
       " ('planet', 0.07393629388514299),\n",
       " ('place', 0.073874292800124),\n",
       " ('someone', 0.0738432922576145),\n",
       " ('amazing', 0.07288227543982019),\n",
       " ('cookie', 0.07249476865845152),\n",
       " ('spice', 0.07246376811594203),\n",
       " ('actually', 0.07237076648841355),\n",
       " ('rice', 0.07151825156940246),\n",
       " ('seed', 0.07142524994187398),\n",
       " ('support', 0.07094474153297682),\n",
       " ('selfcare', 0.07071223746415563),\n",
       " ('last', 0.0703712314965512),\n",
       " ('enjoy', 0.07009222661396575),\n",
       " ('homemade', 0.06993722390141828),\n",
       " ('next', 0.06925521196620942),\n",
       " ('tell', 0.06883670464233124),\n",
       " ('treat', 0.06871270247229326),\n",
       " ('reason', 0.06851119894598155),\n",
       " ('book', 0.06817019297837712),\n",
       " ('start', 0.06796868945206541),\n",
       " ('trying', 0.06761218321320624),\n",
       " ('went', 0.06719367588932806),\n",
       " ('without', 0.06714717507556382),\n",
       " ('snack', 0.06702317290552584),\n",
       " ('mushroom', 0.06694567154925211),\n",
       " ('sausage', 0.06658916531039293),\n",
       " ('share', 0.0660156552739673),\n",
       " ('home', 0.0654886460513059),\n",
       " ('long', 0.0654266449662869),\n",
       " ('little', 0.06516314035495621),\n",
       " ('fresh', 0.06441912733472836),\n",
       " ('part', 0.06421762380841664),\n",
       " ('real', 0.06421762380841664),\n",
       " ('eggs', 0.06406262109586917),\n",
       " ('juice', 0.0636751143145005),\n",
       " ('link', 0.06352011160195303),\n",
       " ('curry', 0.0632101061768581),\n",
       " ('brand', 0.06257459505541348),\n",
       " ('dairyfree', 0.06251259397039448),\n",
       " ('family', 0.06206308610400682),\n",
       " ('smallbusiness', 0.06198558474773309),\n",
       " ('AnimalRight', 0.06179958149267612),\n",
       " ('used', 0.06147407579632644),\n",
       " ('keep', 0.0613965744400527),\n",
       " ('apple', 0.06135007362628846),\n",
       " ('smoothie', 0.06121057118499574),\n",
       " ('ready', 0.06066806169107959)]"
      ]
     },
     "execution_count": 53,
     "metadata": {},
     "output_type": "execute_result"
    }
   ],
   "source": [
    "#get the values for each term \n",
    "sorted(wordcloud.words_.items(), key=lambda x:x[1], reverse=True)"
   ]
  },
  {
   "cell_type": "markdown",
   "id": "304df54e-b1d3-4938-8564-c53c2cd90e24",
   "metadata": {},
   "source": [
    "# 3. Translating to english (failed) \n",
    "\n",
    "\n"
   ]
  },
  {
   "cell_type": "markdown",
   "id": "603b2363-a8cf-4e81-a7f3-9c8207c09cd7",
   "metadata": {},
   "source": [
    "Tried multile translation packages: googletrans,translate, spraknlp.pretrained but we faced computational limitations, even on small dataset. Trying to work in spark gave us an imediate error (which ze communicated to the assistant). Below is our most effective approach but only works on really small datasets, but is no scalable to large datasets due to memory constraints on our personal computers"
   ]
  },
  {
   "cell_type": "markdown",
   "id": "bdb5eeae-d355-4794-bc01-f78b0e29fb2d",
   "metadata": {},
   "source": [
    "Methodology: \n",
    "- create a pyspark df for the non english tweets: non_english_df\n",
    "- convert this pyspark df to a pd df : non_english_df_pd \n",
    "- apply the googletrans function to this pandas df and apply the udf to the pyspark df to get the correct StructType \n",
    "- convert the non_english_df_pd back to a pyspark df using the StructType callend ndf \n",
    "- merge this non_english_df back to the twitter_df "
   ]
  },
  {
   "cell_type": "code",
   "execution_count": null,
   "id": "996a5aec-6c74-49eb-82f5-379da90203a8",
   "metadata": {},
   "outputs": [],
   "source": [
    "#only slect the non english tweets in the dataset \n",
    "non_english_df = twitter_df.filter(twitter_df.lang != 'en')\n",
    "non_english_df.count() \n",
    "\n",
    "#FIRST DO THE FOLLOWING PIP INSTALL \n",
    "#pip install googletrans-py\n",
    "from pprint import pprint\n",
    "from googletrans import Translator, constants\n",
    "\n",
    "translator = Translator() \n",
    "translation = translator.translate(\"nakamuraff これはパッと見では分からないですね💦\", dest='en')\n",
    "#print(f\"{translation.origin} ({translation.src}) --> {translation.text} ({translation.dest})\")\n",
    "\n",
    "\n",
    "def translate(tweet):\n",
    "    if len(tweet)!=0:\n",
    "        translator = Translator() \n",
    "        translation = translator.translate(tweet, dest = 'en')\n",
    "        return(translation.text)\n",
    "    return None\n",
    "\n",
    "translate_udf = F.udf(translate, StringType())\n",
    "#test if code works \n",
    "translate(\"alltså kan nyheterna kockarna tillaga nåt annat än carbssockerfylld sk mat enda gång carbworld ketolifestyle\")\n",
    "\n",
    "\n",
    "#this is used so the non_english has the correct StructType \n",
    "non_english_df =  non_english_df.withColumn('english_tweet', translate_udf('cleaned_text'))\n",
    "\n",
    "non_english_df_pd = non_english_df.toPandas()\n",
    "\n",
    "non_english_df_pd[\"english_tweet\"] = non_english_df_pd.apply(lambda x: translate(x['cleaned_text']), axis = 1)\n",
    "\n",
    "ndf = spark.createDataFrame(non_english_df_pd, schema=non_english_df.schema)\n",
    "\n",
    "#making sure the that the same StructType is present \n",
    "#dropping cleaned text \n",
    "ndf = ndf.drop('cleaned_text')\n",
    "#renaming english tweet to cleaned_text \n",
    "ndf = ndf.withColumnRenamed('english_tweet', 'cleaned_text')\n",
    "\n",
    "english_df = twitter_df.filter(twitter_df.lang == 'en') \n",
    "\n",
    "#merging the 2 dataframes back together\n",
    "twitter_df = english_df.union(ndf)\n"
   ]
  }
 ],
 "metadata": {
  "kernelspec": {
   "display_name": "Python 3.9.7 ('base')",
   "language": "python",
   "name": "python3"
  },
  "language_info": {
   "codemirror_mode": {
    "name": "ipython",
    "version": 3
   },
   "file_extension": ".py",
   "mimetype": "text/x-python",
   "name": "python",
   "nbconvert_exporter": "python",
   "pygments_lexer": "ipython3",
   "version": "3.9.7"
  },
  "vscode": {
   "interpreter": {
    "hash": "7e35d98e8198887147a5837b6820e4bf8d41831f6222e06e86b8679b6549872f"
   }
  }
 },
 "nbformat": 4,
 "nbformat_minor": 5
}
