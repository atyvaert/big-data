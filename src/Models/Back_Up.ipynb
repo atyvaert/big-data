{
 "cells": [
  {
   "cell_type": "markdown",
   "id": "d2c0693c",
   "metadata": {},
   "source": [
    "# Initialize pyspark environment"
   ]
  },
  {
   "cell_type": "code",
   "execution_count": 1,
   "id": "458f1c07",
   "metadata": {},
   "outputs": [],
   "source": [
    "import findspark\n",
    "\n",
    "# initialize findspark with spark directory\n",
    "\n",
    "#ALWAYS HAVE TO BE CHANGED \n",
    "#path = \"/Users/konstantinlazarov/Desktop/Big_Data/PySpark/Week_5/spark\"\n",
    "path = \"/Users/Artur/spark\"\n",
    "findspark.init(path) \n",
    "\n",
    "# import pyspark\n",
    "import pyspark\n",
    "# create spark context\n",
    "sc = pyspark.SparkContext()\n",
    "# create spark session \n",
    "spark = pyspark.sql.SparkSession(sc)"
   ]
  },
  {
   "cell_type": "code",
   "execution_count": 2,
   "id": "20b1cb0f",
   "metadata": {},
   "outputs": [
    {
     "data": {
      "text/plain": [
       "'Voor Konstantin \\n# import pyspark\\nimport pyspark\\n# create spark context\\nsc = pyspark.SparkContext()\\n# create spark session \\nspark = pyspark.sql.SparkSession(sc)\\n'"
      ]
     },
     "execution_count": 2,
     "metadata": {},
     "output_type": "execute_result"
    }
   ],
   "source": [
    "'''Voor Konstantin \n",
    "# import pyspark\n",
    "import pyspark\n",
    "# create spark context\n",
    "sc = pyspark.SparkContext()\n",
    "# create spark session \n",
    "spark = pyspark.sql.SparkSession(sc)\n",
    "'''"
   ]
  },
  {
   "cell_type": "markdown",
   "id": "8d5a6ad9",
   "metadata": {},
   "source": [
    "# Import necessary packages and data"
   ]
  },
  {
   "cell_type": "markdown",
   "id": "aea1fed3",
   "metadata": {},
   "source": [
    "#### Import necessary packages"
   ]
  },
  {
   "cell_type": "code",
   "execution_count": 3,
   "id": "5968b777",
   "metadata": {},
   "outputs": [],
   "source": [
    "# import packages\n",
    "import os \n",
    "import pickle\n",
    "\n",
    "import re\n",
    "from datetime import datetime\n",
    "import requests\n",
    "\n",
    "import pytz\n",
    "import emojis\n",
    "\n",
    "import pandas as pd\n",
    "import numpy as np\n",
    "\n",
    "import ast\n",
    "\n",
    "import pyspark.sql.functions as F\n",
    "from pyspark.sql.types import *\n",
    "\n",
    "from pyspark.ml.feature import Tokenizer\n",
    "from pyspark.ml.feature import StopWordsRemover\n",
    "\n",
    "import tweepy\n",
    "import csv\n",
    "import time\n",
    "import pandas as pd\n",
    "import datetime\n",
    "import os\n",
    "import json\n",
    "from pandas.tseries.holiday import nearest_workday, \\\n",
    "    AbstractHolidayCalendar, Holiday, \\\n",
    "    USMartinLutherKingJr, USPresidentsDay, GoodFriday, \\\n",
    "    USMemorialDay, USLaborDay, USThanksgivingDay\n",
    "from datetime import date\n",
    "\n",
    "from vaderSentiment.vaderSentiment import SentimentIntensityAnalyzer\n",
    "from string import punctuation\n",
    "from nltk.corpus import stopwords\n",
    "from textblob import TextBlob\n",
    "from nltk.tokenize import word_tokenize\n",
    "\n",
    "from nltk.tokenize.treebank import TreebankWordDetokenizer\n",
    "import re\n",
    "\n",
    "from sklearn.metrics import confusion_matrix, ConfusionMatrixDisplay"
   ]
  },
  {
   "cell_type": "markdown",
   "id": "207b37bb",
   "metadata": {},
   "source": [
    "#### Import the twitter data "
   ]
  },
  {
   "cell_type": "code",
   "execution_count": 4,
   "id": "03afc613",
   "metadata": {},
   "outputs": [
    {
     "data": {
      "text/plain": [
       "1827680"
      ]
     },
     "execution_count": 4,
     "metadata": {},
     "output_type": "execute_result"
    }
   ],
   "source": [
    "list_brands = [\"healthyfood\",\n",
    "               \"healthylifestyle\",\n",
    "               \"vegan\",\n",
    "               \"keto\",\n",
    "               \"ketodiet\",\n",
    "               \"ketolifestyle\",\n",
    "               \"veganism\",\n",
    "               \"vegetarian\"]\n",
    "from re import search\n",
    "\n",
    "\n",
    "\n",
    "data_dir = \".././../data/Topic/\"\n",
    "tweet_files = [os.path.join(data_dir, obs) for obs in os.listdir(data_dir)]\n",
    "\n",
    "\n",
    "\n",
    "files_brand = [file for file in tweet_files if (file.find(list_brands[2]) != -1)]\n",
    "files_brand               \n",
    "               \n",
    "df_json = spark.read.option(\"multiline\",\"true\").json(files_brand)  \n",
    "df_json.count()\n",
    "\n"
   ]
  },
  {
   "cell_type": "code",
   "execution_count": null,
   "id": "04a25396",
   "metadata": {},
   "outputs": [],
   "source": []
  },
  {
   "cell_type": "markdown",
   "id": "46530a1c",
   "metadata": {},
   "source": [
    "# Predict the engagement rate of a tweet"
   ]
  },
  {
   "cell_type": "markdown",
   "id": "d2304e11",
   "metadata": {},
   "source": [
    "## 1. Goal of our analysis"
   ]
  },
  {
   "cell_type": "markdown",
   "id": "fe00b73b",
   "metadata": {},
   "source": [
    "In this notebook, we are going to predict the engagement rate of tweets. Further, it will be interesting to see the driving factors behind the engagement rate. This can be valuable information when creating an own social media brand or when you want to increase the reach of your tweets.\n",
    "\n",
    "We start by selecting the interesting variables for this analysis."
   ]
  },
  {
   "cell_type": "code",
   "execution_count": 5,
   "id": "849d5625",
   "metadata": {},
   "outputs": [],
   "source": [
    "# Select the interesting variables\n",
    "basetable_engr = df_json.select(F.col('created_at').alias('tweet_created'), \\\n",
    "                                   F.col('entities.symbols').alias('symbols'), \\\n",
    "                                   F.col('display_text_range').alias('text_range'), \\\n",
    "                                   F.col('extended_entities.media.type').alias('media_type'), \\\n",
    "                                   F.col('favorite_count'), \\\n",
    "                                   F.col('full_text'), \\\n",
    "                                   F.col('is_quote_status').alias('quoted'), \\\n",
    "                                   F.col('lang').alias('language'), \\\n",
    "                                   F.col('retweet_count'),\\\n",
    "                                   F.col('user.created_at').alias('user_created'), \\\n",
    "                                   F.col('user.followers_count').alias('user_followers'), \\\n",
    "                                   F.col('user.friends_count').alias('user_following'), \\\n",
    "                                   F.col('user.verified').alias('user_verified'), \\\n",
    "                                   F.col(\"user.screen_name\"))"
   ]
  },
  {
   "cell_type": "markdown",
   "id": "de68aafc",
   "metadata": {},
   "source": [
    "Next, we perform some basic preprocessing steps on this dataset."
   ]
  },
  {
   "cell_type": "code",
   "execution_count": 6,
   "id": "d8e6a843",
   "metadata": {},
   "outputs": [],
   "source": [
    "# First, we  convert Twitter date string format\n",
    "def getDate(date):\n",
    "    if date is not None:\n",
    "        return str(datetime.datetime.strptime(date,'%a %b %d %H:%M:%S +0000 %Y').replace(tzinfo=pytz.UTC).strftime(\"%Y-%m-%d %H:%M:%S\"))\n",
    "    else:\n",
    "        return None\n",
    "\n",
    "# UDF declaration\n",
    "date_udf = F.udf(getDate, StringType())\n",
    "\n",
    "# apply udf\n",
    "basetable_engr = basetable_engr.withColumn('tweet_created', F.to_utc_timestamp(date_udf(\"tweet_created\"), \"UTC\"))\n",
    "basetable_engr = basetable_engr.withColumn('user_created', F.to_utc_timestamp(date_udf(\"user_created\"), \"UTC\"))"
   ]
  },
  {
   "cell_type": "code",
   "execution_count": 7,
   "id": "772d6d3a",
   "metadata": {},
   "outputs": [],
   "source": [
    "#drop duplicates and retweets \n",
    "basetable_engr = basetable_engr.filter(~F.col(\"full_text\").startswith(\"RT\"))\\\n",
    "                        .drop_duplicates()\n",
    "\n",
    "#sorting such when dropping later we only keep the most recent post \n",
    "basetable_engr = basetable_engr.sort(\"tweet_created\", ascending=False)\n",
    "\n",
    "#removing spam accounts \n",
    "basetable_engr = basetable_engr.drop_duplicates([\"full_text\", \"screen_name\"])"
   ]
  },
  {
   "cell_type": "markdown",
   "id": "18b1259f",
   "metadata": {},
   "source": [
    "Before we start the feature engineering, we need to filter our data. As we will use the vader package to determine the sentiment later in this notebook, we will only work with English tweets. As our insights in the data will be primarily for European and American companies and most of our tweets are in English, we do not see this as a problem."
   ]
  },
  {
   "cell_type": "code",
   "execution_count": 8,
   "id": "45b73aaf",
   "metadata": {},
   "outputs": [],
   "source": [
    "# filter the data on language\n",
    "basetable_engr = basetable_engr.filter(F.col(\"language\") == \"en\")"
   ]
  },
  {
   "cell_type": "code",
   "execution_count": 9,
   "id": "447587fe",
   "metadata": {},
   "outputs": [
    {
     "data": {
      "text/plain": [
       "4653"
      ]
     },
     "execution_count": 9,
     "metadata": {},
     "output_type": "execute_result"
    }
   ],
   "source": [
    "## testing if we can compile the model for a smaller data set \n",
    "basetable_engr = basetable_engr.sample(0.01) #taking 1 procent of the data \n",
    "basetable_engr.count()"
   ]
  },
  {
   "cell_type": "markdown",
   "id": "de5b26ba",
   "metadata": {},
   "source": [
    "# 2. Create the dependent variable"
   ]
  },
  {
   "cell_type": "markdown",
   "id": "ca291115",
   "metadata": {},
   "source": [
    "First, we start by defining our dependent variable. The engagement rate has already been discussed in the data exploration section. We will use the same definition in order to create a model to predict the engagement rate. Below, we repeat this definition:\n",
    "\n",
    "In this analysis, engagement on Twitter is measured by the number of retweets and favorites. Your Twitter engagement rate is your engagement figure divided the number of followers of the user"
   ]
  },
  {
   "cell_type": "code",
   "execution_count": 10,
   "id": "123ba4a2",
   "metadata": {},
   "outputs": [],
   "source": [
    "# add engagement rate to the dataframe\n",
    "basetable_engr = basetable_engr.withColumn('eng_rate', ((basetable_engr['favorite_count'] + basetable_engr['retweet_count'])/basetable_engr['user_followers']))\n"
   ]
  },
  {
   "cell_type": "markdown",
   "id": "77183a52",
   "metadata": {},
   "source": [
    "Check if the dependent variable has no null values, this could be the case if the user has no followers. In this case, we will set the value of the engagement rate to zero."
   ]
  },
  {
   "cell_type": "code",
   "execution_count": 12,
   "id": "d5bbc884",
   "metadata": {},
   "outputs": [
    {
     "data": {
      "text/html": [
       "<div>\n",
       "<style scoped>\n",
       "    .dataframe tbody tr th:only-of-type {\n",
       "        vertical-align: middle;\n",
       "    }\n",
       "\n",
       "    .dataframe tbody tr th {\n",
       "        vertical-align: top;\n",
       "    }\n",
       "\n",
       "    .dataframe thead th {\n",
       "        text-align: right;\n",
       "    }\n",
       "</style>\n",
       "<table border=\"1\" class=\"dataframe\">\n",
       "  <thead>\n",
       "    <tr style=\"text-align: right;\">\n",
       "      <th></th>\n",
       "      <th>eng_rate</th>\n",
       "    </tr>\n",
       "  </thead>\n",
       "  <tbody>\n",
       "    <tr>\n",
       "      <th>0</th>\n",
       "      <td>60</td>\n",
       "    </tr>\n",
       "  </tbody>\n",
       "</table>\n",
       "</div>"
      ],
      "text/plain": [
       "   eng_rate\n",
       "0        60"
      ]
     },
     "execution_count": 12,
     "metadata": {},
     "output_type": "execute_result"
    }
   ],
   "source": [
    "# check missing values for the dependent variable\n",
    "df = basetable_engr.select(F.col('eng_rate'))\n",
    "df.select([F.count(F.when(F.isnull(c), c)).alias(c) for c in df.columns]).toPandas()\n",
    "\n"
   ]
  },
  {
   "cell_type": "code",
   "execution_count": 13,
   "id": "eeef59b5",
   "metadata": {},
   "outputs": [
    {
     "data": {
      "text/html": [
       "<div>\n",
       "<style scoped>\n",
       "    .dataframe tbody tr th:only-of-type {\n",
       "        vertical-align: middle;\n",
       "    }\n",
       "\n",
       "    .dataframe tbody tr th {\n",
       "        vertical-align: top;\n",
       "    }\n",
       "\n",
       "    .dataframe thead th {\n",
       "        text-align: right;\n",
       "    }\n",
       "</style>\n",
       "<table border=\"1\" class=\"dataframe\">\n",
       "  <thead>\n",
       "    <tr style=\"text-align: right;\">\n",
       "      <th></th>\n",
       "      <th>eng_rate</th>\n",
       "    </tr>\n",
       "  </thead>\n",
       "  <tbody>\n",
       "    <tr>\n",
       "      <th>0</th>\n",
       "      <td>0</td>\n",
       "    </tr>\n",
       "  </tbody>\n",
       "</table>\n",
       "</div>"
      ],
      "text/plain": [
       "   eng_rate\n",
       "0         0"
      ]
     },
     "execution_count": 13,
     "metadata": {},
     "output_type": "execute_result"
    }
   ],
   "source": [
    "# handle the null values in the dependent variable for the created dataframe\n",
    "df = df.fillna(0)\n",
    "\n",
    "# inspect\n",
    "df.select([F.count(F.when(F.isnull(c), c)).alias(c) for c in df.columns]).toPandas()"
   ]
  },
  {
   "cell_type": "code",
   "execution_count": null,
   "id": "8b2bacd7",
   "metadata": {},
   "outputs": [],
   "source": []
  },
  {
   "cell_type": "code",
   "execution_count": 11,
   "id": "75250e8e",
   "metadata": {},
   "outputs": [],
   "source": [
    "# handle the dependent variable in the basetable\n",
    "basetable_engr = basetable_engr.fillna({'eng_rate': 0})"
   ]
  },
  {
   "cell_type": "markdown",
   "id": "d3e4ab37",
   "metadata": {},
   "source": [
    "# 3. Feature engineering"
   ]
  },
  {
   "cell_type": "markdown",
   "id": "5f88cde2",
   "metadata": {},
   "source": [
    "In order to predict the engagement of a tweet, we will create some additional features in order to improve the performance of our model. For most of these features, we will first creata a function. The following features will be created:\n",
    "\n",
    "    1) number of words\n",
    "    2) number of hashtags\n",
    "    3) number of tags\n",
    "    4) number of emojis\n",
    "    5) get the number of exclamation marks\n",
    "    6) the month\n",
    "    7) day of the month\n",
    "    8) day of the week\n",
    "    9) hour of the day\n",
    "    10) The number of upper case words\n",
    "    11) tweeted quote\n",
    "    12) presence of a symbol\n",
    "    13) The age of the account\n",
    "    14) The number of media elements\n",
    "    15) The media type present\n",
    "    16) The number of text characters in the tweet\n",
    "    17) Indicator if the account is verified\n",
    "\n",
    "These features will be used next to some variables that are already present in the dataset."
   ]
  },
  {
   "cell_type": "markdown",
   "id": "671e09af",
   "metadata": {},
   "source": [
    "    1) For the number of words, we can just use the function F.size() and apply it to the tokenized text. "
   ]
  },
  {
   "cell_type": "code",
   "execution_count": 12,
   "id": "e58af41a",
   "metadata": {},
   "outputs": [],
   "source": [
    "# 2) Define function to count hashtags\n",
    "def get_hashtags(text):\n",
    "    counter = 0\n",
    "    for letter in text:\n",
    "        if letter == \"#\":\n",
    "            counter += 1\n",
    "    return(counter)"
   ]
  },
  {
   "cell_type": "code",
   "execution_count": 13,
   "id": "419c458c",
   "metadata": {},
   "outputs": [],
   "source": [
    "# 3) Define function to count tags\n",
    "def get_tags(text):\n",
    "    counter = 0\n",
    "    for letter in text:\n",
    "        if letter == \"@\":\n",
    "            counter += 1\n",
    "    return(counter)"
   ]
  },
  {
   "cell_type": "code",
   "execution_count": 14,
   "id": "945d5c77",
   "metadata": {},
   "outputs": [],
   "source": [
    "# 4) Define a function to get the number of emojis\n",
    "def emoji_counter(text):\n",
    "    nr_emojis = emojis.count(text)\n",
    "    return(nr_emojis)"
   ]
  },
  {
   "cell_type": "code",
   "execution_count": 15,
   "id": "94c3885d",
   "metadata": {},
   "outputs": [],
   "source": [
    "# 5) Define function to count exclamation marks\n",
    "def get_exclamation_marks(text):\n",
    "    counter = 0\n",
    "    for letter in text:\n",
    "        if letter ==  \"!\":\n",
    "            counter += 1\n",
    "    return(counter)"
   ]
  },
  {
   "cell_type": "markdown",
   "id": "c609aa6b",
   "metadata": {},
   "source": [
    "    6) the month\n",
    "    7) day of the month\n",
    "    8) day of the week\n",
    "    9) hour of the day\n",
    "\n",
    "We saw how to create these variables when solving the questions for this assignment. The same code will be used here. "
   ]
  },
  {
   "cell_type": "code",
   "execution_count": 16,
   "id": "a7e25698",
   "metadata": {},
   "outputs": [],
   "source": [
    "# 10) Define number of upper case words\n",
    "def get_upper_case_words(text):\n",
    "    counter = 0\n",
    "    \n",
    "    ## Tokenize\n",
    "    word_tokens = word_tokenize(text)\n",
    "\n",
    "    ## Check for uppercase words\n",
    "    for word in word_tokens:\n",
    "        if word.isupper():\n",
    "            counter += 1\n",
    "    return(counter)"
   ]
  },
  {
   "cell_type": "code",
   "execution_count": 17,
   "id": "37602e54",
   "metadata": {},
   "outputs": [],
   "source": [
    "# 11) Define a function that indicates if the tweet was a quote\n",
    "def tweeted_quote_indicator(quoted):\n",
    "    quote = 0\n",
    "    if quoted == True:\n",
    "        quote = 1\n",
    "    return quote"
   ]
  },
  {
   "cell_type": "code",
   "execution_count": 18,
   "id": "c7987bce",
   "metadata": {},
   "outputs": [],
   "source": [
    "# 12) define a function that indicates the presence of a symbol\n",
    "def symbol_indicator(symbols):\n",
    "    symbol = 0\n",
    "    if(symbols > 0):\n",
    "        symbol = 1\n",
    "    return symbol"
   ]
  },
  {
   "cell_type": "markdown",
   "id": "dea625a6",
   "metadata": {},
   "source": [
    "    13) Define the age of the account. This is defined as the number of days since the account has been created and the last day of scraping (2022-10-11). The last day of scraping was calculated in the exploration phase of the data. For this variable, we will use the function datediff."
   ]
  },
  {
   "cell_type": "code",
   "execution_count": 19,
   "id": "5c208ad1",
   "metadata": {},
   "outputs": [],
   "source": [
    "# 14) define a function to get help get the number of media types included in the tweet\n",
    "def adjust_nr_media(number):\n",
    "    if number == -1:\n",
    "        number = 0\n",
    "        \n",
    "    return number"
   ]
  },
  {
   "cell_type": "code",
   "execution_count": 20,
   "id": "650393c2",
   "metadata": {},
   "outputs": [],
   "source": [
    "# 15) define a function to get the first media element\n",
    "def get_media_type(media):\n",
    "    if media == None:\n",
    "        media = 'no_media'\n",
    "    else:\n",
    "        media = media[0]\n",
    "       \n",
    "    return media"
   ]
  },
  {
   "cell_type": "code",
   "execution_count": 21,
   "id": "0210dce5",
   "metadata": {},
   "outputs": [],
   "source": [
    "# 16) define a function to get the first media element\n",
    "def get_nr_text_characters(text_range):\n",
    "    number = text_range[1] - text_range[0]  \n",
    "    return number\n",
    "\n"
   ]
  },
  {
   "cell_type": "code",
   "execution_count": 22,
   "id": "b4d61bdd",
   "metadata": {},
   "outputs": [],
   "source": [
    "# 17) Look if the user is a verified user\n",
    "def verified_ind(verified):\n",
    "    indicator = 0\n",
    "    if verified == True:\n",
    "        indicator = 1\n",
    "    return indicator"
   ]
  },
  {
   "cell_type": "code",
   "execution_count": 23,
   "id": "591c78a7",
   "metadata": {},
   "outputs": [],
   "source": [
    "# register the functions as an udf\n",
    "get_upper_case_words_UDF = F.udf(get_upper_case_words, IntegerType()) \n",
    "emoji_counter_udf = F.udf(emoji_counter, IntegerType())\n",
    "get_hashtags_udf = F.udf(get_hashtags, IntegerType())\n",
    "get_tags_udf = F.udf(get_tags, IntegerType())\n",
    "get_exclamation_marks_UDF = F.udf(get_exclamation_marks, IntegerType())\n",
    "tweeted_quote_indicator_UDF = F.udf(tweeted_quote_indicator, IntegerType())\n",
    "symbol_indicator_udf = F.udf(symbol_indicator, IntegerType())\n",
    "adjust_nr_media_udf = F.udf(adjust_nr_media, IntegerType())\n",
    "get_media_type_udf = F.udf(get_media_type, StringType())\n",
    "get_nr_text_characters_udf = F.udf(get_nr_text_characters, IntegerType())\n",
    "verified_ind_udf = F.udf(verified_ind, IntegerType())"
   ]
  },
  {
   "cell_type": "code",
   "execution_count": 24,
   "id": "9ac2b2ea",
   "metadata": {},
   "outputs": [],
   "source": [
    "# Already define some text cleaning steps in order to define the correct number of words.\n",
    "\n",
    "# define puncutation and stopwords\n",
    "PUNCTUATION = [char for char in punctuation if char not in [\"!\", \"@\", \"#\"]]\n",
    "STOPWORDS = stopwords.words(\"english\")\n",
    "\n",
    "# define function to remove punctuation\n",
    "def remove_punct(text):\n",
    "    ## Remove punctuation\n",
    "    text = \"\".join([char for char in text if char not in PUNCTUATION])\n",
    "    return(text)\n",
    "\n",
    "# define function to remove stopwords\n",
    "def remove_stops(text_tokenized):\n",
    "    # remove stopwords\n",
    "    text_tokenized = [word for word in text_tokenized if word not in STOPWORDS]\n",
    "    return(text_tokenized)\n",
    "\n",
    "# register as udf\n",
    "remove_punct_UDF = F.udf(remove_punct, StringType())\n",
    "remove_stops_UDF = F.udf(remove_stops, ArrayType(StringType()))"
   ]
  },
  {
   "cell_type": "code",
   "execution_count": 25,
   "id": "02854ce5",
   "metadata": {},
   "outputs": [],
   "source": [
    "# create the final basetable for our analysis\n",
    "basetable_engr_final = basetable_engr.withColumn(\"num_emojis\", emoji_counter_udf(F.col(\"full_text\")))\\\n",
    "                            .withColumn('upper_case_words', get_upper_case_words_UDF('full_text'))\\\n",
    "                            .withColumn(\"text_lower\", F.lower(\"full_text\")) \\\n",
    "                            .withColumn(\"text_cleaned\", remove_punct_UDF(\"text_lower\")) \\\n",
    "                            .withColumn(\"text_tokenized\", F.split(\"text_cleaned\", \" \")) \\\n",
    "                            .withColumn(\"text_tokenized_no_stops\", remove_stops_UDF(\"text_tokenized\")) \\\n",
    "                            .withColumn(\"num_words\", F.size(\"text_tokenized_no_stops\")) \\\n",
    "                            .withColumn(\"num_hashtags\", get_hashtags_udf(\"text_tokenized_no_stops\")) \\\n",
    "                            .withColumn(\"num_mentions\", get_tags_udf(\"text_tokenized_no_stops\")) \\\n",
    "                            .withColumn('nr_exlcamations', get_exclamation_marks_UDF('text_tokenized_no_stops'))\\\n",
    "                            .withColumn(\"week_day\", F.date_format(F.col(\"tweet_created\"), \"E\"))\\\n",
    "                            .withColumn(\"hour\", F.date_format(F.col(\"tweet_created\"), \"H\").cast('string'))\\\n",
    "                            .withColumn(\"month\", F.date_format(F.col(\"tweet_created\"), \"M\"))\\\n",
    "                            .withColumn(\"day_month\", F.date_format(F.col(\"tweet_created\"), \"d\"))\\\n",
    "                            .withColumn('quoted_ind', tweeted_quote_indicator_UDF('quoted'))\\\n",
    "                            .withColumn('symbol_ind', F.size('symbols'))\\\n",
    "                            .withColumn('symbol_ind', symbol_indicator_udf('symbol_ind'))\\\n",
    "                            .withColumn('user_age_days', F.datediff(F.lit(\"2022-10-11\"), F.col(\"user_created\")))\\\n",
    "                            .withColumn('verified', verified_ind_udf('user_verified'))\\\n",
    "                            .withColumn(\"nr_media_elements\", F.size(\"media_type\"))\\\n",
    "                            .withColumn(\"nr_media_elements\", adjust_nr_media_udf(\"nr_media_elements\"))\\\n",
    "                            .withColumn(\"media_type\", get_media_type_udf('media_type'))\\\n",
    "                            .withColumn(\"nr_text_char\", get_nr_text_characters_udf('text_range'))\\\n",
    "                            .drop('tweet_created')\\\n",
    "                            .drop('quoted')\\\n",
    "                            .drop('symbols')\\\n",
    "                            .drop('user_created')\\\n",
    "                            .drop('user_verified')\\\n",
    "                            .drop('display_text_range')\\\n",
    "                            .drop('text_lower')\\\n",
    "                            .drop('text_cleaned')\\\n",
    "                            .drop('text_tokenized')\\\n",
    "                            .drop('text_tokenized_no_stops')\\\n",
    "                            .drop('text_range')\\\n",
    "                            .filter(\"num_words > 0\")\n",
    "\n"
   ]
  },
  {
   "cell_type": "code",
   "execution_count": null,
   "id": "6e7733a3",
   "metadata": {},
   "outputs": [],
   "source": []
  },
  {
   "cell_type": "code",
   "execution_count": 27,
   "id": "6f2a7c48",
   "metadata": {},
   "outputs": [
    {
     "data": {
      "text/html": [
       "<div>\n",
       "<style scoped>\n",
       "    .dataframe tbody tr th:only-of-type {\n",
       "        vertical-align: middle;\n",
       "    }\n",
       "\n",
       "    .dataframe tbody tr th {\n",
       "        vertical-align: top;\n",
       "    }\n",
       "\n",
       "    .dataframe thead th {\n",
       "        text-align: right;\n",
       "    }\n",
       "</style>\n",
       "<table border=\"1\" class=\"dataframe\">\n",
       "  <thead>\n",
       "    <tr style=\"text-align: right;\">\n",
       "      <th></th>\n",
       "      <th>media_type</th>\n",
       "      <th>favorite_count</th>\n",
       "      <th>full_text</th>\n",
       "      <th>language</th>\n",
       "      <th>retweet_count</th>\n",
       "      <th>user_followers</th>\n",
       "      <th>user_following</th>\n",
       "      <th>screen_name</th>\n",
       "      <th>eng_rate</th>\n",
       "      <th>num_emojis</th>\n",
       "      <th>...</th>\n",
       "      <th>week_day</th>\n",
       "      <th>hour</th>\n",
       "      <th>month</th>\n",
       "      <th>day_month</th>\n",
       "      <th>quoted_ind</th>\n",
       "      <th>symbol_ind</th>\n",
       "      <th>user_age_days</th>\n",
       "      <th>verified</th>\n",
       "      <th>nr_media_elements</th>\n",
       "      <th>nr_text_char</th>\n",
       "    </tr>\n",
       "  </thead>\n",
       "  <tbody>\n",
       "    <tr>\n",
       "      <th>0</th>\n",
       "      <td>photo</td>\n",
       "      <td>0</td>\n",
       "      <td>\"In every walk with nature, one receives far m...</td>\n",
       "      <td>en</td>\n",
       "      <td>1</td>\n",
       "      <td>1988</td>\n",
       "      <td>4170</td>\n",
       "      <td>cbd1uk</td>\n",
       "      <td>0.000503</td>\n",
       "      <td>0</td>\n",
       "      <td>...</td>\n",
       "      <td>Fri</td>\n",
       "      <td>16</td>\n",
       "      <td>8</td>\n",
       "      <td>5</td>\n",
       "      <td>0</td>\n",
       "      <td>0</td>\n",
       "      <td>1918</td>\n",
       "      <td>0</td>\n",
       "      <td>1</td>\n",
       "      <td>267</td>\n",
       "    </tr>\n",
       "    <tr>\n",
       "      <th>1</th>\n",
       "      <td>no_media</td>\n",
       "      <td>1</td>\n",
       "      <td>\"Next time you feel compelled to critique a st...</td>\n",
       "      <td>en</td>\n",
       "      <td>0</td>\n",
       "      <td>691</td>\n",
       "      <td>2864</td>\n",
       "      <td>ckrummey</td>\n",
       "      <td>0.001447</td>\n",
       "      <td>0</td>\n",
       "      <td>...</td>\n",
       "      <td>Tue</td>\n",
       "      <td>15</td>\n",
       "      <td>6</td>\n",
       "      <td>28</td>\n",
       "      <td>0</td>\n",
       "      <td>0</td>\n",
       "      <td>4249</td>\n",
       "      <td>0</td>\n",
       "      <td>0</td>\n",
       "      <td>280</td>\n",
       "    </tr>\n",
       "    <tr>\n",
       "      <th>2</th>\n",
       "      <td>no_media</td>\n",
       "      <td>2</td>\n",
       "      <td>\"Sentientism goes further than humanism.. beca...</td>\n",
       "      <td>en</td>\n",
       "      <td>0</td>\n",
       "      <td>2657</td>\n",
       "      <td>2556</td>\n",
       "      <td>TenacityMatters</td>\n",
       "      <td>0.000753</td>\n",
       "      <td>0</td>\n",
       "      <td>...</td>\n",
       "      <td>Sat</td>\n",
       "      <td>17</td>\n",
       "      <td>10</td>\n",
       "      <td>30</td>\n",
       "      <td>0</td>\n",
       "      <td>0</td>\n",
       "      <td>699</td>\n",
       "      <td>0</td>\n",
       "      <td>0</td>\n",
       "      <td>280</td>\n",
       "    </tr>\n",
       "    <tr>\n",
       "      <th>3</th>\n",
       "      <td>no_media</td>\n",
       "      <td>3</td>\n",
       "      <td>\"is this vegan??\" \\n\\n\"oh i'm sorry, i should ...</td>\n",
       "      <td>en</td>\n",
       "      <td>0</td>\n",
       "      <td>128</td>\n",
       "      <td>111</td>\n",
       "      <td>Tweedledummi</td>\n",
       "      <td>0.023438</td>\n",
       "      <td>0</td>\n",
       "      <td>...</td>\n",
       "      <td>Sat</td>\n",
       "      <td>16</td>\n",
       "      <td>7</td>\n",
       "      <td>2</td>\n",
       "      <td>0</td>\n",
       "      <td>0</td>\n",
       "      <td>1241</td>\n",
       "      <td>0</td>\n",
       "      <td>0</td>\n",
       "      <td>98</td>\n",
       "    </tr>\n",
       "    <tr>\n",
       "      <th>4</th>\n",
       "      <td>photo</td>\n",
       "      <td>1</td>\n",
       "      <td>#FakeSteak ready for roasting to ram in #BaoBu...</td>\n",
       "      <td>en</td>\n",
       "      <td>0</td>\n",
       "      <td>2701</td>\n",
       "      <td>5002</td>\n",
       "      <td>LWHawksby</td>\n",
       "      <td>0.000370</td>\n",
       "      <td>0</td>\n",
       "      <td>...</td>\n",
       "      <td>Tue</td>\n",
       "      <td>17</td>\n",
       "      <td>2</td>\n",
       "      <td>1</td>\n",
       "      <td>0</td>\n",
       "      <td>0</td>\n",
       "      <td>2093</td>\n",
       "      <td>0</td>\n",
       "      <td>1</td>\n",
       "      <td>142</td>\n",
       "    </tr>\n",
       "  </tbody>\n",
       "</table>\n",
       "<p>5 rows × 25 columns</p>\n",
       "</div>"
      ],
      "text/plain": [
       "  media_type  favorite_count  \\\n",
       "0      photo               0   \n",
       "1   no_media               1   \n",
       "2   no_media               2   \n",
       "3   no_media               3   \n",
       "4      photo               1   \n",
       "\n",
       "                                           full_text language  retweet_count  \\\n",
       "0  \"In every walk with nature, one receives far m...       en              1   \n",
       "1  \"Next time you feel compelled to critique a st...       en              0   \n",
       "2  \"Sentientism goes further than humanism.. beca...       en              0   \n",
       "3  \"is this vegan??\" \\n\\n\"oh i'm sorry, i should ...       en              0   \n",
       "4  #FakeSteak ready for roasting to ram in #BaoBu...       en              0   \n",
       "\n",
       "   user_followers  user_following      screen_name  eng_rate  num_emojis  ...  \\\n",
       "0            1988            4170           cbd1uk  0.000503           0  ...   \n",
       "1             691            2864         ckrummey  0.001447           0  ...   \n",
       "2            2657            2556  TenacityMatters  0.000753           0  ...   \n",
       "3             128             111     Tweedledummi  0.023438           0  ...   \n",
       "4            2701            5002        LWHawksby  0.000370           0  ...   \n",
       "\n",
       "   week_day  hour  month  day_month  quoted_ind symbol_ind user_age_days  \\\n",
       "0       Fri    16      8          5           0          0          1918   \n",
       "1       Tue    15      6         28           0          0          4249   \n",
       "2       Sat    17     10         30           0          0           699   \n",
       "3       Sat    16      7          2           0          0          1241   \n",
       "4       Tue    17      2          1           0          0          2093   \n",
       "\n",
       "  verified nr_media_elements  nr_text_char  \n",
       "0        0                 1           267  \n",
       "1        0                 0           280  \n",
       "2        0                 0           280  \n",
       "3        0                 0            98  \n",
       "4        0                 1           142  \n",
       "\n",
       "[5 rows x 25 columns]"
      ]
     },
     "execution_count": 27,
     "metadata": {},
     "output_type": "execute_result"
    }
   ],
   "source": [
    "# inspect the data\n",
    "#basetable_engr_final.toPandas().head()"
   ]
  },
  {
   "cell_type": "markdown",
   "id": "6d95e2cc",
   "metadata": {},
   "source": [
    "# 3. Text Cleaning "
   ]
  },
  {
   "cell_type": "code",
   "execution_count": 26,
   "id": "0bba8337",
   "metadata": {},
   "outputs": [],
   "source": [
    "import emoji"
   ]
  },
  {
   "cell_type": "markdown",
   "id": "87c6790c",
   "metadata": {},
   "source": [
    "Now, we are going to clean the text of the twitter data. Then, we can use this cleaned text to extract features about the sensitivity of the tweet.\n",
    "\n",
    "Here, we remove numbers, punctuation, urls... Further, we transform the emojis to words. Emojis are at the very core of communication over social channels. One small image can completely describe one or more human emotions. A naive thing to do during pre-processing would be to remove all emojis. This could result in significant loss of meaning.\n",
    "A good way to achieve this is to replace the emoji with corresponding text explaining the emoji."
   ]
  },
  {
   "cell_type": "code",
   "execution_count": 27,
   "id": "30919066",
   "metadata": {},
   "outputs": [],
   "source": [
    "# define function to clean text\n",
    "def clean_text(string):\n",
    "    \n",
    "    # define numbers\n",
    "    NUMBERS = '0123456789'\n",
    "    PUNCT = '!\"#$%&\\'()*+,-./:;<=>?@[\\\\]^_`{|}~'\n",
    "    \n",
    "    # convert text to lower case\n",
    "    cleaned_string = string.lower()\n",
    "    \n",
    "    # remove URLS\n",
    "    cleaned_string = re.sub(r'http\\S+', ' ', cleaned_string)\n",
    "    \n",
    "    # replace emojis by words\n",
    "    cleaned_string = emoji.demojize(cleaned_string)\n",
    "    cleaned_string = cleaned_string.replace(\":\",\" \").replace(\"_\",\" \")\n",
    "    cleaned_string = ' '.join(cleaned_string.split())\n",
    "    \n",
    "    # remove numbers\n",
    "    cleaned_string = \"\".join([char for char in cleaned_string if char not in NUMBERS])\n",
    "    \n",
    "    # remove punctuation\n",
    "    cleaned_string = \"\".join([char for char in cleaned_string if char not in PUNCT])\n",
    "    \n",
    "    # remove words conisting of one character (or less)\n",
    "    cleaned_string = ' '.join([w for w in cleaned_string.split() if len(w) > 1])\n",
    "    \n",
    "    # return\n",
    "    return(cleaned_string)"
   ]
  },
  {
   "cell_type": "code",
   "execution_count": 28,
   "id": "d5a6dd76",
   "metadata": {},
   "outputs": [],
   "source": [
    "# convert to udf\n",
    "clean_text_udf = F.udf(clean_text, StringType())"
   ]
  },
  {
   "cell_type": "code",
   "execution_count": 29,
   "id": "137d917f",
   "metadata": {},
   "outputs": [],
   "source": [
    "# clean string\n",
    "basetable_engr_final = basetable_engr_final.withColumn(\"cleaned_text\", clean_text_udf(F.col(\"full_text\")))"
   ]
  },
  {
   "cell_type": "code",
   "execution_count": 35,
   "id": "c70e267f",
   "metadata": {},
   "outputs": [
    {
     "data": {
      "text/html": [
       "<div>\n",
       "<style scoped>\n",
       "    .dataframe tbody tr th:only-of-type {\n",
       "        vertical-align: middle;\n",
       "    }\n",
       "\n",
       "    .dataframe tbody tr th {\n",
       "        vertical-align: top;\n",
       "    }\n",
       "\n",
       "    .dataframe thead th {\n",
       "        text-align: right;\n",
       "    }\n",
       "</style>\n",
       "<table border=\"1\" class=\"dataframe\">\n",
       "  <thead>\n",
       "    <tr style=\"text-align: right;\">\n",
       "      <th></th>\n",
       "      <th>full_text</th>\n",
       "      <th>cleaned_text</th>\n",
       "    </tr>\n",
       "  </thead>\n",
       "  <tbody>\n",
       "    <tr>\n",
       "      <th>0</th>\n",
       "      <td>\"I'm not a vegan. Or vegetarian. Or pescataria...</td>\n",
       "      <td>im not vegan or vegetarian or pescatarian or a...</td>\n",
       "    </tr>\n",
       "    <tr>\n",
       "      <th>1</th>\n",
       "      <td>\"If slaugher was really \"humane\" it would be t...</td>\n",
       "      <td>if slaugher was really humane it would be the ...</td>\n",
       "    </tr>\n",
       "    <tr>\n",
       "      <th>2</th>\n",
       "      <td>#BTS Holiday shoot. Coming soon! 👩🏼‍🍳🥘🍨🦃🤶🏻📹\\n\\...</td>\n",
       "      <td>bts holiday shoot coming soon woman cook mediu...</td>\n",
       "    </tr>\n",
       "    <tr>\n",
       "      <th>3</th>\n",
       "      <td>#DidYouKnow that today is #NationalCherryDay? ...</td>\n",
       "      <td>didyouknow that today is nationalcherryday we ...</td>\n",
       "    </tr>\n",
       "    <tr>\n",
       "      <th>4</th>\n",
       "      <td>#HADV #CBD #infused #Wine #Beverage #Cannabis ...</td>\n",
       "      <td>hadv cbd infused wine beverage cannabis health...</td>\n",
       "    </tr>\n",
       "  </tbody>\n",
       "</table>\n",
       "</div>"
      ],
      "text/plain": [
       "                                           full_text  \\\n",
       "0  \"I'm not a vegan. Or vegetarian. Or pescataria...   \n",
       "1  \"If slaugher was really \"humane\" it would be t...   \n",
       "2  #BTS Holiday shoot. Coming soon! 👩🏼‍🍳🥘🍨🦃🤶🏻📹\\n\\...   \n",
       "3  #DidYouKnow that today is #NationalCherryDay? ...   \n",
       "4  #HADV #CBD #infused #Wine #Beverage #Cannabis ...   \n",
       "\n",
       "                                        cleaned_text  \n",
       "0  im not vegan or vegetarian or pescatarian or a...  \n",
       "1  if slaugher was really humane it would be the ...  \n",
       "2  bts holiday shoot coming soon woman cook mediu...  \n",
       "3  didyouknow that today is nationalcherryday we ...  \n",
       "4  hadv cbd infused wine beverage cannabis health...  "
      ]
     },
     "execution_count": 35,
     "metadata": {},
     "output_type": "execute_result"
    }
   ],
   "source": [
    "# check the data\n",
    "#basetable_engr_final.select(\"full_text\", \"cleaned_text\").limit(5).toPandas()"
   ]
  },
  {
   "cell_type": "markdown",
   "id": "357fa5eb",
   "metadata": {},
   "source": [
    "Now that the text is cleaned, we can derive the sentiment of the text. In this next section, we derive the sentiment, the subjectivity and the polarity. These are the tree final features we add to our model."
   ]
  },
  {
   "cell_type": "code",
   "execution_count": 30,
   "id": "21641bfa",
   "metadata": {},
   "outputs": [],
   "source": [
    "# define the function to extract the sentiment\n",
    "def get_sentiment(sentence):\n",
    "\n",
    "    # initialize sentiment analyzer\n",
    "    sid_obj = SentimentIntensityAnalyzer()\n",
    "\n",
    "    # get sentiment dict\n",
    "    sentiment_dict = sid_obj.polarity_scores(sentence)\n",
    "    \n",
    "    # get positive sentiment score\n",
    "    pos_sentiment = sentiment_dict[\"pos\"]\n",
    "    \n",
    "    # return positive sentiment score\n",
    "    return(pos_sentiment)\n",
    "\n",
    "# define function to get polarity score of text \n",
    "def get_polarity(row):\n",
    "    textBlob_review = TextBlob(row)\n",
    "    return textBlob_review.sentiment[0]\n",
    "\n",
    "# define function to get subjectivity score of text \n",
    "def get_subjectivity(row):\n",
    "    textBlob_review = TextBlob(row)\n",
    "    return textBlob_review.sentiment[1]\n",
    "\n",
    "\n",
    "# register the functions as udf\n",
    "get_sentiment_udf = F.udf(get_sentiment, DoubleType())\n",
    "get_polarity_udf = F.udf(get_polarity, DoubleType())\n",
    "get_subjectivity_udf = F.udf(get_subjectivity, DoubleType())"
   ]
  },
  {
   "cell_type": "code",
   "execution_count": 31,
   "id": "c764d19c",
   "metadata": {},
   "outputs": [],
   "source": [
    "# Create the final basetable for our analysis\n",
    "basetable_engr_final = basetable_engr_final.withColumn(\"sentiment\", get_sentiment_udf(F.col(\"cleaned_text\")))\\\n",
    "                                .withColumn('polarity', get_polarity_udf(F.col('cleaned_text')))\\\n",
    "                                .withColumn('subjectivity', get_subjectivity_udf(F.col('cleaned_text')))"
   ]
  },
  {
   "cell_type": "markdown",
   "id": "963d1e0f",
   "metadata": {},
   "source": [
    "# 4. Basetable creation"
   ]
  },
  {
   "cell_type": "code",
   "execution_count": 32,
   "id": "cd4d1bb8",
   "metadata": {},
   "outputs": [
    {
     "name": "stdout",
     "output_type": "stream",
     "text": [
      "root\n",
      " |-- media_type: string (nullable = true)\n",
      " |-- favorite_count: long (nullable = true)\n",
      " |-- full_text: string (nullable = true)\n",
      " |-- language: string (nullable = true)\n",
      " |-- retweet_count: long (nullable = true)\n",
      " |-- user_followers: long (nullable = true)\n",
      " |-- user_following: long (nullable = true)\n",
      " |-- screen_name: string (nullable = true)\n",
      " |-- eng_rate: double (nullable = false)\n",
      " |-- num_emojis: integer (nullable = true)\n",
      " |-- upper_case_words: integer (nullable = true)\n",
      " |-- num_words: integer (nullable = false)\n",
      " |-- num_hashtags: integer (nullable = true)\n",
      " |-- num_mentions: integer (nullable = true)\n",
      " |-- nr_exlcamations: integer (nullable = true)\n",
      " |-- week_day: string (nullable = true)\n",
      " |-- hour: string (nullable = true)\n",
      " |-- month: string (nullable = true)\n",
      " |-- day_month: string (nullable = true)\n",
      " |-- quoted_ind: integer (nullable = true)\n",
      " |-- symbol_ind: integer (nullable = true)\n",
      " |-- user_age_days: integer (nullable = true)\n",
      " |-- verified: integer (nullable = true)\n",
      " |-- nr_media_elements: integer (nullable = true)\n",
      " |-- nr_text_char: integer (nullable = true)\n",
      " |-- cleaned_text: string (nullable = true)\n",
      " |-- sentiment: double (nullable = true)\n",
      " |-- polarity: double (nullable = true)\n",
      " |-- subjectivity: double (nullable = true)\n",
      "\n"
     ]
    }
   ],
   "source": [
    "# Inspect the structure of the basetable:\n",
    "basetable_engr_final.printSchema()"
   ]
  },
  {
   "cell_type": "markdown",
   "id": "c00a4803",
   "metadata": {},
   "source": [
    "    - Check for missing values. If there are some - handle them (delete, impute,..). In this exercise: write code to handle them even if they aren't present.\n",
    "    - Adjust datatypes where needed\n",
    "    - Remove unnecessary columns\n",
    "    - Add data pre-processing steps to the pipeline"
   ]
  },
  {
   "cell_type": "markdown",
   "id": "1be68364",
   "metadata": {},
   "source": [
    "## 4.1 Drop unnecessary columns"
   ]
  },
  {
   "cell_type": "code",
   "execution_count": 33,
   "id": "289f4577",
   "metadata": {},
   "outputs": [],
   "source": [
    "# drop (the 3 last variables were used to define the dependent variable)\n",
    "basetable_engr_final = basetable_engr_final.drop('full_text')\\\n",
    "                                .drop('screen_name')\\\n",
    "                                .drop('language')\\\n",
    "                                .drop('cleaned_text')\\\n",
    "                                .drop('retweet_count')\\\n",
    "                                .drop('tokens_stemmed')\\\n",
    "                                .drop('favorite_count')\\\n",
    "                                .drop('user_followers')\n"
   ]
  },
  {
   "cell_type": "code",
   "execution_count": 34,
   "id": "1da23c8a",
   "metadata": {},
   "outputs": [
    {
     "name": "stdout",
     "output_type": "stream",
     "text": [
      "root\n",
      " |-- media_type: string (nullable = true)\n",
      " |-- user_following: long (nullable = true)\n",
      " |-- eng_rate: double (nullable = false)\n",
      " |-- num_emojis: integer (nullable = true)\n",
      " |-- upper_case_words: integer (nullable = true)\n",
      " |-- num_words: integer (nullable = false)\n",
      " |-- num_hashtags: integer (nullable = true)\n",
      " |-- num_mentions: integer (nullable = true)\n",
      " |-- nr_exlcamations: integer (nullable = true)\n",
      " |-- week_day: string (nullable = true)\n",
      " |-- hour: string (nullable = true)\n",
      " |-- month: string (nullable = true)\n",
      " |-- day_month: string (nullable = true)\n",
      " |-- quoted_ind: integer (nullable = true)\n",
      " |-- symbol_ind: integer (nullable = true)\n",
      " |-- user_age_days: integer (nullable = true)\n",
      " |-- verified: integer (nullable = true)\n",
      " |-- nr_media_elements: integer (nullable = true)\n",
      " |-- nr_text_char: integer (nullable = true)\n",
      " |-- sentiment: double (nullable = true)\n",
      " |-- polarity: double (nullable = true)\n",
      " |-- subjectivity: double (nullable = true)\n",
      "\n"
     ]
    }
   ],
   "source": [
    "# inspect the data\n",
    "basetable_engr_final.printSchema()"
   ]
  },
  {
   "cell_type": "code",
   "execution_count": 41,
   "id": "f169a114",
   "metadata": {},
   "outputs": [
    {
     "data": {
      "text/html": [
       "<div>\n",
       "<style scoped>\n",
       "    .dataframe tbody tr th:only-of-type {\n",
       "        vertical-align: middle;\n",
       "    }\n",
       "\n",
       "    .dataframe tbody tr th {\n",
       "        vertical-align: top;\n",
       "    }\n",
       "\n",
       "    .dataframe thead th {\n",
       "        text-align: right;\n",
       "    }\n",
       "</style>\n",
       "<table border=\"1\" class=\"dataframe\">\n",
       "  <thead>\n",
       "    <tr style=\"text-align: right;\">\n",
       "      <th></th>\n",
       "      <th>media_type</th>\n",
       "      <th>user_following</th>\n",
       "      <th>eng_rate</th>\n",
       "      <th>num_emojis</th>\n",
       "      <th>upper_case_words</th>\n",
       "      <th>num_words</th>\n",
       "      <th>num_hashtags</th>\n",
       "      <th>num_mentions</th>\n",
       "      <th>nr_exlcamations</th>\n",
       "      <th>week_day</th>\n",
       "      <th>...</th>\n",
       "      <th>day_month</th>\n",
       "      <th>quoted_ind</th>\n",
       "      <th>symbol_ind</th>\n",
       "      <th>user_age_days</th>\n",
       "      <th>verified</th>\n",
       "      <th>nr_media_elements</th>\n",
       "      <th>nr_text_char</th>\n",
       "      <th>sentiment</th>\n",
       "      <th>polarity</th>\n",
       "      <th>subjectivity</th>\n",
       "    </tr>\n",
       "  </thead>\n",
       "  <tbody>\n",
       "    <tr>\n",
       "      <th>0</th>\n",
       "      <td>no_media</td>\n",
       "      <td>122</td>\n",
       "      <td>0.000000</td>\n",
       "      <td>0</td>\n",
       "      <td>2</td>\n",
       "      <td>8</td>\n",
       "      <td>0</td>\n",
       "      <td>0</td>\n",
       "      <td>0</td>\n",
       "      <td>Sat</td>\n",
       "      <td>...</td>\n",
       "      <td>30</td>\n",
       "      <td>0</td>\n",
       "      <td>0</td>\n",
       "      <td>2546</td>\n",
       "      <td>0</td>\n",
       "      <td>0</td>\n",
       "      <td>89</td>\n",
       "      <td>0.137</td>\n",
       "      <td>0.500000</td>\n",
       "      <td>0.50</td>\n",
       "    </tr>\n",
       "    <tr>\n",
       "      <th>1</th>\n",
       "      <td>no_media</td>\n",
       "      <td>25712</td>\n",
       "      <td>0.000080</td>\n",
       "      <td>0</td>\n",
       "      <td>0</td>\n",
       "      <td>13</td>\n",
       "      <td>0</td>\n",
       "      <td>0</td>\n",
       "      <td>0</td>\n",
       "      <td>Thu</td>\n",
       "      <td>...</td>\n",
       "      <td>28</td>\n",
       "      <td>0</td>\n",
       "      <td>0</td>\n",
       "      <td>2714</td>\n",
       "      <td>0</td>\n",
       "      <td>0</td>\n",
       "      <td>132</td>\n",
       "      <td>0.118</td>\n",
       "      <td>0.200000</td>\n",
       "      <td>0.20</td>\n",
       "    </tr>\n",
       "    <tr>\n",
       "      <th>2</th>\n",
       "      <td>video</td>\n",
       "      <td>276</td>\n",
       "      <td>0.027027</td>\n",
       "      <td>7</td>\n",
       "      <td>1</td>\n",
       "      <td>11</td>\n",
       "      <td>0</td>\n",
       "      <td>0</td>\n",
       "      <td>0</td>\n",
       "      <td>Fri</td>\n",
       "      <td>...</td>\n",
       "      <td>5</td>\n",
       "      <td>0</td>\n",
       "      <td>0</td>\n",
       "      <td>554</td>\n",
       "      <td>0</td>\n",
       "      <td>1</td>\n",
       "      <td>99</td>\n",
       "      <td>0.087</td>\n",
       "      <td>0.033333</td>\n",
       "      <td>0.60</td>\n",
       "    </tr>\n",
       "    <tr>\n",
       "      <th>3</th>\n",
       "      <td>photo</td>\n",
       "      <td>1013</td>\n",
       "      <td>0.000000</td>\n",
       "      <td>0</td>\n",
       "      <td>0</td>\n",
       "      <td>25</td>\n",
       "      <td>0</td>\n",
       "      <td>0</td>\n",
       "      <td>0</td>\n",
       "      <td>Sat</td>\n",
       "      <td>...</td>\n",
       "      <td>16</td>\n",
       "      <td>0</td>\n",
       "      <td>0</td>\n",
       "      <td>3690</td>\n",
       "      <td>0</td>\n",
       "      <td>1</td>\n",
       "      <td>273</td>\n",
       "      <td>0.104</td>\n",
       "      <td>0.500000</td>\n",
       "      <td>0.55</td>\n",
       "    </tr>\n",
       "    <tr>\n",
       "      <th>4</th>\n",
       "      <td>no_media</td>\n",
       "      <td>89158</td>\n",
       "      <td>0.000060</td>\n",
       "      <td>0</td>\n",
       "      <td>4</td>\n",
       "      <td>31</td>\n",
       "      <td>0</td>\n",
       "      <td>0</td>\n",
       "      <td>0</td>\n",
       "      <td>Thu</td>\n",
       "      <td>...</td>\n",
       "      <td>8</td>\n",
       "      <td>1</td>\n",
       "      <td>1</td>\n",
       "      <td>3401</td>\n",
       "      <td>0</td>\n",
       "      <td>0</td>\n",
       "      <td>261</td>\n",
       "      <td>0.224</td>\n",
       "      <td>0.500000</td>\n",
       "      <td>0.50</td>\n",
       "    </tr>\n",
       "  </tbody>\n",
       "</table>\n",
       "<p>5 rows × 22 columns</p>\n",
       "</div>"
      ],
      "text/plain": [
       "  media_type  user_following  eng_rate  num_emojis  upper_case_words  \\\n",
       "0   no_media             122  0.000000           0                 2   \n",
       "1   no_media           25712  0.000080           0                 0   \n",
       "2      video             276  0.027027           7                 1   \n",
       "3      photo            1013  0.000000           0                 0   \n",
       "4   no_media           89158  0.000060           0                 4   \n",
       "\n",
       "   num_words  num_hashtags  num_mentions  nr_exlcamations week_day  ...  \\\n",
       "0          8             0             0                0      Sat  ...   \n",
       "1         13             0             0                0      Thu  ...   \n",
       "2         11             0             0                0      Fri  ...   \n",
       "3         25             0             0                0      Sat  ...   \n",
       "4         31             0             0                0      Thu  ...   \n",
       "\n",
       "  day_month quoted_ind symbol_ind  user_age_days  verified  nr_media_elements  \\\n",
       "0        30          0          0           2546         0                  0   \n",
       "1        28          0          0           2714         0                  0   \n",
       "2         5          0          0            554         0                  1   \n",
       "3        16          0          0           3690         0                  1   \n",
       "4         8          1          1           3401         0                  0   \n",
       "\n",
       "   nr_text_char  sentiment  polarity  subjectivity  \n",
       "0            89      0.137  0.500000          0.50  \n",
       "1           132      0.118  0.200000          0.20  \n",
       "2            99      0.087  0.033333          0.60  \n",
       "3           273      0.104  0.500000          0.55  \n",
       "4           261      0.224  0.500000          0.50  \n",
       "\n",
       "[5 rows x 22 columns]"
      ]
     },
     "execution_count": 41,
     "metadata": {},
     "output_type": "execute_result"
    }
   ],
   "source": [
    "# inspect the data\n",
    "#basetable_engr_final.toPandas().head(5)"
   ]
  },
  {
   "cell_type": "markdown",
   "id": "f8d4f1f8",
   "metadata": {},
   "source": [
    "## 4.2 Handle missing values"
   ]
  },
  {
   "cell_type": "markdown",
   "id": "37067394",
   "metadata": {},
   "source": [
    "We see that there are no missing values in our dataset, so this step is completed."
   ]
  },
  {
   "cell_type": "code",
   "execution_count": 42,
   "id": "cea47faf",
   "metadata": {},
   "outputs": [
    {
     "data": {
      "text/html": [
       "<div>\n",
       "<style scoped>\n",
       "    .dataframe tbody tr th:only-of-type {\n",
       "        vertical-align: middle;\n",
       "    }\n",
       "\n",
       "    .dataframe tbody tr th {\n",
       "        vertical-align: top;\n",
       "    }\n",
       "\n",
       "    .dataframe thead th {\n",
       "        text-align: right;\n",
       "    }\n",
       "</style>\n",
       "<table border=\"1\" class=\"dataframe\">\n",
       "  <thead>\n",
       "    <tr style=\"text-align: right;\">\n",
       "      <th></th>\n",
       "      <th>media_type</th>\n",
       "      <th>user_following</th>\n",
       "      <th>eng_rate</th>\n",
       "      <th>num_emojis</th>\n",
       "      <th>upper_case_words</th>\n",
       "      <th>num_words</th>\n",
       "      <th>num_hashtags</th>\n",
       "      <th>num_mentions</th>\n",
       "      <th>nr_exlcamations</th>\n",
       "      <th>week_day</th>\n",
       "      <th>...</th>\n",
       "      <th>day_month</th>\n",
       "      <th>quoted_ind</th>\n",
       "      <th>symbol_ind</th>\n",
       "      <th>user_age_days</th>\n",
       "      <th>verified</th>\n",
       "      <th>nr_media_elements</th>\n",
       "      <th>nr_text_char</th>\n",
       "      <th>sentiment</th>\n",
       "      <th>polarity</th>\n",
       "      <th>subjectivity</th>\n",
       "    </tr>\n",
       "  </thead>\n",
       "  <tbody>\n",
       "    <tr>\n",
       "      <th>0</th>\n",
       "      <td>0</td>\n",
       "      <td>0</td>\n",
       "      <td>0</td>\n",
       "      <td>0</td>\n",
       "      <td>0</td>\n",
       "      <td>0</td>\n",
       "      <td>0</td>\n",
       "      <td>0</td>\n",
       "      <td>0</td>\n",
       "      <td>0</td>\n",
       "      <td>...</td>\n",
       "      <td>0</td>\n",
       "      <td>0</td>\n",
       "      <td>0</td>\n",
       "      <td>0</td>\n",
       "      <td>0</td>\n",
       "      <td>0</td>\n",
       "      <td>0</td>\n",
       "      <td>0</td>\n",
       "      <td>0</td>\n",
       "      <td>0</td>\n",
       "    </tr>\n",
       "  </tbody>\n",
       "</table>\n",
       "<p>1 rows × 22 columns</p>\n",
       "</div>"
      ],
      "text/plain": [
       "   media_type  user_following  eng_rate  num_emojis  upper_case_words  \\\n",
       "0           0               0         0           0                 0   \n",
       "\n",
       "   num_words  num_hashtags  num_mentions  nr_exlcamations  week_day  ...  \\\n",
       "0          0             0             0                0         0  ...   \n",
       "\n",
       "   day_month  quoted_ind  symbol_ind  user_age_days  verified  \\\n",
       "0          0           0           0              0         0   \n",
       "\n",
       "   nr_media_elements  nr_text_char  sentiment  polarity  subjectivity  \n",
       "0                  0             0          0         0             0  \n",
       "\n",
       "[1 rows x 22 columns]"
      ]
     },
     "execution_count": 42,
     "metadata": {},
     "output_type": "execute_result"
    }
   ],
   "source": [
    "# check missing values (also null values were checked but are not shown)\n",
    "basetable_engr_final.select([F.count(F.when(F.isnan(c), c)).alias(c) for c in basetable_engr_final.columns]).toPandas().head()                                         "
   ]
  },
  {
   "cell_type": "markdown",
   "id": "13c7c45c",
   "metadata": {},
   "source": [
    "Further, we see that our variables all have the correct datatype."
   ]
  },
  {
   "cell_type": "markdown",
   "id": "280d0557",
   "metadata": {},
   "source": [
    "# 5. Modelling"
   ]
  },
  {
   "cell_type": "markdown",
   "id": "92ea1a97",
   "metadata": {},
   "source": [
    "In this part, we are going to train a random forest classification model on the training data. This is an advanced machine learning model of which we expect good performance. After we train this model, we will evaluate it. As the goal of our analysis was to find the driving factors behind the engagement rate, we will use the shap values to determine variable importance. This way, we know in which direction the variable affects the engagement rate."
   ]
  },
  {
   "cell_type": "markdown",
   "id": "9aedb829",
   "metadata": {},
   "source": [
    "We start by handling our dependent variable, which we make categorical. Then, we use the StringIndexer to create the right input for the model."
   ]
  },
  {
   "cell_type": "code",
   "execution_count": 35,
   "id": "23d60018",
   "metadata": {},
   "outputs": [],
   "source": [
    "# First, we need to categorize our dependent variable in order to make it categorical\n",
    "from pyspark.ml.feature import Bucketizer\n",
    "basetable_engr_final = Bucketizer(\n",
    "    splits=[-float('inf'), 0.015, 0.05, float('inf')],\n",
    "    inputCol='eng_rate',\n",
    "    outputCol='label_cat'\n",
    ").transform(basetable_engr_final)"
   ]
  },
  {
   "cell_type": "code",
   "execution_count": 36,
   "id": "ecfdac00",
   "metadata": {},
   "outputs": [
    {
     "name": "stdout",
     "output_type": "stream",
     "text": [
      "+---------+-----+\n",
      "|label_cat|count|\n",
      "+---------+-----+\n",
      "|      0.0| 3995|\n",
      "|      1.0|  340|\n",
      "|      2.0|  318|\n",
      "+---------+-----+\n",
      "\n"
     ]
    }
   ],
   "source": [
    "# inspect\n",
    "basetable_engr_final.groupBy('label_cat').count().show()"
   ]
  },
  {
   "cell_type": "markdown",
   "id": "fdde514b",
   "metadata": {},
   "source": [
    "## 5.1 Split the data in train and test set"
   ]
  },
  {
   "cell_type": "code",
   "execution_count": 37,
   "id": "a5e807ad",
   "metadata": {},
   "outputs": [],
   "source": [
    "# split data in train and test set\n",
    "train, test = basetable_engr_final.randomSplit([0.7, 0.3], seed= 100)"
   ]
  },
  {
   "cell_type": "code",
   "execution_count": 137,
   "id": "b6c2e437",
   "metadata": {},
   "outputs": [],
   "source": [
    "# check number of observations in both datasets\n",
    "#print(\"Number of observations in the training set: %s \" % train.count())\n",
    "#print(\"Number of observations in the test set: %s \" %test.count())"
   ]
  },
  {
   "cell_type": "code",
   "execution_count": 47,
   "id": "e5de6c38",
   "metadata": {},
   "outputs": [
    {
     "data": {
      "text/html": [
       "<div>\n",
       "<style scoped>\n",
       "    .dataframe tbody tr th:only-of-type {\n",
       "        vertical-align: middle;\n",
       "    }\n",
       "\n",
       "    .dataframe tbody tr th {\n",
       "        vertical-align: top;\n",
       "    }\n",
       "\n",
       "    .dataframe thead th {\n",
       "        text-align: right;\n",
       "    }\n",
       "</style>\n",
       "<table border=\"1\" class=\"dataframe\">\n",
       "  <thead>\n",
       "    <tr style=\"text-align: right;\">\n",
       "      <th></th>\n",
       "      <th>media_type</th>\n",
       "      <th>user_following</th>\n",
       "      <th>eng_rate</th>\n",
       "      <th>num_emojis</th>\n",
       "      <th>upper_case_words</th>\n",
       "      <th>num_words</th>\n",
       "      <th>num_hashtags</th>\n",
       "      <th>num_mentions</th>\n",
       "      <th>nr_exlcamations</th>\n",
       "      <th>week_day</th>\n",
       "      <th>...</th>\n",
       "      <th>quoted_ind</th>\n",
       "      <th>symbol_ind</th>\n",
       "      <th>user_age_days</th>\n",
       "      <th>verified</th>\n",
       "      <th>nr_media_elements</th>\n",
       "      <th>nr_text_char</th>\n",
       "      <th>sentiment</th>\n",
       "      <th>polarity</th>\n",
       "      <th>subjectivity</th>\n",
       "      <th>label_cat</th>\n",
       "    </tr>\n",
       "  </thead>\n",
       "  <tbody>\n",
       "    <tr>\n",
       "      <th>0</th>\n",
       "      <td>animated_gif</td>\n",
       "      <td>96</td>\n",
       "      <td>0.000000</td>\n",
       "      <td>1</td>\n",
       "      <td>2</td>\n",
       "      <td>22</td>\n",
       "      <td>0</td>\n",
       "      <td>0</td>\n",
       "      <td>0</td>\n",
       "      <td>Wed</td>\n",
       "      <td>...</td>\n",
       "      <td>0</td>\n",
       "      <td>0</td>\n",
       "      <td>2652</td>\n",
       "      <td>0</td>\n",
       "      <td>1</td>\n",
       "      <td>181</td>\n",
       "      <td>0.000</td>\n",
       "      <td>0.000000</td>\n",
       "      <td>0.066667</td>\n",
       "      <td>0.0</td>\n",
       "    </tr>\n",
       "    <tr>\n",
       "      <th>1</th>\n",
       "      <td>animated_gif</td>\n",
       "      <td>266</td>\n",
       "      <td>0.000000</td>\n",
       "      <td>1</td>\n",
       "      <td>0</td>\n",
       "      <td>6</td>\n",
       "      <td>0</td>\n",
       "      <td>0</td>\n",
       "      <td>0</td>\n",
       "      <td>Thu</td>\n",
       "      <td>...</td>\n",
       "      <td>0</td>\n",
       "      <td>0</td>\n",
       "      <td>2224</td>\n",
       "      <td>0</td>\n",
       "      <td>1</td>\n",
       "      <td>41</td>\n",
       "      <td>0.000</td>\n",
       "      <td>-0.145833</td>\n",
       "      <td>0.520833</td>\n",
       "      <td>0.0</td>\n",
       "    </tr>\n",
       "    <tr>\n",
       "      <th>2</th>\n",
       "      <td>animated_gif</td>\n",
       "      <td>433</td>\n",
       "      <td>0.011364</td>\n",
       "      <td>1</td>\n",
       "      <td>0</td>\n",
       "      <td>6</td>\n",
       "      <td>0</td>\n",
       "      <td>0</td>\n",
       "      <td>0</td>\n",
       "      <td>Thu</td>\n",
       "      <td>...</td>\n",
       "      <td>0</td>\n",
       "      <td>0</td>\n",
       "      <td>337</td>\n",
       "      <td>0</td>\n",
       "      <td>1</td>\n",
       "      <td>35</td>\n",
       "      <td>0.412</td>\n",
       "      <td>0.000000</td>\n",
       "      <td>0.000000</td>\n",
       "      <td>0.0</td>\n",
       "    </tr>\n",
       "    <tr>\n",
       "      <th>3</th>\n",
       "      <td>no_media</td>\n",
       "      <td>0</td>\n",
       "      <td>0.000000</td>\n",
       "      <td>0</td>\n",
       "      <td>0</td>\n",
       "      <td>26</td>\n",
       "      <td>0</td>\n",
       "      <td>0</td>\n",
       "      <td>0</td>\n",
       "      <td>Sat</td>\n",
       "      <td>...</td>\n",
       "      <td>0</td>\n",
       "      <td>0</td>\n",
       "      <td>840</td>\n",
       "      <td>0</td>\n",
       "      <td>0</td>\n",
       "      <td>258</td>\n",
       "      <td>0.102</td>\n",
       "      <td>0.000000</td>\n",
       "      <td>0.750000</td>\n",
       "      <td>0.0</td>\n",
       "    </tr>\n",
       "    <tr>\n",
       "      <th>4</th>\n",
       "      <td>no_media</td>\n",
       "      <td>0</td>\n",
       "      <td>0.000000</td>\n",
       "      <td>0</td>\n",
       "      <td>0</td>\n",
       "      <td>26</td>\n",
       "      <td>0</td>\n",
       "      <td>0</td>\n",
       "      <td>0</td>\n",
       "      <td>Sun</td>\n",
       "      <td>...</td>\n",
       "      <td>0</td>\n",
       "      <td>0</td>\n",
       "      <td>72</td>\n",
       "      <td>0</td>\n",
       "      <td>0</td>\n",
       "      <td>276</td>\n",
       "      <td>0.547</td>\n",
       "      <td>0.460417</td>\n",
       "      <td>0.562500</td>\n",
       "      <td>0.0</td>\n",
       "    </tr>\n",
       "  </tbody>\n",
       "</table>\n",
       "<p>5 rows × 23 columns</p>\n",
       "</div>"
      ],
      "text/plain": [
       "     media_type  user_following  eng_rate  num_emojis  upper_case_words  \\\n",
       "0  animated_gif              96  0.000000           1                 2   \n",
       "1  animated_gif             266  0.000000           1                 0   \n",
       "2  animated_gif             433  0.011364           1                 0   \n",
       "3      no_media               0  0.000000           0                 0   \n",
       "4      no_media               0  0.000000           0                 0   \n",
       "\n",
       "   num_words  num_hashtags  num_mentions  nr_exlcamations week_day  ...  \\\n",
       "0         22             0             0                0      Wed  ...   \n",
       "1          6             0             0                0      Thu  ...   \n",
       "2          6             0             0                0      Thu  ...   \n",
       "3         26             0             0                0      Sat  ...   \n",
       "4         26             0             0                0      Sun  ...   \n",
       "\n",
       "  quoted_ind symbol_ind user_age_days  verified  nr_media_elements  \\\n",
       "0          0          0          2652         0                  1   \n",
       "1          0          0          2224         0                  1   \n",
       "2          0          0           337         0                  1   \n",
       "3          0          0           840         0                  0   \n",
       "4          0          0            72         0                  0   \n",
       "\n",
       "   nr_text_char  sentiment  polarity  subjectivity  label_cat  \n",
       "0           181      0.000  0.000000      0.066667        0.0  \n",
       "1            41      0.000 -0.145833      0.520833        0.0  \n",
       "2            35      0.412  0.000000      0.000000        0.0  \n",
       "3           258      0.102  0.000000      0.750000        0.0  \n",
       "4           276      0.547  0.460417      0.562500        0.0  \n",
       "\n",
       "[5 rows x 23 columns]"
      ]
     },
     "execution_count": 47,
     "metadata": {},
     "output_type": "execute_result"
    }
   ],
   "source": [
    "# inspect the training data\n",
    "#train.toPandas().head()"
   ]
  },
  {
   "cell_type": "markdown",
   "id": "ffb52ef0",
   "metadata": {},
   "source": [
    "#### handle class imbalance in dependent variable"
   ]
  },
  {
   "cell_type": "code",
   "execution_count": 38,
   "id": "550a930e",
   "metadata": {},
   "outputs": [
    {
     "name": "stdout",
     "output_type": "stream",
     "text": [
      "3175\n"
     ]
    }
   ],
   "source": [
    "# first define the number of training observations\n",
    "nr_train_obs = train.count()\n",
    "print(nr_train_obs)"
   ]
  },
  {
   "cell_type": "code",
   "execution_count": 39,
   "id": "74fae14c",
   "metadata": {},
   "outputs": [],
   "source": [
    "# define the number of observations per label\n",
    "train_obs_0 = train.filter(F.col('label_cat') == 0.0).count()\n",
    "train_obs_1 = train.filter(F.col('label_cat') == 1.0).count()\n",
    "train_obs_2 = train.filter(F.col('label_cat') == 2.0).count()"
   ]
  },
  {
   "cell_type": "code",
   "execution_count": 55,
   "id": "753d4cbc",
   "metadata": {},
   "outputs": [
    {
     "name": "stdout",
     "output_type": "stream",
     "text": [
      "0.3876678876678877\n",
      "4.50354609929078\n",
      "4.581529581529582\n"
     ]
    }
   ],
   "source": [
    "# Now define weights of labels (based on 1% of the data due to computation time)\n",
    "weight_0 = (nr_train_obs)/(3*train_obs_0)\n",
    "weight_1 = (nr_train_obs)/(3*train_obs_1)\n",
    "weight_2 = (nr_train_obs)/(3*train_obs_2)\n",
    "print(weight_0)\n",
    "print(weight_1)\n",
    "print(weight_2)"
   ]
  },
  {
   "cell_type": "code",
   "execution_count": 41,
   "id": "8a918cbe",
   "metadata": {},
   "outputs": [],
   "source": [
    "# insert weight column into training and test set\n",
    "train = train.withColumn(\"weight\", F.when(F.col(\"label_cat\") == 1, weight_1)\\\n",
    "                         .otherwise(F.when(F.col(\"label_cat\") == 2, weight_2).otherwise(weight_0)))\n",
    "test = test.withColumn(\"weight\", F.when(F.col(\"label_cat\") == 1, weight_1)\\\n",
    "                         .otherwise(F.when(F.col(\"label_cat\") == 2, weight_2).otherwise(weight_0)))\n"
   ]
  },
  {
   "cell_type": "code",
   "execution_count": 42,
   "id": "17324f9a",
   "metadata": {},
   "outputs": [
    {
     "name": "stdout",
     "output_type": "stream",
     "text": [
      "+------------------+\n",
      "|            weight|\n",
      "+------------------+\n",
      "|0.3876678876678877|\n",
      "|0.3876678876678877|\n",
      "|0.3876678876678877|\n",
      "|  4.50354609929078|\n",
      "|0.3876678876678877|\n",
      "+------------------+\n",
      "only showing top 5 rows\n",
      "\n"
     ]
    }
   ],
   "source": [
    "# inspect the weights\n",
    "train.select(F.col('weight')).show(5)"
   ]
  },
  {
   "cell_type": "markdown",
   "id": "25e95931",
   "metadata": {},
   "source": [
    "## 5.2 Pipelines"
   ]
  },
  {
   "cell_type": "markdown",
   "id": "53450db7",
   "metadata": {},
   "source": [
    "**Import required transformers and estimators**"
   ]
  },
  {
   "cell_type": "code",
   "execution_count": 43,
   "id": "a18c486b",
   "metadata": {},
   "outputs": [],
   "source": [
    "# import pyspark ml packages\n",
    "from pyspark.ml import Pipeline\n",
    "from pyspark.ml.feature import StopWordsRemover, StandardScaler, Word2Vec\n",
    "from pyspark.ml.feature import OneHotEncoder, VectorAssembler, StringIndexer, VectorIndexer\n",
    "from pyspark.ml.classification import LogisticRegression, RandomForestClassifier\n",
    "\n",
    "# import models and evaluator\n",
    "from pyspark.ml.evaluation import RegressionEvaluator\n",
    "from pyspark.ml.tuning import ParamGridBuilder, CrossValidator\n",
    "from pyspark.ml.evaluation import MulticlassClassificationEvaluator"
   ]
  },
  {
   "cell_type": "markdown",
   "id": "55f28f38",
   "metadata": {},
   "source": [
    "#### Define the different pipeline stages "
   ]
  },
  {
   "cell_type": "code",
   "execution_count": 44,
   "id": "48af4e32",
   "metadata": {},
   "outputs": [],
   "source": [
    "# Create string indexer for the dependent variable\n",
    "IDX = StringIndexer(inputCol = 'label_cat', outputCol = 'label')"
   ]
  },
  {
   "cell_type": "markdown",
   "id": "60accc3d",
   "metadata": {},
   "source": [
    "#### handle numeric features"
   ]
  },
  {
   "cell_type": "code",
   "execution_count": 45,
   "id": "676921ad",
   "metadata": {},
   "outputs": [],
   "source": [
    "# define the numeric variables\n",
    "num_cols = ['user_following', 'num_emojis', 'upper_case_words','num_words',\n",
    "            'num_hashtags', 'num_mentions', 'nr_exlcamations',  'user_age_days', \n",
    "            'nr_media_elements', 'nr_text_char']\n",
    "\n",
    "# define the assembler\n",
    "num_VA = VectorAssembler(inputCols=num_cols, outputCol=\"num_features\")"
   ]
  },
  {
   "cell_type": "code",
   "execution_count": 46,
   "id": "de622b5f",
   "metadata": {},
   "outputs": [],
   "source": [
    "# define the scaler\n",
    "SS = StandardScaler(inputCol=\"num_features\", outputCol=\"num_features_scaled\")"
   ]
  },
  {
   "cell_type": "markdown",
   "id": "58a33263",
   "metadata": {},
   "source": [
    "#### handle categorical features"
   ]
  },
  {
   "cell_type": "markdown",
   "id": "4ffe911a",
   "metadata": {},
   "source": [
    "First, we transform the text variables in our dataset into numerical categories"
   ]
  },
  {
   "cell_type": "code",
   "execution_count": 47,
   "id": "8dc251be",
   "metadata": {},
   "outputs": [],
   "source": [
    "# define the categorical variables\n",
    "cat_cols = ['media_type', 'hour', 'week_day', 'month', 'day_month', 'quoted_ind',\n",
    "           'symbol_ind', 'verified']\n",
    "\n",
    "# create an object of StringIndexer class for each categorical variable\n",
    "SI_media = StringIndexer(inputCol= 'media_type', outputCol= 'media_type_index')\n",
    "SI_hour = StringIndexer(inputCol= 'hour', outputCol= 'hour_index')\n",
    "SI_week_day = StringIndexer(inputCol= 'week_day', outputCol= 'week_day_index')\n",
    "SI_month = StringIndexer(inputCol= 'month', outputCol= 'month_index')\n",
    "SI_day_month = StringIndexer(inputCol= 'day_month', outputCol= 'day_month_index')"
   ]
  },
  {
   "cell_type": "markdown",
   "id": "25e374af",
   "metadata": {},
   "source": [
    "Next, we One Hot Encode categorical variables in numeric format"
   ]
  },
  {
   "cell_type": "code",
   "execution_count": 48,
   "id": "b0638289",
   "metadata": {},
   "outputs": [],
   "source": [
    "# define the categorical variables that are already in NUMERIC format\n",
    "cat_cols_num = ['media_type_index', 'hour_index', 'week_day_index', 'month_index', \n",
    "                    'day_month_index','quoted_ind', 'symbol_ind', 'verified']\n",
    "\n",
    "# define new names of encoded categorical variables\n",
    "catColumnsOHE = [name  + \"_OHE\" for name in cat_cols_num]\n",
    "\n",
    "# define one hot encoder\n",
    "encoder = OneHotEncoder(inputCols = cat_cols_num, outputCols = catColumnsOHE)"
   ]
  },
  {
   "cell_type": "code",
   "execution_count": 49,
   "id": "e5429a59",
   "metadata": {},
   "outputs": [],
   "source": [
    "# define the categorical variables that are already in NUMERIC format\n",
    "cat_VA_LR = VectorAssembler(inputCols= catColumnsOHE, outputCol=\"cat_features\")\n"
   ]
  },
  {
   "cell_type": "markdown",
   "id": "e4d97b98",
   "metadata": {},
   "source": [
    "For the random forest model, replace the OneHotEncoder with a VectorIndexer"
   ]
  },
  {
   "cell_type": "code",
   "execution_count": 50,
   "id": "7cf4309b",
   "metadata": {},
   "outputs": [],
   "source": [
    "# define VA for the random forest model\n",
    "cat_VA_RF = VectorAssembler(inputCols= cat_cols_num, outputCol=\"cat_features_idx\")\n",
    "\n",
    "# Define VectorIndexer\n",
    "indexer = VectorIndexer(inputCol = 'cat_features_idx', outputCol = 'cat_features')"
   ]
  },
  {
   "cell_type": "markdown",
   "id": "f0f5aec9",
   "metadata": {},
   "source": [
    "Next, we use a VectorAssembler to assemble all encoded variables together."
   ]
  },
  {
   "cell_type": "code",
   "execution_count": 51,
   "id": "266f2bfe",
   "metadata": {},
   "outputs": [],
   "source": [
    "# define vector assembler\n",
    "VA_all_LR = VectorAssembler(inputCols=[\"num_features_scaled\", \"cat_features\", \"polarity\", \"subjectivity\", \"sentiment\"], outputCol=\"features\")"
   ]
  },
  {
   "cell_type": "code",
   "execution_count": 52,
   "id": "0cf5b8a6",
   "metadata": {},
   "outputs": [],
   "source": [
    "# for random forest we don't scale the features \n",
    "VA_all_RF = VectorAssembler(inputCols=[\"num_features\", \"cat_features\", \"polarity\", \"subjectivity\", \"sentiment\"], outputCol=\"featuresrf\")"
   ]
  },
  {
   "cell_type": "code",
   "execution_count": 53,
   "id": "ef602b8b",
   "metadata": {},
   "outputs": [],
   "source": [
    "# define logistic regression model\n",
    "LR = LogisticRegression(featuresCol = \"features\", labelCol = \"label\", weightCol= \"weight\",\n",
    "                       regParam =  0.8, maxIter =  10)\n",
    "\n",
    "# define logistic regression model withour weights\n",
    "LR_without = LogisticRegression(featuresCol = \"features\", labelCol = \"label\", \n",
    "                               regParam =  0.0, maxIter =  100)"
   ]
  },
  {
   "cell_type": "code",
   "execution_count": 54,
   "id": "8895f29a",
   "metadata": {},
   "outputs": [],
   "source": [
    "# define random forest model\n",
    "RF = RandomForestClassifier(featuresCol = \"featuresrf\", labelCol = \"label\", weightCol= \"weight\",\n",
    "                           maxDepth = 15, maxBins = 32, numTrees = 20)\n",
    "\n",
    "# define logistic regression model withour weights\n",
    "RF_without = RandomForestClassifier(featuresCol = \"featuresrf\", labelCol = \"label\",\n",
    "                                   maxDepth = 5, maxBins = 32, numTrees = 20)\n"
   ]
  },
  {
   "cell_type": "markdown",
   "id": "0de3a38e",
   "metadata": {},
   "source": [
    "## 5.3 Train a logistic regression"
   ]
  },
  {
   "cell_type": "markdown",
   "id": "ac7f47b3",
   "metadata": {},
   "source": [
    "To train the logistic regression model, we first performed cross validation while training the model on 1% of the training set. Not a lot of parameters could be tested at once due to memory issues. However, with the parameters found of the best cross validation model, we retrained the model on 10% of the data. The parameters were already set in the pipeline stage of this model. Below, you find the code of the cross validation in the comments."
   ]
  },
  {
   "cell_type": "code",
   "execution_count": 54,
   "id": "cd1eccae",
   "metadata": {},
   "outputs": [],
   "source": [
    "# first define the pipeline for the logistic regression without fitting the data\n",
    "#LR_pipeline = Pipeline().setStages([IDX, num_VA, SS,SI_media, SI_hour, SI_week_day, SI_month,\n",
    "#                                   SI_day_month, encoder, cat_VA_LR, VA_all_LR, LR])"
   ]
  },
  {
   "cell_type": "code",
   "execution_count": 55,
   "id": "2d5cd8bc",
   "metadata": {},
   "outputs": [],
   "source": [
    "# define the parameter space \n",
    "#paramGrid = (ParamGridBuilder()\n",
    "#             .addGrid(LR.regParam, [0.1, 0.8])\n",
    "#             .addGrid(LR.maxIter, [3, 10])\n",
    "#             .build())"
   ]
  },
  {
   "cell_type": "code",
   "execution_count": 60,
   "id": "7849e6b3",
   "metadata": {},
   "outputs": [],
   "source": [
    "# define evaluator \n",
    "#evaluator_mc = MulticlassClassificationEvaluator()"
   ]
  },
  {
   "cell_type": "code",
   "execution_count": 57,
   "id": "20e50c30",
   "metadata": {},
   "outputs": [],
   "source": [
    "# define cross validator\n",
    "#cv = CrossValidator(estimator = LR_pipeline,\n",
    "#                    estimatorParamMaps = paramGrid,\n",
    "#                    evaluator = evaluator_mc, \n",
    "#                    numFolds = 5)"
   ]
  },
  {
   "cell_type": "code",
   "execution_count": 58,
   "id": "a3f435fa",
   "metadata": {},
   "outputs": [],
   "source": [
    "# perform 5-fold cross validation for defined parameter space (train on train set with fit)\n",
    "#LR_cv_model = cv.fit(train)"
   ]
  },
  {
   "cell_type": "code",
   "execution_count": 70,
   "id": "c3ce1651",
   "metadata": {},
   "outputs": [
    {
     "name": "stdout",
     "output_type": "stream",
     "text": [
      "regParam =  0.8\n",
      "elasticNetParam =  0.0\n",
      "maxIter =  10\n"
     ]
    }
   ],
   "source": [
    "# print the parameters of the best model\n",
    "#print(\"regParam = \", LR_cv_model.bestModel.stages[-1]._java_obj.getRegParam())\n",
    "#print(\"elasticNetParam = \", LR_cv_model.bestModel.stages[-1]._java_obj.getElasticNetParam())\n",
    "#print(\"maxIter = \", LR_cv_model.bestModel.stages[-1]._java_obj.getMaxIter())"
   ]
  },
  {
   "cell_type": "code",
   "execution_count": 65,
   "id": "25d6f9b0",
   "metadata": {},
   "outputs": [],
   "source": [
    "# get predictions on test set (test on test set with transform)\n",
    "#predictions = LR_cv_model.transform(test)"
   ]
  },
  {
   "cell_type": "markdown",
   "id": "150aa160",
   "metadata": {},
   "source": [
    "#### Do the same for the model without weights."
   ]
  },
  {
   "cell_type": "code",
   "execution_count": 56,
   "id": "bf7869a4",
   "metadata": {},
   "outputs": [],
   "source": [
    "# first define the pipeline for the logistic regression without fitting the data\n",
    "#LR_pipeline_without = Pipeline().setStages([IDX, num_VA, SS,SI_media, SI_hour, SI_week_day, SI_month,\n",
    "#                                  SI_day_month, encoder, cat_VA_LR, VA_all_LR, LR_without])"
   ]
  },
  {
   "cell_type": "code",
   "execution_count": 58,
   "id": "70b311cf",
   "metadata": {},
   "outputs": [],
   "source": [
    "# define the parameter space \n",
    "#paramGrid = (ParamGridBuilder()\n",
    "#             .addGrid(LR.regParam, [0.1, 0.8])\n",
    "#             .addGrid(LR.maxIter, [3, 10])\n",
    "#             .build())"
   ]
  },
  {
   "cell_type": "code",
   "execution_count": 61,
   "id": "7a7ccb93",
   "metadata": {},
   "outputs": [],
   "source": [
    "# define cross validator\n",
    "#cv_w = CrossValidator(estimator = LR_pipeline_without,\n",
    "#                   estimatorParamMaps = paramGrid,\n",
    "#                   evaluator = evaluator_mc, \n",
    "#                   numFolds = 5)"
   ]
  },
  {
   "cell_type": "code",
   "execution_count": 62,
   "id": "32b3c4ed",
   "metadata": {},
   "outputs": [],
   "source": [
    "# perform 5-fold cross validation for defined parameter space (train on train set with fit)\n",
    "#LR_cv_model_without = cv_w.fit(train)"
   ]
  },
  {
   "cell_type": "code",
   "execution_count": 63,
   "id": "9dda944d",
   "metadata": {},
   "outputs": [
    {
     "name": "stdout",
     "output_type": "stream",
     "text": [
      "regParam =  0.0\n",
      "elasticNetParam =  0.0\n",
      "maxIter =  100\n"
     ]
    }
   ],
   "source": [
    "# print the parameters of the best model\n",
    "#print(\"regParam = \", LR_cv_model_without.bestModel.stages[-1]._java_obj.getRegParam())\n",
    "#print(\"elasticNetParam = \", LR_cv_model_without.bestModel.stages[-1]._java_obj.getElasticNetParam())\n",
    "#print(\"maxIter = \", LR_cv_model_without.bestModel.stages[-1]._java_obj.getMaxIter())"
   ]
  },
  {
   "cell_type": "markdown",
   "id": "ba70f806",
   "metadata": {},
   "source": [
    "#### Train the logistic regression model with optimal parameters on 10% of the data."
   ]
  },
  {
   "cell_type": "code",
   "execution_count": 76,
   "id": "13ddc02d",
   "metadata": {},
   "outputs": [],
   "source": [
    "# define pipeline model and fit on training data\n",
    "LR_pipeline = Pipeline().setStages([IDX, num_VA, SS,SI_media, SI_hour, SI_week_day, SI_month,\n",
    "                                    SI_day_month, encoder, cat_VA_LR, VA_all_LR, LR])\\\n",
    "                        .fit(train)\n",
    "\n",
    "LR_pipeline_w = Pipeline().setStages([IDX, num_VA, SS,SI_media, SI_hour, SI_week_day, SI_month,\n",
    "                                    SI_day_month, encoder, cat_VA_LR, VA_all_LR, LR_without])\\\n",
    "                        .fit(train)\n",
    "\n",
    "# get predictions on test set\n",
    "LR_preds = LR_pipeline.transform(test)\n",
    "LR_preds_w = LR_pipeline_w.transform(test)"
   ]
  },
  {
   "cell_type": "markdown",
   "id": "13403e4c",
   "metadata": {},
   "source": [
    "#### Evaluate"
   ]
  },
  {
   "cell_type": "code",
   "execution_count": 77,
   "id": "62eec748",
   "metadata": {},
   "outputs": [],
   "source": [
    "# define evaluator (for other metrics)\n",
    "evaluator_mc = MulticlassClassificationEvaluator()"
   ]
  },
  {
   "cell_type": "code",
   "execution_count": 78,
   "id": "af06ec7f",
   "metadata": {},
   "outputs": [],
   "source": [
    "# get metrics for LR model\n",
    "lr_f1 = evaluator_mc.evaluate(LR_preds, {evaluator_mc.metricName: \"f1\"})\n",
    "lr_accuracy = evaluator_mc.evaluate(LR_preds, {evaluator_mc.metricName: \"accuracy\"})\n",
    "lr_recall = evaluator_mc.evaluate(LR_preds, {evaluator_mc.metricName: \"weightedRecall\"})\n",
    "lr_precision = evaluator_mc.evaluate(LR_preds, {evaluator_mc.metricName: \"weightedPrecision\"})\n",
    "lr_weighted_TPR = evaluator_mc.evaluate(LR_preds, {evaluator_mc.metricName: \"weightedTruePositiveRate\"})\n",
    "lr_weighted_FPR = evaluator_mc.evaluate(LR_preds, {evaluator_mc.metricName: \"weightedFalsePositiveRate\"})"
   ]
  },
  {
   "cell_type": "code",
   "execution_count": 79,
   "id": "4455f493",
   "metadata": {},
   "outputs": [],
   "source": [
    "# get metrics for LR model\n",
    "lr_f1_w = evaluator_mc.evaluate(LR_preds_w, {evaluator_mc.metricName: \"f1\"})\n",
    "lr_accuracy_w = evaluator_mc.evaluate(LR_preds_w, {evaluator_mc.metricName: \"accuracy\"})\n",
    "lr_recall_w = evaluator_mc.evaluate(LR_preds_w, {evaluator_mc.metricName: \"weightedRecall\"})\n",
    "lr_precision_w = evaluator_mc.evaluate(LR_preds_w, {evaluator_mc.metricName: \"weightedPrecision\"})\n",
    "lr_weighted_TPR_w = evaluator_mc.evaluate(LR_preds_w, {evaluator_mc.metricName: \"weightedTruePositiveRate\"})\n",
    "lr_weighted_FPR_w = evaluator_mc.evaluate(LR_preds_w, {evaluator_mc.metricName: \"weightedFalsePositiveRate\"})"
   ]
  },
  {
   "cell_type": "markdown",
   "id": "11426523",
   "metadata": {},
   "source": [
    "Let's refresh the definition of the different metrics:\n",
    "\n",
    "    1)The F-measure is calculated as the harmonic mean of precision and recall, giving each the same weighting. It allows a model to be evaluated taking both the precision and recall into account using a single score, which is helpful when describing the performance of the model and in comparing models.\n",
    "    2) Accuracy = Number of correct predictions of the total number of predictions\n",
    "    3) Recall = the number of correct positive predictions made out of all positive predictions that could have been made\n",
    "    4)  Precision = to the number of true positives divided by the total number of positive predictions \n",
    "    5) Weighted true positive rate = gives the weighted mean of class TPR with weights equal to class probability. TPR is the probability that an actual positive will test positive.\n",
    "    6) The Weighted False Positive Rate gives the weighted mean of class False Positive Rate (FPR) with weights equal to class probability. The FPR is the proportion of negative cases incorrectly identified as positive cases in the data.\n",
    "    \n",
    "For more inforamtion: https://spark.apache.org/docs/2.2.0/mllib-evaluation-metrics.html"
   ]
  },
  {
   "cell_type": "code",
   "execution_count": 81,
   "id": "b0b30e63",
   "metadata": {},
   "outputs": [
    {
     "name": "stdout",
     "output_type": "stream",
     "text": [
      "LOGISTIC REGRESSION:\n",
      "  F1       : 0.656388\n",
      "  ACCURACY : 0.578062\n",
      "  RECALL   : 0.594886\n",
      "  PRECISION   : 0.794712\n",
      "  WEIGHTED_TPR   : 0.569407\n",
      "  WEIGHTED_FPR   : 0.286563\n",
      "LOGISTIC REGRESSION without weights:\n",
      "  F1       : 0.78381\n",
      "  ACCURACY : 0.854643\n",
      "  RECALL   : 0.854643\n",
      "  PRECISION   : 0.745604\n",
      "  WEIGHTED_TPR   : 0.852525\n",
      "  WEIGHTED_FPR   : 0.857916\n"
     ]
    }
   ],
   "source": [
    "# check which of both algorithms is the best:\n",
    "print(\"LOGISTIC REGRESSION:\")\n",
    "print('  F1       : %g' % lr_f1)\n",
    "print('  ACCURACY : %g' % lr_accuracy)\n",
    "print('  RECALL   : %g' % lr_recall)\n",
    "print('  PRECISION   : %g' % lr_precision)\n",
    "print('  WEIGHTED_TPR   : %g' % lr_weighted_TPR)\n",
    "print('  WEIGHTED_FPR   : %g' % lr_weighted_FPR)\n",
    "\n",
    "print(\"LOGISTIC REGRESSION without weights:\")\n",
    "print('  F1       : %g' % lr_f1_w)\n",
    "print('  ACCURACY : %g' % lr_accuracy_w)\n",
    "print('  RECALL   : %g' % lr_recall_w)\n",
    "print('  PRECISION   : %g' % lr_precision_w)\n",
    "print('  WEIGHTED_TPR   : %g' % lr_weighted_TPR_w)\n",
    "print('  WEIGHTED_FPR   : %g' % lr_weighted_FPR_w)"
   ]
  },
  {
   "cell_type": "code",
   "execution_count": null,
   "id": "e91250fd",
   "metadata": {},
   "outputs": [],
   "source": []
  },
  {
   "cell_type": "markdown",
   "id": "d689cf33",
   "metadata": {},
   "source": [
    "## 5.4 Train random forest"
   ]
  },
  {
   "cell_type": "markdown",
   "id": "5c61bd69",
   "metadata": {},
   "source": [
    "Again, we first perform cross validation with 1% of the data. Then, we use the optimal parameters to train the model on all 10% of the data."
   ]
  },
  {
   "cell_type": "code",
   "execution_count": 64,
   "id": "89118a6f",
   "metadata": {},
   "outputs": [],
   "source": [
    "# first define the pipeline for the random forest without fitting the data\n",
    "#RF_pipeline = Pipeline().setStages([IDX, num_VA,SI_media, SI_hour, SI_week_day, SI_month,\n",
    "#                                    SI_day_month, cat_VA_RF, indexer, VA_all_RF, RF])"
   ]
  },
  {
   "cell_type": "code",
   "execution_count": 68,
   "id": "65dd5794",
   "metadata": {},
   "outputs": [],
   "source": [
    "# define the parameter space\n",
    "#rfparamGrid = (ParamGridBuilder().addGrid(RF.maxDepth, [5, 15, 30])\n",
    "#                                   .build())"
   ]
  },
  {
   "cell_type": "code",
   "execution_count": 69,
   "id": "a03b4b95",
   "metadata": {},
   "outputs": [],
   "source": [
    "# perform 5-fold cross validation\n",
    "#rfcv_model = CrossValidator(estimator=RF_pipeline, \n",
    "#                          estimatorParamMaps=rfparamGrid, \n",
    "#                          evaluator=evaluator_mc,\n",
    "#                          numFolds=5)"
   ]
  },
  {
   "cell_type": "code",
   "execution_count": 70,
   "id": "579d53f6",
   "metadata": {},
   "outputs": [],
   "source": [
    "# run cross validation on trainig set\n",
    "#rfcv_model = rfcv_model.fit(train)"
   ]
  },
  {
   "cell_type": "code",
   "execution_count": 72,
   "id": "c1595978",
   "metadata": {},
   "outputs": [
    {
     "name": "stdout",
     "output_type": "stream",
     "text": [
      "best max depth: 15\n",
      "best max bins: 32\n",
      "best num trees: 20\n"
     ]
    }
   ],
   "source": [
    "# inspect best params\n",
    "#print(\"best max depth: %s\" %rfcv_model.bestModel.stages[-1]._java_obj.getMaxDepth())\n",
    "#print(\"best max bins: %s\" %rfcv_model.bestModel.stages[-1]._java_obj.getMaxBins())\n",
    "#print(\"best num trees: %s\" %rfcv_model.bestModel.stages[-1]._java_obj.getNumTrees())"
   ]
  },
  {
   "cell_type": "code",
   "execution_count": 73,
   "id": "26b5f37e",
   "metadata": {},
   "outputs": [],
   "source": [
    "# get predictions of best model of on test set (cv_model automatically uses best model)\n",
    "rfcv_preds = rfcv_model.transform(test)"
   ]
  },
  {
   "cell_type": "markdown",
   "id": "f0843f62",
   "metadata": {},
   "source": [
    "#### Do the same for the model without weights"
   ]
  },
  {
   "cell_type": "code",
   "execution_count": 74,
   "id": "d1940a30",
   "metadata": {},
   "outputs": [],
   "source": [
    "# first define the pipeline for the random forest without fitting the data\n",
    "#RF_pipeline_w = Pipeline().setStages([IDX, num_VA,SI_media, SI_hour, SI_week_day, SI_month,\n",
    "#                                    SI_day_month, cat_VA_RF, indexer, VA_all_RF, RF_without])"
   ]
  },
  {
   "cell_type": "code",
   "execution_count": 75,
   "id": "99567e70",
   "metadata": {},
   "outputs": [],
   "source": [
    "# define the parameter space\n",
    "#rfparamGrid = (ParamGridBuilder().addGrid(RF.maxDepth, [5, 15, 30])\n",
    "#                                   .build())"
   ]
  },
  {
   "cell_type": "code",
   "execution_count": 76,
   "id": "7d2baa09",
   "metadata": {},
   "outputs": [],
   "source": [
    "# perform 5-fold cross validation\n",
    "#rfcv_model_w = CrossValidator(estimator=RF_pipeline_w, \n",
    "#                          estimatorParamMaps=rfparamGrid, \n",
    "#                          evaluator=evaluator_mc,\n",
    "#                          numFolds=5)"
   ]
  },
  {
   "cell_type": "code",
   "execution_count": 77,
   "id": "727f323c",
   "metadata": {},
   "outputs": [],
   "source": [
    "# run cross validation on trainig set\n",
    "#rfcv_model_w = rfcv_model_w.fit(train)"
   ]
  },
  {
   "cell_type": "code",
   "execution_count": 78,
   "id": "0858968c",
   "metadata": {},
   "outputs": [
    {
     "name": "stdout",
     "output_type": "stream",
     "text": [
      "best max depth: 5\n",
      "best max bins: 32\n",
      "best num trees: 20\n"
     ]
    }
   ],
   "source": [
    "# inspect best params\n",
    "#print(\"best max depth: %s\" %rfcv_model_w.bestModel.stages[-1]._java_obj.getMaxDepth())\n",
    "#print(\"best max bins: %s\" %rfcv_model_w.bestModel.stages[-1]._java_obj.getMaxBins())\n",
    "#print(\"best num trees: %s\" %rfcv_model_w.bestModel.stages[-1]._java_obj.getNumTrees())"
   ]
  },
  {
   "cell_type": "markdown",
   "id": "710aaa3f",
   "metadata": {},
   "source": [
    "#### Train the random forest model with optimal parameters on 10% of the data."
   ]
  },
  {
   "cell_type": "code",
   "execution_count": 62,
   "id": "e59de927",
   "metadata": {},
   "outputs": [],
   "source": [
    "# define pipeline model and fit on training data\n",
    "RF_pipeline = Pipeline().setStages([IDX, num_VA,SI_media, SI_hour, SI_week_day, SI_month,\n",
    "                                    SI_day_month, cat_VA_RF, indexer, VA_all_RF, RF])\\\n",
    "                        .fit(train)\n",
    "\n",
    "RF_pipeline_w = Pipeline().setStages([IDX, num_VA,SI_media, SI_hour, SI_week_day, SI_month,\n",
    "                                    SI_day_month, cat_VA_RF, indexer, VA_all_RF, RF_without])\\\n",
    "                        .fit(train)"
   ]
  },
  {
   "cell_type": "code",
   "execution_count": 63,
   "id": "42c5b8a4",
   "metadata": {},
   "outputs": [],
   "source": [
    "# get predictions on test set\n",
    "rf_preds = RF_pipeline.transform(test)\n",
    "rf_preds_w = RF_pipeline_w.transform(test)"
   ]
  },
  {
   "cell_type": "markdown",
   "id": "728d2a99",
   "metadata": {},
   "source": [
    "#### Evaluate"
   ]
  },
  {
   "cell_type": "code",
   "execution_count": null,
   "id": "65f37064",
   "metadata": {},
   "outputs": [],
   "source": []
  },
  {
   "cell_type": "code",
   "execution_count": 64,
   "id": "148dc5d7",
   "metadata": {},
   "outputs": [],
   "source": [
    "# get metrics for RF model\n",
    "rf_f1 = evaluator_mc.evaluate(rf_preds, {evaluator_mc.metricName: \"f1\"})\n",
    "rf_accuracy = evaluator_mc.evaluate(rf_preds, {evaluator_mc.metricName: \"accuracy\"})\n",
    "rf_recall = evaluator_mc.evaluate(rf_preds, {evaluator_mc.metricName: \"weightedRecall\"})\n",
    "rf_precision = evaluator_mc.evaluate(rf_preds, {evaluator_mc.metricName: \"weightedPrecision\"})\n",
    "rf_weighted_TPR = evaluator_mc.evaluate(rf_preds, {evaluator_mc.metricName: \"weightedTruePositiveRate\"})\n",
    "rf_weighted_FPR = evaluator_mc.evaluate(rf_preds, {evaluator_mc.metricName: \"weightedFalsePositiveRate\"})"
   ]
  },
  {
   "cell_type": "code",
   "execution_count": null,
   "id": "5277923c",
   "metadata": {},
   "outputs": [],
   "source": [
    "# get metrics for RF model without weights\n",
    "rf_f1_w = evaluator_mc.evaluate(rf_preds_w, {evaluator_mc.metricName: \"f1\"})\n",
    "rf_accuracy_w = evaluator_mc.evaluate(rf_preds_w, {evaluator_mc.metricName: \"accuracy\"})\n",
    "rf_recall_w = evaluator_mc.evaluate(rf_preds_w, {evaluator_mc.metricName: \"weightedRecall\"})\n",
    "rf_precision_w = evaluator_mc.evaluate(rf_preds_w, {evaluator_mc.metricName: \"weightedPrecision\"})\n",
    "rf_weighted_TPR_w = evaluator_mc.evaluate(rf_preds_w, {evaluator_mc.metricName: \"weightedTruePositiveRate\"})\n",
    "rf_weighted_FPR_w = evaluator_mc.evaluate(rf_preds_w, {evaluator_mc.metricName: \"weightedFalsePositiveRate\"})"
   ]
  },
  {
   "cell_type": "code",
   "execution_count": 65,
   "id": "18fd7e44",
   "metadata": {},
   "outputs": [
    {
     "name": "stdout",
     "output_type": "stream",
     "text": [
      "Random Forest:\n",
      "  F1       : 0.803417\n",
      "  ACCURACY : 0.807641\n",
      "  RECALL   : 0.795165\n",
      "  PRECISION   : 0.786446\n",
      "  WEIGHTED_TPR   : 0.8063\n",
      "  WEIGHTED_FPR   : 0.567836\n"
     ]
    }
   ],
   "source": [
    "# check which of both algorithms is the best:\n",
    "print(\"Random Forest:\")\n",
    "print('  F1       : %g' % rf_f1)\n",
    "print('  ACCURACY : %g' % rf_accuracy)\n",
    "print('  RECALL   : %g' % rf_recall)\n",
    "print('  PRECISION   : %g' % rf_precision)\n",
    "print('  WEIGHTED_TPR   : %g' % rf_weighted_TPR)\n",
    "print('  WEIGHTED_FPR   : %g' % rf_weighted_FPR)\n",
    "\n",
    "# check which of both algorithms is the best:\n",
    "print(\"Random Forest without weights:\")\n",
    "print('  F1       : %g' % rf_f1)\n",
    "print('  ACCURACY : %g' % rf_accuracy)\n",
    "print('  RECALL   : %g' % rf_recall)\n",
    "print('  PRECISION   : %g' % rf_precision)\n",
    "print('  WEIGHTED_TPR   : %g' % rf_weighted_TPR)\n",
    "print('  WEIGHTED_FPR   : %g' % rf_weighted_FPR)"
   ]
  },
  {
   "cell_type": "code",
   "execution_count": null,
   "id": "414f0e77",
   "metadata": {},
   "outputs": [],
   "source": []
  },
  {
   "cell_type": "markdown",
   "id": "8249d325",
   "metadata": {},
   "source": [
    "# 6. Interpretation models"
   ]
  },
  {
   "cell_type": "markdown",
   "id": "2ab6e0f6",
   "metadata": {},
   "source": [
    "## 6.1 Interpretation logistic regression"
   ]
  },
  {
   "cell_type": "code",
   "execution_count": 149,
   "id": "1d67ae09",
   "metadata": {},
   "outputs": [
    {
     "data": {
      "text/plain": [
       "DenseMatrix(3, 90, [0.0002, 0.0, -0.0197, 0.03, -0.0095, 7.7889, 0.6779, 0.2101, ..., 1.1321, 0.6005, 0.1518, 2.8907, 2.2686, 0.2909, -0.3584, -0.6844], 1)"
      ]
     },
     "execution_count": 149,
     "metadata": {},
     "output_type": "execute_result"
    }
   ],
   "source": [
    "# get the coefficients of logistic regression model\n",
    "lr_model = LR_pipeline_w.stages[-1]\n",
    "lr_model.coefficientMatrix"
   ]
  },
  {
   "cell_type": "code",
   "execution_count": 194,
   "id": "e8428f4d",
   "metadata": {},
   "outputs": [],
   "source": [
    "# Print the coefficients and intercept for multinomial logistic regression\n",
    "#print(\"Coefficients: \\n\" + str(lr_model.coefficientMatrix))\n",
    "#print(\"Intercept: \" + str(lr_model.interceptVector))"
   ]
  },
  {
   "cell_type": "code",
   "execution_count": 156,
   "id": "c502c567",
   "metadata": {},
   "outputs": [
    {
     "name": "stdout",
     "output_type": "stream",
     "text": [
      "+-----+--------------------+\n",
      "|label|            features|\n",
      "+-----+--------------------+\n",
      "|  0.0|(90,[0,1,2,3,4,8,...|\n",
      "|  1.0|(90,[0,1,4,8,9,10...|\n",
      "|  0.0|(90,[0,1,3,4,8,9,...|\n",
      "|  0.0|(90,[1,4,8,10,11,...|\n",
      "|  0.0|(90,[1,4,8,10,11,...|\n",
      "+-----+--------------------+\n",
      "only showing top 5 rows\n",
      "\n"
     ]
    }
   ],
   "source": [
    "# transform training set\n",
    "train_final = LR_pipeline_w.transform(train).select([\"label\", \"features\"])\n",
    "train_final.show(5)"
   ]
  },
  {
   "cell_type": "code",
   "execution_count": 161,
   "id": "6cf764c9",
   "metadata": {},
   "outputs": [],
   "source": [
    "# let's get a better overview by including the feature names:\n",
    "\n",
    "# get coefficients and intercept\n",
    "lr_model_coef = lr_model.coefficientMatrix\n",
    "\n",
    "# get feature names and sort in correct order\n",
    "names = [x[\"name\"] for x in sorted(train_final.schema[\"features\"].metadata[\"ml_attr\"][\"attrs\"][\"numeric\"]+\n",
    "                                   train_final.schema[\"features\"].metadata[\"ml_attr\"][\"attrs\"][\"binary\"], \n",
    "                                   key = lambda x: x[\"idx\"])]\n",
    "\n"
   ]
  },
  {
   "cell_type": "markdown",
   "id": "1bf88f84",
   "metadata": {},
   "source": [
    "#### look at the coefficients of the different engagement classes"
   ]
  },
  {
   "cell_type": "code",
   "execution_count": 208,
   "id": "b2751d32",
   "metadata": {},
   "outputs": [
    {
     "name": "stderr",
     "output_type": "stream",
     "text": [
      "iteritems is deprecated and will be removed in a future version. Use .items instead.\n",
      "iteritems is deprecated and will be removed in a future version. Use .items instead.\n",
      "iteritems is deprecated and will be removed in a future version. Use .items instead.\n",
      "iteritems is deprecated and will be removed in a future version. Use .items instead.\n",
      "iteritems is deprecated and will be removed in a future version. Use .items instead.\n",
      "iteritems is deprecated and will be removed in a future version. Use .items instead.\n"
     ]
    },
    {
     "name": "stdout",
     "output_type": "stream",
     "text": [
      "+------------------------------------------+--------------------+--------------------+------------------+\n",
      "|Feature                                   |Coefvalue_class_0   |Coefvalue_class_1   |Coefvalue_class_2 |\n",
      "+------------------------------------------+--------------------+--------------------+------------------+\n",
      "|cat_features_symbol_ind_OHE_0             |-6.968351059392397  |4.07766344975417    |2.8906876096382272|\n",
      "|cat_features_media_type_index_OHE_photo   |-1.8627528709520536 |-0.7632739983063173 |2.6260268692583706|\n",
      "|cat_features_media_type_index_OHE_video   |-1.4294827539496617 |-0.9609025894078955 |2.3903853433575573|\n",
      "|cat_features_media_type_index_OHE_no_media|-1.891018855994217  |-0.43561071821821645|2.326629574212433 |\n",
      "|cat_features_verified_OHE_0               |-6.098733511268289  |3.8300871397540703  |2.2686463715142193|\n",
      "|cat_features_day_month_index_OHE_19       |0.04152014453921685 |-1.3506458084358146 |1.3091256638965978|\n",
      "|cat_features_day_month_index_OHE_25       |-0.8076095158039918 |-0.32446930121027706|1.1320788170142688|\n",
      "|cat_features_day_month_index_OHE_11       |-0.36111291286929803|-0.6795332757714166 |1.0406461886407148|\n",
      "|cat_features_day_month_index_OHE_6        |-0.48816583660917084|-0.4948735657631727 |0.9830394023723436|\n",
      "|cat_features_day_month_index_OHE_4        |-0.13722670011518764|-0.7148544776213736 |0.8520811777365611|\n",
      "+------------------------------------------+--------------------+--------------------+------------------+\n",
      "only showing top 10 rows\n",
      "\n",
      "+-----------------------------------+--------------------+-------------------+--------------------+\n",
      "|Feature                            |Coefvalue_class_0   |Coefvalue_class_1  |Coefvalue_class_2   |\n",
      "+-----------------------------------+--------------------+-------------------+--------------------+\n",
      "|num_features_num_hashtags          |7.788864329645243   |-3.9437457424260165|-3.845118587219227  |\n",
      "|cat_features_day_month_index_OHE_20|0.08763707567707262 |0.7660465908262908 |-0.8536836665033634 |\n",
      "|sentiment                          |0.40056744093532415 |0.2838228795049631 |-0.6843903204402872 |\n",
      "|cat_features_month_index_OHE_11    |0.4718816728861469  |0.1368874559473677 |-0.6087691288335145 |\n",
      "|cat_features_week_day_index_OHE_Sat|0.12348412097231642 |0.2739216150951055 |-0.39740573606742197|\n",
      "|subjectivity                       |0.05456136242203767 |0.3038259599995875 |-0.3583873224216252 |\n",
      "|cat_features_week_day_index_OHE_Sun|-0.045975157170896  |0.40246961656099717|-0.35649445939010116|\n",
      "|cat_features_hour_index_OHE_22     |0.1661715431675222  |0.17377956980152415|-0.33995111296904634|\n",
      "|cat_features_week_day_index_OHE_Fri|0.09915611057158254 |0.1822730730303622 |-0.28142918360194474|\n",
      "|num_features_nr_media_elements     |-0.16001194327206447|0.3833567630321526 |-0.22334481976008816|\n",
      "+-----------------------------------+--------------------+-------------------+--------------------+\n",
      "only showing top 10 rows\n",
      "\n"
     ]
    }
   ],
   "source": [
    "# create 2D numpy array for different classes\n",
    "lr_coefs_class_0 = np.column_stack((np.array(names), lr_model_coef.toArray()[0]))\n",
    "lr_coefs_class_1 = np.column_stack((np.array(names), lr_model_coef.toArray()[1]))\n",
    "lr_coefs_class_2 = np.column_stack((np.array(names), lr_model_coef.toArray()[2]))\n",
    "\n",
    "# convert to spark dataframe for each class\n",
    "# for class 0\n",
    "coefs_df_0 = pd.DataFrame(lr_coefs_class_0)\n",
    "coefs_df_0.columns=['Feature', 'Coefvalue_class_0']\n",
    "coefs_df_0 = spark.createDataFrame(coefs_df_0)\n",
    "coefs_df_0 = coefs_df_0.withColumn(\"Coefvalue_class_0\", F.col(\"Coefvalue_class_0\").cast('double'))\n",
    "\n",
    "# for class 1\n",
    "coefs_df_1 = pd.DataFrame(lr_coefs_class_1)\n",
    "coefs_df_1.columns=['Feature', 'Coefvalue_class_1']\n",
    "coefs_df_1 = spark.createDataFrame(coefs_df_1)\n",
    "coefs_df_1 = coefs_df_1.withColumn(\"Coefvalue_class_1\", F.col(\"Coefvalue_class_1\").cast('double'))\n",
    "\n",
    "# for class 2\n",
    "coefs_df_2 = pd.DataFrame(lr_coefs_class_2)\n",
    "coefs_df_2.columns=['Feature', 'Coefvalue_class_2']\n",
    "coefs_df_2 = spark.createDataFrame(coefs_df_2)\n",
    "coefs_df_2 = coefs_df_2.withColumn(\"Coefvalue_class_2\", F.col(\"Coefvalue_class_2\").cast('double'))\n",
    "\n",
    "# join the 3 dataframes\n",
    "coefs_df = coefs_df_0.join(coefs_df_1, on = \"Feature\", how=\"inner\") \\\n",
    "                     .join(coefs_df_2, on = \"Feature\", how=\"inner\")\n",
    "\n",
    "# show highest values\n",
    "coefs_df.sort('Coefvalue_class_2', ascending = False).show(10, truncate=False)\n",
    "\n",
    "# show lowest values\n",
    "coefs_df.sort('Coefvalue_class_2', ascending = True).show(10, truncate=False)"
   ]
  },
  {
   "cell_type": "code",
   "execution_count": null,
   "id": "8ee1f4f6",
   "metadata": {},
   "outputs": [],
   "source": []
  },
  {
   "cell_type": "markdown",
   "id": "6189e975",
   "metadata": {},
   "source": [
    "## 6.2 Interpretation Random Forest"
   ]
  },
  {
   "cell_type": "markdown",
   "id": "76ee61ec",
   "metadata": {},
   "source": []
  },
  {
   "cell_type": "code",
   "execution_count": null,
   "id": "762b8986",
   "metadata": {},
   "outputs": [],
   "source": [
    "# inspect the data\n",
    "preds_and_labels = rf_preds_w.select(['prediction','label'])\n",
    "preds_and_labels.show(5)"
   ]
  },
  {
   "cell_type": "code",
   "execution_count": 77,
   "id": "ead01724",
   "metadata": {},
   "outputs": [
    {
     "data": {
      "text/plain": [
       "<sklearn.metrics._plot.confusion_matrix.ConfusionMatrixDisplay at 0x7ffb102755b0>"
      ]
     },
     "execution_count": 77,
     "metadata": {},
     "output_type": "execute_result"
    },
    {
     "data": {
      "image/png": "[encoded data removed]",
      "text/plain": [
       "<Figure size 432x288 with 2 Axes>"
      ]
     },
     "metadata": {
      "needs_background": "light"
     },
     "output_type": "display_data"
    }
   ],
   "source": [
    "# get predictions and labels\n",
    "preds_and_labels = rf_preds_w.select(['prediction','label']) \\\n",
    "                                  .withColumn('label', F.col('label').cast(FloatType())) \\\n",
    "                                  .orderBy('prediction') \\\n",
    "                                  .toPandas()\n",
    "\n",
    "# get confusion matrix\n",
    "cm = confusion_matrix(preds_and_labels[\"label\"], preds_and_labels[\"prediction\"], labels=[0, 1, 2])\n",
    "# get confusion matrix figure\n",
    "disp = ConfusionMatrixDisplay(confusion_matrix=cm, display_labels=[0, 1, 2])\n",
    "# plot figure\n",
    "disp.plot()"
   ]
  },
  {
   "cell_type": "markdown",
   "id": "701ba1d8",
   "metadata": {},
   "source": [
    "## 6.2 Variable importance"
   ]
  },
  {
   "cell_type": "code",
   "execution_count": 254,
   "id": "3f89553a",
   "metadata": {},
   "outputs": [],
   "source": [
    "import matplotlib.pyplot as plt \n",
    "# inspect feature importance\n",
    "feature_importance = RF_pipeline_w.stages[-1].featureImportances.toArray()\n",
    "#feature_importance\n"
   ]
  },
  {
   "cell_type": "code",
   "execution_count": 167,
   "id": "1633990e",
   "metadata": {},
   "outputs": [
    {
     "name": "stdout",
     "output_type": "stream",
     "text": [
      "+-----+--------------------+\n",
      "|label|            features|\n",
      "+-----+--------------------+\n",
      "|  0.0|(90,[0,1,2,3,4,8,...|\n",
      "|  1.0|(90,[0,1,4,8,9,10...|\n",
      "|  0.0|(90,[0,1,3,4,8,9,...|\n",
      "|  0.0|(90,[1,4,8,10,11,...|\n",
      "|  0.0|(90,[1,4,8,10,11,...|\n",
      "+-----+--------------------+\n",
      "only showing top 5 rows\n",
      "\n"
     ]
    }
   ],
   "source": [
    "# transform training set\n",
    "train_final = RF_pipeline_w.transform(train).select([\"label\", \"features\"])\n",
    "train_final.show(5)"
   ]
  },
  {
   "cell_type": "code",
   "execution_count": 209,
   "id": "a5564427",
   "metadata": {},
   "outputs": [],
   "source": [
    "# let's get a better overview by including the feature names:\n",
    "# import required packages\n",
    "import pandas as pd\n",
    "import numpy as np\n",
    "\n",
    "# get coefficients and intercept\n",
    "feature_importance = RF_pipeline_w.stages[-1].featureImportances.toArray()\n",
    "\n",
    "# get feature names and sort in correct order\n",
    "names = [x[\"name\"] for x in sorted(train_final.schema[\"features\"].metadata[\"ml_attr\"][\"attrs\"][\"numeric\"]+\n",
    "                                   train_final.schema[\"features\"].metadata[\"ml_attr\"][\"attrs\"][\"binary\"], \n",
    "                                   key = lambda x: x[\"idx\"])]"
   ]
  },
  {
   "cell_type": "code",
   "execution_count": 227,
   "id": "04405d91",
   "metadata": {},
   "outputs": [
    {
     "name": "stdout",
     "output_type": "stream",
     "text": [
      "+------------------------------+--------------------+\n",
      "|Feature                       |Importance          |\n",
      "+------------------------------+--------------------+\n",
      "|num_features_nr_tweets_by_user|0.3315560604631174  |\n",
      "|num_features_user_following   |0.19810661708468527 |\n",
      "|num_features_user_age_days    |0.13721927020978572 |\n",
      "|num_features_num_words        |0.031203895193690035|\n",
      "|num_features_upper_case_words |0.026535627375610892|\n",
      "+------------------------------+--------------------+\n",
      "only showing top 5 rows\n",
      "\n"
     ]
    },
    {
     "name": "stderr",
     "output_type": "stream",
     "text": [
      "iteritems is deprecated and will be removed in a future version. Use .items instead.\n",
      "iteritems is deprecated and will be removed in a future version. Use .items instead.\n"
     ]
    }
   ],
   "source": [
    "# create 2D numpy array\n",
    "var_imp = np.column_stack((np.array(names), feature_importance))\n",
    "\n",
    "var_imp = pd.DataFrame(var_imp)\n",
    "var_imp.columns=['Feature', 'Importance']\n",
    "var_imp = spark.createDataFrame(var_imp)\n",
    "var_imp = var_imp.withColumn(\"Importance\", F.col(\"Importance\").cast('double'))\n",
    "\n",
    "\n",
    "# show highest values\n",
    "var_imp.sort('Importance', ascending = False).show(5, truncate=False)\n",
    "\n",
    "# show lowest values\n",
    "#var_imp.sort('Importance', ascending = True).show(5, truncate=False)"
   ]
  },
  {
   "cell_type": "code",
   "execution_count": 236,
   "id": "a777af4f",
   "metadata": {},
   "outputs": [
    {
     "data": {
      "image/png": "[encoded data removed]",
      "text/plain": [
       "<Figure size 1440x720 with 1 Axes>"
      ]
     },
     "metadata": {
      "needs_background": "light"
     },
     "output_type": "display_data"
    }
   ],
   "source": [
    "# plot\n",
    "plt.figure(figsize=(20, 10))\n",
    "plt.bar(x=range(len(feature_importance)), height=feature_importance)\n",
    "plt.xticks(range(len(feature_importance)), np.array(names), rotation=90)\n",
    "plt.show()"
   ]
  },
  {
   "cell_type": "code",
   "execution_count": null,
   "id": "130bbf6f",
   "metadata": {},
   "outputs": [],
   "source": [
    "# plot\n",
    "plt.figure(figsize=(20, 10))\n",
    "plt.bar(x=range(len(important_features)), height=important_features)\n",
    "plt.xticks(range(len(important_features)), np.array(names), rotation=90)\n",
    "plt.show()"
   ]
  },
  {
   "cell_type": "code",
   "execution_count": 240,
   "id": "a50466c9",
   "metadata": {},
   "outputs": [],
   "source": []
  },
  {
   "cell_type": "code",
   "execution_count": 291,
   "id": "0d0ea7cd",
   "metadata": {},
   "outputs": [
    {
     "data": {
      "text/html": [
       "<div>\n",
       "<style scoped>\n",
       "    .dataframe tbody tr th:only-of-type {\n",
       "        vertical-align: middle;\n",
       "    }\n",
       "\n",
       "    .dataframe tbody tr th {\n",
       "        vertical-align: top;\n",
       "    }\n",
       "\n",
       "    .dataframe thead th {\n",
       "        text-align: right;\n",
       "    }\n",
       "</style>\n",
       "<table border=\"1\" class=\"dataframe\">\n",
       "  <thead>\n",
       "    <tr style=\"text-align: right;\">\n",
       "      <th></th>\n",
       "      <th>Feature</th>\n",
       "      <th>Importance</th>\n",
       "      <th>Coefvalue_class_0</th>\n",
       "      <th>Coefvalue_class_1</th>\n",
       "      <th>Coefvalue_class_2</th>\n",
       "      <th>Coefvalue_class_2</th>\n",
       "    </tr>\n",
       "  </thead>\n",
       "  <tbody>\n",
       "    <tr>\n",
       "      <th>0</th>\n",
       "      <td>num_features_nr_tweets_by_user</td>\n",
       "      <td>0.331556</td>\n",
       "      <td>0.000048</td>\n",
       "      <td>0.000014</td>\n",
       "      <td>-0.000062</td>\n",
       "      <td>-0.000062</td>\n",
       "    </tr>\n",
       "    <tr>\n",
       "      <th>1</th>\n",
       "      <td>num_features_user_following</td>\n",
       "      <td>0.198107</td>\n",
       "      <td>0.000235</td>\n",
       "      <td>-0.000141</td>\n",
       "      <td>-0.000095</td>\n",
       "      <td>-0.000095</td>\n",
       "    </tr>\n",
       "    <tr>\n",
       "      <th>2</th>\n",
       "      <td>num_features_user_age_days</td>\n",
       "      <td>0.137219</td>\n",
       "      <td>0.000158</td>\n",
       "      <td>0.000022</td>\n",
       "      <td>-0.000181</td>\n",
       "      <td>-0.000181</td>\n",
       "    </tr>\n",
       "    <tr>\n",
       "      <th>3</th>\n",
       "      <td>num_features_num_words</td>\n",
       "      <td>0.031204</td>\n",
       "      <td>-0.009470</td>\n",
       "      <td>0.025913</td>\n",
       "      <td>-0.016444</td>\n",
       "      <td>-0.016444</td>\n",
       "    </tr>\n",
       "    <tr>\n",
       "      <th>4</th>\n",
       "      <td>num_features_upper_case_words</td>\n",
       "      <td>0.026536</td>\n",
       "      <td>0.029983</td>\n",
       "      <td>-0.038070</td>\n",
       "      <td>0.008087</td>\n",
       "      <td>0.008087</td>\n",
       "    </tr>\n",
       "    <tr>\n",
       "      <th>5</th>\n",
       "      <td>subjectivity</td>\n",
       "      <td>0.025882</td>\n",
       "      <td>0.054561</td>\n",
       "      <td>0.303826</td>\n",
       "      <td>-0.358387</td>\n",
       "      <td>-0.358387</td>\n",
       "    </tr>\n",
       "    <tr>\n",
       "      <th>6</th>\n",
       "      <td>num_features_nr_text_char</td>\n",
       "      <td>0.021757</td>\n",
       "      <td>0.001128</td>\n",
       "      <td>-0.002963</td>\n",
       "      <td>0.001835</td>\n",
       "      <td>0.001835</td>\n",
       "    </tr>\n",
       "    <tr>\n",
       "      <th>7</th>\n",
       "      <td>sentiment</td>\n",
       "      <td>0.015102</td>\n",
       "      <td>0.400567</td>\n",
       "      <td>0.283823</td>\n",
       "      <td>-0.684390</td>\n",
       "      <td>-0.684390</td>\n",
       "    </tr>\n",
       "    <tr>\n",
       "      <th>8</th>\n",
       "      <td>polarity</td>\n",
       "      <td>0.012592</td>\n",
       "      <td>0.193951</td>\n",
       "      <td>-0.484896</td>\n",
       "      <td>0.290946</td>\n",
       "      <td>0.290946</td>\n",
       "    </tr>\n",
       "    <tr>\n",
       "      <th>9</th>\n",
       "      <td>cat_features_media_type_index_OHE_no_media</td>\n",
       "      <td>0.012470</td>\n",
       "      <td>-1.891019</td>\n",
       "      <td>-0.435611</td>\n",
       "      <td>2.326630</td>\n",
       "      <td>2.326630</td>\n",
       "    </tr>\n",
       "    <tr>\n",
       "      <th>10</th>\n",
       "      <td>num_features_num_emojis</td>\n",
       "      <td>0.011547</td>\n",
       "      <td>-0.019742</td>\n",
       "      <td>0.007945</td>\n",
       "      <td>0.011798</td>\n",
       "      <td>0.011798</td>\n",
       "    </tr>\n",
       "    <tr>\n",
       "      <th>11</th>\n",
       "      <td>cat_features_month_index_OHE_3</td>\n",
       "      <td>0.011224</td>\n",
       "      <td>0.495618</td>\n",
       "      <td>-0.406709</td>\n",
       "      <td>-0.088909</td>\n",
       "      <td>-0.088909</td>\n",
       "    </tr>\n",
       "    <tr>\n",
       "      <th>12</th>\n",
       "      <td>cat_features_hour_index_OHE_10</td>\n",
       "      <td>0.009774</td>\n",
       "      <td>0.107604</td>\n",
       "      <td>-0.245110</td>\n",
       "      <td>0.137505</td>\n",
       "      <td>0.137505</td>\n",
       "    </tr>\n",
       "    <tr>\n",
       "      <th>13</th>\n",
       "      <td>cat_features_hour_index_OHE_16</td>\n",
       "      <td>0.007943</td>\n",
       "      <td>0.130880</td>\n",
       "      <td>-0.189212</td>\n",
       "      <td>0.058332</td>\n",
       "      <td>0.058332</td>\n",
       "    </tr>\n",
       "    <tr>\n",
       "      <th>14</th>\n",
       "      <td>cat_features_week_day_index_OHE_Wed</td>\n",
       "      <td>0.007618</td>\n",
       "      <td>0.103951</td>\n",
       "      <td>-0.103503</td>\n",
       "      <td>-0.000449</td>\n",
       "      <td>-0.000449</td>\n",
       "    </tr>\n",
       "    <tr>\n",
       "      <th>15</th>\n",
       "      <td>cat_features_day_month_index_OHE_1</td>\n",
       "      <td>0.006369</td>\n",
       "      <td>-0.338917</td>\n",
       "      <td>-0.139817</td>\n",
       "      <td>0.478734</td>\n",
       "      <td>0.478734</td>\n",
       "    </tr>\n",
       "    <tr>\n",
       "      <th>16</th>\n",
       "      <td>cat_features_day_month_index_OHE_3</td>\n",
       "      <td>0.005984</td>\n",
       "      <td>-0.381203</td>\n",
       "      <td>-0.339775</td>\n",
       "      <td>0.720977</td>\n",
       "      <td>0.720977</td>\n",
       "    </tr>\n",
       "    <tr>\n",
       "      <th>17</th>\n",
       "      <td>cat_features_hour_index_OHE_5</td>\n",
       "      <td>0.005573</td>\n",
       "      <td>0.147093</td>\n",
       "      <td>-0.053132</td>\n",
       "      <td>-0.093962</td>\n",
       "      <td>-0.093962</td>\n",
       "    </tr>\n",
       "    <tr>\n",
       "      <th>18</th>\n",
       "      <td>cat_features_week_day_index_OHE_Sun</td>\n",
       "      <td>0.005533</td>\n",
       "      <td>-0.045975</td>\n",
       "      <td>0.402470</td>\n",
       "      <td>-0.356494</td>\n",
       "      <td>-0.356494</td>\n",
       "    </tr>\n",
       "    <tr>\n",
       "      <th>19</th>\n",
       "      <td>cat_features_day_month_index_OHE_28</td>\n",
       "      <td>0.005447</td>\n",
       "      <td>-0.007080</td>\n",
       "      <td>-0.152819</td>\n",
       "      <td>0.159899</td>\n",
       "      <td>0.159899</td>\n",
       "    </tr>\n",
       "  </tbody>\n",
       "</table>\n",
       "</div>"
      ],
      "text/plain": [
       "                                       Feature  Importance  Coefvalue_class_0  \\\n",
       "0               num_features_nr_tweets_by_user    0.331556           0.000048   \n",
       "1                  num_features_user_following    0.198107           0.000235   \n",
       "2                   num_features_user_age_days    0.137219           0.000158   \n",
       "3                       num_features_num_words    0.031204          -0.009470   \n",
       "4                num_features_upper_case_words    0.026536           0.029983   \n",
       "5                                 subjectivity    0.025882           0.054561   \n",
       "6                    num_features_nr_text_char    0.021757           0.001128   \n",
       "7                                    sentiment    0.015102           0.400567   \n",
       "8                                     polarity    0.012592           0.193951   \n",
       "9   cat_features_media_type_index_OHE_no_media    0.012470          -1.891019   \n",
       "10                     num_features_num_emojis    0.011547          -0.019742   \n",
       "11              cat_features_month_index_OHE_3    0.011224           0.495618   \n",
       "12              cat_features_hour_index_OHE_10    0.009774           0.107604   \n",
       "13              cat_features_hour_index_OHE_16    0.007943           0.130880   \n",
       "14         cat_features_week_day_index_OHE_Wed    0.007618           0.103951   \n",
       "15          cat_features_day_month_index_OHE_1    0.006369          -0.338917   \n",
       "16          cat_features_day_month_index_OHE_3    0.005984          -0.381203   \n",
       "17               cat_features_hour_index_OHE_5    0.005573           0.147093   \n",
       "18         cat_features_week_day_index_OHE_Sun    0.005533          -0.045975   \n",
       "19         cat_features_day_month_index_OHE_28    0.005447          -0.007080   \n",
       "\n",
       "    Coefvalue_class_1  Coefvalue_class_2  Coefvalue_class_2  \n",
       "0            0.000014          -0.000062          -0.000062  \n",
       "1           -0.000141          -0.000095          -0.000095  \n",
       "2            0.000022          -0.000181          -0.000181  \n",
       "3            0.025913          -0.016444          -0.016444  \n",
       "4           -0.038070           0.008087           0.008087  \n",
       "5            0.303826          -0.358387          -0.358387  \n",
       "6           -0.002963           0.001835           0.001835  \n",
       "7            0.283823          -0.684390          -0.684390  \n",
       "8           -0.484896           0.290946           0.290946  \n",
       "9           -0.435611           2.326630           2.326630  \n",
       "10           0.007945           0.011798           0.011798  \n",
       "11          -0.406709          -0.088909          -0.088909  \n",
       "12          -0.245110           0.137505           0.137505  \n",
       "13          -0.189212           0.058332           0.058332  \n",
       "14          -0.103503          -0.000449          -0.000449  \n",
       "15          -0.139817           0.478734           0.478734  \n",
       "16          -0.339775           0.720977           0.720977  \n",
       "17          -0.053132          -0.093962          -0.093962  \n",
       "18           0.402470          -0.356494          -0.356494  \n",
       "19          -0.152819           0.159899           0.159899  "
      ]
     },
     "execution_count": 291,
     "metadata": {},
     "output_type": "execute_result"
    }
   ],
   "source": [
    "# join these results with the results from the logistic regression to determine the importance\n",
    "# of the features:\n",
    "# join the 3 dataframes\n",
    "interpretation = var_imp.join(coefs_df, on = \"Feature\", how=\"inner\") \\\n",
    "                     .join(coefs_df_2, on = \"Feature\", how=\"inner\")\n",
    "\n",
    "# show most important variables\n",
    "interpretation.sort('Importance', ascending = False).toPandas().head(20)"
   ]
  },
  {
   "cell_type": "code",
   "execution_count": 292,
   "id": "a5f8e00b",
   "metadata": {},
   "outputs": [
    {
     "name": "stdout",
     "output_type": "stream",
     "text": [
      "+-----------------+-----+\n",
      "|nr_tweets_by_user|count|\n",
      "+-----------------+-----+\n",
      "|            58877|    1|\n",
      "|            46424|    1|\n",
      "|               26|    7|\n",
      "|            17971|    1|\n",
      "|            92741|    1|\n",
      "|           537860|    1|\n",
      "|             4371|    1|\n",
      "|             1840|    2|\n",
      "|            84995|    1|\n",
      "|            72882|    1|\n",
      "|             1145|    1|\n",
      "|             1642|    2|\n",
      "|             4509|    1|\n",
      "|            32895|    1|\n",
      "|              720|    3|\n",
      "|           124523|    1|\n",
      "|             6508|    1|\n",
      "|               19|    1|\n",
      "|              847|    1|\n",
      "|            29829|    1|\n",
      "+-----------------+-----+\n",
      "only showing top 20 rows\n",
      "\n"
     ]
    }
   ],
   "source": []
  },
  {
   "cell_type": "code",
   "execution_count": null,
   "id": "6fc50f53",
   "metadata": {},
   "outputs": [],
   "source": []
  },
  {
   "cell_type": "code",
   "execution_count": null,
   "id": "2a1c334a",
   "metadata": {},
   "outputs": [],
   "source": []
  },
  {
   "cell_type": "code",
   "execution_count": null,
   "id": "2702be3c",
   "metadata": {},
   "outputs": [],
   "source": []
  },
  {
   "cell_type": "code",
   "execution_count": 235,
   "id": "921e7a68",
   "metadata": {},
   "outputs": [],
   "source": [
    "# visualize\n",
    "#tree = RF_pipeline.stages[-1]\n",
    "#display(tree) #visualize the decision tree model\n",
    "#print(tree.toDebugString) #print the nodes of the decision tree model"
   ]
  },
  {
   "cell_type": "code",
   "execution_count": null,
   "id": "687d5028",
   "metadata": {},
   "outputs": [],
   "source": []
  }
 ],
 "metadata": {
  "kernelspec": {
   "display_name": "Python 3",
   "language": "python",
   "name": "python3"
  },
  "language_info": {
   "codemirror_mode": {
    "name": "ipython",
    "version": 3
   },
   "file_extension": ".py",
   "mimetype": "text/x-python",
   "name": "python",
   "nbconvert_exporter": "python",
   "pygments_lexer": "ipython3",
   "version": "3.8.8"
  }
 },
 "nbformat": 4,
 "nbformat_minor": 5
}
