{
 "cells": [
  {
   "cell_type": "code",
   "execution_count": 1,
   "id": "25441181",
   "metadata": {},
   "outputs": [],
   "source": [
    "# import findspark\n",
    "import findspark\n",
    "# initialize findspark with spark directory\n",
    "findspark.init(\"C:\\BigData\\BigData\\spark-3.1.2-bin-hadoop3.2\")\n",
    "# import pyspark\n",
    "import pyspark\n",
    "# create spark context\n",
    "sc = pyspark.SparkContext()\n",
    "# create spark session \n",
    "spark = pyspark.sql.SparkSession(sc)"
   ]
  },
  {
   "cell_type": "code",
   "execution_count": 2,
   "id": "ef99d42e",
   "metadata": {},
   "outputs": [
    {
     "data": {
      "text/html": [
       "\n",
       "            <div>\n",
       "                <p><b>SparkSession - in-memory</b></p>\n",
       "                \n",
       "        <div>\n",
       "            <p><b>SparkContext</b></p>\n",
       "\n",
       "            <p><a href=\"http://LAPTOP-1A2OK5T5:4040\">Spark UI</a></p>\n",
       "\n",
       "            <dl>\n",
       "              <dt>Version</dt>\n",
       "                <dd><code>v3.1.2</code></dd>\n",
       "              <dt>Master</dt>\n",
       "                <dd><code>local[*]</code></dd>\n",
       "              <dt>AppName</dt>\n",
       "                <dd><code>pyspark-shell</code></dd>\n",
       "            </dl>\n",
       "        </div>\n",
       "        \n",
       "            </div>\n",
       "        "
      ],
      "text/plain": [
       "<pyspark.sql.session.SparkSession at 0x2063c2d4a60>"
      ]
     },
     "execution_count": 2,
     "metadata": {},
     "output_type": "execute_result"
    }
   ],
   "source": [
    "# check\n",
    "spark"
   ]
  },
  {
   "cell_type": "code",
   "execution_count": 300,
   "id": "64446e3f",
   "metadata": {},
   "outputs": [],
   "source": [
    "# import packages\n",
    "import os \n",
    "import pickle\n",
    "\n",
    "import re\n",
    "import time\n",
    "import datetime\n",
    "from datetime import datetime\n",
    "import requests\n",
    "import matplotlib.pyplot as plt \n",
    "import pytz\n",
    "import emojis\n",
    "\n",
    "import pandas as pd\n",
    "import numpy as np\n",
    "import ast\n",
    "\n",
    "import pyspark.sql.functions as F\n",
    "from pyspark.sql.types import *\n",
    "\n",
    "from pyspark.ml.feature import Tokenizer\n",
    "from pyspark.ml.feature import StopWordsRemover\n",
    "import tweepy\n",
    "import csv\n",
    "import pandas as pd\n",
    "import os\n",
    "import json\n",
    "import plotly.express as px\n",
    "from pandas.tseries.holiday import nearest_workday, \\\n",
    "    AbstractHolidayCalendar, Holiday, \\\n",
    "    USMartinLutherKingJr, USPresidentsDay, GoodFriday, \\\n",
    "    USMemorialDay, USLaborDay, USThanksgivingDay\n",
    "from sklearn.metrics import roc_curve, auc\n",
    "from sklearn.datasets import make_classification\n",
    "from sklearn import metrics"
   ]
  },
  {
   "cell_type": "markdown",
   "id": "bdeee130",
   "metadata": {},
   "source": [
    "# 1. Import Data & Exploration"
   ]
  },
  {
   "cell_type": "code",
   "execution_count": 4,
   "id": "420f4dc0",
   "metadata": {},
   "outputs": [],
   "source": [
    "# import the data \n",
    "list_brands = [\"healthyfood\",\n",
    "               \"healthylifestyle\",\n",
    "               \"vegan\",\n",
    "               \"keto\",\n",
    "               \"ketodiet\",\n",
    "               \"ketolifestyle\",\n",
    "               \"veganism\",\n",
    "               \"vegetarian\"]\n",
    "from re import search\n",
    "\n",
    "\n",
    "\n",
    "data_dir = \".././../data/Topic/\"\n",
    "tweet_files = [os.path.join(data_dir, obs) for obs in os.listdir(data_dir)]\n",
    "\n",
    "\n",
    "\n",
    "files_brand = [file for file in tweet_files if (file.find(list_brands[2]) != -1)]\n",
    "files_brand               \n",
    "               \n",
    "df_json = spark.read.option(\"multiline\",\"true\").json(files_brand)  \n",
    "# df_json.count() = 1827680"
   ]
  },
  {
   "cell_type": "code",
   "execution_count": 5,
   "id": "a0193122",
   "metadata": {},
   "outputs": [
    {
     "name": "stdout",
     "output_type": "stream",
     "text": [
      "root\n",
      " |-- contributors: string (nullable = true)\n",
      " |-- coordinates: struct (nullable = true)\n",
      " |    |-- coordinates: array (nullable = true)\n",
      " |    |    |-- element: double (containsNull = true)\n",
      " |    |-- type: string (nullable = true)\n",
      " |-- created_at: string (nullable = true)\n",
      " |-- display_text_range: array (nullable = true)\n",
      " |    |-- element: long (containsNull = true)\n",
      " |-- entities: struct (nullable = true)\n",
      " |    |-- hashtags: array (nullable = true)\n",
      " |    |    |-- element: struct (containsNull = true)\n",
      " |    |    |    |-- indices: array (nullable = true)\n",
      " |    |    |    |    |-- element: long (containsNull = true)\n",
      " |    |    |    |-- text: string (nullable = true)\n",
      " |    |-- media: array (nullable = true)\n",
      " |    |    |-- element: struct (containsNull = true)\n",
      " |    |    |    |-- display_url: string (nullable = true)\n",
      " |    |    |    |-- expanded_url: string (nullable = true)\n",
      " |    |    |    |-- id: long (nullable = true)\n",
      " |    |    |    |-- id_str: string (nullable = true)\n",
      " |    |    |    |-- indices: array (nullable = true)\n",
      " |    |    |    |    |-- element: long (containsNull = true)\n",
      " |    |    |    |-- media_url: string (nullable = true)\n",
      " |    |    |    |-- media_url_https: string (nullable = true)\n",
      " |    |    |    |-- sizes: struct (nullable = true)\n",
      " |    |    |    |    |-- large: struct (nullable = true)\n",
      " |    |    |    |    |    |-- h: long (nullable = true)\n",
      " |    |    |    |    |    |-- resize: string (nullable = true)\n",
      " |    |    |    |    |    |-- w: long (nullable = true)\n",
      " |    |    |    |    |-- medium: struct (nullable = true)\n",
      " |    |    |    |    |    |-- h: long (nullable = true)\n",
      " |    |    |    |    |    |-- resize: string (nullable = true)\n",
      " |    |    |    |    |    |-- w: long (nullable = true)\n",
      " |    |    |    |    |-- small: struct (nullable = true)\n",
      " |    |    |    |    |    |-- h: long (nullable = true)\n",
      " |    |    |    |    |    |-- resize: string (nullable = true)\n",
      " |    |    |    |    |    |-- w: long (nullable = true)\n",
      " |    |    |    |    |-- thumb: struct (nullable = true)\n",
      " |    |    |    |    |    |-- h: long (nullable = true)\n",
      " |    |    |    |    |    |-- resize: string (nullable = true)\n",
      " |    |    |    |    |    |-- w: long (nullable = true)\n",
      " |    |    |    |-- source_status_id: long (nullable = true)\n",
      " |    |    |    |-- source_status_id_str: string (nullable = true)\n",
      " |    |    |    |-- source_user_id: long (nullable = true)\n",
      " |    |    |    |-- source_user_id_str: string (nullable = true)\n",
      " |    |    |    |-- type: string (nullable = true)\n",
      " |    |    |    |-- url: string (nullable = true)\n",
      " |    |-- symbols: array (nullable = true)\n",
      " |    |    |-- element: struct (containsNull = true)\n",
      " |    |    |    |-- indices: array (nullable = true)\n",
      " |    |    |    |    |-- element: long (containsNull = true)\n",
      " |    |    |    |-- text: string (nullable = true)\n",
      " |    |-- urls: array (nullable = true)\n",
      " |    |    |-- element: struct (containsNull = true)\n",
      " |    |    |    |-- display_url: string (nullable = true)\n",
      " |    |    |    |-- expanded_url: string (nullable = true)\n",
      " |    |    |    |-- indices: array (nullable = true)\n",
      " |    |    |    |    |-- element: long (containsNull = true)\n",
      " |    |    |    |-- url: string (nullable = true)\n",
      " |    |-- user_mentions: array (nullable = true)\n",
      " |    |    |-- element: struct (containsNull = true)\n",
      " |    |    |    |-- id: long (nullable = true)\n",
      " |    |    |    |-- id_str: string (nullable = true)\n",
      " |    |    |    |-- indices: array (nullable = true)\n",
      " |    |    |    |    |-- element: long (containsNull = true)\n",
      " |    |    |    |-- name: string (nullable = true)\n",
      " |    |    |    |-- screen_name: string (nullable = true)\n",
      " |-- extended_entities: struct (nullable = true)\n",
      " |    |-- media: array (nullable = true)\n",
      " |    |    |-- element: struct (containsNull = true)\n",
      " |    |    |    |-- additional_media_info: struct (nullable = true)\n",
      " |    |    |    |    |-- call_to_actions: struct (nullable = true)\n",
      " |    |    |    |    |    |-- visit_site: struct (nullable = true)\n",
      " |    |    |    |    |    |    |-- url: string (nullable = true)\n",
      " |    |    |    |    |    |-- watch_now: struct (nullable = true)\n",
      " |    |    |    |    |    |    |-- url: string (nullable = true)\n",
      " |    |    |    |    |-- description: string (nullable = true)\n",
      " |    |    |    |    |-- embeddable: boolean (nullable = true)\n",
      " |    |    |    |    |-- monetizable: boolean (nullable = true)\n",
      " |    |    |    |    |-- source_user: struct (nullable = true)\n",
      " |    |    |    |    |    |-- contributors_enabled: boolean (nullable = true)\n",
      " |    |    |    |    |    |-- created_at: string (nullable = true)\n",
      " |    |    |    |    |    |-- default_profile: boolean (nullable = true)\n",
      " |    |    |    |    |    |-- default_profile_image: boolean (nullable = true)\n",
      " |    |    |    |    |    |-- description: string (nullable = true)\n",
      " |    |    |    |    |    |-- entities: struct (nullable = true)\n",
      " |    |    |    |    |    |    |-- description: struct (nullable = true)\n",
      " |    |    |    |    |    |    |    |-- urls: array (nullable = true)\n",
      " |    |    |    |    |    |    |    |    |-- element: struct (containsNull = true)\n",
      " |    |    |    |    |    |    |    |    |    |-- display_url: string (nullable = true)\n",
      " |    |    |    |    |    |    |    |    |    |-- expanded_url: string (nullable = true)\n",
      " |    |    |    |    |    |    |    |    |    |-- indices: array (nullable = true)\n",
      " |    |    |    |    |    |    |    |    |    |    |-- element: long (containsNull = true)\n",
      " |    |    |    |    |    |    |    |    |    |-- url: string (nullable = true)\n",
      " |    |    |    |    |    |    |-- url: struct (nullable = true)\n",
      " |    |    |    |    |    |    |    |-- urls: array (nullable = true)\n",
      " |    |    |    |    |    |    |    |    |-- element: struct (containsNull = true)\n",
      " |    |    |    |    |    |    |    |    |    |-- display_url: string (nullable = true)\n",
      " |    |    |    |    |    |    |    |    |    |-- expanded_url: string (nullable = true)\n",
      " |    |    |    |    |    |    |    |    |    |-- indices: array (nullable = true)\n",
      " |    |    |    |    |    |    |    |    |    |    |-- element: long (containsNull = true)\n",
      " |    |    |    |    |    |    |    |    |    |-- url: string (nullable = true)\n",
      " |    |    |    |    |    |-- favourites_count: long (nullable = true)\n",
      " |    |    |    |    |    |-- follow_request_sent: boolean (nullable = true)\n",
      " |    |    |    |    |    |-- followers_count: long (nullable = true)\n",
      " |    |    |    |    |    |-- following: boolean (nullable = true)\n",
      " |    |    |    |    |    |-- friends_count: long (nullable = true)\n",
      " |    |    |    |    |    |-- geo_enabled: boolean (nullable = true)\n",
      " |    |    |    |    |    |-- has_extended_profile: boolean (nullable = true)\n",
      " |    |    |    |    |    |-- id: long (nullable = true)\n",
      " |    |    |    |    |    |-- id_str: string (nullable = true)\n",
      " |    |    |    |    |    |-- is_translation_enabled: boolean (nullable = true)\n",
      " |    |    |    |    |    |-- is_translator: boolean (nullable = true)\n",
      " |    |    |    |    |    |-- lang: string (nullable = true)\n",
      " |    |    |    |    |    |-- listed_count: long (nullable = true)\n",
      " |    |    |    |    |    |-- location: string (nullable = true)\n",
      " |    |    |    |    |    |-- name: string (nullable = true)\n",
      " |    |    |    |    |    |-- notifications: boolean (nullable = true)\n",
      " |    |    |    |    |    |-- profile_background_color: string (nullable = true)\n",
      " |    |    |    |    |    |-- profile_background_image_url: string (nullable = true)\n",
      " |    |    |    |    |    |-- profile_background_image_url_https: string (nullable = true)\n",
      " |    |    |    |    |    |-- profile_background_tile: boolean (nullable = true)\n",
      " |    |    |    |    |    |-- profile_banner_url: string (nullable = true)\n",
      " |    |    |    |    |    |-- profile_image_url: string (nullable = true)\n",
      " |    |    |    |    |    |-- profile_image_url_https: string (nullable = true)\n",
      " |    |    |    |    |    |-- profile_link_color: string (nullable = true)\n",
      " |    |    |    |    |    |-- profile_sidebar_border_color: string (nullable = true)\n",
      " |    |    |    |    |    |-- profile_sidebar_fill_color: string (nullable = true)\n",
      " |    |    |    |    |    |-- profile_text_color: string (nullable = true)\n",
      " |    |    |    |    |    |-- profile_use_background_image: boolean (nullable = true)\n",
      " |    |    |    |    |    |-- protected: boolean (nullable = true)\n",
      " |    |    |    |    |    |-- screen_name: string (nullable = true)\n",
      " |    |    |    |    |    |-- statuses_count: long (nullable = true)\n",
      " |    |    |    |    |    |-- time_zone: string (nullable = true)\n",
      " |    |    |    |    |    |-- translator_type: string (nullable = true)\n",
      " |    |    |    |    |    |-- url: string (nullable = true)\n",
      " |    |    |    |    |    |-- utc_offset: string (nullable = true)\n",
      " |    |    |    |    |    |-- verified: boolean (nullable = true)\n",
      " |    |    |    |    |    |-- withheld_in_countries: array (nullable = true)\n",
      " |    |    |    |    |    |    |-- element: string (containsNull = true)\n",
      " |    |    |    |    |-- title: string (nullable = true)\n",
      " |    |    |    |-- display_url: string (nullable = true)\n",
      " |    |    |    |-- expanded_url: string (nullable = true)\n",
      " |    |    |    |-- id: long (nullable = true)\n",
      " |    |    |    |-- id_str: string (nullable = true)\n",
      " |    |    |    |-- indices: array (nullable = true)\n",
      " |    |    |    |    |-- element: long (containsNull = true)\n",
      " |    |    |    |-- media_url: string (nullable = true)\n",
      " |    |    |    |-- media_url_https: string (nullable = true)\n",
      " |    |    |    |-- sizes: struct (nullable = true)\n",
      " |    |    |    |    |-- large: struct (nullable = true)\n",
      " |    |    |    |    |    |-- h: long (nullable = true)\n",
      " |    |    |    |    |    |-- resize: string (nullable = true)\n",
      " |    |    |    |    |    |-- w: long (nullable = true)\n",
      " |    |    |    |    |-- medium: struct (nullable = true)\n",
      " |    |    |    |    |    |-- h: long (nullable = true)\n",
      " |    |    |    |    |    |-- resize: string (nullable = true)\n",
      " |    |    |    |    |    |-- w: long (nullable = true)\n",
      " |    |    |    |    |-- small: struct (nullable = true)\n",
      " |    |    |    |    |    |-- h: long (nullable = true)\n",
      " |    |    |    |    |    |-- resize: string (nullable = true)\n",
      " |    |    |    |    |    |-- w: long (nullable = true)\n",
      " |    |    |    |    |-- thumb: struct (nullable = true)\n",
      " |    |    |    |    |    |-- h: long (nullable = true)\n",
      " |    |    |    |    |    |-- resize: string (nullable = true)\n",
      " |    |    |    |    |    |-- w: long (nullable = true)\n",
      " |    |    |    |-- source_status_id: long (nullable = true)\n",
      " |    |    |    |-- source_status_id_str: string (nullable = true)\n",
      " |    |    |    |-- source_user_id: long (nullable = true)\n",
      " |    |    |    |-- source_user_id_str: string (nullable = true)\n",
      " |    |    |    |-- type: string (nullable = true)\n",
      " |    |    |    |-- url: string (nullable = true)\n",
      " |    |    |    |-- video_info: struct (nullable = true)\n",
      " |    |    |    |    |-- aspect_ratio: array (nullable = true)\n",
      " |    |    |    |    |    |-- element: long (containsNull = true)\n",
      " |    |    |    |    |-- duration_millis: long (nullable = true)\n",
      " |    |    |    |    |-- variants: array (nullable = true)\n",
      " |    |    |    |    |    |-- element: struct (containsNull = true)\n",
      " |    |    |    |    |    |    |-- bitrate: long (nullable = true)\n",
      " |    |    |    |    |    |    |-- content_type: string (nullable = true)\n",
      " |    |    |    |    |    |    |-- url: string (nullable = true)\n",
      " |-- favorite_count: long (nullable = true)\n",
      " |-- favorited: boolean (nullable = true)\n",
      " |-- full_text: string (nullable = true)\n",
      " |-- geo: struct (nullable = true)\n",
      " |    |-- coordinates: array (nullable = true)\n",
      " |    |    |-- element: double (containsNull = true)\n",
      " |    |-- type: string (nullable = true)\n",
      " |-- id: long (nullable = true)\n",
      " |-- id_str: string (nullable = true)\n",
      " |-- in_reply_to_screen_name: string (nullable = true)\n",
      " |-- in_reply_to_status_id: long (nullable = true)\n",
      " |-- in_reply_to_status_id_str: string (nullable = true)\n",
      " |-- in_reply_to_user_id: long (nullable = true)\n",
      " |-- in_reply_to_user_id_str: string (nullable = true)\n",
      " |-- is_quote_status: boolean (nullable = true)\n",
      " |-- lang: string (nullable = true)\n",
      " |-- metadata: struct (nullable = true)\n",
      " |    |-- iso_language_code: string (nullable = true)\n",
      " |    |-- result_type: string (nullable = true)\n",
      " |-- place: struct (nullable = true)\n",
      " |    |-- bounding_box: struct (nullable = true)\n",
      " |    |    |-- coordinates: array (nullable = true)\n",
      " |    |    |    |-- element: array (containsNull = true)\n",
      " |    |    |    |    |-- element: array (containsNull = true)\n",
      " |    |    |    |    |    |-- element: double (containsNull = true)\n",
      " |    |    |-- type: string (nullable = true)\n",
      " |    |-- contained_within: array (nullable = true)\n",
      " |    |    |-- element: string (containsNull = true)\n",
      " |    |-- country: string (nullable = true)\n",
      " |    |-- country_code: string (nullable = true)\n",
      " |    |-- full_name: string (nullable = true)\n",
      " |    |-- id: string (nullable = true)\n",
      " |    |-- name: string (nullable = true)\n",
      " |    |-- place_type: string (nullable = true)\n",
      " |    |-- url: string (nullable = true)\n",
      " |-- possibly_sensitive: boolean (nullable = true)\n",
      " |-- quoted_status: struct (nullable = true)\n",
      " |    |-- contributors: string (nullable = true)\n",
      " |    |-- coordinates: struct (nullable = true)\n",
      " |    |    |-- coordinates: array (nullable = true)\n",
      " |    |    |    |-- element: double (containsNull = true)\n",
      " |    |    |-- type: string (nullable = true)\n",
      " |    |-- created_at: string (nullable = true)\n",
      " |    |-- display_text_range: array (nullable = true)\n",
      " |    |    |-- element: long (containsNull = true)\n",
      " |    |-- entities: struct (nullable = true)\n",
      " |    |    |-- hashtags: array (nullable = true)\n",
      " |    |    |    |-- element: struct (containsNull = true)\n",
      " |    |    |    |    |-- indices: array (nullable = true)\n",
      " |    |    |    |    |    |-- element: long (containsNull = true)\n",
      " |    |    |    |    |-- text: string (nullable = true)\n",
      " |    |    |-- media: array (nullable = true)\n",
      " |    |    |    |-- element: struct (containsNull = true)\n",
      " |    |    |    |    |-- display_url: string (nullable = true)\n",
      " |    |    |    |    |-- expanded_url: string (nullable = true)\n",
      " |    |    |    |    |-- id: long (nullable = true)\n",
      " |    |    |    |    |-- id_str: string (nullable = true)\n",
      " |    |    |    |    |-- indices: array (nullable = true)\n",
      " |    |    |    |    |    |-- element: long (containsNull = true)\n",
      " |    |    |    |    |-- media_url: string (nullable = true)\n",
      " |    |    |    |    |-- media_url_https: string (nullable = true)\n",
      " |    |    |    |    |-- sizes: struct (nullable = true)\n",
      " |    |    |    |    |    |-- large: struct (nullable = true)\n",
      " |    |    |    |    |    |    |-- h: long (nullable = true)\n",
      " |    |    |    |    |    |    |-- resize: string (nullable = true)\n",
      " |    |    |    |    |    |    |-- w: long (nullable = true)\n",
      " |    |    |    |    |    |-- medium: struct (nullable = true)\n",
      " |    |    |    |    |    |    |-- h: long (nullable = true)\n",
      " |    |    |    |    |    |    |-- resize: string (nullable = true)\n",
      " |    |    |    |    |    |    |-- w: long (nullable = true)\n",
      " |    |    |    |    |    |-- small: struct (nullable = true)\n",
      " |    |    |    |    |    |    |-- h: long (nullable = true)\n",
      " |    |    |    |    |    |    |-- resize: string (nullable = true)\n",
      " |    |    |    |    |    |    |-- w: long (nullable = true)\n",
      " |    |    |    |    |    |-- thumb: struct (nullable = true)\n",
      " |    |    |    |    |    |    |-- h: long (nullable = true)\n",
      " |    |    |    |    |    |    |-- resize: string (nullable = true)\n",
      " |    |    |    |    |    |    |-- w: long (nullable = true)\n",
      " |    |    |    |    |-- source_status_id: long (nullable = true)\n",
      " |    |    |    |    |-- source_status_id_str: string (nullable = true)\n",
      " |    |    |    |    |-- source_user_id: long (nullable = true)\n",
      " |    |    |    |    |-- source_user_id_str: string (nullable = true)\n",
      " |    |    |    |    |-- type: string (nullable = true)\n",
      " |    |    |    |    |-- url: string (nullable = true)\n",
      " |    |    |-- symbols: array (nullable = true)\n",
      " |    |    |    |-- element: struct (containsNull = true)\n",
      " |    |    |    |    |-- indices: array (nullable = true)\n",
      " |    |    |    |    |    |-- element: long (containsNull = true)\n",
      " |    |    |    |    |-- text: string (nullable = true)\n",
      " |    |    |-- urls: array (nullable = true)\n",
      " |    |    |    |-- element: struct (containsNull = true)\n",
      " |    |    |    |    |-- display_url: string (nullable = true)\n",
      " |    |    |    |    |-- expanded_url: string (nullable = true)\n",
      " |    |    |    |    |-- indices: array (nullable = true)\n",
      " |    |    |    |    |    |-- element: long (containsNull = true)\n",
      " |    |    |    |    |-- url: string (nullable = true)\n",
      " |    |    |-- user_mentions: array (nullable = true)\n",
      " |    |    |    |-- element: struct (containsNull = true)\n",
      " |    |    |    |    |-- id: long (nullable = true)\n",
      " |    |    |    |    |-- id_str: string (nullable = true)\n",
      " |    |    |    |    |-- indices: array (nullable = true)\n",
      " |    |    |    |    |    |-- element: long (containsNull = true)\n",
      " |    |    |    |    |-- name: string (nullable = true)\n",
      " |    |    |    |    |-- screen_name: string (nullable = true)\n",
      " |    |-- extended_entities: struct (nullable = true)\n",
      " |    |    |-- media: array (nullable = true)\n",
      " |    |    |    |-- element: struct (containsNull = true)\n",
      " |    |    |    |    |-- additional_media_info: struct (nullable = true)\n",
      " |    |    |    |    |    |-- call_to_actions: struct (nullable = true)\n",
      " |    |    |    |    |    |    |-- visit_site: struct (nullable = true)\n",
      " |    |    |    |    |    |    |    |-- url: string (nullable = true)\n",
      " |    |    |    |    |    |    |-- watch_now: struct (nullable = true)\n",
      " |    |    |    |    |    |    |    |-- url: string (nullable = true)\n",
      " |    |    |    |    |    |-- description: string (nullable = true)\n",
      " |    |    |    |    |    |-- embeddable: boolean (nullable = true)\n",
      " |    |    |    |    |    |-- monetizable: boolean (nullable = true)\n",
      " |    |    |    |    |    |-- source_user: struct (nullable = true)\n",
      " |    |    |    |    |    |    |-- contributors_enabled: boolean (nullable = true)\n",
      " |    |    |    |    |    |    |-- created_at: string (nullable = true)\n",
      " |    |    |    |    |    |    |-- default_profile: boolean (nullable = true)\n",
      " |    |    |    |    |    |    |-- default_profile_image: boolean (nullable = true)\n",
      " |    |    |    |    |    |    |-- description: string (nullable = true)\n",
      " |    |    |    |    |    |    |-- entities: struct (nullable = true)\n",
      " |    |    |    |    |    |    |    |-- description: struct (nullable = true)\n",
      " |    |    |    |    |    |    |    |    |-- urls: array (nullable = true)\n",
      " |    |    |    |    |    |    |    |    |    |-- element: struct (containsNull = true)\n",
      " |    |    |    |    |    |    |    |    |    |    |-- display_url: string (nullable = true)\n",
      " |    |    |    |    |    |    |    |    |    |    |-- expanded_url: string (nullable = true)\n",
      " |    |    |    |    |    |    |    |    |    |    |-- indices: array (nullable = true)\n",
      " |    |    |    |    |    |    |    |    |    |    |    |-- element: long (containsNull = true)\n",
      " |    |    |    |    |    |    |    |    |    |    |-- url: string (nullable = true)\n",
      " |    |    |    |    |    |    |    |-- url: struct (nullable = true)\n",
      " |    |    |    |    |    |    |    |    |-- urls: array (nullable = true)\n",
      " |    |    |    |    |    |    |    |    |    |-- element: struct (containsNull = true)\n",
      " |    |    |    |    |    |    |    |    |    |    |-- display_url: string (nullable = true)\n",
      " |    |    |    |    |    |    |    |    |    |    |-- expanded_url: string (nullable = true)\n",
      " |    |    |    |    |    |    |    |    |    |    |-- indices: array (nullable = true)\n",
      " |    |    |    |    |    |    |    |    |    |    |    |-- element: long (containsNull = true)\n",
      " |    |    |    |    |    |    |    |    |    |    |-- url: string (nullable = true)\n",
      " |    |    |    |    |    |    |-- favourites_count: long (nullable = true)\n",
      " |    |    |    |    |    |    |-- follow_request_sent: boolean (nullable = true)\n",
      " |    |    |    |    |    |    |-- followers_count: long (nullable = true)\n",
      " |    |    |    |    |    |    |-- following: boolean (nullable = true)\n",
      " |    |    |    |    |    |    |-- friends_count: long (nullable = true)\n",
      " |    |    |    |    |    |    |-- geo_enabled: boolean (nullable = true)\n",
      " |    |    |    |    |    |    |-- has_extended_profile: boolean (nullable = true)\n",
      " |    |    |    |    |    |    |-- id: long (nullable = true)\n",
      " |    |    |    |    |    |    |-- id_str: string (nullable = true)\n",
      " |    |    |    |    |    |    |-- is_translation_enabled: boolean (nullable = true)\n",
      " |    |    |    |    |    |    |-- is_translator: boolean (nullable = true)\n",
      " |    |    |    |    |    |    |-- lang: string (nullable = true)\n",
      " |    |    |    |    |    |    |-- listed_count: long (nullable = true)\n",
      " |    |    |    |    |    |    |-- location: string (nullable = true)\n",
      " |    |    |    |    |    |    |-- name: string (nullable = true)\n",
      " |    |    |    |    |    |    |-- notifications: boolean (nullable = true)\n",
      " |    |    |    |    |    |    |-- profile_background_color: string (nullable = true)\n",
      " |    |    |    |    |    |    |-- profile_background_image_url: string (nullable = true)\n",
      " |    |    |    |    |    |    |-- profile_background_image_url_https: string (nullable = true)\n",
      " |    |    |    |    |    |    |-- profile_background_tile: boolean (nullable = true)\n",
      " |    |    |    |    |    |    |-- profile_banner_url: string (nullable = true)\n",
      " |    |    |    |    |    |    |-- profile_image_url: string (nullable = true)\n",
      " |    |    |    |    |    |    |-- profile_image_url_https: string (nullable = true)\n",
      " |    |    |    |    |    |    |-- profile_link_color: string (nullable = true)\n",
      " |    |    |    |    |    |    |-- profile_sidebar_border_color: string (nullable = true)\n",
      " |    |    |    |    |    |    |-- profile_sidebar_fill_color: string (nullable = true)\n",
      " |    |    |    |    |    |    |-- profile_text_color: string (nullable = true)\n",
      " |    |    |    |    |    |    |-- profile_use_background_image: boolean (nullable = true)\n",
      " |    |    |    |    |    |    |-- protected: boolean (nullable = true)\n",
      " |    |    |    |    |    |    |-- screen_name: string (nullable = true)\n",
      " |    |    |    |    |    |    |-- statuses_count: long (nullable = true)\n",
      " |    |    |    |    |    |    |-- time_zone: string (nullable = true)\n",
      " |    |    |    |    |    |    |-- translator_type: string (nullable = true)\n",
      " |    |    |    |    |    |    |-- url: string (nullable = true)\n",
      " |    |    |    |    |    |    |-- utc_offset: string (nullable = true)\n",
      " |    |    |    |    |    |    |-- verified: boolean (nullable = true)\n",
      " |    |    |    |    |    |    |-- withheld_in_countries: array (nullable = true)\n",
      " |    |    |    |    |    |    |    |-- element: string (containsNull = true)\n",
      " |    |    |    |    |    |-- title: string (nullable = true)\n",
      " |    |    |    |    |-- display_url: string (nullable = true)\n",
      " |    |    |    |    |-- expanded_url: string (nullable = true)\n",
      " |    |    |    |    |-- id: long (nullable = true)\n",
      " |    |    |    |    |-- id_str: string (nullable = true)\n",
      " |    |    |    |    |-- indices: array (nullable = true)\n",
      " |    |    |    |    |    |-- element: long (containsNull = true)\n",
      " |    |    |    |    |-- media_url: string (nullable = true)\n",
      " |    |    |    |    |-- media_url_https: string (nullable = true)\n",
      " |    |    |    |    |-- sizes: struct (nullable = true)\n",
      " |    |    |    |    |    |-- large: struct (nullable = true)\n",
      " |    |    |    |    |    |    |-- h: long (nullable = true)\n",
      " |    |    |    |    |    |    |-- resize: string (nullable = true)\n",
      " |    |    |    |    |    |    |-- w: long (nullable = true)\n",
      " |    |    |    |    |    |-- medium: struct (nullable = true)\n",
      " |    |    |    |    |    |    |-- h: long (nullable = true)\n",
      " |    |    |    |    |    |    |-- resize: string (nullable = true)\n",
      " |    |    |    |    |    |    |-- w: long (nullable = true)\n",
      " |    |    |    |    |    |-- small: struct (nullable = true)\n",
      " |    |    |    |    |    |    |-- h: long (nullable = true)\n",
      " |    |    |    |    |    |    |-- resize: string (nullable = true)\n",
      " |    |    |    |    |    |    |-- w: long (nullable = true)\n",
      " |    |    |    |    |    |-- thumb: struct (nullable = true)\n",
      " |    |    |    |    |    |    |-- h: long (nullable = true)\n",
      " |    |    |    |    |    |    |-- resize: string (nullable = true)\n",
      " |    |    |    |    |    |    |-- w: long (nullable = true)\n",
      " |    |    |    |    |-- source_status_id: long (nullable = true)\n",
      " |    |    |    |    |-- source_status_id_str: string (nullable = true)\n",
      " |    |    |    |    |-- source_user_id: long (nullable = true)\n",
      " |    |    |    |    |-- source_user_id_str: string (nullable = true)\n",
      " |    |    |    |    |-- type: string (nullable = true)\n",
      " |    |    |    |    |-- url: string (nullable = true)\n",
      " |    |    |    |    |-- video_info: struct (nullable = true)\n",
      " |    |    |    |    |    |-- aspect_ratio: array (nullable = true)\n",
      " |    |    |    |    |    |    |-- element: long (containsNull = true)\n",
      " |    |    |    |    |    |-- duration_millis: long (nullable = true)\n",
      " |    |    |    |    |    |-- variants: array (nullable = true)\n",
      " |    |    |    |    |    |    |-- element: struct (containsNull = true)\n",
      " |    |    |    |    |    |    |    |-- bitrate: long (nullable = true)\n",
      " |    |    |    |    |    |    |    |-- content_type: string (nullable = true)\n",
      " |    |    |    |    |    |    |    |-- url: string (nullable = true)\n",
      " |    |-- favorite_count: long (nullable = true)\n",
      " |    |-- favorited: boolean (nullable = true)\n",
      " |    |-- full_text: string (nullable = true)\n",
      " |    |-- geo: struct (nullable = true)\n",
      " |    |    |-- coordinates: array (nullable = true)\n",
      " |    |    |    |-- element: double (containsNull = true)\n",
      " |    |    |-- type: string (nullable = true)\n",
      " |    |-- id: long (nullable = true)\n",
      " |    |-- id_str: string (nullable = true)\n",
      " |    |-- in_reply_to_screen_name: string (nullable = true)\n",
      " |    |-- in_reply_to_status_id: long (nullable = true)\n",
      " |    |-- in_reply_to_status_id_str: string (nullable = true)\n",
      " |    |-- in_reply_to_user_id: long (nullable = true)\n",
      " |    |-- in_reply_to_user_id_str: string (nullable = true)\n",
      " |    |-- is_quote_status: boolean (nullable = true)\n",
      " |    |-- lang: string (nullable = true)\n",
      " |    |-- metadata: struct (nullable = true)\n",
      " |    |    |-- iso_language_code: string (nullable = true)\n",
      " |    |    |-- result_type: string (nullable = true)\n",
      " |    |-- place: struct (nullable = true)\n",
      " |    |    |-- bounding_box: struct (nullable = true)\n",
      " |    |    |    |-- coordinates: array (nullable = true)\n",
      " |    |    |    |    |-- element: array (containsNull = true)\n",
      " |    |    |    |    |    |-- element: array (containsNull = true)\n",
      " |    |    |    |    |    |    |-- element: double (containsNull = true)\n",
      " |    |    |    |-- type: string (nullable = true)\n",
      " |    |    |-- contained_within: array (nullable = true)\n",
      " |    |    |    |-- element: string (containsNull = true)\n",
      " |    |    |-- country: string (nullable = true)\n",
      " |    |    |-- country_code: string (nullable = true)\n",
      " |    |    |-- full_name: string (nullable = true)\n",
      " |    |    |-- id: string (nullable = true)\n",
      " |    |    |-- name: string (nullable = true)\n",
      " |    |    |-- place_type: string (nullable = true)\n",
      " |    |    |-- url: string (nullable = true)\n",
      " |    |-- possibly_sensitive: boolean (nullable = true)\n",
      " |    |-- quoted_status_id: long (nullable = true)\n",
      " |    |-- quoted_status_id_str: string (nullable = true)\n",
      " |    |-- retweet_count: long (nullable = true)\n",
      " |    |-- retweeted: boolean (nullable = true)\n",
      " |    |-- scopes: struct (nullable = true)\n",
      " |    |    |-- followers: boolean (nullable = true)\n",
      " |    |-- source: string (nullable = true)\n",
      " |    |-- truncated: boolean (nullable = true)\n",
      " |    |-- user: struct (nullable = true)\n",
      " |    |    |-- contributors_enabled: boolean (nullable = true)\n",
      " |    |    |-- created_at: string (nullable = true)\n",
      " |    |    |-- default_profile: boolean (nullable = true)\n",
      " |    |    |-- default_profile_image: boolean (nullable = true)\n",
      " |    |    |-- description: string (nullable = true)\n",
      " |    |    |-- entities: struct (nullable = true)\n",
      " |    |    |    |-- description: struct (nullable = true)\n",
      " |    |    |    |    |-- urls: array (nullable = true)\n",
      " |    |    |    |    |    |-- element: struct (containsNull = true)\n",
      " |    |    |    |    |    |    |-- display_url: string (nullable = true)\n",
      " |    |    |    |    |    |    |-- expanded_url: string (nullable = true)\n",
      " |    |    |    |    |    |    |-- indices: array (nullable = true)\n",
      " |    |    |    |    |    |    |    |-- element: long (containsNull = true)\n",
      " |    |    |    |    |    |    |-- url: string (nullable = true)\n",
      " |    |    |    |-- url: struct (nullable = true)\n",
      " |    |    |    |    |-- urls: array (nullable = true)\n",
      " |    |    |    |    |    |-- element: struct (containsNull = true)\n",
      " |    |    |    |    |    |    |-- display_url: string (nullable = true)\n",
      " |    |    |    |    |    |    |-- expanded_url: string (nullable = true)\n",
      " |    |    |    |    |    |    |-- indices: array (nullable = true)\n",
      " |    |    |    |    |    |    |    |-- element: long (containsNull = true)\n",
      " |    |    |    |    |    |    |-- url: string (nullable = true)\n",
      " |    |    |-- favourites_count: long (nullable = true)\n",
      " |    |    |-- follow_request_sent: boolean (nullable = true)\n",
      " |    |    |-- followers_count: long (nullable = true)\n",
      " |    |    |-- following: boolean (nullable = true)\n",
      " |    |    |-- friends_count: long (nullable = true)\n",
      " |    |    |-- geo_enabled: boolean (nullable = true)\n",
      " |    |    |-- has_extended_profile: boolean (nullable = true)\n",
      " |    |    |-- id: long (nullable = true)\n",
      " |    |    |-- id_str: string (nullable = true)\n",
      " |    |    |-- is_translation_enabled: boolean (nullable = true)\n",
      " |    |    |-- is_translator: boolean (nullable = true)\n",
      " |    |    |-- lang: string (nullable = true)\n",
      " |    |    |-- listed_count: long (nullable = true)\n",
      " |    |    |-- location: string (nullable = true)\n",
      " |    |    |-- name: string (nullable = true)\n",
      " |    |    |-- notifications: boolean (nullable = true)\n",
      " |    |    |-- profile_background_color: string (nullable = true)\n",
      " |    |    |-- profile_background_image_url: string (nullable = true)\n",
      " |    |    |-- profile_background_image_url_https: string (nullable = true)\n",
      " |    |    |-- profile_background_tile: boolean (nullable = true)\n",
      " |    |    |-- profile_banner_url: string (nullable = true)\n",
      " |    |    |-- profile_image_url: string (nullable = true)\n",
      " |    |    |-- profile_image_url_https: string (nullable = true)\n",
      " |    |    |-- profile_link_color: string (nullable = true)\n",
      " |    |    |-- profile_sidebar_border_color: string (nullable = true)\n",
      " |    |    |-- profile_sidebar_fill_color: string (nullable = true)\n",
      " |    |    |-- profile_text_color: string (nullable = true)\n",
      " |    |    |-- profile_use_background_image: boolean (nullable = true)\n",
      " |    |    |-- protected: boolean (nullable = true)\n",
      " |    |    |-- screen_name: string (nullable = true)\n",
      " |    |    |-- statuses_count: long (nullable = true)\n",
      " |    |    |-- time_zone: string (nullable = true)\n",
      " |    |    |-- translator_type: string (nullable = true)\n",
      " |    |    |-- url: string (nullable = true)\n",
      " |    |    |-- utc_offset: string (nullable = true)\n",
      " |    |    |-- verified: boolean (nullable = true)\n",
      " |    |    |-- withheld_in_countries: array (nullable = true)\n",
      " |    |    |    |-- element: string (containsNull = true)\n",
      " |    |-- withheld_in_countries: array (nullable = true)\n",
      " |    |    |-- element: string (containsNull = true)\n",
      " |-- quoted_status_id: long (nullable = true)\n",
      " |-- quoted_status_id_str: string (nullable = true)\n",
      " |-- retweet_count: long (nullable = true)\n",
      " |-- retweeted: boolean (nullable = true)\n",
      " |-- retweeted_status: struct (nullable = true)\n",
      " |    |-- contributors: string (nullable = true)\n",
      " |    |-- coordinates: struct (nullable = true)\n",
      " |    |    |-- coordinates: array (nullable = true)\n",
      " |    |    |    |-- element: double (containsNull = true)\n",
      " |    |    |-- type: string (nullable = true)\n",
      " |    |-- created_at: string (nullable = true)\n",
      " |    |-- display_text_range: array (nullable = true)\n",
      " |    |    |-- element: long (containsNull = true)\n",
      " |    |-- entities: struct (nullable = true)\n",
      " |    |    |-- hashtags: array (nullable = true)\n",
      " |    |    |    |-- element: struct (containsNull = true)\n",
      " |    |    |    |    |-- indices: array (nullable = true)\n",
      " |    |    |    |    |    |-- element: long (containsNull = true)\n",
      " |    |    |    |    |-- text: string (nullable = true)\n",
      " |    |    |-- media: array (nullable = true)\n",
      " |    |    |    |-- element: struct (containsNull = true)\n",
      " |    |    |    |    |-- display_url: string (nullable = true)\n",
      " |    |    |    |    |-- expanded_url: string (nullable = true)\n",
      " |    |    |    |    |-- id: long (nullable = true)\n",
      " |    |    |    |    |-- id_str: string (nullable = true)\n",
      " |    |    |    |    |-- indices: array (nullable = true)\n",
      " |    |    |    |    |    |-- element: long (containsNull = true)\n",
      " |    |    |    |    |-- media_url: string (nullable = true)\n",
      " |    |    |    |    |-- media_url_https: string (nullable = true)\n",
      " |    |    |    |    |-- sizes: struct (nullable = true)\n",
      " |    |    |    |    |    |-- large: struct (nullable = true)\n",
      " |    |    |    |    |    |    |-- h: long (nullable = true)\n",
      " |    |    |    |    |    |    |-- resize: string (nullable = true)\n",
      " |    |    |    |    |    |    |-- w: long (nullable = true)\n",
      " |    |    |    |    |    |-- medium: struct (nullable = true)\n",
      " |    |    |    |    |    |    |-- h: long (nullable = true)\n",
      " |    |    |    |    |    |    |-- resize: string (nullable = true)\n",
      " |    |    |    |    |    |    |-- w: long (nullable = true)\n",
      " |    |    |    |    |    |-- small: struct (nullable = true)\n",
      " |    |    |    |    |    |    |-- h: long (nullable = true)\n",
      " |    |    |    |    |    |    |-- resize: string (nullable = true)\n",
      " |    |    |    |    |    |    |-- w: long (nullable = true)\n",
      " |    |    |    |    |    |-- thumb: struct (nullable = true)\n",
      " |    |    |    |    |    |    |-- h: long (nullable = true)\n",
      " |    |    |    |    |    |    |-- resize: string (nullable = true)\n",
      " |    |    |    |    |    |    |-- w: long (nullable = true)\n",
      " |    |    |    |    |-- source_status_id: long (nullable = true)\n",
      " |    |    |    |    |-- source_status_id_str: string (nullable = true)\n",
      " |    |    |    |    |-- source_user_id: long (nullable = true)\n",
      " |    |    |    |    |-- source_user_id_str: string (nullable = true)\n",
      " |    |    |    |    |-- type: string (nullable = true)\n",
      " |    |    |    |    |-- url: string (nullable = true)\n",
      " |    |    |-- symbols: array (nullable = true)\n",
      " |    |    |    |-- element: struct (containsNull = true)\n",
      " |    |    |    |    |-- indices: array (nullable = true)\n",
      " |    |    |    |    |    |-- element: long (containsNull = true)\n",
      " |    |    |    |    |-- text: string (nullable = true)\n",
      " |    |    |-- urls: array (nullable = true)\n",
      " |    |    |    |-- element: struct (containsNull = true)\n",
      " |    |    |    |    |-- display_url: string (nullable = true)\n",
      " |    |    |    |    |-- expanded_url: string (nullable = true)\n",
      " |    |    |    |    |-- indices: array (nullable = true)\n",
      " |    |    |    |    |    |-- element: long (containsNull = true)\n",
      " |    |    |    |    |-- url: string (nullable = true)\n",
      " |    |    |-- user_mentions: array (nullable = true)\n",
      " |    |    |    |-- element: struct (containsNull = true)\n",
      " |    |    |    |    |-- id: long (nullable = true)\n",
      " |    |    |    |    |-- id_str: string (nullable = true)\n",
      " |    |    |    |    |-- indices: array (nullable = true)\n",
      " |    |    |    |    |    |-- element: long (containsNull = true)\n",
      " |    |    |    |    |-- name: string (nullable = true)\n",
      " |    |    |    |    |-- screen_name: string (nullable = true)\n",
      " |    |-- extended_entities: struct (nullable = true)\n",
      " |    |    |-- media: array (nullable = true)\n",
      " |    |    |    |-- element: struct (containsNull = true)\n",
      " |    |    |    |    |-- additional_media_info: struct (nullable = true)\n",
      " |    |    |    |    |    |-- call_to_actions: struct (nullable = true)\n",
      " |    |    |    |    |    |    |-- visit_site: struct (nullable = true)\n",
      " |    |    |    |    |    |    |    |-- url: string (nullable = true)\n",
      " |    |    |    |    |    |    |-- watch_now: struct (nullable = true)\n",
      " |    |    |    |    |    |    |    |-- url: string (nullable = true)\n",
      " |    |    |    |    |    |-- description: string (nullable = true)\n",
      " |    |    |    |    |    |-- embeddable: boolean (nullable = true)\n",
      " |    |    |    |    |    |-- monetizable: boolean (nullable = true)\n",
      " |    |    |    |    |    |-- source_user: struct (nullable = true)\n",
      " |    |    |    |    |    |    |-- contributors_enabled: boolean (nullable = true)\n",
      " |    |    |    |    |    |    |-- created_at: string (nullable = true)\n",
      " |    |    |    |    |    |    |-- default_profile: boolean (nullable = true)\n",
      " |    |    |    |    |    |    |-- default_profile_image: boolean (nullable = true)\n",
      " |    |    |    |    |    |    |-- description: string (nullable = true)\n",
      " |    |    |    |    |    |    |-- entities: struct (nullable = true)\n",
      " |    |    |    |    |    |    |    |-- description: struct (nullable = true)\n",
      " |    |    |    |    |    |    |    |    |-- urls: array (nullable = true)\n",
      " |    |    |    |    |    |    |    |    |    |-- element: struct (containsNull = true)\n",
      " |    |    |    |    |    |    |    |    |    |    |-- display_url: string (nullable = true)\n",
      " |    |    |    |    |    |    |    |    |    |    |-- expanded_url: string (nullable = true)\n",
      " |    |    |    |    |    |    |    |    |    |    |-- indices: array (nullable = true)\n",
      " |    |    |    |    |    |    |    |    |    |    |    |-- element: long (containsNull = true)\n",
      " |    |    |    |    |    |    |    |    |    |    |-- url: string (nullable = true)\n",
      " |    |    |    |    |    |    |    |-- url: struct (nullable = true)\n",
      " |    |    |    |    |    |    |    |    |-- urls: array (nullable = true)\n",
      " |    |    |    |    |    |    |    |    |    |-- element: struct (containsNull = true)\n",
      " |    |    |    |    |    |    |    |    |    |    |-- display_url: string (nullable = true)\n",
      " |    |    |    |    |    |    |    |    |    |    |-- expanded_url: string (nullable = true)\n",
      " |    |    |    |    |    |    |    |    |    |    |-- indices: array (nullable = true)\n",
      " |    |    |    |    |    |    |    |    |    |    |    |-- element: long (containsNull = true)\n",
      " |    |    |    |    |    |    |    |    |    |    |-- url: string (nullable = true)\n",
      " |    |    |    |    |    |    |-- favourites_count: long (nullable = true)\n",
      " |    |    |    |    |    |    |-- follow_request_sent: boolean (nullable = true)\n",
      " |    |    |    |    |    |    |-- followers_count: long (nullable = true)\n",
      " |    |    |    |    |    |    |-- following: boolean (nullable = true)\n",
      " |    |    |    |    |    |    |-- friends_count: long (nullable = true)\n",
      " |    |    |    |    |    |    |-- geo_enabled: boolean (nullable = true)\n",
      " |    |    |    |    |    |    |-- has_extended_profile: boolean (nullable = true)\n",
      " |    |    |    |    |    |    |-- id: long (nullable = true)\n",
      " |    |    |    |    |    |    |-- id_str: string (nullable = true)\n",
      " |    |    |    |    |    |    |-- is_translation_enabled: boolean (nullable = true)\n",
      " |    |    |    |    |    |    |-- is_translator: boolean (nullable = true)\n",
      " |    |    |    |    |    |    |-- lang: string (nullable = true)\n",
      " |    |    |    |    |    |    |-- listed_count: long (nullable = true)\n",
      " |    |    |    |    |    |    |-- location: string (nullable = true)\n",
      " |    |    |    |    |    |    |-- name: string (nullable = true)\n",
      " |    |    |    |    |    |    |-- notifications: boolean (nullable = true)\n",
      " |    |    |    |    |    |    |-- profile_background_color: string (nullable = true)\n",
      " |    |    |    |    |    |    |-- profile_background_image_url: string (nullable = true)\n",
      " |    |    |    |    |    |    |-- profile_background_image_url_https: string (nullable = true)\n",
      " |    |    |    |    |    |    |-- profile_background_tile: boolean (nullable = true)\n",
      " |    |    |    |    |    |    |-- profile_banner_url: string (nullable = true)\n",
      " |    |    |    |    |    |    |-- profile_image_url: string (nullable = true)\n",
      " |    |    |    |    |    |    |-- profile_image_url_https: string (nullable = true)\n",
      " |    |    |    |    |    |    |-- profile_link_color: string (nullable = true)\n",
      " |    |    |    |    |    |    |-- profile_sidebar_border_color: string (nullable = true)\n",
      " |    |    |    |    |    |    |-- profile_sidebar_fill_color: string (nullable = true)\n",
      " |    |    |    |    |    |    |-- profile_text_color: string (nullable = true)\n",
      " |    |    |    |    |    |    |-- profile_use_background_image: boolean (nullable = true)\n",
      " |    |    |    |    |    |    |-- protected: boolean (nullable = true)\n",
      " |    |    |    |    |    |    |-- screen_name: string (nullable = true)\n",
      " |    |    |    |    |    |    |-- statuses_count: long (nullable = true)\n",
      " |    |    |    |    |    |    |-- time_zone: string (nullable = true)\n",
      " |    |    |    |    |    |    |-- translator_type: string (nullable = true)\n",
      " |    |    |    |    |    |    |-- url: string (nullable = true)\n",
      " |    |    |    |    |    |    |-- utc_offset: string (nullable = true)\n",
      " |    |    |    |    |    |    |-- verified: boolean (nullable = true)\n",
      " |    |    |    |    |    |    |-- withheld_in_countries: array (nullable = true)\n",
      " |    |    |    |    |    |    |    |-- element: string (containsNull = true)\n",
      " |    |    |    |    |    |-- title: string (nullable = true)\n",
      " |    |    |    |    |-- display_url: string (nullable = true)\n",
      " |    |    |    |    |-- expanded_url: string (nullable = true)\n",
      " |    |    |    |    |-- id: long (nullable = true)\n",
      " |    |    |    |    |-- id_str: string (nullable = true)\n",
      " |    |    |    |    |-- indices: array (nullable = true)\n",
      " |    |    |    |    |    |-- element: long (containsNull = true)\n",
      " |    |    |    |    |-- media_url: string (nullable = true)\n",
      " |    |    |    |    |-- media_url_https: string (nullable = true)\n",
      " |    |    |    |    |-- sizes: struct (nullable = true)\n",
      " |    |    |    |    |    |-- large: struct (nullable = true)\n",
      " |    |    |    |    |    |    |-- h: long (nullable = true)\n",
      " |    |    |    |    |    |    |-- resize: string (nullable = true)\n",
      " |    |    |    |    |    |    |-- w: long (nullable = true)\n",
      " |    |    |    |    |    |-- medium: struct (nullable = true)\n",
      " |    |    |    |    |    |    |-- h: long (nullable = true)\n",
      " |    |    |    |    |    |    |-- resize: string (nullable = true)\n",
      " |    |    |    |    |    |    |-- w: long (nullable = true)\n",
      " |    |    |    |    |    |-- small: struct (nullable = true)\n",
      " |    |    |    |    |    |    |-- h: long (nullable = true)\n",
      " |    |    |    |    |    |    |-- resize: string (nullable = true)\n",
      " |    |    |    |    |    |    |-- w: long (nullable = true)\n",
      " |    |    |    |    |    |-- thumb: struct (nullable = true)\n",
      " |    |    |    |    |    |    |-- h: long (nullable = true)\n",
      " |    |    |    |    |    |    |-- resize: string (nullable = true)\n",
      " |    |    |    |    |    |    |-- w: long (nullable = true)\n",
      " |    |    |    |    |-- source_status_id: long (nullable = true)\n",
      " |    |    |    |    |-- source_status_id_str: string (nullable = true)\n",
      " |    |    |    |    |-- source_user_id: long (nullable = true)\n",
      " |    |    |    |    |-- source_user_id_str: string (nullable = true)\n",
      " |    |    |    |    |-- type: string (nullable = true)\n",
      " |    |    |    |    |-- url: string (nullable = true)\n",
      " |    |    |    |    |-- video_info: struct (nullable = true)\n",
      " |    |    |    |    |    |-- aspect_ratio: array (nullable = true)\n",
      " |    |    |    |    |    |    |-- element: long (containsNull = true)\n",
      " |    |    |    |    |    |-- duration_millis: long (nullable = true)\n",
      " |    |    |    |    |    |-- variants: array (nullable = true)\n",
      " |    |    |    |    |    |    |-- element: struct (containsNull = true)\n",
      " |    |    |    |    |    |    |    |-- bitrate: long (nullable = true)\n",
      " |    |    |    |    |    |    |    |-- content_type: string (nullable = true)\n",
      " |    |    |    |    |    |    |    |-- url: string (nullable = true)\n",
      " |    |-- favorite_count: long (nullable = true)\n",
      " |    |-- favorited: boolean (nullable = true)\n",
      " |    |-- full_text: string (nullable = true)\n",
      " |    |-- geo: struct (nullable = true)\n",
      " |    |    |-- coordinates: array (nullable = true)\n",
      " |    |    |    |-- element: double (containsNull = true)\n",
      " |    |    |-- type: string (nullable = true)\n",
      " |    |-- id: long (nullable = true)\n",
      " |    |-- id_str: string (nullable = true)\n",
      " |    |-- in_reply_to_screen_name: string (nullable = true)\n",
      " |    |-- in_reply_to_status_id: long (nullable = true)\n",
      " |    |-- in_reply_to_status_id_str: string (nullable = true)\n",
      " |    |-- in_reply_to_user_id: long (nullable = true)\n",
      " |    |-- in_reply_to_user_id_str: string (nullable = true)\n",
      " |    |-- is_quote_status: boolean (nullable = true)\n",
      " |    |-- lang: string (nullable = true)\n",
      " |    |-- metadata: struct (nullable = true)\n",
      " |    |    |-- iso_language_code: string (nullable = true)\n",
      " |    |    |-- result_type: string (nullable = true)\n",
      " |    |-- place: struct (nullable = true)\n",
      " |    |    |-- bounding_box: struct (nullable = true)\n",
      " |    |    |    |-- coordinates: array (nullable = true)\n",
      " |    |    |    |    |-- element: array (containsNull = true)\n",
      " |    |    |    |    |    |-- element: array (containsNull = true)\n",
      " |    |    |    |    |    |    |-- element: double (containsNull = true)\n",
      " |    |    |    |-- type: string (nullable = true)\n",
      " |    |    |-- contained_within: array (nullable = true)\n",
      " |    |    |    |-- element: string (containsNull = true)\n",
      " |    |    |-- country: string (nullable = true)\n",
      " |    |    |-- country_code: string (nullable = true)\n",
      " |    |    |-- full_name: string (nullable = true)\n",
      " |    |    |-- id: string (nullable = true)\n",
      " |    |    |-- name: string (nullable = true)\n",
      " |    |    |-- place_type: string (nullable = true)\n",
      " |    |    |-- url: string (nullable = true)\n",
      " |    |-- possibly_sensitive: boolean (nullable = true)\n",
      " |    |-- quoted_status: struct (nullable = true)\n",
      " |    |    |-- contributors: string (nullable = true)\n",
      " |    |    |-- coordinates: struct (nullable = true)\n",
      " |    |    |    |-- coordinates: array (nullable = true)\n",
      " |    |    |    |    |-- element: double (containsNull = true)\n",
      " |    |    |    |-- type: string (nullable = true)\n",
      " |    |    |-- created_at: string (nullable = true)\n",
      " |    |    |-- display_text_range: array (nullable = true)\n",
      " |    |    |    |-- element: long (containsNull = true)\n",
      " |    |    |-- entities: struct (nullable = true)\n",
      " |    |    |    |-- hashtags: array (nullable = true)\n",
      " |    |    |    |    |-- element: struct (containsNull = true)\n",
      " |    |    |    |    |    |-- indices: array (nullable = true)\n",
      " |    |    |    |    |    |    |-- element: long (containsNull = true)\n",
      " |    |    |    |    |    |-- text: string (nullable = true)\n",
      " |    |    |    |-- media: array (nullable = true)\n",
      " |    |    |    |    |-- element: struct (containsNull = true)\n",
      " |    |    |    |    |    |-- display_url: string (nullable = true)\n",
      " |    |    |    |    |    |-- expanded_url: string (nullable = true)\n",
      " |    |    |    |    |    |-- id: long (nullable = true)\n",
      " |    |    |    |    |    |-- id_str: string (nullable = true)\n",
      " |    |    |    |    |    |-- indices: array (nullable = true)\n",
      " |    |    |    |    |    |    |-- element: long (containsNull = true)\n",
      " |    |    |    |    |    |-- media_url: string (nullable = true)\n",
      " |    |    |    |    |    |-- media_url_https: string (nullable = true)\n",
      " |    |    |    |    |    |-- sizes: struct (nullable = true)\n",
      " |    |    |    |    |    |    |-- large: struct (nullable = true)\n",
      " |    |    |    |    |    |    |    |-- h: long (nullable = true)\n",
      " |    |    |    |    |    |    |    |-- resize: string (nullable = true)\n",
      " |    |    |    |    |    |    |    |-- w: long (nullable = true)\n",
      " |    |    |    |    |    |    |-- medium: struct (nullable = true)\n",
      " |    |    |    |    |    |    |    |-- h: long (nullable = true)\n",
      " |    |    |    |    |    |    |    |-- resize: string (nullable = true)\n",
      " |    |    |    |    |    |    |    |-- w: long (nullable = true)\n",
      " |    |    |    |    |    |    |-- small: struct (nullable = true)\n",
      " |    |    |    |    |    |    |    |-- h: long (nullable = true)\n",
      " |    |    |    |    |    |    |    |-- resize: string (nullable = true)\n",
      " |    |    |    |    |    |    |    |-- w: long (nullable = true)\n",
      " |    |    |    |    |    |    |-- thumb: struct (nullable = true)\n",
      " |    |    |    |    |    |    |    |-- h: long (nullable = true)\n",
      " |    |    |    |    |    |    |    |-- resize: string (nullable = true)\n",
      " |    |    |    |    |    |    |    |-- w: long (nullable = true)\n",
      " |    |    |    |    |    |-- source_status_id: long (nullable = true)\n",
      " |    |    |    |    |    |-- source_status_id_str: string (nullable = true)\n",
      " |    |    |    |    |    |-- source_user_id: long (nullable = true)\n",
      " |    |    |    |    |    |-- source_user_id_str: string (nullable = true)\n",
      " |    |    |    |    |    |-- type: string (nullable = true)\n",
      " |    |    |    |    |    |-- url: string (nullable = true)\n",
      " |    |    |    |-- symbols: array (nullable = true)\n",
      " |    |    |    |    |-- element: struct (containsNull = true)\n",
      " |    |    |    |    |    |-- indices: array (nullable = true)\n",
      " |    |    |    |    |    |    |-- element: long (containsNull = true)\n",
      " |    |    |    |    |    |-- text: string (nullable = true)\n",
      " |    |    |    |-- urls: array (nullable = true)\n",
      " |    |    |    |    |-- element: struct (containsNull = true)\n",
      " |    |    |    |    |    |-- display_url: string (nullable = true)\n",
      " |    |    |    |    |    |-- expanded_url: string (nullable = true)\n",
      " |    |    |    |    |    |-- indices: array (nullable = true)\n",
      " |    |    |    |    |    |    |-- element: long (containsNull = true)\n",
      " |    |    |    |    |    |-- url: string (nullable = true)\n",
      " |    |    |    |-- user_mentions: array (nullable = true)\n",
      " |    |    |    |    |-- element: struct (containsNull = true)\n",
      " |    |    |    |    |    |-- id: long (nullable = true)\n",
      " |    |    |    |    |    |-- id_str: string (nullable = true)\n",
      " |    |    |    |    |    |-- indices: array (nullable = true)\n",
      " |    |    |    |    |    |    |-- element: long (containsNull = true)\n",
      " |    |    |    |    |    |-- name: string (nullable = true)\n",
      " |    |    |    |    |    |-- screen_name: string (nullable = true)\n",
      " |    |    |-- extended_entities: struct (nullable = true)\n",
      " |    |    |    |-- media: array (nullable = true)\n",
      " |    |    |    |    |-- element: struct (containsNull = true)\n",
      " |    |    |    |    |    |-- additional_media_info: struct (nullable = true)\n",
      " |    |    |    |    |    |    |-- call_to_actions: struct (nullable = true)\n",
      " |    |    |    |    |    |    |    |-- visit_site: struct (nullable = true)\n",
      " |    |    |    |    |    |    |    |    |-- url: string (nullable = true)\n",
      " |    |    |    |    |    |    |    |-- watch_now: struct (nullable = true)\n",
      " |    |    |    |    |    |    |    |    |-- url: string (nullable = true)\n",
      " |    |    |    |    |    |    |-- description: string (nullable = true)\n",
      " |    |    |    |    |    |    |-- embeddable: boolean (nullable = true)\n",
      " |    |    |    |    |    |    |-- monetizable: boolean (nullable = true)\n",
      " |    |    |    |    |    |    |-- source_user: struct (nullable = true)\n",
      " |    |    |    |    |    |    |    |-- contributors_enabled: boolean (nullable = true)\n",
      " |    |    |    |    |    |    |    |-- created_at: string (nullable = true)\n",
      " |    |    |    |    |    |    |    |-- default_profile: boolean (nullable = true)\n",
      " |    |    |    |    |    |    |    |-- default_profile_image: boolean (nullable = true)\n",
      " |    |    |    |    |    |    |    |-- description: string (nullable = true)\n",
      " |    |    |    |    |    |    |    |-- entities: struct (nullable = true)\n",
      " |    |    |    |    |    |    |    |    |-- description: struct (nullable = true)\n",
      " |    |    |    |    |    |    |    |    |    |-- urls: array (nullable = true)\n",
      " |    |    |    |    |    |    |    |    |    |    |-- element: struct (containsNull = true)\n",
      " |    |    |    |    |    |    |    |    |    |    |    |-- display_url: string (nullable = true)\n",
      " |    |    |    |    |    |    |    |    |    |    |    |-- expanded_url: string (nullable = true)\n",
      " |    |    |    |    |    |    |    |    |    |    |    |-- indices: array (nullable = true)\n",
      " |    |    |    |    |    |    |    |    |    |    |    |    |-- element: long (containsNull = true)\n",
      " |    |    |    |    |    |    |    |    |    |    |    |-- url: string (nullable = true)\n",
      " |    |    |    |    |    |    |    |    |-- url: struct (nullable = true)\n",
      " |    |    |    |    |    |    |    |    |    |-- urls: array (nullable = true)\n",
      " |    |    |    |    |    |    |    |    |    |    |-- element: struct (containsNull = true)\n",
      " |    |    |    |    |    |    |    |    |    |    |    |-- display_url: string (nullable = true)\n",
      " |    |    |    |    |    |    |    |    |    |    |    |-- expanded_url: string (nullable = true)\n",
      " |    |    |    |    |    |    |    |    |    |    |    |-- indices: array (nullable = true)\n",
      " |    |    |    |    |    |    |    |    |    |    |    |    |-- element: long (containsNull = true)\n",
      " |    |    |    |    |    |    |    |    |    |    |    |-- url: string (nullable = true)\n",
      " |    |    |    |    |    |    |    |-- favourites_count: long (nullable = true)\n",
      " |    |    |    |    |    |    |    |-- follow_request_sent: boolean (nullable = true)\n",
      " |    |    |    |    |    |    |    |-- followers_count: long (nullable = true)\n",
      " |    |    |    |    |    |    |    |-- following: boolean (nullable = true)\n",
      " |    |    |    |    |    |    |    |-- friends_count: long (nullable = true)\n",
      " |    |    |    |    |    |    |    |-- geo_enabled: boolean (nullable = true)\n",
      " |    |    |    |    |    |    |    |-- has_extended_profile: boolean (nullable = true)\n",
      " |    |    |    |    |    |    |    |-- id: long (nullable = true)\n",
      " |    |    |    |    |    |    |    |-- id_str: string (nullable = true)\n",
      " |    |    |    |    |    |    |    |-- is_translation_enabled: boolean (nullable = true)\n",
      " |    |    |    |    |    |    |    |-- is_translator: boolean (nullable = true)\n",
      " |    |    |    |    |    |    |    |-- lang: string (nullable = true)\n",
      " |    |    |    |    |    |    |    |-- listed_count: long (nullable = true)\n",
      " |    |    |    |    |    |    |    |-- location: string (nullable = true)\n",
      " |    |    |    |    |    |    |    |-- name: string (nullable = true)\n",
      " |    |    |    |    |    |    |    |-- notifications: boolean (nullable = true)\n",
      " |    |    |    |    |    |    |    |-- profile_background_color: string (nullable = true)\n",
      " |    |    |    |    |    |    |    |-- profile_background_image_url: string (nullable = true)\n",
      " |    |    |    |    |    |    |    |-- profile_background_image_url_https: string (nullable = true)\n",
      " |    |    |    |    |    |    |    |-- profile_background_tile: boolean (nullable = true)\n",
      " |    |    |    |    |    |    |    |-- profile_banner_url: string (nullable = true)\n",
      " |    |    |    |    |    |    |    |-- profile_image_url: string (nullable = true)\n",
      " |    |    |    |    |    |    |    |-- profile_image_url_https: string (nullable = true)\n",
      " |    |    |    |    |    |    |    |-- profile_link_color: string (nullable = true)\n",
      " |    |    |    |    |    |    |    |-- profile_sidebar_border_color: string (nullable = true)\n",
      " |    |    |    |    |    |    |    |-- profile_sidebar_fill_color: string (nullable = true)\n",
      " |    |    |    |    |    |    |    |-- profile_text_color: string (nullable = true)\n",
      " |    |    |    |    |    |    |    |-- profile_use_background_image: boolean (nullable = true)\n",
      " |    |    |    |    |    |    |    |-- protected: boolean (nullable = true)\n",
      " |    |    |    |    |    |    |    |-- screen_name: string (nullable = true)\n",
      " |    |    |    |    |    |    |    |-- statuses_count: long (nullable = true)\n",
      " |    |    |    |    |    |    |    |-- time_zone: string (nullable = true)\n",
      " |    |    |    |    |    |    |    |-- translator_type: string (nullable = true)\n",
      " |    |    |    |    |    |    |    |-- url: string (nullable = true)\n",
      " |    |    |    |    |    |    |    |-- utc_offset: string (nullable = true)\n",
      " |    |    |    |    |    |    |    |-- verified: boolean (nullable = true)\n",
      " |    |    |    |    |    |    |    |-- withheld_in_countries: array (nullable = true)\n",
      " |    |    |    |    |    |    |    |    |-- element: string (containsNull = true)\n",
      " |    |    |    |    |    |    |-- title: string (nullable = true)\n",
      " |    |    |    |    |    |-- display_url: string (nullable = true)\n",
      " |    |    |    |    |    |-- expanded_url: string (nullable = true)\n",
      " |    |    |    |    |    |-- id: long (nullable = true)\n",
      " |    |    |    |    |    |-- id_str: string (nullable = true)\n",
      " |    |    |    |    |    |-- indices: array (nullable = true)\n",
      " |    |    |    |    |    |    |-- element: long (containsNull = true)\n",
      " |    |    |    |    |    |-- media_url: string (nullable = true)\n",
      " |    |    |    |    |    |-- media_url_https: string (nullable = true)\n",
      " |    |    |    |    |    |-- sizes: struct (nullable = true)\n",
      " |    |    |    |    |    |    |-- large: struct (nullable = true)\n",
      " |    |    |    |    |    |    |    |-- h: long (nullable = true)\n",
      " |    |    |    |    |    |    |    |-- resize: string (nullable = true)\n",
      " |    |    |    |    |    |    |    |-- w: long (nullable = true)\n",
      " |    |    |    |    |    |    |-- medium: struct (nullable = true)\n",
      " |    |    |    |    |    |    |    |-- h: long (nullable = true)\n",
      " |    |    |    |    |    |    |    |-- resize: string (nullable = true)\n",
      " |    |    |    |    |    |    |    |-- w: long (nullable = true)\n",
      " |    |    |    |    |    |    |-- small: struct (nullable = true)\n",
      " |    |    |    |    |    |    |    |-- h: long (nullable = true)\n",
      " |    |    |    |    |    |    |    |-- resize: string (nullable = true)\n",
      " |    |    |    |    |    |    |    |-- w: long (nullable = true)\n",
      " |    |    |    |    |    |    |-- thumb: struct (nullable = true)\n",
      " |    |    |    |    |    |    |    |-- h: long (nullable = true)\n",
      " |    |    |    |    |    |    |    |-- resize: string (nullable = true)\n",
      " |    |    |    |    |    |    |    |-- w: long (nullable = true)\n",
      " |    |    |    |    |    |-- source_status_id: long (nullable = true)\n",
      " |    |    |    |    |    |-- source_status_id_str: string (nullable = true)\n",
      " |    |    |    |    |    |-- source_user_id: long (nullable = true)\n",
      " |    |    |    |    |    |-- source_user_id_str: string (nullable = true)\n",
      " |    |    |    |    |    |-- type: string (nullable = true)\n",
      " |    |    |    |    |    |-- url: string (nullable = true)\n",
      " |    |    |    |    |    |-- video_info: struct (nullable = true)\n",
      " |    |    |    |    |    |    |-- aspect_ratio: array (nullable = true)\n",
      " |    |    |    |    |    |    |    |-- element: long (containsNull = true)\n",
      " |    |    |    |    |    |    |-- duration_millis: long (nullable = true)\n",
      " |    |    |    |    |    |    |-- variants: array (nullable = true)\n",
      " |    |    |    |    |    |    |    |-- element: struct (containsNull = true)\n",
      " |    |    |    |    |    |    |    |    |-- bitrate: long (nullable = true)\n",
      " |    |    |    |    |    |    |    |    |-- content_type: string (nullable = true)\n",
      " |    |    |    |    |    |    |    |    |-- url: string (nullable = true)\n",
      " |    |    |-- favorite_count: long (nullable = true)\n",
      " |    |    |-- favorited: boolean (nullable = true)\n",
      " |    |    |-- full_text: string (nullable = true)\n",
      " |    |    |-- geo: struct (nullable = true)\n",
      " |    |    |    |-- coordinates: array (nullable = true)\n",
      " |    |    |    |    |-- element: double (containsNull = true)\n",
      " |    |    |    |-- type: string (nullable = true)\n",
      " |    |    |-- id: long (nullable = true)\n",
      " |    |    |-- id_str: string (nullable = true)\n",
      " |    |    |-- in_reply_to_screen_name: string (nullable = true)\n",
      " |    |    |-- in_reply_to_status_id: long (nullable = true)\n",
      " |    |    |-- in_reply_to_status_id_str: string (nullable = true)\n",
      " |    |    |-- in_reply_to_user_id: long (nullable = true)\n",
      " |    |    |-- in_reply_to_user_id_str: string (nullable = true)\n",
      " |    |    |-- is_quote_status: boolean (nullable = true)\n",
      " |    |    |-- lang: string (nullable = true)\n",
      " |    |    |-- metadata: struct (nullable = true)\n",
      " |    |    |    |-- iso_language_code: string (nullable = true)\n",
      " |    |    |    |-- result_type: string (nullable = true)\n",
      " |    |    |-- place: struct (nullable = true)\n",
      " |    |    |    |-- bounding_box: struct (nullable = true)\n",
      " |    |    |    |    |-- coordinates: array (nullable = true)\n",
      " |    |    |    |    |    |-- element: array (containsNull = true)\n",
      " |    |    |    |    |    |    |-- element: array (containsNull = true)\n",
      " |    |    |    |    |    |    |    |-- element: double (containsNull = true)\n",
      " |    |    |    |    |-- type: string (nullable = true)\n",
      " |    |    |    |-- contained_within: array (nullable = true)\n",
      " |    |    |    |    |-- element: string (containsNull = true)\n",
      " |    |    |    |-- country: string (nullable = true)\n",
      " |    |    |    |-- country_code: string (nullable = true)\n",
      " |    |    |    |-- full_name: string (nullable = true)\n",
      " |    |    |    |-- id: string (nullable = true)\n",
      " |    |    |    |-- name: string (nullable = true)\n",
      " |    |    |    |-- place_type: string (nullable = true)\n",
      " |    |    |    |-- url: string (nullable = true)\n",
      " |    |    |-- possibly_sensitive: boolean (nullable = true)\n",
      " |    |    |-- quoted_status_id: long (nullable = true)\n",
      " |    |    |-- quoted_status_id_str: string (nullable = true)\n",
      " |    |    |-- retweet_count: long (nullable = true)\n",
      " |    |    |-- retweeted: boolean (nullable = true)\n",
      " |    |    |-- scopes: struct (nullable = true)\n",
      " |    |    |    |-- followers: boolean (nullable = true)\n",
      " |    |    |-- source: string (nullable = true)\n",
      " |    |    |-- truncated: boolean (nullable = true)\n",
      " |    |    |-- user: struct (nullable = true)\n",
      " |    |    |    |-- contributors_enabled: boolean (nullable = true)\n",
      " |    |    |    |-- created_at: string (nullable = true)\n",
      " |    |    |    |-- default_profile: boolean (nullable = true)\n",
      " |    |    |    |-- default_profile_image: boolean (nullable = true)\n",
      " |    |    |    |-- description: string (nullable = true)\n",
      " |    |    |    |-- entities: struct (nullable = true)\n",
      " |    |    |    |    |-- description: struct (nullable = true)\n",
      " |    |    |    |    |    |-- urls: array (nullable = true)\n",
      " |    |    |    |    |    |    |-- element: struct (containsNull = true)\n",
      " |    |    |    |    |    |    |    |-- display_url: string (nullable = true)\n",
      " |    |    |    |    |    |    |    |-- expanded_url: string (nullable = true)\n",
      " |    |    |    |    |    |    |    |-- indices: array (nullable = true)\n",
      " |    |    |    |    |    |    |    |    |-- element: long (containsNull = true)\n",
      " |    |    |    |    |    |    |    |-- url: string (nullable = true)\n",
      " |    |    |    |    |-- url: struct (nullable = true)\n",
      " |    |    |    |    |    |-- urls: array (nullable = true)\n",
      " |    |    |    |    |    |    |-- element: struct (containsNull = true)\n",
      " |    |    |    |    |    |    |    |-- display_url: string (nullable = true)\n",
      " |    |    |    |    |    |    |    |-- expanded_url: string (nullable = true)\n",
      " |    |    |    |    |    |    |    |-- indices: array (nullable = true)\n",
      " |    |    |    |    |    |    |    |    |-- element: long (containsNull = true)\n",
      " |    |    |    |    |    |    |    |-- url: string (nullable = true)\n",
      " |    |    |    |-- favourites_count: long (nullable = true)\n",
      " |    |    |    |-- follow_request_sent: boolean (nullable = true)\n",
      " |    |    |    |-- followers_count: long (nullable = true)\n",
      " |    |    |    |-- following: boolean (nullable = true)\n",
      " |    |    |    |-- friends_count: long (nullable = true)\n",
      " |    |    |    |-- geo_enabled: boolean (nullable = true)\n",
      " |    |    |    |-- has_extended_profile: boolean (nullable = true)\n",
      " |    |    |    |-- id: long (nullable = true)\n",
      " |    |    |    |-- id_str: string (nullable = true)\n",
      " |    |    |    |-- is_translation_enabled: boolean (nullable = true)\n",
      " |    |    |    |-- is_translator: boolean (nullable = true)\n",
      " |    |    |    |-- lang: string (nullable = true)\n",
      " |    |    |    |-- listed_count: long (nullable = true)\n",
      " |    |    |    |-- location: string (nullable = true)\n",
      " |    |    |    |-- name: string (nullable = true)\n",
      " |    |    |    |-- notifications: boolean (nullable = true)\n",
      " |    |    |    |-- profile_background_color: string (nullable = true)\n",
      " |    |    |    |-- profile_background_image_url: string (nullable = true)\n",
      " |    |    |    |-- profile_background_image_url_https: string (nullable = true)\n",
      " |    |    |    |-- profile_background_tile: boolean (nullable = true)\n",
      " |    |    |    |-- profile_banner_url: string (nullable = true)\n",
      " |    |    |    |-- profile_image_url: string (nullable = true)\n",
      " |    |    |    |-- profile_image_url_https: string (nullable = true)\n",
      " |    |    |    |-- profile_link_color: string (nullable = true)\n",
      " |    |    |    |-- profile_sidebar_border_color: string (nullable = true)\n",
      " |    |    |    |-- profile_sidebar_fill_color: string (nullable = true)\n",
      " |    |    |    |-- profile_text_color: string (nullable = true)\n",
      " |    |    |    |-- profile_use_background_image: boolean (nullable = true)\n",
      " |    |    |    |-- protected: boolean (nullable = true)\n",
      " |    |    |    |-- screen_name: string (nullable = true)\n",
      " |    |    |    |-- statuses_count: long (nullable = true)\n",
      " |    |    |    |-- time_zone: string (nullable = true)\n",
      " |    |    |    |-- translator_type: string (nullable = true)\n",
      " |    |    |    |-- url: string (nullable = true)\n",
      " |    |    |    |-- utc_offset: string (nullable = true)\n",
      " |    |    |    |-- verified: boolean (nullable = true)\n",
      " |    |    |    |-- withheld_in_countries: array (nullable = true)\n",
      " |    |    |    |    |-- element: string (containsNull = true)\n",
      " |    |-- quoted_status_id: long (nullable = true)\n",
      " |    |-- quoted_status_id_str: string (nullable = true)\n",
      " |    |-- retweet_count: long (nullable = true)\n",
      " |    |-- retweeted: boolean (nullable = true)\n",
      " |    |-- scopes: struct (nullable = true)\n",
      " |    |    |-- followers: boolean (nullable = true)\n",
      " |    |-- source: string (nullable = true)\n",
      " |    |-- truncated: boolean (nullable = true)\n",
      " |    |-- user: struct (nullable = true)\n",
      " |    |    |-- contributors_enabled: boolean (nullable = true)\n",
      " |    |    |-- created_at: string (nullable = true)\n",
      " |    |    |-- default_profile: boolean (nullable = true)\n",
      " |    |    |-- default_profile_image: boolean (nullable = true)\n",
      " |    |    |-- description: string (nullable = true)\n",
      " |    |    |-- entities: struct (nullable = true)\n",
      " |    |    |    |-- description: struct (nullable = true)\n",
      " |    |    |    |    |-- urls: array (nullable = true)\n",
      " |    |    |    |    |    |-- element: struct (containsNull = true)\n",
      " |    |    |    |    |    |    |-- display_url: string (nullable = true)\n",
      " |    |    |    |    |    |    |-- expanded_url: string (nullable = true)\n",
      " |    |    |    |    |    |    |-- indices: array (nullable = true)\n",
      " |    |    |    |    |    |    |    |-- element: long (containsNull = true)\n",
      " |    |    |    |    |    |    |-- url: string (nullable = true)\n",
      " |    |    |    |-- url: struct (nullable = true)\n",
      " |    |    |    |    |-- urls: array (nullable = true)\n",
      " |    |    |    |    |    |-- element: struct (containsNull = true)\n",
      " |    |    |    |    |    |    |-- display_url: string (nullable = true)\n",
      " |    |    |    |    |    |    |-- expanded_url: string (nullable = true)\n",
      " |    |    |    |    |    |    |-- indices: array (nullable = true)\n",
      " |    |    |    |    |    |    |    |-- element: long (containsNull = true)\n",
      " |    |    |    |    |    |    |-- url: string (nullable = true)\n",
      " |    |    |-- favourites_count: long (nullable = true)\n",
      " |    |    |-- follow_request_sent: boolean (nullable = true)\n",
      " |    |    |-- followers_count: long (nullable = true)\n",
      " |    |    |-- following: boolean (nullable = true)\n",
      " |    |    |-- friends_count: long (nullable = true)\n",
      " |    |    |-- geo_enabled: boolean (nullable = true)\n",
      " |    |    |-- has_extended_profile: boolean (nullable = true)\n",
      " |    |    |-- id: long (nullable = true)\n",
      " |    |    |-- id_str: string (nullable = true)\n",
      " |    |    |-- is_translation_enabled: boolean (nullable = true)\n",
      " |    |    |-- is_translator: boolean (nullable = true)\n",
      " |    |    |-- lang: string (nullable = true)\n",
      " |    |    |-- listed_count: long (nullable = true)\n",
      " |    |    |-- location: string (nullable = true)\n",
      " |    |    |-- name: string (nullable = true)\n",
      " |    |    |-- notifications: boolean (nullable = true)\n",
      " |    |    |-- profile_background_color: string (nullable = true)\n",
      " |    |    |-- profile_background_image_url: string (nullable = true)\n",
      " |    |    |-- profile_background_image_url_https: string (nullable = true)\n",
      " |    |    |-- profile_background_tile: boolean (nullable = true)\n",
      " |    |    |-- profile_banner_url: string (nullable = true)\n",
      " |    |    |-- profile_image_url: string (nullable = true)\n",
      " |    |    |-- profile_image_url_https: string (nullable = true)\n",
      " |    |    |-- profile_link_color: string (nullable = true)\n",
      " |    |    |-- profile_sidebar_border_color: string (nullable = true)\n",
      " |    |    |-- profile_sidebar_fill_color: string (nullable = true)\n",
      " |    |    |-- profile_text_color: string (nullable = true)\n",
      " |    |    |-- profile_use_background_image: boolean (nullable = true)\n",
      " |    |    |-- protected: boolean (nullable = true)\n",
      " |    |    |-- screen_name: string (nullable = true)\n",
      " |    |    |-- statuses_count: long (nullable = true)\n",
      " |    |    |-- time_zone: string (nullable = true)\n",
      " |    |    |-- translator_type: string (nullable = true)\n",
      " |    |    |-- url: string (nullable = true)\n",
      " |    |    |-- utc_offset: string (nullable = true)\n",
      " |    |    |-- verified: boolean (nullable = true)\n",
      " |    |    |-- withheld_in_countries: array (nullable = true)\n",
      " |    |    |    |-- element: string (containsNull = true)\n",
      " |    |    |-- withheld_scope: string (nullable = true)\n",
      " |    |-- withheld_in_countries: array (nullable = true)\n",
      " |    |    |-- element: string (containsNull = true)\n",
      " |    |-- withheld_scope: string (nullable = true)\n",
      " |-- source: string (nullable = true)\n",
      " |-- truncated: boolean (nullable = true)\n",
      " |-- user: struct (nullable = true)\n",
      " |    |-- contributors_enabled: boolean (nullable = true)\n",
      " |    |-- created_at: string (nullable = true)\n",
      " |    |-- default_profile: boolean (nullable = true)\n",
      " |    |-- default_profile_image: boolean (nullable = true)\n",
      " |    |-- description: string (nullable = true)\n",
      " |    |-- entities: struct (nullable = true)\n",
      " |    |    |-- description: struct (nullable = true)\n",
      " |    |    |    |-- urls: array (nullable = true)\n",
      " |    |    |    |    |-- element: struct (containsNull = true)\n",
      " |    |    |    |    |    |-- display_url: string (nullable = true)\n",
      " |    |    |    |    |    |-- expanded_url: string (nullable = true)\n",
      " |    |    |    |    |    |-- indices: array (nullable = true)\n",
      " |    |    |    |    |    |    |-- element: long (containsNull = true)\n",
      " |    |    |    |    |    |-- url: string (nullable = true)\n",
      " |    |    |-- url: struct (nullable = true)\n",
      " |    |    |    |-- urls: array (nullable = true)\n",
      " |    |    |    |    |-- element: struct (containsNull = true)\n",
      " |    |    |    |    |    |-- display_url: string (nullable = true)\n",
      " |    |    |    |    |    |-- expanded_url: string (nullable = true)\n",
      " |    |    |    |    |    |-- indices: array (nullable = true)\n",
      " |    |    |    |    |    |    |-- element: long (containsNull = true)\n",
      " |    |    |    |    |    |-- url: string (nullable = true)\n",
      " |    |-- favourites_count: long (nullable = true)\n",
      " |    |-- follow_request_sent: boolean (nullable = true)\n",
      " |    |-- followers_count: long (nullable = true)\n",
      " |    |-- following: boolean (nullable = true)\n",
      " |    |-- friends_count: long (nullable = true)\n",
      " |    |-- geo_enabled: boolean (nullable = true)\n",
      " |    |-- has_extended_profile: boolean (nullable = true)\n",
      " |    |-- id: long (nullable = true)\n",
      " |    |-- id_str: string (nullable = true)\n",
      " |    |-- is_translation_enabled: boolean (nullable = true)\n",
      " |    |-- is_translator: boolean (nullable = true)\n",
      " |    |-- lang: string (nullable = true)\n",
      " |    |-- listed_count: long (nullable = true)\n",
      " |    |-- location: string (nullable = true)\n",
      " |    |-- name: string (nullable = true)\n",
      " |    |-- notifications: boolean (nullable = true)\n",
      " |    |-- profile_background_color: string (nullable = true)\n",
      " |    |-- profile_background_image_url: string (nullable = true)\n",
      " |    |-- profile_background_image_url_https: string (nullable = true)\n",
      " |    |-- profile_background_tile: boolean (nullable = true)\n",
      " |    |-- profile_banner_url: string (nullable = true)\n",
      " |    |-- profile_image_url: string (nullable = true)\n",
      " |    |-- profile_image_url_https: string (nullable = true)\n",
      " |    |-- profile_link_color: string (nullable = true)\n",
      " |    |-- profile_sidebar_border_color: string (nullable = true)\n",
      " |    |-- profile_sidebar_fill_color: string (nullable = true)\n",
      " |    |-- profile_text_color: string (nullable = true)\n",
      " |    |-- profile_use_background_image: boolean (nullable = true)\n",
      " |    |-- protected: boolean (nullable = true)\n",
      " |    |-- screen_name: string (nullable = true)\n",
      " |    |-- statuses_count: long (nullable = true)\n",
      " |    |-- time_zone: string (nullable = true)\n",
      " |    |-- translator_type: string (nullable = true)\n",
      " |    |-- url: string (nullable = true)\n",
      " |    |-- utc_offset: string (nullable = true)\n",
      " |    |-- verified: boolean (nullable = true)\n",
      " |    |-- withheld_in_countries: array (nullable = true)\n",
      " |    |    |-- element: string (containsNull = true)\n",
      " |    |-- withheld_scope: string (nullable = true)\n",
      " |-- withheld_in_countries: array (nullable = true)\n",
      " |    |-- element: string (containsNull = true)\n",
      " |-- withheld_scope: string (nullable = true)\n",
      "\n"
     ]
    }
   ],
   "source": [
    "# check the schema of our json dataframe\n",
    "df_json.printSchema()"
   ]
  },
  {
   "cell_type": "code",
   "execution_count": 6,
   "id": "58dd815c",
   "metadata": {},
   "outputs": [],
   "source": [
    "# select interesting features\n",
    "df = df_json.select(F.col(\"user.name\"),\n",
    "                                F.col(\"user.screen_name\"),\n",
    "                                F.col(\"created_at\"), \n",
    "                                F.col(\"full_text\"),\n",
    "                                F.col(\"entities.hashtags\"),\n",
    "                                F.col(\"lang\"),\n",
    "                                F.col(\"favorite_count\"),\n",
    "                                F.col(\"retweet_count\"),\n",
    "                                F.col(\"user.followers_count\"),\n",
    "                                F.col(\"user.friends_count\"),\n",
    "                                F.col(\"user.favourites_count\"),\n",
    "                                F.col(\"entities.urls\"),\n",
    "                                F.col(\"entities.symbols\"))"
   ]
  },
  {
   "cell_type": "markdown",
   "id": "01db2171",
   "metadata": {},
   "source": [
    "# 2. Preprocess Data"
   ]
  },
  {
   "cell_type": "markdown",
   "id": "b987ed1c",
   "metadata": {},
   "source": [
    "## 2.1 Check Time Period "
   ]
  },
  {
   "cell_type": "code",
   "execution_count": 7,
   "id": "e54c5b3e",
   "metadata": {},
   "outputs": [],
   "source": [
    "# https://developer.twitter.com/en/docs/twitter-ads-api/timezones\n",
    "# function to convert Twitter date string format\n",
    "# define the function\n",
    "\n",
    "def getDate(date):\n",
    "    if date is not None:\n",
    "        return str(datetime.strptime(date,'%a %b %d %H:%M:%S +0000 %Y').replace(tzinfo=pytz.UTC).strftime(\"%Y-%m-%d %H:%M:%S\"))\n",
    "    else:\n",
    "        return None\n",
    "\n",
    "# UDF declaration\n",
    "date_udf = F.udf(getDate, StringType())\n",
    "\n",
    "# apply udf\n",
    "df = df.withColumn('post_created_at', F.to_utc_timestamp(date_udf(\"created_at\"), \"UTC\"))"
   ]
  },
  {
   "cell_type": "code",
   "execution_count": 449,
   "id": "3e5a3387",
   "metadata": {
    "scrolled": true
   },
   "outputs": [
    {
     "name": "stdout",
     "output_type": "stream",
     "text": [
      "+------------------------------+-------------------+\n",
      "|created_at                    |post_created_at    |\n",
      "+------------------------------+-------------------+\n",
      "|Tue Sep 13 22:32:32 +0000 2022|2022-09-13 22:32:32|\n",
      "|Tue Sep 13 22:32:26 +0000 2022|2022-09-13 22:32:26|\n",
      "|Tue Sep 13 22:32:26 +0000 2022|2022-09-13 22:32:26|\n",
      "|Tue Sep 13 22:32:16 +0000 2022|2022-09-13 22:32:16|\n",
      "|Tue Sep 13 22:32:09 +0000 2022|2022-09-13 22:32:09|\n",
      "+------------------------------+-------------------+\n",
      "only showing top 5 rows\n",
      "\n"
     ]
    }
   ],
   "source": [
    "# show\n",
    "df.select(\"created_at\", \"post_created_at\").show(5, truncate=False)"
   ]
  },
  {
   "cell_type": "code",
   "execution_count": 109,
   "id": "16b8e766",
   "metadata": {},
   "outputs": [
    {
     "name": "stdout",
     "output_type": "stream",
     "text": [
      "+-------------------+-------------------+\n",
      "|           earliest|             latest|\n",
      "+-------------------+-------------------+\n",
      "|2021-10-25 07:19:40|2022-10-11 23:17:33|\n",
      "+-------------------+-------------------+\n",
      "\n"
     ]
    }
   ],
   "source": [
    "# get first post\n",
    "first_post = F.min('post_created_at').alias('earliest')\n",
    "# get latest post\n",
    "latest_post = F.max('post_created_at').alias('latest')\n",
    "# show tweet period in our dataset\n",
    "df.select(first_post, latest_post).show()"
   ]
  },
  {
   "cell_type": "code",
   "execution_count": 8,
   "id": "41a05e41",
   "metadata": {},
   "outputs": [],
   "source": [
    "#drop duplicates and retweets \n",
    "df = df.filter(~F.col(\"full_text\").startswith(\"RT\"))\\\n",
    "                        .drop_duplicates()\n",
    "#sorting such when dropping later we only keep the most recent post \n",
    "df = df.sort(\"post_created_at\", ascending=False)\n",
    "#removing spam accounts \n",
    "df = df.drop_duplicates([\"full_text\", \"screen_name\"])\n",
    "\n",
    "#df.printSchema()\n",
    "#df.count() #1340938"
   ]
  },
  {
   "cell_type": "markdown",
   "id": "78c1c454",
   "metadata": {},
   "source": [
    "## 2.2 Feature Engineering"
   ]
  },
  {
   "cell_type": "code",
   "execution_count": 9,
   "id": "afe191ec",
   "metadata": {},
   "outputs": [],
   "source": [
    "# define function to count hashtags\n",
    "def get_hashtags(tokenized_text):\n",
    "    counter = 0\n",
    "    for word in tokenized_text:\n",
    "        if \"#\" in word:\n",
    "            counter += 1\n",
    "    return(counter)"
   ]
  },
  {
   "cell_type": "code",
   "execution_count": 10,
   "id": "f9f59886",
   "metadata": {},
   "outputs": [],
   "source": [
    "# define function to count mentions\n",
    "def get_mentions(tokenized_text):\n",
    "    counter = 0\n",
    "    for word in tokenized_text:\n",
    "        if \"@\" in word:\n",
    "            counter += 1\n",
    "    return(counter)"
   ]
  },
  {
   "cell_type": "code",
   "execution_count": 11,
   "id": "f5d6db08",
   "metadata": {},
   "outputs": [],
   "source": [
    "# define function to count exclamation marks\n",
    "def get_exclamation_marks(tokenized_text):\n",
    "    counter = 0\n",
    "    for word in tokenized_text:\n",
    "        if \"!\" in word:\n",
    "            counter += 1\n",
    "    return(counter)"
   ]
  },
  {
   "cell_type": "code",
   "execution_count": 12,
   "id": "c2ff4dc1",
   "metadata": {},
   "outputs": [],
   "source": [
    "# define function to count number of emojis used\n",
    "def emoji_counter(text):\n",
    "    nr_emojis = emojis.count(text)\n",
    "    return(nr_emojis)"
   ]
  },
  {
   "cell_type": "code",
   "execution_count": 13,
   "id": "03faf552",
   "metadata": {},
   "outputs": [],
   "source": [
    "# define function to calculate engagement rate\n",
    "def engagement_rate(favorite_count, retweet_count, followers_count):\n",
    "    if(followers_count == 0):\n",
    "        eng_rate = 0\n",
    "    else:\n",
    "        eng_rate = (favorite_count + retweet_count)/followers_count\n",
    "    \n",
    "    return eng_rate"
   ]
  },
  {
   "cell_type": "code",
   "execution_count": 14,
   "id": "0794cece",
   "metadata": {},
   "outputs": [],
   "source": [
    "# register functions as udf\n",
    "get_hashtags_UDF = F.udf(get_hashtags, IntegerType())\n",
    "get_mentions_UDF = F.udf(get_mentions, IntegerType())\n",
    "get_exclamation_marks_UDF = F.udf(get_exclamation_marks, IntegerType())\n",
    "emoji_counter_UDF = F.udf(emoji_counter, IntegerType())\n",
    "engagement_rate_UDF = F.udf(engagement_rate, DoubleType())"
   ]
  },
  {
   "cell_type": "code",
   "execution_count": 15,
   "id": "589c51a5",
   "metadata": {},
   "outputs": [],
   "source": [
    "# apply functions to create new features\n",
    "df = df.withColumn(\"emoji_count\", emoji_counter_UDF(\"full_text\")) \\\n",
    "        .withColumn(\"text_tokenized\", F.split(\"full_text\", \" \")) \\\n",
    "        .withColumn(\"num_words\", F.size(\"text_tokenized\")) \\\n",
    "        .withColumn(\"num_hashtags\", get_hashtags_UDF(\"text_tokenized\")) \\\n",
    "        .withColumn(\"num_mentions\", get_mentions_UDF(\"text_tokenized\")) \\\n",
    "        .withColumn(\"num_exclamation_marks\", get_exclamation_marks_UDF(\"text_tokenized\")) \\\n",
    "        .withColumn(\"engagement_rate\", engagement_rate_UDF(\"favorite_count\", \"retweet_count\", \"followers_count\"))"
   ]
  },
  {
   "cell_type": "code",
   "execution_count": 117,
   "id": "f1beb364",
   "metadata": {},
   "outputs": [
    {
     "data": {
      "text/html": [
       "<div>\n",
       "<style scoped>\n",
       "    .dataframe tbody tr th:only-of-type {\n",
       "        vertical-align: middle;\n",
       "    }\n",
       "\n",
       "    .dataframe tbody tr th {\n",
       "        vertical-align: top;\n",
       "    }\n",
       "\n",
       "    .dataframe thead th {\n",
       "        text-align: right;\n",
       "    }\n",
       "</style>\n",
       "<table border=\"1\" class=\"dataframe\">\n",
       "  <thead>\n",
       "    <tr style=\"text-align: right;\">\n",
       "      <th></th>\n",
       "      <th>full_text</th>\n",
       "      <th>emoji_count</th>\n",
       "      <th>num_words</th>\n",
       "      <th>num_hashtags</th>\n",
       "      <th>num_mentions</th>\n",
       "      <th>num_exclamation_marks</th>\n",
       "      <th>engagement_rate</th>\n",
       "    </tr>\n",
       "  </thead>\n",
       "  <tbody>\n",
       "    <tr>\n",
       "      <th>693927</th>\n",
       "      <td>@TheOnlyWarman @sourtimbits Not sure about tha...</td>\n",
       "      <td>0</td>\n",
       "      <td>21</td>\n",
       "      <td>0</td>\n",
       "      <td>2</td>\n",
       "      <td>0</td>\n",
       "      <td>0.000000</td>\n",
       "    </tr>\n",
       "    <tr>\n",
       "      <th>693928</th>\n",
       "      <td>@MontielRene \"El mae que come en restaurante v...</td>\n",
       "      <td>1</td>\n",
       "      <td>12</td>\n",
       "      <td>0</td>\n",
       "      <td>1</td>\n",
       "      <td>0</td>\n",
       "      <td>0.000000</td>\n",
       "    </tr>\n",
       "    <tr>\n",
       "      <th>693929</th>\n",
       "      <td>@wolfje220560 @HermanB86871141 @h3l33nboS @Car...</td>\n",
       "      <td>3</td>\n",
       "      <td>30</td>\n",
       "      <td>0</td>\n",
       "      <td>5</td>\n",
       "      <td>1</td>\n",
       "      <td>0.003268</td>\n",
       "    </tr>\n",
       "    <tr>\n",
       "      <th>693930</th>\n",
       "      <td>Uptick of positive veganism takes on the TL fr...</td>\n",
       "      <td>0</td>\n",
       "      <td>15</td>\n",
       "      <td>0</td>\n",
       "      <td>0</td>\n",
       "      <td>0</td>\n",
       "      <td>0.010124</td>\n",
       "    </tr>\n",
       "    <tr>\n",
       "      <th>693931</th>\n",
       "      <td>Wow! Busy morning, thank you! 😃\\nLive music th...</td>\n",
       "      <td>2</td>\n",
       "      <td>37</td>\n",
       "      <td>6</td>\n",
       "      <td>0</td>\n",
       "      <td>3</td>\n",
       "      <td>0.000861</td>\n",
       "    </tr>\n",
       "  </tbody>\n",
       "</table>\n",
       "</div>"
      ],
      "text/plain": [
       "                                                full_text  emoji_count  \\\n",
       "693927  @TheOnlyWarman @sourtimbits Not sure about tha...            0   \n",
       "693928  @MontielRene \"El mae que come en restaurante v...            1   \n",
       "693929  @wolfje220560 @HermanB86871141 @h3l33nboS @Car...            3   \n",
       "693930  Uptick of positive veganism takes on the TL fr...            0   \n",
       "693931  Wow! Busy morning, thank you! 😃\\nLive music th...            2   \n",
       "\n",
       "        num_words  num_hashtags  num_mentions  num_exclamation_marks  \\\n",
       "693927         21             0             2                      0   \n",
       "693928         12             0             1                      0   \n",
       "693929         30             0             5                      1   \n",
       "693930         15             0             0                      0   \n",
       "693931         37             6             0                      3   \n",
       "\n",
       "        engagement_rate  \n",
       "693927         0.000000  \n",
       "693928         0.000000  \n",
       "693929         0.003268  \n",
       "693930         0.010124  \n",
       "693931         0.000861  "
      ]
     },
     "execution_count": 117,
     "metadata": {},
     "output_type": "execute_result"
    }
   ],
   "source": [
    "# show\n",
    "df.select(\"full_text\", \"emoji_count\", \"num_words\", \"num_hashtags\", \"num_mentions\", \"num_exclamation_marks\", \"engagement_rate\").toPandas().tail(5)"
   ]
  },
  {
   "cell_type": "markdown",
   "id": "73b35710",
   "metadata": {},
   "source": [
    "# 3. Text Cleaning "
   ]
  },
  {
   "cell_type": "code",
   "execution_count": 16,
   "id": "27b483df",
   "metadata": {},
   "outputs": [],
   "source": [
    "# filter for english tweets (NOTE: for the assignment you can translate non-english tweets using an API)\n",
    "df = df.filter(F.col(\"lang\") == \"en\")"
   ]
  },
  {
   "cell_type": "code",
   "execution_count": 42,
   "id": "72531af2",
   "metadata": {},
   "outputs": [
    {
     "data": {
      "text/plain": [
       "469429"
      ]
     },
     "execution_count": 42,
     "metadata": {},
     "output_type": "execute_result"
    }
   ],
   "source": [
    "# check number of observations\n",
    "df.count()"
   ]
  },
  {
   "cell_type": "code",
   "execution_count": 17,
   "id": "21463c8a",
   "metadata": {},
   "outputs": [],
   "source": [
    "# define function to clean text\n",
    "def clean_text(string):\n",
    "    \n",
    "    # define numbers\n",
    "    NUMBERS = '0123456789'\n",
    "    PUNCT = '!\"#$%&\\'()*+,-./:;<=>?@[\\\\]^_`{|}~'\n",
    "    \n",
    "    # convert text to lower case\n",
    "    cleaned_string = string.lower()\n",
    "    \n",
    "    # remove URLS\n",
    "    cleaned_string = re.sub(r'http\\S+', ' ', cleaned_string)\n",
    "    \n",
    "    # replace emojis by words\n",
    "    cleaned_string = emojis.decode(cleaned_string)\n",
    "    cleaned_string = cleaned_string.replace(\":\",\" \").replace(\"_\",\" \")\n",
    "    cleaned_string = ' '.join(cleaned_string.split())\n",
    "    \n",
    "    # remove numbers\n",
    "    cleaned_string = \"\".join([char for char in cleaned_string if char not in NUMBERS])\n",
    "    \n",
    "    # remove punctuation\n",
    "    cleaned_string = \"\".join([char for char in cleaned_string if char not in PUNCT])\n",
    "    \n",
    "    # remove words conisting of one character (or less)\n",
    "    cleaned_string = ' '.join([w for w in cleaned_string.split() if len(w) > 1])\n",
    "    \n",
    "    # return\n",
    "    return(cleaned_string)"
   ]
  },
  {
   "cell_type": "code",
   "execution_count": 18,
   "id": "78be9ce1",
   "metadata": {},
   "outputs": [],
   "source": [
    "# convert to udf\n",
    "clean_text_udf = F.udf(clean_text, StringType())"
   ]
  },
  {
   "cell_type": "code",
   "execution_count": 19,
   "id": "10aa5535",
   "metadata": {},
   "outputs": [],
   "source": [
    "# clean string\n",
    "df = df.withColumn(\"cleaned_text\", clean_text_udf(F.col(\"full_text\")))"
   ]
  },
  {
   "cell_type": "code",
   "execution_count": 128,
   "id": "da1c608f",
   "metadata": {
    "scrolled": true
   },
   "outputs": [
    {
     "data": {
      "text/html": [
       "<div>\n",
       "<style scoped>\n",
       "    .dataframe tbody tr th:only-of-type {\n",
       "        vertical-align: middle;\n",
       "    }\n",
       "\n",
       "    .dataframe tbody tr th {\n",
       "        vertical-align: top;\n",
       "    }\n",
       "\n",
       "    .dataframe thead th {\n",
       "        text-align: right;\n",
       "    }\n",
       "</style>\n",
       "<table border=\"1\" class=\"dataframe\">\n",
       "  <thead>\n",
       "    <tr style=\"text-align: right;\">\n",
       "      <th></th>\n",
       "      <th>full_text</th>\n",
       "      <th>cleaned_text</th>\n",
       "    </tr>\n",
       "  </thead>\n",
       "  <tbody>\n",
       "    <tr>\n",
       "      <th>0</th>\n",
       "      <td>\"A lot of people say they can't eat vegan, but I'm just like them – and if I can do it they can do it.\" Nichole Lewis who is a 26-year-old mom lost 120 pounds and improved her #mentalhealth by eating a plant-based diet. Here are her weight loss secrets: https://t.co/4RAT8rwqTO</td>\n",
       "      <td>lot of people say they cant eat vegan but im just like them and if can do it they can do it nichole lewis who is yearold mom lost pounds and improved her mentalhealth by eating plantbased diet here are her weight loss secrets</td>\n",
       "    </tr>\n",
       "    <tr>\n",
       "      <th>1</th>\n",
       "      <td>\"By now, your [vegan/vegetarian] lifestyle may be so easy to maintain that you don't even have to think about it...All of this can change when you study abroad.\" Check out Hannah's tips on staying vegan while abroad: https://t.co/fIy45ntvTD</td>\n",
       "      <td>by now your veganvegetarian lifestyle may be so easy to maintain that you dont even have to think about itall of this can change when you study abroad check out hannahs tips on staying vegan while abroad</td>\n",
       "    </tr>\n",
       "    <tr>\n",
       "      <th>2</th>\n",
       "      <td>\"Don't stay in the sun\"\\n\"Use sunscreen\"\\n\"Red meat is bad for you\"\\n\"Vegan diet is healthy\"\\n\"Seed oil is healthy\"\\n\"Inflation is a good thing\"\\n\"#Bitcoin is bad for the enviroment\"\\n\\nWhat other things does the media portray as positive while being extremely damaging?</td>\n",
       "      <td>dont stay in the sun use sunscreen red meat is bad for you vegan diet is healthy seed oil is healthy inflation is good thing bitcoin is bad for the enviroment what other things does the media portray as positive while being extremely damaging</td>\n",
       "    </tr>\n",
       "    <tr>\n",
       "      <th>3</th>\n",
       "      <td>\"Heroes sacrifice for causes; they do things that others hide from. I may not be some great hero, but I won't hide from this\" - Brandon Mull.\\n#Antispeciesism \\n#Animalliberation \\n#Vegan\\n#Love https://t.co/1hK7FXsgRo</td>\n",
       "      <td>heroes sacrifice for causes they do things that others hide from may not be some great hero but wont hide from this brandon mull antispeciesism animalliberation vegan love</td>\n",
       "    </tr>\n",
       "    <tr>\n",
       "      <th>4</th>\n",
       "      <td>\"Last year over a million people left the same suicide note... SHOPPING LIST: Butter, Eggs, Milk, Cheese, Beef, Chicken, and Bacon.\" - Physicians Committee for Responsible Medicine\\n#vegan</td>\n",
       "      <td>last year over million people left the same suicide note shopping list butter eggs milk cheese beef chicken and bacon physicians committee for responsible medicine vegan</td>\n",
       "    </tr>\n",
       "  </tbody>\n",
       "</table>\n",
       "</div>"
      ],
      "text/plain": [
       "                                                                                                                                                                                                                                                                               full_text  \\\n",
       "0  \"A lot of people say they can't eat vegan, but I'm just like them – and if I can do it they can do it.\" Nichole Lewis who is a 26-year-old mom lost 120 pounds and improved her #mentalhealth by eating a plant-based diet. Here are her weight loss secrets: https://t.co/4RAT8rwqTO   \n",
       "1                                       \"By now, your [vegan/vegetarian] lifestyle may be so easy to maintain that you don't even have to think about it...All of this can change when you study abroad.\" Check out Hannah's tips on staying vegan while abroad: https://t.co/fIy45ntvTD   \n",
       "2         \"Don't stay in the sun\"\\n\"Use sunscreen\"\\n\"Red meat is bad for you\"\\n\"Vegan diet is healthy\"\\n\"Seed oil is healthy\"\\n\"Inflation is a good thing\"\\n\"#Bitcoin is bad for the enviroment\"\\n\\nWhat other things does the media portray as positive while being extremely damaging?   \n",
       "3                                                             \"Heroes sacrifice for causes; they do things that others hide from. I may not be some great hero, but I won't hide from this\" - Brandon Mull.\\n#Antispeciesism \\n#Animalliberation \\n#Vegan\\n#Love https://t.co/1hK7FXsgRo   \n",
       "4                                                                                           \"Last year over a million people left the same suicide note... SHOPPING LIST: Butter, Eggs, Milk, Cheese, Beef, Chicken, and Bacon.\" - Physicians Committee for Responsible Medicine\\n#vegan   \n",
       "\n",
       "                                                                                                                                                                                                                                         cleaned_text  \n",
       "0                   lot of people say they cant eat vegan but im just like them and if can do it they can do it nichole lewis who is yearold mom lost pounds and improved her mentalhealth by eating plantbased diet here are her weight loss secrets  \n",
       "1                                         by now your veganvegetarian lifestyle may be so easy to maintain that you dont even have to think about itall of this can change when you study abroad check out hannahs tips on staying vegan while abroad  \n",
       "2  dont stay in the sun use sunscreen red meat is bad for you vegan diet is healthy seed oil is healthy inflation is good thing bitcoin is bad for the enviroment what other things does the media portray as positive while being extremely damaging  \n",
       "3                                                                         heroes sacrifice for causes they do things that others hide from may not be some great hero but wont hide from this brandon mull antispeciesism animalliberation vegan love  \n",
       "4                                                                           last year over million people left the same suicide note shopping list butter eggs milk cheese beef chicken and bacon physicians committee for responsible medicine vegan  "
      ]
     },
     "execution_count": 128,
     "metadata": {},
     "output_type": "execute_result"
    }
   ],
   "source": [
    "# check\n",
    "pd.set_option('display.max_colwidth', None)\n",
    "df.select(\"full_text\", \"cleaned_text\").limit(5).toPandas()"
   ]
  },
  {
   "cell_type": "markdown",
   "id": "7c208299",
   "metadata": {},
   "source": [
    "# 4. Sentiment "
   ]
  },
  {
   "cell_type": "markdown",
   "id": "d629fdb2",
   "metadata": {},
   "source": [
    "## 4.1 The Vader Package"
   ]
  },
  {
   "cell_type": "markdown",
   "id": "69c3c5da",
   "metadata": {},
   "source": [
    "VADER sentimental analysis relies on a dictionary that maps lexical features to emotion intensities known as sentiment scores. The sentiment score of a text can be obtained by summing up the intensity of each word in the text."
   ]
  },
  {
   "cell_type": "code",
   "execution_count": 20,
   "id": "ae5c817a",
   "metadata": {
    "scrolled": true
   },
   "outputs": [],
   "source": [
    "#using the vaderSentiment package \n",
    "from vaderSentiment.vaderSentiment import SentimentIntensityAnalyzer\n",
    "from pyspark.sql.functions import udf\n",
    "from pyspark.sql.types import *"
   ]
  },
  {
   "cell_type": "code",
   "execution_count": 21,
   "id": "c91ff1f9",
   "metadata": {},
   "outputs": [],
   "source": [
    "# define the function to extract the sentiment\n",
    "def get_sentiment(sentence):\n",
    "\n",
    "    # initialize sentiment analyzer\n",
    "    sid_obj = SentimentIntensityAnalyzer()\n",
    "\n",
    "    # get sentiment dict\n",
    "    sentiment_dict = sid_obj.polarity_scores(sentence)\n",
    "    \n",
    "    # get positive sentiment score\n",
    "    pos_sentiment = sentiment_dict[\"pos\"]\n",
    "    \n",
    "    # return positive sentiment score\n",
    "    return(pos_sentiment)\n",
    "\n",
    "get_sentiment_udf = udf(get_sentiment, DoubleType())"
   ]
  },
  {
   "cell_type": "code",
   "execution_count": 22,
   "id": "006cc221",
   "metadata": {},
   "outputs": [],
   "source": [
    "df = df.withColumn(\"sentiment_vader\", get_sentiment_udf(F.col(\"cleaned_text\")))"
   ]
  },
  {
   "cell_type": "code",
   "execution_count": 153,
   "id": "4304a09d",
   "metadata": {},
   "outputs": [
    {
     "name": "stdout",
     "output_type": "stream",
     "text": [
      "+--------------------+---------------+\n",
      "|        cleaned_text|sentiment_vader|\n",
      "+--------------------+---------------+\n",
      "|lot of people say...|          0.139|\n",
      "|by now your vegan...|          0.094|\n",
      "|dont stay in the ...|            0.2|\n",
      "|heroes sacrifice ...|          0.321|\n",
      "|last year over mi...|          0.075|\n",
      "|monday mint motiv...|          0.098|\n",
      "|no nut november m...|          0.238|\n",
      "|sir why did you s...|          0.263|\n",
      "|there are many go...|          0.114|\n",
      "|vegan diets provi...|          0.314|\n",
      "|we were given veg...|           0.16|\n",
      "|why are vegans so...|          0.164|\n",
      "|would you ever go...|            0.0|\n",
      "|you doing anythin...|          0.172|\n",
      "|defeating russia ...|            0.0|\n",
      "|sustainabledecisi...|          0.061|\n",
      "|arfeatures cai st...|            0.0|\n",
      "|bgan punks are no...|            0.0|\n",
      "|cbdoil for anxiet...|          0.372|\n",
      "|didyouknow as lon...|            0.0|\n",
      "+--------------------+---------------+\n",
      "only showing top 20 rows\n",
      "\n"
     ]
    }
   ],
   "source": [
    "df.select(\"cleaned_text\", \"sentiment_vader\").show()"
   ]
  },
  {
   "cell_type": "markdown",
   "id": "aaccb726",
   "metadata": {},
   "source": [
    "## 4.2 TextBlob Package "
   ]
  },
  {
   "cell_type": "markdown",
   "id": "22b19ef7",
   "metadata": {},
   "source": [
    "TextBlob returns polarity and subjectivity of a sentence. \n",
    "\n",
    "**Polarity** lies between [-1,1],  -1 defines a negative sentiment and 1 defines a positive sentiment.  \n",
    "\n",
    "**Subjectivity** quantifies the amount of personal opinion and factual information contained in the text. Subjectivity lies between [0,1]. The higher subjectivity means that the text contains personal opinion rather than factual information. "
   ]
  },
  {
   "cell_type": "code",
   "execution_count": 23,
   "id": "a40b0ed3",
   "metadata": {},
   "outputs": [],
   "source": [
    "#use polarity and subjectivity from TextBlob \n",
    "#https://textblob.readthedocs.io/en/dev/\n",
    "from textblob import TextBlob"
   ]
  },
  {
   "cell_type": "code",
   "execution_count": 24,
   "id": "3b53ed17",
   "metadata": {},
   "outputs": [],
   "source": [
    "# define function to get polarity score of text document\n",
    "def get_polarity(row):\n",
    "    textBlob_review = TextBlob(row)\n",
    "    return textBlob_review.sentiment[0]\n",
    "# define function to get subjectivity score of text document\n",
    "def get_subjectivity(row):\n",
    "    textBlob_review = TextBlob(row)\n",
    "    return textBlob_review.sentiment[1]\n",
    "get_polarity_udf = F.udf(get_polarity, DoubleType())\n",
    "get_subjectivity_udf = F.udf(get_subjectivity, DoubleType())"
   ]
  },
  {
   "cell_type": "code",
   "execution_count": 25,
   "id": "60590543",
   "metadata": {},
   "outputs": [],
   "source": [
    "df = df.withColumn('polarity', get_polarity_udf(F.col('cleaned_text')))\\\n",
    "        .withColumn('subjectivity', get_subjectivity_udf(F.col('cleaned_text')))"
   ]
  },
  {
   "cell_type": "code",
   "execution_count": 157,
   "id": "edaa86eb",
   "metadata": {
    "scrolled": true
   },
   "outputs": [
    {
     "name": "stdout",
     "output_type": "stream",
     "text": [
      "+--------------------+---------------+--------------------+-------------------+\n",
      "|        cleaned_text|sentiment_vader|            polarity|       subjectivity|\n",
      "+--------------------+---------------+--------------------+-------------------+\n",
      "|lot of people say...|          0.139|                 0.0|                0.0|\n",
      "|by now your vegan...|          0.094| 0.43333333333333335| 0.8333333333333334|\n",
      "|dont stay in the ...|            0.2|0.030808080808080826| 0.5393097643097643|\n",
      "|heroes sacrifice ...|          0.321|                0.65|              0.675|\n",
      "|last year over mi...|          0.075|-0.07999999999999999| 0.3383333333333333|\n",
      "|monday mint motiv...|          0.098|                 0.0|                0.0|\n",
      "|no nut november m...|          0.238|            0.221875|0.47187500000000004|\n",
      "|sir why did you s...|          0.263|  0.6166666666666667| 0.4666666666666666|\n",
      "|there are many go...|          0.114|  0.2785714285714286|               0.55|\n",
      "|vegan diets provi...|          0.314|                 0.0|                0.0|\n",
      "|we were given veg...|           0.16|                 0.0|                0.0|\n",
      "|why are vegans so...|          0.164|-0.26666666666666666| 0.7999999999999999|\n",
      "|would you ever go...|            0.0|                 0.5|                0.6|\n",
      "|you doing anythin...|          0.172| 0.17857142857142858| 0.3482142857142857|\n",
      "|defeating russia ...|            0.0|               -0.25|                0.5|\n",
      "|sustainabledecisi...|          0.061|  0.3181818181818182|                0.5|\n",
      "|arfeatures cai st...|            0.0|                -0.2|              0.475|\n",
      "|bgan punks are no...|            0.0|                 0.0|                0.0|\n",
      "|cbdoil for anxiet...|          0.372|                -0.2|                0.3|\n",
      "|didyouknow as lon...|            0.0|0.033333333333333326| 0.3166666666666667|\n",
      "+--------------------+---------------+--------------------+-------------------+\n",
      "only showing top 20 rows\n",
      "\n"
     ]
    }
   ],
   "source": [
    "df.select(\"cleaned_text\", \"sentiment_vader\", \"polarity\", \"subjectivity\").show()"
   ]
  },
  {
   "cell_type": "markdown",
   "id": "9662fb51",
   "metadata": {},
   "source": [
    "# 5. Basetable "
   ]
  },
  {
   "cell_type": "code",
   "execution_count": 26,
   "id": "c7c69f8d",
   "metadata": {
    "scrolled": true
   },
   "outputs": [
    {
     "name": "stdout",
     "output_type": "stream",
     "text": [
      "root\n",
      " |-- name: string (nullable = true)\n",
      " |-- screen_name: string (nullable = true)\n",
      " |-- created_at: string (nullable = true)\n",
      " |-- full_text: string (nullable = true)\n",
      " |-- hashtags: array (nullable = true)\n",
      " |    |-- element: struct (containsNull = true)\n",
      " |    |    |-- indices: array (nullable = true)\n",
      " |    |    |    |-- element: long (containsNull = true)\n",
      " |    |    |-- text: string (nullable = true)\n",
      " |-- lang: string (nullable = true)\n",
      " |-- favorite_count: long (nullable = true)\n",
      " |-- retweet_count: long (nullable = true)\n",
      " |-- followers_count: long (nullable = true)\n",
      " |-- friends_count: long (nullable = true)\n",
      " |-- favourites_count: long (nullable = true)\n",
      " |-- urls: array (nullable = true)\n",
      " |    |-- element: struct (containsNull = true)\n",
      " |    |    |-- display_url: string (nullable = true)\n",
      " |    |    |-- expanded_url: string (nullable = true)\n",
      " |    |    |-- indices: array (nullable = true)\n",
      " |    |    |    |-- element: long (containsNull = true)\n",
      " |    |    |-- url: string (nullable = true)\n",
      " |-- symbols: array (nullable = true)\n",
      " |    |-- element: struct (containsNull = true)\n",
      " |    |    |-- indices: array (nullable = true)\n",
      " |    |    |    |-- element: long (containsNull = true)\n",
      " |    |    |-- text: string (nullable = true)\n",
      " |-- post_created_at: timestamp (nullable = true)\n",
      " |-- emoji_count: integer (nullable = true)\n",
      " |-- text_tokenized: array (nullable = true)\n",
      " |    |-- element: string (containsNull = true)\n",
      " |-- num_words: integer (nullable = false)\n",
      " |-- num_hashtags: integer (nullable = true)\n",
      " |-- num_mentions: integer (nullable = true)\n",
      " |-- num_exclamation_marks: integer (nullable = true)\n",
      " |-- engagement_rate: double (nullable = true)\n",
      " |-- cleaned_text: string (nullable = true)\n",
      " |-- sentiment_vader: double (nullable = true)\n",
      " |-- polarity: double (nullable = true)\n",
      " |-- subjectivity: double (nullable = true)\n",
      "\n"
     ]
    }
   ],
   "source": [
    "df.printSchema()"
   ]
  },
  {
   "cell_type": "markdown",
   "id": "a8ba4ee2",
   "metadata": {},
   "source": [
    "## 5.1 Adjust dates to opening hours stock exchange"
   ]
  },
  {
   "cell_type": "markdown",
   "id": "6b01ffc5",
   "metadata": {},
   "source": [
    "First look at how many dates appear in our dataframe before adjusting the dates"
   ]
  },
  {
   "cell_type": "code",
   "execution_count": 27,
   "id": "e38b61c9",
   "metadata": {},
   "outputs": [],
   "source": [
    "def date_check(tweet_date):\n",
    "    tweet_date = pd.to_datetime(tweet_date)\n",
    "    return tweet_date.date()"
   ]
  },
  {
   "cell_type": "code",
   "execution_count": 28,
   "id": "6fe5b1bb",
   "metadata": {},
   "outputs": [],
   "source": [
    "date_check_udf = udf(date_check, DateType())\n",
    "df = df.withColumn('date_check', date_check_udf(F.col('created_at')))"
   ]
  },
  {
   "cell_type": "code",
   "execution_count": 132,
   "id": "434de313",
   "metadata": {},
   "outputs": [
    {
     "name": "stdout",
     "output_type": "stream",
     "text": [
      "+--------------------------+\n",
      "|count(DISTINCT date_check)|\n",
      "+--------------------------+\n",
      "|                       232|\n",
      "+--------------------------+\n",
      "\n"
     ]
    }
   ],
   "source": [
    "date_count = df.select(F.countDistinct(\"date_check\"))\n",
    "date_count.show()"
   ]
  },
  {
   "cell_type": "markdown",
   "id": "0047794b",
   "metadata": {},
   "source": [
    "The class below contains all the official holidays where the stockmarket is closed, this is needed to be able to assign the tweets that are posted on a holiday, to the next day"
   ]
  },
  {
   "cell_type": "code",
   "execution_count": 29,
   "id": "d5a92d06",
   "metadata": {},
   "outputs": [],
   "source": [
    "import datetime"
   ]
  },
  {
   "cell_type": "code",
   "execution_count": 30,
   "id": "02e7d11f",
   "metadata": {},
   "outputs": [],
   "source": [
    "class USTradingHolidaysCalendar(AbstractHolidayCalendar):\n",
    "    rules = [\n",
    "        Holiday(\n",
    "            'NewYearsDay',\n",
    "            month=1,\n",
    "            day=1,\n",
    "            observance=nearest_workday\n",
    "        ),\n",
    "        USMartinLutherKingJr,\n",
    "        USPresidentsDay,\n",
    "        GoodFriday,\n",
    "        USMemorialDay,\n",
    "        Holiday(\n",
    "            'Juneteenth National Independence Day',\n",
    "            month=6,\n",
    "            day=19,\n",
    "            start_date='2021-06-18',\n",
    "            observance=nearest_workday,\n",
    "        ),\n",
    "        Holiday(\n",
    "            'USIndependenceDay',\n",
    "            month=7,\n",
    "            day=4,\n",
    "            observance=nearest_workday\n",
    "        ),\n",
    "        USLaborDay,\n",
    "        USThanksgivingDay,\n",
    "        Holiday(\n",
    "            'Christmas',\n",
    "            month=12,\n",
    "            day=25,\n",
    "            observance=nearest_workday\n",
    "        ),\n",
    "    ]"
   ]
  },
  {
   "cell_type": "markdown",
   "id": "052ae633",
   "metadata": {},
   "source": [
    "This function calls the US holidays class and checks whether the tweet was posted on an holiday on which the stock market was closed. If this is the case the tweet is assigned to the next day that's not a holiday or weekend"
   ]
  },
  {
   "cell_type": "code",
   "execution_count": 31,
   "id": "22f3ff0a",
   "metadata": {},
   "outputs": [],
   "source": [
    "def check_holidays(tweet_date):\n",
    "    # get the holidays for the periods when the tweets where placed \n",
    "    cal = USTradingHolidaysCalendar()\n",
    "    holidays = cal.holidays(start='2021-10-11', end='2022-10-12')\n",
    "    tweet_date = pd.to_datetime(tweet_date)\n",
    "    # if the tweet is placed on a holiday, the tweet will be assigned to the next day that's not in the weekend\n",
    "    if(tweet_date in holidays):\n",
    "        tweet_date = tweet_date + datetime.timedelta(days = 1)\n",
    "        if(tweet_date.isoweekday() == 6):\n",
    "            tweet_date = tweet_date + datetime.timedelta(days = 2)\n",
    "        elif(tweet_date.isoweekday() == 6):\n",
    "            tweet_date = tweet_date + datetime.timedelta(days = 1)\n",
    "    return tweet_date"
   ]
  },
  {
   "cell_type": "markdown",
   "id": "6cbd5ffb",
   "metadata": {},
   "source": [
    "This function takes the opening hours of the stock exchange into account for the tweets. When a tweet is posted before the opening hours of the stock market, the tweet is assigned to the day iself. When a tweet is posted the monday, tuesday, wednesday or thursday after the opening hours it is assigned to the next day. When a tweet is posted on friday after the openingshours it is assigned to monday. As well as if the tweet was posted on a saturday or sunday. \n",
    "\n",
    "The case when a tweet is posted after the opening hours on friday is a special case in our code. When it goes throug the first if else it will be assigned to the next day, so to saturday. Than when it goes to the second if it is assigned to the monday"
   ]
  },
  {
   "cell_type": "code",
   "execution_count": 32,
   "id": "c4a00d7e",
   "metadata": {},
   "outputs": [],
   "source": [
    "def opening_hours(tweet_date):\n",
    "    tweet_date = pd.to_datetime(tweet_date)\n",
    "    open_NYSE = tweet_date.replace(hour=14, minute=30, second=0, microsecond=0)\n",
    "    close_NYSE = tweet_date.replace(hour=21, minute=0, second=0, microsecond=0)\n",
    "    # if the tweet is posted before the opening hours of the stock market, it is assigned to the next day\n",
    "    if (tweet_date < open_NYSE):\n",
    "        dependent_date = tweet_date.date()\n",
    "    # else when the tweet is posted after the opening hours, it is assigned to the next day\n",
    "    else:\n",
    "        dependent_date = tweet_date.date()\n",
    "        dependent_date = dependent_date + datetime.timedelta(days = 1)\n",
    "    # if the tweet is posted on a saturday, it is assigned to the next monday\n",
    "    if (dependent_date.isoweekday() == 6):\n",
    "        dependent_date = dependent_date + datetime.timedelta(days = 2)\n",
    "    # if the tweet is posted on a sunday, it is assigned to the next monday \n",
    "    if (dependent_date.isoweekday() == 7):\n",
    "        dependent_date = dependent_date + datetime.timedelta(days = 1)\n",
    "    return dependent_date"
   ]
  },
  {
   "cell_type": "markdown",
   "id": "4ed42c60",
   "metadata": {},
   "source": [
    "Now we will apply the functions on the dataset"
   ]
  },
  {
   "cell_type": "code",
   "execution_count": 33,
   "id": "78a3557c",
   "metadata": {
    "scrolled": true
   },
   "outputs": [],
   "source": [
    "opening_hours_udf = udf(opening_hours, DateType())\n",
    "check_holidays_udf = udf(check_holidays, DateType())\n",
    "df = df.withColumn('date_with_holidays', opening_hours_udf(F.col('created_at')))\n",
    "df = df.withColumn('date', check_holidays_udf(F.col('date_with_holidays')))"
   ]
  },
  {
   "cell_type": "code",
   "execution_count": 161,
   "id": "46b9af20",
   "metadata": {},
   "outputs": [
    {
     "name": "stdout",
     "output_type": "stream",
     "text": [
      "+--------------------+\n",
      "|count(DISTINCT date)|\n",
      "+--------------------+\n",
      "|                 165|\n",
      "+--------------------+\n",
      "\n"
     ]
    }
   ],
   "source": [
    "date_count_after = df.select(F.countDistinct(\"date\"))\n",
    "date_count_after.show()"
   ]
  },
  {
   "cell_type": "markdown",
   "id": "21752166",
   "metadata": {},
   "source": [
    "## 5.2 Dependent Variable"
   ]
  },
  {
   "cell_type": "markdown",
   "id": "901544d6",
   "metadata": {},
   "source": [
    "Import the stock information"
   ]
  },
  {
   "cell_type": "code",
   "execution_count": 34,
   "id": "a33ddc33",
   "metadata": {},
   "outputs": [],
   "source": [
    "stock_information = pd.read_excel(\"./../../data/stock_information.xlsx\")"
   ]
  },
  {
   "cell_type": "markdown",
   "id": "83c7e169",
   "metadata": {},
   "source": [
    "Here we create the dependent, which is the percentage of change compared to yesterday"
   ]
  },
  {
   "cell_type": "code",
   "execution_count": 35,
   "id": "0bc235fe",
   "metadata": {},
   "outputs": [
    {
     "data": {
      "text/html": [
       "<div>\n",
       "<style scoped>\n",
       "    .dataframe tbody tr th:only-of-type {\n",
       "        vertical-align: middle;\n",
       "    }\n",
       "\n",
       "    .dataframe tbody tr th {\n",
       "        vertical-align: top;\n",
       "    }\n",
       "\n",
       "    .dataframe thead th {\n",
       "        text-align: right;\n",
       "    }\n",
       "</style>\n",
       "<table border=\"1\" class=\"dataframe\">\n",
       "  <thead>\n",
       "    <tr style=\"text-align: right;\">\n",
       "      <th></th>\n",
       "      <th>symbol</th>\n",
       "      <th>date</th>\n",
       "      <th>open</th>\n",
       "      <th>high</th>\n",
       "      <th>low</th>\n",
       "      <th>close</th>\n",
       "      <th>volume</th>\n",
       "      <th>adjusted</th>\n",
       "      <th>close_yesterday</th>\n",
       "      <th>dependent</th>\n",
       "    </tr>\n",
       "  </thead>\n",
       "  <tbody>\n",
       "    <tr>\n",
       "      <th>0</th>\n",
       "      <td>VEGN</td>\n",
       "      <td>2021-10-11</td>\n",
       "      <td>40.020000</td>\n",
       "      <td>40.161999</td>\n",
       "      <td>39.759998</td>\n",
       "      <td>39.759998</td>\n",
       "      <td>5000</td>\n",
       "      <td>39.524410</td>\n",
       "      <td>NaN</td>\n",
       "      <td>NaN</td>\n",
       "    </tr>\n",
       "    <tr>\n",
       "      <th>1</th>\n",
       "      <td>VEGN</td>\n",
       "      <td>2021-10-12</td>\n",
       "      <td>39.840000</td>\n",
       "      <td>39.840000</td>\n",
       "      <td>39.669998</td>\n",
       "      <td>39.724998</td>\n",
       "      <td>4900</td>\n",
       "      <td>39.489620</td>\n",
       "      <td>39.759998</td>\n",
       "      <td>-0.000880</td>\n",
       "    </tr>\n",
       "    <tr>\n",
       "      <th>2</th>\n",
       "      <td>VEGN</td>\n",
       "      <td>2021-10-13</td>\n",
       "      <td>40.070000</td>\n",
       "      <td>40.099998</td>\n",
       "      <td>39.810001</td>\n",
       "      <td>39.924000</td>\n",
       "      <td>16000</td>\n",
       "      <td>39.687439</td>\n",
       "      <td>39.724998</td>\n",
       "      <td>0.005009</td>\n",
       "    </tr>\n",
       "    <tr>\n",
       "      <th>3</th>\n",
       "      <td>VEGN</td>\n",
       "      <td>2021-10-14</td>\n",
       "      <td>40.340000</td>\n",
       "      <td>40.765999</td>\n",
       "      <td>40.340000</td>\n",
       "      <td>40.765999</td>\n",
       "      <td>3100</td>\n",
       "      <td>40.524448</td>\n",
       "      <td>39.924000</td>\n",
       "      <td>0.021090</td>\n",
       "    </tr>\n",
       "    <tr>\n",
       "      <th>4</th>\n",
       "      <td>VEGN</td>\n",
       "      <td>2021-10-15</td>\n",
       "      <td>41.060001</td>\n",
       "      <td>41.150002</td>\n",
       "      <td>41.060001</td>\n",
       "      <td>41.122002</td>\n",
       "      <td>1700</td>\n",
       "      <td>40.878345</td>\n",
       "      <td>40.765999</td>\n",
       "      <td>0.008733</td>\n",
       "    </tr>\n",
       "    <tr>\n",
       "      <th>...</th>\n",
       "      <td>...</td>\n",
       "      <td>...</td>\n",
       "      <td>...</td>\n",
       "      <td>...</td>\n",
       "      <td>...</td>\n",
       "      <td>...</td>\n",
       "      <td>...</td>\n",
       "      <td>...</td>\n",
       "      <td>...</td>\n",
       "      <td>...</td>\n",
       "    </tr>\n",
       "    <tr>\n",
       "      <th>248</th>\n",
       "      <td>VEGN</td>\n",
       "      <td>2022-10-05</td>\n",
       "      <td>31.469999</td>\n",
       "      <td>31.628000</td>\n",
       "      <td>31.120001</td>\n",
       "      <td>31.628000</td>\n",
       "      <td>1800</td>\n",
       "      <td>31.628000</td>\n",
       "      <td>31.719999</td>\n",
       "      <td>-0.002900</td>\n",
       "    </tr>\n",
       "    <tr>\n",
       "      <th>249</th>\n",
       "      <td>VEGN</td>\n",
       "      <td>2022-10-06</td>\n",
       "      <td>31.559999</td>\n",
       "      <td>31.600000</td>\n",
       "      <td>31.309999</td>\n",
       "      <td>31.309999</td>\n",
       "      <td>1200</td>\n",
       "      <td>31.309999</td>\n",
       "      <td>31.628000</td>\n",
       "      <td>-0.010054</td>\n",
       "    </tr>\n",
       "    <tr>\n",
       "      <th>250</th>\n",
       "      <td>VEGN</td>\n",
       "      <td>2022-10-07</td>\n",
       "      <td>30.299999</td>\n",
       "      <td>30.299999</td>\n",
       "      <td>30.180000</td>\n",
       "      <td>30.239000</td>\n",
       "      <td>1300</td>\n",
       "      <td>30.239000</td>\n",
       "      <td>31.309999</td>\n",
       "      <td>-0.034206</td>\n",
       "    </tr>\n",
       "    <tr>\n",
       "      <th>251</th>\n",
       "      <td>VEGN</td>\n",
       "      <td>2022-10-10</td>\n",
       "      <td>30.350000</td>\n",
       "      <td>30.350000</td>\n",
       "      <td>29.629999</td>\n",
       "      <td>29.830000</td>\n",
       "      <td>4500</td>\n",
       "      <td>29.830000</td>\n",
       "      <td>30.239000</td>\n",
       "      <td>-0.013526</td>\n",
       "    </tr>\n",
       "    <tr>\n",
       "      <th>252</th>\n",
       "      <td>VEGN</td>\n",
       "      <td>2022-10-11</td>\n",
       "      <td>29.760000</td>\n",
       "      <td>29.860001</td>\n",
       "      <td>29.540001</td>\n",
       "      <td>29.540001</td>\n",
       "      <td>3200</td>\n",
       "      <td>29.540001</td>\n",
       "      <td>29.830000</td>\n",
       "      <td>-0.009722</td>\n",
       "    </tr>\n",
       "  </tbody>\n",
       "</table>\n",
       "<p>253 rows × 10 columns</p>\n",
       "</div>"
      ],
      "text/plain": [
       "    symbol       date       open       high        low      close  volume  \\\n",
       "0     VEGN 2021-10-11  40.020000  40.161999  39.759998  39.759998    5000   \n",
       "1     VEGN 2021-10-12  39.840000  39.840000  39.669998  39.724998    4900   \n",
       "2     VEGN 2021-10-13  40.070000  40.099998  39.810001  39.924000   16000   \n",
       "3     VEGN 2021-10-14  40.340000  40.765999  40.340000  40.765999    3100   \n",
       "4     VEGN 2021-10-15  41.060001  41.150002  41.060001  41.122002    1700   \n",
       "..     ...        ...        ...        ...        ...        ...     ...   \n",
       "248   VEGN 2022-10-05  31.469999  31.628000  31.120001  31.628000    1800   \n",
       "249   VEGN 2022-10-06  31.559999  31.600000  31.309999  31.309999    1200   \n",
       "250   VEGN 2022-10-07  30.299999  30.299999  30.180000  30.239000    1300   \n",
       "251   VEGN 2022-10-10  30.350000  30.350000  29.629999  29.830000    4500   \n",
       "252   VEGN 2022-10-11  29.760000  29.860001  29.540001  29.540001    3200   \n",
       "\n",
       "      adjusted  close_yesterday  dependent  \n",
       "0    39.524410              NaN        NaN  \n",
       "1    39.489620        39.759998  -0.000880  \n",
       "2    39.687439        39.724998   0.005009  \n",
       "3    40.524448        39.924000   0.021090  \n",
       "4    40.878345        40.765999   0.008733  \n",
       "..         ...              ...        ...  \n",
       "248  31.628000        31.719999  -0.002900  \n",
       "249  31.309999        31.628000  -0.010054  \n",
       "250  30.239000        31.309999  -0.034206  \n",
       "251  29.830000        30.239000  -0.013526  \n",
       "252  29.540001        29.830000  -0.009722  \n",
       "\n",
       "[253 rows x 10 columns]"
      ]
     },
     "metadata": {},
     "output_type": "display_data"
    }
   ],
   "source": [
    "stock_information[\"close_yesterday\"] = stock_information[\"close\"].shift(1)\n",
    "#stock_information = stock_information[stock_information.date != \"2021-10-11\"]\n",
    "stock_information[\"dependent\"] = (stock_information[\"close\"] - stock_information[\"close_yesterday\"])/stock_information[\"close_yesterday\"]\n",
    "display(stock_information)"
   ]
  },
  {
   "cell_type": "markdown",
   "id": "913ae992",
   "metadata": {},
   "source": [
    "This is a function that creates a binary variable. The variable will be 0 if the etf decreased or stayed on the same level, and will be 1 if the etf increased"
   ]
  },
  {
   "cell_type": "code",
   "execution_count": 36,
   "id": "b3d0cc39",
   "metadata": {},
   "outputs": [],
   "source": [
    "def make_dependent(x):\n",
    "    if x > 0:\n",
    "        x = 1\n",
    "    else:\n",
    "        x = 0\n",
    "    return x"
   ]
  },
  {
   "cell_type": "markdown",
   "id": "66630b06",
   "metadata": {},
   "source": [
    "Apply the function on the data"
   ]
  },
  {
   "cell_type": "code",
   "execution_count": 37,
   "id": "58eb8c2c",
   "metadata": {},
   "outputs": [
    {
     "data": {
      "text/html": [
       "<div>\n",
       "<style scoped>\n",
       "    .dataframe tbody tr th:only-of-type {\n",
       "        vertical-align: middle;\n",
       "    }\n",
       "\n",
       "    .dataframe tbody tr th {\n",
       "        vertical-align: top;\n",
       "    }\n",
       "\n",
       "    .dataframe thead th {\n",
       "        text-align: right;\n",
       "    }\n",
       "</style>\n",
       "<table border=\"1\" class=\"dataframe\">\n",
       "  <thead>\n",
       "    <tr style=\"text-align: right;\">\n",
       "      <th></th>\n",
       "      <th>symbol</th>\n",
       "      <th>date</th>\n",
       "      <th>open</th>\n",
       "      <th>high</th>\n",
       "      <th>low</th>\n",
       "      <th>close</th>\n",
       "      <th>volume</th>\n",
       "      <th>adjusted</th>\n",
       "      <th>close_yesterday</th>\n",
       "      <th>dependent</th>\n",
       "    </tr>\n",
       "  </thead>\n",
       "  <tbody>\n",
       "    <tr>\n",
       "      <th>0</th>\n",
       "      <td>VEGN</td>\n",
       "      <td>2021-10-11</td>\n",
       "      <td>40.020000</td>\n",
       "      <td>40.161999</td>\n",
       "      <td>39.759998</td>\n",
       "      <td>39.759998</td>\n",
       "      <td>5000</td>\n",
       "      <td>39.524410</td>\n",
       "      <td>NaN</td>\n",
       "      <td>0</td>\n",
       "    </tr>\n",
       "    <tr>\n",
       "      <th>1</th>\n",
       "      <td>VEGN</td>\n",
       "      <td>2021-10-12</td>\n",
       "      <td>39.840000</td>\n",
       "      <td>39.840000</td>\n",
       "      <td>39.669998</td>\n",
       "      <td>39.724998</td>\n",
       "      <td>4900</td>\n",
       "      <td>39.489620</td>\n",
       "      <td>39.759998</td>\n",
       "      <td>0</td>\n",
       "    </tr>\n",
       "    <tr>\n",
       "      <th>2</th>\n",
       "      <td>VEGN</td>\n",
       "      <td>2021-10-13</td>\n",
       "      <td>40.070000</td>\n",
       "      <td>40.099998</td>\n",
       "      <td>39.810001</td>\n",
       "      <td>39.924000</td>\n",
       "      <td>16000</td>\n",
       "      <td>39.687439</td>\n",
       "      <td>39.724998</td>\n",
       "      <td>1</td>\n",
       "    </tr>\n",
       "    <tr>\n",
       "      <th>3</th>\n",
       "      <td>VEGN</td>\n",
       "      <td>2021-10-14</td>\n",
       "      <td>40.340000</td>\n",
       "      <td>40.765999</td>\n",
       "      <td>40.340000</td>\n",
       "      <td>40.765999</td>\n",
       "      <td>3100</td>\n",
       "      <td>40.524448</td>\n",
       "      <td>39.924000</td>\n",
       "      <td>1</td>\n",
       "    </tr>\n",
       "    <tr>\n",
       "      <th>4</th>\n",
       "      <td>VEGN</td>\n",
       "      <td>2021-10-15</td>\n",
       "      <td>41.060001</td>\n",
       "      <td>41.150002</td>\n",
       "      <td>41.060001</td>\n",
       "      <td>41.122002</td>\n",
       "      <td>1700</td>\n",
       "      <td>40.878345</td>\n",
       "      <td>40.765999</td>\n",
       "      <td>1</td>\n",
       "    </tr>\n",
       "    <tr>\n",
       "      <th>...</th>\n",
       "      <td>...</td>\n",
       "      <td>...</td>\n",
       "      <td>...</td>\n",
       "      <td>...</td>\n",
       "      <td>...</td>\n",
       "      <td>...</td>\n",
       "      <td>...</td>\n",
       "      <td>...</td>\n",
       "      <td>...</td>\n",
       "      <td>...</td>\n",
       "    </tr>\n",
       "    <tr>\n",
       "      <th>248</th>\n",
       "      <td>VEGN</td>\n",
       "      <td>2022-10-05</td>\n",
       "      <td>31.469999</td>\n",
       "      <td>31.628000</td>\n",
       "      <td>31.120001</td>\n",
       "      <td>31.628000</td>\n",
       "      <td>1800</td>\n",
       "      <td>31.628000</td>\n",
       "      <td>31.719999</td>\n",
       "      <td>0</td>\n",
       "    </tr>\n",
       "    <tr>\n",
       "      <th>249</th>\n",
       "      <td>VEGN</td>\n",
       "      <td>2022-10-06</td>\n",
       "      <td>31.559999</td>\n",
       "      <td>31.600000</td>\n",
       "      <td>31.309999</td>\n",
       "      <td>31.309999</td>\n",
       "      <td>1200</td>\n",
       "      <td>31.309999</td>\n",
       "      <td>31.628000</td>\n",
       "      <td>0</td>\n",
       "    </tr>\n",
       "    <tr>\n",
       "      <th>250</th>\n",
       "      <td>VEGN</td>\n",
       "      <td>2022-10-07</td>\n",
       "      <td>30.299999</td>\n",
       "      <td>30.299999</td>\n",
       "      <td>30.180000</td>\n",
       "      <td>30.239000</td>\n",
       "      <td>1300</td>\n",
       "      <td>30.239000</td>\n",
       "      <td>31.309999</td>\n",
       "      <td>0</td>\n",
       "    </tr>\n",
       "    <tr>\n",
       "      <th>251</th>\n",
       "      <td>VEGN</td>\n",
       "      <td>2022-10-10</td>\n",
       "      <td>30.350000</td>\n",
       "      <td>30.350000</td>\n",
       "      <td>29.629999</td>\n",
       "      <td>29.830000</td>\n",
       "      <td>4500</td>\n",
       "      <td>29.830000</td>\n",
       "      <td>30.239000</td>\n",
       "      <td>0</td>\n",
       "    </tr>\n",
       "    <tr>\n",
       "      <th>252</th>\n",
       "      <td>VEGN</td>\n",
       "      <td>2022-10-11</td>\n",
       "      <td>29.760000</td>\n",
       "      <td>29.860001</td>\n",
       "      <td>29.540001</td>\n",
       "      <td>29.540001</td>\n",
       "      <td>3200</td>\n",
       "      <td>29.540001</td>\n",
       "      <td>29.830000</td>\n",
       "      <td>0</td>\n",
       "    </tr>\n",
       "  </tbody>\n",
       "</table>\n",
       "<p>253 rows × 10 columns</p>\n",
       "</div>"
      ],
      "text/plain": [
       "    symbol       date       open       high        low      close  volume  \\\n",
       "0     VEGN 2021-10-11  40.020000  40.161999  39.759998  39.759998    5000   \n",
       "1     VEGN 2021-10-12  39.840000  39.840000  39.669998  39.724998    4900   \n",
       "2     VEGN 2021-10-13  40.070000  40.099998  39.810001  39.924000   16000   \n",
       "3     VEGN 2021-10-14  40.340000  40.765999  40.340000  40.765999    3100   \n",
       "4     VEGN 2021-10-15  41.060001  41.150002  41.060001  41.122002    1700   \n",
       "..     ...        ...        ...        ...        ...        ...     ...   \n",
       "248   VEGN 2022-10-05  31.469999  31.628000  31.120001  31.628000    1800   \n",
       "249   VEGN 2022-10-06  31.559999  31.600000  31.309999  31.309999    1200   \n",
       "250   VEGN 2022-10-07  30.299999  30.299999  30.180000  30.239000    1300   \n",
       "251   VEGN 2022-10-10  30.350000  30.350000  29.629999  29.830000    4500   \n",
       "252   VEGN 2022-10-11  29.760000  29.860001  29.540001  29.540001    3200   \n",
       "\n",
       "      adjusted  close_yesterday  dependent  \n",
       "0    39.524410              NaN          0  \n",
       "1    39.489620        39.759998          0  \n",
       "2    39.687439        39.724998          1  \n",
       "3    40.524448        39.924000          1  \n",
       "4    40.878345        40.765999          1  \n",
       "..         ...              ...        ...  \n",
       "248  31.628000        31.719999          0  \n",
       "249  31.309999        31.628000          0  \n",
       "250  30.239000        31.309999          0  \n",
       "251  29.830000        30.239000          0  \n",
       "252  29.540001        29.830000          0  \n",
       "\n",
       "[253 rows x 10 columns]"
      ]
     },
     "metadata": {},
     "output_type": "display_data"
    }
   ],
   "source": [
    "stock_information[\"dependent\"] = stock_information[\"dependent\"].apply(lambda x: make_dependent(x))\n",
    "display(stock_information)"
   ]
  },
  {
   "cell_type": "code",
   "execution_count": 38,
   "id": "23e094e7",
   "metadata": {
    "scrolled": true
   },
   "outputs": [
    {
     "data": {
      "text/html": [
       "<div>\n",
       "<style scoped>\n",
       "    .dataframe tbody tr th:only-of-type {\n",
       "        vertical-align: middle;\n",
       "    }\n",
       "\n",
       "    .dataframe tbody tr th {\n",
       "        vertical-align: top;\n",
       "    }\n",
       "\n",
       "    .dataframe thead th {\n",
       "        text-align: right;\n",
       "    }\n",
       "</style>\n",
       "<table border=\"1\" class=\"dataframe\">\n",
       "  <thead>\n",
       "    <tr style=\"text-align: right;\">\n",
       "      <th></th>\n",
       "      <th>date</th>\n",
       "      <th>dependent</th>\n",
       "    </tr>\n",
       "  </thead>\n",
       "  <tbody>\n",
       "    <tr>\n",
       "      <th>0</th>\n",
       "      <td>2021-10-11</td>\n",
       "      <td>0</td>\n",
       "    </tr>\n",
       "    <tr>\n",
       "      <th>1</th>\n",
       "      <td>2021-10-12</td>\n",
       "      <td>0</td>\n",
       "    </tr>\n",
       "    <tr>\n",
       "      <th>2</th>\n",
       "      <td>2021-10-13</td>\n",
       "      <td>1</td>\n",
       "    </tr>\n",
       "    <tr>\n",
       "      <th>3</th>\n",
       "      <td>2021-10-14</td>\n",
       "      <td>1</td>\n",
       "    </tr>\n",
       "    <tr>\n",
       "      <th>4</th>\n",
       "      <td>2021-10-15</td>\n",
       "      <td>1</td>\n",
       "    </tr>\n",
       "  </tbody>\n",
       "</table>\n",
       "</div>"
      ],
      "text/plain": [
       "        date  dependent\n",
       "0 2021-10-11          0\n",
       "1 2021-10-12          0\n",
       "2 2021-10-13          1\n",
       "3 2021-10-14          1\n",
       "4 2021-10-15          1"
      ]
     },
     "execution_count": 38,
     "metadata": {},
     "output_type": "execute_result"
    }
   ],
   "source": [
    "basetable_dep = stock_information[['date', 'dependent']]\n",
    "basetable_dep.head()"
   ]
  },
  {
   "cell_type": "markdown",
   "id": "f8e69f9f",
   "metadata": {},
   "source": [
    "## 5.3 Select Features and Group By Date"
   ]
  },
  {
   "cell_type": "code",
   "execution_count": 39,
   "id": "bd2b6a6a",
   "metadata": {},
   "outputs": [
    {
     "name": "stdout",
     "output_type": "stream",
     "text": [
      "root\n",
      " |-- name: string (nullable = true)\n",
      " |-- screen_name: string (nullable = true)\n",
      " |-- created_at: string (nullable = true)\n",
      " |-- full_text: string (nullable = true)\n",
      " |-- hashtags: array (nullable = true)\n",
      " |    |-- element: struct (containsNull = true)\n",
      " |    |    |-- indices: array (nullable = true)\n",
      " |    |    |    |-- element: long (containsNull = true)\n",
      " |    |    |-- text: string (nullable = true)\n",
      " |-- lang: string (nullable = true)\n",
      " |-- favorite_count: long (nullable = true)\n",
      " |-- retweet_count: long (nullable = true)\n",
      " |-- followers_count: long (nullable = true)\n",
      " |-- friends_count: long (nullable = true)\n",
      " |-- favourites_count: long (nullable = true)\n",
      " |-- urls: array (nullable = true)\n",
      " |    |-- element: struct (containsNull = true)\n",
      " |    |    |-- display_url: string (nullable = true)\n",
      " |    |    |-- expanded_url: string (nullable = true)\n",
      " |    |    |-- indices: array (nullable = true)\n",
      " |    |    |    |-- element: long (containsNull = true)\n",
      " |    |    |-- url: string (nullable = true)\n",
      " |-- symbols: array (nullable = true)\n",
      " |    |-- element: struct (containsNull = true)\n",
      " |    |    |-- indices: array (nullable = true)\n",
      " |    |    |    |-- element: long (containsNull = true)\n",
      " |    |    |-- text: string (nullable = true)\n",
      " |-- post_created_at: timestamp (nullable = true)\n",
      " |-- emoji_count: integer (nullable = true)\n",
      " |-- text_tokenized: array (nullable = true)\n",
      " |    |-- element: string (containsNull = true)\n",
      " |-- num_words: integer (nullable = false)\n",
      " |-- num_hashtags: integer (nullable = true)\n",
      " |-- num_mentions: integer (nullable = true)\n",
      " |-- num_exclamation_marks: integer (nullable = true)\n",
      " |-- engagement_rate: double (nullable = true)\n",
      " |-- cleaned_text: string (nullable = true)\n",
      " |-- sentiment_vader: double (nullable = true)\n",
      " |-- polarity: double (nullable = true)\n",
      " |-- subjectivity: double (nullable = true)\n",
      " |-- date_check: date (nullable = true)\n",
      " |-- date_with_holidays: date (nullable = true)\n",
      " |-- date: date (nullable = true)\n",
      "\n"
     ]
    }
   ],
   "source": [
    "df.printSchema()"
   ]
  },
  {
   "cell_type": "markdown",
   "id": "ac75d682",
   "metadata": {},
   "source": [
    "Features:\n",
    "- number_tweets\n",
    "- favorite_count \n",
    "- retweet_count \n",
    "- followers_count\n",
    "- engagement_rate\n",
    "- emoji_count\n",
    "- num_words\n",
    "- num_hashtags\n",
    "- num_mentions\n",
    "- num_exclamation_marks\n",
    "- sentiment_vader\n",
    "- polarity\n",
    "- subjectivity"
   ]
  },
  {
   "cell_type": "markdown",
   "id": "fbc3640e",
   "metadata": {},
   "source": [
    "We will group the features per date, so we can merge the dataset with the dependent. For the first feature we look at how many tweets are posted on one day, the second one looks at the total number of favorites for all tweets on a day, the third one does the same for the number of retweets , the fourth one does the same for the number of followers and the fifth one does the same for the engagement. For all the other features the average is used as group function. This is because the first five features are more related to the network an the amount of people that are being reached on a certain day. While the other feature are more related to the tweets and what's expressed in these tweets"
   ]
  },
  {
   "cell_type": "markdown",
   "id": "7adcfb4e",
   "metadata": {},
   "source": [
    "First we will only select the features"
   ]
  },
  {
   "cell_type": "code",
   "execution_count": 40,
   "id": "a618d9e0",
   "metadata": {},
   "outputs": [],
   "source": [
    "# select interesting features\n",
    "df = df.select(F.col(\"date\"),\n",
    "                F.col(\"full_text\"),\n",
    "                F.col(\"favorite_count\"),\n",
    "                F.col(\"retweet_count\"), \n",
    "                F.col(\"followers_count\"),\n",
    "                F.col(\"engagement_rate\"),\n",
    "                F.col(\"emoji_count\"),\n",
    "                F.col(\"num_words\"),\n",
    "                F.col(\"num_hashtags\"),\n",
    "                F.col(\"num_mentions\"),\n",
    "                F.col(\"num_exclamation_marks\"),\n",
    "                F.col(\"sentiment_vader\"),\n",
    "                F.col(\"polarity\"),\n",
    "                F.col(\"subjectivity\"))"
   ]
  },
  {
   "cell_type": "code",
   "execution_count": 41,
   "id": "2fe2aded",
   "metadata": {
    "scrolled": true
   },
   "outputs": [
    {
     "name": "stdout",
     "output_type": "stream",
     "text": [
      "root\n",
      " |-- date: date (nullable = true)\n",
      " |-- full_text: string (nullable = true)\n",
      " |-- favorite_count: long (nullable = true)\n",
      " |-- retweet_count: long (nullable = true)\n",
      " |-- followers_count: long (nullable = true)\n",
      " |-- engagement_rate: double (nullable = true)\n",
      " |-- emoji_count: integer (nullable = true)\n",
      " |-- num_words: integer (nullable = false)\n",
      " |-- num_hashtags: integer (nullable = true)\n",
      " |-- num_mentions: integer (nullable = true)\n",
      " |-- num_exclamation_marks: integer (nullable = true)\n",
      " |-- sentiment_vader: double (nullable = true)\n",
      " |-- polarity: double (nullable = true)\n",
      " |-- subjectivity: double (nullable = true)\n",
      "\n"
     ]
    }
   ],
   "source": [
    "df.printSchema()"
   ]
  },
  {
   "cell_type": "code",
   "execution_count": 42,
   "id": "81cd08ac",
   "metadata": {},
   "outputs": [],
   "source": [
    "number_of_tweets = df.groupBy('date').agg(F.countDistinct(\"full_text\"))\\\n",
    "                    .withColumnRenamed(\"count(full_text)\", \"number_tweets\") "
   ]
  },
  {
   "cell_type": "code",
   "execution_count": 43,
   "id": "eef0fb40",
   "metadata": {},
   "outputs": [],
   "source": [
    "number_of_favorites = df.groupBy('date').agg(F.sum(\"favorite_count\"))\\\n",
    "                        .withColumnRenamed(\"sum(favorite_count)\", \"number_of_favorites\") "
   ]
  },
  {
   "cell_type": "code",
   "execution_count": 44,
   "id": "51634102",
   "metadata": {},
   "outputs": [],
   "source": [
    "number_of_retweets = df.groupBy('date').agg(F.sum(\"retweet_count\"))\\\n",
    "                        .withColumnRenamed(\"sum(retweet_count)\", \"number_of_retweets\") "
   ]
  },
  {
   "cell_type": "code",
   "execution_count": 45,
   "id": "c7d2a998",
   "metadata": {},
   "outputs": [],
   "source": [
    "number_of_followers = df.groupBy('date').agg(F.sum(\"followers_count\"))\\\n",
    "                        .withColumnRenamed(\"sum(followers_count)\", \"number_of_followers\") "
   ]
  },
  {
   "cell_type": "code",
   "execution_count": 46,
   "id": "385bb13d",
   "metadata": {},
   "outputs": [],
   "source": [
    "avg_emojis = df.groupBy('date').agg(F.avg(\"emoji_count\"))\\\n",
    "                        .withColumnRenamed(\"avg(emoji_count)\", \"avg_emojis\") "
   ]
  },
  {
   "cell_type": "code",
   "execution_count": 47,
   "id": "462ac502",
   "metadata": {},
   "outputs": [],
   "source": [
    "avg_words = df.groupBy('date').agg(F.avg(\"num_words\"))\\\n",
    "                        .withColumnRenamed(\"avg(num_words)\", \"avg_words\") "
   ]
  },
  {
   "cell_type": "code",
   "execution_count": 48,
   "id": "ef38d3d2",
   "metadata": {},
   "outputs": [],
   "source": [
    "avg_hashtags = df.groupBy('date').agg(F.avg(\"num_hashtags\"))\\\n",
    "                        .withColumnRenamed(\"avg(num_hashtags)\", \"avg_hashtags\") "
   ]
  },
  {
   "cell_type": "code",
   "execution_count": 49,
   "id": "2381d01a",
   "metadata": {},
   "outputs": [],
   "source": [
    "avg_num_mentions = df.groupBy('date').agg(F.avg(\"num_mentions\"))\\\n",
    "                        .withColumnRenamed(\"avg(num_mentions)\", \"avg_num_mentions\") "
   ]
  },
  {
   "cell_type": "code",
   "execution_count": 50,
   "id": "0837ec2e",
   "metadata": {},
   "outputs": [],
   "source": [
    "avg_exclamation_marks = df.groupBy('date').agg(F.avg(\"num_exclamation_marks\"))\\\n",
    "                        .withColumnRenamed(\"avg(num_exclamation_marks)\", \"avg_exclamation_marks\") "
   ]
  },
  {
   "cell_type": "code",
   "execution_count": 51,
   "id": "23254933",
   "metadata": {},
   "outputs": [],
   "source": [
    "sum_engagement_rate = df.groupBy('date').agg(F.sum(\"engagement_rate\"))\\\n",
    "                        .withColumnRenamed(\"sum(engagement_rate)\", \"sum_engagement_rate\") "
   ]
  },
  {
   "cell_type": "code",
   "execution_count": 52,
   "id": "3edb41d6",
   "metadata": {},
   "outputs": [],
   "source": [
    "avg_sentiment_vader = df.groupBy('date').agg(F.avg(\"sentiment_vader\"))\\\n",
    "                        .withColumnRenamed(\"avg(sentiment_vader)\", \"sentiment_vader\") "
   ]
  },
  {
   "cell_type": "code",
   "execution_count": 53,
   "id": "0abb7254",
   "metadata": {},
   "outputs": [],
   "source": [
    "avg_polarity = df.groupBy('date').agg(F.avg(\"polarity\"))\\\n",
    "                        .withColumnRenamed(\"avg(polarity)\", \"avg_polarity\") "
   ]
  },
  {
   "cell_type": "code",
   "execution_count": 54,
   "id": "2873b3dc",
   "metadata": {},
   "outputs": [],
   "source": [
    "avg_subjectivity = df.groupBy('date').agg(F.avg(\"subjectivity\"))\\\n",
    "                        .withColumnRenamed(\"avg(subjectivity)\", \"avg_subjectivity\") "
   ]
  },
  {
   "cell_type": "markdown",
   "id": "ac7d5697",
   "metadata": {},
   "source": [
    "Join al the features"
   ]
  },
  {
   "cell_type": "code",
   "execution_count": 298,
   "id": "1feab56b",
   "metadata": {},
   "outputs": [
    {
     "ename": "PythonException",
     "evalue": "\n  An exception was thrown from the Python worker. Please see the stack trace below.\nTraceback (most recent call last):\n  File \"C:\\BigData\\BigData\\spark-3.1.2-bin-hadoop3.2\\python\\lib\\pyspark.zip\\pyspark\\worker.py\", line 584, in main\n  File \"C:\\BigData\\BigData\\spark-3.1.2-bin-hadoop3.2\\python\\lib\\pyspark.zip\\pyspark\\serializers.py\", line 562, in read_int\n    length = stream.read(4)\n  File \"C:\\Users\\vikto\\anaconda3\\lib\\socket.py\", line 704, in readinto\n    return self._sock.recv_into(b)\nsocket.timeout: timed out\n",
     "output_type": "error",
     "traceback": [
      "\u001b[1;31m---------------------------------------------------------------------------\u001b[0m",
      "\u001b[1;31mPythonException\u001b[0m                           Traceback (most recent call last)",
      "Input \u001b[1;32mIn [298]\u001b[0m, in \u001b[0;36m<cell line: 14>\u001b[1;34m()\u001b[0m\n\u001b[0;32m      1\u001b[0m \u001b[38;5;66;03m# create basetable\u001b[39;00m\n\u001b[0;32m      2\u001b[0m basetable_ind \u001b[38;5;241m=\u001b[39m number_of_tweets\u001b[38;5;241m.\u001b[39mjoin(number_of_favorites, \u001b[38;5;124m\"\u001b[39m\u001b[38;5;124mdate\u001b[39m\u001b[38;5;124m\"\u001b[39m, how\u001b[38;5;241m=\u001b[39m\u001b[38;5;124m\"\u001b[39m\u001b[38;5;124minner\u001b[39m\u001b[38;5;124m\"\u001b[39m) \\\n\u001b[0;32m      3\u001b[0m                     \u001b[38;5;241m.\u001b[39mjoin(number_of_retweets, \u001b[38;5;124m\"\u001b[39m\u001b[38;5;124mdate\u001b[39m\u001b[38;5;124m\"\u001b[39m, how\u001b[38;5;241m=\u001b[39m\u001b[38;5;124m\"\u001b[39m\u001b[38;5;124minner\u001b[39m\u001b[38;5;124m\"\u001b[39m) \\\n\u001b[0;32m      4\u001b[0m                     \u001b[38;5;241m.\u001b[39mjoin(number_of_followers, \u001b[38;5;124m\"\u001b[39m\u001b[38;5;124mdate\u001b[39m\u001b[38;5;124m\"\u001b[39m, how\u001b[38;5;241m=\u001b[39m\u001b[38;5;124m\"\u001b[39m\u001b[38;5;124minner\u001b[39m\u001b[38;5;124m\"\u001b[39m) \\\n\u001b[1;32m   (...)\u001b[0m\n\u001b[0;32m     12\u001b[0m                     \u001b[38;5;241m.\u001b[39mjoin(avg_polarity, \u001b[38;5;124m\"\u001b[39m\u001b[38;5;124mdate\u001b[39m\u001b[38;5;124m\"\u001b[39m, how\u001b[38;5;241m=\u001b[39m\u001b[38;5;124m\"\u001b[39m\u001b[38;5;124minner\u001b[39m\u001b[38;5;124m\"\u001b[39m) \\\n\u001b[0;32m     13\u001b[0m                     \u001b[38;5;241m.\u001b[39mjoin(avg_subjectivity, \u001b[38;5;124m\"\u001b[39m\u001b[38;5;124mdate\u001b[39m\u001b[38;5;124m\"\u001b[39m, how\u001b[38;5;241m=\u001b[39m\u001b[38;5;124m\"\u001b[39m\u001b[38;5;124minner\u001b[39m\u001b[38;5;124m\"\u001b[39m) \n\u001b[1;32m---> 14\u001b[0m basetable_ind_pd \u001b[38;5;241m=\u001b[39m \u001b[43mbasetable_ind\u001b[49m\u001b[38;5;241;43m.\u001b[39;49m\u001b[43mtoPandas\u001b[49m\u001b[43m(\u001b[49m\u001b[43m)\u001b[49m\n",
      "File \u001b[1;32mC:\\BigData\\BigData\\spark-3.1.2-bin-hadoop3.2\\python\\pyspark\\sql\\pandas\\conversion.py:141\u001b[0m, in \u001b[0;36mPandasConversionMixin.toPandas\u001b[1;34m(self)\u001b[0m\n\u001b[0;32m    138\u001b[0m             \u001b[38;5;28;01mraise\u001b[39;00m\n\u001b[0;32m    140\u001b[0m \u001b[38;5;66;03m# Below is toPandas without Arrow optimization.\u001b[39;00m\n\u001b[1;32m--> 141\u001b[0m pdf \u001b[38;5;241m=\u001b[39m pd\u001b[38;5;241m.\u001b[39mDataFrame\u001b[38;5;241m.\u001b[39mfrom_records(\u001b[38;5;28;43mself\u001b[39;49m\u001b[38;5;241;43m.\u001b[39;49m\u001b[43mcollect\u001b[49m\u001b[43m(\u001b[49m\u001b[43m)\u001b[49m, columns\u001b[38;5;241m=\u001b[39m\u001b[38;5;28mself\u001b[39m\u001b[38;5;241m.\u001b[39mcolumns)\n\u001b[0;32m    142\u001b[0m column_counter \u001b[38;5;241m=\u001b[39m Counter(\u001b[38;5;28mself\u001b[39m\u001b[38;5;241m.\u001b[39mcolumns)\n\u001b[0;32m    144\u001b[0m dtype \u001b[38;5;241m=\u001b[39m [\u001b[38;5;28;01mNone\u001b[39;00m] \u001b[38;5;241m*\u001b[39m \u001b[38;5;28mlen\u001b[39m(\u001b[38;5;28mself\u001b[39m\u001b[38;5;241m.\u001b[39mschema)\n",
      "File \u001b[1;32mC:\\BigData\\BigData\\spark-3.1.2-bin-hadoop3.2\\python\\pyspark\\sql\\dataframe.py:677\u001b[0m, in \u001b[0;36mDataFrame.collect\u001b[1;34m(self)\u001b[0m\n\u001b[0;32m    667\u001b[0m \u001b[38;5;124;03m\"\"\"Returns all the records as a list of :class:`Row`.\u001b[39;00m\n\u001b[0;32m    668\u001b[0m \n\u001b[0;32m    669\u001b[0m \u001b[38;5;124;03m.. versionadded:: 1.3.0\u001b[39;00m\n\u001b[1;32m   (...)\u001b[0m\n\u001b[0;32m    674\u001b[0m \u001b[38;5;124;03m[Row(age=2, name='Alice'), Row(age=5, name='Bob')]\u001b[39;00m\n\u001b[0;32m    675\u001b[0m \u001b[38;5;124;03m\"\"\"\u001b[39;00m\n\u001b[0;32m    676\u001b[0m \u001b[38;5;28;01mwith\u001b[39;00m SCCallSiteSync(\u001b[38;5;28mself\u001b[39m\u001b[38;5;241m.\u001b[39m_sc) \u001b[38;5;28;01mas\u001b[39;00m css:\n\u001b[1;32m--> 677\u001b[0m     sock_info \u001b[38;5;241m=\u001b[39m \u001b[38;5;28;43mself\u001b[39;49m\u001b[38;5;241;43m.\u001b[39;49m\u001b[43m_jdf\u001b[49m\u001b[38;5;241;43m.\u001b[39;49m\u001b[43mcollectToPython\u001b[49m\u001b[43m(\u001b[49m\u001b[43m)\u001b[49m\n\u001b[0;32m    678\u001b[0m \u001b[38;5;28;01mreturn\u001b[39;00m \u001b[38;5;28mlist\u001b[39m(_load_from_socket(sock_info, BatchedSerializer(PickleSerializer())))\n",
      "File \u001b[1;32mC:\\BigData\\BigData\\spark-3.1.2-bin-hadoop3.2\\python\\lib\\py4j-0.10.9-src.zip\\py4j\\java_gateway.py:1304\u001b[0m, in \u001b[0;36mJavaMember.__call__\u001b[1;34m(self, *args)\u001b[0m\n\u001b[0;32m   1298\u001b[0m command \u001b[38;5;241m=\u001b[39m proto\u001b[38;5;241m.\u001b[39mCALL_COMMAND_NAME \u001b[38;5;241m+\u001b[39m\\\n\u001b[0;32m   1299\u001b[0m     \u001b[38;5;28mself\u001b[39m\u001b[38;5;241m.\u001b[39mcommand_header \u001b[38;5;241m+\u001b[39m\\\n\u001b[0;32m   1300\u001b[0m     args_command \u001b[38;5;241m+\u001b[39m\\\n\u001b[0;32m   1301\u001b[0m     proto\u001b[38;5;241m.\u001b[39mEND_COMMAND_PART\n\u001b[0;32m   1303\u001b[0m answer \u001b[38;5;241m=\u001b[39m \u001b[38;5;28mself\u001b[39m\u001b[38;5;241m.\u001b[39mgateway_client\u001b[38;5;241m.\u001b[39msend_command(command)\n\u001b[1;32m-> 1304\u001b[0m return_value \u001b[38;5;241m=\u001b[39m \u001b[43mget_return_value\u001b[49m\u001b[43m(\u001b[49m\n\u001b[0;32m   1305\u001b[0m \u001b[43m    \u001b[49m\u001b[43manswer\u001b[49m\u001b[43m,\u001b[49m\u001b[43m \u001b[49m\u001b[38;5;28;43mself\u001b[39;49m\u001b[38;5;241;43m.\u001b[39;49m\u001b[43mgateway_client\u001b[49m\u001b[43m,\u001b[49m\u001b[43m \u001b[49m\u001b[38;5;28;43mself\u001b[39;49m\u001b[38;5;241;43m.\u001b[39;49m\u001b[43mtarget_id\u001b[49m\u001b[43m,\u001b[49m\u001b[43m \u001b[49m\u001b[38;5;28;43mself\u001b[39;49m\u001b[38;5;241;43m.\u001b[39;49m\u001b[43mname\u001b[49m\u001b[43m)\u001b[49m\n\u001b[0;32m   1307\u001b[0m \u001b[38;5;28;01mfor\u001b[39;00m temp_arg \u001b[38;5;129;01min\u001b[39;00m temp_args:\n\u001b[0;32m   1308\u001b[0m     temp_arg\u001b[38;5;241m.\u001b[39m_detach()\n",
      "File \u001b[1;32mC:\\BigData\\BigData\\spark-3.1.2-bin-hadoop3.2\\python\\pyspark\\sql\\utils.py:117\u001b[0m, in \u001b[0;36mcapture_sql_exception.<locals>.deco\u001b[1;34m(*a, **kw)\u001b[0m\n\u001b[0;32m    113\u001b[0m converted \u001b[38;5;241m=\u001b[39m convert_exception(e\u001b[38;5;241m.\u001b[39mjava_exception)\n\u001b[0;32m    114\u001b[0m \u001b[38;5;28;01mif\u001b[39;00m \u001b[38;5;129;01mnot\u001b[39;00m \u001b[38;5;28misinstance\u001b[39m(converted, UnknownException):\n\u001b[0;32m    115\u001b[0m     \u001b[38;5;66;03m# Hide where the exception came from that shows a non-Pythonic\u001b[39;00m\n\u001b[0;32m    116\u001b[0m     \u001b[38;5;66;03m# JVM exception message.\u001b[39;00m\n\u001b[1;32m--> 117\u001b[0m     \u001b[38;5;28;01mraise\u001b[39;00m converted \u001b[38;5;28;01mfrom\u001b[39;00m \u001b[38;5;28mNone\u001b[39m\n\u001b[0;32m    118\u001b[0m \u001b[38;5;28;01melse\u001b[39;00m:\n\u001b[0;32m    119\u001b[0m     \u001b[38;5;28;01mraise\u001b[39;00m\n",
      "\u001b[1;31mPythonException\u001b[0m: \n  An exception was thrown from the Python worker. Please see the stack trace below.\nTraceback (most recent call last):\n  File \"C:\\BigData\\BigData\\spark-3.1.2-bin-hadoop3.2\\python\\lib\\pyspark.zip\\pyspark\\worker.py\", line 584, in main\n  File \"C:\\BigData\\BigData\\spark-3.1.2-bin-hadoop3.2\\python\\lib\\pyspark.zip\\pyspark\\serializers.py\", line 562, in read_int\n    length = stream.read(4)\n  File \"C:\\Users\\vikto\\anaconda3\\lib\\socket.py\", line 704, in readinto\n    return self._sock.recv_into(b)\nsocket.timeout: timed out\n"
     ]
    }
   ],
   "source": [
    "# create basetable\n",
    "basetable_ind = number_of_tweets.join(number_of_favorites, \"date\", how=\"inner\") \\\n",
    "                    .join(number_of_retweets, \"date\", how=\"inner\") \\\n",
    "                    .join(number_of_followers, \"date\", how=\"inner\") \\\n",
    "                    .join(avg_emojis, \"date\", how=\"inner\") \\\n",
    "                    .join(avg_words, \"date\", how=\"inner\") \\\n",
    "                    .join(avg_hashtags, \"date\", how=\"inner\") \\\n",
    "                    .join(avg_num_mentions, \"date\", how=\"inner\") \\\n",
    "                    .join(avg_exclamation_marks, \"date\", how=\"inner\") \\\n",
    "                    .join(sum_engagement_rate, \"date\", how=\"inner\") \\\n",
    "                    .join(avg_sentiment_vader, \"date\", how=\"inner\") \\\n",
    "                    .join(avg_polarity, \"date\", how=\"inner\") \\\n",
    "                    .join(avg_subjectivity, \"date\", how=\"inner\") \n",
    "basetable_ind_pd = basetable_ind.toPandas()"
   ]
  },
  {
   "cell_type": "code",
   "execution_count": 210,
   "id": "9e7729ef",
   "metadata": {
    "scrolled": true
   },
   "outputs": [
    {
     "data": {
      "text/html": [
       "<div>\n",
       "<style scoped>\n",
       "    .dataframe tbody tr th:only-of-type {\n",
       "        vertical-align: middle;\n",
       "    }\n",
       "\n",
       "    .dataframe tbody tr th {\n",
       "        vertical-align: top;\n",
       "    }\n",
       "\n",
       "    .dataframe thead th {\n",
       "        text-align: right;\n",
       "    }\n",
       "</style>\n",
       "<table border=\"1\" class=\"dataframe\">\n",
       "  <thead>\n",
       "    <tr style=\"text-align: right;\">\n",
       "      <th></th>\n",
       "      <th>date</th>\n",
       "      <th>number_tweets</th>\n",
       "      <th>number_of_favorites</th>\n",
       "      <th>number_of_retweets</th>\n",
       "      <th>number_of_followers</th>\n",
       "      <th>avg_emojis</th>\n",
       "      <th>avg_words</th>\n",
       "      <th>avg_hashtags</th>\n",
       "      <th>avg_num_mentions</th>\n",
       "      <th>avg_exclamation_marks</th>\n",
       "      <th>avg_engagement_rate</th>\n",
       "      <th>polarity</th>\n",
       "      <th>avg_polarity</th>\n",
       "      <th>avg_subjectivity</th>\n",
       "    </tr>\n",
       "  </thead>\n",
       "  <tbody>\n",
       "    <tr>\n",
       "      <th>0</th>\n",
       "      <td>2022-03-28</td>\n",
       "      <td>1952</td>\n",
       "      <td>18533</td>\n",
       "      <td>6313</td>\n",
       "      <td>19476231</td>\n",
       "      <td>0.821721</td>\n",
       "      <td>24.459529</td>\n",
       "      <td>5.600410</td>\n",
       "      <td>0.483607</td>\n",
       "      <td>0.367828</td>\n",
       "      <td>0.027125</td>\n",
       "      <td>0.188467</td>\n",
       "      <td>0.188467</td>\n",
       "      <td>0.419846</td>\n",
       "    </tr>\n",
       "    <tr>\n",
       "      <th>1</th>\n",
       "      <td>2022-07-31</td>\n",
       "      <td>3788</td>\n",
       "      <td>30457</td>\n",
       "      <td>3678</td>\n",
       "      <td>32478823</td>\n",
       "      <td>0.440514</td>\n",
       "      <td>24.518344</td>\n",
       "      <td>1.234801</td>\n",
       "      <td>0.995021</td>\n",
       "      <td>0.203354</td>\n",
       "      <td>0.039405</td>\n",
       "      <td>0.108215</td>\n",
       "      <td>0.108215</td>\n",
       "      <td>0.409116</td>\n",
       "    </tr>\n",
       "    <tr>\n",
       "      <th>2</th>\n",
       "      <td>2022-08-02</td>\n",
       "      <td>8160</td>\n",
       "      <td>72537</td>\n",
       "      <td>8321</td>\n",
       "      <td>89026921</td>\n",
       "      <td>0.450092</td>\n",
       "      <td>23.463042</td>\n",
       "      <td>1.089188</td>\n",
       "      <td>0.892731</td>\n",
       "      <td>0.225535</td>\n",
       "      <td>0.034250</td>\n",
       "      <td>0.121545</td>\n",
       "      <td>0.121545</td>\n",
       "      <td>0.413700</td>\n",
       "    </tr>\n",
       "    <tr>\n",
       "      <th>3</th>\n",
       "      <td>2022-05-26</td>\n",
       "      <td>434</td>\n",
       "      <td>3965</td>\n",
       "      <td>1285</td>\n",
       "      <td>1658594</td>\n",
       "      <td>0.838710</td>\n",
       "      <td>25.179724</td>\n",
       "      <td>5.912442</td>\n",
       "      <td>0.682028</td>\n",
       "      <td>0.400922</td>\n",
       "      <td>0.024796</td>\n",
       "      <td>0.211336</td>\n",
       "      <td>0.211336</td>\n",
       "      <td>0.416348</td>\n",
       "    </tr>\n",
       "    <tr>\n",
       "      <th>4</th>\n",
       "      <td>2022-06-22</td>\n",
       "      <td>1060</td>\n",
       "      <td>9382</td>\n",
       "      <td>3070</td>\n",
       "      <td>4919891</td>\n",
       "      <td>0.677358</td>\n",
       "      <td>25.031132</td>\n",
       "      <td>6.488679</td>\n",
       "      <td>0.459434</td>\n",
       "      <td>0.384906</td>\n",
       "      <td>0.026959</td>\n",
       "      <td>0.213542</td>\n",
       "      <td>0.213542</td>\n",
       "      <td>0.428171</td>\n",
       "    </tr>\n",
       "  </tbody>\n",
       "</table>\n",
       "</div>"
      ],
      "text/plain": [
       "         date  number_tweets  number_of_favorites  number_of_retweets  \\\n",
       "0  2022-03-28           1952                18533                6313   \n",
       "1  2022-07-31           3788                30457                3678   \n",
       "2  2022-08-02           8160                72537                8321   \n",
       "3  2022-05-26            434                 3965                1285   \n",
       "4  2022-06-22           1060                 9382                3070   \n",
       "\n",
       "   number_of_followers  avg_emojis  avg_words  avg_hashtags  avg_num_mentions  \\\n",
       "0             19476231    0.821721  24.459529      5.600410          0.483607   \n",
       "1             32478823    0.440514  24.518344      1.234801          0.995021   \n",
       "2             89026921    0.450092  23.463042      1.089188          0.892731   \n",
       "3              1658594    0.838710  25.179724      5.912442          0.682028   \n",
       "4              4919891    0.677358  25.031132      6.488679          0.459434   \n",
       "\n",
       "   avg_exclamation_marks  avg_engagement_rate  polarity  avg_polarity  \\\n",
       "0               0.367828             0.027125  0.188467      0.188467   \n",
       "1               0.203354             0.039405  0.108215      0.108215   \n",
       "2               0.225535             0.034250  0.121545      0.121545   \n",
       "3               0.400922             0.024796  0.211336      0.211336   \n",
       "4               0.384906             0.026959  0.213542      0.213542   \n",
       "\n",
       "   avg_subjectivity  \n",
       "0          0.419846  \n",
       "1          0.409116  \n",
       "2          0.413700  \n",
       "3          0.416348  \n",
       "4          0.428171  "
      ]
     },
     "execution_count": 210,
     "metadata": {},
     "output_type": "execute_result"
    }
   ],
   "source": [
    "basetable_ind_pd.head()"
   ]
  },
  {
   "cell_type": "code",
   "execution_count": 213,
   "id": "5940581b",
   "metadata": {},
   "outputs": [
    {
     "data": {
      "text/plain": [
       "datetime.date"
      ]
     },
     "execution_count": 213,
     "metadata": {},
     "output_type": "execute_result"
    }
   ],
   "source": [
    "type(basetable_ind_pd['date'][0])"
   ]
  },
  {
   "cell_type": "code",
   "execution_count": 491,
   "id": "20ff71fc",
   "metadata": {},
   "outputs": [
    {
     "data": {
      "text/plain": [
       "pandas._libs.tslibs.timestamps.Timestamp"
      ]
     },
     "execution_count": 491,
     "metadata": {},
     "output_type": "execute_result"
    }
   ],
   "source": [
    "type(basetable_dep['date'][0])"
   ]
  },
  {
   "cell_type": "markdown",
   "id": "a731fedd",
   "metadata": {},
   "source": [
    "Cast the date of the ind basetable to the same type as the dependent basetable, to be able to merge the 2 tabels "
   ]
  },
  {
   "cell_type": "code",
   "execution_count": 224,
   "id": "195ddb5a",
   "metadata": {},
   "outputs": [
    {
     "data": {
      "text/plain": [
       "pandas._libs.tslibs.timestamps.Timestamp"
      ]
     },
     "execution_count": 224,
     "metadata": {},
     "output_type": "execute_result"
    }
   ],
   "source": [
    "basetable_ind_pd['date'] = pd.to_datetime(basetable_ind_pd['date'])\n",
    "type(basetable_ind_pd['date'][0])"
   ]
  },
  {
   "cell_type": "markdown",
   "id": "4d7a4735",
   "metadata": {},
   "source": [
    "Inner merge the tables based on date"
   ]
  },
  {
   "cell_type": "code",
   "execution_count": 386,
   "id": "f63474f7",
   "metadata": {
    "scrolled": true
   },
   "outputs": [],
   "source": [
    "basetable = basetable_ind_pd.merge(basetable_dep, how='inner', on= 'date')"
   ]
  },
  {
   "cell_type": "markdown",
   "id": "735084cb",
   "metadata": {},
   "source": [
    "Sort the rows by date"
   ]
  },
  {
   "cell_type": "code",
   "execution_count": 388,
   "id": "9b63c3c8",
   "metadata": {},
   "outputs": [
    {
     "data": {
      "text/html": [
       "<div>\n",
       "<style scoped>\n",
       "    .dataframe tbody tr th:only-of-type {\n",
       "        vertical-align: middle;\n",
       "    }\n",
       "\n",
       "    .dataframe tbody tr th {\n",
       "        vertical-align: top;\n",
       "    }\n",
       "\n",
       "    .dataframe thead th {\n",
       "        text-align: right;\n",
       "    }\n",
       "</style>\n",
       "<table border=\"1\" class=\"dataframe\">\n",
       "  <thead>\n",
       "    <tr style=\"text-align: right;\">\n",
       "      <th></th>\n",
       "      <th>date</th>\n",
       "      <th>number_tweets</th>\n",
       "      <th>number_of_favorites</th>\n",
       "      <th>number_of_retweets</th>\n",
       "      <th>number_of_followers</th>\n",
       "      <th>avg_emojis</th>\n",
       "      <th>avg_words</th>\n",
       "      <th>avg_hashtags</th>\n",
       "      <th>avg_num_mentions</th>\n",
       "      <th>avg_exclamation_marks</th>\n",
       "      <th>avg_engagement_rate</th>\n",
       "      <th>polarity</th>\n",
       "      <th>avg_polarity</th>\n",
       "      <th>avg_subjectivity</th>\n",
       "      <th>dependent</th>\n",
       "    </tr>\n",
       "  </thead>\n",
       "  <tbody>\n",
       "    <tr>\n",
       "      <th>0</th>\n",
       "      <td>2021-10-29</td>\n",
       "      <td>5051</td>\n",
       "      <td>25854</td>\n",
       "      <td>4143</td>\n",
       "      <td>64744182</td>\n",
       "      <td>0.574555</td>\n",
       "      <td>22.847176</td>\n",
       "      <td>1.131913</td>\n",
       "      <td>1.070158</td>\n",
       "      <td>0.268321</td>\n",
       "      <td>0.024244</td>\n",
       "      <td>0.122752</td>\n",
       "      <td>0.122752</td>\n",
       "      <td>0.418258</td>\n",
       "      <td>0</td>\n",
       "    </tr>\n",
       "    <tr>\n",
       "      <th>1</th>\n",
       "      <td>2021-11-01</td>\n",
       "      <td>20951</td>\n",
       "      <td>159869</td>\n",
       "      <td>26899</td>\n",
       "      <td>259167877</td>\n",
       "      <td>0.672403</td>\n",
       "      <td>24.398022</td>\n",
       "      <td>1.328250</td>\n",
       "      <td>1.268364</td>\n",
       "      <td>0.284315</td>\n",
       "      <td>0.035796</td>\n",
       "      <td>0.148792</td>\n",
       "      <td>0.148792</td>\n",
       "      <td>0.424527</td>\n",
       "      <td>0</td>\n",
       "    </tr>\n",
       "    <tr>\n",
       "      <th>2</th>\n",
       "      <td>2021-11-02</td>\n",
       "      <td>14545</td>\n",
       "      <td>97592</td>\n",
       "      <td>13709</td>\n",
       "      <td>219563281</td>\n",
       "      <td>0.729405</td>\n",
       "      <td>24.434049</td>\n",
       "      <td>1.205981</td>\n",
       "      <td>1.280541</td>\n",
       "      <td>0.296865</td>\n",
       "      <td>0.020413</td>\n",
       "      <td>0.166109</td>\n",
       "      <td>0.166109</td>\n",
       "      <td>0.446198</td>\n",
       "      <td>0</td>\n",
       "    </tr>\n",
       "    <tr>\n",
       "      <th>3</th>\n",
       "      <td>2021-11-03</td>\n",
       "      <td>6839</td>\n",
       "      <td>27859</td>\n",
       "      <td>3310</td>\n",
       "      <td>99421032</td>\n",
       "      <td>0.640164</td>\n",
       "      <td>23.440514</td>\n",
       "      <td>1.071324</td>\n",
       "      <td>1.079070</td>\n",
       "      <td>0.247150</td>\n",
       "      <td>0.014389</td>\n",
       "      <td>0.130799</td>\n",
       "      <td>0.130799</td>\n",
       "      <td>0.413306</td>\n",
       "      <td>0</td>\n",
       "    </tr>\n",
       "    <tr>\n",
       "      <th>4</th>\n",
       "      <td>2021-12-08</td>\n",
       "      <td>6504</td>\n",
       "      <td>51875</td>\n",
       "      <td>7360</td>\n",
       "      <td>50409471</td>\n",
       "      <td>0.507839</td>\n",
       "      <td>22.838918</td>\n",
       "      <td>1.079926</td>\n",
       "      <td>0.893944</td>\n",
       "      <td>0.262527</td>\n",
       "      <td>0.038302</td>\n",
       "      <td>0.132347</td>\n",
       "      <td>0.132347</td>\n",
       "      <td>0.403964</td>\n",
       "      <td>0</td>\n",
       "    </tr>\n",
       "    <tr>\n",
       "      <th>5</th>\n",
       "      <td>2021-12-09</td>\n",
       "      <td>8261</td>\n",
       "      <td>74991</td>\n",
       "      <td>11566</td>\n",
       "      <td>151400994</td>\n",
       "      <td>0.505686</td>\n",
       "      <td>22.778853</td>\n",
       "      <td>1.102710</td>\n",
       "      <td>0.838979</td>\n",
       "      <td>0.242197</td>\n",
       "      <td>0.030169</td>\n",
       "      <td>0.124922</td>\n",
       "      <td>0.124922</td>\n",
       "      <td>0.403552</td>\n",
       "      <td>0</td>\n",
       "    </tr>\n",
       "    <tr>\n",
       "      <th>6</th>\n",
       "      <td>2021-12-10</td>\n",
       "      <td>8928</td>\n",
       "      <td>101689</td>\n",
       "      <td>12753</td>\n",
       "      <td>108593320</td>\n",
       "      <td>0.515789</td>\n",
       "      <td>23.013774</td>\n",
       "      <td>0.969093</td>\n",
       "      <td>0.959910</td>\n",
       "      <td>0.241433</td>\n",
       "      <td>0.045711</td>\n",
       "      <td>0.120858</td>\n",
       "      <td>0.120858</td>\n",
       "      <td>0.397480</td>\n",
       "      <td>0</td>\n",
       "    </tr>\n",
       "    <tr>\n",
       "      <th>7</th>\n",
       "      <td>2021-12-13</td>\n",
       "      <td>11987</td>\n",
       "      <td>75780</td>\n",
       "      <td>10441</td>\n",
       "      <td>145399078</td>\n",
       "      <td>0.500792</td>\n",
       "      <td>23.917521</td>\n",
       "      <td>1.079977</td>\n",
       "      <td>1.106413</td>\n",
       "      <td>0.242682</td>\n",
       "      <td>0.022381</td>\n",
       "      <td>0.121128</td>\n",
       "      <td>0.121128</td>\n",
       "      <td>0.410183</td>\n",
       "      <td>0</td>\n",
       "    </tr>\n",
       "    <tr>\n",
       "      <th>8</th>\n",
       "      <td>2021-12-14</td>\n",
       "      <td>1090</td>\n",
       "      <td>7012</td>\n",
       "      <td>2235</td>\n",
       "      <td>9008986</td>\n",
       "      <td>0.877064</td>\n",
       "      <td>24.938532</td>\n",
       "      <td>5.782569</td>\n",
       "      <td>0.477064</td>\n",
       "      <td>0.407339</td>\n",
       "      <td>0.029080</td>\n",
       "      <td>0.210724</td>\n",
       "      <td>0.210724</td>\n",
       "      <td>0.423161</td>\n",
       "      <td>0</td>\n",
       "    </tr>\n",
       "    <tr>\n",
       "      <th>9</th>\n",
       "      <td>2021-12-15</td>\n",
       "      <td>1171</td>\n",
       "      <td>6329</td>\n",
       "      <td>2065</td>\n",
       "      <td>12445838</td>\n",
       "      <td>0.756618</td>\n",
       "      <td>25.267293</td>\n",
       "      <td>6.204099</td>\n",
       "      <td>0.549103</td>\n",
       "      <td>0.373185</td>\n",
       "      <td>0.029278</td>\n",
       "      <td>0.195109</td>\n",
       "      <td>0.195109</td>\n",
       "      <td>0.447951</td>\n",
       "      <td>1</td>\n",
       "    </tr>\n",
       "  </tbody>\n",
       "</table>\n",
       "</div>"
      ],
      "text/plain": [
       "        date  number_tweets  number_of_favorites  number_of_retweets  \\\n",
       "0 2021-10-29           5051                25854                4143   \n",
       "1 2021-11-01          20951               159869               26899   \n",
       "2 2021-11-02          14545                97592               13709   \n",
       "3 2021-11-03           6839                27859                3310   \n",
       "4 2021-12-08           6504                51875                7360   \n",
       "5 2021-12-09           8261                74991               11566   \n",
       "6 2021-12-10           8928               101689               12753   \n",
       "7 2021-12-13          11987                75780               10441   \n",
       "8 2021-12-14           1090                 7012                2235   \n",
       "9 2021-12-15           1171                 6329                2065   \n",
       "\n",
       "   number_of_followers  avg_emojis  avg_words  avg_hashtags  avg_num_mentions  \\\n",
       "0             64744182    0.574555  22.847176      1.131913          1.070158   \n",
       "1            259167877    0.672403  24.398022      1.328250          1.268364   \n",
       "2            219563281    0.729405  24.434049      1.205981          1.280541   \n",
       "3             99421032    0.640164  23.440514      1.071324          1.079070   \n",
       "4             50409471    0.507839  22.838918      1.079926          0.893944   \n",
       "5            151400994    0.505686  22.778853      1.102710          0.838979   \n",
       "6            108593320    0.515789  23.013774      0.969093          0.959910   \n",
       "7            145399078    0.500792  23.917521      1.079977          1.106413   \n",
       "8              9008986    0.877064  24.938532      5.782569          0.477064   \n",
       "9             12445838    0.756618  25.267293      6.204099          0.549103   \n",
       "\n",
       "   avg_exclamation_marks  avg_engagement_rate  polarity  avg_polarity  \\\n",
       "0               0.268321             0.024244  0.122752      0.122752   \n",
       "1               0.284315             0.035796  0.148792      0.148792   \n",
       "2               0.296865             0.020413  0.166109      0.166109   \n",
       "3               0.247150             0.014389  0.130799      0.130799   \n",
       "4               0.262527             0.038302  0.132347      0.132347   \n",
       "5               0.242197             0.030169  0.124922      0.124922   \n",
       "6               0.241433             0.045711  0.120858      0.120858   \n",
       "7               0.242682             0.022381  0.121128      0.121128   \n",
       "8               0.407339             0.029080  0.210724      0.210724   \n",
       "9               0.373185             0.029278  0.195109      0.195109   \n",
       "\n",
       "   avg_subjectivity  dependent  \n",
       "0          0.418258          0  \n",
       "1          0.424527          0  \n",
       "2          0.446198          0  \n",
       "3          0.413306          0  \n",
       "4          0.403964          0  \n",
       "5          0.403552          0  \n",
       "6          0.397480          0  \n",
       "7          0.410183          0  \n",
       "8          0.423161          0  \n",
       "9          0.447951          1  "
      ]
     },
     "execution_count": 388,
     "metadata": {},
     "output_type": "execute_result"
    }
   ],
   "source": [
    "basetable = basetable.sort_values(by= 'date').reset_index(drop=True)\n",
    "basetable.head(10)"
   ]
  },
  {
   "cell_type": "markdown",
   "id": "54ea46f5",
   "metadata": {},
   "source": [
    "Drop the date column becuase this is not a feature"
   ]
  },
  {
   "cell_type": "code",
   "execution_count": 389,
   "id": "beeb50ef",
   "metadata": {},
   "outputs": [
    {
     "data": {
      "text/html": [
       "<div>\n",
       "<style scoped>\n",
       "    .dataframe tbody tr th:only-of-type {\n",
       "        vertical-align: middle;\n",
       "    }\n",
       "\n",
       "    .dataframe tbody tr th {\n",
       "        vertical-align: top;\n",
       "    }\n",
       "\n",
       "    .dataframe thead th {\n",
       "        text-align: right;\n",
       "    }\n",
       "</style>\n",
       "<table border=\"1\" class=\"dataframe\">\n",
       "  <thead>\n",
       "    <tr style=\"text-align: right;\">\n",
       "      <th></th>\n",
       "      <th>number_tweets</th>\n",
       "      <th>number_of_favorites</th>\n",
       "      <th>number_of_retweets</th>\n",
       "      <th>number_of_followers</th>\n",
       "      <th>avg_emojis</th>\n",
       "      <th>avg_words</th>\n",
       "      <th>avg_hashtags</th>\n",
       "      <th>avg_num_mentions</th>\n",
       "      <th>avg_exclamation_marks</th>\n",
       "      <th>avg_engagement_rate</th>\n",
       "      <th>polarity</th>\n",
       "      <th>avg_polarity</th>\n",
       "      <th>avg_subjectivity</th>\n",
       "      <th>dependent</th>\n",
       "    </tr>\n",
       "  </thead>\n",
       "  <tbody>\n",
       "    <tr>\n",
       "      <th>0</th>\n",
       "      <td>5051</td>\n",
       "      <td>25854</td>\n",
       "      <td>4143</td>\n",
       "      <td>64744182</td>\n",
       "      <td>0.574555</td>\n",
       "      <td>22.847176</td>\n",
       "      <td>1.131913</td>\n",
       "      <td>1.070158</td>\n",
       "      <td>0.268321</td>\n",
       "      <td>0.024244</td>\n",
       "      <td>0.122752</td>\n",
       "      <td>0.122752</td>\n",
       "      <td>0.418258</td>\n",
       "      <td>0</td>\n",
       "    </tr>\n",
       "    <tr>\n",
       "      <th>1</th>\n",
       "      <td>20951</td>\n",
       "      <td>159869</td>\n",
       "      <td>26899</td>\n",
       "      <td>259167877</td>\n",
       "      <td>0.672403</td>\n",
       "      <td>24.398022</td>\n",
       "      <td>1.328250</td>\n",
       "      <td>1.268364</td>\n",
       "      <td>0.284315</td>\n",
       "      <td>0.035796</td>\n",
       "      <td>0.148792</td>\n",
       "      <td>0.148792</td>\n",
       "      <td>0.424527</td>\n",
       "      <td>0</td>\n",
       "    </tr>\n",
       "    <tr>\n",
       "      <th>2</th>\n",
       "      <td>14545</td>\n",
       "      <td>97592</td>\n",
       "      <td>13709</td>\n",
       "      <td>219563281</td>\n",
       "      <td>0.729405</td>\n",
       "      <td>24.434049</td>\n",
       "      <td>1.205981</td>\n",
       "      <td>1.280541</td>\n",
       "      <td>0.296865</td>\n",
       "      <td>0.020413</td>\n",
       "      <td>0.166109</td>\n",
       "      <td>0.166109</td>\n",
       "      <td>0.446198</td>\n",
       "      <td>0</td>\n",
       "    </tr>\n",
       "    <tr>\n",
       "      <th>3</th>\n",
       "      <td>6839</td>\n",
       "      <td>27859</td>\n",
       "      <td>3310</td>\n",
       "      <td>99421032</td>\n",
       "      <td>0.640164</td>\n",
       "      <td>23.440514</td>\n",
       "      <td>1.071324</td>\n",
       "      <td>1.079070</td>\n",
       "      <td>0.247150</td>\n",
       "      <td>0.014389</td>\n",
       "      <td>0.130799</td>\n",
       "      <td>0.130799</td>\n",
       "      <td>0.413306</td>\n",
       "      <td>0</td>\n",
       "    </tr>\n",
       "    <tr>\n",
       "      <th>4</th>\n",
       "      <td>6504</td>\n",
       "      <td>51875</td>\n",
       "      <td>7360</td>\n",
       "      <td>50409471</td>\n",
       "      <td>0.507839</td>\n",
       "      <td>22.838918</td>\n",
       "      <td>1.079926</td>\n",
       "      <td>0.893944</td>\n",
       "      <td>0.262527</td>\n",
       "      <td>0.038302</td>\n",
       "      <td>0.132347</td>\n",
       "      <td>0.132347</td>\n",
       "      <td>0.403964</td>\n",
       "      <td>0</td>\n",
       "    </tr>\n",
       "  </tbody>\n",
       "</table>\n",
       "</div>"
      ],
      "text/plain": [
       "   number_tweets  number_of_favorites  number_of_retweets  \\\n",
       "0           5051                25854                4143   \n",
       "1          20951               159869               26899   \n",
       "2          14545                97592               13709   \n",
       "3           6839                27859                3310   \n",
       "4           6504                51875                7360   \n",
       "\n",
       "   number_of_followers  avg_emojis  avg_words  avg_hashtags  avg_num_mentions  \\\n",
       "0             64744182    0.574555  22.847176      1.131913          1.070158   \n",
       "1            259167877    0.672403  24.398022      1.328250          1.268364   \n",
       "2            219563281    0.729405  24.434049      1.205981          1.280541   \n",
       "3             99421032    0.640164  23.440514      1.071324          1.079070   \n",
       "4             50409471    0.507839  22.838918      1.079926          0.893944   \n",
       "\n",
       "   avg_exclamation_marks  avg_engagement_rate  polarity  avg_polarity  \\\n",
       "0               0.268321             0.024244  0.122752      0.122752   \n",
       "1               0.284315             0.035796  0.148792      0.148792   \n",
       "2               0.296865             0.020413  0.166109      0.166109   \n",
       "3               0.247150             0.014389  0.130799      0.130799   \n",
       "4               0.262527             0.038302  0.132347      0.132347   \n",
       "\n",
       "   avg_subjectivity  dependent  \n",
       "0          0.418258          0  \n",
       "1          0.424527          0  \n",
       "2          0.446198          0  \n",
       "3          0.413306          0  \n",
       "4          0.403964          0  "
      ]
     },
     "execution_count": 389,
     "metadata": {},
     "output_type": "execute_result"
    }
   ],
   "source": [
    "basetable.drop('date', axis=1, inplace=True)\n",
    "basetable.head()"
   ]
  },
  {
   "cell_type": "code",
   "execution_count": 394,
   "id": "3484f05e",
   "metadata": {},
   "outputs": [],
   "source": [
    "# store basetable as a .parquet file\n",
    "basetable.to_parquet(\"./../../data/basetableBinary.parquet\")"
   ]
  },
  {
   "cell_type": "code",
   "execution_count": 390,
   "id": "535fabcb",
   "metadata": {},
   "outputs": [],
   "source": [
    "# export basetable as a .json file\n",
    "basetable.to_json(\"./../../data/basetableBinary.json\", orient=\"records\", force_ascii=False, lines=True)"
   ]
  },
  {
   "cell_type": "markdown",
   "id": "a9612cd2",
   "metadata": {},
   "source": [
    "## 5.4 split train and test set "
   ]
  },
  {
   "cell_type": "code",
   "execution_count": 320,
   "id": "abed90c4",
   "metadata": {},
   "outputs": [],
   "source": [
    "# read in the saved basetable (.parquet)\n",
    "basetable_df = spark.read.parquet(\"./../../data/basetableBinary.parquet\")"
   ]
  },
  {
   "cell_type": "code",
   "execution_count": 321,
   "id": "426afab9",
   "metadata": {},
   "outputs": [],
   "source": [
    "# read in the saved basetable (.json)\n",
    "basetable_df = spark.read.json(\"./../../data/basetableBinary.json\")"
   ]
  },
  {
   "cell_type": "code",
   "execution_count": 322,
   "id": "d7cdbd3d",
   "metadata": {
    "scrolled": true
   },
   "outputs": [
    {
     "data": {
      "text/html": [
       "<div>\n",
       "<style scoped>\n",
       "    .dataframe tbody tr th:only-of-type {\n",
       "        vertical-align: middle;\n",
       "    }\n",
       "\n",
       "    .dataframe tbody tr th {\n",
       "        vertical-align: top;\n",
       "    }\n",
       "\n",
       "    .dataframe thead th {\n",
       "        text-align: right;\n",
       "    }\n",
       "</style>\n",
       "<table border=\"1\" class=\"dataframe\">\n",
       "  <thead>\n",
       "    <tr style=\"text-align: right;\">\n",
       "      <th></th>\n",
       "      <th>avg_emojis</th>\n",
       "      <th>avg_engagement_rate</th>\n",
       "      <th>avg_exclamation_marks</th>\n",
       "      <th>avg_hashtags</th>\n",
       "      <th>avg_num_mentions</th>\n",
       "      <th>avg_polarity</th>\n",
       "      <th>avg_subjectivity</th>\n",
       "      <th>avg_words</th>\n",
       "      <th>dependent</th>\n",
       "      <th>number_of_favorites</th>\n",
       "      <th>number_of_followers</th>\n",
       "      <th>number_of_retweets</th>\n",
       "      <th>number_tweets</th>\n",
       "      <th>polarity</th>\n",
       "    </tr>\n",
       "  </thead>\n",
       "  <tbody>\n",
       "    <tr>\n",
       "      <th>0</th>\n",
       "      <td>0.574555</td>\n",
       "      <td>0.024244</td>\n",
       "      <td>0.268321</td>\n",
       "      <td>1.131913</td>\n",
       "      <td>1.070158</td>\n",
       "      <td>0.122752</td>\n",
       "      <td>0.418258</td>\n",
       "      <td>22.847176</td>\n",
       "      <td>0</td>\n",
       "      <td>25854</td>\n",
       "      <td>64744182</td>\n",
       "      <td>4143</td>\n",
       "      <td>5051</td>\n",
       "      <td>0.122752</td>\n",
       "    </tr>\n",
       "    <tr>\n",
       "      <th>1</th>\n",
       "      <td>0.672403</td>\n",
       "      <td>0.035796</td>\n",
       "      <td>0.284315</td>\n",
       "      <td>1.328250</td>\n",
       "      <td>1.268364</td>\n",
       "      <td>0.148792</td>\n",
       "      <td>0.424527</td>\n",
       "      <td>24.398022</td>\n",
       "      <td>0</td>\n",
       "      <td>159869</td>\n",
       "      <td>259167877</td>\n",
       "      <td>26899</td>\n",
       "      <td>20951</td>\n",
       "      <td>0.148792</td>\n",
       "    </tr>\n",
       "    <tr>\n",
       "      <th>2</th>\n",
       "      <td>0.729405</td>\n",
       "      <td>0.020413</td>\n",
       "      <td>0.296865</td>\n",
       "      <td>1.205981</td>\n",
       "      <td>1.280541</td>\n",
       "      <td>0.166109</td>\n",
       "      <td>0.446198</td>\n",
       "      <td>24.434049</td>\n",
       "      <td>0</td>\n",
       "      <td>97592</td>\n",
       "      <td>219563281</td>\n",
       "      <td>13709</td>\n",
       "      <td>14545</td>\n",
       "      <td>0.166109</td>\n",
       "    </tr>\n",
       "    <tr>\n",
       "      <th>3</th>\n",
       "      <td>0.640164</td>\n",
       "      <td>0.014389</td>\n",
       "      <td>0.247150</td>\n",
       "      <td>1.071324</td>\n",
       "      <td>1.079070</td>\n",
       "      <td>0.130799</td>\n",
       "      <td>0.413306</td>\n",
       "      <td>23.440514</td>\n",
       "      <td>0</td>\n",
       "      <td>27859</td>\n",
       "      <td>99421032</td>\n",
       "      <td>3310</td>\n",
       "      <td>6839</td>\n",
       "      <td>0.130799</td>\n",
       "    </tr>\n",
       "    <tr>\n",
       "      <th>4</th>\n",
       "      <td>0.507839</td>\n",
       "      <td>0.038302</td>\n",
       "      <td>0.262527</td>\n",
       "      <td>1.079926</td>\n",
       "      <td>0.893944</td>\n",
       "      <td>0.132347</td>\n",
       "      <td>0.403964</td>\n",
       "      <td>22.838918</td>\n",
       "      <td>0</td>\n",
       "      <td>51875</td>\n",
       "      <td>50409471</td>\n",
       "      <td>7360</td>\n",
       "      <td>6504</td>\n",
       "      <td>0.132347</td>\n",
       "    </tr>\n",
       "  </tbody>\n",
       "</table>\n",
       "</div>"
      ],
      "text/plain": [
       "   avg_emojis  avg_engagement_rate  avg_exclamation_marks  avg_hashtags  \\\n",
       "0    0.574555             0.024244               0.268321      1.131913   \n",
       "1    0.672403             0.035796               0.284315      1.328250   \n",
       "2    0.729405             0.020413               0.296865      1.205981   \n",
       "3    0.640164             0.014389               0.247150      1.071324   \n",
       "4    0.507839             0.038302               0.262527      1.079926   \n",
       "\n",
       "   avg_num_mentions  avg_polarity  avg_subjectivity  avg_words  dependent  \\\n",
       "0          1.070158      0.122752          0.418258  22.847176          0   \n",
       "1          1.268364      0.148792          0.424527  24.398022          0   \n",
       "2          1.280541      0.166109          0.446198  24.434049          0   \n",
       "3          1.079070      0.130799          0.413306  23.440514          0   \n",
       "4          0.893944      0.132347          0.403964  22.838918          0   \n",
       "\n",
       "   number_of_favorites  number_of_followers  number_of_retweets  \\\n",
       "0                25854             64744182                4143   \n",
       "1               159869            259167877               26899   \n",
       "2                97592            219563281               13709   \n",
       "3                27859             99421032                3310   \n",
       "4                51875             50409471                7360   \n",
       "\n",
       "   number_tweets  polarity  \n",
       "0           5051  0.122752  \n",
       "1          20951  0.148792  \n",
       "2          14545  0.166109  \n",
       "3           6839  0.130799  \n",
       "4           6504  0.132347  "
      ]
     },
     "execution_count": 322,
     "metadata": {},
     "output_type": "execute_result"
    }
   ],
   "source": [
    "basetable_df.toPandas().head()"
   ]
  },
  {
   "cell_type": "markdown",
   "id": "fd8fc7ca",
   "metadata": {},
   "source": [
    "Look at the total number of observations in the basetable "
   ]
  },
  {
   "cell_type": "code",
   "execution_count": 323,
   "id": "58343ff5",
   "metadata": {},
   "outputs": [
    {
     "data": {
      "text/plain": [
       "140"
      ]
     },
     "execution_count": 323,
     "metadata": {},
     "output_type": "execute_result"
    }
   ],
   "source": [
    "basetable_df.count()"
   ]
  },
  {
   "attachments": {},
   "cell_type": "markdown",
   "id": "106a3a93",
   "metadata": {},
   "source": [
    "We cannot use the randomsplit function, because we have time series data, so we have to use another approach\n",
    "https://towardsdatascience.com/time-series-from-scratch-train-test-splits-and-evaluation-metrics-4fd654de1b37#:~:text=Train%2Ftest%20splits%20in%20time%20series%20In%20machine%20learning%2C,dataset%20for%20testing%20and%20everything%20else%20for%20training."
   ]
  },
  {
   "cell_type": "markdown",
   "id": "18f8ec34",
   "metadata": {},
   "source": [
    "First we look at the amount of observations that will be assigned to the training set "
   ]
  },
  {
   "cell_type": "code",
   "execution_count": 324,
   "id": "dece8543",
   "metadata": {
    "scrolled": true
   },
   "outputs": [
    {
     "data": {
      "text/plain": [
       "98"
      ]
     },
     "execution_count": 324,
     "metadata": {},
     "output_type": "execute_result"
    }
   ],
   "source": [
    "nr_train = int(basetable_df.count()*0.7)\n",
    "nr_train"
   ]
  },
  {
   "cell_type": "markdown",
   "id": "8bc5eb92",
   "metadata": {},
   "source": [
    "convert the final basetable to a pandas dataset "
   ]
  },
  {
   "cell_type": "code",
   "execution_count": 325,
   "id": "52568ef3",
   "metadata": {},
   "outputs": [
    {
     "data": {
      "text/html": [
       "<div>\n",
       "<style scoped>\n",
       "    .dataframe tbody tr th:only-of-type {\n",
       "        vertical-align: middle;\n",
       "    }\n",
       "\n",
       "    .dataframe tbody tr th {\n",
       "        vertical-align: top;\n",
       "    }\n",
       "\n",
       "    .dataframe thead th {\n",
       "        text-align: right;\n",
       "    }\n",
       "</style>\n",
       "<table border=\"1\" class=\"dataframe\">\n",
       "  <thead>\n",
       "    <tr style=\"text-align: right;\">\n",
       "      <th></th>\n",
       "      <th>avg_emojis</th>\n",
       "      <th>avg_engagement_rate</th>\n",
       "      <th>avg_exclamation_marks</th>\n",
       "      <th>avg_hashtags</th>\n",
       "      <th>avg_num_mentions</th>\n",
       "      <th>avg_polarity</th>\n",
       "      <th>avg_subjectivity</th>\n",
       "      <th>avg_words</th>\n",
       "      <th>dependent</th>\n",
       "      <th>number_of_favorites</th>\n",
       "      <th>number_of_followers</th>\n",
       "      <th>number_of_retweets</th>\n",
       "      <th>number_tweets</th>\n",
       "      <th>polarity</th>\n",
       "    </tr>\n",
       "  </thead>\n",
       "  <tbody>\n",
       "    <tr>\n",
       "      <th>0</th>\n",
       "      <td>0.574555</td>\n",
       "      <td>0.024244</td>\n",
       "      <td>0.268321</td>\n",
       "      <td>1.131913</td>\n",
       "      <td>1.070158</td>\n",
       "      <td>0.122752</td>\n",
       "      <td>0.418258</td>\n",
       "      <td>22.847176</td>\n",
       "      <td>0</td>\n",
       "      <td>25854</td>\n",
       "      <td>64744182</td>\n",
       "      <td>4143</td>\n",
       "      <td>5051</td>\n",
       "      <td>0.122752</td>\n",
       "    </tr>\n",
       "    <tr>\n",
       "      <th>1</th>\n",
       "      <td>0.672403</td>\n",
       "      <td>0.035796</td>\n",
       "      <td>0.284315</td>\n",
       "      <td>1.328250</td>\n",
       "      <td>1.268364</td>\n",
       "      <td>0.148792</td>\n",
       "      <td>0.424527</td>\n",
       "      <td>24.398022</td>\n",
       "      <td>0</td>\n",
       "      <td>159869</td>\n",
       "      <td>259167877</td>\n",
       "      <td>26899</td>\n",
       "      <td>20951</td>\n",
       "      <td>0.148792</td>\n",
       "    </tr>\n",
       "    <tr>\n",
       "      <th>2</th>\n",
       "      <td>0.729405</td>\n",
       "      <td>0.020413</td>\n",
       "      <td>0.296865</td>\n",
       "      <td>1.205981</td>\n",
       "      <td>1.280541</td>\n",
       "      <td>0.166109</td>\n",
       "      <td>0.446198</td>\n",
       "      <td>24.434049</td>\n",
       "      <td>0</td>\n",
       "      <td>97592</td>\n",
       "      <td>219563281</td>\n",
       "      <td>13709</td>\n",
       "      <td>14545</td>\n",
       "      <td>0.166109</td>\n",
       "    </tr>\n",
       "    <tr>\n",
       "      <th>3</th>\n",
       "      <td>0.640164</td>\n",
       "      <td>0.014389</td>\n",
       "      <td>0.247150</td>\n",
       "      <td>1.071324</td>\n",
       "      <td>1.079070</td>\n",
       "      <td>0.130799</td>\n",
       "      <td>0.413306</td>\n",
       "      <td>23.440514</td>\n",
       "      <td>0</td>\n",
       "      <td>27859</td>\n",
       "      <td>99421032</td>\n",
       "      <td>3310</td>\n",
       "      <td>6839</td>\n",
       "      <td>0.130799</td>\n",
       "    </tr>\n",
       "    <tr>\n",
       "      <th>4</th>\n",
       "      <td>0.507839</td>\n",
       "      <td>0.038302</td>\n",
       "      <td>0.262527</td>\n",
       "      <td>1.079926</td>\n",
       "      <td>0.893944</td>\n",
       "      <td>0.132347</td>\n",
       "      <td>0.403964</td>\n",
       "      <td>22.838918</td>\n",
       "      <td>0</td>\n",
       "      <td>51875</td>\n",
       "      <td>50409471</td>\n",
       "      <td>7360</td>\n",
       "      <td>6504</td>\n",
       "      <td>0.132347</td>\n",
       "    </tr>\n",
       "  </tbody>\n",
       "</table>\n",
       "</div>"
      ],
      "text/plain": [
       "   avg_emojis  avg_engagement_rate  avg_exclamation_marks  avg_hashtags  \\\n",
       "0    0.574555             0.024244               0.268321      1.131913   \n",
       "1    0.672403             0.035796               0.284315      1.328250   \n",
       "2    0.729405             0.020413               0.296865      1.205981   \n",
       "3    0.640164             0.014389               0.247150      1.071324   \n",
       "4    0.507839             0.038302               0.262527      1.079926   \n",
       "\n",
       "   avg_num_mentions  avg_polarity  avg_subjectivity  avg_words  dependent  \\\n",
       "0          1.070158      0.122752          0.418258  22.847176          0   \n",
       "1          1.268364      0.148792          0.424527  24.398022          0   \n",
       "2          1.280541      0.166109          0.446198  24.434049          0   \n",
       "3          1.079070      0.130799          0.413306  23.440514          0   \n",
       "4          0.893944      0.132347          0.403964  22.838918          0   \n",
       "\n",
       "   number_of_favorites  number_of_followers  number_of_retweets  \\\n",
       "0                25854             64744182                4143   \n",
       "1               159869            259167877               26899   \n",
       "2                97592            219563281               13709   \n",
       "3                27859             99421032                3310   \n",
       "4                51875             50409471                7360   \n",
       "\n",
       "   number_tweets  polarity  \n",
       "0           5051  0.122752  \n",
       "1          20951  0.148792  \n",
       "2          14545  0.166109  \n",
       "3           6839  0.130799  \n",
       "4           6504  0.132347  "
      ]
     },
     "execution_count": 325,
     "metadata": {},
     "output_type": "execute_result"
    }
   ],
   "source": [
    "basetable_pd = basetable_df.toPandas()\n",
    "basetable_pd.head()"
   ]
  },
  {
   "cell_type": "markdown",
   "id": "a4eaf526",
   "metadata": {},
   "source": [
    "Split the dataframe into train and test "
   ]
  },
  {
   "cell_type": "code",
   "execution_count": 327,
   "id": "9be927ab",
   "metadata": {},
   "outputs": [],
   "source": [
    "train_pd = basetable_pd.iloc[:nr_train,:]\n",
    "test_pd = basetable_pd.iloc[nr_train:,:]"
   ]
  },
  {
   "cell_type": "code",
   "execution_count": 328,
   "id": "a577dee8",
   "metadata": {
    "scrolled": true
   },
   "outputs": [
    {
     "data": {
      "text/html": [
       "<div>\n",
       "<style scoped>\n",
       "    .dataframe tbody tr th:only-of-type {\n",
       "        vertical-align: middle;\n",
       "    }\n",
       "\n",
       "    .dataframe tbody tr th {\n",
       "        vertical-align: top;\n",
       "    }\n",
       "\n",
       "    .dataframe thead th {\n",
       "        text-align: right;\n",
       "    }\n",
       "</style>\n",
       "<table border=\"1\" class=\"dataframe\">\n",
       "  <thead>\n",
       "    <tr style=\"text-align: right;\">\n",
       "      <th></th>\n",
       "      <th>avg_emojis</th>\n",
       "      <th>avg_engagement_rate</th>\n",
       "      <th>avg_exclamation_marks</th>\n",
       "      <th>avg_hashtags</th>\n",
       "      <th>avg_num_mentions</th>\n",
       "      <th>avg_polarity</th>\n",
       "      <th>avg_subjectivity</th>\n",
       "      <th>avg_words</th>\n",
       "      <th>dependent</th>\n",
       "      <th>number_of_favorites</th>\n",
       "      <th>number_of_followers</th>\n",
       "      <th>number_of_retweets</th>\n",
       "      <th>number_tweets</th>\n",
       "      <th>polarity</th>\n",
       "    </tr>\n",
       "  </thead>\n",
       "  <tbody>\n",
       "    <tr>\n",
       "      <th>0</th>\n",
       "      <td>0.574555</td>\n",
       "      <td>0.024244</td>\n",
       "      <td>0.268321</td>\n",
       "      <td>1.131913</td>\n",
       "      <td>1.070158</td>\n",
       "      <td>0.122752</td>\n",
       "      <td>0.418258</td>\n",
       "      <td>22.847176</td>\n",
       "      <td>0</td>\n",
       "      <td>25854</td>\n",
       "      <td>64744182</td>\n",
       "      <td>4143</td>\n",
       "      <td>5051</td>\n",
       "      <td>0.122752</td>\n",
       "    </tr>\n",
       "    <tr>\n",
       "      <th>1</th>\n",
       "      <td>0.672403</td>\n",
       "      <td>0.035796</td>\n",
       "      <td>0.284315</td>\n",
       "      <td>1.328250</td>\n",
       "      <td>1.268364</td>\n",
       "      <td>0.148792</td>\n",
       "      <td>0.424527</td>\n",
       "      <td>24.398022</td>\n",
       "      <td>0</td>\n",
       "      <td>159869</td>\n",
       "      <td>259167877</td>\n",
       "      <td>26899</td>\n",
       "      <td>20951</td>\n",
       "      <td>0.148792</td>\n",
       "    </tr>\n",
       "    <tr>\n",
       "      <th>2</th>\n",
       "      <td>0.729405</td>\n",
       "      <td>0.020413</td>\n",
       "      <td>0.296865</td>\n",
       "      <td>1.205981</td>\n",
       "      <td>1.280541</td>\n",
       "      <td>0.166109</td>\n",
       "      <td>0.446198</td>\n",
       "      <td>24.434049</td>\n",
       "      <td>0</td>\n",
       "      <td>97592</td>\n",
       "      <td>219563281</td>\n",
       "      <td>13709</td>\n",
       "      <td>14545</td>\n",
       "      <td>0.166109</td>\n",
       "    </tr>\n",
       "    <tr>\n",
       "      <th>3</th>\n",
       "      <td>0.640164</td>\n",
       "      <td>0.014389</td>\n",
       "      <td>0.247150</td>\n",
       "      <td>1.071324</td>\n",
       "      <td>1.079070</td>\n",
       "      <td>0.130799</td>\n",
       "      <td>0.413306</td>\n",
       "      <td>23.440514</td>\n",
       "      <td>0</td>\n",
       "      <td>27859</td>\n",
       "      <td>99421032</td>\n",
       "      <td>3310</td>\n",
       "      <td>6839</td>\n",
       "      <td>0.130799</td>\n",
       "    </tr>\n",
       "    <tr>\n",
       "      <th>4</th>\n",
       "      <td>0.507839</td>\n",
       "      <td>0.038302</td>\n",
       "      <td>0.262527</td>\n",
       "      <td>1.079926</td>\n",
       "      <td>0.893944</td>\n",
       "      <td>0.132347</td>\n",
       "      <td>0.403964</td>\n",
       "      <td>22.838918</td>\n",
       "      <td>0</td>\n",
       "      <td>51875</td>\n",
       "      <td>50409471</td>\n",
       "      <td>7360</td>\n",
       "      <td>6504</td>\n",
       "      <td>0.132347</td>\n",
       "    </tr>\n",
       "  </tbody>\n",
       "</table>\n",
       "</div>"
      ],
      "text/plain": [
       "   avg_emojis  avg_engagement_rate  avg_exclamation_marks  avg_hashtags  \\\n",
       "0    0.574555             0.024244               0.268321      1.131913   \n",
       "1    0.672403             0.035796               0.284315      1.328250   \n",
       "2    0.729405             0.020413               0.296865      1.205981   \n",
       "3    0.640164             0.014389               0.247150      1.071324   \n",
       "4    0.507839             0.038302               0.262527      1.079926   \n",
       "\n",
       "   avg_num_mentions  avg_polarity  avg_subjectivity  avg_words  dependent  \\\n",
       "0          1.070158      0.122752          0.418258  22.847176          0   \n",
       "1          1.268364      0.148792          0.424527  24.398022          0   \n",
       "2          1.280541      0.166109          0.446198  24.434049          0   \n",
       "3          1.079070      0.130799          0.413306  23.440514          0   \n",
       "4          0.893944      0.132347          0.403964  22.838918          0   \n",
       "\n",
       "   number_of_favorites  number_of_followers  number_of_retweets  \\\n",
       "0                25854             64744182                4143   \n",
       "1               159869            259167877               26899   \n",
       "2                97592            219563281               13709   \n",
       "3                27859             99421032                3310   \n",
       "4                51875             50409471                7360   \n",
       "\n",
       "   number_tweets  polarity  \n",
       "0           5051  0.122752  \n",
       "1          20951  0.148792  \n",
       "2          14545  0.166109  \n",
       "3           6839  0.130799  \n",
       "4           6504  0.132347  "
      ]
     },
     "execution_count": 328,
     "metadata": {},
     "output_type": "execute_result"
    }
   ],
   "source": [
    "train_pd.head()"
   ]
  },
  {
   "cell_type": "markdown",
   "id": "fe19a50f",
   "metadata": {},
   "source": [
    "Convert the pandas dataframe back to a spark dataframe"
   ]
  },
  {
   "cell_type": "code",
   "execution_count": 329,
   "id": "65c37906",
   "metadata": {},
   "outputs": [
    {
     "name": "stdout",
     "output_type": "stream",
     "text": [
      "+------------+-------------------+---------------------+------------+----------------+------------+----------------+-------------+---------+-------------------+-------------------+------------------+-------------+------------+\n",
      "|  avg_emojis|avg_engagement_rate|avg_exclamation_marks|avg_hashtags|avg_num_mentions|avg_polarity|avg_subjectivity|    avg_words|dependent|number_of_favorites|number_of_followers|number_of_retweets|number_tweets|    polarity|\n",
      "+------------+-------------------+---------------------+------------+----------------+------------+----------------+-------------+---------+-------------------+-------------------+------------------+-------------+------------+\n",
      "|0.5745554036|       0.0242435491|          0.268321282|1.1319132304|    1.0701582959|0.1227518592|    0.4182581273|22.8471760797|        0|              25854|           64744182|              4143|         5051|0.1227518592|\n",
      "|0.6724033394|       0.0357964676|         0.2843150972|1.3282496152|    1.2683643487|0.1487924554|    0.4245268992|24.3980224803|        0|             159869|          259167877|             26899|        20951|0.1487924554|\n",
      "| 0.729405309|       0.0204128162|         0.2968653543|1.2059812058|    1.2805405035|0.1661089637|    0.4461981659|24.4340489746|        0|              97592|          219563281|             13709|        14545|0.1661089637|\n",
      "|0.6401636948|       0.0143888502|         0.2471499562|1.0713241742|    1.0790704472|0.1307991584|    0.4133064143|23.4405144695|        0|              27859|           99421032|              3310|         6839|0.1307991584|\n",
      "|0.5078389179|        0.038301671|         0.2625268982|1.0799262219|    0.8939440516|0.1323473782|    0.4039641874|22.8389179219|        0|              51875|           50409471|              7360|         6504|0.1323473782|\n",
      "|0.5056859424|       0.0301692101|         0.2421969514| 1.102709896|    0.8389789499|0.1249220867|    0.4035524285|22.7788531333|        0|              74991|          151400994|             11566|         8261|0.1249220867|\n",
      "|0.5157894737|       0.0457112219|         0.2414333707|0.9690929451|    0.9599104143|0.1208582149|    0.3974802908|23.0137737962|        0|             101689|          108593320|             12753|         8928|0.1208582149|\n",
      "|0.5007922609|       0.0223809361|         0.2426820115|1.0799766492|    1.1064131432|0.1211284944|     0.410183019|23.9175214744|        0|              75780|          145399078|             10441|        11987|0.1211284944|\n",
      "|0.8770642202|       0.0290796518|         0.4073394495|5.7825688073|    0.4770642202|0.2107243447|    0.4231609832|24.9385321101|        0|               7012|            9008986|              2235|         1090|0.2107243447|\n",
      "| 0.756618275|       0.0292775224|         0.3731853117|6.2040990606|    0.5491033305|0.1951091555|    0.4479512406| 25.267292912|        1|               6329|           12445838|              2065|         1171|0.1951091555|\n",
      "|0.7603174603|       0.0219955258|         0.4349206349|5.2492063492|    0.4650793651|0.2150821132|    0.4507697848|24.9079365079|        0|               2147|            4376902|               648|          630|0.2150821132|\n",
      "|0.8245614035|        0.035941051|         0.3249122807|6.0203508772|    0.4743859649|0.1635927851|    0.4149905899|25.2168421053|        1|              16450|            8862602|              3493|         1425|0.1635927851|\n",
      "|0.8223255814|       0.0220044861|          0.343255814|5.9748837209|    0.4455813953|0.1948706816|    0.4595235077|25.5451162791|        0|               6835|            6668118|              2312|         1075|0.1948706816|\n",
      "|0.6553432413|       0.0239438035|         0.2894550602|6.2377919321|    0.7848549186| 0.153819633|    0.4554098953|26.1160651097|        0|               7359|            9207618|              2008|         1413| 0.153819633|\n",
      "|0.7981481481|       0.0342136042|         0.4305555556|6.1240740741|    0.4416666667|0.1976786495|    0.4334142187|24.9638888889|        0|               6271|            5398478|              1856|         1080|0.1976786495|\n",
      "|0.6796036334|       0.0199517002|         0.3435177539|6.0033030553|    0.3385631709|0.1323717693|    0.4233231511|25.7440132122|        0|               6716|            6253673|              1879|         1211|0.1323717693|\n",
      "|0.8171232877|       0.0188357799|         0.3890410959|6.0534246575|    0.3938356164|0.1694753725|    0.4311471363|25.1801369863|        0|               9703|           10867570|              1927|         1460|0.1694753725|\n",
      "|0.7317073171|       0.0282581337|          0.379403794|5.2948509485|    0.5528455285| 0.202496101|    0.4277322938|25.5588075881|        0|              16231|           15954515|              3949|         1843| 0.202496101|\n",
      "|0.7147719537|       0.0292432722|         0.4213750851|5.7699115044|    0.4860449285|0.1907298913|    0.4336605259| 25.449285228|        1|              14074|           13362230|              3147|         1468|0.1907298913|\n",
      "|0.7939142462|       0.0210571006|         0.3990318119|5.7109266943|    0.5242047026|0.1952078842|    0.4350798234|25.8450899032|        0|               8610|           10369559|              2474|         1446|0.1952078842|\n",
      "+------------+-------------------+---------------------+------------+----------------+------------+----------------+-------------+---------+-------------------+-------------------+------------------+-------------+------------+\n",
      "only showing top 20 rows\n",
      "\n"
     ]
    }
   ],
   "source": [
    "train = spark.createDataFrame(train_pd)\n",
    "train.show()"
   ]
  },
  {
   "cell_type": "code",
   "execution_count": 330,
   "id": "a56110f1",
   "metadata": {
    "scrolled": true
   },
   "outputs": [
    {
     "name": "stdout",
     "output_type": "stream",
     "text": [
      "+------------+-------------------+---------------------+------------+----------------+------------+----------------+-------------+---------+-------------------+-------------------+------------------+-------------+------------+\n",
      "|  avg_emojis|avg_engagement_rate|avg_exclamation_marks|avg_hashtags|avg_num_mentions|avg_polarity|avg_subjectivity|    avg_words|dependent|number_of_favorites|number_of_followers|number_of_retweets|number_tweets|    polarity|\n",
      "+------------+-------------------+---------------------+------------+----------------+------------+----------------+-------------+---------+-------------------+-------------------+------------------+-------------+------------+\n",
      "|0.7341568206|       0.0386210277|         0.3668098818|6.0955961332|    0.4607948443|0.1996847945|    0.4243139534| 24.462406015|        0|              17894|           12151636|              5673|         1862|0.1996847945|\n",
      "|0.8484848485|       0.0256007015|         0.3682277319| 6.709825528|    0.3709825528|0.1895193854|    0.3999091714|25.7272727273|        0|              11855|            7174175|              3734|         1089|0.1895193854|\n",
      "|0.7815699659|       0.0423344081|         0.4112627986|6.6518771331|     0.295221843|0.1946569988|     0.404052751|25.7576791809|        0|               1481|            4034656|               399|          586|0.1946569988|\n",
      "|0.8095238095|       0.0308096354|         0.3645124717|6.0090702948|    0.3973922902|0.1811594774|    0.4167097484|24.7879818594|        0|              14443|           11905432|              3897|         1764|0.1811594774|\n",
      "|0.7463697967|       0.0385715167|         0.2962245886|6.1113262343|    0.3562439497|0.1742423004|    0.4171932987|24.8877057115|        1|               9836|            5287776|              3585|         1033|0.1742423004|\n",
      "| 0.797188755|       0.0254726171|         0.4277108434|6.0050200803|    0.3614457831|0.1883604558|    0.4243046671|25.6285140562|        0|               5159|            4567594|              1545|          996|0.1883604558|\n",
      "|0.7693050193|       0.0366723583|         0.3552123552|6.1631274131|    0.4025096525|0.1712070921|    0.4030380141|25.0685328185|        1|               7176|            4947712|              2746|         1036|0.1712070921|\n",
      "|0.6455331412|         0.01398642|         0.3227665706|6.6071085495|    0.3688760807|0.1350501584|    0.4089837076|25.6964457253|        0|               9273|            4095361|              2262|         1038|0.1350501584|\n",
      "| 0.791011236|       0.0274904699|         0.3468164794|5.8719101124|    0.4441947566|0.1801237921|    0.4188020074| 24.261423221|        0|               7484|            9757097|              1653|         1327|0.1801237921|\n",
      "|0.4495638984|       0.0931270592|         0.2212741752|0.9192263936|    1.0026545317| 0.106001367|     0.406898367|24.0408608267|        0|             303328|          252973752|             36975|        10478| 0.106001367|\n",
      "| 0.450091631|       0.0342503949|         0.2255345144|1.0891875382|    0.8927306048|0.1215447021|    0.4137001409|23.4630421503|        0|              72537|           89026921|              8321|         8160|0.1215447021|\n",
      "|0.4618828797|       0.0523851024|         0.2177447861|0.9184635325|    1.0314598798|0.1152144617|    0.4172869297|23.9673618475|        1|              62554|          120741873|              7741|         8443|0.1152144617|\n",
      "| 0.470718232|       0.0311647983|         0.2099447514|1.1133210559|    0.9706568447|0.1137597013|    0.4084723637|23.7063228975|        0|              44475|           74505872|              6190|         8098|0.1137597013|\n",
      "|0.4377774959|       0.0238026555|         0.2266903463|1.1853355322|    0.9317518711|0.1198536487|    0.3965915853| 23.253583661|        0|              38475|           79534880|              5066|         7849|0.1198536487|\n",
      "|0.5906882591|       0.0187379582|         0.2829959514|2.6631578947|     0.671659919|0.1417477679|    0.4143004186|24.0263157895|        0|               7681|           31273236|              1760|         2468|0.1417477679|\n",
      "|0.6623634558|       0.0323084915|         0.3535253227|6.4756703078|    0.3565044687| 0.186639594|    0.4133595671|25.0218470705|        0|               4599|            7019561|              1344|         1007| 0.186639594|\n",
      "|0.7664921466|       0.0262910815|          0.380104712|6.3465968586|    0.3717277487|0.1761324092|    0.4133496204|25.3235602094|        1|               5313|            7481151|              1684|          955|0.1761324092|\n",
      "|0.7779816514|       0.0087710757|         0.3779816514|6.0165137615|    0.5394495413|0.1824601582|    0.4137568749|26.3486238532|        0|               1440|            2114590|               378|          545|0.1824601582|\n",
      "|        0.72|       0.0160980065|         0.3466666667|6.0666666667|    0.4133333333|0.1786233193|    0.4180483387|26.1333333333|        1|               1015|             293772|               223|           75|0.1786233193|\n",
      "| 0.858028169|       0.0795644726|         0.3684507042|6.0270422535|    0.3971830986|0.1538857766|    0.4311772262| 25.123943662|        0|              13125|            7226718|              3955|         1773|0.1538857766|\n",
      "+------------+-------------------+---------------------+------------+----------------+------------+----------------+-------------+---------+-------------------+-------------------+------------------+-------------+------------+\n",
      "only showing top 20 rows\n",
      "\n"
     ]
    }
   ],
   "source": [
    "test = spark.createDataFrame(test_pd)\n",
    "test.show()"
   ]
  },
  {
   "cell_type": "code",
   "execution_count": 331,
   "id": "4690b548",
   "metadata": {
    "scrolled": true
   },
   "outputs": [
    {
     "name": "stdout",
     "output_type": "stream",
     "text": [
      "Number of observations train: 98\n",
      "Number of observations test: 42\n"
     ]
    }
   ],
   "source": [
    "# get number in observations in each set\n",
    "print(\"Number of observations train: %s\" %train.count())\n",
    "print(\"Number of observations test: %s\" %test.count())"
   ]
  },
  {
   "cell_type": "code",
   "execution_count": 332,
   "id": "0d2dfd6a",
   "metadata": {
    "scrolled": true
   },
   "outputs": [
    {
     "name": "stdout",
     "output_type": "stream",
     "text": [
      "+---------+-----+\n",
      "|dependent|count|\n",
      "+---------+-----+\n",
      "|        0|   72|\n",
      "|        1|   26|\n",
      "+---------+-----+\n",
      "\n",
      "+---------+-----+\n",
      "|dependent|count|\n",
      "+---------+-----+\n",
      "|        0|   35|\n",
      "|        1|    7|\n",
      "+---------+-----+\n",
      "\n"
     ]
    }
   ],
   "source": [
    "# get distribution of dependent variable within each set\n",
    "train.groupBy(\"dependent\").count().show()\n",
    "test.groupBy(\"dependent\").count().show()"
   ]
  },
  {
   "cell_type": "markdown",
   "id": "f32404f2",
   "metadata": {},
   "source": [
    "To handle the class imbalance in the dataset, we will calculate the weights for each lable. The formula to calculate these weights was found on the following source:\n",
    "https://www.analyticsvidhya.com/blog/2020/10/improve-class-imbalance-class-weights/"
   ]
  },
  {
   "cell_type": "code",
   "execution_count": 333,
   "id": "b1d8e3b3",
   "metadata": {},
   "outputs": [],
   "source": [
    "weight_1 = 140/(33 * 2)\n",
    "weight_0 = 140/(107*2)"
   ]
  },
  {
   "cell_type": "code",
   "execution_count": 334,
   "id": "387cc652",
   "metadata": {
    "scrolled": true
   },
   "outputs": [
    {
     "name": "stdout",
     "output_type": "stream",
     "text": [
      "2.121212121212121\n",
      "0.6542056074766355\n"
     ]
    }
   ],
   "source": [
    "print(weight_1)\n",
    "print(weight_0)"
   ]
  },
  {
   "cell_type": "code",
   "execution_count": 335,
   "id": "eda0cceb",
   "metadata": {},
   "outputs": [],
   "source": [
    "# add class weights column\n",
    "train = train.withColumn(\"weight\", F.when(F.col(\"dependent\") == 1, weight_1).otherwise(weight_0))\n",
    "test = test.withColumn(\"weight\", F.when(F.col(\"dependent\") == 1, weight_1).otherwise(weight_0))"
   ]
  },
  {
   "cell_type": "markdown",
   "id": "8f8f926f",
   "metadata": {},
   "source": [
    "# 6. Modelling"
   ]
  },
  {
   "cell_type": "markdown",
   "id": "fb4e7ec9",
   "metadata": {},
   "source": [
    "## 6.1 Pipelines"
   ]
  },
  {
   "cell_type": "code",
   "execution_count": 336,
   "id": "ac02cc41",
   "metadata": {},
   "outputs": [],
   "source": [
    "from pyspark.ml.feature import StringIndexer, VectorAssembler, StandardScaler\n",
    "from pyspark.ml.feature import Tokenizer, StopWordsRemover, Word2Vec\n",
    "from pyspark.ml import Pipeline\n",
    "from pyspark.ml.classification import LogisticRegression, DecisionTreeClassifier, GBTClassifier, RandomForestClassifier"
   ]
  },
  {
   "cell_type": "code",
   "execution_count": 337,
   "id": "376476db",
   "metadata": {},
   "outputs": [],
   "source": [
    "# define indexer (IDX)\n",
    "IDX = StringIndexer(inputCol=\"dependent\", outputCol=\"label\")"
   ]
  },
  {
   "cell_type": "code",
   "execution_count": 338,
   "id": "9873338a",
   "metadata": {},
   "outputs": [
    {
     "name": "stdout",
     "output_type": "stream",
     "text": [
      "root\n",
      " |-- avg_emojis: double (nullable = true)\n",
      " |-- avg_engagement_rate: double (nullable = true)\n",
      " |-- avg_exclamation_marks: double (nullable = true)\n",
      " |-- avg_hashtags: double (nullable = true)\n",
      " |-- avg_num_mentions: double (nullable = true)\n",
      " |-- avg_polarity: double (nullable = true)\n",
      " |-- avg_subjectivity: double (nullable = true)\n",
      " |-- avg_words: double (nullable = true)\n",
      " |-- dependent: long (nullable = true)\n",
      " |-- number_of_favorites: long (nullable = true)\n",
      " |-- number_of_followers: long (nullable = true)\n",
      " |-- number_of_retweets: long (nullable = true)\n",
      " |-- number_tweets: long (nullable = true)\n",
      " |-- polarity: double (nullable = true)\n",
      " |-- weight: double (nullable = false)\n",
      "\n"
     ]
    }
   ],
   "source": [
    "train.printSchema()"
   ]
  },
  {
   "cell_type": "code",
   "execution_count": 339,
   "id": "d66d25f0",
   "metadata": {},
   "outputs": [],
   "source": [
    "# define all the numeric features\n",
    "numFeatureCols = [\"avg_emojis\", \"avg_engagement_rate\", \"avg_exclamation_marks\", \"avg_hashtags\", \"avg_num_mentions\", \"avg_words\", \"number_of_favorites\", \"number_of_followers\", \"number_of_retweets\", \"number_tweets\"]\n",
    "\n",
    "# define vector assembler\n",
    "VA_num = VectorAssembler(inputCols=numFeatureCols, outputCol=\"numeric_features\")"
   ]
  },
  {
   "cell_type": "code",
   "execution_count": 340,
   "id": "a05b8ac2",
   "metadata": {},
   "outputs": [],
   "source": [
    "# define the standard scaler (SS)\n",
    "SS = StandardScaler(inputCol=\"numeric_features\", outputCol=\"scaled_numeric_features\")"
   ]
  },
  {
   "cell_type": "code",
   "execution_count": 341,
   "id": "8199410e",
   "metadata": {},
   "outputs": [],
   "source": [
    "VA_RF = VectorAssembler(inputCols=[\"avg_emojis\", \"avg_engagement_rate\", \"avg_exclamation_marks\", \"avg_hashtags\", \"avg_num_mentions\", \"avg_words\", \"number_of_favorites\", \"number_of_followers\", \"number_of_retweets\", \"number_tweets\", \"avg_polarity\", \"avg_subjectivity\"], outputCol=\"featuresrf\")"
   ]
  },
  {
   "cell_type": "code",
   "execution_count": 342,
   "id": "a4a75d74",
   "metadata": {},
   "outputs": [],
   "source": [
    "# define vector assembler (VA_all)\n",
    "VA_all = VectorAssembler(inputCols=[\"scaled_numeric_features\", \"avg_polarity\", \"avg_subjectivity\"], outputCol=\"features\")"
   ]
  },
  {
   "cell_type": "code",
   "execution_count": 343,
   "id": "09d02332",
   "metadata": {},
   "outputs": [],
   "source": [
    "# define logistic regression model\n",
    "LR = LogisticRegression(featuresCol = \"features\", labelCol = \"label\")"
   ]
  },
  {
   "cell_type": "code",
   "execution_count": 344,
   "id": "9b20a783",
   "metadata": {},
   "outputs": [],
   "source": [
    "# define decision tree model\n",
    "DT = DecisionTreeClassifier(featuresCol = \"features\", labelCol = \"label\", weightCol= \"weight\")"
   ]
  },
  {
   "cell_type": "code",
   "execution_count": 345,
   "id": "0854b3e3",
   "metadata": {},
   "outputs": [],
   "source": [
    "# define decision tree model\n",
    "GBT = GBTClassifier(featuresCol = \"features\", labelCol = \"label\", weightCol= \"weight\")"
   ]
  },
  {
   "cell_type": "code",
   "execution_count": 346,
   "id": "dfc4e516",
   "metadata": {},
   "outputs": [],
   "source": [
    "# define random forest model\n",
    "RF = RandomForestClassifier(featuresCol = \"featuresrf\", labelCol = \"label\", weightCol= \"weight\", numTrees= 400)"
   ]
  },
  {
   "cell_type": "markdown",
   "id": "fad3b110",
   "metadata": {},
   "source": [
    "## 6.2 Modelling"
   ]
  },
  {
   "cell_type": "code",
   "execution_count": 347,
   "id": "50ff18f4",
   "metadata": {},
   "outputs": [],
   "source": [
    "# define pipeline model and fit on training data\n",
    "LR_pipeline = Pipeline().setStages([IDX, VA_num, SS, VA_all, LR]).fit(train)"
   ]
  },
  {
   "cell_type": "code",
   "execution_count": 348,
   "id": "7dbdc0ce",
   "metadata": {},
   "outputs": [],
   "source": [
    "# get predictions on test set\n",
    "LR_preds = LR_pipeline.transform(test)"
   ]
  },
  {
   "cell_type": "code",
   "execution_count": 349,
   "id": "d0cc7980",
   "metadata": {},
   "outputs": [],
   "source": [
    "# define pipeline model and fit on training data\n",
    "DT_pipeline = Pipeline().setStages([IDX, VA_num, SS, VA_all, DT]).fit(train)"
   ]
  },
  {
   "cell_type": "code",
   "execution_count": 350,
   "id": "ed8b3bd7",
   "metadata": {},
   "outputs": [],
   "source": [
    "# get predictions on test set\n",
    "DT_preds = DT_pipeline.transform(test)"
   ]
  },
  {
   "cell_type": "code",
   "execution_count": 351,
   "id": "5c2e4fe7",
   "metadata": {},
   "outputs": [],
   "source": [
    "# define pipeline model and fit on training data\n",
    "GBT_pipeline = Pipeline().setStages([IDX, VA_num, SS, VA_all, GBT]).fit(train)"
   ]
  },
  {
   "cell_type": "code",
   "execution_count": 352,
   "id": "bdb63eac",
   "metadata": {},
   "outputs": [],
   "source": [
    "# get predictions on test set\n",
    "GBT_preds = GBT_pipeline.transform(test)"
   ]
  },
  {
   "cell_type": "code",
   "execution_count": 353,
   "id": "2d68fe64",
   "metadata": {},
   "outputs": [],
   "source": [
    "# define pipeline model and fit on training data\n",
    "RF_pipeline = Pipeline().setStages([IDX, VA_RF, RF]).fit(train)"
   ]
  },
  {
   "cell_type": "code",
   "execution_count": 354,
   "id": "e98f31bf",
   "metadata": {},
   "outputs": [],
   "source": [
    "# get predictions on test set\n",
    "RF_preds = RF_pipeline.transform(test)"
   ]
  },
  {
   "cell_type": "markdown",
   "id": "b0cf5b92",
   "metadata": {},
   "source": [
    "# 7. Model Evaluation"
   ]
  },
  {
   "cell_type": "code",
   "execution_count": 355,
   "id": "05200a9a",
   "metadata": {},
   "outputs": [],
   "source": [
    "# import packages\n",
    "from pyspark.ml.evaluation import BinaryClassificationEvaluator\n",
    "from pyspark.ml.evaluation import MulticlassClassificationEvaluator"
   ]
  },
  {
   "cell_type": "code",
   "execution_count": 356,
   "id": "ee8c8133",
   "metadata": {},
   "outputs": [],
   "source": [
    "# define evaluator (for AUC)\n",
    "evaluator_auc = BinaryClassificationEvaluator()\n",
    "\n",
    "# define evaluator (for other metrics)\n",
    "evaluator_mc = MulticlassClassificationEvaluator()"
   ]
  },
  {
   "cell_type": "code",
   "execution_count": 357,
   "id": "2ff360e9",
   "metadata": {},
   "outputs": [],
   "source": [
    "# get metrics for LR model\n",
    "lr_f1 = evaluator_mc.evaluate(LR_preds, {evaluator_mc.metricName: \"f1\"})\n",
    "lr_accuracy = evaluator_mc.evaluate(LR_preds, {evaluator_mc.metricName: \"accuracy\"})\n",
    "lr_recall = evaluator_mc.evaluate(LR_preds, {evaluator_mc.metricName: \"recallByLabel\"})\n",
    "lr_auc = evaluator_auc.evaluate(LR_preds, {evaluator_auc.metricName: 'areaUnderROC'})"
   ]
  },
  {
   "cell_type": "code",
   "execution_count": 358,
   "id": "6299690f",
   "metadata": {},
   "outputs": [],
   "source": [
    "# get metrics for DT model\n",
    "dt_f1 = evaluator_mc.evaluate(DT_preds, {evaluator_mc.metricName: \"f1\"})\n",
    "dt_accuracy = evaluator_mc.evaluate(DT_preds, {evaluator_mc.metricName: \"accuracy\"})\n",
    "dt_recall = evaluator_mc.evaluate(DT_preds, {evaluator_mc.metricName: \"recallByLabel\"})\n",
    "dt_auc = evaluator_auc.evaluate(DT_preds, {evaluator_auc.metricName: 'areaUnderROC'})"
   ]
  },
  {
   "cell_type": "code",
   "execution_count": 359,
   "id": "31356358",
   "metadata": {},
   "outputs": [],
   "source": [
    "# get metrics for GBT model\n",
    "gbt_f1 = evaluator_mc.evaluate(GBT_preds, {evaluator_mc.metricName: \"f1\"})\n",
    "gbt_accuracy = evaluator_mc.evaluate(GBT_preds, {evaluator_mc.metricName: \"accuracy\"})\n",
    "gbt_recall = evaluator_mc.evaluate(GBT_preds, {evaluator_mc.metricName: \"recallByLabel\"})\n",
    "gbt_auc = evaluator_auc.evaluate(GBT_preds, {evaluator_auc.metricName: 'areaUnderROC'})"
   ]
  },
  {
   "cell_type": "code",
   "execution_count": 360,
   "id": "6f2465cc",
   "metadata": {},
   "outputs": [],
   "source": [
    "# get metrics for RF model\n",
    "rf_f1 = evaluator_mc.evaluate(RF_preds, {evaluator_mc.metricName: \"f1\"})\n",
    "rf_accuracy = evaluator_mc.evaluate(RF_preds, {evaluator_mc.metricName: \"accuracy\"})\n",
    "rf_recall = evaluator_mc.evaluate(RF_preds, {evaluator_mc.metricName: \"recallByLabel\"})\n",
    "rf_auc = evaluator_auc.evaluate(RF_preds, {evaluator_auc.metricName: 'areaUnderROC'})"
   ]
  },
  {
   "cell_type": "code",
   "execution_count": 362,
   "id": "931affdc",
   "metadata": {
    "scrolled": true
   },
   "outputs": [
    {
     "name": "stdout",
     "output_type": "stream",
     "text": [
      "LOGISTIC REGRESSION:\n",
      "  F1       : 0.760897\n",
      "  ACCURACY : 0.785714\n",
      "  RECALL   : 0.914286\n",
      "  AUC      : 0.591837\n",
      "------------------\n",
      "SINGLE DECISION TREE:\n",
      "  F1       : 0.602926\n",
      "  ACCURACY : 0.547619\n",
      "  RECALL   : 0.514286\n",
      "  AUC      : 0.597959\n",
      "------------------\n",
      "GRADIENT-BOOSTED TREES:\n",
      "  F1       : 0.667551\n",
      "  ACCURACY : 0.619048\n",
      "  RECALL   : 0.6\n",
      "  AUC      : 0.720408\n",
      "------------------\n",
      "RANDOM FOREST:\n",
      "  F1       : 0.686386\n",
      "  ACCURACY : 0.642857\n",
      "  RECALL   : 0.657143\n",
      "  AUC      : 0.742857\n"
     ]
    }
   ],
   "source": [
    "# check which of both algorithms is the best:\n",
    "print(\"LOGISTIC REGRESSION:\")\n",
    "print('  F1       : %g' % lr_f1)\n",
    "print('  ACCURACY : %g' % lr_accuracy)\n",
    "print('  RECALL   : %g' % lr_recall)\n",
    "print('  AUC      : %g' % lr_auc)\n",
    "print(\"------------------\")\n",
    "print(\"SINGLE DECISION TREE:\")\n",
    "print('  F1       : %g' % dt_f1)\n",
    "print('  ACCURACY : %g' % dt_accuracy)\n",
    "print('  RECALL   : %g' % dt_recall)\n",
    "print('  AUC      : %g' % dt_auc)\n",
    "print(\"------------------\")\n",
    "print(\"GRADIENT-BOOSTED TREES:\")\n",
    "print('  F1       : %g' % gbt_f1)\n",
    "print('  ACCURACY : %g' % gbt_accuracy)\n",
    "print('  RECALL   : %g' % gbt_recall)\n",
    "print('  AUC      : %g' % gbt_auc)\n",
    "print(\"------------------\")\n",
    "print(\"RANDOM FOREST:\")\n",
    "print('  F1       : %g' % rf_f1)\n",
    "print('  ACCURACY : %g' % rf_accuracy)\n",
    "print('  RECALL   : %g' % rf_recall)\n",
    "print('  AUC      : %g' % rf_auc)"
   ]
  },
  {
   "cell_type": "markdown",
   "id": "8e8b950f",
   "metadata": {},
   "source": [
    "# 8 Plot model evaluation"
   ]
  },
  {
   "cell_type": "markdown",
   "id": "f353ef3f",
   "metadata": {},
   "source": [
    "## 8.1 Confusion Matrix "
   ]
  },
  {
   "cell_type": "markdown",
   "id": "6db71d0d",
   "metadata": {},
   "source": [
    "We plot the confussion matrix for the model with the highest AUC, this is the random forest model "
   ]
  },
  {
   "cell_type": "code",
   "execution_count": 363,
   "id": "79aa7244",
   "metadata": {},
   "outputs": [
    {
     "data": {
      "image/png": "[encoded data removed]",
      "text/plain": [
       "<Figure size 432x288 with 2 Axes>"
      ]
     },
     "metadata": {
      "needs_background": "light"
     },
     "output_type": "display_data"
    }
   ],
   "source": [
    "# import confusion matrix\n",
    "from sklearn.metrics import confusion_matrix, ConfusionMatrixDisplay\n",
    "\n",
    "# get predictions and labels\n",
    "preds_and_labels = RF_preds.select(['prediction','label']) \\\n",
    "                                  .withColumn('label', F.col('label').cast(FloatType())) \\\n",
    "                                  .orderBy('prediction') \\\n",
    "                                  .toPandas()\n",
    "\n",
    "# get confusion matrix\n",
    "cm = confusion_matrix(preds_and_labels[\"label\"], preds_and_labels[\"prediction\"], labels=[0, 1])\n",
    "# get confusion matrix figure\n",
    "disp = ConfusionMatrixDisplay(confusion_matrix=cm, display_labels=[0, 1])\n",
    "# plot figure\n",
    "disp.plot()\n",
    "plt.show()"
   ]
  },
  {
   "cell_type": "markdown",
   "id": "ffe5d4ee",
   "metadata": {},
   "source": [
    "Calculate sensitivity and specificity"
   ]
  },
  {
   "cell_type": "code",
   "execution_count": 364,
   "id": "ab0269b7",
   "metadata": {},
   "outputs": [
    {
     "data": {
      "text/plain": [
       "(0.5714285714285714, 0.6571428571428571)"
      ]
     },
     "execution_count": 364,
     "metadata": {},
     "output_type": "execute_result"
    }
   ],
   "source": [
    "recall_sensitivity = metrics.recall_score(preds_and_labels[\"label\"], preds_and_labels[\"prediction\"], pos_label=1)\n",
    "recall_specificity = metrics.recall_score(preds_and_labels[\"label\"], preds_and_labels[\"prediction\"], pos_label=0)\n",
    "recall_sensitivity, recall_specificity "
   ]
  },
  {
   "cell_type": "markdown",
   "id": "dc19aacb",
   "metadata": {},
   "source": [
    "## 8.2 Model interpretation"
   ]
  },
  {
   "cell_type": "markdown",
   "id": "e1021b49",
   "metadata": {},
   "source": [
    "We plot the future importance for the model with the highest AUC, this is the random forest model"
   ]
  },
  {
   "cell_type": "code",
   "execution_count": 365,
   "id": "bb064b89",
   "metadata": {},
   "outputs": [
    {
     "data": {
      "image/png": "[encoded data removed]",
      "text/plain": [
       "<Figure size 1440x360 with 1 Axes>"
      ]
     },
     "metadata": {
      "needs_background": "light"
     },
     "output_type": "display_data"
    }
   ],
   "source": [
    "# inspect feature importance\n",
    "feature_importance = RF_pipeline.stages[-1].featureImportances.toArray()\n",
    "# define all the features\n",
    "all_feature_names = numFeatureCols + [\"avg_polarity\", \"avg_subjectivity\"] \n",
    "plt.figure(figsize=(20, 5))\n",
    "plt.bar(x=range(len(feature_importance)), height=feature_importance)\n",
    "plt.xticks(range(len(feature_importance)), all_feature_names, rotation=90)\n",
    "plt.show()"
   ]
  },
  {
   "cell_type": "markdown",
   "id": "482fc250",
   "metadata": {},
   "source": [
    "## 8.3 ROC Curve"
   ]
  },
  {
   "cell_type": "markdown",
   "id": "78e3ece0",
   "metadata": {},
   "source": [
    "We will plot the ROC curve for the model with the highest AUC, this is the random forest model."
   ]
  },
  {
   "cell_type": "markdown",
   "id": "eba58f99",
   "metadata": {},
   "source": [
    "We will use plotty to plot the ROC curve, so we will have to perform some data type transformations "
   ]
  },
  {
   "cell_type": "code",
   "execution_count": 366,
   "id": "7b90fd23",
   "metadata": {},
   "outputs": [
    {
     "data": {
      "text/html": [
       "<div>\n",
       "<style scoped>\n",
       "    .dataframe tbody tr th:only-of-type {\n",
       "        vertical-align: middle;\n",
       "    }\n",
       "\n",
       "    .dataframe tbody tr th {\n",
       "        vertical-align: top;\n",
       "    }\n",
       "\n",
       "    .dataframe thead th {\n",
       "        text-align: right;\n",
       "    }\n",
       "</style>\n",
       "<table border=\"1\" class=\"dataframe\">\n",
       "  <thead>\n",
       "    <tr style=\"text-align: right;\">\n",
       "      <th></th>\n",
       "      <th>avg_emojis</th>\n",
       "      <th>avg_engagement_rate</th>\n",
       "      <th>avg_exclamation_marks</th>\n",
       "      <th>avg_hashtags</th>\n",
       "      <th>avg_num_mentions</th>\n",
       "      <th>avg_polarity</th>\n",
       "      <th>avg_subjectivity</th>\n",
       "      <th>avg_words</th>\n",
       "      <th>dependent</th>\n",
       "      <th>number_of_favorites</th>\n",
       "      <th>number_of_followers</th>\n",
       "      <th>number_of_retweets</th>\n",
       "      <th>number_tweets</th>\n",
       "      <th>polarity</th>\n",
       "      <th>weight</th>\n",
       "      <th>label</th>\n",
       "      <th>featuresrf</th>\n",
       "      <th>rawPrediction</th>\n",
       "      <th>probability</th>\n",
       "      <th>prediction</th>\n",
       "    </tr>\n",
       "  </thead>\n",
       "  <tbody>\n",
       "    <tr>\n",
       "      <th>0</th>\n",
       "      <td>0.734157</td>\n",
       "      <td>0.038621</td>\n",
       "      <td>0.366810</td>\n",
       "      <td>6.095596</td>\n",
       "      <td>0.460795</td>\n",
       "      <td>0.199685</td>\n",
       "      <td>0.424314</td>\n",
       "      <td>24.462406</td>\n",
       "      <td>0</td>\n",
       "      <td>17894</td>\n",
       "      <td>12151636</td>\n",
       "      <td>5673</td>\n",
       "      <td>1862</td>\n",
       "      <td>0.199685</td>\n",
       "      <td>0.654206</td>\n",
       "      <td>0.0</td>\n",
       "      <td>[0.7341568206, 0.0386210277, 0.3668098818, 6.0...</td>\n",
       "      <td>[283.63039278242644, 116.36960721757352]</td>\n",
       "      <td>[0.7090759819560662, 0.2909240180439338]</td>\n",
       "      <td>0.0</td>\n",
       "    </tr>\n",
       "    <tr>\n",
       "      <th>1</th>\n",
       "      <td>0.848485</td>\n",
       "      <td>0.025601</td>\n",
       "      <td>0.368228</td>\n",
       "      <td>6.709826</td>\n",
       "      <td>0.370983</td>\n",
       "      <td>0.189519</td>\n",
       "      <td>0.399909</td>\n",
       "      <td>25.727273</td>\n",
       "      <td>0</td>\n",
       "      <td>11855</td>\n",
       "      <td>7174175</td>\n",
       "      <td>3734</td>\n",
       "      <td>1089</td>\n",
       "      <td>0.189519</td>\n",
       "      <td>0.654206</td>\n",
       "      <td>0.0</td>\n",
       "      <td>[0.8484848485, 0.0256007015, 0.3682277319, 6.7...</td>\n",
       "      <td>[183.5977771473434, 216.40222285265665]</td>\n",
       "      <td>[0.45899444286835844, 0.5410055571316416]</td>\n",
       "      <td>1.0</td>\n",
       "    </tr>\n",
       "    <tr>\n",
       "      <th>2</th>\n",
       "      <td>0.781570</td>\n",
       "      <td>0.042334</td>\n",
       "      <td>0.411263</td>\n",
       "      <td>6.651877</td>\n",
       "      <td>0.295222</td>\n",
       "      <td>0.194657</td>\n",
       "      <td>0.404053</td>\n",
       "      <td>25.757679</td>\n",
       "      <td>0</td>\n",
       "      <td>1481</td>\n",
       "      <td>4034656</td>\n",
       "      <td>399</td>\n",
       "      <td>586</td>\n",
       "      <td>0.194657</td>\n",
       "      <td>0.654206</td>\n",
       "      <td>0.0</td>\n",
       "      <td>[0.7815699659, 0.0423344081, 0.4112627986, 6.6...</td>\n",
       "      <td>[206.15010646243275, 193.84989353756728]</td>\n",
       "      <td>[0.5153752661560819, 0.4846247338439182]</td>\n",
       "      <td>0.0</td>\n",
       "    </tr>\n",
       "    <tr>\n",
       "      <th>3</th>\n",
       "      <td>0.809524</td>\n",
       "      <td>0.030810</td>\n",
       "      <td>0.364512</td>\n",
       "      <td>6.009070</td>\n",
       "      <td>0.397392</td>\n",
       "      <td>0.181159</td>\n",
       "      <td>0.416710</td>\n",
       "      <td>24.787982</td>\n",
       "      <td>0</td>\n",
       "      <td>14443</td>\n",
       "      <td>11905432</td>\n",
       "      <td>3897</td>\n",
       "      <td>1764</td>\n",
       "      <td>0.181159</td>\n",
       "      <td>0.654206</td>\n",
       "      <td>0.0</td>\n",
       "      <td>[0.8095238095, 0.0308096354, 0.3645124717, 6.0...</td>\n",
       "      <td>[246.54809386395436, 153.45190613604572]</td>\n",
       "      <td>[0.6163702346598857, 0.38362976534011417]</td>\n",
       "      <td>0.0</td>\n",
       "    </tr>\n",
       "    <tr>\n",
       "      <th>4</th>\n",
       "      <td>0.746370</td>\n",
       "      <td>0.038572</td>\n",
       "      <td>0.296225</td>\n",
       "      <td>6.111326</td>\n",
       "      <td>0.356244</td>\n",
       "      <td>0.174242</td>\n",
       "      <td>0.417193</td>\n",
       "      <td>24.887706</td>\n",
       "      <td>1</td>\n",
       "      <td>9836</td>\n",
       "      <td>5287776</td>\n",
       "      <td>3585</td>\n",
       "      <td>1033</td>\n",
       "      <td>0.174242</td>\n",
       "      <td>2.121212</td>\n",
       "      <td>1.0</td>\n",
       "      <td>[0.7463697967, 0.0385715167, 0.2962245886, 6.1...</td>\n",
       "      <td>[223.1378263966012, 176.86217360339882]</td>\n",
       "      <td>[0.557844565991503, 0.44215543400849705]</td>\n",
       "      <td>0.0</td>\n",
       "    </tr>\n",
       "  </tbody>\n",
       "</table>\n",
       "</div>"
      ],
      "text/plain": [
       "   avg_emojis  avg_engagement_rate  avg_exclamation_marks  avg_hashtags  \\\n",
       "0    0.734157             0.038621               0.366810      6.095596   \n",
       "1    0.848485             0.025601               0.368228      6.709826   \n",
       "2    0.781570             0.042334               0.411263      6.651877   \n",
       "3    0.809524             0.030810               0.364512      6.009070   \n",
       "4    0.746370             0.038572               0.296225      6.111326   \n",
       "\n",
       "   avg_num_mentions  avg_polarity  avg_subjectivity  avg_words  dependent  \\\n",
       "0          0.460795      0.199685          0.424314  24.462406          0   \n",
       "1          0.370983      0.189519          0.399909  25.727273          0   \n",
       "2          0.295222      0.194657          0.404053  25.757679          0   \n",
       "3          0.397392      0.181159          0.416710  24.787982          0   \n",
       "4          0.356244      0.174242          0.417193  24.887706          1   \n",
       "\n",
       "   number_of_favorites  number_of_followers  number_of_retweets  \\\n",
       "0                17894             12151636                5673   \n",
       "1                11855              7174175                3734   \n",
       "2                 1481              4034656                 399   \n",
       "3                14443             11905432                3897   \n",
       "4                 9836              5287776                3585   \n",
       "\n",
       "   number_tweets  polarity    weight  label  \\\n",
       "0           1862  0.199685  0.654206    0.0   \n",
       "1           1089  0.189519  0.654206    0.0   \n",
       "2            586  0.194657  0.654206    0.0   \n",
       "3           1764  0.181159  0.654206    0.0   \n",
       "4           1033  0.174242  2.121212    1.0   \n",
       "\n",
       "                                          featuresrf  \\\n",
       "0  [0.7341568206, 0.0386210277, 0.3668098818, 6.0...   \n",
       "1  [0.8484848485, 0.0256007015, 0.3682277319, 6.7...   \n",
       "2  [0.7815699659, 0.0423344081, 0.4112627986, 6.6...   \n",
       "3  [0.8095238095, 0.0308096354, 0.3645124717, 6.0...   \n",
       "4  [0.7463697967, 0.0385715167, 0.2962245886, 6.1...   \n",
       "\n",
       "                              rawPrediction  \\\n",
       "0  [283.63039278242644, 116.36960721757352]   \n",
       "1   [183.5977771473434, 216.40222285265665]   \n",
       "2  [206.15010646243275, 193.84989353756728]   \n",
       "3  [246.54809386395436, 153.45190613604572]   \n",
       "4   [223.1378263966012, 176.86217360339882]   \n",
       "\n",
       "                                 probability  prediction  \n",
       "0   [0.7090759819560662, 0.2909240180439338]         0.0  \n",
       "1  [0.45899444286835844, 0.5410055571316416]         1.0  \n",
       "2   [0.5153752661560819, 0.4846247338439182]         0.0  \n",
       "3  [0.6163702346598857, 0.38362976534011417]         0.0  \n",
       "4   [0.557844565991503, 0.44215543400849705]         0.0  "
      ]
     },
     "execution_count": 366,
     "metadata": {},
     "output_type": "execute_result"
    }
   ],
   "source": [
    "# convert the rf predictions to a pandas dataframe\n",
    "RF_preds_pd = RF_preds.toPandas()\n",
    "RF_preds_pd.head()"
   ]
  },
  {
   "cell_type": "code",
   "execution_count": 367,
   "id": "964f6f70",
   "metadata": {},
   "outputs": [],
   "source": [
    "# this is a function that will select the probabilities for value 1\n",
    "def select1(column):\n",
    "    one = column[1]\n",
    "    return one "
   ]
  },
  {
   "cell_type": "code",
   "execution_count": 371,
   "id": "2de45eb3",
   "metadata": {
    "scrolled": true
   },
   "outputs": [],
   "source": [
    "# we apply this function to our probabilities \n",
    "Yscore = RF_preds_pd['probability'].apply(lambda x: select1(x)).to_numpy()\n"
   ]
  },
  {
   "cell_type": "code",
   "execution_count": 372,
   "id": "155d6c89",
   "metadata": {},
   "outputs": [
    {
     "data": {
      "text/plain": [
       "array([0.29092402, 0.54100556, 0.48462473, 0.38362977, 0.44215543,\n",
       "       0.49100215, 0.62912221, 0.35355008, 0.43845924, 0.32533549,\n",
       "       0.14169155, 0.42745808, 0.20410176, 0.19293489, 0.05364161,\n",
       "       0.59831749, 0.72529535, 0.67596838, 0.6808029 , 0.27645269,\n",
       "       0.18453612, 0.23038377, 0.70500848, 0.65926685, 0.56154233,\n",
       "       0.41359839, 0.37274006, 0.7810226 , 0.68010243, 0.5174845 ,\n",
       "       0.26344547, 0.61067371, 0.46559855, 0.46086465, 0.16539647,\n",
       "       0.6006756 , 0.53739004, 0.36389687, 0.32100031, 0.472931  ,\n",
       "       0.43972381, 0.54519512])"
      ]
     },
     "execution_count": 372,
     "metadata": {},
     "output_type": "execute_result"
    }
   ],
   "source": [
    "# Yscore contains the probabilities of our predictions to be 1\n",
    "Yscore"
   ]
  },
  {
   "cell_type": "code",
   "execution_count": 373,
   "id": "a501af48",
   "metadata": {},
   "outputs": [
    {
     "data": {
      "text/plain": [
       "numpy.ndarray"
      ]
     },
     "execution_count": 373,
     "metadata": {},
     "output_type": "execute_result"
    }
   ],
   "source": [
    "# Yscore is of the correct type to perform the plot \n",
    "type(Yscore)"
   ]
  },
  {
   "cell_type": "code",
   "execution_count": 374,
   "id": "f923ab02",
   "metadata": {},
   "outputs": [
    {
     "data": {
      "text/plain": [
       "array([0, 0, 0, 0, 1, 0, 1, 0, 0, 0, 0, 1, 0, 0, 0, 0, 1, 0, 1, 0, 0, 0,\n",
       "       0, 0, 0, 0, 0, 0, 0, 0, 0, 1, 0, 1, 0, 0, 0, 0, 0, 0, 0, 0],\n",
       "      dtype=int64)"
      ]
     },
     "execution_count": 374,
     "metadata": {},
     "output_type": "execute_result"
    }
   ],
   "source": [
    "# Y is the real value of our dependent\n",
    "Y = test.select('dependent').toPandas()\n",
    "Y = Y['dependent'].to_numpy()\n",
    "Y"
   ]
  },
  {
   "cell_type": "code",
   "execution_count": 375,
   "id": "703699ef",
   "metadata": {},
   "outputs": [
    {
     "data": {
      "text/plain": [
       "numpy.ndarray"
      ]
     },
     "execution_count": 375,
     "metadata": {},
     "output_type": "execute_result"
    }
   ],
   "source": [
    "# Yscore is of the correct type to perform the plot \n",
    "type(Y)"
   ]
  },
  {
   "cell_type": "code",
   "execution_count": 376,
   "id": "e184dd63",
   "metadata": {},
   "outputs": [],
   "source": [
    "# we use the roc_curve function to predict the false-positive, true-positive rate and thresholds based on the Y an Y score\n",
    "fpr, tpr, thresholds = roc_curve(Y, Yscore)"
   ]
  },
  {
   "cell_type": "code",
   "execution_count": 377,
   "id": "c4396acb",
   "metadata": {},
   "outputs": [
    {
     "data": {
      "application/vnd.plotly.v1+json": {
       "config": {
        "plotlyServerURL": "https://plot.ly"
       },
       "data": [
        {
         "hovertemplate": "False Positive Rate=%{x}<br>True Positive Rate=%{y}<extra></extra>",
         "legendgroup": "",
         "line": {
          "color": "#636efa"
         },
         "marker": {
          "symbol": "circle"
         },
         "mode": "lines",
         "name": "",
         "orientation": "v",
         "showlegend": false,
         "stackgroup": "1",
         "type": "scatter",
         "x": [
          0,
          0.02857142857142857,
          0.02857142857142857,
          0.05714285714285714,
          0.05714285714285714,
          0.14285714285714285,
          0.14285714285714285,
          0.45714285714285713,
          0.45714285714285713,
          0.5142857142857142,
          0.5142857142857142,
          1
         ],
         "xaxis": "x",
         "y": [
          0,
          0,
          0.14285714285714285,
          0.14285714285714285,
          0.2857142857142857,
          0.2857142857142857,
          0.5714285714285714,
          0.5714285714285714,
          0.8571428571428571,
          0.8571428571428571,
          1,
          1
         ],
         "yaxis": "y"
        }
       ],
       "layout": {
        "height": 500,
        "legend": {
         "tracegroupgap": 0
        },
        "shapes": [
         {
          "line": {
           "dash": "dash"
          },
          "type": "line",
          "x0": 0,
          "x1": 1,
          "y0": 0,
          "y1": 1
         }
        ],
        "template": {
         "data": {
          "bar": [
           {
            "error_x": {
             "color": "#2a3f5f"
            },
            "error_y": {
             "color": "#2a3f5f"
            },
            "marker": {
             "line": {
              "color": "#E5ECF6",
              "width": 0.5
             },
             "pattern": {
              "fillmode": "overlay",
              "size": 10,
              "solidity": 0.2
             }
            },
            "type": "bar"
           }
          ],
          "barpolar": [
           {
            "marker": {
             "line": {
              "color": "#E5ECF6",
              "width": 0.5
             },
             "pattern": {
              "fillmode": "overlay",
              "size": 10,
              "solidity": 0.2
             }
            },
            "type": "barpolar"
           }
          ],
          "carpet": [
           {
            "aaxis": {
             "endlinecolor": "#2a3f5f",
             "gridcolor": "white",
             "linecolor": "white",
             "minorgridcolor": "white",
             "startlinecolor": "#2a3f5f"
            },
            "baxis": {
             "endlinecolor": "#2a3f5f",
             "gridcolor": "white",
             "linecolor": "white",
             "minorgridcolor": "white",
             "startlinecolor": "#2a3f5f"
            },
            "type": "carpet"
           }
          ],
          "choropleth": [
           {
            "colorbar": {
             "outlinewidth": 0,
             "ticks": ""
            },
            "type": "choropleth"
           }
          ],
          "contour": [
           {
            "colorbar": {
             "outlinewidth": 0,
             "ticks": ""
            },
            "colorscale": [
             [
              0,
              "#0d0887"
             ],
             [
              0.1111111111111111,
              "#46039f"
             ],
             [
              0.2222222222222222,
              "#7201a8"
             ],
             [
              0.3333333333333333,
              "#9c179e"
             ],
             [
              0.4444444444444444,
              "#bd3786"
             ],
             [
              0.5555555555555556,
              "#d8576b"
             ],
             [
              0.6666666666666666,
              "#ed7953"
             ],
             [
              0.7777777777777778,
              "#fb9f3a"
             ],
             [
              0.8888888888888888,
              "#fdca26"
             ],
             [
              1,
              "#f0f921"
             ]
            ],
            "type": "contour"
           }
          ],
          "contourcarpet": [
           {
            "colorbar": {
             "outlinewidth": 0,
             "ticks": ""
            },
            "type": "contourcarpet"
           }
          ],
          "heatmap": [
           {
            "colorbar": {
             "outlinewidth": 0,
             "ticks": ""
            },
            "colorscale": [
             [
              0,
              "#0d0887"
             ],
             [
              0.1111111111111111,
              "#46039f"
             ],
             [
              0.2222222222222222,
              "#7201a8"
             ],
             [
              0.3333333333333333,
              "#9c179e"
             ],
             [
              0.4444444444444444,
              "#bd3786"
             ],
             [
              0.5555555555555556,
              "#d8576b"
             ],
             [
              0.6666666666666666,
              "#ed7953"
             ],
             [
              0.7777777777777778,
              "#fb9f3a"
             ],
             [
              0.8888888888888888,
              "#fdca26"
             ],
             [
              1,
              "#f0f921"
             ]
            ],
            "type": "heatmap"
           }
          ],
          "heatmapgl": [
           {
            "colorbar": {
             "outlinewidth": 0,
             "ticks": ""
            },
            "colorscale": [
             [
              0,
              "#0d0887"
             ],
             [
              0.1111111111111111,
              "#46039f"
             ],
             [
              0.2222222222222222,
              "#7201a8"
             ],
             [
              0.3333333333333333,
              "#9c179e"
             ],
             [
              0.4444444444444444,
              "#bd3786"
             ],
             [
              0.5555555555555556,
              "#d8576b"
             ],
             [
              0.6666666666666666,
              "#ed7953"
             ],
             [
              0.7777777777777778,
              "#fb9f3a"
             ],
             [
              0.8888888888888888,
              "#fdca26"
             ],
             [
              1,
              "#f0f921"
             ]
            ],
            "type": "heatmapgl"
           }
          ],
          "histogram": [
           {
            "marker": {
             "pattern": {
              "fillmode": "overlay",
              "size": 10,
              "solidity": 0.2
             }
            },
            "type": "histogram"
           }
          ],
          "histogram2d": [
           {
            "colorbar": {
             "outlinewidth": 0,
             "ticks": ""
            },
            "colorscale": [
             [
              0,
              "#0d0887"
             ],
             [
              0.1111111111111111,
              "#46039f"
             ],
             [
              0.2222222222222222,
              "#7201a8"
             ],
             [
              0.3333333333333333,
              "#9c179e"
             ],
             [
              0.4444444444444444,
              "#bd3786"
             ],
             [
              0.5555555555555556,
              "#d8576b"
             ],
             [
              0.6666666666666666,
              "#ed7953"
             ],
             [
              0.7777777777777778,
              "#fb9f3a"
             ],
             [
              0.8888888888888888,
              "#fdca26"
             ],
             [
              1,
              "#f0f921"
             ]
            ],
            "type": "histogram2d"
           }
          ],
          "histogram2dcontour": [
           {
            "colorbar": {
             "outlinewidth": 0,
             "ticks": ""
            },
            "colorscale": [
             [
              0,
              "#0d0887"
             ],
             [
              0.1111111111111111,
              "#46039f"
             ],
             [
              0.2222222222222222,
              "#7201a8"
             ],
             [
              0.3333333333333333,
              "#9c179e"
             ],
             [
              0.4444444444444444,
              "#bd3786"
             ],
             [
              0.5555555555555556,
              "#d8576b"
             ],
             [
              0.6666666666666666,
              "#ed7953"
             ],
             [
              0.7777777777777778,
              "#fb9f3a"
             ],
             [
              0.8888888888888888,
              "#fdca26"
             ],
             [
              1,
              "#f0f921"
             ]
            ],
            "type": "histogram2dcontour"
           }
          ],
          "mesh3d": [
           {
            "colorbar": {
             "outlinewidth": 0,
             "ticks": ""
            },
            "type": "mesh3d"
           }
          ],
          "parcoords": [
           {
            "line": {
             "colorbar": {
              "outlinewidth": 0,
              "ticks": ""
             }
            },
            "type": "parcoords"
           }
          ],
          "pie": [
           {
            "automargin": true,
            "type": "pie"
           }
          ],
          "scatter": [
           {
            "marker": {
             "colorbar": {
              "outlinewidth": 0,
              "ticks": ""
             }
            },
            "type": "scatter"
           }
          ],
          "scatter3d": [
           {
            "line": {
             "colorbar": {
              "outlinewidth": 0,
              "ticks": ""
             }
            },
            "marker": {
             "colorbar": {
              "outlinewidth": 0,
              "ticks": ""
             }
            },
            "type": "scatter3d"
           }
          ],
          "scattercarpet": [
           {
            "marker": {
             "colorbar": {
              "outlinewidth": 0,
              "ticks": ""
             }
            },
            "type": "scattercarpet"
           }
          ],
          "scattergeo": [
           {
            "marker": {
             "colorbar": {
              "outlinewidth": 0,
              "ticks": ""
             }
            },
            "type": "scattergeo"
           }
          ],
          "scattergl": [
           {
            "marker": {
             "colorbar": {
              "outlinewidth": 0,
              "ticks": ""
             }
            },
            "type": "scattergl"
           }
          ],
          "scattermapbox": [
           {
            "marker": {
             "colorbar": {
              "outlinewidth": 0,
              "ticks": ""
             }
            },
            "type": "scattermapbox"
           }
          ],
          "scatterpolar": [
           {
            "marker": {
             "colorbar": {
              "outlinewidth": 0,
              "ticks": ""
             }
            },
            "type": "scatterpolar"
           }
          ],
          "scatterpolargl": [
           {
            "marker": {
             "colorbar": {
              "outlinewidth": 0,
              "ticks": ""
             }
            },
            "type": "scatterpolargl"
           }
          ],
          "scatterternary": [
           {
            "marker": {
             "colorbar": {
              "outlinewidth": 0,
              "ticks": ""
             }
            },
            "type": "scatterternary"
           }
          ],
          "surface": [
           {
            "colorbar": {
             "outlinewidth": 0,
             "ticks": ""
            },
            "colorscale": [
             [
              0,
              "#0d0887"
             ],
             [
              0.1111111111111111,
              "#46039f"
             ],
             [
              0.2222222222222222,
              "#7201a8"
             ],
             [
              0.3333333333333333,
              "#9c179e"
             ],
             [
              0.4444444444444444,
              "#bd3786"
             ],
             [
              0.5555555555555556,
              "#d8576b"
             ],
             [
              0.6666666666666666,
              "#ed7953"
             ],
             [
              0.7777777777777778,
              "#fb9f3a"
             ],
             [
              0.8888888888888888,
              "#fdca26"
             ],
             [
              1,
              "#f0f921"
             ]
            ],
            "type": "surface"
           }
          ],
          "table": [
           {
            "cells": {
             "fill": {
              "color": "#EBF0F8"
             },
             "line": {
              "color": "white"
             }
            },
            "header": {
             "fill": {
              "color": "#C8D4E3"
             },
             "line": {
              "color": "white"
             }
            },
            "type": "table"
           }
          ]
         },
         "layout": {
          "annotationdefaults": {
           "arrowcolor": "#2a3f5f",
           "arrowhead": 0,
           "arrowwidth": 1
          },
          "autotypenumbers": "strict",
          "coloraxis": {
           "colorbar": {
            "outlinewidth": 0,
            "ticks": ""
           }
          },
          "colorscale": {
           "diverging": [
            [
             0,
             "#8e0152"
            ],
            [
             0.1,
             "#c51b7d"
            ],
            [
             0.2,
             "#de77ae"
            ],
            [
             0.3,
             "#f1b6da"
            ],
            [
             0.4,
             "#fde0ef"
            ],
            [
             0.5,
             "#f7f7f7"
            ],
            [
             0.6,
             "#e6f5d0"
            ],
            [
             0.7,
             "#b8e186"
            ],
            [
             0.8,
             "#7fbc41"
            ],
            [
             0.9,
             "#4d9221"
            ],
            [
             1,
             "#276419"
            ]
           ],
           "sequential": [
            [
             0,
             "#0d0887"
            ],
            [
             0.1111111111111111,
             "#46039f"
            ],
            [
             0.2222222222222222,
             "#7201a8"
            ],
            [
             0.3333333333333333,
             "#9c179e"
            ],
            [
             0.4444444444444444,
             "#bd3786"
            ],
            [
             0.5555555555555556,
             "#d8576b"
            ],
            [
             0.6666666666666666,
             "#ed7953"
            ],
            [
             0.7777777777777778,
             "#fb9f3a"
            ],
            [
             0.8888888888888888,
             "#fdca26"
            ],
            [
             1,
             "#f0f921"
            ]
           ],
           "sequentialminus": [
            [
             0,
             "#0d0887"
            ],
            [
             0.1111111111111111,
             "#46039f"
            ],
            [
             0.2222222222222222,
             "#7201a8"
            ],
            [
             0.3333333333333333,
             "#9c179e"
            ],
            [
             0.4444444444444444,
             "#bd3786"
            ],
            [
             0.5555555555555556,
             "#d8576b"
            ],
            [
             0.6666666666666666,
             "#ed7953"
            ],
            [
             0.7777777777777778,
             "#fb9f3a"
            ],
            [
             0.8888888888888888,
             "#fdca26"
            ],
            [
             1,
             "#f0f921"
            ]
           ]
          },
          "colorway": [
           "#636efa",
           "#EF553B",
           "#00cc96",
           "#ab63fa",
           "#FFA15A",
           "#19d3f3",
           "#FF6692",
           "#B6E880",
           "#FF97FF",
           "#FECB52"
          ],
          "font": {
           "color": "#2a3f5f"
          },
          "geo": {
           "bgcolor": "white",
           "lakecolor": "white",
           "landcolor": "#E5ECF6",
           "showlakes": true,
           "showland": true,
           "subunitcolor": "white"
          },
          "hoverlabel": {
           "align": "left"
          },
          "hovermode": "closest",
          "mapbox": {
           "style": "light"
          },
          "paper_bgcolor": "white",
          "plot_bgcolor": "#E5ECF6",
          "polar": {
           "angularaxis": {
            "gridcolor": "white",
            "linecolor": "white",
            "ticks": ""
           },
           "bgcolor": "#E5ECF6",
           "radialaxis": {
            "gridcolor": "white",
            "linecolor": "white",
            "ticks": ""
           }
          },
          "scene": {
           "xaxis": {
            "backgroundcolor": "#E5ECF6",
            "gridcolor": "white",
            "gridwidth": 2,
            "linecolor": "white",
            "showbackground": true,
            "ticks": "",
            "zerolinecolor": "white"
           },
           "yaxis": {
            "backgroundcolor": "#E5ECF6",
            "gridcolor": "white",
            "gridwidth": 2,
            "linecolor": "white",
            "showbackground": true,
            "ticks": "",
            "zerolinecolor": "white"
           },
           "zaxis": {
            "backgroundcolor": "#E5ECF6",
            "gridcolor": "white",
            "gridwidth": 2,
            "linecolor": "white",
            "showbackground": true,
            "ticks": "",
            "zerolinecolor": "white"
           }
          },
          "shapedefaults": {
           "line": {
            "color": "#2a3f5f"
           }
          },
          "ternary": {
           "aaxis": {
            "gridcolor": "white",
            "linecolor": "white",
            "ticks": ""
           },
           "baxis": {
            "gridcolor": "white",
            "linecolor": "white",
            "ticks": ""
           },
           "bgcolor": "#E5ECF6",
           "caxis": {
            "gridcolor": "white",
            "linecolor": "white",
            "ticks": ""
           }
          },
          "title": {
           "x": 0.05
          },
          "xaxis": {
           "automargin": true,
           "gridcolor": "white",
           "linecolor": "white",
           "ticks": "",
           "title": {
            "standoff": 15
           },
           "zerolinecolor": "white",
           "zerolinewidth": 2
          },
          "yaxis": {
           "automargin": true,
           "gridcolor": "white",
           "linecolor": "white",
           "ticks": "",
           "title": {
            "standoff": 15
           },
           "zerolinecolor": "white",
           "zerolinewidth": 2
          }
         }
        },
        "title": {
         "text": "ROC Curve (AUC=0.7429)"
        },
        "width": 700,
        "xaxis": {
         "anchor": "y",
         "constrain": "domain",
         "domain": [
          0,
          1
         ],
         "title": {
          "text": "False Positive Rate"
         }
        },
        "yaxis": {
         "anchor": "x",
         "domain": [
          0,
          1
         ],
         "scaleanchor": "x",
         "scaleratio": 1,
         "title": {
          "text": "True Positive Rate"
         }
        }
       }
      },
      "text/html": [
       "<div>                            <div id=\"b36c1bdd-7585-4280-80ee-858ca8190bc5\" class=\"plotly-graph-div\" style=\"height:500px; width:700px;\"></div>            <script type=\"text/javascript\">                require([\"plotly\"], function(Plotly) {                    window.PLOTLYENV=window.PLOTLYENV || {};                                    if (document.getElementById(\"b36c1bdd-7585-4280-80ee-858ca8190bc5\")) {                    Plotly.newPlot(                        \"b36c1bdd-7585-4280-80ee-858ca8190bc5\",                        [{\"hovertemplate\":\"False Positive Rate=%{x}<br>True Positive Rate=%{y}<extra></extra>\",\"legendgroup\":\"\",\"line\":{\"color\":\"#636efa\"},\"marker\":{\"symbol\":\"circle\"},\"mode\":\"lines\",\"name\":\"\",\"orientation\":\"v\",\"showlegend\":false,\"stackgroup\":\"1\",\"x\":[0.0,0.02857142857142857,0.02857142857142857,0.05714285714285714,0.05714285714285714,0.14285714285714285,0.14285714285714285,0.45714285714285713,0.45714285714285713,0.5142857142857142,0.5142857142857142,1.0],\"xaxis\":\"x\",\"y\":[0.0,0.0,0.14285714285714285,0.14285714285714285,0.2857142857142857,0.2857142857142857,0.5714285714285714,0.5714285714285714,0.8571428571428571,0.8571428571428571,1.0,1.0],\"yaxis\":\"y\",\"type\":\"scatter\"}],                        {\"template\":{\"data\":{\"bar\":[{\"error_x\":{\"color\":\"#2a3f5f\"},\"error_y\":{\"color\":\"#2a3f5f\"},\"marker\":{\"line\":{\"color\":\"#E5ECF6\",\"width\":0.5},\"pattern\":{\"fillmode\":\"overlay\",\"size\":10,\"solidity\":0.2}},\"type\":\"bar\"}],\"barpolar\":[{\"marker\":{\"line\":{\"color\":\"#E5ECF6\",\"width\":0.5},\"pattern\":{\"fillmode\":\"overlay\",\"size\":10,\"solidity\":0.2}},\"type\":\"barpolar\"}],\"carpet\":[{\"aaxis\":{\"endlinecolor\":\"#2a3f5f\",\"gridcolor\":\"white\",\"linecolor\":\"white\",\"minorgridcolor\":\"white\",\"startlinecolor\":\"#2a3f5f\"},\"baxis\":{\"endlinecolor\":\"#2a3f5f\",\"gridcolor\":\"white\",\"linecolor\":\"white\",\"minorgridcolor\":\"white\",\"startlinecolor\":\"#2a3f5f\"},\"type\":\"carpet\"}],\"choropleth\":[{\"colorbar\":{\"outlinewidth\":0,\"ticks\":\"\"},\"type\":\"choropleth\"}],\"contour\":[{\"colorbar\":{\"outlinewidth\":0,\"ticks\":\"\"},\"colorscale\":[[0.0,\"#0d0887\"],[0.1111111111111111,\"#46039f\"],[0.2222222222222222,\"#7201a8\"],[0.3333333333333333,\"#9c179e\"],[0.4444444444444444,\"#bd3786\"],[0.5555555555555556,\"#d8576b\"],[0.6666666666666666,\"#ed7953\"],[0.7777777777777778,\"#fb9f3a\"],[0.8888888888888888,\"#fdca26\"],[1.0,\"#f0f921\"]],\"type\":\"contour\"}],\"contourcarpet\":[{\"colorbar\":{\"outlinewidth\":0,\"ticks\":\"\"},\"type\":\"contourcarpet\"}],\"heatmap\":[{\"colorbar\":{\"outlinewidth\":0,\"ticks\":\"\"},\"colorscale\":[[0.0,\"#0d0887\"],[0.1111111111111111,\"#46039f\"],[0.2222222222222222,\"#7201a8\"],[0.3333333333333333,\"#9c179e\"],[0.4444444444444444,\"#bd3786\"],[0.5555555555555556,\"#d8576b\"],[0.6666666666666666,\"#ed7953\"],[0.7777777777777778,\"#fb9f3a\"],[0.8888888888888888,\"#fdca26\"],[1.0,\"#f0f921\"]],\"type\":\"heatmap\"}],\"heatmapgl\":[{\"colorbar\":{\"outlinewidth\":0,\"ticks\":\"\"},\"colorscale\":[[0.0,\"#0d0887\"],[0.1111111111111111,\"#46039f\"],[0.2222222222222222,\"#7201a8\"],[0.3333333333333333,\"#9c179e\"],[0.4444444444444444,\"#bd3786\"],[0.5555555555555556,\"#d8576b\"],[0.6666666666666666,\"#ed7953\"],[0.7777777777777778,\"#fb9f3a\"],[0.8888888888888888,\"#fdca26\"],[1.0,\"#f0f921\"]],\"type\":\"heatmapgl\"}],\"histogram\":[{\"marker\":{\"pattern\":{\"fillmode\":\"overlay\",\"size\":10,\"solidity\":0.2}},\"type\":\"histogram\"}],\"histogram2d\":[{\"colorbar\":{\"outlinewidth\":0,\"ticks\":\"\"},\"colorscale\":[[0.0,\"#0d0887\"],[0.1111111111111111,\"#46039f\"],[0.2222222222222222,\"#7201a8\"],[0.3333333333333333,\"#9c179e\"],[0.4444444444444444,\"#bd3786\"],[0.5555555555555556,\"#d8576b\"],[0.6666666666666666,\"#ed7953\"],[0.7777777777777778,\"#fb9f3a\"],[0.8888888888888888,\"#fdca26\"],[1.0,\"#f0f921\"]],\"type\":\"histogram2d\"}],\"histogram2dcontour\":[{\"colorbar\":{\"outlinewidth\":0,\"ticks\":\"\"},\"colorscale\":[[0.0,\"#0d0887\"],[0.1111111111111111,\"#46039f\"],[0.2222222222222222,\"#7201a8\"],[0.3333333333333333,\"#9c179e\"],[0.4444444444444444,\"#bd3786\"],[0.5555555555555556,\"#d8576b\"],[0.6666666666666666,\"#ed7953\"],[0.7777777777777778,\"#fb9f3a\"],[0.8888888888888888,\"#fdca26\"],[1.0,\"#f0f921\"]],\"type\":\"histogram2dcontour\"}],\"mesh3d\":[{\"colorbar\":{\"outlinewidth\":0,\"ticks\":\"\"},\"type\":\"mesh3d\"}],\"parcoords\":[{\"line\":{\"colorbar\":{\"outlinewidth\":0,\"ticks\":\"\"}},\"type\":\"parcoords\"}],\"pie\":[{\"automargin\":true,\"type\":\"pie\"}],\"scatter\":[{\"marker\":{\"colorbar\":{\"outlinewidth\":0,\"ticks\":\"\"}},\"type\":\"scatter\"}],\"scatter3d\":[{\"line\":{\"colorbar\":{\"outlinewidth\":0,\"ticks\":\"\"}},\"marker\":{\"colorbar\":{\"outlinewidth\":0,\"ticks\":\"\"}},\"type\":\"scatter3d\"}],\"scattercarpet\":[{\"marker\":{\"colorbar\":{\"outlinewidth\":0,\"ticks\":\"\"}},\"type\":\"scattercarpet\"}],\"scattergeo\":[{\"marker\":{\"colorbar\":{\"outlinewidth\":0,\"ticks\":\"\"}},\"type\":\"scattergeo\"}],\"scattergl\":[{\"marker\":{\"colorbar\":{\"outlinewidth\":0,\"ticks\":\"\"}},\"type\":\"scattergl\"}],\"scattermapbox\":[{\"marker\":{\"colorbar\":{\"outlinewidth\":0,\"ticks\":\"\"}},\"type\":\"scattermapbox\"}],\"scatterpolar\":[{\"marker\":{\"colorbar\":{\"outlinewidth\":0,\"ticks\":\"\"}},\"type\":\"scatterpolar\"}],\"scatterpolargl\":[{\"marker\":{\"colorbar\":{\"outlinewidth\":0,\"ticks\":\"\"}},\"type\":\"scatterpolargl\"}],\"scatterternary\":[{\"marker\":{\"colorbar\":{\"outlinewidth\":0,\"ticks\":\"\"}},\"type\":\"scatterternary\"}],\"surface\":[{\"colorbar\":{\"outlinewidth\":0,\"ticks\":\"\"},\"colorscale\":[[0.0,\"#0d0887\"],[0.1111111111111111,\"#46039f\"],[0.2222222222222222,\"#7201a8\"],[0.3333333333333333,\"#9c179e\"],[0.4444444444444444,\"#bd3786\"],[0.5555555555555556,\"#d8576b\"],[0.6666666666666666,\"#ed7953\"],[0.7777777777777778,\"#fb9f3a\"],[0.8888888888888888,\"#fdca26\"],[1.0,\"#f0f921\"]],\"type\":\"surface\"}],\"table\":[{\"cells\":{\"fill\":{\"color\":\"#EBF0F8\"},\"line\":{\"color\":\"white\"}},\"header\":{\"fill\":{\"color\":\"#C8D4E3\"},\"line\":{\"color\":\"white\"}},\"type\":\"table\"}]},\"layout\":{\"annotationdefaults\":{\"arrowcolor\":\"#2a3f5f\",\"arrowhead\":0,\"arrowwidth\":1},\"autotypenumbers\":\"strict\",\"coloraxis\":{\"colorbar\":{\"outlinewidth\":0,\"ticks\":\"\"}},\"colorscale\":{\"diverging\":[[0,\"#8e0152\"],[0.1,\"#c51b7d\"],[0.2,\"#de77ae\"],[0.3,\"#f1b6da\"],[0.4,\"#fde0ef\"],[0.5,\"#f7f7f7\"],[0.6,\"#e6f5d0\"],[0.7,\"#b8e186\"],[0.8,\"#7fbc41\"],[0.9,\"#4d9221\"],[1,\"#276419\"]],\"sequential\":[[0.0,\"#0d0887\"],[0.1111111111111111,\"#46039f\"],[0.2222222222222222,\"#7201a8\"],[0.3333333333333333,\"#9c179e\"],[0.4444444444444444,\"#bd3786\"],[0.5555555555555556,\"#d8576b\"],[0.6666666666666666,\"#ed7953\"],[0.7777777777777778,\"#fb9f3a\"],[0.8888888888888888,\"#fdca26\"],[1.0,\"#f0f921\"]],\"sequentialminus\":[[0.0,\"#0d0887\"],[0.1111111111111111,\"#46039f\"],[0.2222222222222222,\"#7201a8\"],[0.3333333333333333,\"#9c179e\"],[0.4444444444444444,\"#bd3786\"],[0.5555555555555556,\"#d8576b\"],[0.6666666666666666,\"#ed7953\"],[0.7777777777777778,\"#fb9f3a\"],[0.8888888888888888,\"#fdca26\"],[1.0,\"#f0f921\"]]},\"colorway\":[\"#636efa\",\"#EF553B\",\"#00cc96\",\"#ab63fa\",\"#FFA15A\",\"#19d3f3\",\"#FF6692\",\"#B6E880\",\"#FF97FF\",\"#FECB52\"],\"font\":{\"color\":\"#2a3f5f\"},\"geo\":{\"bgcolor\":\"white\",\"lakecolor\":\"white\",\"landcolor\":\"#E5ECF6\",\"showlakes\":true,\"showland\":true,\"subunitcolor\":\"white\"},\"hoverlabel\":{\"align\":\"left\"},\"hovermode\":\"closest\",\"mapbox\":{\"style\":\"light\"},\"paper_bgcolor\":\"white\",\"plot_bgcolor\":\"#E5ECF6\",\"polar\":{\"angularaxis\":{\"gridcolor\":\"white\",\"linecolor\":\"white\",\"ticks\":\"\"},\"bgcolor\":\"#E5ECF6\",\"radialaxis\":{\"gridcolor\":\"white\",\"linecolor\":\"white\",\"ticks\":\"\"}},\"scene\":{\"xaxis\":{\"backgroundcolor\":\"#E5ECF6\",\"gridcolor\":\"white\",\"gridwidth\":2,\"linecolor\":\"white\",\"showbackground\":true,\"ticks\":\"\",\"zerolinecolor\":\"white\"},\"yaxis\":{\"backgroundcolor\":\"#E5ECF6\",\"gridcolor\":\"white\",\"gridwidth\":2,\"linecolor\":\"white\",\"showbackground\":true,\"ticks\":\"\",\"zerolinecolor\":\"white\"},\"zaxis\":{\"backgroundcolor\":\"#E5ECF6\",\"gridcolor\":\"white\",\"gridwidth\":2,\"linecolor\":\"white\",\"showbackground\":true,\"ticks\":\"\",\"zerolinecolor\":\"white\"}},\"shapedefaults\":{\"line\":{\"color\":\"#2a3f5f\"}},\"ternary\":{\"aaxis\":{\"gridcolor\":\"white\",\"linecolor\":\"white\",\"ticks\":\"\"},\"baxis\":{\"gridcolor\":\"white\",\"linecolor\":\"white\",\"ticks\":\"\"},\"bgcolor\":\"#E5ECF6\",\"caxis\":{\"gridcolor\":\"white\",\"linecolor\":\"white\",\"ticks\":\"\"}},\"title\":{\"x\":0.05},\"xaxis\":{\"automargin\":true,\"gridcolor\":\"white\",\"linecolor\":\"white\",\"ticks\":\"\",\"title\":{\"standoff\":15},\"zerolinecolor\":\"white\",\"zerolinewidth\":2},\"yaxis\":{\"automargin\":true,\"gridcolor\":\"white\",\"linecolor\":\"white\",\"ticks\":\"\",\"title\":{\"standoff\":15},\"zerolinecolor\":\"white\",\"zerolinewidth\":2}}},\"xaxis\":{\"anchor\":\"y\",\"domain\":[0.0,1.0],\"title\":{\"text\":\"False Positive Rate\"},\"constrain\":\"domain\"},\"yaxis\":{\"anchor\":\"x\",\"domain\":[0.0,1.0],\"title\":{\"text\":\"True Positive Rate\"},\"scaleanchor\":\"x\",\"scaleratio\":1},\"legend\":{\"tracegroupgap\":0},\"title\":{\"text\":\"ROC Curve (AUC=0.7429)\"},\"height\":500,\"width\":700,\"shapes\":[{\"line\":{\"dash\":\"dash\"},\"type\":\"line\",\"x0\":0,\"x1\":1,\"y0\":0,\"y1\":1}]},                        {\"responsive\": true}                    ).then(function(){\n",
       "                            \n",
       "var gd = document.getElementById('b36c1bdd-7585-4280-80ee-858ca8190bc5');\n",
       "var x = new MutationObserver(function (mutations, observer) {{\n",
       "        var display = window.getComputedStyle(gd).display;\n",
       "        if (!display || display === 'none') {{\n",
       "            console.log([gd, 'removed!']);\n",
       "            Plotly.purge(gd);\n",
       "            observer.disconnect();\n",
       "        }}\n",
       "}});\n",
       "\n",
       "// Listen for the removal of the full notebook cells\n",
       "var notebookContainer = gd.closest('#notebook-container');\n",
       "if (notebookContainer) {{\n",
       "    x.observe(notebookContainer, {childList: true});\n",
       "}}\n",
       "\n",
       "// Listen for the clearing of the current output cell\n",
       "var outputEl = gd.closest('.output');\n",
       "if (outputEl) {{\n",
       "    x.observe(outputEl, {childList: true});\n",
       "}}\n",
       "\n",
       "                        })                };                });            </script>        </div>"
      ]
     },
     "metadata": {},
     "output_type": "display_data"
    }
   ],
   "source": [
    "fig = px.area(\n",
    "    x=fpr, y=tpr,\n",
    "    title=f'ROC Curve (AUC={auc(fpr, tpr):.4f})',\n",
    "    labels=dict(x='False Positive Rate', y='True Positive Rate'),\n",
    "    width=700, height=500\n",
    ")\n",
    "fig.add_shape(\n",
    "    type='line', line=dict(dash='dash'),\n",
    "    x0=0, x1=1, y0=0, y1=1\n",
    ")\n",
    "\n",
    "fig.update_yaxes(scaleanchor=\"x\", scaleratio=1)\n",
    "fig.update_xaxes(constrain='domain')\n",
    "fig.show()"
   ]
  },
  {
   "cell_type": "code",
   "execution_count": null,
   "id": "768e48d9",
   "metadata": {},
   "outputs": [],
   "source": []
  }
 ],
 "metadata": {
  "kernelspec": {
   "display_name": "Python 3 (ipykernel)",
   "language": "python",
   "name": "python3"
  },
  "language_info": {
   "codemirror_mode": {
    "name": "ipython",
    "version": 3
   },
   "file_extension": ".py",
   "mimetype": "text/x-python",
   "name": "python",
   "nbconvert_exporter": "python",
   "pygments_lexer": "ipython3",
   "version": "3.9.12"
  }
 },
 "nbformat": 4,
 "nbformat_minor": 5
}
