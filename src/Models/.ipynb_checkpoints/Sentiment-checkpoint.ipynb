{
 "cells": [
  {
   "cell_type": "markdown",
   "id": "df59a7ba-445a-4e36-aa86-92a5310a67ee",
   "metadata": {
    "tags": []
   },
   "source": [
    "# Reading in the files and imports"
   ]
  },
  {
   "cell_type": "code",
   "execution_count": 1,
   "id": "ea8dcad5-5a3f-4601-a76d-bc3d8bdc67ec",
   "metadata": {},
   "outputs": [],
   "source": [
    "import pyspark.sql.functions as F\n",
    "import pandas as pd \n",
    "from pyspark.sql.functions import *\n",
    "from pyspark.sql.types import *\n",
    "from datetime import datetime\n",
    "\n",
    "import seaborn as sns\n",
    "import matplotlib.pyplot as plt\n",
    "import numpy as np \n",
    "\n",
    "import os \n",
    "import pickle\n",
    "import re\n",
    "from datetime import datetime\n",
    "import requests\n",
    "import pytz\n",
    "import pandas as pd\n",
    "import numpy as np\n",
    "import ast\n"
   ]
  },
  {
   "cell_type": "code",
   "execution_count": 2,
   "id": "c7c6ff09-d08a-4113-9825-6c97d5e9ec88",
   "metadata": {},
   "outputs": [
    {
     "name": "stdout",
     "output_type": "stream",
     "text": [
      "22/12/06 10:02:48 WARN Utils: Your hostname, MacBook-Pro-de-Elena.local resolves to a loopback address: 127.0.0.1; using 192.168.1.22 instead (on interface en0)\n",
      "22/12/06 10:02:48 WARN Utils: Set SPARK_LOCAL_IP if you need to bind to another address\n"
     ]
    },
    {
     "name": "stderr",
     "output_type": "stream",
     "text": [
      "Setting default log level to \"WARN\".\n",
      "To adjust logging level use sc.setLogLevel(newLevel). For SparkR, use setLogLevel(newLevel).\n"
     ]
    },
    {
     "name": "stdout",
     "output_type": "stream",
     "text": [
      "22/12/06 10:02:49 WARN NativeCodeLoader: Unable to load native-hadoop library for your platform... using builtin-java classes where applicable\n"
     ]
    }
   ],
   "source": [
    "import pyspark\n",
    "# create spark context\n",
    "sc = pyspark.SparkContext()\n",
    "# create spark session \n",
    "spark = pyspark.sql.SparkSession(sc)\n",
    "\n"
   ]
  },
  {
   "cell_type": "code",
   "execution_count": 3,
   "id": "f3422385-f567-424b-8e81-606b5cc2172e",
   "metadata": {},
   "outputs": [
    {
     "name": "stderr",
     "output_type": "stream",
     "text": [
      "                                                                                \r"
     ]
    },
    {
     "name": "stdout",
     "output_type": "stream",
     "text": [
      "22/12/06 10:03:55 WARN package: Truncated the string representation of a plan since it was too large. This behavior can be adjusted by setting 'spark.sql.debug.maxToStringFields'.\n"
     ]
    },
    {
     "name": "stderr",
     "output_type": "stream",
     "text": [
      "                                                                                \r"
     ]
    },
    {
     "data": {
      "text/plain": [
       "1595676"
      ]
     },
     "execution_count": 3,
     "metadata": {},
     "output_type": "execute_result"
    }
   ],
   "source": [
    "#reading in all keto files \n",
    "list_brands = [\"healthyfood\", \n",
    "               \"healthylifestyle\",\n",
    "               \"vegan\",\n",
    "               \"keto\",\n",
    "               \"ketodiet\",\n",
    "               \"ketolifestyle\",\n",
    "               \"veganism\",\n",
    "               \"vegetarian\"] \n",
    "from re import search\n",
    "\n",
    "data_dir = \".././../data/Topic/\"\n",
    "tweet_files = [os.path.join(data_dir, obs) for obs in os.listdir(data_dir)]\n",
    "\n",
    "files_brand = [file for file in tweet_files if (file.find('_vegan_') != -1)]\n",
    "files_brand               \n",
    "               \n",
    "df_brand = spark.read.option(\"multiline\",\"true\").json(files_brand)  \n",
    "df_brand.count() \n",
    "               "
   ]
  },
  {
   "cell_type": "markdown",
   "id": "88218e72-9e42-4fa6-b1d1-c7503a225006",
   "metadata": {},
   "source": [
    "## Selecting the correct columns, converting types and checking for doubles "
   ]
  },
  {
   "cell_type": "code",
   "execution_count": 4,
   "id": "4aad4054-942b-429f-a09e-a1382cf119b4",
   "metadata": {},
   "outputs": [],
   "source": [
    "df_json_sub = df_brand.select(F.col(\"user.name\"),\n",
    "                                F.col(\"user.screen_name\"),\n",
    "                                F.col(\"created_at\"), \n",
    "                                F.col(\"full_text\"),\n",
    "                                F.col(\"entities.hashtags\"),\n",
    "                                F.col(\"lang\"),\n",
    "                                F.col(\"favorite_count\"),\n",
    "                                F.col(\"user.followers_count\"),\n",
    "                                F.col(\"user.friends_count\"),\n",
    "                                F.col(\"user.favourites_count\"),\n",
    "                                F.col(\"entities.urls\"),\n",
    "                                F.col(\"entities.symbols\"), \n",
    "                                )\n",
    "#date --> time stamp variable \n",
    "def getDate(date):\n",
    "    if date is not None:\n",
    "        return str(datetime.strptime(date,'%a %b %d %H:%M:%S +0000 %Y').replace(tzinfo=pytz.UTC).strftime(\"%Y-%m-%d %H:%M:%S\"))\n",
    "    else:\n",
    "        return None\n",
    "date_udf = F.udf(getDate, StringType())\n",
    "df_json_sub = df_json_sub.withColumn('post_created_at', F.to_utc_timestamp(date_udf(\"created_at\"), \"UTC\"))\n",
    "\n",
    "#extract year, month, day \n",
    "\n",
    "df_json_sub = df_json_sub.withColumn('year', year('post_created_at'))\n",
    "df_json_sub = df_json_sub.withColumn('month', month('post_created_at'))\n",
    "df_json_sub = df_json_sub.withColumn('day', dayofmonth('post_created_at')) #number from 1 to 31 \n",
    "df_json_sub = df_json_sub.withColumn('week', weekofyear('post_created_at')) #week number from 1 to 52 \n",
    "\n",
    "\n",
    "\n"
   ]
  },
  {
   "cell_type": "code",
   "execution_count": 5,
   "id": "da7aa06c-f552-448c-b79d-220907297661",
   "metadata": {},
   "outputs": [
    {
     "name": "stdout",
     "output_type": "stream",
     "text": [
      "root\n",
      " |-- name: string (nullable = true)\n",
      " |-- screen_name: string (nullable = true)\n",
      " |-- created_at: string (nullable = true)\n",
      " |-- full_text: string (nullable = true)\n",
      " |-- hashtags: array (nullable = true)\n",
      " |    |-- element: struct (containsNull = true)\n",
      " |    |    |-- indices: array (nullable = true)\n",
      " |    |    |    |-- element: long (containsNull = true)\n",
      " |    |    |-- text: string (nullable = true)\n",
      " |-- lang: string (nullable = true)\n",
      " |-- favorite_count: long (nullable = true)\n",
      " |-- followers_count: long (nullable = true)\n",
      " |-- friends_count: long (nullable = true)\n",
      " |-- favourites_count: long (nullable = true)\n",
      " |-- urls: array (nullable = true)\n",
      " |    |-- element: struct (containsNull = true)\n",
      " |    |    |-- display_url: string (nullable = true)\n",
      " |    |    |-- expanded_url: string (nullable = true)\n",
      " |    |    |-- indices: array (nullable = true)\n",
      " |    |    |    |-- element: long (containsNull = true)\n",
      " |    |    |-- url: string (nullable = true)\n",
      " |-- symbols: array (nullable = true)\n",
      " |    |-- element: struct (containsNull = true)\n",
      " |    |    |-- indices: array (nullable = true)\n",
      " |    |    |    |-- element: long (containsNull = true)\n",
      " |    |    |-- text: string (nullable = true)\n",
      " |-- post_created_at: timestamp (nullable = true)\n",
      " |-- year: integer (nullable = true)\n",
      " |-- month: integer (nullable = true)\n",
      " |-- day: integer (nullable = true)\n",
      " |-- week: integer (nullable = true)\n",
      "\n"
     ]
    }
   ],
   "source": [
    "#drop duplicates and retweets \n",
    "df_json_sub = df_json_sub.filter(~F.col(\"full_text\").startswith(\"RT\"))\\\n",
    "                        .drop_duplicates()\n",
    "#sorting such when dropping later we only keep the most recent post \n",
    "df_json_sub = df_json_sub.sort(\"post_created_at\", ascending=False)\n",
    "#removing spam accounts \n",
    "df_json_sub = df_json_sub.drop_duplicates([\"full_text\", \"screen_name\"])\n",
    "                        \n",
    "df_json_sub.printSchema()\n",
    "#df_json_sub.count() #1340938 "
   ]
  },
  {
   "cell_type": "markdown",
   "id": "31382fc9-b976-4ee1-b4f0-cf231ec8fe1d",
   "metadata": {
    "jp-MarkdownHeadingCollapsed": true,
    "tags": []
   },
   "source": [
    "# 1. Data Cleaning "
   ]
  },
  {
   "cell_type": "code",
   "execution_count": 6,
   "id": "bfa17404-388e-4d55-9255-a7851eeaebba",
   "metadata": {},
   "outputs": [],
   "source": [
    "# define function to count hashtags\n",
    "def get_hashtags(tokenized_text):\n",
    "    counter = 0\n",
    "    for word in tokenized_text:\n",
    "        if \"#\" in word:\n",
    "            counter += 1\n",
    "    return(counter) \n",
    "\n",
    "# define function to count mentions\n",
    "def get_mentions(tokenized_text):\n",
    "    counter = 0\n",
    "    for word in tokenized_text:\n",
    "        if \"@\" in word:\n",
    "            counter += 1\n",
    "    return(counter)\n",
    "\n",
    "# define function to count exclamation marks\n",
    "def get_exclamation_marks(tokenized_text):\n",
    "    counter = 0\n",
    "    for word in tokenized_text:\n",
    "        if \"!\" in word:\n",
    "            counter += 1\n",
    "    return(counter)\n",
    "\n",
    "# define function to count number of emojis used\n",
    "\n",
    "import emojis\n",
    "def emoji_counter(text):\n",
    "    nr_emojis = emojis.count(text)\n",
    "    return(nr_emojis)\n",
    "\n",
    "# register functions as udf\n",
    "get_hashtags_UDF = F.udf(get_hashtags, IntegerType())\n",
    "get_mentions_UDF = F.udf(get_mentions, IntegerType())\n",
    "get_exclamation_marks_UDF = F.udf(get_exclamation_marks, IntegerType())\n",
    "emoji_counter_udf = F.udf(emoji_counter, IntegerType())\n"
   ]
  },
  {
   "cell_type": "code",
   "execution_count": 7,
   "id": "bd5e299e-5dd9-4247-a914-2f8f490a2ba6",
   "metadata": {},
   "outputs": [
    {
     "name": "stdout",
     "output_type": "stream",
     "text": [
      "root\n",
      " |-- name: string (nullable = true)\n",
      " |-- screen_name: string (nullable = true)\n",
      " |-- created_at: string (nullable = true)\n",
      " |-- full_text: string (nullable = true)\n",
      " |-- hashtags: array (nullable = true)\n",
      " |    |-- element: struct (containsNull = true)\n",
      " |    |    |-- indices: array (nullable = true)\n",
      " |    |    |    |-- element: long (containsNull = true)\n",
      " |    |    |-- text: string (nullable = true)\n",
      " |-- lang: string (nullable = true)\n",
      " |-- favorite_count: long (nullable = true)\n",
      " |-- followers_count: long (nullable = true)\n",
      " |-- friends_count: long (nullable = true)\n",
      " |-- favourites_count: long (nullable = true)\n",
      " |-- urls: array (nullable = true)\n",
      " |    |-- element: struct (containsNull = true)\n",
      " |    |    |-- display_url: string (nullable = true)\n",
      " |    |    |-- expanded_url: string (nullable = true)\n",
      " |    |    |-- indices: array (nullable = true)\n",
      " |    |    |    |-- element: long (containsNull = true)\n",
      " |    |    |-- url: string (nullable = true)\n",
      " |-- symbols: array (nullable = true)\n",
      " |    |-- element: struct (containsNull = true)\n",
      " |    |    |-- indices: array (nullable = true)\n",
      " |    |    |    |-- element: long (containsNull = true)\n",
      " |    |    |-- text: string (nullable = true)\n",
      " |-- post_created_at: timestamp (nullable = true)\n",
      " |-- year: integer (nullable = true)\n",
      " |-- month: integer (nullable = true)\n",
      " |-- day: integer (nullable = true)\n",
      " |-- week: integer (nullable = true)\n",
      " |-- text_tokenized: array (nullable = true)\n",
      " |    |-- element: string (containsNull = false)\n",
      " |-- num_words: integer (nullable = false)\n",
      " |-- num_hashtags: integer (nullable = true)\n",
      " |-- num_mentions: integer (nullable = true)\n",
      " |-- num_exclamation_marks: integer (nullable = true)\n",
      " |-- emoji_count: integer (nullable = true)\n",
      "\n"
     ]
    }
   ],
   "source": [
    "twitter_df = df_json_sub.withColumn(\"text_tokenized\", F.split(\"full_text\", \" \")) \\\n",
    "                            .withColumn(\"num_words\", F.size(\"text_tokenized\")) \\\n",
    "                            .withColumn(\"num_hashtags\", get_hashtags_UDF(\"text_tokenized\")) \\\n",
    "                            .withColumn(\"num_mentions\", get_mentions_UDF(\"text_tokenized\")) \\\n",
    "                            .withColumn(\"num_exclamation_marks\", get_exclamation_marks_UDF(\"text_tokenized\")) \\\n",
    "                            .withColumn(\"emoji_count\", emoji_counter_udf(\"full_text\")) \n",
    "twitter_df.printSchema()\n"
   ]
  },
  {
   "cell_type": "code",
   "execution_count": 8,
   "id": "fd44acbc-7489-4c06-91d1-c3493e012cef",
   "metadata": {},
   "outputs": [],
   "source": [
    "# define function to clean text \n",
    "import emojis  \n",
    "\n",
    "def clean_text(string):\n",
    "    \n",
    "    # define numbers\n",
    "    NUMBERS = '0123456789'\n",
    "    PUNCT = '\"#$%&\\'()*+,-./:;<=>@[\\\\]^_`{|}~'\n",
    "    \n",
    "    # convert text to lower case\n",
    "    cleaned_string = string.lower()\n",
    "    \n",
    "    # remove URLS\n",
    "    cleaned_string = re.sub(r'http\\S+', ' ', cleaned_string)\n",
    "    \n",
    "    # replace emojis by words\n",
    "    #cleaned_string = emojis.demojize(cleaned_string)\n",
    "    cleaned_string = cleaned_string.replace(\":\",\" \").replace(\"_\",\" \")\n",
    "    cleaned_string = ' '.join(cleaned_string.split())\n",
    "    \n",
    "    # remove numbers\n",
    "    cleaned_string = \"\".join([char for char in cleaned_string if char not in NUMBERS])\n",
    "    \n",
    "    # remove punctuation\n",
    "    cleaned_string = \"\".join([char for char in cleaned_string if char not in PUNCT])\n",
    "    \n",
    "    # remove words conisting of one character (or less)\n",
    "    cleaned_string = ' '.join([w for w in cleaned_string.split() if len(w) > 1])\n",
    "     \n",
    "    # return\n",
    "    return(cleaned_string) \n",
    "clean_text_udf = F.udf(clean_text, StringType())\n"
   ]
  },
  {
   "cell_type": "code",
   "execution_count": 9,
   "id": "3774ce59-dcc3-46c2-8e0e-9f7ff728b39c",
   "metadata": {},
   "outputs": [],
   "source": [
    "twitter_df = twitter_df.withColumn(\"cleaned_text\", clean_text_udf(F.col(\"full_text\")))"
   ]
  },
  {
   "cell_type": "markdown",
   "id": "72d88782-f539-4d74-812f-fd7ea453be0e",
   "metadata": {},
   "source": [
    "# 2. Sentiment Analysis  "
   ]
  },
  {
   "cell_type": "code",
   "execution_count": 22,
   "id": "0c10191d-954f-40e4-ae0e-de84e5f2a813",
   "metadata": {},
   "outputs": [],
   "source": [
    "#selecting english as language as only this works for rule based packages \n",
    "twitter_df = twitter_df.filter(twitter_df.lang == 'en')"
   ]
  },
  {
   "cell_type": "markdown",
   "id": "a845eb28-ddcc-44b1-983b-55200c720f92",
   "metadata": {},
   "source": [
    "## 2.1 The Vader Package \n",
    "VADER sentimental analysis relies on a dictionary that maps lexical features to emotion intensities known as sentiment scores (also rule based). The sentiment score of a text can be obtained by summing up the intensity of each word in the text. Rule based packages ignore the context in which the words are used"
   ]
  },
  {
   "cell_type": "code",
   "execution_count": 11,
   "id": "f4a7387b-8c13-43bd-bfae-93010d8bd957",
   "metadata": {},
   "outputs": [],
   "source": [
    "#using the vaderSentiment package \n",
    "from vaderSentiment.vaderSentiment import SentimentIntensityAnalyzer\n",
    "from pyspark.sql.functions import udf\n",
    "from pyspark.sql.types import *"
   ]
  },
  {
   "cell_type": "code",
   "execution_count": 12,
   "id": "a76fb917-d255-4ccc-821f-0af901e02c77",
   "metadata": {},
   "outputs": [],
   "source": [
    "# define the function to extract the sentiment\n",
    "def get_sentiment(sentence):\n",
    "\n",
    "    # initialize sentiment analyzer\n",
    "    sid_obj = SentimentIntensityAnalyzer()\n",
    "\n",
    "    # get sentiment dict\n",
    "    sentiment_dict = sid_obj.polarity_scores(sentence)\n",
    "    \n",
    "    # get positive sentiment score\n",
    "    pos_sentiment = sentiment_dict[\"pos\"]\n",
    "    \n",
    "    # return positive sentiment score\n",
    "    return(pos_sentiment)\n",
    "\n",
    "get_sentiment_udf = udf(get_sentiment, DoubleType())"
   ]
  },
  {
   "cell_type": "code",
   "execution_count": 13,
   "id": "eb6db130-e60c-4836-b812-c037facec73d",
   "metadata": {},
   "outputs": [],
   "source": [
    "twitter_df = twitter_df.withColumn(\"sentiment_vader\", get_sentiment_udf(F.col(\"cleaned_text\")))"
   ]
  },
  {
   "cell_type": "markdown",
   "id": "b31b95a5-3733-429c-b385-85d4f301e701",
   "metadata": {},
   "source": [
    "## 2.2 TextBlob Package \n",
    "\n",
    "TextBlob returns polarity and subjectivity of a sentence. TextBlob is rule based sentient analysis, not using any machine learning in order to determine sentiment, only using dictionary approach. TextBlob ignores words it does not know.\n",
    "\n",
    "**Polarity** lies between [-1,1],  -1 defines a negative sentiment and 1 defines a positive sentiment.  \n",
    "\n",
    "**Subjectivity** quantifies the amount of personal opinion and factual information contained in the text. Subjectivity lies between [0,1]. The higher subjectivity means that the text contains personal opinion rather than factual information. "
   ]
  },
  {
   "cell_type": "code",
   "execution_count": 14,
   "id": "16a65cba-257d-46f9-8283-10d6543434e6",
   "metadata": {},
   "outputs": [],
   "source": [
    "#https://textblob.readthedocs.io/en/dev/\n",
    "from textblob import TextBlob"
   ]
  },
  {
   "cell_type": "code",
   "execution_count": 15,
   "id": "d3c309ae-06ae-4d55-aab2-506ee61b493d",
   "metadata": {},
   "outputs": [],
   "source": [
    "# define function to get polarity score of text document\n",
    "def get_polarity(row):\n",
    "    textBlob_review = TextBlob(row)\n",
    "    return textBlob_review.sentiment[0]\n",
    "# define function to get subjectivity score of text document\n",
    "def get_subjectivity(row):\n",
    "    textBlob_review = TextBlob(row)\n",
    "    return textBlob_review.sentiment[1]\n",
    "get_polarity_udf = F.udf(get_polarity, DoubleType())\n",
    "get_subjectivity_udf = F.udf(get_subjectivity, DoubleType())\n"
   ]
  },
  {
   "cell_type": "code",
   "execution_count": 16,
   "id": "0856e871-da65-42ab-b6ae-964b70dcc952",
   "metadata": {},
   "outputs": [],
   "source": [
    "twitter_df = twitter_df.withColumn('polarity', get_polarity_udf(F.col('cleaned_text')))\\\n",
    "                        .withColumn('subjectivity', get_subjectivity_udf(F.col('cleaned_text')))"
   ]
  },
  {
   "cell_type": "markdown",
   "id": "cb5e3670-5a26-4101-b4b8-d982067af5ed",
   "metadata": {},
   "source": [
    "## 2.3 Visualizing Sentiment "
   ]
  },
  {
   "cell_type": "code",
   "execution_count": 17,
   "id": "bdf4804b-1b3f-468e-a3ff-96f937239d4c",
   "metadata": {},
   "outputs": [
    {
     "name": "stderr",
     "output_type": "stream",
     "text": [
      "                                                                                \r"
     ]
    },
    {
     "data": {
      "text/html": [
       "<div>\n",
       "<style scoped>\n",
       "    .dataframe tbody tr th:only-of-type {\n",
       "        vertical-align: middle;\n",
       "    }\n",
       "\n",
       "    .dataframe tbody tr th {\n",
       "        vertical-align: top;\n",
       "    }\n",
       "\n",
       "    .dataframe thead th {\n",
       "        text-align: right;\n",
       "    }\n",
       "</style>\n",
       "<table border=\"1\" class=\"dataframe\">\n",
       "  <thead>\n",
       "    <tr style=\"text-align: right;\">\n",
       "      <th></th>\n",
       "      <th>date</th>\n",
       "      <th>avg_sentiment_vader</th>\n",
       "      <th>avg_polarity</th>\n",
       "    </tr>\n",
       "  </thead>\n",
       "  <tbody>\n",
       "    <tr>\n",
       "      <th>0</th>\n",
       "      <td>2021_43</td>\n",
       "      <td>0.135797</td>\n",
       "      <td>0.132129</td>\n",
       "    </tr>\n",
       "    <tr>\n",
       "      <th>1</th>\n",
       "      <td>2021_44</td>\n",
       "      <td>0.148358</td>\n",
       "      <td>0.175048</td>\n",
       "    </tr>\n",
       "    <tr>\n",
       "      <th>2</th>\n",
       "      <td>2021_49</td>\n",
       "      <td>0.132678</td>\n",
       "      <td>0.124582</td>\n",
       "    </tr>\n",
       "    <tr>\n",
       "      <th>3</th>\n",
       "      <td>2021_50</td>\n",
       "      <td>0.170487</td>\n",
       "      <td>0.219008</td>\n",
       "    </tr>\n",
       "    <tr>\n",
       "      <th>4</th>\n",
       "      <td>2021_51</td>\n",
       "      <td>0.169269</td>\n",
       "      <td>0.231307</td>\n",
       "    </tr>\n",
       "    <tr>\n",
       "      <th>5</th>\n",
       "      <td>2021_52</td>\n",
       "      <td>0.155547</td>\n",
       "      <td>0.178460</td>\n",
       "    </tr>\n",
       "    <tr>\n",
       "      <th>6</th>\n",
       "      <td>2022_1</td>\n",
       "      <td>0.160706</td>\n",
       "      <td>0.220160</td>\n",
       "    </tr>\n",
       "    <tr>\n",
       "      <th>7</th>\n",
       "      <td>2022_2</td>\n",
       "      <td>0.155495</td>\n",
       "      <td>0.205056</td>\n",
       "    </tr>\n",
       "    <tr>\n",
       "      <th>8</th>\n",
       "      <td>2022_3</td>\n",
       "      <td>0.146509</td>\n",
       "      <td>0.205497</td>\n",
       "    </tr>\n",
       "    <tr>\n",
       "      <th>9</th>\n",
       "      <td>2022_4</td>\n",
       "      <td>0.150661</td>\n",
       "      <td>0.183049</td>\n",
       "    </tr>\n",
       "    <tr>\n",
       "      <th>10</th>\n",
       "      <td>2022_5</td>\n",
       "      <td>0.163727</td>\n",
       "      <td>0.198574</td>\n",
       "    </tr>\n",
       "    <tr>\n",
       "      <th>11</th>\n",
       "      <td>2022_6</td>\n",
       "      <td>0.154051</td>\n",
       "      <td>0.187622</td>\n",
       "    </tr>\n",
       "    <tr>\n",
       "      <th>12</th>\n",
       "      <td>2022_7</td>\n",
       "      <td>0.137251</td>\n",
       "      <td>0.139937</td>\n",
       "    </tr>\n",
       "    <tr>\n",
       "      <th>13</th>\n",
       "      <td>2022_8</td>\n",
       "      <td>0.158007</td>\n",
       "      <td>0.189374</td>\n",
       "    </tr>\n",
       "    <tr>\n",
       "      <th>14</th>\n",
       "      <td>2022_9</td>\n",
       "      <td>0.135268</td>\n",
       "      <td>0.115717</td>\n",
       "    </tr>\n",
       "    <tr>\n",
       "      <th>15</th>\n",
       "      <td>2022_10</td>\n",
       "      <td>0.131894</td>\n",
       "      <td>0.122125</td>\n",
       "    </tr>\n",
       "    <tr>\n",
       "      <th>16</th>\n",
       "      <td>2022_11</td>\n",
       "      <td>0.155299</td>\n",
       "      <td>0.197344</td>\n",
       "    </tr>\n",
       "    <tr>\n",
       "      <th>17</th>\n",
       "      <td>2022_12</td>\n",
       "      <td>0.156066</td>\n",
       "      <td>0.206349</td>\n",
       "    </tr>\n",
       "    <tr>\n",
       "      <th>18</th>\n",
       "      <td>2022_13</td>\n",
       "      <td>0.152110</td>\n",
       "      <td>0.200678</td>\n",
       "    </tr>\n",
       "    <tr>\n",
       "      <th>19</th>\n",
       "      <td>2022_15</td>\n",
       "      <td>0.164698</td>\n",
       "      <td>0.212894</td>\n",
       "    </tr>\n",
       "    <tr>\n",
       "      <th>20</th>\n",
       "      <td>2022_16</td>\n",
       "      <td>0.153990</td>\n",
       "      <td>0.204265</td>\n",
       "    </tr>\n",
       "    <tr>\n",
       "      <th>21</th>\n",
       "      <td>2022_17</td>\n",
       "      <td>0.134031</td>\n",
       "      <td>0.129742</td>\n",
       "    </tr>\n",
       "    <tr>\n",
       "      <th>22</th>\n",
       "      <td>2022_18</td>\n",
       "      <td>0.164343</td>\n",
       "      <td>0.212200</td>\n",
       "    </tr>\n",
       "    <tr>\n",
       "      <th>23</th>\n",
       "      <td>2022_19</td>\n",
       "      <td>0.156346</td>\n",
       "      <td>0.208374</td>\n",
       "    </tr>\n",
       "    <tr>\n",
       "      <th>24</th>\n",
       "      <td>2022_20</td>\n",
       "      <td>0.152426</td>\n",
       "      <td>0.198462</td>\n",
       "    </tr>\n",
       "    <tr>\n",
       "      <th>25</th>\n",
       "      <td>2022_21</td>\n",
       "      <td>0.138678</td>\n",
       "      <td>0.148018</td>\n",
       "    </tr>\n",
       "    <tr>\n",
       "      <th>26</th>\n",
       "      <td>2022_22</td>\n",
       "      <td>0.158835</td>\n",
       "      <td>0.206248</td>\n",
       "    </tr>\n",
       "    <tr>\n",
       "      <th>27</th>\n",
       "      <td>2022_24</td>\n",
       "      <td>0.162816</td>\n",
       "      <td>0.186837</td>\n",
       "    </tr>\n",
       "    <tr>\n",
       "      <th>28</th>\n",
       "      <td>2022_25</td>\n",
       "      <td>0.162697</td>\n",
       "      <td>0.214837</td>\n",
       "    </tr>\n",
       "    <tr>\n",
       "      <th>29</th>\n",
       "      <td>2022_26</td>\n",
       "      <td>0.128826</td>\n",
       "      <td>0.113499</td>\n",
       "    </tr>\n",
       "    <tr>\n",
       "      <th>30</th>\n",
       "      <td>2022_27</td>\n",
       "      <td>0.162415</td>\n",
       "      <td>0.207401</td>\n",
       "    </tr>\n",
       "    <tr>\n",
       "      <th>31</th>\n",
       "      <td>2022_28</td>\n",
       "      <td>0.153357</td>\n",
       "      <td>0.204393</td>\n",
       "    </tr>\n",
       "    <tr>\n",
       "      <th>32</th>\n",
       "      <td>2022_29</td>\n",
       "      <td>0.145427</td>\n",
       "      <td>0.188079</td>\n",
       "    </tr>\n",
       "    <tr>\n",
       "      <th>33</th>\n",
       "      <td>2022_30</td>\n",
       "      <td>0.131893</td>\n",
       "      <td>0.109992</td>\n",
       "    </tr>\n",
       "    <tr>\n",
       "      <th>34</th>\n",
       "      <td>2022_31</td>\n",
       "      <td>0.127305</td>\n",
       "      <td>0.119376</td>\n",
       "    </tr>\n",
       "    <tr>\n",
       "      <th>35</th>\n",
       "      <td>2022_32</td>\n",
       "      <td>0.145777</td>\n",
       "      <td>0.190414</td>\n",
       "    </tr>\n",
       "    <tr>\n",
       "      <th>36</th>\n",
       "      <td>2022_33</td>\n",
       "      <td>0.152681</td>\n",
       "      <td>0.192780</td>\n",
       "    </tr>\n",
       "    <tr>\n",
       "      <th>37</th>\n",
       "      <td>2022_34</td>\n",
       "      <td>0.152936</td>\n",
       "      <td>0.195106</td>\n",
       "    </tr>\n",
       "    <tr>\n",
       "      <th>38</th>\n",
       "      <td>2022_35</td>\n",
       "      <td>0.154135</td>\n",
       "      <td>0.199441</td>\n",
       "    </tr>\n",
       "    <tr>\n",
       "      <th>39</th>\n",
       "      <td>2022_36</td>\n",
       "      <td>0.152205</td>\n",
       "      <td>0.190239</td>\n",
       "    </tr>\n",
       "    <tr>\n",
       "      <th>40</th>\n",
       "      <td>2022_37</td>\n",
       "      <td>0.156806</td>\n",
       "      <td>0.201687</td>\n",
       "    </tr>\n",
       "    <tr>\n",
       "      <th>41</th>\n",
       "      <td>2022_39</td>\n",
       "      <td>0.163905</td>\n",
       "      <td>0.240693</td>\n",
       "    </tr>\n",
       "    <tr>\n",
       "      <th>42</th>\n",
       "      <td>2022_40</td>\n",
       "      <td>0.162842</td>\n",
       "      <td>0.193665</td>\n",
       "    </tr>\n",
       "    <tr>\n",
       "      <th>43</th>\n",
       "      <td>2022_41</td>\n",
       "      <td>0.154110</td>\n",
       "      <td>0.201843</td>\n",
       "    </tr>\n",
       "    <tr>\n",
       "      <th>44</th>\n",
       "      <td>2022_52</td>\n",
       "      <td>0.166337</td>\n",
       "      <td>0.205171</td>\n",
       "    </tr>\n",
       "  </tbody>\n",
       "</table>\n",
       "</div>"
      ],
      "text/plain": [
       "       date  avg_sentiment_vader  avg_polarity\n",
       "0   2021_43             0.135797      0.132129\n",
       "1   2021_44             0.148358      0.175048\n",
       "2   2021_49             0.132678      0.124582\n",
       "3   2021_50             0.170487      0.219008\n",
       "4   2021_51             0.169269      0.231307\n",
       "5   2021_52             0.155547      0.178460\n",
       "6    2022_1             0.160706      0.220160\n",
       "7    2022_2             0.155495      0.205056\n",
       "8    2022_3             0.146509      0.205497\n",
       "9    2022_4             0.150661      0.183049\n",
       "10   2022_5             0.163727      0.198574\n",
       "11   2022_6             0.154051      0.187622\n",
       "12   2022_7             0.137251      0.139937\n",
       "13   2022_8             0.158007      0.189374\n",
       "14   2022_9             0.135268      0.115717\n",
       "15  2022_10             0.131894      0.122125\n",
       "16  2022_11             0.155299      0.197344\n",
       "17  2022_12             0.156066      0.206349\n",
       "18  2022_13             0.152110      0.200678\n",
       "19  2022_15             0.164698      0.212894\n",
       "20  2022_16             0.153990      0.204265\n",
       "21  2022_17             0.134031      0.129742\n",
       "22  2022_18             0.164343      0.212200\n",
       "23  2022_19             0.156346      0.208374\n",
       "24  2022_20             0.152426      0.198462\n",
       "25  2022_21             0.138678      0.148018\n",
       "26  2022_22             0.158835      0.206248\n",
       "27  2022_24             0.162816      0.186837\n",
       "28  2022_25             0.162697      0.214837\n",
       "29  2022_26             0.128826      0.113499\n",
       "30  2022_27             0.162415      0.207401\n",
       "31  2022_28             0.153357      0.204393\n",
       "32  2022_29             0.145427      0.188079\n",
       "33  2022_30             0.131893      0.109992\n",
       "34  2022_31             0.127305      0.119376\n",
       "35  2022_32             0.145777      0.190414\n",
       "36  2022_33             0.152681      0.192780\n",
       "37  2022_34             0.152936      0.195106\n",
       "38  2022_35             0.154135      0.199441\n",
       "39  2022_36             0.152205      0.190239\n",
       "40  2022_37             0.156806      0.201687\n",
       "41  2022_39             0.163905      0.240693\n",
       "42  2022_40             0.162842      0.193665\n",
       "43  2022_41             0.154110      0.201843\n",
       "44  2022_52             0.166337      0.205171"
      ]
     },
     "execution_count": 17,
     "metadata": {},
     "output_type": "execute_result"
    }
   ],
   "source": [
    "#visualizing sentiment for the whole period \n",
    "# grouping by week, year and lang \n",
    "import plotly.express as px\n",
    "df_sentiment = twitter_df.groupBy('year','week')\\\n",
    "                .agg(avg('sentiment_vader'), avg('polarity'))\\\n",
    "                .withColumnRenamed(\"avg(sentiment_vader)\", \"avg_sentiment_vader\") \\\n",
    "                .withColumnRenamed(\"avg(polarity)\", \"avg_polarity\") \\\n",
    "                .sort('year', 'week', ascending = True)\n",
    "df_sentiment = df_sentiment.select(concat_ws('_',df_sentiment.year, df_sentiment.week)\\\n",
    "                            .alias('date'), 'avg_sentiment_vader', 'avg_polarity').toPandas()\n",
    "\n",
    "df_sentiment"
   ]
  },
  {
   "cell_type": "code",
   "execution_count": 21,
   "id": "3055af8a-9c40-4e91-a46e-7068e52e64ed",
   "metadata": {},
   "outputs": [
    {
     "data": {
      "application/vnd.plotly.v1+json": {
       "config": {
        "plotlyServerURL": "https://plot.ly"
       },
       "data": [
        {
         "hovertemplate": "variable=avg_sentiment_vader<br>date=%{x}<br>value=%{y}<extra></extra>",
         "legendgroup": "avg_sentiment_vader",
         "line": {
          "color": "#636efa",
          "dash": "solid"
         },
         "marker": {
          "symbol": "circle"
         },
         "mode": "lines",
         "name": "avg_sentiment_vader",
         "orientation": "v",
         "showlegend": true,
         "type": "scatter",
         "x": [
          "2021_43",
          "2021_44",
          "2021_49",
          "2021_50",
          "2021_51",
          "2021_52",
          "2022_1",
          "2022_2",
          "2022_3",
          "2022_4",
          "2022_5",
          "2022_6",
          "2022_7",
          "2022_8",
          "2022_9",
          "2022_10",
          "2022_11",
          "2022_12",
          "2022_13",
          "2022_15",
          "2022_16",
          "2022_17",
          "2022_18",
          "2022_19",
          "2022_20",
          "2022_21",
          "2022_22",
          "2022_24",
          "2022_25",
          "2022_26",
          "2022_27",
          "2022_28",
          "2022_29",
          "2022_30",
          "2022_31",
          "2022_32",
          "2022_33",
          "2022_34",
          "2022_35",
          "2022_36",
          "2022_37",
          "2022_39",
          "2022_40",
          "2022_41",
          "2022_52"
         ],
         "xaxis": "x",
         "y": [
          0.13579685776239203,
          0.14835817258883263,
          0.13267792574097206,
          0.17048654244306416,
          0.1692687838884586,
          0.15554685925428285,
          0.1607060915962651,
          0.15549474165523547,
          0.1465088607594938,
          0.150661407579273,
          0.1637266332856462,
          0.1540508859609268,
          0.13725071538630862,
          0.15800679560899114,
          0.13526796225357368,
          0.1318942292454328,
          0.15529873060648802,
          0.15606570080862534,
          0.15210957278481013,
          0.1646984040623866,
          0.15399030424607163,
          0.13403138089919037,
          0.16434274393263995,
          0.15634551063484325,
          0.15242611380679313,
          0.13867760969853019,
          0.15883509799504392,
          0.16281583661769972,
          0.1626973626693865,
          0.12882567264574013,
          0.1624153247450348,
          0.15335722543352603,
          0.1454269580522147,
          0.13189299953639305,
          0.12730533295048183,
          0.14577693904510278,
          0.1526812421668291,
          0.152935960591133,
          0.1541346153846153,
          0.15220457504184484,
          0.15680589022757704,
          0.16390517241379313,
          0.1628424657534247,
          0.1541100917431193,
          0.16633677298311442
         ],
         "yaxis": "y"
        },
        {
         "hovertemplate": "variable=avg_polarity<br>date=%{x}<br>value=%{y}<extra></extra>",
         "legendgroup": "avg_polarity",
         "line": {
          "color": "#EF553B",
          "dash": "solid"
         },
         "marker": {
          "symbol": "circle"
         },
         "mode": "lines",
         "name": "avg_polarity",
         "orientation": "v",
         "showlegend": true,
         "type": "scatter",
         "x": [
          "2021_43",
          "2021_44",
          "2021_49",
          "2021_50",
          "2021_51",
          "2021_52",
          "2022_1",
          "2022_2",
          "2022_3",
          "2022_4",
          "2022_5",
          "2022_6",
          "2022_7",
          "2022_8",
          "2022_9",
          "2022_10",
          "2022_11",
          "2022_12",
          "2022_13",
          "2022_15",
          "2022_16",
          "2022_17",
          "2022_18",
          "2022_19",
          "2022_20",
          "2022_21",
          "2022_22",
          "2022_24",
          "2022_25",
          "2022_26",
          "2022_27",
          "2022_28",
          "2022_29",
          "2022_30",
          "2022_31",
          "2022_32",
          "2022_33",
          "2022_34",
          "2022_35",
          "2022_36",
          "2022_37",
          "2022_39",
          "2022_40",
          "2022_41",
          "2022_52"
         ],
         "xaxis": "x",
         "y": [
          0.1321286547851268,
          0.17504784745235608,
          0.12458217613899228,
          0.21900832773953607,
          0.23130699244369005,
          0.1784599628010648,
          0.22016037234057448,
          0.20505601164398884,
          0.20549714446568637,
          0.18304912304298604,
          0.19857426341639084,
          0.1876224262925438,
          0.1399369040245824,
          0.1893737599898138,
          0.11571669573441729,
          0.12212533719414134,
          0.19734374957684594,
          0.20634897950238248,
          0.20067825923222932,
          0.21289402789915352,
          0.20426527690552798,
          0.12974164233533259,
          0.21219976397545173,
          0.2083741915107819,
          0.1984620666493617,
          0.1480176317955395,
          0.20624823643883977,
          0.18683730734589224,
          0.21483704531764833,
          0.11349913877755785,
          0.20740099020973027,
          0.20439251406670716,
          0.18807927185564646,
          0.10999190101792304,
          0.1193759331177284,
          0.19041378190871144,
          0.19278031246594277,
          0.19510583066635584,
          0.1994411717752256,
          0.1902390852853966,
          0.20168679900745223,
          0.24069257291240048,
          0.19366512415634846,
          0.20184264512061995,
          0.20517113504526627
         ],
         "yaxis": "y"
        }
       ],
       "layout": {
        "autosize": true,
        "legend": {
         "title": {
          "text": "variable"
         },
         "tracegroupgap": 0
        },
        "margin": {
         "t": 60
        },
        "template": {
         "data": {
          "bar": [
           {
            "error_x": {
             "color": "#2a3f5f"
            },
            "error_y": {
             "color": "#2a3f5f"
            },
            "marker": {
             "line": {
              "color": "#E5ECF6",
              "width": 0.5
             },
             "pattern": {
              "fillmode": "overlay",
              "size": 10,
              "solidity": 0.2
             }
            },
            "type": "bar"
           }
          ],
          "barpolar": [
           {
            "marker": {
             "line": {
              "color": "#E5ECF6",
              "width": 0.5
             },
             "pattern": {
              "fillmode": "overlay",
              "size": 10,
              "solidity": 0.2
             }
            },
            "type": "barpolar"
           }
          ],
          "carpet": [
           {
            "aaxis": {
             "endlinecolor": "#2a3f5f",
             "gridcolor": "white",
             "linecolor": "white",
             "minorgridcolor": "white",
             "startlinecolor": "#2a3f5f"
            },
            "baxis": {
             "endlinecolor": "#2a3f5f",
             "gridcolor": "white",
             "linecolor": "white",
             "minorgridcolor": "white",
             "startlinecolor": "#2a3f5f"
            },
            "type": "carpet"
           }
          ],
          "choropleth": [
           {
            "colorbar": {
             "outlinewidth": 0,
             "ticks": ""
            },
            "type": "choropleth"
           }
          ],
          "contour": [
           {
            "colorbar": {
             "outlinewidth": 0,
             "ticks": ""
            },
            "colorscale": [
             [
              0,
              "#0d0887"
             ],
             [
              0.1111111111111111,
              "#46039f"
             ],
             [
              0.2222222222222222,
              "#7201a8"
             ],
             [
              0.3333333333333333,
              "#9c179e"
             ],
             [
              0.4444444444444444,
              "#bd3786"
             ],
             [
              0.5555555555555556,
              "#d8576b"
             ],
             [
              0.6666666666666666,
              "#ed7953"
             ],
             [
              0.7777777777777778,
              "#fb9f3a"
             ],
             [
              0.8888888888888888,
              "#fdca26"
             ],
             [
              1,
              "#f0f921"
             ]
            ],
            "type": "contour"
           }
          ],
          "contourcarpet": [
           {
            "colorbar": {
             "outlinewidth": 0,
             "ticks": ""
            },
            "type": "contourcarpet"
           }
          ],
          "heatmap": [
           {
            "colorbar": {
             "outlinewidth": 0,
             "ticks": ""
            },
            "colorscale": [
             [
              0,
              "#0d0887"
             ],
             [
              0.1111111111111111,
              "#46039f"
             ],
             [
              0.2222222222222222,
              "#7201a8"
             ],
             [
              0.3333333333333333,
              "#9c179e"
             ],
             [
              0.4444444444444444,
              "#bd3786"
             ],
             [
              0.5555555555555556,
              "#d8576b"
             ],
             [
              0.6666666666666666,
              "#ed7953"
             ],
             [
              0.7777777777777778,
              "#fb9f3a"
             ],
             [
              0.8888888888888888,
              "#fdca26"
             ],
             [
              1,
              "#f0f921"
             ]
            ],
            "type": "heatmap"
           }
          ],
          "heatmapgl": [
           {
            "colorbar": {
             "outlinewidth": 0,
             "ticks": ""
            },
            "colorscale": [
             [
              0,
              "#0d0887"
             ],
             [
              0.1111111111111111,
              "#46039f"
             ],
             [
              0.2222222222222222,
              "#7201a8"
             ],
             [
              0.3333333333333333,
              "#9c179e"
             ],
             [
              0.4444444444444444,
              "#bd3786"
             ],
             [
              0.5555555555555556,
              "#d8576b"
             ],
             [
              0.6666666666666666,
              "#ed7953"
             ],
             [
              0.7777777777777778,
              "#fb9f3a"
             ],
             [
              0.8888888888888888,
              "#fdca26"
             ],
             [
              1,
              "#f0f921"
             ]
            ],
            "type": "heatmapgl"
           }
          ],
          "histogram": [
           {
            "marker": {
             "pattern": {
              "fillmode": "overlay",
              "size": 10,
              "solidity": 0.2
             }
            },
            "type": "histogram"
           }
          ],
          "histogram2d": [
           {
            "colorbar": {
             "outlinewidth": 0,
             "ticks": ""
            },
            "colorscale": [
             [
              0,
              "#0d0887"
             ],
             [
              0.1111111111111111,
              "#46039f"
             ],
             [
              0.2222222222222222,
              "#7201a8"
             ],
             [
              0.3333333333333333,
              "#9c179e"
             ],
             [
              0.4444444444444444,
              "#bd3786"
             ],
             [
              0.5555555555555556,
              "#d8576b"
             ],
             [
              0.6666666666666666,
              "#ed7953"
             ],
             [
              0.7777777777777778,
              "#fb9f3a"
             ],
             [
              0.8888888888888888,
              "#fdca26"
             ],
             [
              1,
              "#f0f921"
             ]
            ],
            "type": "histogram2d"
           }
          ],
          "histogram2dcontour": [
           {
            "colorbar": {
             "outlinewidth": 0,
             "ticks": ""
            },
            "colorscale": [
             [
              0,
              "#0d0887"
             ],
             [
              0.1111111111111111,
              "#46039f"
             ],
             [
              0.2222222222222222,
              "#7201a8"
             ],
             [
              0.3333333333333333,
              "#9c179e"
             ],
             [
              0.4444444444444444,
              "#bd3786"
             ],
             [
              0.5555555555555556,
              "#d8576b"
             ],
             [
              0.6666666666666666,
              "#ed7953"
             ],
             [
              0.7777777777777778,
              "#fb9f3a"
             ],
             [
              0.8888888888888888,
              "#fdca26"
             ],
             [
              1,
              "#f0f921"
             ]
            ],
            "type": "histogram2dcontour"
           }
          ],
          "mesh3d": [
           {
            "colorbar": {
             "outlinewidth": 0,
             "ticks": ""
            },
            "type": "mesh3d"
           }
          ],
          "parcoords": [
           {
            "line": {
             "colorbar": {
              "outlinewidth": 0,
              "ticks": ""
             }
            },
            "type": "parcoords"
           }
          ],
          "pie": [
           {
            "automargin": true,
            "type": "pie"
           }
          ],
          "scatter": [
           {
            "fillpattern": {
             "fillmode": "overlay",
             "size": 10,
             "solidity": 0.2
            },
            "type": "scatter"
           }
          ],
          "scatter3d": [
           {
            "line": {
             "colorbar": {
              "outlinewidth": 0,
              "ticks": ""
             }
            },
            "marker": {
             "colorbar": {
              "outlinewidth": 0,
              "ticks": ""
             }
            },
            "type": "scatter3d"
           }
          ],
          "scattercarpet": [
           {
            "marker": {
             "colorbar": {
              "outlinewidth": 0,
              "ticks": ""
             }
            },
            "type": "scattercarpet"
           }
          ],
          "scattergeo": [
           {
            "marker": {
             "colorbar": {
              "outlinewidth": 0,
              "ticks": ""
             }
            },
            "type": "scattergeo"
           }
          ],
          "scattergl": [
           {
            "marker": {
             "colorbar": {
              "outlinewidth": 0,
              "ticks": ""
             }
            },
            "type": "scattergl"
           }
          ],
          "scattermapbox": [
           {
            "marker": {
             "colorbar": {
              "outlinewidth": 0,
              "ticks": ""
             }
            },
            "type": "scattermapbox"
           }
          ],
          "scatterpolar": [
           {
            "marker": {
             "colorbar": {
              "outlinewidth": 0,
              "ticks": ""
             }
            },
            "type": "scatterpolar"
           }
          ],
          "scatterpolargl": [
           {
            "marker": {
             "colorbar": {
              "outlinewidth": 0,
              "ticks": ""
             }
            },
            "type": "scatterpolargl"
           }
          ],
          "scatterternary": [
           {
            "marker": {
             "colorbar": {
              "outlinewidth": 0,
              "ticks": ""
             }
            },
            "type": "scatterternary"
           }
          ],
          "surface": [
           {
            "colorbar": {
             "outlinewidth": 0,
             "ticks": ""
            },
            "colorscale": [
             [
              0,
              "#0d0887"
             ],
             [
              0.1111111111111111,
              "#46039f"
             ],
             [
              0.2222222222222222,
              "#7201a8"
             ],
             [
              0.3333333333333333,
              "#9c179e"
             ],
             [
              0.4444444444444444,
              "#bd3786"
             ],
             [
              0.5555555555555556,
              "#d8576b"
             ],
             [
              0.6666666666666666,
              "#ed7953"
             ],
             [
              0.7777777777777778,
              "#fb9f3a"
             ],
             [
              0.8888888888888888,
              "#fdca26"
             ],
             [
              1,
              "#f0f921"
             ]
            ],
            "type": "surface"
           }
          ],
          "table": [
           {
            "cells": {
             "fill": {
              "color": "#EBF0F8"
             },
             "line": {
              "color": "white"
             }
            },
            "header": {
             "fill": {
              "color": "#C8D4E3"
             },
             "line": {
              "color": "white"
             }
            },
            "type": "table"
           }
          ]
         },
         "layout": {
          "annotationdefaults": {
           "arrowcolor": "#2a3f5f",
           "arrowhead": 0,
           "arrowwidth": 1
          },
          "autotypenumbers": "strict",
          "coloraxis": {
           "colorbar": {
            "outlinewidth": 0,
            "ticks": ""
           }
          },
          "colorscale": {
           "diverging": [
            [
             0,
             "#8e0152"
            ],
            [
             0.1,
             "#c51b7d"
            ],
            [
             0.2,
             "#de77ae"
            ],
            [
             0.3,
             "#f1b6da"
            ],
            [
             0.4,
             "#fde0ef"
            ],
            [
             0.5,
             "#f7f7f7"
            ],
            [
             0.6,
             "#e6f5d0"
            ],
            [
             0.7,
             "#b8e186"
            ],
            [
             0.8,
             "#7fbc41"
            ],
            [
             0.9,
             "#4d9221"
            ],
            [
             1,
             "#276419"
            ]
           ],
           "sequential": [
            [
             0,
             "#0d0887"
            ],
            [
             0.1111111111111111,
             "#46039f"
            ],
            [
             0.2222222222222222,
             "#7201a8"
            ],
            [
             0.3333333333333333,
             "#9c179e"
            ],
            [
             0.4444444444444444,
             "#bd3786"
            ],
            [
             0.5555555555555556,
             "#d8576b"
            ],
            [
             0.6666666666666666,
             "#ed7953"
            ],
            [
             0.7777777777777778,
             "#fb9f3a"
            ],
            [
             0.8888888888888888,
             "#fdca26"
            ],
            [
             1,
             "#f0f921"
            ]
           ],
           "sequentialminus": [
            [
             0,
             "#0d0887"
            ],
            [
             0.1111111111111111,
             "#46039f"
            ],
            [
             0.2222222222222222,
             "#7201a8"
            ],
            [
             0.3333333333333333,
             "#9c179e"
            ],
            [
             0.4444444444444444,
             "#bd3786"
            ],
            [
             0.5555555555555556,
             "#d8576b"
            ],
            [
             0.6666666666666666,
             "#ed7953"
            ],
            [
             0.7777777777777778,
             "#fb9f3a"
            ],
            [
             0.8888888888888888,
             "#fdca26"
            ],
            [
             1,
             "#f0f921"
            ]
           ]
          },
          "colorway": [
           "#636efa",
           "#EF553B",
           "#00cc96",
           "#ab63fa",
           "#FFA15A",
           "#19d3f3",
           "#FF6692",
           "#B6E880",
           "#FF97FF",
           "#FECB52"
          ],
          "font": {
           "color": "#2a3f5f"
          },
          "geo": {
           "bgcolor": "white",
           "lakecolor": "white",
           "landcolor": "#E5ECF6",
           "showlakes": true,
           "showland": true,
           "subunitcolor": "white"
          },
          "hoverlabel": {
           "align": "left"
          },
          "hovermode": "closest",
          "mapbox": {
           "style": "light"
          },
          "paper_bgcolor": "white",
          "plot_bgcolor": "#E5ECF6",
          "polar": {
           "angularaxis": {
            "gridcolor": "white",
            "linecolor": "white",
            "ticks": ""
           },
           "bgcolor": "#E5ECF6",
           "radialaxis": {
            "gridcolor": "white",
            "linecolor": "white",
            "ticks": ""
           }
          },
          "scene": {
           "xaxis": {
            "backgroundcolor": "#E5ECF6",
            "gridcolor": "white",
            "gridwidth": 2,
            "linecolor": "white",
            "showbackground": true,
            "ticks": "",
            "zerolinecolor": "white"
           },
           "yaxis": {
            "backgroundcolor": "#E5ECF6",
            "gridcolor": "white",
            "gridwidth": 2,
            "linecolor": "white",
            "showbackground": true,
            "ticks": "",
            "zerolinecolor": "white"
           },
           "zaxis": {
            "backgroundcolor": "#E5ECF6",
            "gridcolor": "white",
            "gridwidth": 2,
            "linecolor": "white",
            "showbackground": true,
            "ticks": "",
            "zerolinecolor": "white"
           }
          },
          "shapedefaults": {
           "line": {
            "color": "#2a3f5f"
           }
          },
          "ternary": {
           "aaxis": {
            "gridcolor": "white",
            "linecolor": "white",
            "ticks": ""
           },
           "baxis": {
            "gridcolor": "white",
            "linecolor": "white",
            "ticks": ""
           },
           "bgcolor": "#E5ECF6",
           "caxis": {
            "gridcolor": "white",
            "linecolor": "white",
            "ticks": ""
           }
          },
          "title": {
           "x": 0.05
          },
          "xaxis": {
           "automargin": true,
           "gridcolor": "white",
           "linecolor": "white",
           "ticks": "",
           "title": {
            "standoff": 15
           },
           "zerolinecolor": "white",
           "zerolinewidth": 2
          },
          "yaxis": {
           "automargin": true,
           "gridcolor": "white",
           "linecolor": "white",
           "ticks": "",
           "title": {
            "standoff": 15
           },
           "zerolinecolor": "white",
           "zerolinewidth": 2
          }
         }
        },
        "title": {
         "text": "Sentiment over time ",
         "x": 0.5
        },
        "xaxis": {
         "anchor": "y",
         "autorange": true,
         "domain": [
          0,
          1
         ],
         "range": [
          0,
          44
         ],
         "title": {
          "text": "<b>Date</b>"
         },
         "type": "category"
        },
        "yaxis": {
         "anchor": "x",
         "autorange": true,
         "domain": [
          0,
          1
         ],
         "range": [
          0.10273075257934096,
          0.24795372135098256
         ],
         "title": {
          "text": "<b>Sentiment</b>"
         },
         "type": "linear"
        }
       }
      },
      "image/png": "[encoded data removed]",
      "text/html": [
       "<div>                            <div id=\"f4385436-7ae1-402f-a3b1-37ca8216bd0c\" class=\"plotly-graph-div\" style=\"height:525px; width:100%;\"></div>            <script type=\"text/javascript\">                require([\"plotly\"], function(Plotly) {                    window.PLOTLYENV=window.PLOTLYENV || {};                                    if (document.getElementById(\"f4385436-7ae1-402f-a3b1-37ca8216bd0c\")) {                    Plotly.newPlot(                        \"f4385436-7ae1-402f-a3b1-37ca8216bd0c\",                        [{\"hovertemplate\":\"variable=avg_sentiment_vader<br>date=%{x}<br>value=%{y}<extra></extra>\",\"legendgroup\":\"avg_sentiment_vader\",\"line\":{\"color\":\"#636efa\",\"dash\":\"solid\"},\"marker\":{\"symbol\":\"circle\"},\"mode\":\"lines\",\"name\":\"avg_sentiment_vader\",\"orientation\":\"v\",\"showlegend\":true,\"x\":[\"2021_43\",\"2021_44\",\"2021_49\",\"2021_50\",\"2021_51\",\"2021_52\",\"2022_1\",\"2022_2\",\"2022_3\",\"2022_4\",\"2022_5\",\"2022_6\",\"2022_7\",\"2022_8\",\"2022_9\",\"2022_10\",\"2022_11\",\"2022_12\",\"2022_13\",\"2022_15\",\"2022_16\",\"2022_17\",\"2022_18\",\"2022_19\",\"2022_20\",\"2022_21\",\"2022_22\",\"2022_24\",\"2022_25\",\"2022_26\",\"2022_27\",\"2022_28\",\"2022_29\",\"2022_30\",\"2022_31\",\"2022_32\",\"2022_33\",\"2022_34\",\"2022_35\",\"2022_36\",\"2022_37\",\"2022_39\",\"2022_40\",\"2022_41\",\"2022_52\"],\"xaxis\":\"x\",\"y\":[0.13579685776239203,0.14835817258883263,0.13267792574097206,0.17048654244306416,0.1692687838884586,0.15554685925428285,0.1607060915962651,0.15549474165523547,0.1465088607594938,0.150661407579273,0.1637266332856462,0.1540508859609268,0.13725071538630862,0.15800679560899114,0.13526796225357368,0.1318942292454328,0.15529873060648802,0.15606570080862534,0.15210957278481013,0.1646984040623866,0.15399030424607163,0.13403138089919037,0.16434274393263995,0.15634551063484325,0.15242611380679313,0.13867760969853019,0.15883509799504392,0.16281583661769972,0.1626973626693865,0.12882567264574013,0.1624153247450348,0.15335722543352603,0.1454269580522147,0.13189299953639305,0.12730533295048183,0.14577693904510278,0.1526812421668291,0.152935960591133,0.1541346153846153,0.15220457504184484,0.15680589022757704,0.16390517241379313,0.1628424657534247,0.1541100917431193,0.16633677298311442],\"yaxis\":\"y\",\"type\":\"scatter\"},{\"hovertemplate\":\"variable=avg_polarity<br>date=%{x}<br>value=%{y}<extra></extra>\",\"legendgroup\":\"avg_polarity\",\"line\":{\"color\":\"#EF553B\",\"dash\":\"solid\"},\"marker\":{\"symbol\":\"circle\"},\"mode\":\"lines\",\"name\":\"avg_polarity\",\"orientation\":\"v\",\"showlegend\":true,\"x\":[\"2021_43\",\"2021_44\",\"2021_49\",\"2021_50\",\"2021_51\",\"2021_52\",\"2022_1\",\"2022_2\",\"2022_3\",\"2022_4\",\"2022_5\",\"2022_6\",\"2022_7\",\"2022_8\",\"2022_9\",\"2022_10\",\"2022_11\",\"2022_12\",\"2022_13\",\"2022_15\",\"2022_16\",\"2022_17\",\"2022_18\",\"2022_19\",\"2022_20\",\"2022_21\",\"2022_22\",\"2022_24\",\"2022_25\",\"2022_26\",\"2022_27\",\"2022_28\",\"2022_29\",\"2022_30\",\"2022_31\",\"2022_32\",\"2022_33\",\"2022_34\",\"2022_35\",\"2022_36\",\"2022_37\",\"2022_39\",\"2022_40\",\"2022_41\",\"2022_52\"],\"xaxis\":\"x\",\"y\":[0.1321286547851268,0.17504784745235608,0.12458217613899228,0.21900832773953607,0.23130699244369005,0.1784599628010648,0.22016037234057448,0.20505601164398884,0.20549714446568637,0.18304912304298604,0.19857426341639084,0.1876224262925438,0.1399369040245824,0.1893737599898138,0.11571669573441729,0.12212533719414134,0.19734374957684594,0.20634897950238248,0.20067825923222932,0.21289402789915352,0.20426527690552798,0.12974164233533259,0.21219976397545173,0.2083741915107819,0.1984620666493617,0.1480176317955395,0.20624823643883977,0.18683730734589224,0.21483704531764833,0.11349913877755785,0.20740099020973027,0.20439251406670716,0.18807927185564646,0.10999190101792304,0.1193759331177284,0.19041378190871144,0.19278031246594277,0.19510583066635584,0.1994411717752256,0.1902390852853966,0.20168679900745223,0.24069257291240048,0.19366512415634846,0.20184264512061995,0.20517113504526627],\"yaxis\":\"y\",\"type\":\"scatter\"}],                        {\"template\":{\"data\":{\"histogram2dcontour\":[{\"type\":\"histogram2dcontour\",\"colorbar\":{\"outlinewidth\":0,\"ticks\":\"\"},\"colorscale\":[[0.0,\"#0d0887\"],[0.1111111111111111,\"#46039f\"],[0.2222222222222222,\"#7201a8\"],[0.3333333333333333,\"#9c179e\"],[0.4444444444444444,\"#bd3786\"],[0.5555555555555556,\"#d8576b\"],[0.6666666666666666,\"#ed7953\"],[0.7777777777777778,\"#fb9f3a\"],[0.8888888888888888,\"#fdca26\"],[1.0,\"#f0f921\"]]}],\"choropleth\":[{\"type\":\"choropleth\",\"colorbar\":{\"outlinewidth\":0,\"ticks\":\"\"}}],\"histogram2d\":[{\"type\":\"histogram2d\",\"colorbar\":{\"outlinewidth\":0,\"ticks\":\"\"},\"colorscale\":[[0.0,\"#0d0887\"],[0.1111111111111111,\"#46039f\"],[0.2222222222222222,\"#7201a8\"],[0.3333333333333333,\"#9c179e\"],[0.4444444444444444,\"#bd3786\"],[0.5555555555555556,\"#d8576b\"],[0.6666666666666666,\"#ed7953\"],[0.7777777777777778,\"#fb9f3a\"],[0.8888888888888888,\"#fdca26\"],[1.0,\"#f0f921\"]]}],\"heatmap\":[{\"type\":\"heatmap\",\"colorbar\":{\"outlinewidth\":0,\"ticks\":\"\"},\"colorscale\":[[0.0,\"#0d0887\"],[0.1111111111111111,\"#46039f\"],[0.2222222222222222,\"#7201a8\"],[0.3333333333333333,\"#9c179e\"],[0.4444444444444444,\"#bd3786\"],[0.5555555555555556,\"#d8576b\"],[0.6666666666666666,\"#ed7953\"],[0.7777777777777778,\"#fb9f3a\"],[0.8888888888888888,\"#fdca26\"],[1.0,\"#f0f921\"]]}],\"heatmapgl\":[{\"type\":\"heatmapgl\",\"colorbar\":{\"outlinewidth\":0,\"ticks\":\"\"},\"colorscale\":[[0.0,\"#0d0887\"],[0.1111111111111111,\"#46039f\"],[0.2222222222222222,\"#7201a8\"],[0.3333333333333333,\"#9c179e\"],[0.4444444444444444,\"#bd3786\"],[0.5555555555555556,\"#d8576b\"],[0.6666666666666666,\"#ed7953\"],[0.7777777777777778,\"#fb9f3a\"],[0.8888888888888888,\"#fdca26\"],[1.0,\"#f0f921\"]]}],\"contourcarpet\":[{\"type\":\"contourcarpet\",\"colorbar\":{\"outlinewidth\":0,\"ticks\":\"\"}}],\"contour\":[{\"type\":\"contour\",\"colorbar\":{\"outlinewidth\":0,\"ticks\":\"\"},\"colorscale\":[[0.0,\"#0d0887\"],[0.1111111111111111,\"#46039f\"],[0.2222222222222222,\"#7201a8\"],[0.3333333333333333,\"#9c179e\"],[0.4444444444444444,\"#bd3786\"],[0.5555555555555556,\"#d8576b\"],[0.6666666666666666,\"#ed7953\"],[0.7777777777777778,\"#fb9f3a\"],[0.8888888888888888,\"#fdca26\"],[1.0,\"#f0f921\"]]}],\"surface\":[{\"type\":\"surface\",\"colorbar\":{\"outlinewidth\":0,\"ticks\":\"\"},\"colorscale\":[[0.0,\"#0d0887\"],[0.1111111111111111,\"#46039f\"],[0.2222222222222222,\"#7201a8\"],[0.3333333333333333,\"#9c179e\"],[0.4444444444444444,\"#bd3786\"],[0.5555555555555556,\"#d8576b\"],[0.6666666666666666,\"#ed7953\"],[0.7777777777777778,\"#fb9f3a\"],[0.8888888888888888,\"#fdca26\"],[1.0,\"#f0f921\"]]}],\"mesh3d\":[{\"type\":\"mesh3d\",\"colorbar\":{\"outlinewidth\":0,\"ticks\":\"\"}}],\"scatter\":[{\"fillpattern\":{\"fillmode\":\"overlay\",\"size\":10,\"solidity\":0.2},\"type\":\"scatter\"}],\"parcoords\":[{\"type\":\"parcoords\",\"line\":{\"colorbar\":{\"outlinewidth\":0,\"ticks\":\"\"}}}],\"scatterpolargl\":[{\"type\":\"scatterpolargl\",\"marker\":{\"colorbar\":{\"outlinewidth\":0,\"ticks\":\"\"}}}],\"bar\":[{\"error_x\":{\"color\":\"#2a3f5f\"},\"error_y\":{\"color\":\"#2a3f5f\"},\"marker\":{\"line\":{\"color\":\"#E5ECF6\",\"width\":0.5},\"pattern\":{\"fillmode\":\"overlay\",\"size\":10,\"solidity\":0.2}},\"type\":\"bar\"}],\"scattergeo\":[{\"type\":\"scattergeo\",\"marker\":{\"colorbar\":{\"outlinewidth\":0,\"ticks\":\"\"}}}],\"scatterpolar\":[{\"type\":\"scatterpolar\",\"marker\":{\"colorbar\":{\"outlinewidth\":0,\"ticks\":\"\"}}}],\"histogram\":[{\"marker\":{\"pattern\":{\"fillmode\":\"overlay\",\"size\":10,\"solidity\":0.2}},\"type\":\"histogram\"}],\"scattergl\":[{\"type\":\"scattergl\",\"marker\":{\"colorbar\":{\"outlinewidth\":0,\"ticks\":\"\"}}}],\"scatter3d\":[{\"type\":\"scatter3d\",\"line\":{\"colorbar\":{\"outlinewidth\":0,\"ticks\":\"\"}},\"marker\":{\"colorbar\":{\"outlinewidth\":0,\"ticks\":\"\"}}}],\"scattermapbox\":[{\"type\":\"scattermapbox\",\"marker\":{\"colorbar\":{\"outlinewidth\":0,\"ticks\":\"\"}}}],\"scatterternary\":[{\"type\":\"scatterternary\",\"marker\":{\"colorbar\":{\"outlinewidth\":0,\"ticks\":\"\"}}}],\"scattercarpet\":[{\"type\":\"scattercarpet\",\"marker\":{\"colorbar\":{\"outlinewidth\":0,\"ticks\":\"\"}}}],\"carpet\":[{\"aaxis\":{\"endlinecolor\":\"#2a3f5f\",\"gridcolor\":\"white\",\"linecolor\":\"white\",\"minorgridcolor\":\"white\",\"startlinecolor\":\"#2a3f5f\"},\"baxis\":{\"endlinecolor\":\"#2a3f5f\",\"gridcolor\":\"white\",\"linecolor\":\"white\",\"minorgridcolor\":\"white\",\"startlinecolor\":\"#2a3f5f\"},\"type\":\"carpet\"}],\"table\":[{\"cells\":{\"fill\":{\"color\":\"#EBF0F8\"},\"line\":{\"color\":\"white\"}},\"header\":{\"fill\":{\"color\":\"#C8D4E3\"},\"line\":{\"color\":\"white\"}},\"type\":\"table\"}],\"barpolar\":[{\"marker\":{\"line\":{\"color\":\"#E5ECF6\",\"width\":0.5},\"pattern\":{\"fillmode\":\"overlay\",\"size\":10,\"solidity\":0.2}},\"type\":\"barpolar\"}],\"pie\":[{\"automargin\":true,\"type\":\"pie\"}]},\"layout\":{\"autotypenumbers\":\"strict\",\"colorway\":[\"#636efa\",\"#EF553B\",\"#00cc96\",\"#ab63fa\",\"#FFA15A\",\"#19d3f3\",\"#FF6692\",\"#B6E880\",\"#FF97FF\",\"#FECB52\"],\"font\":{\"color\":\"#2a3f5f\"},\"hovermode\":\"closest\",\"hoverlabel\":{\"align\":\"left\"},\"paper_bgcolor\":\"white\",\"plot_bgcolor\":\"#E5ECF6\",\"polar\":{\"bgcolor\":\"#E5ECF6\",\"angularaxis\":{\"gridcolor\":\"white\",\"linecolor\":\"white\",\"ticks\":\"\"},\"radialaxis\":{\"gridcolor\":\"white\",\"linecolor\":\"white\",\"ticks\":\"\"}},\"ternary\":{\"bgcolor\":\"#E5ECF6\",\"aaxis\":{\"gridcolor\":\"white\",\"linecolor\":\"white\",\"ticks\":\"\"},\"baxis\":{\"gridcolor\":\"white\",\"linecolor\":\"white\",\"ticks\":\"\"},\"caxis\":{\"gridcolor\":\"white\",\"linecolor\":\"white\",\"ticks\":\"\"}},\"coloraxis\":{\"colorbar\":{\"outlinewidth\":0,\"ticks\":\"\"}},\"colorscale\":{\"sequential\":[[0.0,\"#0d0887\"],[0.1111111111111111,\"#46039f\"],[0.2222222222222222,\"#7201a8\"],[0.3333333333333333,\"#9c179e\"],[0.4444444444444444,\"#bd3786\"],[0.5555555555555556,\"#d8576b\"],[0.6666666666666666,\"#ed7953\"],[0.7777777777777778,\"#fb9f3a\"],[0.8888888888888888,\"#fdca26\"],[1.0,\"#f0f921\"]],\"sequentialminus\":[[0.0,\"#0d0887\"],[0.1111111111111111,\"#46039f\"],[0.2222222222222222,\"#7201a8\"],[0.3333333333333333,\"#9c179e\"],[0.4444444444444444,\"#bd3786\"],[0.5555555555555556,\"#d8576b\"],[0.6666666666666666,\"#ed7953\"],[0.7777777777777778,\"#fb9f3a\"],[0.8888888888888888,\"#fdca26\"],[1.0,\"#f0f921\"]],\"diverging\":[[0,\"#8e0152\"],[0.1,\"#c51b7d\"],[0.2,\"#de77ae\"],[0.3,\"#f1b6da\"],[0.4,\"#fde0ef\"],[0.5,\"#f7f7f7\"],[0.6,\"#e6f5d0\"],[0.7,\"#b8e186\"],[0.8,\"#7fbc41\"],[0.9,\"#4d9221\"],[1,\"#276419\"]]},\"xaxis\":{\"gridcolor\":\"white\",\"linecolor\":\"white\",\"ticks\":\"\",\"title\":{\"standoff\":15},\"zerolinecolor\":\"white\",\"automargin\":true,\"zerolinewidth\":2},\"yaxis\":{\"gridcolor\":\"white\",\"linecolor\":\"white\",\"ticks\":\"\",\"title\":{\"standoff\":15},\"zerolinecolor\":\"white\",\"automargin\":true,\"zerolinewidth\":2},\"scene\":{\"xaxis\":{\"backgroundcolor\":\"#E5ECF6\",\"gridcolor\":\"white\",\"linecolor\":\"white\",\"showbackground\":true,\"ticks\":\"\",\"zerolinecolor\":\"white\",\"gridwidth\":2},\"yaxis\":{\"backgroundcolor\":\"#E5ECF6\",\"gridcolor\":\"white\",\"linecolor\":\"white\",\"showbackground\":true,\"ticks\":\"\",\"zerolinecolor\":\"white\",\"gridwidth\":2},\"zaxis\":{\"backgroundcolor\":\"#E5ECF6\",\"gridcolor\":\"white\",\"linecolor\":\"white\",\"showbackground\":true,\"ticks\":\"\",\"zerolinecolor\":\"white\",\"gridwidth\":2}},\"shapedefaults\":{\"line\":{\"color\":\"#2a3f5f\"}},\"annotationdefaults\":{\"arrowcolor\":\"#2a3f5f\",\"arrowhead\":0,\"arrowwidth\":1},\"geo\":{\"bgcolor\":\"white\",\"landcolor\":\"#E5ECF6\",\"subunitcolor\":\"white\",\"showland\":true,\"showlakes\":true,\"lakecolor\":\"white\"},\"title\":{\"x\":0.05},\"mapbox\":{\"style\":\"light\"}}},\"xaxis\":{\"anchor\":\"y\",\"domain\":[0.0,1.0],\"title\":{\"text\":\"<b>Date</b>\"}},\"yaxis\":{\"anchor\":\"x\",\"domain\":[0.0,1.0],\"title\":{\"text\":\"<b>Sentiment</b>\"}},\"legend\":{\"title\":{\"text\":\"variable\"},\"tracegroupgap\":0},\"margin\":{\"t\":60},\"title\":{\"text\":\"Sentiment over time \",\"x\":0.5}},                        {\"responsive\": true}                    ).then(function(){\n",
       "                            \n",
       "var gd = document.getElementById('f4385436-7ae1-402f-a3b1-37ca8216bd0c');\n",
       "var x = new MutationObserver(function (mutations, observer) {{\n",
       "        var display = window.getComputedStyle(gd).display;\n",
       "        if (!display || display === 'none') {{\n",
       "            console.log([gd, 'removed!']);\n",
       "            Plotly.purge(gd);\n",
       "            observer.disconnect();\n",
       "        }}\n",
       "}});\n",
       "\n",
       "// Listen for the removal of the full notebook cells\n",
       "var notebookContainer = gd.closest('#notebook-container');\n",
       "if (notebookContainer) {{\n",
       "    x.observe(notebookContainer, {childList: true});\n",
       "}}\n",
       "\n",
       "// Listen for the clearing of the current output cell\n",
       "var outputEl = gd.closest('.output');\n",
       "if (outputEl) {{\n",
       "    x.observe(outputEl, {childList: true});\n",
       "}}\n",
       "\n",
       "                        })                };                });            </script>        </div>"
      ]
     },
     "metadata": {},
     "output_type": "display_data"
    }
   ],
   "source": [
    "fig = px.line(df_sentiment, x='date', y=df_sentiment.columns[1:3])\n",
    "\n",
    "    # Add figure title\n",
    "fig.update_layout(\n",
    "        title_text=\"Sentiment over time \",\n",
    "        title_x = 0.5\n",
    "    )\n",
    "\n",
    "    # add axes\n",
    "fig.update_xaxes(title_text=\"<b>Date</b>\")\n",
    "fig.update_yaxes(title_text=\"<b>Sentiment</b>\")\n",
    "\n",
    "fig.show()"
   ]
  },
  {
   "cell_type": "code",
   "execution_count": null,
   "id": "20f5e250-dd5d-4502-91be-fbbde560c517",
   "metadata": {},
   "outputs": [],
   "source": []
  },
  {
   "cell_type": "code",
   "execution_count": null,
   "id": "12b6467b-59b5-400a-a283-d5202421c176",
   "metadata": {},
   "outputs": [],
   "source": []
  },
  {
   "cell_type": "markdown",
   "id": "304df54e-b1d3-4938-8564-c53c2cd90e24",
   "metadata": {},
   "source": [
    "# 3. Translating to english (failed) \n",
    "\n",
    "\n"
   ]
  },
  {
   "cell_type": "markdown",
   "id": "603b2363-a8cf-4e81-a7f3-9c8207c09cd7",
   "metadata": {},
   "source": [
    "Tried multile translation packages: googletrans,translate, spraknlp.pretrained but we faced computational limitations, even on small dataset. Trying to work in spark gave us an imediate error (which ze communicated to the assistant). Below is our most effective approach but only works on really small datasets, but is no scalable to large datasets due to memory constraints on our personal computers"
   ]
  },
  {
   "cell_type": "markdown",
   "id": "bdb5eeae-d355-4794-bc01-f78b0e29fb2d",
   "metadata": {},
   "source": [
    "Methodology: \n",
    "- create a pyspark df for the non english tweets: non_english_df\n",
    "- convert this pyspark df to a pd df : non_english_df_pd \n",
    "- apply the googletrans function to this pandas df and apply the udf to the pyspark df to get the correct StructType \n",
    "- convert the non_english_df_pd back to a pyspark df using the StructType callend ndf \n",
    "- merge this non_english_df back to the twitter_df "
   ]
  },
  {
   "cell_type": "code",
   "execution_count": null,
   "id": "996a5aec-6c74-49eb-82f5-379da90203a8",
   "metadata": {},
   "outputs": [],
   "source": [
    "#only slect the non english tweets in the dataset \n",
    "non_english_df = twitter_df.filter(twitter_df.lang != 'en')\n",
    "non_english_df.count() \n",
    "\n",
    "#FIRST DO THE FOLLOWING PIP INSTALL \n",
    "#pip install googletrans-py\n",
    "from pprint import pprint\n",
    "from googletrans import Translator, constants\n",
    "\n",
    "translator = Translator() \n",
    "translation = translator.translate(\"nakamuraff これはパッと見では分からないですね💦\", dest='en')\n",
    "#print(f\"{translation.origin} ({translation.src}) --> {translation.text} ({translation.dest})\")\n",
    "\n",
    "\n",
    "def translate(tweet):\n",
    "    if len(tweet)!=0:\n",
    "        translator = Translator() \n",
    "        translation = translator.translate(tweet, dest = 'en')\n",
    "        return(translation.text)\n",
    "    return None\n",
    "\n",
    "translate_udf = F.udf(translate, StringType())\n",
    "#test if code works \n",
    "translate(\"alltså kan nyheterna kockarna tillaga nåt annat än carbssockerfylld sk mat enda gång carbworld ketolifestyle\")\n",
    "\n",
    "\n",
    "#this is used so the non_english has the correct StructType \n",
    "non_english_df =  non_english_df.withColumn('english_tweet', translate_udf('cleaned_text'))\n",
    "\n",
    "non_english_df_pd = non_english_df.toPandas()\n",
    "\n",
    "non_english_df_pd[\"english_tweet\"] = non_english_df_pd.apply(lambda x: translate(x['cleaned_text']), axis = 1)\n",
    "\n",
    "ndf = spark.createDataFrame(non_english_df_pd, schema=non_english_df.schema)\n",
    "\n",
    "#making sure the that the same StructType is present \n",
    "#dropping cleaned text \n",
    "ndf = ndf.drop('cleaned_text')\n",
    "#renaming english tweet to cleaned_text \n",
    "ndf = ndf.withColumnRenamed('english_tweet', 'cleaned_text')\n",
    "\n",
    "english_df = twitter_df.filter(twitter_df.lang == 'en') \n",
    "\n",
    "#merging the 2 dataframes back together\n",
    "twitter_df = english_df.union(ndf)\n"
   ]
  }
 ],
 "metadata": {
  "kernelspec": {
   "display_name": "Python 3 (ipykernel)",
   "language": "python",
   "name": "python3"
  },
  "language_info": {
   "codemirror_mode": {
    "name": "ipython",
    "version": 3
   },
   "file_extension": ".py",
   "mimetype": "text/x-python",
   "name": "python",
   "nbconvert_exporter": "python",
   "pygments_lexer": "ipython3",
   "version": "3.10.8"
  }
 },
 "nbformat": 4,
 "nbformat_minor": 5
}
